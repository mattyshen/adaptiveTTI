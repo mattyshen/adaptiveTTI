{
 "cells": [
  {
   "cell_type": "code",
   "execution_count": 5,
   "metadata": {
    "tags": []
   },
   "outputs": [
    {
     "name": "stderr",
     "output_type": "stream",
     "text": [
      "0it [00:00, ?it/s]\n"
     ]
    },
    {
     "ename": "ValueError",
     "evalue": "No objects to concatenate",
     "output_type": "error",
     "traceback": [
      "\u001b[0;31m---------------------------------------------------------------------------\u001b[0m",
      "\u001b[0;31mValueError\u001b[0m                                Traceback (most recent call last)",
      "Input \u001b[0;32mIn [5]\u001b[0m, in \u001b[0;36m<cell line: 33>\u001b[0;34m()\u001b[0m\n\u001b[1;32m     30\u001b[0m experiment_filename \u001b[38;5;241m=\u001b[39m \u001b[38;5;124m'\u001b[39m\u001b[38;5;124m../experiments/cub_distillation_edit.py\u001b[39m\u001b[38;5;124m'\u001b[39m\n\u001b[1;32m     32\u001b[0m \u001b[38;5;66;03m# load the results in to a pandas dataframe\u001b[39;00m\n\u001b[0;32m---> 33\u001b[0m r \u001b[38;5;241m=\u001b[39m \u001b[43mimodelsx\u001b[49m\u001b[38;5;241;43m.\u001b[39;49m\u001b[43mprocess_results\u001b[49m\u001b[38;5;241;43m.\u001b[39;49m\u001b[43mget_results_df\u001b[49m\u001b[43m(\u001b[49m\u001b[43mresults_dir\u001b[49m\u001b[43m)\u001b[49m\n\u001b[1;32m     34\u001b[0m cols_varied \u001b[38;5;241m=\u001b[39m imodelsx\u001b[38;5;241m.\u001b[39mprocess_results\u001b[38;5;241m.\u001b[39mget_experiment_keys(\n\u001b[1;32m     35\u001b[0m     r, experiment_filename)\n\u001b[1;32m     36\u001b[0m \u001b[38;5;28mprint\u001b[39m(\u001b[38;5;124m'\u001b[39m\u001b[38;5;124mexperiment varied these params:\u001b[39m\u001b[38;5;124m'\u001b[39m, cols_varied)\n",
      "File \u001b[0;32m~/anaconda3/lib/python3.9/site-packages/imodelsx/process_results.py:48\u001b[0m, in \u001b[0;36mget_results_df\u001b[0;34m(results_dir, use_cached, results_fname, save_pickle)\u001b[0m\n\u001b[1;32m     45\u001b[0m     \u001b[38;5;28;01mexcept\u001b[39;00m:\n\u001b[1;32m     46\u001b[0m         \u001b[38;5;28mprint\u001b[39m(\n\u001b[1;32m     47\u001b[0m             \u001b[38;5;124mf\u001b[39m\u001b[38;5;124m'\u001b[39m\u001b[38;5;124mError loading \u001b[39m\u001b[38;5;132;01m{\u001b[39;00mjoin(results_dir,\u001b[38;5;250m \u001b[39mdir_name,\u001b[38;5;250m \u001b[39mresults_fname)\u001b[38;5;132;01m}\u001b[39;00m\u001b[38;5;124m'\u001b[39m)\n\u001b[0;32m---> 48\u001b[0m r \u001b[38;5;241m=\u001b[39m \u001b[43mpd\u001b[49m\u001b[38;5;241;43m.\u001b[39;49m\u001b[43mconcat\u001b[49m\u001b[43m(\u001b[49m\u001b[43mresults_list\u001b[49m\u001b[43m,\u001b[49m\u001b[43m \u001b[49m\u001b[43maxis\u001b[49m\u001b[38;5;241;43m=\u001b[39;49m\u001b[38;5;241;43m1\u001b[39;49m\u001b[43m)\u001b[49m\u001b[38;5;241m.\u001b[39mT\u001b[38;5;241m.\u001b[39minfer_objects()\n\u001b[1;32m     49\u001b[0m \u001b[38;5;28;01mif\u001b[39;00m save_pickle:\n\u001b[1;32m     50\u001b[0m     r\u001b[38;5;241m.\u001b[39mto_pickle(fname)\n",
      "File \u001b[0;32m~/anaconda3/lib/python3.9/site-packages/pandas/util/_decorators.py:331\u001b[0m, in \u001b[0;36mdeprecate_nonkeyword_arguments.<locals>.decorate.<locals>.wrapper\u001b[0;34m(*args, **kwargs)\u001b[0m\n\u001b[1;32m    325\u001b[0m \u001b[38;5;28;01mif\u001b[39;00m \u001b[38;5;28mlen\u001b[39m(args) \u001b[38;5;241m>\u001b[39m num_allow_args:\n\u001b[1;32m    326\u001b[0m     warnings\u001b[38;5;241m.\u001b[39mwarn(\n\u001b[1;32m    327\u001b[0m         msg\u001b[38;5;241m.\u001b[39mformat(arguments\u001b[38;5;241m=\u001b[39m_format_argument_list(allow_args)),\n\u001b[1;32m    328\u001b[0m         \u001b[38;5;167;01mFutureWarning\u001b[39;00m,\n\u001b[1;32m    329\u001b[0m         stacklevel\u001b[38;5;241m=\u001b[39mfind_stack_level(),\n\u001b[1;32m    330\u001b[0m     )\n\u001b[0;32m--> 331\u001b[0m \u001b[38;5;28;01mreturn\u001b[39;00m \u001b[43mfunc\u001b[49m\u001b[43m(\u001b[49m\u001b[38;5;241;43m*\u001b[39;49m\u001b[43margs\u001b[49m\u001b[43m,\u001b[49m\u001b[43m \u001b[49m\u001b[38;5;241;43m*\u001b[39;49m\u001b[38;5;241;43m*\u001b[39;49m\u001b[43mkwargs\u001b[49m\u001b[43m)\u001b[49m\n",
      "File \u001b[0;32m~/anaconda3/lib/python3.9/site-packages/pandas/core/reshape/concat.py:368\u001b[0m, in \u001b[0;36mconcat\u001b[0;34m(objs, axis, join, ignore_index, keys, levels, names, verify_integrity, sort, copy)\u001b[0m\n\u001b[1;32m    146\u001b[0m \u001b[38;5;129m@deprecate_nonkeyword_arguments\u001b[39m(version\u001b[38;5;241m=\u001b[39m\u001b[38;5;28;01mNone\u001b[39;00m, allowed_args\u001b[38;5;241m=\u001b[39m[\u001b[38;5;124m\"\u001b[39m\u001b[38;5;124mobjs\u001b[39m\u001b[38;5;124m\"\u001b[39m])\n\u001b[1;32m    147\u001b[0m \u001b[38;5;28;01mdef\u001b[39;00m \u001b[38;5;21mconcat\u001b[39m(\n\u001b[1;32m    148\u001b[0m     objs: Iterable[NDFrame] \u001b[38;5;241m|\u001b[39m Mapping[HashableT, NDFrame],\n\u001b[0;32m   (...)\u001b[0m\n\u001b[1;32m    157\u001b[0m     copy: \u001b[38;5;28mbool\u001b[39m \u001b[38;5;241m=\u001b[39m \u001b[38;5;28;01mTrue\u001b[39;00m,\n\u001b[1;32m    158\u001b[0m ) \u001b[38;5;241m-\u001b[39m\u001b[38;5;241m>\u001b[39m DataFrame \u001b[38;5;241m|\u001b[39m Series:\n\u001b[1;32m    159\u001b[0m \u001b[38;5;250m    \u001b[39m\u001b[38;5;124;03m\"\"\"\u001b[39;00m\n\u001b[1;32m    160\u001b[0m \u001b[38;5;124;03m    Concatenate pandas objects along a particular axis.\u001b[39;00m\n\u001b[1;32m    161\u001b[0m \n\u001b[0;32m   (...)\u001b[0m\n\u001b[1;32m    366\u001b[0m \u001b[38;5;124;03m    1   3   4\u001b[39;00m\n\u001b[1;32m    367\u001b[0m \u001b[38;5;124;03m    \"\"\"\u001b[39;00m\n\u001b[0;32m--> 368\u001b[0m     op \u001b[38;5;241m=\u001b[39m \u001b[43m_Concatenator\u001b[49m\u001b[43m(\u001b[49m\n\u001b[1;32m    369\u001b[0m \u001b[43m        \u001b[49m\u001b[43mobjs\u001b[49m\u001b[43m,\u001b[49m\n\u001b[1;32m    370\u001b[0m \u001b[43m        \u001b[49m\u001b[43maxis\u001b[49m\u001b[38;5;241;43m=\u001b[39;49m\u001b[43maxis\u001b[49m\u001b[43m,\u001b[49m\n\u001b[1;32m    371\u001b[0m \u001b[43m        \u001b[49m\u001b[43mignore_index\u001b[49m\u001b[38;5;241;43m=\u001b[39;49m\u001b[43mignore_index\u001b[49m\u001b[43m,\u001b[49m\n\u001b[1;32m    372\u001b[0m \u001b[43m        \u001b[49m\u001b[43mjoin\u001b[49m\u001b[38;5;241;43m=\u001b[39;49m\u001b[43mjoin\u001b[49m\u001b[43m,\u001b[49m\n\u001b[1;32m    373\u001b[0m \u001b[43m        \u001b[49m\u001b[43mkeys\u001b[49m\u001b[38;5;241;43m=\u001b[39;49m\u001b[43mkeys\u001b[49m\u001b[43m,\u001b[49m\n\u001b[1;32m    374\u001b[0m \u001b[43m        \u001b[49m\u001b[43mlevels\u001b[49m\u001b[38;5;241;43m=\u001b[39;49m\u001b[43mlevels\u001b[49m\u001b[43m,\u001b[49m\n\u001b[1;32m    375\u001b[0m \u001b[43m        \u001b[49m\u001b[43mnames\u001b[49m\u001b[38;5;241;43m=\u001b[39;49m\u001b[43mnames\u001b[49m\u001b[43m,\u001b[49m\n\u001b[1;32m    376\u001b[0m \u001b[43m        \u001b[49m\u001b[43mverify_integrity\u001b[49m\u001b[38;5;241;43m=\u001b[39;49m\u001b[43mverify_integrity\u001b[49m\u001b[43m,\u001b[49m\n\u001b[1;32m    377\u001b[0m \u001b[43m        \u001b[49m\u001b[43mcopy\u001b[49m\u001b[38;5;241;43m=\u001b[39;49m\u001b[43mcopy\u001b[49m\u001b[43m,\u001b[49m\n\u001b[1;32m    378\u001b[0m \u001b[43m        \u001b[49m\u001b[43msort\u001b[49m\u001b[38;5;241;43m=\u001b[39;49m\u001b[43msort\u001b[49m\u001b[43m,\u001b[49m\n\u001b[1;32m    379\u001b[0m \u001b[43m    \u001b[49m\u001b[43m)\u001b[49m\n\u001b[1;32m    381\u001b[0m     \u001b[38;5;28;01mreturn\u001b[39;00m op\u001b[38;5;241m.\u001b[39mget_result()\n",
      "File \u001b[0;32m~/anaconda3/lib/python3.9/site-packages/pandas/core/reshape/concat.py:425\u001b[0m, in \u001b[0;36m_Concatenator.__init__\u001b[0;34m(self, objs, axis, join, keys, levels, names, ignore_index, verify_integrity, copy, sort)\u001b[0m\n\u001b[1;32m    422\u001b[0m     objs \u001b[38;5;241m=\u001b[39m \u001b[38;5;28mlist\u001b[39m(objs)\n\u001b[1;32m    424\u001b[0m \u001b[38;5;28;01mif\u001b[39;00m \u001b[38;5;28mlen\u001b[39m(objs) \u001b[38;5;241m==\u001b[39m \u001b[38;5;241m0\u001b[39m:\n\u001b[0;32m--> 425\u001b[0m     \u001b[38;5;28;01mraise\u001b[39;00m \u001b[38;5;167;01mValueError\u001b[39;00m(\u001b[38;5;124m\"\u001b[39m\u001b[38;5;124mNo objects to concatenate\u001b[39m\u001b[38;5;124m\"\u001b[39m)\n\u001b[1;32m    427\u001b[0m \u001b[38;5;28;01mif\u001b[39;00m keys \u001b[38;5;129;01mis\u001b[39;00m \u001b[38;5;28;01mNone\u001b[39;00m:\n\u001b[1;32m    428\u001b[0m     objs \u001b[38;5;241m=\u001b[39m \u001b[38;5;28mlist\u001b[39m(com\u001b[38;5;241m.\u001b[39mnot_none(\u001b[38;5;241m*\u001b[39mobjs))\n",
      "\u001b[0;31mValueError\u001b[0m: No objects to concatenate"
     ]
    }
   ],
   "source": [
    "import os\n",
    "import matplotlib.pyplot as plt\n",
    "import seaborn as sns\n",
    "from os.path import join\n",
    "from tqdm import tqdm\n",
    "import pandas as pd\n",
    "import numpy as np\n",
    "import joblib\n",
    "import imodelsx.process_results\n",
    "import sys\n",
    "from sklearn.metrics import accuracy_score\n",
    "\n",
    "# def load_csvs(path):\n",
    "\n",
    "#     X_train = pd.read_csv(f'{path}/X_trainval.csv', index_col=0)\n",
    "#     X_train_hat = pd.read_csv(f'{path}/X_trainval_hat.csv', index_col=0)\n",
    "#     X_test = pd.read_csv(f'{path}/X_test.csv', index_col=0)\n",
    "#     X_test_hat = pd.read_csv(f'{path}/X_test_hat.csv', index_col=0)\n",
    "#     y_train = pd.read_csv(f'{path}/y_trainval.csv', index_col=0)\n",
    "#     y_train_hat = pd.read_csv(f'{path}/y_trainval_hat.csv', index_col=0)\n",
    "#     y_test = pd.read_csv(f'{path}/y_test.csv', index_col=0)\n",
    "#     y_test_hat = pd.read_csv(f'{path}/y_test_hat.csv', index_col=0)\n",
    "\n",
    "#     return X_train, X_train_hat, X_test, X_test_hat, y_train, y_train_hat, y_test, y_test_hat\n",
    "\n",
    "sys.path.append('../experiments/')\n",
    "results = []\n",
    "\n",
    "results_dir = f'../results/cub_hydra'\n",
    "experiment_filename = '../experiments/cub_distillation_edit.py'\n",
    "\n",
    "# load the results in to a pandas dataframe\n",
    "r = imodelsx.process_results.get_results_df(results_dir)\n",
    "cols_varied = imodelsx.process_results.get_experiment_keys(\n",
    "    r, experiment_filename)\n",
    "print('experiment varied these params:', cols_varied)\n",
    "r = imodelsx.process_results.fill_missing_args_with_default(\n",
    "    r, experiment_filename)\n",
    "\n",
    "# get the breakdown of data in these groups\n",
    "r.groupby(cols_varied).size()"
   ]
  },
  {
   "cell_type": "code",
   "execution_count": 27,
   "metadata": {},
   "outputs": [
    {
     "data": {
      "text/plain": [
       "Index(['task_type', 'model_name', 'X_type', 'thresh', 'Y_type', 'save_dir',\n",
       "       'max_rules', 'max_trees', 'max_depth', 'pre_interaction',\n",
       "       'pre_max_features', 'post_interaction', 'post_max_features', 'mo',\n",
       "       'device', 'concepts_to_edit', 'use_cache', 'save_dir_unique',\n",
       "       'cbm_true_seed1_accuracy_trainval', 'cbm_true_seed1_accuracy_test',\n",
       "       'distiller_true_seed1_accuracy_trainval',\n",
       "       'distiller_true_seed1_accuracy_test',\n",
       "       'distiller_cbm_seed1_accuracy_trainval',\n",
       "       'distiller_cbm_seed1_accuracy_test', '%_correct_seed1_overlap_trainval',\n",
       "       '%_correct_seed1_overlap_test',\n",
       "       'edited_cbm_true_seed1_accuracy_trainval',\n",
       "       'edited_cbm_true_seed1_accuracy_test',\n",
       "       'edited_distiller_true_seed1_accuracy_trainval',\n",
       "       'edited_distiller_true_seed1_accuracy_test',\n",
       "       'edited_distiller_cbm_seed1_accuracy_trainval',\n",
       "       'edited_distiller_cbm_seed1_accuracy_test',\n",
       "       'edited_%_correct_seed1_overlap_trainval',\n",
       "       'edited_%_correct_seed1_overlap_test',\n",
       "       'cbm_true_seed2_accuracy_trainval', 'cbm_true_seed2_accuracy_test',\n",
       "       'distiller_true_seed2_accuracy_trainval',\n",
       "       'distiller_true_seed2_accuracy_test',\n",
       "       'distiller_cbm_seed2_accuracy_trainval',\n",
       "       'distiller_cbm_seed2_accuracy_test', '%_correct_seed2_overlap_trainval',\n",
       "       '%_correct_seed2_overlap_test',\n",
       "       'edited_cbm_true_seed2_accuracy_trainval',\n",
       "       'edited_cbm_true_seed2_accuracy_test',\n",
       "       'edited_distiller_true_seed2_accuracy_trainval',\n",
       "       'edited_distiller_true_seed2_accuracy_test',\n",
       "       'edited_distiller_cbm_seed2_accuracy_trainval',\n",
       "       'edited_distiller_cbm_seed2_accuracy_test',\n",
       "       'edited_%_correct_seed2_overlap_trainval',\n",
       "       'edited_%_correct_seed2_overlap_test',\n",
       "       'cbm_true_seed3_accuracy_trainval', 'cbm_true_seed3_accuracy_test',\n",
       "       'distiller_true_seed3_accuracy_trainval',\n",
       "       'distiller_true_seed3_accuracy_test',\n",
       "       'distiller_cbm_seed3_accuracy_trainval',\n",
       "       'distiller_cbm_seed3_accuracy_test', '%_correct_seed3_overlap_trainval',\n",
       "       '%_correct_seed3_overlap_test',\n",
       "       'edited_cbm_true_seed3_accuracy_trainval',\n",
       "       'edited_cbm_true_seed3_accuracy_test',\n",
       "       'edited_distiller_true_seed3_accuracy_trainval',\n",
       "       'edited_distiller_true_seed3_accuracy_test',\n",
       "       'edited_distiller_cbm_seed3_accuracy_trainval',\n",
       "       'edited_distiller_cbm_seed3_accuracy_test',\n",
       "       'edited_%_correct_seed3_overlap_trainval',\n",
       "       'edited_%_correct_seed3_overlap_test'],\n",
       "      dtype='object')"
      ]
     },
     "execution_count": 27,
     "metadata": {},
     "output_type": "execute_result"
    }
   ],
   "source": [
    "r.columns"
   ]
  },
  {
   "cell_type": "code",
   "execution_count": 28,
   "metadata": {},
   "outputs": [],
   "source": [
    "#performance\n",
    "r['mean_cbm_true_accuracy_trainval'] = np.mean([r[f'cbm_true_seed{seed}_accuracy_trainval'] for seed in range(1, 4)], axis = 0)\n",
    "r['std_cbm_true_accuracy_trainval'] = np.std([r[f'cbm_true_seed{seed}_accuracy_trainval'] for seed in range(1, 4)], axis = 0)\n",
    "r['mean_cbm_true_accuracy_test'] = np.mean([r[f'cbm_true_seed{seed}_accuracy_test'] for seed in range(1, 4)], axis = 0)\n",
    "r['std_cbm_true_accuracy_test'] = np.std([r[f'cbm_true_seed{seed}_accuracy_test'] for seed in range(1, 4)], axis = 0)\n",
    "\n",
    "r['mean_distiller_true_accuracy_trainval'] = np.mean([r[f'distiller_true_seed{seed}_accuracy_trainval'] for seed in range(1, 4)], axis = 0)\n",
    "r['std_distiller_true_accuracy_trainval'] = np.std([r[f'distiller_true_seed{seed}_accuracy_trainval'] for seed in range(1, 4)], axis = 0)\n",
    "r['mean_distiller_true_accuracy_test'] = np.mean([r[f'distiller_true_seed{seed}_accuracy_test'] for seed in range(1, 4)], axis = 0)\n",
    "r['std_distiller_true_accuracy_test'] = np.std([r[f'distiller_true_seed{seed}_accuracy_test'] for seed in range(1, 4)], axis = 0)\n",
    "\n",
    "r['mean_distiller_cbm_accuracy_trainval'] = np.mean([r[f'distiller_cbm_seed{seed}_accuracy_trainval'] for seed in range(1, 4)], axis = 0)\n",
    "r['std_distiller_cbm_accuracy_trainval'] = np.std([r[f'distiller_cbm_seed{seed}_accuracy_trainval'] for seed in range(1, 4)], axis = 0)\n",
    "r['mean_distiller_cbm_accuracy_test'] = np.mean([r[f'distiller_cbm_seed{seed}_accuracy_test'] for seed in range(1, 4)], axis = 0)\n",
    "r['std_distiller_cbm_accuracy_test'] = np.std([r[f'distiller_cbm_seed{seed}_accuracy_test'] for seed in range(1, 4)], axis = 0)\n",
    "\n",
    "#correct overlap\n",
    "\n",
    "r['mean_%_correct_overlap_trainval'] = np.mean([r[f'%_correct_seed{seed}_overlap_trainval'] for seed in range(1, 4)], axis = 0)\n",
    "r['std_%_correct_overlap_trainval'] = np.std([r[f'%_correct_seed{seed}_overlap_trainval'] for seed in range(1, 4)], axis = 0)\n",
    "r['mean_%_correct_overlap_test'] = np.mean([r[f'%_correct_seed{seed}_overlap_test'] for seed in range(1, 4)], axis = 0)\n",
    "r['std_%_correct_overlap_test'] = np.std([r[f'%_correct_seed{seed}_overlap_test'] for seed in range(1, 4)], axis = 0)\n",
    "\n",
    "#edited performance\n",
    "\n",
    "r['mean_edited_cbm_true_accuracy_trainval'] = np.mean([r[f'edited_cbm_true_seed{seed}_accuracy_trainval'] for seed in range(1, 4)], axis = 0)\n",
    "r['std_edited_cbm_true_accuracy_trainval'] = np.std([r[f'edited_cbm_true_seed{seed}_accuracy_trainval'] for seed in range(1, 4)], axis = 0)\n",
    "r['mean_edited_cbm_true_accuracy_test'] = np.mean([r[f'edited_cbm_true_seed{seed}_accuracy_test'] for seed in range(1, 4)], axis = 0)\n",
    "r['std_edited_cbm_true_accuracy_test'] = np.std([r[f'edited_cbm_true_seed{seed}_accuracy_test'] for seed in range(1, 4)], axis = 0)\n",
    "\n",
    "r['mean_edited_distiller_true_accuracy_trainval'] = np.mean([r[f'edited_distiller_true_seed{seed}_accuracy_trainval'] for seed in range(1, 4)], axis = 0)\n",
    "r['std_edited_distiller_true_accuracy_trainval'] = np.std([r[f'edited_distiller_true_seed{seed}_accuracy_trainval'] for seed in range(1, 4)], axis = 0)\n",
    "r['mean_edited_distiller_true_accuracy_test'] = np.mean([r[f'edited_distiller_true_seed{seed}_accuracy_test'] for seed in range(1, 4)], axis = 0)\n",
    "r['std_edited_distiller_true_accuracy_test'] = np.std([r[f'edited_distiller_true_seed{seed}_accuracy_test'] for seed in range(1, 4)], axis = 0)\n",
    "\n",
    "r['mean_edited_distiller_cbm_accuracy_trainval'] = np.mean([r[f'edited_distiller_cbm_seed{seed}_accuracy_trainval'] for seed in range(1, 4)], axis = 0)\n",
    "r['std_edited_distiller_cbm_accuracy_trainval'] = np.std([r[f'edited_distiller_cbm_seed{seed}_accuracy_trainval'] for seed in range(1, 4)], axis = 0)\n",
    "r['mean_edited_distiller_cbm_accuracy_test'] = np.mean([r[f'edited_distiller_cbm_seed{seed}_accuracy_test'] for seed in range(1, 4)], axis = 0)\n",
    "r['std_edited_distiller_cbm_accuracy_test'] = np.std([r[f'edited_distiller_cbm_seed{seed}_accuracy_test'] for seed in range(1, 4)], axis = 0)\n",
    "\n",
    "#edited correct overlap\n",
    "\n",
    "r['mean_edited_%_correct_overlap_trainval'] = np.mean([r[f'edited_%_correct_seed{seed}_overlap_trainval'] for seed in range(1, 4)], axis = 0)\n",
    "r['std_edited_%_correct_overlap_trainval'] = np.std([r[f'edited_%_correct_seed{seed}_overlap_trainval'] for seed in range(1, 4)], axis = 0)\n",
    "r['mean_edited_%_correct_overlap_test'] = np.mean([r[f'edited_%_correct_seed{seed}_overlap_test'] for seed in range(1, 4)], axis = 0)\n",
    "r['std_edited_%_correct_overlap_test'] = np.std([r[f'edited_%_correct_seed{seed}_overlap_test'] for seed in range(1, 4)], axis = 0)"
   ]
  },
  {
   "cell_type": "code",
   "execution_count": 29,
   "metadata": {},
   "outputs": [],
   "source": [
    "r = r.drop(columns  = ['save_dir', 'save_dir_unique', 'use_cache', 'device']\n",
    "      +['cbm_true_seed1_accuracy_trainval', 'cbm_true_seed1_accuracy_test',\n",
    "       'distiller_true_seed1_accuracy_trainval',\n",
    "       'distiller_true_seed1_accuracy_test',\n",
    "       'distiller_cbm_seed1_accuracy_trainval',\n",
    "       'distiller_cbm_seed1_accuracy_test', '%_correct_seed1_overlap_trainval',\n",
    "       '%_correct_seed1_overlap_test',\n",
    "       'edited_cbm_true_seed1_accuracy_trainval',\n",
    "       'edited_cbm_true_seed1_accuracy_test',\n",
    "       'edited_distiller_true_seed1_accuracy_trainval',\n",
    "       'edited_distiller_true_seed1_accuracy_test',\n",
    "       'edited_distiller_cbm_seed1_accuracy_trainval',\n",
    "       'edited_distiller_cbm_seed1_accuracy_test',\n",
    "       'edited_%_correct_seed1_overlap_trainval',\n",
    "       'edited_%_correct_seed1_overlap_test',\n",
    "       'cbm_true_seed2_accuracy_trainval', 'cbm_true_seed2_accuracy_test',\n",
    "       'distiller_true_seed2_accuracy_trainval',\n",
    "       'distiller_true_seed2_accuracy_test',\n",
    "       'distiller_cbm_seed2_accuracy_trainval',\n",
    "       'distiller_cbm_seed2_accuracy_test', '%_correct_seed2_overlap_trainval',\n",
    "       '%_correct_seed2_overlap_test',\n",
    "       'edited_cbm_true_seed2_accuracy_trainval',\n",
    "       'edited_cbm_true_seed2_accuracy_test',\n",
    "       'edited_distiller_true_seed2_accuracy_trainval',\n",
    "       'edited_distiller_true_seed2_accuracy_test',\n",
    "       'edited_distiller_cbm_seed2_accuracy_trainval',\n",
    "       'edited_distiller_cbm_seed2_accuracy_test',\n",
    "       'edited_%_correct_seed2_overlap_trainval',\n",
    "       'edited_%_correct_seed2_overlap_test',\n",
    "       'cbm_true_seed3_accuracy_trainval', 'cbm_true_seed3_accuracy_test',\n",
    "       'distiller_true_seed3_accuracy_trainval',\n",
    "       'distiller_true_seed3_accuracy_test',\n",
    "       'distiller_cbm_seed3_accuracy_trainval',\n",
    "       'distiller_cbm_seed3_accuracy_test', '%_correct_seed3_overlap_trainval',\n",
    "       '%_correct_seed3_overlap_test',\n",
    "       'edited_cbm_true_seed3_accuracy_trainval',\n",
    "       'edited_cbm_true_seed3_accuracy_test',\n",
    "       'edited_distiller_true_seed3_accuracy_trainval',\n",
    "       'edited_distiller_true_seed3_accuracy_test',\n",
    "       'edited_distiller_cbm_seed3_accuracy_trainval',\n",
    "       'edited_distiller_cbm_seed3_accuracy_test',\n",
    "       'edited_%_correct_seed3_overlap_trainval',\n",
    "       'edited_%_correct_seed3_overlap_test'])"
   ]
  },
  {
   "cell_type": "code",
   "execution_count": 42,
   "metadata": {},
   "outputs": [
    {
     "data": {
      "text/plain": [
       "5     0.771258\n",
       "6     0.789840\n",
       "22    0.771258\n",
       "23    0.790818\n",
       "26    0.790128\n",
       "28    0.769187\n",
       "32    0.790818\n",
       "35    0.769187\n",
       "Name: mean_distiller_cbm_accuracy_test, dtype: float64"
      ]
     },
     "execution_count": 42,
     "metadata": {},
     "output_type": "execute_result"
    }
   ],
   "source": [
    "r[r['X_type'] == 'cluster']['mean_distiller_cbm_accuracy_test']"
   ]
  },
  {
   "cell_type": "code",
   "execution_count": 53,
   "metadata": {},
   "outputs": [
    {
     "data": {
      "text/plain": [
       "0     0.966355\n",
       "1     0.974320\n",
       "2     0.816065\n",
       "3     0.899454\n",
       "4     0.971201\n",
       "7     0.971201\n",
       "8     0.890430\n",
       "9     0.981061\n",
       "10    0.985071\n",
       "11    0.983066\n",
       "12    0.966355\n",
       "13    0.981061\n",
       "14    0.772727\n",
       "15    0.983066\n",
       "16    0.938336\n",
       "17    0.773674\n",
       "18    0.981172\n",
       "19    0.699978\n",
       "20    0.926638\n",
       "21    0.888703\n",
       "24    0.985071\n",
       "25    0.976381\n",
       "27    0.974320\n",
       "29    0.826705\n",
       "30    0.973039\n",
       "31    0.981172\n",
       "33    0.894942\n",
       "34    0.762199\n",
       "36    0.976381\n",
       "37    0.699086\n",
       "38    0.773117\n",
       "39    0.890374\n",
       "Name: mean_distiller_true_accuracy_trainval, dtype: float64"
      ]
     },
     "execution_count": 53,
     "metadata": {},
     "output_type": "execute_result"
    }
   ],
   "source": [
    "r[r['X_type'] != 'cluster']['mean_distiller_true_accuracy_trainval']"
   ]
  },
  {
   "cell_type": "code",
   "execution_count": 50,
   "metadata": {},
   "outputs": [
    {
     "data": {
      "text/plain": [
       "0     0.777126\n",
       "1     0.777126\n",
       "2     0.777126\n",
       "3     0.777126\n",
       "4     0.777126\n",
       "7     0.777126\n",
       "8     0.777126\n",
       "9     0.777126\n",
       "10    0.777126\n",
       "11    0.777126\n",
       "12    0.777126\n",
       "13    0.777126\n",
       "14    0.777126\n",
       "15    0.777126\n",
       "16    0.777126\n",
       "17    0.777126\n",
       "18    0.777126\n",
       "19    0.777126\n",
       "20    0.777126\n",
       "21    0.777126\n",
       "24    0.777126\n",
       "25    0.777126\n",
       "27    0.777126\n",
       "29    0.777126\n",
       "30    0.777126\n",
       "31    0.777126\n",
       "33    0.777126\n",
       "34    0.777126\n",
       "36    0.777126\n",
       "37    0.777126\n",
       "38    0.777126\n",
       "39    0.777126\n",
       "Name: mean_cbm_true_accuracy_test, dtype: float64"
      ]
     },
     "execution_count": 50,
     "metadata": {},
     "output_type": "execute_result"
    }
   ],
   "source": [
    "r[r['X_type'] != 'cluster']['mean_cbm_true_accuracy_test']"
   ]
  },
  {
   "cell_type": "code",
   "execution_count": 25,
   "metadata": {},
   "outputs": [
    {
     "data": {
      "text/plain": [
       "3     0.709527\n",
       "14    0.685997\n",
       "31    0.683983\n",
       "26    0.682890\n",
       "18    0.638879\n",
       "19    0.624957\n",
       "6     0.621160\n",
       "Name: mean_edited_distiller_true_accuracy_test, dtype: float64"
      ]
     },
     "execution_count": 25,
     "metadata": {},
     "output_type": "execute_result"
    }
   ],
   "source": [
    "r[r['model_name']=='FTDHydraRegressorCV'].sort_values('mean_edited_distiller_true_accuracy_test', ascending=False).mean_edited_distiller_true_accuracy_test #['mean_edited_distiller_true_accuracy_test'] #['mean_distiller_true_accuracy_test']"
   ]
  },
  {
   "cell_type": "code",
   "execution_count": null,
   "metadata": {},
   "outputs": [],
   "source": [
    "r[['model_name','mean_distiller_cbm_accuracy_trainval', 'mean_edited_distiller_cbm_accuracy_trainval', 'mean_distiller_cbm_accuracy_test', 'mean_edited_distiller_cbm_accuracy_test']]"
   ]
  },
  {
   "cell_type": "code",
   "execution_count": null,
   "metadata": {},
   "outputs": [],
   "source": [
    "r[['model_name','mean_cbm_true_accuracy_trainval', 'mean_edited_cbm_true_accuracy_trainval', 'mean_distiller_true_accuracy_trainval', 'mean_edited_distiller_true_accuracy_trainval',]]"
   ]
  },
  {
   "cell_type": "code",
   "execution_count": null,
   "metadata": {},
   "outputs": [],
   "source": [
    "r[['model_name', 'mean_%_correct_overlap_trainval', 'mean_%_correct_overlap_test', 'mean_edited_%_correct_overlap_trainval', 'mean_edited_%_correct_overlap_test']]"
   ]
  },
  {
   "cell_type": "code",
   "execution_count": null,
   "metadata": {},
   "outputs": [],
   "source": []
  },
  {
   "cell_type": "code",
   "execution_count": null,
   "metadata": {},
   "outputs": [],
   "source": []
  }
 ],
 "metadata": {
  "kernelspec": {
   "display_name": "Python 3 (ipykernel)",
   "language": "python",
   "name": "python3"
  },
  "language_info": {
   "codemirror_mode": {
    "name": "ipython",
    "version": 3
   },
   "file_extension": ".py",
   "mimetype": "text/x-python",
   "name": "python",
   "nbconvert_exporter": "python",
   "pygments_lexer": "ipython3",
   "version": "3.9.12"
  },
  "vscode": {
   "interpreter": {
    "hash": "559535f78d940c882783b39501b2581b5193373045707e5f8a51d046029cfd38"
   }
  }
 },
 "nbformat": 4,
 "nbformat_minor": 4
}

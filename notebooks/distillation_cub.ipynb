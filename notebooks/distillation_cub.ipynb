{
 "cells": [
  {
   "cell_type": "code",
   "execution_count": 29,
   "metadata": {
    "tags": []
   },
   "outputs": [
    {
     "name": "stderr",
     "output_type": "stream",
     "text": [
      "100%|████████████████████████████████████████████| 6/6 [00:00<00:00, 744.82it/s]"
     ]
    },
    {
     "name": "stdout",
     "output_type": "stream",
     "text": [
      "experiment varied these params: ['save_dir', 'teacher_path', 'gpu']\n"
     ]
    },
    {
     "name": "stderr",
     "output_type": "stream",
     "text": [
      "\n"
     ]
    },
    {
     "data": {
      "text/plain": [
       "save_dir                                                       teacher_path                             gpu\n",
       "/home/mattyshen/DistillationEdit/results/distillation_cub/cub  cub/outputs/best_Joint0.01_model_1.pth   0      1\n",
       "                                                               cub/outputs/best_Joint0.01_model_2.pth   1      1\n",
       "                                                               cub/outputs/best_Joint0.01_model_3.pth   2      1\n",
       "/home/mattyshen/DistillationEdit/results/distillation_starter  cub/outputs/best_Joint0.001_model_1.pth  0      1\n",
       "                                                               cub/outputs/best_Joint0.001_model_2.pth  1      1\n",
       "                                                               cub/outputs/best_Joint0.001_model_3.pth  2      1\n",
       "dtype: int64"
      ]
     },
     "execution_count": 29,
     "metadata": {},
     "output_type": "execute_result"
    }
   ],
   "source": [
    "import os\n",
    "import matplotlib.pyplot as plt\n",
    "import seaborn as sns\n",
    "from os.path import join\n",
    "from tqdm import tqdm\n",
    "import pandas as pd\n",
    "import numpy as np\n",
    "import joblib\n",
    "import imodelsx.process_results\n",
    "import sys\n",
    "from sklearn.metrics import accuracy_score\n",
    "\n",
    "sys.path.append('../experiments/')\n",
    "results = []\n",
    "\n",
    "results_dir = f'../results/distillation_cub/cub'\n",
    "experiment_filename = '../experiments/distillation_cub.py'\n",
    "\n",
    "# load the results in to a pandas dataframe\n",
    "r = imodelsx.process_results.get_results_df(results_dir)\n",
    "cols_varied = imodelsx.process_results.get_experiment_keys(\n",
    "    r, experiment_filename)\n",
    "print('experiment varied these params:', cols_varied)\n",
    "r = imodelsx.process_results.fill_missing_args_with_default(\n",
    "    r, experiment_filename)\n",
    "\n",
    "# save results as csvs for backup\n",
    "r.to_csv('../csv_results/distillation_cub.csv')\n",
    "\n",
    "# get the breakdown of data in these groups\n",
    "r.groupby(cols_varied).size()"
   ]
  },
  {
   "cell_type": "code",
   "execution_count": 33,
   "metadata": {},
   "outputs": [
    {
     "data": {
      "text/plain": [
       "student_prediction_test_accuracy                0.753624\n",
       "teacher_prediction_test_accuracy                0.801519\n",
       "student_prediction_adap_interv_test_accuracy    0.806006\n",
       "teacher_prediction_adap_interv_test_accuracy    0.837849\n",
       "student_prediction_rand_interv_test_accuracy    0.765706\n",
       "teacher_prediction_rand_interv_test_accuracy    0.820849\n",
       "dtype: float64"
      ]
     },
     "execution_count": 33,
     "metadata": {},
     "output_type": "execute_result"
    }
   ],
   "source": [
    "r.iloc[[1, 3], :] [['student_prediction_test_accuracy',\n",
    "                    'teacher_prediction_test_accuracy',\n",
    "       'student_prediction_adap_interv_test_accuracy',\n",
    "       'teacher_prediction_adap_interv_test_accuracy',\n",
    "       'student_prediction_rand_interv_test_accuracy',\n",
    "       'teacher_prediction_rand_interv_test_accuracy']].mean()"
   ]
  },
  {
   "cell_type": "code",
   "execution_count": 26,
   "metadata": {},
   "outputs": [
    {
     "data": {
      "text/plain": [
       "student_prediction_train_accuracy                0.881016\n",
       "student_prediction_test_accuracy                 0.733230\n",
       "teacher_prediction_train_accuracy                0.951203\n",
       "teacher_prediction_test_accuracy                 0.812565\n",
       "student_prediction_adap_interv_train_accuracy    0.894385\n",
       "student_prediction_adap_interv_test_accuracy     0.784029\n",
       "teacher_prediction_adap_interv_train_accuracy    0.952652\n",
       "teacher_prediction_adap_interv_test_accuracy     0.841963\n",
       "student_prediction_rand_interv_train_accuracy    0.884024\n",
       "student_prediction_rand_interv_test_accuracy     0.744218\n",
       "teacher_prediction_rand_interv_train_accuracy    0.952652\n",
       "teacher_prediction_rand_interv_test_accuracy     0.841963\n",
       "dtype: float64"
      ]
     },
     "execution_count": 26,
     "metadata": {},
     "output_type": "execute_result"
    }
   ],
   "source": [
    "r.loc[r.teacher_path.str[22:26] == '0.01', :] [[\n",
    "       'student_prediction_train_accuracy', 'student_prediction_test_accuracy',\n",
    "       'teacher_prediction_train_accuracy', 'teacher_prediction_test_accuracy',\n",
    "       'student_prediction_adap_interv_train_accuracy',\n",
    "       'student_prediction_adap_interv_test_accuracy',\n",
    "       'teacher_prediction_adap_interv_train_accuracy',\n",
    "       'teacher_prediction_adap_interv_test_accuracy',\n",
    "       'student_prediction_rand_interv_train_accuracy',\n",
    "       'student_prediction_rand_interv_test_accuracy',\n",
    "       'teacher_prediction_rand_interv_train_accuracy',\n",
    "       'teacher_prediction_rand_interv_test_accuracy']].mean()"
   ]
  },
  {
   "cell_type": "code",
   "execution_count": null,
   "metadata": {},
   "outputs": [],
   "source": []
  }
 ],
 "metadata": {
  "kernelspec": {
   "display_name": "Python 3 (ipykernel)",
   "language": "python",
   "name": "python3"
  },
  "language_info": {
   "codemirror_mode": {
    "name": "ipython",
    "version": 3
   },
   "file_extension": ".py",
   "mimetype": "text/x-python",
   "name": "python",
   "nbconvert_exporter": "python",
   "pygments_lexer": "ipython3",
   "version": "3.9.12"
  },
  "vscode": {
   "interpreter": {
    "hash": "559535f78d940c882783b39501b2581b5193373045707e5f8a51d046029cfd38"
   }
  }
 },
 "nbformat": 4,
 "nbformat_minor": 4
}

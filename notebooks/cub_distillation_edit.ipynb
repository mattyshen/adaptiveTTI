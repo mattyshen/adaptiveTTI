{
 "cells": [
  {
   "cell_type": "code",
   "execution_count": 26,
   "metadata": {
    "tags": []
   },
   "outputs": [
    {
     "name": "stderr",
     "output_type": "stream",
     "text": [
      "100%|██████████████████████████████████████████| 40/40 [00:00<00:00, 138.47it/s]\n"
     ]
    },
    {
     "name": "stdout",
     "output_type": "stream",
     "text": [
      "experiment varied these params: ['model_name', 'X_type', 'thresh', 'max_rules', 'max_trees', 'max_depth', 'pre_max_features', 'post_max_features', 'concepts_to_edit']\n"
     ]
    },
    {
     "data": {
      "text/plain": [
       "model_name           X_type   thresh  max_rules  max_trees  max_depth  pre_max_features  post_max_features  concepts_to_edit              \n",
       "FIGSRegressor        binary   0.00    60         60         3          1.0               30.0               50,89,22,52,78,82,83,100,86,20    1\n",
       "                                                            4          1.0               30.0               50,89,22,52,78,82,83,100,86,20    1\n",
       "                                                 75         3          1.0               30.0               50,89,22,52,78,82,83,100,86,20    1\n",
       "                                                            4          1.0               30.0               50,89,22,52,78,82,83,100,86,20    1\n",
       "                                      90         60         3          1.0               30.0               50,89,22,52,78,82,83,100,86,20    1\n",
       "                                                            4          1.0               30.0               50,89,22,52,78,82,83,100,86,20    1\n",
       "                                                 75         3          1.0               30.0               50,89,22,52,78,82,83,100,86,20    1\n",
       "                                                            4          1.0               30.0               50,89,22,52,78,82,83,100,86,20    1\n",
       "                              0.25    60         30         3          1.0               30.0               0,3,4                             1\n",
       "                              0.50    60         60         3          1.0               30.0               50,89,22,52,78,82,83,100,86,20    1\n",
       "                                                            4          1.0               30.0               50,89,22,52,78,82,83,100,86,20    1\n",
       "                                                 75         3          1.0               30.0               50,89,22,52,78,82,83,100,86,20    1\n",
       "                                                            4          1.0               30.0               50,89,22,52,78,82,83,100,86,20    1\n",
       "                                      90         60         3          1.0               30.0               50,89,22,52,78,82,83,100,86,20    1\n",
       "                                                            4          1.0               30.0               50,89,22,52,78,82,83,100,86,20    1\n",
       "                                                 75         3          1.0               30.0               50,89,22,52,78,82,83,100,86,20    1\n",
       "                                                            4          1.0               30.0               50,89,22,52,78,82,83,100,86,20    1\n",
       "                     cluster  0.00    60         60         3          1.0               30.0               50,89,22,52,78,82,83,100,86,20    1\n",
       "                                                            4          1.0               30.0               50,89,22,52,78,82,83,100,86,20    1\n",
       "                                                 75         3          1.0               30.0               50,89,22,52,78,82,83,100,86,20    1\n",
       "                                                            4          1.0               30.0               50,89,22,52,78,82,83,100,86,20    1\n",
       "                                      90         60         3          1.0               30.0               50,89,22,52,78,82,83,100,86,20    1\n",
       "                                                            4          1.0               30.0               50,89,22,52,78,82,83,100,86,20    1\n",
       "                                                 75         3          1.0               30.0               50,89,22,52,78,82,83,100,86,20    1\n",
       "                                                            4          1.0               30.0               50,89,22,52,78,82,83,100,86,20    1\n",
       "FTDHydraRegressor    binary   0.25    60         30         2          10.0              5.0                0,3,4                             1\n",
       "                                                                                         7.0                0,3,4                             1\n",
       "                                                                       25.0              5.0                0,3,4                             1\n",
       "                                                                                         7.0                0,3,4                             1\n",
       "                                                            3          10.0              5.0                0,3,4                             1\n",
       "                                                                                         7.0                0,3,4                             1\n",
       "                                                                       25.0              5.0                0,3,4                             1\n",
       "                                                                                         7.0                0,3,4                             1\n",
       "FTDHydraRegressorCV  binary   0.00    60         30         3          10.0              7.0                50,89,22,52,78,82,83,100,86,20    1\n",
       "                                                                       25.0              7.0                50,89,22,52,78,82,83,100,86,20    1\n",
       "                                                            4          10.0              7.0                50,89,22,52,78,82,83,100,86,20    1\n",
       "                              0.25    60         30         3          10.0              7.0                0,3,4                             1\n",
       "                              0.50    60         30         3          10.0              7.0                50,89,22,52,78,82,83,100,86,20    1\n",
       "                                                                       25.0              7.0                50,89,22,52,78,82,83,100,86,20    1\n",
       "                                                            4          10.0              7.0                50,89,22,52,78,82,83,100,86,20    1\n",
       "dtype: int64"
      ]
     },
     "execution_count": 26,
     "metadata": {},
     "output_type": "execute_result"
    }
   ],
   "source": [
    "import os\n",
    "import matplotlib.pyplot as plt\n",
    "import seaborn as sns\n",
    "from os.path import join\n",
    "from tqdm import tqdm\n",
    "import pandas as pd\n",
    "import numpy as np\n",
    "import joblib\n",
    "import imodelsx.process_results\n",
    "import sys\n",
    "from sklearn.metrics import accuracy_score\n",
    "\n",
    "# def load_csvs(path):\n",
    "\n",
    "#     X_train = pd.read_csv(f'{path}/X_trainval.csv', index_col=0)\n",
    "#     X_train_hat = pd.read_csv(f'{path}/X_trainval_hat.csv', index_col=0)\n",
    "#     X_test = pd.read_csv(f'{path}/X_test.csv', index_col=0)\n",
    "#     X_test_hat = pd.read_csv(f'{path}/X_test_hat.csv', index_col=0)\n",
    "#     y_train = pd.read_csv(f'{path}/y_trainval.csv', index_col=0)\n",
    "#     y_train_hat = pd.read_csv(f'{path}/y_trainval_hat.csv', index_col=0)\n",
    "#     y_test = pd.read_csv(f'{path}/y_test.csv', index_col=0)\n",
    "#     y_test_hat = pd.read_csv(f'{path}/y_test_hat.csv', index_col=0)\n",
    "\n",
    "#     return X_train, X_train_hat, X_test, X_test_hat, y_train, y_train_hat, y_test, y_test_hat\n",
    "\n",
    "sys.path.append('../experiments/')\n",
    "results = []\n",
    "\n",
    "results_dir = f'../results/cub_distillation_edit'\n",
    "experiment_filename = '../experiments/cub_distillation_edit.py'\n",
    "\n",
    "# load the results in to a pandas dataframe\n",
    "r = imodelsx.process_results.get_results_df(results_dir)\n",
    "cols_varied = imodelsx.process_results.get_experiment_keys(\n",
    "    r, experiment_filename)\n",
    "print('experiment varied these params:', cols_varied)\n",
    "r = imodelsx.process_results.fill_missing_args_with_default(\n",
    "    r, experiment_filename)\n",
    "\n",
    "# get the breakdown of data in these groups\n",
    "r.groupby(cols_varied).size()"
   ]
  },
  {
   "cell_type": "code",
   "execution_count": 27,
   "metadata": {},
   "outputs": [
    {
     "data": {
      "text/plain": [
       "Index(['task_type', 'model_name', 'X_type', 'thresh', 'Y_type', 'save_dir',\n",
       "       'max_rules', 'max_trees', 'max_depth', 'pre_interaction',\n",
       "       'pre_max_features', 'post_interaction', 'post_max_features', 'mo',\n",
       "       'device', 'concepts_to_edit', 'use_cache', 'save_dir_unique',\n",
       "       'cbm_true_seed1_accuracy_trainval', 'cbm_true_seed1_accuracy_test',\n",
       "       'distiller_true_seed1_accuracy_trainval',\n",
       "       'distiller_true_seed1_accuracy_test',\n",
       "       'distiller_cbm_seed1_accuracy_trainval',\n",
       "       'distiller_cbm_seed1_accuracy_test', '%_correct_seed1_overlap_trainval',\n",
       "       '%_correct_seed1_overlap_test',\n",
       "       'edited_cbm_true_seed1_accuracy_trainval',\n",
       "       'edited_cbm_true_seed1_accuracy_test',\n",
       "       'edited_distiller_true_seed1_accuracy_trainval',\n",
       "       'edited_distiller_true_seed1_accuracy_test',\n",
       "       'edited_distiller_cbm_seed1_accuracy_trainval',\n",
       "       'edited_distiller_cbm_seed1_accuracy_test',\n",
       "       'edited_%_correct_seed1_overlap_trainval',\n",
       "       'edited_%_correct_seed1_overlap_test',\n",
       "       'cbm_true_seed2_accuracy_trainval', 'cbm_true_seed2_accuracy_test',\n",
       "       'distiller_true_seed2_accuracy_trainval',\n",
       "       'distiller_true_seed2_accuracy_test',\n",
       "       'distiller_cbm_seed2_accuracy_trainval',\n",
       "       'distiller_cbm_seed2_accuracy_test', '%_correct_seed2_overlap_trainval',\n",
       "       '%_correct_seed2_overlap_test',\n",
       "       'edited_cbm_true_seed2_accuracy_trainval',\n",
       "       'edited_cbm_true_seed2_accuracy_test',\n",
       "       'edited_distiller_true_seed2_accuracy_trainval',\n",
       "       'edited_distiller_true_seed2_accuracy_test',\n",
       "       'edited_distiller_cbm_seed2_accuracy_trainval',\n",
       "       'edited_distiller_cbm_seed2_accuracy_test',\n",
       "       'edited_%_correct_seed2_overlap_trainval',\n",
       "       'edited_%_correct_seed2_overlap_test',\n",
       "       'cbm_true_seed3_accuracy_trainval', 'cbm_true_seed3_accuracy_test',\n",
       "       'distiller_true_seed3_accuracy_trainval',\n",
       "       'distiller_true_seed3_accuracy_test',\n",
       "       'distiller_cbm_seed3_accuracy_trainval',\n",
       "       'distiller_cbm_seed3_accuracy_test', '%_correct_seed3_overlap_trainval',\n",
       "       '%_correct_seed3_overlap_test',\n",
       "       'edited_cbm_true_seed3_accuracy_trainval',\n",
       "       'edited_cbm_true_seed3_accuracy_test',\n",
       "       'edited_distiller_true_seed3_accuracy_trainval',\n",
       "       'edited_distiller_true_seed3_accuracy_test',\n",
       "       'edited_distiller_cbm_seed3_accuracy_trainval',\n",
       "       'edited_distiller_cbm_seed3_accuracy_test',\n",
       "       'edited_%_correct_seed3_overlap_trainval',\n",
       "       'edited_%_correct_seed3_overlap_test'],\n",
       "      dtype='object')"
      ]
     },
     "execution_count": 27,
     "metadata": {},
     "output_type": "execute_result"
    }
   ],
   "source": [
    "r.columns"
   ]
  },
  {
   "cell_type": "code",
   "execution_count": 28,
   "metadata": {},
   "outputs": [],
   "source": [
    "#performance\n",
    "r['mean_cbm_true_accuracy_trainval'] = np.mean([r[f'cbm_true_seed{seed}_accuracy_trainval'] for seed in range(1, 4)], axis = 0)\n",
    "r['std_cbm_true_accuracy_trainval'] = np.std([r[f'cbm_true_seed{seed}_accuracy_trainval'] for seed in range(1, 4)], axis = 0)\n",
    "r['mean_cbm_true_accuracy_test'] = np.mean([r[f'cbm_true_seed{seed}_accuracy_test'] for seed in range(1, 4)], axis = 0)\n",
    "r['std_cbm_true_accuracy_test'] = np.std([r[f'cbm_true_seed{seed}_accuracy_test'] for seed in range(1, 4)], axis = 0)\n",
    "\n",
    "r['mean_distiller_true_accuracy_trainval'] = np.mean([r[f'distiller_true_seed{seed}_accuracy_trainval'] for seed in range(1, 4)], axis = 0)\n",
    "r['std_distiller_true_accuracy_trainval'] = np.std([r[f'distiller_true_seed{seed}_accuracy_trainval'] for seed in range(1, 4)], axis = 0)\n",
    "r['mean_distiller_true_accuracy_test'] = np.mean([r[f'distiller_true_seed{seed}_accuracy_test'] for seed in range(1, 4)], axis = 0)\n",
    "r['std_distiller_true_accuracy_test'] = np.std([r[f'distiller_true_seed{seed}_accuracy_test'] for seed in range(1, 4)], axis = 0)\n",
    "\n",
    "r['mean_distiller_cbm_accuracy_trainval'] = np.mean([r[f'distiller_cbm_seed{seed}_accuracy_trainval'] for seed in range(1, 4)], axis = 0)\n",
    "r['std_distiller_cbm_accuracy_trainval'] = np.std([r[f'distiller_cbm_seed{seed}_accuracy_trainval'] for seed in range(1, 4)], axis = 0)\n",
    "r['mean_distiller_cbm_accuracy_test'] = np.mean([r[f'distiller_cbm_seed{seed}_accuracy_test'] for seed in range(1, 4)], axis = 0)\n",
    "r['std_distiller_cbm_accuracy_test'] = np.std([r[f'distiller_cbm_seed{seed}_accuracy_test'] for seed in range(1, 4)], axis = 0)\n",
    "\n",
    "#correct overlap\n",
    "\n",
    "r['mean_%_correct_overlap_trainval'] = np.mean([r[f'%_correct_seed{seed}_overlap_trainval'] for seed in range(1, 4)], axis = 0)\n",
    "r['std_%_correct_overlap_trainval'] = np.std([r[f'%_correct_seed{seed}_overlap_trainval'] for seed in range(1, 4)], axis = 0)\n",
    "r['mean_%_correct_overlap_test'] = np.mean([r[f'%_correct_seed{seed}_overlap_test'] for seed in range(1, 4)], axis = 0)\n",
    "r['std_%_correct_overlap_test'] = np.std([r[f'%_correct_seed{seed}_overlap_test'] for seed in range(1, 4)], axis = 0)\n",
    "\n",
    "#edited performance\n",
    "\n",
    "r['mean_edited_cbm_true_accuracy_trainval'] = np.mean([r[f'edited_cbm_true_seed{seed}_accuracy_trainval'] for seed in range(1, 4)], axis = 0)\n",
    "r['std_edited_cbm_true_accuracy_trainval'] = np.std([r[f'edited_cbm_true_seed{seed}_accuracy_trainval'] for seed in range(1, 4)], axis = 0)\n",
    "r['mean_edited_cbm_true_accuracy_test'] = np.mean([r[f'edited_cbm_true_seed{seed}_accuracy_test'] for seed in range(1, 4)], axis = 0)\n",
    "r['std_edited_cbm_true_accuracy_test'] = np.std([r[f'edited_cbm_true_seed{seed}_accuracy_test'] for seed in range(1, 4)], axis = 0)\n",
    "\n",
    "r['mean_edited_distiller_true_accuracy_trainval'] = np.mean([r[f'edited_distiller_true_seed{seed}_accuracy_trainval'] for seed in range(1, 4)], axis = 0)\n",
    "r['std_edited_distiller_true_accuracy_trainval'] = np.std([r[f'edited_distiller_true_seed{seed}_accuracy_trainval'] for seed in range(1, 4)], axis = 0)\n",
    "r['mean_edited_distiller_true_accuracy_test'] = np.mean([r[f'edited_distiller_true_seed{seed}_accuracy_test'] for seed in range(1, 4)], axis = 0)\n",
    "r['std_edited_distiller_true_accuracy_test'] = np.std([r[f'edited_distiller_true_seed{seed}_accuracy_test'] for seed in range(1, 4)], axis = 0)\n",
    "\n",
    "r['mean_edited_distiller_cbm_accuracy_trainval'] = np.mean([r[f'edited_distiller_cbm_seed{seed}_accuracy_trainval'] for seed in range(1, 4)], axis = 0)\n",
    "r['std_edited_distiller_cbm_accuracy_trainval'] = np.std([r[f'edited_distiller_cbm_seed{seed}_accuracy_trainval'] for seed in range(1, 4)], axis = 0)\n",
    "r['mean_edited_distiller_cbm_accuracy_test'] = np.mean([r[f'edited_distiller_cbm_seed{seed}_accuracy_test'] for seed in range(1, 4)], axis = 0)\n",
    "r['std_edited_distiller_cbm_accuracy_test'] = np.std([r[f'edited_distiller_cbm_seed{seed}_accuracy_test'] for seed in range(1, 4)], axis = 0)\n",
    "\n",
    "#edited correct overlap\n",
    "\n",
    "r['mean_edited_%_correct_overlap_trainval'] = np.mean([r[f'edited_%_correct_seed{seed}_overlap_trainval'] for seed in range(1, 4)], axis = 0)\n",
    "r['std_edited_%_correct_overlap_trainval'] = np.std([r[f'edited_%_correct_seed{seed}_overlap_trainval'] for seed in range(1, 4)], axis = 0)\n",
    "r['mean_edited_%_correct_overlap_test'] = np.mean([r[f'edited_%_correct_seed{seed}_overlap_test'] for seed in range(1, 4)], axis = 0)\n",
    "r['std_edited_%_correct_overlap_test'] = np.std([r[f'edited_%_correct_seed{seed}_overlap_test'] for seed in range(1, 4)], axis = 0)"
   ]
  },
  {
   "cell_type": "code",
   "execution_count": 29,
   "metadata": {},
   "outputs": [],
   "source": [
    "r = r.drop(columns  = ['save_dir', 'save_dir_unique', 'use_cache', 'device']\n",
    "      +['cbm_true_seed1_accuracy_trainval', 'cbm_true_seed1_accuracy_test',\n",
    "       'distiller_true_seed1_accuracy_trainval',\n",
    "       'distiller_true_seed1_accuracy_test',\n",
    "       'distiller_cbm_seed1_accuracy_trainval',\n",
    "       'distiller_cbm_seed1_accuracy_test', '%_correct_seed1_overlap_trainval',\n",
    "       '%_correct_seed1_overlap_test',\n",
    "       'edited_cbm_true_seed1_accuracy_trainval',\n",
    "       'edited_cbm_true_seed1_accuracy_test',\n",
    "       'edited_distiller_true_seed1_accuracy_trainval',\n",
    "       'edited_distiller_true_seed1_accuracy_test',\n",
    "       'edited_distiller_cbm_seed1_accuracy_trainval',\n",
    "       'edited_distiller_cbm_seed1_accuracy_test',\n",
    "       'edited_%_correct_seed1_overlap_trainval',\n",
    "       'edited_%_correct_seed1_overlap_test',\n",
    "       'cbm_true_seed2_accuracy_trainval', 'cbm_true_seed2_accuracy_test',\n",
    "       'distiller_true_seed2_accuracy_trainval',\n",
    "       'distiller_true_seed2_accuracy_test',\n",
    "       'distiller_cbm_seed2_accuracy_trainval',\n",
    "       'distiller_cbm_seed2_accuracy_test', '%_correct_seed2_overlap_trainval',\n",
    "       '%_correct_seed2_overlap_test',\n",
    "       'edited_cbm_true_seed2_accuracy_trainval',\n",
    "       'edited_cbm_true_seed2_accuracy_test',\n",
    "       'edited_distiller_true_seed2_accuracy_trainval',\n",
    "       'edited_distiller_true_seed2_accuracy_test',\n",
    "       'edited_distiller_cbm_seed2_accuracy_trainval',\n",
    "       'edited_distiller_cbm_seed2_accuracy_test',\n",
    "       'edited_%_correct_seed2_overlap_trainval',\n",
    "       'edited_%_correct_seed2_overlap_test',\n",
    "       'cbm_true_seed3_accuracy_trainval', 'cbm_true_seed3_accuracy_test',\n",
    "       'distiller_true_seed3_accuracy_trainval',\n",
    "       'distiller_true_seed3_accuracy_test',\n",
    "       'distiller_cbm_seed3_accuracy_trainval',\n",
    "       'distiller_cbm_seed3_accuracy_test', '%_correct_seed3_overlap_trainval',\n",
    "       '%_correct_seed3_overlap_test',\n",
    "       'edited_cbm_true_seed3_accuracy_trainval',\n",
    "       'edited_cbm_true_seed3_accuracy_test',\n",
    "       'edited_distiller_true_seed3_accuracy_trainval',\n",
    "       'edited_distiller_true_seed3_accuracy_tesst',\n",
    "       'edited_distiller_cbm_seed3_accuracy_trainval',\n",
    "       'edited_distiller_cbm_seed3_accuracy_test',\n",
    "       'edited_%_correct_seed3_overlap_trainval',\n",
    "       'edited_%_correct_seed3_overlap_test'])"
   ]
  },
  {
   "cell_type": "code",
   "execution_count": 77,
   "metadata": {},
   "outputs": [
    {
     "data": {
      "text/plain": [
       "Index(['task_type', 'model_name', 'X_type', 'thresh', 'Y_type', 'max_rules',\n",
       "       'max_trees', 'max_depth', 'pre_interaction', 'pre_max_features',\n",
       "       'post_interaction', 'post_max_features', 'mo', 'concepts_to_edit',\n",
       "       'mean_cbm_true_accuracy_trainval', 'std_cbm_true_accuracy_trainval',\n",
       "       'mean_cbm_true_accuracy_test', 'std_cbm_true_accuracy_test',\n",
       "       'mean_distiller_true_accuracy_trainval',\n",
       "       'std_distiller_true_accuracy_trainval',\n",
       "       'mean_distiller_true_accuracy_test', 'std_distiller_true_accuracy_test',\n",
       "       'mean_distiller_cbm_accuracy_trainval',\n",
       "       'std_distiller_cbm_accuracy_trainval',\n",
       "       'mean_distiller_cbm_accuracy_test', 'std_distiller_cbm_accuracy_test',\n",
       "       'mean_%_correct_overlap_trainval', 'std_%_correct_overlap_trainval',\n",
       "       'mean_%_correct_overlap_test', 'std_%_correct_overlap_test',\n",
       "       'mean_edited_cbm_true_accuracy_trainval',\n",
       "       'std_edited_cbm_true_accuracy_trainval',\n",
       "       'mean_edited_cbm_true_accuracy_test',\n",
       "       'std_edited_cbm_true_accuracy_test',\n",
       "       'mean_edited_distiller_true_accuracy_trainval',\n",
       "       'std_edited_distiller_true_accuracy_trainval',\n",
       "       'mean_edited_distiller_true_accuracy_test',\n",
       "       'std_edited_distiller_true_accuracy_test',\n",
       "       'mean_edited_distiller_cbm_accuracy_trainval',\n",
       "       'std_edited_distiller_cbm_accuracy_trainval',\n",
       "       'mean_edited_distiller_cbm_accuracy_test',\n",
       "       'std_edited_distiller_cbm_accuracy_test',\n",
       "       'mean_edited_%_correct_overlap_trainval',\n",
       "       'std_edited_%_correct_overlap_trainval',\n",
       "       'mean_edited_%_correct_overlap_test',\n",
       "       'std_edited_%_correct_overlap_test'],\n",
       "      dtype='object')"
      ]
     },
     "execution_count": 77,
     "metadata": {},
     "output_type": "execute_result"
    }
   ],
   "source": [
    "r.columns"
   ]
  },
  {
   "cell_type": "code",
   "execution_count": 83,
   "metadata": {},
   "outputs": [
    {
     "data": {
      "text/html": [
       "<div>\n",
       "<style scoped>\n",
       "    .dataframe tbody tr th:only-of-type {\n",
       "        vertical-align: middle;\n",
       "    }\n",
       "\n",
       "    .dataframe tbody tr th {\n",
       "        vertical-align: top;\n",
       "    }\n",
       "\n",
       "    .dataframe thead th {\n",
       "        text-align: right;\n",
       "    }\n",
       "</style>\n",
       "<table border=\"1\" class=\"dataframe\">\n",
       "  <thead>\n",
       "    <tr style=\"text-align: right;\">\n",
       "      <th></th>\n",
       "      <th>model_name</th>\n",
       "      <th>post_max_features</th>\n",
       "    </tr>\n",
       "  </thead>\n",
       "  <tbody>\n",
       "    <tr>\n",
       "      <th>16</th>\n",
       "      <td>FTDHydraRegressorCV</td>\n",
       "      <td>7.0</td>\n",
       "    </tr>\n",
       "    <tr>\n",
       "      <th>33</th>\n",
       "      <td>FTDHydraRegressorCV</td>\n",
       "      <td>7.0</td>\n",
       "    </tr>\n",
       "    <tr>\n",
       "      <th>3</th>\n",
       "      <td>FTDHydraRegressorCV</td>\n",
       "      <td>7.0</td>\n",
       "    </tr>\n",
       "    <tr>\n",
       "      <th>39</th>\n",
       "      <td>FTDHydraRegressorCV</td>\n",
       "      <td>7.0</td>\n",
       "    </tr>\n",
       "    <tr>\n",
       "      <th>20</th>\n",
       "      <td>FTDHydraRegressorCV</td>\n",
       "      <td>7.0</td>\n",
       "    </tr>\n",
       "    <tr>\n",
       "      <th>21</th>\n",
       "      <td>FTDHydraRegressorCV</td>\n",
       "      <td>7.0</td>\n",
       "    </tr>\n",
       "    <tr>\n",
       "      <th>8</th>\n",
       "      <td>FTDHydraRegressorCV</td>\n",
       "      <td>7.0</td>\n",
       "    </tr>\n",
       "  </tbody>\n",
       "</table>\n",
       "</div>"
      ],
      "text/plain": [
       "             model_name  post_max_features\n",
       "16  FTDHydraRegressorCV                7.0\n",
       "33  FTDHydraRegressorCV                7.0\n",
       "3   FTDHydraRegressorCV                7.0\n",
       "39  FTDHydraRegressorCV                7.0\n",
       "20  FTDHydraRegressorCV                7.0\n",
       "21  FTDHydraRegressorCV                7.0\n",
       "8   FTDHydraRegressorCV                7.0"
      ]
     },
     "execution_count": 83,
     "metadata": {},
     "output_type": "execute_result"
    }
   ],
   "source": [
    "r[r.model_name =='FTDHydraRegressorCV'].sort_values('mean_distiller_true_accuracy_test', ascending=False)[['model_name', 'post_max_features']]"
   ]
  },
  {
   "cell_type": "code",
   "execution_count": 42,
   "metadata": {},
   "outputs": [
    {
     "data": {
      "text/plain": [
       "5     0.771258\n",
       "6     0.789840\n",
       "22    0.771258\n",
       "23    0.790818\n",
       "26    0.790128\n",
       "28    0.769187\n",
       "32    0.790818\n",
       "35    0.769187\n",
       "Name: mean_distiller_cbm_accuracy_test, dtype: float64"
      ]
     },
     "execution_count": 42,
     "metadata": {},
     "output_type": "execute_result"
    }
   ],
   "source": [
    "r[r['X_type'] == 'cluster']['mean_distiller_cbm_accuracy_test']"
   ]
  },
  {
   "cell_type": "code",
   "execution_count": 53,
   "metadata": {},
   "outputs": [
    {
     "data": {
      "text/plain": [
       "0     0.966355\n",
       "1     0.974320\n",
       "2     0.816065\n",
       "3     0.899454\n",
       "4     0.971201\n",
       "7     0.971201\n",
       "8     0.890430\n",
       "9     0.981061\n",
       "10    0.985071\n",
       "11    0.983066\n",
       "12    0.966355\n",
       "13    0.981061\n",
       "14    0.772727\n",
       "15    0.983066\n",
       "16    0.938336\n",
       "17    0.773674\n",
       "18    0.981172\n",
       "19    0.699978\n",
       "20    0.926638\n",
       "21    0.888703\n",
       "24    0.985071\n",
       "25    0.976381\n",
       "27    0.974320\n",
       "29    0.826705\n",
       "30    0.973039\n",
       "31    0.981172\n",
       "33    0.894942\n",
       "34    0.762199\n",
       "36    0.976381\n",
       "37    0.699086\n",
       "38    0.773117\n",
       "39    0.890374\n",
       "Name: mean_distiller_true_accuracy_trainval, dtype: float64"
      ]
     },
     "execution_count": 53,
     "metadata": {},
     "output_type": "execute_result"
    }
   ],
   "source": [
    "r[r['X_type'] != 'cluster']['mean_distiller_true_accuracy_trainval']"
   ]
  },
  {
   "cell_type": "code",
   "execution_count": 50,
   "metadata": {},
   "outputs": [
    {
     "data": {
      "text/plain": [
       "0     0.777126\n",
       "1     0.777126\n",
       "2     0.777126\n",
       "3     0.777126\n",
       "4     0.777126\n",
       "7     0.777126\n",
       "8     0.777126\n",
       "9     0.777126\n",
       "10    0.777126\n",
       "11    0.777126\n",
       "12    0.777126\n",
       "13    0.777126\n",
       "14    0.777126\n",
       "15    0.777126\n",
       "16    0.777126\n",
       "17    0.777126\n",
       "18    0.777126\n",
       "19    0.777126\n",
       "20    0.777126\n",
       "21    0.777126\n",
       "24    0.777126\n",
       "25    0.777126\n",
       "27    0.777126\n",
       "29    0.777126\n",
       "30    0.777126\n",
       "31    0.777126\n",
       "33    0.777126\n",
       "34    0.777126\n",
       "36    0.777126\n",
       "37    0.777126\n",
       "38    0.777126\n",
       "39    0.777126\n",
       "Name: mean_cbm_true_accuracy_test, dtype: float64"
      ]
     },
     "execution_count": 50,
     "metadata": {},
     "output_type": "execute_result"
    }
   ],
   "source": [
    "r[r['X_type'] != 'cluster']['mean_cbm_true_accuracy_test']"
   ]
  },
  {
   "cell_type": "code",
   "execution_count": 25,
   "metadata": {},
   "outputs": [
    {
     "data": {
      "text/plain": [
       "3     0.709527\n",
       "14    0.685997\n",
       "31    0.683983\n",
       "26    0.682890\n",
       "18    0.638879\n",
       "19    0.624957\n",
       "6     0.621160\n",
       "Name: mean_edited_distiller_true_accuracy_test, dtype: float64"
      ]
     },
     "execution_count": 25,
     "metadata": {},
     "output_type": "execute_result"
    }
   ],
   "source": [
    "r[r['model_name']=='FTDHydraRegressorCV'].sort_values('mean_edited_distiller_true_accuracy_test', ascending=False).mean_edited_distiller_true_accuracy_test #['mean_edited_distiller_true_accuracy_test'] #['mean_distiller_true_accuracy_test']"
   ]
  },
  {
   "cell_type": "code",
   "execution_count": null,
   "metadata": {},
   "outputs": [],
   "source": [
    "r[['model_name','mean_distiller_cbm_accuracy_trainval', 'mean_edited_distiller_cbm_accuracy_trainval', 'mean_distiller_cbm_accuracy_test', 'mean_edited_distiller_cbm_accuracy_test']]"
   ]
  },
  {
   "cell_type": "code",
   "execution_count": null,
   "metadata": {},
   "outputs": [],
   "source": [
    "r[['model_name','mean_cbm_true_accuracy_trainval', 'mean_edited_cbm_true_accuracy_trainval', 'mean_distiller_true_accuracy_trainval', 'mean_edited_distiller_true_accuracy_trainval',]]"
   ]
  },
  {
   "cell_type": "code",
   "execution_count": null,
   "metadata": {},
   "outputs": [],
   "source": [
    "r[['model_name', 'mean_%_correct_overlap_trainval', 'mean_%_correct_overlap_test', 'mean_edited_%_correct_overlap_trainval', 'mean_edited_%_correct_overlap_test']]"
   ]
  },
  {
   "cell_type": "code",
   "execution_count": null,
   "metadata": {},
   "outputs": [],
   "source": []
  },
  {
   "cell_type": "code",
   "execution_count": null,
   "metadata": {},
   "outputs": [],
   "source": []
  }
 ],
 "metadata": {
  "kernelspec": {
   "display_name": "Python 3 (ipykernel)",
   "language": "python",
   "name": "python3"
  },
  "language_info": {
   "codemirror_mode": {
    "name": "ipython",
    "version": 3
   },
   "file_extension": ".py",
   "mimetype": "text/x-python",
   "name": "python",
   "nbconvert_exporter": "python",
   "pygments_lexer": "ipython3",
   "version": "3.9.12"
  },
  "vscode": {
   "interpreter": {
    "hash": "559535f78d940c882783b39501b2581b5193373045707e5f8a51d046029cfd38"
   }
  }
 },
 "nbformat": 4,
 "nbformat_minor": 4
}

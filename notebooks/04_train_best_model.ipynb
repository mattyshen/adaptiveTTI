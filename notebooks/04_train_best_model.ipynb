{
 "cells": [
  {
   "cell_type": "code",
   "execution_count": 2,
   "metadata": {
    "tags": []
   },
   "outputs": [
    {
     "name": "stderr",
     "output_type": "stream",
     "text": [
      "100%|███████████████████████████████████████████████████████████████████████████████████████████████████████████████| 1823/1823 [00:30<00:00, 60.37it/s]\n"
     ]
    },
    {
     "name": "stdout",
     "output_type": "stream",
     "text": [
      "experiment varied these params: ['dataset_name', 'seed', 'model_name', 'max_depth', 'max_features', 'max_trees', 'n_epochs']\n"
     ]
    },
    {
     "data": {
      "text/plain": [
       "dataset_name  seed  model_name  max_depth  max_features  max_trees  n_epochs\n",
       "abalone       0     figs        4          0.50          20         100         1\n",
       "                                                         30         100         1\n",
       "                                           0.75          20         100         1\n",
       "                                                         30         100         1\n",
       "                                           1.00          20         100         1\n",
       "                                                                               ..\n",
       "transaction   4     rf_plus     4          1.00          30         100         1\n",
       "                                5          1.00          30         100         1\n",
       "                    xgboost     4          1.00          30         100         1\n",
       "                                5          1.00          30         100         1\n",
       "                                6          1.00          30         100         1\n",
       "Length: 1823, dtype: int64"
      ]
     },
     "execution_count": 2,
     "metadata": {},
     "output_type": "execute_result"
    }
   ],
   "source": [
    "import os\n",
    "import matplotlib.pyplot as plt\n",
    "import seaborn as sns\n",
    "from os.path import join\n",
    "from tqdm import tqdm\n",
    "import pandas as pd\n",
    "import numpy as np\n",
    "import joblib\n",
    "import imodelsx.process_results\n",
    "import sys\n",
    "sys.path.append('../experiments/')\n",
    "results_dir = '../results/04_train_best_model'\n",
    "experiment_filename = '../experiments/01_train_model.py'\n",
    "\n",
    "# load the results in to a pandas dataframe\n",
    "r = imodelsx.process_results.get_results_df(results_dir)\n",
    "cols_varied = imodelsx.process_results.get_experiment_keys(\n",
    "    r, experiment_filename)\n",
    "print('experiment varied these params:', cols_varied)\n",
    "r = imodelsx.process_results.fill_missing_args_with_default(\n",
    "    r, experiment_filename)\n",
    "\n",
    "# get the breakdown of data in these groups\n",
    "r.groupby(cols_varied).size()"
   ]
  },
  {
   "cell_type": "code",
   "execution_count": 31,
   "metadata": {},
   "outputs": [
    {
     "data": {
      "text/plain": [
       "array(['allstate', 'parkinsons', 'powerplant', 'miami_housing', 'cpu_act',\n",
       "       'transaction', 'ca_housing', 'insurance', 'mercedes', 'abalone',\n",
       "       'airfoil', 'concrete', 'qsar'], dtype=object)"
      ]
     },
     "execution_count": 31,
     "metadata": {},
     "output_type": "execute_result"
    }
   ],
   "source": [
    "datasets = r['dataset_name'].unique()\n",
    "datasets"
   ]
  },
  {
   "cell_type": "code",
   "execution_count": 24,
   "metadata": {},
   "outputs": [],
   "source": [
    "#RF params: max_depth, max_features\n",
    "rf = r[r['model_name'] == 'random_forest'].drop(columns=['subsample_frac', 'save_dir', 'featurizer_name', 'featurizer_frac', 'featurizer_overlap',\n",
    "                                                        'depth', 'bit', 'use_cache', 'cat_mappings', 'task_type', 'save_dir_unique',\n",
    "                                                        'gpu', 'n_epochs', 'max_rules', 'max_trees', 'pre_interaction', 'post_interaction',\n",
    "                                                        'pre_max_features', 'post_max_features', 'size_interactions'])\n",
    "rf_g = rf.groupby(['dataset_name','model_name', 'max_depth', 'max_features'])[['r2_score_train_true', 'r2_score_val_true']].mean()"
   ]
  },
  {
   "cell_type": "code",
   "execution_count": 46,
   "metadata": {},
   "outputs": [
    {
     "name": "stdout",
     "output_type": "stream",
     "text": [
      "('allstate', 'random_forest', 6, 0.5)\n",
      "0.4622840715830795\n",
      "('parkinsons', 'random_forest', 6, 1.0)\n",
      "0.7524213096993081\n",
      "('powerplant', 'random_forest', 6, 0.75)\n",
      "0.9438282121672575\n",
      "('miami_housing', 'random_forest', 6, 0.75)\n",
      "0.8556671426021527\n",
      "('cpu_act', 'random_forest', 6, 0.5)\n",
      "0.9730567587088202\n",
      "('transaction', 'random_forest', 6, 0.5)\n",
      "0.21572899530353756\n",
      "('ca_housing', 'random_forest', 6, 0.5)\n",
      "0.7030792389320804\n",
      "('insurance', 'random_forest', 4, 1.0)\n",
      "0.8571740981122209\n",
      "('mercedes', 'random_forest', 4, 1.0)\n",
      "0.5878040706284025\n",
      "('abalone', 'random_forest', 6, 1.0)\n",
      "0.5437160079110199\n",
      "('airfoil', 'random_forest', 6, 1.0)\n",
      "0.78256972006629\n",
      "('concrete', 'random_forest', 6, 1.0)\n",
      "0.8492022821680688\n",
      "('qsar', 'random_forest', 6, 1.0)\n",
      "0.39048867278188115\n"
     ]
    }
   ],
   "source": [
    "for d in datasets:\n",
    "    queried = rf_g.query(f\"dataset_name == '{d}'\")\n",
    "    print(queried['r2_score_val_true'].idxmax())\n",
    "    print(queried['r2_score_val_true'].max())"
   ]
  },
  {
   "cell_type": "code",
   "execution_count": 35,
   "metadata": {},
   "outputs": [],
   "source": [
    "#RF+ params: max_depth, max_features\n",
    "rf_p = r[r['model_name'] == 'rf_plus'].drop(columns=['subsample_frac', 'save_dir', 'featurizer_name', 'featurizer_frac', 'featurizer_overlap',\n",
    "                                                        'depth', 'bit', 'use_cache', 'cat_mappings', 'task_type', 'save_dir_unique',\n",
    "                                                        'gpu', 'n_epochs', 'max_rules', 'max_trees', 'pre_interaction', 'post_interaction',\n",
    "                                                        'pre_max_features', 'post_max_features', 'size_interactions'])\n",
    "rf_p_g = rf_p.groupby(['dataset_name','model_name', 'max_depth', 'max_features'])[['r2_score_train_true', 'r2_score_val_true']].mean()"
   ]
  },
  {
   "cell_type": "code",
   "execution_count": 36,
   "metadata": {},
   "outputs": [
    {
     "name": "stdout",
     "output_type": "stream",
     "text": [
      "('allstate', 'rf_plus', 5, 0.75) 0.4857347448456884\n",
      "('parkinsons', 'rf_plus', 6, 1.0) 0.7542152631148996\n",
      "('powerplant', 'rf_plus', 6, 0.75) 0.9446751731190283\n",
      "('miami_housing', 'rf_plus', 6, 1.0) 0.8712473379484337\n",
      "('cpu_act', 'rf_plus', 6, 0.5) 0.9783737223170819\n",
      "('transaction', 'rf_plus', 5, 1.0) 0.20406457989161803\n",
      "('ca_housing', 'rf_plus', 6, 0.75) 0.7221553430142867\n",
      "('insurance', 'rf_plus', 4, 1.0) 0.860206251420065\n",
      "('mercedes', 'rf_plus', 4, 1.0) 0.5894047942318578\n",
      "('abalone', 'rf_plus', 6, 0.75) 0.5668616306295201\n",
      "('airfoil', 'rf_plus', 6, 1.0) 0.7887936365206617\n",
      "('concrete', 'rf_plus', 6, 1.0) 0.8784921130490341\n",
      "('qsar', 'rf_plus', 5, 1.0) 0.3631886371350036\n"
     ]
    }
   ],
   "source": [
    "for d in datasets:\n",
    "    queried = rf_p_g.query(f\"dataset_name == '{d}'\")\n",
    "    print(queried['r2_score_val_true'].idxmax(), queried['r2_score_val_true'].max())"
   ]
  },
  {
   "cell_type": "code",
   "execution_count": 38,
   "metadata": {},
   "outputs": [],
   "source": [
    "#FIGS params: max_rules, max_trees, max_features\n",
    "figs = r[r['model_name'] == 'figs'].drop(columns=['subsample_frac', 'save_dir', 'featurizer_name', 'featurizer_frac', 'featurizer_overlap',\n",
    "                                                        'depth', 'bit', 'use_cache', 'cat_mappings', 'task_type', 'save_dir_unique',\n",
    "                                                        'gpu', 'n_epochs', 'max_depth','pre_interaction', 'post_interaction',\n",
    "                                                        'pre_max_features', 'post_max_features', 'size_interactions'])\n",
    "figs_g = figs.groupby(['dataset_name','model_name', 'max_rules','max_trees', 'max_features'])[['r2_score_train_true', 'r2_score_val_true']].mean()"
   ]
  },
  {
   "cell_type": "code",
   "execution_count": 39,
   "metadata": {},
   "outputs": [
    {
     "name": "stdout",
     "output_type": "stream",
     "text": [
      "('allstate', 'figs', 60, 20, 0.75) 0.5069910874821875\n",
      "('parkinsons', 'figs', 60, 20, 0.75) 0.8825121344810796\n",
      "('powerplant', 'figs', 60, 20, 0.5) 0.9374676393991448\n",
      "('miami_housing', 'figs', 60, 20, 1.0) 0.8621672423479977\n",
      "('cpu_act', 'figs', 60, 20, 1.0) 0.9773946580799491\n",
      "('transaction', 'figs', 60, 20, 0.75) -0.09348332723359438\n",
      "('ca_housing', 'figs', 60, 20, 1.0) 0.7815641252184437\n",
      "('insurance', 'figs', 60, 20, 0.5) 0.7879054740134631\n",
      "('mercedes', 'figs', 60, 20, 0.75) 0.4982606945129011\n",
      "('abalone', 'figs', 60, 20, 0.75) 0.4310555732638309\n",
      "('airfoil', 'figs', 60, 20, 1.0) 0.8418877912337767\n",
      "('concrete', 'figs', 60, 20, 1.0) 0.8820219424565234\n",
      "('qsar', 'figs', 60, 20, 1.0) 0.21637869968198498\n"
     ]
    }
   ],
   "source": [
    "for d in datasets:\n",
    "    queried = figs_g.query(f\"dataset_name == '{d}'\")\n",
    "    print(queried['r2_score_val_true'].idxmax(), queried['r2_score_val_true'].max())"
   ]
  },
  {
   "cell_type": "code",
   "execution_count": 41,
   "metadata": {},
   "outputs": [],
   "source": [
    "#RF+ params: max_depth, max_features\n",
    "xgb = r[r['model_name'] == 'xgboost'].drop(columns=['subsample_frac', 'save_dir', 'featurizer_name', 'featurizer_frac', 'featurizer_overlap',\n",
    "                                                        'depth', 'bit', 'use_cache', 'cat_mappings', 'task_type', 'save_dir_unique',\n",
    "                                                        'gpu', 'n_epochs', 'max_rules', 'max_trees', 'pre_interaction', 'post_interaction',\n",
    "                                                        'pre_max_features', 'post_max_features', 'size_interactions', 'max_features'])\n",
    "xgb_g = xgb.groupby(['dataset_name','model_name', 'max_depth'])[['r2_score_train_true', 'r2_score_val_true']].mean()"
   ]
  },
  {
   "cell_type": "code",
   "execution_count": 42,
   "metadata": {},
   "outputs": [
    {
     "name": "stdout",
     "output_type": "stream",
     "text": [
      "('allstate', 'xgboost', 5) 0.56880074550301\n",
      "('parkinsons', 'xgboost', 6) 0.8943154947685432\n",
      "('powerplant', 'xgboost', 6) 0.9619338164422656\n",
      "('miami_housing', 'xgboost', 5) 0.9154602004150789\n",
      "('cpu_act', 'xgboost', 4) 0.9833557963371277\n",
      "('transaction', 'xgboost', 4) 0.12749623951140837\n",
      "('ca_housing', 'xgboost', 6) 0.8258611965361391\n",
      "('insurance', 'xgboost', 4) 0.814687698692056\n",
      "('mercedes', 'xgboost', 4) 0.5457945775010881\n",
      "('abalone', 'xgboost', 4) 0.5052047848701477\n",
      "('airfoil', 'xgboost', 6) 0.9363278907330399\n",
      "('concrete', 'xgboost', 4) 0.9152923336616308\n",
      "('qsar', 'xgboost', 4) 0.40006738901138306\n"
     ]
    }
   ],
   "source": [
    "for d in datasets:\n",
    "    queried = xgb_g.query(f\"dataset_name == '{d}'\")\n",
    "    print(queried['r2_score_val_true'].idxmax(), queried['r2_score_val_true'].max())"
   ]
  },
  {
   "cell_type": "code",
   "execution_count": null,
   "metadata": {},
   "outputs": [],
   "source": []
  }
 ],
 "metadata": {
  "kernelspec": {
   "display_name": "Python 3 (ipykernel)",
   "language": "python",
   "name": "python3"
  },
  "language_info": {
   "codemirror_mode": {
    "name": "ipython",
    "version": 3
   },
   "file_extension": ".py",
   "mimetype": "text/x-python",
   "name": "python",
   "nbconvert_exporter": "python",
   "pygments_lexer": "ipython3",
   "version": "3.9.12"
  },
  "vscode": {
   "interpreter": {
    "hash": "559535f78d940c882783b39501b2581b5193373045707e5f8a51d046029cfd38"
   }
  }
 },
 "nbformat": 4,
 "nbformat_minor": 4
}

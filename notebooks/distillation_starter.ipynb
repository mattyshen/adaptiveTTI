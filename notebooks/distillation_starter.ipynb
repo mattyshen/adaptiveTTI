{
 "cells": [
  {
   "cell_type": "code",
   "execution_count": 1,
   "metadata": {
    "tags": []
   },
   "outputs": [
    {
     "name": "stderr",
     "output_type": "stream",
     "text": [
      "2025-01-28 14:16:23.631076: I tensorflow/core/platform/cpu_feature_guard.cc:210] This TensorFlow binary is optimized to use available CPU instructions in performance-critical operations.\n",
      "To enable the following instructions: AVX2 FMA, in other operations, rebuild TensorFlow with the appropriate compiler flags.\n",
      "2025-01-28 14:16:24.581629: W tensorflow/compiler/tf2tensorrt/utils/py_utils.cc:38] TF-TRT Warning: Could not find TensorRT\n",
      "/home/mattyshen/anaconda3/lib/python3.9/site-packages/transformers/utils/generic.py:311: FutureWarning: `torch.utils._pytree._register_pytree_node` is deprecated. Please use `torch.utils._pytree.register_pytree_node` instead.\n",
      "  torch.utils._pytree._register_pytree_node(\n",
      "100%|█████████████████████████████████████████| 12/12 [00:00<00:00, 1551.58it/s]\n"
     ]
    },
    {
     "name": "stdout",
     "output_type": "stream",
     "text": [
      "experiment varied these params: ['teacher_path', 'train_path', 'test_path', 'student_name', 'max_rules', 'max_trees', 'gpu']\n"
     ]
    },
    {
     "data": {
      "text/plain": [
       "teacher_path                                                                                train_path                                                                    test_path                                                                    student_name   max_rules  max_trees  gpu\n",
       "/home/mattyshen/DistillationEdit/models/cub/outputs/best_model_1.pth                        /home/mattyshen/iCBM/CUB/CUB_processed/class_attr_data_10/train.pkl           /home/mattyshen/iCBM/CUB/CUB_processed/class_attr_data_10/test.pkl           FIGSRegressor  90         30         0.0    1\n",
       "                                                                                                                                                                                                                                                                      100        20         0.0    1\n",
       "/home/mattyshen/DistillationEdit/models/cub/outputs/best_model_2.pth                        /home/mattyshen/iCBM/CUB/CUB_processed/class_attr_data_10/train.pkl           /home/mattyshen/iCBM/CUB/CUB_processed/class_attr_data_10/test.pkl           FIGSRegressor  90         30         0.0    1\n",
       "                                                                                                                                                                                                                                                                      100        20         0.0    1\n",
       "/home/mattyshen/DistillationEdit/models/cub/outputs/best_model_3.pth                        /home/mattyshen/iCBM/CUB/CUB_processed/class_attr_data_10/train.pkl           /home/mattyshen/iCBM/CUB/CUB_processed/class_attr_data_10/test.pkl           FIGSRegressor  90         30         0.0    1\n",
       "                                                                                                                                                                                                                                                                      100        20         0.0    1\n",
       "/home/mattyshen/iCBM/CUB/best_models/Joint0.01SigmoidModel__Seed1/outputs/best_model_1.pth  /home/mattyshen/iCBM/CUB/CUB_processed/class_attr_data_10/train.pkl           /home/mattyshen/iCBM/CUB/CUB_processed/class_attr_data_10/test.pkl           FIGSRegressor  100        20         0.0    1\n",
       "/home/mattyshen/iCBM/CUB/best_models/Joint0.01SigmoidModel__Seed2/outputs/best_model_2.pth  /home/mattyshen/iCBM/CUB/CUB_processed/class_attr_data_10/train.pkl           /home/mattyshen/iCBM/CUB/CUB_processed/class_attr_data_10/test.pkl           FIGSRegressor  100        20         0.0    1\n",
       "/home/mattyshen/iCBM/CUB/best_models/Joint0.01SigmoidModel__Seed3/outputs/best_model_3.pth  /home/mattyshen/iCBM/CUB/CUB_processed/class_attr_data_10/train.pkl           /home/mattyshen/iCBM/CUB/CUB_processed/class_attr_data_10/test.pkl           FIGSRegressor  100        20         0.0    1\n",
       "cub/outputs/best_Joint0.001_model_1.pth                                                     /home/mattyshen/ConceptBottleneck/CUB_processed/class_attr_data_10/train.pkl  /home/mattyshen/ConceptBottleneck/CUB_processed/class_attr_data_10/test.pkl  FIGSRegressor  125        25         0.0    1\n",
       "cub/outputs/best_Joint0.001_model_2.pth                                                     /home/mattyshen/ConceptBottleneck/CUB_processed/class_attr_data_10/train.pkl  /home/mattyshen/ConceptBottleneck/CUB_processed/class_attr_data_10/test.pkl  FIGSRegressor  125        25         1.0    1\n",
       "cub/outputs/best_Joint0.001_model_3.pth                                                     /home/mattyshen/ConceptBottleneck/CUB_processed/class_attr_data_10/train.pkl  /home/mattyshen/ConceptBottleneck/CUB_processed/class_attr_data_10/test.pkl  FIGSRegressor  125        25         2.0    1\n",
       "dtype: int64"
      ]
     },
     "execution_count": 1,
     "metadata": {},
     "output_type": "execute_result"
    }
   ],
   "source": [
    "import os\n",
    "import matplotlib.pyplot as plt\n",
    "import seaborn as sns\n",
    "from os.path import join\n",
    "from tqdm import tqdm\n",
    "import pandas as pd\n",
    "import numpy as np\n",
    "import joblib\n",
    "import imodelsx.process_results\n",
    "import sys\n",
    "from sklearn.metrics import accuracy_score\n",
    "\n",
    "sys.path.append('../experiments/')\n",
    "results = []\n",
    "\n",
    "results_dir = f'../results/distillation_starter'\n",
    "experiment_filename = '../experiments/distillation_cub.py'\n",
    "\n",
    "# load the results in to a pandas dataframe\n",
    "r = imodelsx.process_results.get_results_df(results_dir)\n",
    "cols_varied = imodelsx.process_results.get_experiment_keys(\n",
    "    r, experiment_filename)\n",
    "print('experiment varied these params:', cols_varied)\n",
    "r = imodelsx.process_results.fill_missing_args_with_default(\n",
    "    r, experiment_filename)\n",
    "\n",
    "# save results as csvs for backup\n",
    "#r.to_csv('../results/csvs/distillation_cub.csv')\n",
    "\n",
    "# get the breakdown of data in these groups\n",
    "r.groupby(cols_varied).size()"
   ]
  },
  {
   "cell_type": "code",
   "execution_count": 15,
   "metadata": {},
   "outputs": [
    {
     "data": {
      "text/plain": [
       "3     0.831032\n",
       "6     0.831032\n",
       "10    0.830687\n",
       "Name: teacher_prediction_test_accuracy, dtype: float64"
      ]
     },
     "execution_count": 15,
     "metadata": {},
     "output_type": "execute_result"
    }
   ],
   "source": [
    "r.iloc[[3, 6, 10],:].teacher_prediction_test_accuracy"
   ]
  },
  {
   "cell_type": "code",
   "execution_count": 14,
   "metadata": {},
   "outputs": [
    {
     "name": "stderr",
     "output_type": "stream",
     "text": [
      "/tmp/ipykernel_12465/3030996048.py:1: FutureWarning: The default value of numeric_only in DataFrame.mean is deprecated. In a future version, it will default to False. In addition, specifying 'numeric_only=None' is deprecated. Select only valid columns or specify the value of numeric_only to silence this warning.\n",
      "  r.iloc[[3, 6, 10],:][['distiller_distillation_train_accuracy',\n"
     ]
    },
    {
     "data": {
      "text/plain": [
       "distiller_distillation_train_accuracy                   NaN\n",
       "distiller_distillation_test_accuracy                    NaN\n",
       "distiller_prediction_train_accuracy                     NaN\n",
       "distiller_prediction_test_accuracy                      NaN\n",
       "teacher_prediction_train_accuracy                  0.939561\n",
       "teacher_prediction_test_accuracy                   0.830917\n",
       "distiller_distillation_interv_train_accuracy            NaN\n",
       "distiller_distillation_interv_test_accuracy             NaN\n",
       "distiller_prediction_interv_train_accuracy              NaN\n",
       "distiller_prediction_interv_test_accuracy               NaN\n",
       "teacher_prediction_interv_train_accuracy                NaN\n",
       "teacher_prediction_interv_test_accuracy                 NaN\n",
       "gpu                                                1.000000\n",
       "student_distillation_train_accuracy                0.809492\n",
       "student_distillation_test_accuracy                 0.705040\n",
       "student_prediction_train_accuracy                  0.801638\n",
       "student_prediction_test_accuracy                   0.657807\n",
       "student_distillation_adap_interv_train_accuracy    0.744931\n",
       "student_distillation_adap_interv_test_accuracy     0.659015\n",
       "student_prediction_adap_interv_train_accuracy      0.746045\n",
       "student_prediction_adap_interv_test_accuracy       0.626683\n",
       "teacher_prediction_adap_interv_train_accuracy      0.920844\n",
       "teacher_prediction_adap_interv_test_accuracy       0.816649\n",
       "student_distillation_rand_interv_train_accuracy    0.777852\n",
       "student_distillation_rand_interv_test_accuracy     0.674951\n",
       "student_prediction_rand_interv_train_accuracy      0.777295\n",
       "student_prediction_rand_interv_test_accuracy       0.638362\n",
       "teacher_prediction_rand_interv_train_accuracy      0.920844\n",
       "teacher_prediction_rand_interv_test_accuracy       0.816649\n",
       "dtype: float64"
      ]
     },
     "execution_count": 14,
     "metadata": {},
     "output_type": "execute_result"
    }
   ],
   "source": [
    "r.iloc[[3, 6, 10],:][['distiller_distillation_train_accuracy',\n",
    "       'distiller_distillation_test_accuracy',\n",
    "       'distiller_prediction_train_accuracy',\n",
    "       'distiller_prediction_test_accuracy',\n",
    "       'teacher_prediction_train_accuracy', 'teacher_prediction_test_accuracy',\n",
    "       'distiller_distillation_interv_train_accuracy',\n",
    "       'distiller_distillation_interv_test_accuracy',\n",
    "       'distiller_prediction_interv_train_accuracy',\n",
    "       'distiller_prediction_interv_test_accuracy',\n",
    "       'teacher_prediction_interv_train_accuracy',\n",
    "       'teacher_prediction_interv_test_accuracy', 'student_name', 'gpu',\n",
    "       'student_distillation_train_accuracy',\n",
    "       'student_distillation_test_accuracy',\n",
    "       'student_prediction_train_accuracy', 'student_prediction_test_accuracy',\n",
    "       'student_distillation_adap_interv_train_accuracy',\n",
    "       'student_distillation_adap_interv_test_accuracy',\n",
    "       'student_prediction_adap_interv_train_accuracy',\n",
    "       'student_prediction_adap_interv_test_accuracy',\n",
    "       'teacher_prediction_adap_interv_train_accuracy',\n",
    "       'teacher_prediction_adap_interv_test_accuracy',\n",
    "       'student_distillation_rand_interv_train_accuracy',\n",
    "       'student_distillation_rand_interv_test_accuracy',\n",
    "       'student_prediction_rand_interv_train_accuracy',\n",
    "       'student_prediction_rand_interv_test_accuracy',\n",
    "       'teacher_prediction_rand_interv_train_accuracy',\n",
    "       'teacher_prediction_rand_interv_test_accuracy']].mean()"
   ]
  },
  {
   "cell_type": "code",
   "execution_count": 99,
   "metadata": {},
   "outputs": [
    {
     "data": {
      "text/html": [
       "<div>\n",
       "<style scoped>\n",
       "    .dataframe tbody tr th:only-of-type {\n",
       "        vertical-align: middle;\n",
       "    }\n",
       "\n",
       "    .dataframe tbody tr th {\n",
       "        vertical-align: top;\n",
       "    }\n",
       "\n",
       "    .dataframe thead th {\n",
       "        text-align: right;\n",
       "    }\n",
       "</style>\n",
       "<table border=\"1\" class=\"dataframe\">\n",
       "  <thead>\n",
       "    <tr style=\"text-align: right;\">\n",
       "      <th></th>\n",
       "      <th>distiller_distillation_train_accuracy</th>\n",
       "      <th>distiller_distillation_test_accuracy</th>\n",
       "      <th>distiller_prediction_train_accuracy</th>\n",
       "      <th>distiller_prediction_test_accuracy</th>\n",
       "      <th>teacher_prediction_train_accuracy</th>\n",
       "      <th>teacher_prediction_test_accuracy</th>\n",
       "      <th>distiller_distillation_interv_train_accuracy</th>\n",
       "      <th>distiller_distillation_interv_test_accuracy</th>\n",
       "      <th>distiller_prediction_interv_train_accuracy</th>\n",
       "      <th>distiller_prediction_interv_test_accuracy</th>\n",
       "      <th>teacher_prediction_interv_train_accuracy</th>\n",
       "      <th>teacher_prediction_interv_test_accuracy</th>\n",
       "    </tr>\n",
       "    <tr>\n",
       "      <th>max_trees</th>\n",
       "      <th></th>\n",
       "      <th></th>\n",
       "      <th></th>\n",
       "      <th></th>\n",
       "      <th></th>\n",
       "      <th></th>\n",
       "      <th></th>\n",
       "      <th></th>\n",
       "      <th></th>\n",
       "      <th></th>\n",
       "      <th></th>\n",
       "      <th></th>\n",
       "    </tr>\n",
       "  </thead>\n",
       "  <tbody>\n",
       "    <tr>\n",
       "      <th>20</th>\n",
       "      <td>0.936776</td>\n",
       "      <td>0.807905</td>\n",
       "      <td>0.935940</td>\n",
       "      <td>0.724197</td>\n",
       "      <td>0.99844</td>\n",
       "      <td>0.812565</td>\n",
       "      <td>0.742034</td>\n",
       "      <td>0.607813</td>\n",
       "      <td>0.939728</td>\n",
       "      <td>0.771545</td>\n",
       "      <td>0.751281</td>\n",
       "      <td>0.599586</td>\n",
       "    </tr>\n",
       "    <tr>\n",
       "      <th>30</th>\n",
       "      <td>0.927028</td>\n",
       "      <td>0.800196</td>\n",
       "      <td>0.926248</td>\n",
       "      <td>0.718444</td>\n",
       "      <td>0.99844</td>\n",
       "      <td>0.812565</td>\n",
       "      <td>0.732565</td>\n",
       "      <td>0.601312</td>\n",
       "      <td>0.928420</td>\n",
       "      <td>0.765044</td>\n",
       "      <td>0.751448</td>\n",
       "      <td>0.598493</td>\n",
       "    </tr>\n",
       "  </tbody>\n",
       "</table>\n",
       "</div>"
      ],
      "text/plain": [
       "           distiller_distillation_train_accuracy  \\\n",
       "max_trees                                          \n",
       "20                                      0.936776   \n",
       "30                                      0.927028   \n",
       "\n",
       "           distiller_distillation_test_accuracy  \\\n",
       "max_trees                                         \n",
       "20                                     0.807905   \n",
       "30                                     0.800196   \n",
       "\n",
       "           distiller_prediction_train_accuracy  \\\n",
       "max_trees                                        \n",
       "20                                    0.935940   \n",
       "30                                    0.926248   \n",
       "\n",
       "           distiller_prediction_test_accuracy  \\\n",
       "max_trees                                       \n",
       "20                                   0.724197   \n",
       "30                                   0.718444   \n",
       "\n",
       "           teacher_prediction_train_accuracy  \\\n",
       "max_trees                                      \n",
       "20                                   0.99844   \n",
       "30                                   0.99844   \n",
       "\n",
       "           teacher_prediction_test_accuracy  \\\n",
       "max_trees                                     \n",
       "20                                 0.812565   \n",
       "30                                 0.812565   \n",
       "\n",
       "           distiller_distillation_interv_train_accuracy  \\\n",
       "max_trees                                                 \n",
       "20                                             0.742034   \n",
       "30                                             0.732565   \n",
       "\n",
       "           distiller_distillation_interv_test_accuracy  \\\n",
       "max_trees                                                \n",
       "20                                            0.607813   \n",
       "30                                            0.601312   \n",
       "\n",
       "           distiller_prediction_interv_train_accuracy  \\\n",
       "max_trees                                               \n",
       "20                                           0.939728   \n",
       "30                                           0.928420   \n",
       "\n",
       "           distiller_prediction_interv_test_accuracy  \\\n",
       "max_trees                                              \n",
       "20                                          0.771545   \n",
       "30                                          0.765044   \n",
       "\n",
       "           teacher_prediction_interv_train_accuracy  \\\n",
       "max_trees                                             \n",
       "20                                         0.751281   \n",
       "30                                         0.751448   \n",
       "\n",
       "           teacher_prediction_interv_test_accuracy  \n",
       "max_trees                                           \n",
       "20                                        0.599586  \n",
       "30                                        0.598493  "
      ]
     },
     "execution_count": 99,
     "metadata": {},
     "output_type": "execute_result"
    }
   ],
   "source": [
    "r.loc[[0, 1, 2, 3, 4, 7], ['max_trees', 'distiller_distillation_train_accuracy',\n",
    "       'distiller_distillation_test_accuracy',\n",
    "       'distiller_prediction_train_accuracy',\n",
    "       'distiller_prediction_test_accuracy',\n",
    "       'teacher_prediction_train_accuracy', 'teacher_prediction_test_accuracy',\n",
    "       'distiller_distillation_interv_train_accuracy',\n",
    "       'distiller_distillation_interv_test_accuracy',\n",
    "       'distiller_prediction_interv_train_accuracy',\n",
    "       'distiller_prediction_interv_test_accuracy',\n",
    "       'teacher_prediction_interv_train_accuracy',\n",
    "       'teacher_prediction_interv_test_accuracy']].groupby('max_trees').mean()"
   ]
  },
  {
   "cell_type": "code",
   "execution_count": 76,
   "metadata": {},
   "outputs": [
    {
     "data": {
      "text/plain": [
       "0.7659072603843056"
      ]
     },
     "execution_count": 76,
     "metadata": {},
     "output_type": "execute_result"
    }
   ],
   "source": [
    "r.distiller_prediction_test_accuracy.mean()"
   ]
  },
  {
   "cell_type": "code",
   "execution_count": 78,
   "metadata": {},
   "outputs": [
    {
     "data": {
      "text/plain": [
       "0.7658497296053389"
      ]
     },
     "execution_count": 78,
     "metadata": {},
     "output_type": "execute_result"
    }
   ],
   "source": [
    "r.distiller_prediction_test_accuracy.mean()"
   ]
  },
  {
   "cell_type": "code",
   "execution_count": 71,
   "metadata": {},
   "outputs": [
    {
     "data": {
      "text/plain": [
       "0.03308019790587968"
      ]
     },
     "execution_count": 71,
     "metadata": {},
     "output_type": "execute_result"
    }
   ],
   "source": [
    "np.mean(r.squeeze(axis=0).distiller_prediction_interv_test_accuracy) - np.mean(r.squeeze(axis=0).distiller_prediction_test_accuracy)"
   ]
  },
  {
   "cell_type": "code",
   "execution_count": null,
   "metadata": {},
   "outputs": [],
   "source": []
  }
 ],
 "metadata": {
  "kernelspec": {
   "display_name": "Python 3 (ipykernel)",
   "language": "python",
   "name": "python3"
  },
  "language_info": {
   "codemirror_mode": {
    "name": "ipython",
    "version": 3
   },
   "file_extension": ".py",
   "mimetype": "text/x-python",
   "name": "python",
   "nbconvert_exporter": "python",
   "pygments_lexer": "ipython3",
   "version": "3.12.2"
  },
  "vscode": {
   "interpreter": {
    "hash": "559535f78d940c882783b39501b2581b5193373045707e5f8a51d046029cfd38"
   }
  }
 },
 "nbformat": 4,
 "nbformat_minor": 4
}

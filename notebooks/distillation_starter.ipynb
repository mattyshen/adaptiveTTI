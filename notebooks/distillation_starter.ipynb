{
 "cells": [
  {
   "cell_type": "code",
   "execution_count": 1,
   "metadata": {
    "tags": []
   },
   "outputs": [
    {
     "name": "stderr",
     "output_type": "stream",
     "text": [
      "2025-01-28 14:16:23.631076: I tensorflow/core/platform/cpu_feature_guard.cc:210] This TensorFlow binary is optimized to use available CPU instructions in performance-critical operations.\n",
      "To enable the following instructions: AVX2 FMA, in other operations, rebuild TensorFlow with the appropriate compiler flags.\n",
      "2025-01-28 14:16:24.581629: W tensorflow/compiler/tf2tensorrt/utils/py_utils.cc:38] TF-TRT Warning: Could not find TensorRT\n",
      "/home/mattyshen/anaconda3/lib/python3.9/site-packages/transformers/utils/generic.py:311: FutureWarning: `torch.utils._pytree._register_pytree_node` is deprecated. Please use `torch.utils._pytree.register_pytree_node` instead.\n",
      "  torch.utils._pytree._register_pytree_node(\n",
      "100%|█████████████████████████████████████████| 12/12 [00:00<00:00, 1551.58it/s]\n"
     ]
    },
    {
     "name": "stdout",
     "output_type": "stream",
     "text": [
      "experiment varied these params: ['teacher_path', 'train_path', 'test_path', 'student_name', 'max_rules', 'max_trees', 'gpu']\n"
     ]
    },
    {
     "data": {
      "text/plain": [
       "teacher_path                                                                                train_path                                                                    test_path                                                                    student_name   max_rules  max_trees  gpu\n",
       "/home/mattyshen/DistillationEdit/models/cub/outputs/best_model_1.pth                        /home/mattyshen/iCBM/CUB/CUB_processed/class_attr_data_10/train.pkl           /home/mattyshen/iCBM/CUB/CUB_processed/class_attr_data_10/test.pkl           FIGSRegressor  90         30         0.0    1\n",
       "                                                                                                                                                                                                                                                                      100        20         0.0    1\n",
       "/home/mattyshen/DistillationEdit/models/cub/outputs/best_model_2.pth                        /home/mattyshen/iCBM/CUB/CUB_processed/class_attr_data_10/train.pkl           /home/mattyshen/iCBM/CUB/CUB_processed/class_attr_data_10/test.pkl           FIGSRegressor  90         30         0.0    1\n",
       "                                                                                                                                                                                                                                                                      100        20         0.0    1\n",
       "/home/mattyshen/DistillationEdit/models/cub/outputs/best_model_3.pth                        /home/mattyshen/iCBM/CUB/CUB_processed/class_attr_data_10/train.pkl           /home/mattyshen/iCBM/CUB/CUB_processed/class_attr_data_10/test.pkl           FIGSRegressor  90         30         0.0    1\n",
       "                                                                                                                                                                                                                                                                      100        20         0.0    1\n",
       "/home/mattyshen/iCBM/CUB/best_models/Joint0.01SigmoidModel__Seed1/outputs/best_model_1.pth  /home/mattyshen/iCBM/CUB/CUB_processed/class_attr_data_10/train.pkl           /home/mattyshen/iCBM/CUB/CUB_processed/class_attr_data_10/test.pkl           FIGSRegressor  100        20         0.0    1\n",
       "/home/mattyshen/iCBM/CUB/best_models/Joint0.01SigmoidModel__Seed2/outputs/best_model_2.pth  /home/mattyshen/iCBM/CUB/CUB_processed/class_attr_data_10/train.pkl           /home/mattyshen/iCBM/CUB/CUB_processed/class_attr_data_10/test.pkl           FIGSRegressor  100        20         0.0    1\n",
       "/home/mattyshen/iCBM/CUB/best_models/Joint0.01SigmoidModel__Seed3/outputs/best_model_3.pth  /home/mattyshen/iCBM/CUB/CUB_processed/class_attr_data_10/train.pkl           /home/mattyshen/iCBM/CUB/CUB_processed/class_attr_data_10/test.pkl           FIGSRegressor  100        20         0.0    1\n",
       "cub/outputs/best_Joint0.001_model_1.pth                                                     /home/mattyshen/ConceptBottleneck/CUB_processed/class_attr_data_10/train.pkl  /home/mattyshen/ConceptBottleneck/CUB_processed/class_attr_data_10/test.pkl  FIGSRegressor  125        25         0.0    1\n",
       "cub/outputs/best_Joint0.001_model_2.pth                                                     /home/mattyshen/ConceptBottleneck/CUB_processed/class_attr_data_10/train.pkl  /home/mattyshen/ConceptBottleneck/CUB_processed/class_attr_data_10/test.pkl  FIGSRegressor  125        25         1.0    1\n",
       "cub/outputs/best_Joint0.001_model_3.pth                                                     /home/mattyshen/ConceptBottleneck/CUB_processed/class_attr_data_10/train.pkl  /home/mattyshen/ConceptBottleneck/CUB_processed/class_attr_data_10/test.pkl  FIGSRegressor  125        25         2.0    1\n",
       "dtype: int64"
      ]
     },
     "execution_count": 1,
     "metadata": {},
     "output_type": "execute_result"
    }
   ],
   "source": [
    "import os\n",
    "import matplotlib.pyplot as plt\n",
    "import seaborn as sns\n",
    "from os.path import join\n",
    "from tqdm import tqdm\n",
    "import pandas as pd\n",
    "import numpy as np\n",
    "import joblib\n",
    "import imodelsx.process_results\n",
    "import sys\n",
    "from sklearn.metrics import accuracy_score\n",
    "\n",
    "sys.path.append('../experiments/')\n",
    "results = []\n",
    "\n",
    "results_dir = f'../results/distillation_starter'\n",
    "experiment_filename = '../experiments/distillation_cub.py'\n",
    "\n",
    "# load the results in to a pandas dataframe\n",
    "r = imodelsx.process_results.get_results_df(results_dir)\n",
    "cols_varied = imodelsx.process_results.get_experiment_keys(\n",
    "    r, experiment_filename)\n",
    "print('experiment varied these params:', cols_varied)\n",
    "r = imodelsx.process_results.fill_missing_args_with_default(\n",
    "    r, experiment_filename)\n",
    "\n",
    "# save results as csvs for backup\n",
    "#r.to_csv('../results/csvs/distillation_cub.csv')\n",
    "\n",
    "# get the breakdown of data in these groups\n",
    "r.groupby(cols_varied).size()"
   ]
  },
  {
   "cell_type": "code",
   "execution_count": null,
   "metadata": {},
   "outputs": [],
   "source": []
  }
 ],
 "metadata": {
  "kernelspec": {
   "display_name": "Python 3 (ipykernel)",
   "language": "python",
   "name": "python3"
  },
  "language_info": {
   "codemirror_mode": {
    "name": "ipython",
    "version": 3
   },
   "file_extension": ".py",
   "mimetype": "text/x-python",
   "name": "python",
   "nbconvert_exporter": "python",
   "pygments_lexer": "ipython3",
   "version": "3.9.12"
  },
  "vscode": {
   "interpreter": {
    "hash": "559535f78d940c882783b39501b2581b5193373045707e5f8a51d046029cfd38"
   }
  }
 },
 "nbformat": 4,
 "nbformat_minor": 4
}

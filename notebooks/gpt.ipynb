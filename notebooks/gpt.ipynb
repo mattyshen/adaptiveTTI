{
 "cells": [
  {
   "cell_type": "code",
   "execution_count": 25,
   "metadata": {
    "tags": []
   },
   "outputs": [
    {
     "name": "stderr",
     "output_type": "stream",
     "text": [
      "100%|████████████████████████████████████████████| 3/3 [00:00<00:00, 467.07it/s]"
     ]
    },
    {
     "name": "stdout",
     "output_type": "stream",
     "text": [
      "experiment varied these params: ['thresh']\n"
     ]
    },
    {
     "name": "stderr",
     "output_type": "stream",
     "text": [
      "\n"
     ]
    },
    {
     "data": {
      "text/plain": [
       "thresh\n",
       "0.40    1\n",
       "0.45    1\n",
       "0.50    1\n",
       "dtype: int64"
      ]
     },
     "execution_count": 25,
     "metadata": {},
     "output_type": "execute_result"
    }
   ],
   "source": [
    "import os\n",
    "import matplotlib.pyplot as plt\n",
    "import seaborn as sns\n",
    "from os.path import join\n",
    "from tqdm import tqdm\n",
    "import pandas as pd\n",
    "import numpy as np\n",
    "import joblib\n",
    "import imodelsx.process_results\n",
    "import sys\n",
    "from sklearn.metrics import accuracy_score\n",
    "\n",
    "# def load_csvs(path):\n",
    "\n",
    "#     X_train = pd.read_csv(f'{path}/X_trainval.csv', index_col=0)\n",
    "#     X_train_hat = pd.read_csv(f'{path}/X_trainval_hat.csv', index_col=0)\n",
    "#     X_test = pd.read_csv(f'{path}/X_test.csv', index_col=0)\n",
    "#     X_test_hat = pd.read_csv(f'{path}/X_test_hat.csv', index_col=0)\n",
    "#     y_train = pd.read_csv(f'{path}/y_trainval.csv', index_col=0)\n",
    "#     y_train_hat = pd.read_csv(f'{path}/y_trainval_hat.csv', index_col=0)\n",
    "#     y_test = pd.read_csv(f'{path}/y_test.csv', index_col=0)\n",
    "#     y_test_hat = pd.read_csv(f'{path}/y_test_hat.csv', index_col=0)\n",
    "\n",
    "#     return X_train, X_train_hat, X_test, X_test_hat, y_train, y_train_hat, y_test, y_test_hat\n",
    "\n",
    "sys.path.append('../experiments/')\n",
    "results = []\n",
    "\n",
    "results_dir = f'../results/gpt'\n",
    "experiment_filename = '../experiments/cub_distillation_edit.py'\n",
    "\n",
    "# load the results in to a pandas dataframe\n",
    "r = imodelsx.process_results.get_results_df(results_dir)\n",
    "cols_varied = imodelsx.process_results.get_experiment_keys(\n",
    "    r, experiment_filename)\n",
    "print('experiment varied these params:', cols_varied)\n",
    "r = imodelsx.process_results.fill_missing_args_with_default(\n",
    "    r, experiment_filename)\n",
    "\n",
    "# get the breakdown of data in these groups\n",
    "r.groupby(cols_varied).size()"
   ]
  },
  {
   "cell_type": "code",
   "execution_count": 26,
   "metadata": {},
   "outputs": [],
   "source": [
    "#performance\n",
    "r['mean_cbm_true_accuracy_trainval'] = np.mean([r[f'cbm_true_seed{seed}_accuracy_trainval'] for seed in range(1, 4)], axis = 0)\n",
    "r['std_cbm_true_accuracy_trainval'] = np.std([r[f'cbm_true_seed{seed}_accuracy_trainval'] for seed in range(1, 4)], axis = 0)\n",
    "r['mean_cbm_true_accuracy_test'] = np.mean([r[f'cbm_true_seed{seed}_accuracy_test'] for seed in range(1, 4)], axis = 0)\n",
    "r['std_cbm_true_accuracy_test'] = np.std([r[f'cbm_true_seed{seed}_accuracy_test'] for seed in range(1, 4)], axis = 0)\n",
    "\n",
    "r['mean_distiller_true_accuracy_trainval'] = np.mean([r[f'distiller_true_seed{seed}_accuracy_trainval'] for seed in range(1, 4)], axis = 0)\n",
    "r['std_distiller_true_accuracy_trainval'] = np.std([r[f'distiller_true_seed{seed}_accuracy_trainval'] for seed in range(1, 4)], axis = 0)\n",
    "r['mean_distiller_true_accuracy_test'] = np.mean([r[f'distiller_true_seed{seed}_accuracy_test'] for seed in range(1, 4)], axis = 0)\n",
    "r['std_distiller_true_accuracy_test'] = np.std([r[f'distiller_true_seed{seed}_accuracy_test'] for seed in range(1, 4)], axis = 0)\n",
    "\n",
    "r['mean_distiller_cbm_accuracy_trainval'] = np.mean([r[f'distiller_cbm_seed{seed}_accuracy_trainval'] for seed in range(1, 4)], axis = 0)\n",
    "r['std_distiller_cbm_accuracy_trainval'] = np.std([r[f'distiller_cbm_seed{seed}_accuracy_trainval'] for seed in range(1, 4)], axis = 0)\n",
    "r['mean_distiller_cbm_accuracy_test'] = np.mean([r[f'distiller_cbm_seed{seed}_accuracy_test'] for seed in range(1, 4)], axis = 0)\n",
    "r['std_distiller_cbm_accuracy_test'] = np.std([r[f'distiller_cbm_seed{seed}_accuracy_test'] for seed in range(1, 4)], axis = 0)\n",
    "\n",
    "#correct overlap\n",
    "\n",
    "r['mean_%_correct_overlap_trainval'] = np.mean([r[f'%_correct_seed{seed}_overlap_trainval'] for seed in range(1, 4)], axis = 0)\n",
    "r['std_%_correct_overlap_trainval'] = np.std([r[f'%_correct_seed{seed}_overlap_trainval'] for seed in range(1, 4)], axis = 0)\n",
    "r['mean_%_correct_overlap_test'] = np.mean([r[f'%_correct_seed{seed}_overlap_test'] for seed in range(1, 4)], axis = 0)\n",
    "r['std_%_correct_overlap_test'] = np.std([r[f'%_correct_seed{seed}_overlap_test'] for seed in range(1, 4)], axis = 0)\n",
    "\n",
    "#edited performance\n",
    "\n",
    "r['mean_edited_cbm_true_accuracy_trainval'] = np.mean([r[f'edited_cbm_true_seed{seed}_accuracy_trainval'] for seed in range(1, 4)], axis = 0)\n",
    "r['std_edited_cbm_true_accuracy_trainval'] = np.std([r[f'edited_cbm_true_seed{seed}_accuracy_trainval'] for seed in range(1, 4)], axis = 0)\n",
    "r['mean_edited_cbm_true_accuracy_test'] = np.mean([r[f'edited_cbm_true_seed{seed}_accuracy_test'] for seed in range(1, 4)], axis = 0)\n",
    "r['std_edited_cbm_true_accuracy_test'] = np.std([r[f'edited_cbm_true_seed{seed}_accuracy_test'] for seed in range(1, 4)], axis = 0)\n",
    "\n",
    "r['mean_edited_distiller_true_accuracy_trainval'] = np.mean([r[f'edited_distiller_true_seed{seed}_accuracy_trainval'] for seed in range(1, 4)], axis = 0)\n",
    "r['std_edited_distiller_true_accuracy_trainval'] = np.std([r[f'edited_distiller_true_seed{seed}_accuracy_trainval'] for seed in range(1, 4)], axis = 0)\n",
    "r['mean_edited_distiller_true_accuracy_test'] = np.mean([r[f'edited_distiller_true_seed{seed}_accuracy_test'] for seed in range(1, 4)], axis = 0)\n",
    "r['std_edited_distiller_true_accuracy_test'] = np.std([r[f'edited_distiller_true_seed{seed}_accuracy_test'] for seed in range(1, 4)], axis = 0)\n",
    "\n",
    "r['mean_edited_distiller_cbm_accuracy_trainval'] = np.mean([r[f'edited_distiller_cbm_seed{seed}_accuracy_trainval'] for seed in range(1, 4)], axis = 0)\n",
    "r['std_edited_distiller_cbm_accuracy_trainval'] = np.std([r[f'edited_distiller_cbm_seed{seed}_accuracy_trainval'] for seed in range(1, 4)], axis = 0)\n",
    "r['mean_edited_distiller_cbm_accuracy_test'] = np.mean([r[f'edited_distiller_cbm_seed{seed}_accuracy_test'] for seed in range(1, 4)], axis = 0)\n",
    "r['std_edited_distiller_cbm_accuracy_test'] = np.std([r[f'edited_distiller_cbm_seed{seed}_accuracy_test'] for seed in range(1, 4)], axis = 0)\n",
    "\n",
    "#edited correct overlap\n",
    "\n",
    "r['mean_edited_%_correct_overlap_trainval'] = np.mean([r[f'edited_%_correct_seed{seed}_overlap_trainval'] for seed in range(1, 4)], axis = 0)\n",
    "r['std_edited_%_correct_overlap_trainval'] = np.std([r[f'edited_%_correct_seed{seed}_overlap_trainval'] for seed in range(1, 4)], axis = 0)\n",
    "r['mean_edited_%_correct_overlap_test'] = np.mean([r[f'edited_%_correct_seed{seed}_overlap_test'] for seed in range(1, 4)], axis = 0)\n",
    "r['std_edited_%_correct_overlap_test'] = np.std([r[f'edited_%_correct_seed{seed}_overlap_test'] for seed in range(1, 4)], axis = 0)"
   ]
  },
  {
   "cell_type": "code",
   "execution_count": 27,
   "metadata": {},
   "outputs": [],
   "source": [
    "r = r.drop(columns  = ['save_dir', 'save_dir_unique', 'use_cache', 'device']\n",
    "      +['cbm_true_seed1_accuracy_trainval', 'cbm_true_seed1_accuracy_test',\n",
    "       'distiller_true_seed1_accuracy_trainval',\n",
    "       'distiller_true_seed1_accuracy_test',\n",
    "       'distiller_cbm_seed1_accuracy_trainval',\n",
    "       'distiller_cbm_seed1_accuracy_test', '%_correct_seed1_overlap_trainval',\n",
    "       '%_correct_seed1_overlap_test',\n",
    "       'edited_cbm_true_seed1_accuracy_trainval',\n",
    "       'edited_cbm_true_seed1_accuracy_test',\n",
    "       'edited_distiller_true_seed1_accuracy_trainval',\n",
    "       'edited_distiller_true_seed1_accuracy_test',\n",
    "       'edited_distiller_cbm_seed1_accuracy_trainval',\n",
    "       'edited_distiller_cbm_seed1_accuracy_test',\n",
    "       'edited_%_correct_seed1_overlap_trainval',\n",
    "       'edited_%_correct_seed1_overlap_test',\n",
    "       'cbm_true_seed2_accuracy_trainval', 'cbm_true_seed2_accuracy_test',\n",
    "       'distiller_true_seed2_accuracy_trainval',\n",
    "       'distiller_true_seed2_accuracy_test',\n",
    "       'distiller_cbm_seed2_accuracy_trainval',\n",
    "       'distiller_cbm_seed2_accuracy_test', '%_correct_seed2_overlap_trainval',\n",
    "       '%_correct_seed2_overlap_test',\n",
    "       'edited_cbm_true_seed2_accuracy_trainval',\n",
    "       'edited_cbm_true_seed2_accuracy_test',\n",
    "       'edited_distiller_true_seed2_accuracy_trainval',\n",
    "       'edited_distiller_true_seed2_accuracy_test',\n",
    "       'edited_distiller_cbm_seed2_accuracy_trainval',\n",
    "       'edited_distiller_cbm_seed2_accuracy_test',\n",
    "       'edited_%_correct_seed2_overlap_trainval',\n",
    "       'edited_%_correct_seed2_overlap_test',\n",
    "       'cbm_true_seed3_accuracy_trainval', 'cbm_true_seed3_accuracy_test',\n",
    "       'distiller_true_seed3_accuracy_trainval',\n",
    "       'distiller_true_seed3_accuracy_test',\n",
    "       'distiller_cbm_seed3_accuracy_trainval',\n",
    "       'distiller_cbm_seed3_accuracy_test', '%_correct_seed3_overlap_trainval',\n",
    "       '%_correct_seed3_overlap_test',\n",
    "       'edited_cbm_true_seed3_accuracy_trainval',\n",
    "       'edited_cbm_true_seed3_accuracy_test',\n",
    "       'edited_distiller_true_seed3_accuracy_trainval',\n",
    "       'edited_distiller_true_seed3_accuracy_test',\n",
    "       'edited_distiller_cbm_seed3_accuracy_trainval',\n",
    "       'edited_distiller_cbm_seed3_accuracy_test',\n",
    "       'edited_%_correct_seed3_overlap_trainval',\n",
    "       'edited_%_correct_seed3_overlap_test'])"
   ]
  },
  {
   "cell_type": "code",
   "execution_count": 28,
   "metadata": {},
   "outputs": [
    {
     "data": {
      "text/plain": [
       "2    0.766828\n",
       "0    0.765447\n",
       "1    0.765447\n",
       "Name: mean_distiller_true_accuracy_test, dtype: float64"
      ]
     },
     "execution_count": 28,
     "metadata": {},
     "output_type": "execute_result"
    }
   ],
   "source": [
    "cluster_plotting = r[r.concepts_to_edit == 'random_clusters']\n",
    "cluster_plotting.sort_values('mean_distiller_true_accuracy_test', ascending=False).mean_distiller_true_accuracy_test #.mean_edited_distiler_true_accuracy_test"
   ]
  },
  {
   "cell_type": "code",
   "execution_count": 29,
   "metadata": {},
   "outputs": [
    {
     "data": {
      "text/html": [
       "<div>\n",
       "<style scoped>\n",
       "    .dataframe tbody tr th:only-of-type {\n",
       "        vertical-align: middle;\n",
       "    }\n",
       "\n",
       "    .dataframe tbody tr th {\n",
       "        vertical-align: top;\n",
       "    }\n",
       "\n",
       "    .dataframe thead th {\n",
       "        text-align: right;\n",
       "    }\n",
       "</style>\n",
       "<table border=\"1\" class=\"dataframe\">\n",
       "  <thead>\n",
       "    <tr style=\"text-align: right;\">\n",
       "      <th></th>\n",
       "      <th>task_type</th>\n",
       "      <th>model_name</th>\n",
       "      <th>X_type</th>\n",
       "      <th>thresh</th>\n",
       "      <th>Y_type</th>\n",
       "      <th>max_trees</th>\n",
       "      <th>max_depth</th>\n",
       "      <th>pre_interaction</th>\n",
       "      <th>pre_max_features</th>\n",
       "      <th>post_interaction</th>\n",
       "      <th>...</th>\n",
       "      <th>mean_edited_distiller_true_accuracy_test</th>\n",
       "      <th>std_edited_distiller_true_accuracy_test</th>\n",
       "      <th>mean_edited_distiller_cbm_accuracy_trainval</th>\n",
       "      <th>std_edited_distiller_cbm_accuracy_trainval</th>\n",
       "      <th>mean_edited_distiller_cbm_accuracy_test</th>\n",
       "      <th>std_edited_distiller_cbm_accuracy_test</th>\n",
       "      <th>mean_edited_%_correct_overlap_trainval</th>\n",
       "      <th>std_edited_%_correct_overlap_trainval</th>\n",
       "      <th>mean_edited_%_correct_overlap_test</th>\n",
       "      <th>std_edited_%_correct_overlap_test</th>\n",
       "    </tr>\n",
       "  </thead>\n",
       "  <tbody>\n",
       "    <tr>\n",
       "      <th>0</th>\n",
       "      <td>regression</td>\n",
       "      <td>FIGSRegressor</td>\n",
       "      <td>binary</td>\n",
       "      <td>0.40</td>\n",
       "      <td>logits</td>\n",
       "      <td>30</td>\n",
       "      <td>3</td>\n",
       "      <td>l0l2</td>\n",
       "      <td>25.0</td>\n",
       "      <td>l0l2</td>\n",
       "      <td>...</td>\n",
       "      <td>0.804913</td>\n",
       "      <td>0.002600</td>\n",
       "      <td>0.984848</td>\n",
       "      <td>0.000673</td>\n",
       "      <td>0.905477</td>\n",
       "      <td>0.003348</td>\n",
       "      <td>0.986185</td>\n",
       "      <td>0.001024</td>\n",
       "      <td>0.936313</td>\n",
       "      <td>0.002328</td>\n",
       "    </tr>\n",
       "    <tr>\n",
       "      <th>1</th>\n",
       "      <td>regression</td>\n",
       "      <td>FIGSRegressor</td>\n",
       "      <td>binary</td>\n",
       "      <td>0.50</td>\n",
       "      <td>logits</td>\n",
       "      <td>30</td>\n",
       "      <td>3</td>\n",
       "      <td>l0l2</td>\n",
       "      <td>25.0</td>\n",
       "      <td>l0l2</td>\n",
       "      <td>...</td>\n",
       "      <td>0.800311</td>\n",
       "      <td>0.003049</td>\n",
       "      <td>0.978554</td>\n",
       "      <td>0.002896</td>\n",
       "      <td>0.893568</td>\n",
       "      <td>0.003227</td>\n",
       "      <td>0.980615</td>\n",
       "      <td>0.000955</td>\n",
       "      <td>0.926533</td>\n",
       "      <td>0.002295</td>\n",
       "    </tr>\n",
       "    <tr>\n",
       "      <th>2</th>\n",
       "      <td>regression</td>\n",
       "      <td>FIGSRegressor</td>\n",
       "      <td>binary</td>\n",
       "      <td>0.45</td>\n",
       "      <td>logits</td>\n",
       "      <td>30</td>\n",
       "      <td>3</td>\n",
       "      <td>l0l2</td>\n",
       "      <td>25.0</td>\n",
       "      <td>l0l2</td>\n",
       "      <td>...</td>\n",
       "      <td>0.803763</td>\n",
       "      <td>0.002999</td>\n",
       "      <td>0.983957</td>\n",
       "      <td>0.002527</td>\n",
       "      <td>0.902773</td>\n",
       "      <td>0.003521</td>\n",
       "      <td>0.985406</td>\n",
       "      <td>0.002678</td>\n",
       "      <td>0.933552</td>\n",
       "      <td>0.002610</td>\n",
       "    </tr>\n",
       "  </tbody>\n",
       "</table>\n",
       "<p>3 rows × 47 columns</p>\n",
       "</div>"
      ],
      "text/plain": [
       "    task_type     model_name  X_type  thresh  Y_type  max_trees  max_depth  \\\n",
       "0  regression  FIGSRegressor  binary    0.40  logits         30          3   \n",
       "1  regression  FIGSRegressor  binary    0.50  logits         30          3   \n",
       "2  regression  FIGSRegressor  binary    0.45  logits         30          3   \n",
       "\n",
       "  pre_interaction  pre_max_features post_interaction  ...  \\\n",
       "0            l0l2              25.0             l0l2  ...   \n",
       "1            l0l2              25.0             l0l2  ...   \n",
       "2            l0l2              25.0             l0l2  ...   \n",
       "\n",
       "   mean_edited_distiller_true_accuracy_test  \\\n",
       "0                                  0.804913   \n",
       "1                                  0.800311   \n",
       "2                                  0.803763   \n",
       "\n",
       "   std_edited_distiller_true_accuracy_test  \\\n",
       "0                                 0.002600   \n",
       "1                                 0.003049   \n",
       "2                                 0.002999   \n",
       "\n",
       "   mean_edited_distiller_cbm_accuracy_trainval  \\\n",
       "0                                     0.984848   \n",
       "1                                     0.978554   \n",
       "2                                     0.983957   \n",
       "\n",
       "  std_edited_distiller_cbm_accuracy_trainval  \\\n",
       "0                                   0.000673   \n",
       "1                                   0.002896   \n",
       "2                                   0.002527   \n",
       "\n",
       "   mean_edited_distiller_cbm_accuracy_test  \\\n",
       "0                                 0.905477   \n",
       "1                                 0.893568   \n",
       "2                                 0.902773   \n",
       "\n",
       "   std_edited_distiller_cbm_accuracy_test  \\\n",
       "0                                0.003348   \n",
       "1                                0.003227   \n",
       "2                                0.003521   \n",
       "\n",
       "   mean_edited_%_correct_overlap_trainval  \\\n",
       "0                                0.986185   \n",
       "1                                0.980615   \n",
       "2                                0.985406   \n",
       "\n",
       "   std_edited_%_correct_overlap_trainval  mean_edited_%_correct_overlap_test  \\\n",
       "0                               0.001024                            0.936313   \n",
       "1                               0.000955                            0.926533   \n",
       "2                               0.002678                            0.933552   \n",
       "\n",
       "   std_edited_%_correct_overlap_test  \n",
       "0                           0.002328  \n",
       "1                           0.002295  \n",
       "2                           0.002610  \n",
       "\n",
       "[3 rows x 47 columns]"
      ]
     },
     "execution_count": 29,
     "metadata": {},
     "output_type": "execute_result"
    }
   ],
   "source": [
    "r.drop(columns = ['max_rules', ])"
   ]
  },
  {
   "cell_type": "code",
   "execution_count": 30,
   "metadata": {},
   "outputs": [],
   "source": [
    "def plot_grouped_accuracy_barchart(data, x_type_col, train_col, test_col, title):\n",
    "    \"\"\"\n",
    "    Plots a grouped bar chart of train and test accuracy grouped by X_type.\n",
    "\n",
    "    Parameters:\n",
    "        data (pd.DataFrame): DataFrame containing the data.\n",
    "        x_type_col (str): Name of the column representing X_type groups.\n",
    "        train_col (str): Name of the column representing train accuracy.\n",
    "        test_col (str): Name of the column representing test accuracy.\n",
    "    \"\"\"\n",
    "    # Calculate mean accuracy for each X_type group\n",
    "    grouped_data = data.groupby([x_type_col, 'thresh']).agg({train_col: 'mean', test_col: 'mean'}).reset_index()\n",
    "\n",
    "    # Extract values for plotting\n",
    "    x_types = grouped_data[x_type_col]\n",
    "    train_acc = grouped_data[train_col]\n",
    "    test_acc = grouped_data[test_col]\n",
    "    \n",
    "    # Define bar positions\n",
    "    bar_width = 0.35\n",
    "    x = range(len(x_types))\n",
    "    \n",
    "    # Create the bar chart\n",
    "    plt.figure(figsize=(10, 6))\n",
    "    plt.bar(x, train_acc, width=bar_width, label='Train Accuracy', alpha=0.7, color='blue', edgecolor='black')\n",
    "    plt.bar([p + bar_width for p in x], test_acc, width=bar_width, label='Test Accuracy', alpha=0.7, color='orange', edgecolor='black')\n",
    "    \n",
    "    # Add labels, title, and legend\n",
    "    plt.xlabel(\"X_type\", fontsize=14)\n",
    "    plt.ylabel(\"Accuracy\", fontsize=14)\n",
    "    plt.title(title, fontsize=16)\n",
    "    plt.xticks([p + bar_width / 2 for p in x], x_types, fontsize=12, rotation=45)\n",
    "    plt.legend(fontsize=12, title=\"Legend\", title_fontsize=12)\n",
    "    plt.grid(axis='y', linestyle='--', alpha=0.7)\n",
    "    plt.tight_layout()\n",
    "    plt.show()\n",
    "    #plt.savefig(f'../figures/{title}.png')\n",
    "\n",
    "# Example usage\n",
    "# Assuming you have a DataFrame `df` with columns \"X_type\", \"train_accuracy\", \"test_accuracy\"\n",
    "# plot_grouped_accuracy_barchart(df, \"X_type\", \"train_accuracy\", \"test_accuracy\")\n"
   ]
  },
  {
   "cell_type": "code",
   "execution_count": null,
   "metadata": {},
   "outputs": [],
   "source": []
  },
  {
   "cell_type": "code",
   "execution_count": 31,
   "metadata": {},
   "outputs": [
    {
     "data": {
      "image/png": "[encoded data removed]",
      "text/plain": [
       "<Figure size 720x432 with 1 Axes>"
      ]
     },
     "metadata": {
      "needs_background": "light"
     },
     "output_type": "display_data"
    }
   ],
   "source": [
    "plot_grouped_accuracy_barchart(cluster_plotting, 'X_type', 'mean_distiller_true_accuracy_trainval', 'mean_distiller_true_accuracy_test', \"Prediction Accuracy vs. Data Preprocessing\")"
   ]
  },
  {
   "cell_type": "code",
   "execution_count": 32,
   "metadata": {},
   "outputs": [
    {
     "data": {
      "image/png": "[encoded data removed]",
      "text/plain": [
       "<Figure size 720x432 with 1 Axes>"
      ]
     },
     "metadata": {
      "needs_background": "light"
     },
     "output_type": "display_data"
    }
   ],
   "source": [
    "plot_grouped_accuracy_barchart(cluster_plotting, 'X_type', 'mean_distiller_cbm_accuracy_trainval', 'mean_distiller_cbm_accuracy_test', \"Distillation Accuracy vs. Data Preprocessing\")"
   ]
  },
  {
   "cell_type": "code",
   "execution_count": 33,
   "metadata": {},
   "outputs": [],
   "source": [
    "def plot_model_editing_barchart(data, x_type_col, orig_col, group_col, indep_col, title):\n",
    "    \"\"\"\n",
    "    Plots a grouped bar chart of train and test accuracy grouped by X_type.\n",
    "\n",
    "    Parameters:\n",
    "        data (pd.DataFrame): DataFrame containing the data.\n",
    "        x_type_col (str): Name of the column representing X_type groups.\n",
    "        train_col (str): Name of the column representing train accuracy.\n",
    "        test_col (str): Name of the column representing test accuracy.\n",
    "    \"\"\"\n",
    "    # Calculate mean accuracy for each X_type group\n",
    "    grouped_cluster_data = data[data.concepts_to_edit=='random_clusters']#.groupby(x_type_col).agg({train_col: 'mean', test_col: 'mean'}).reset_index()\n",
    "    grouped_indep_data = data[data.concepts_to_edit=='random_independent']#.groupby(x_type_col).agg({train_col: 'mean', test_col: 'mean'}).reset_index()\n",
    "    # Extract values for plotting\n",
    "    grouped_cluster_data = grouped_cluster_data[[x_type_col, orig_col, group_col]]\n",
    "    grouped_cluster_data['group_' + group_col] = grouped_cluster_data[group_col]\n",
    "    grouped_indep_data = grouped_indep_data[[x_type_col, orig_col, indep_col]]\n",
    "    grouped_indep_data['indep_' + group_col] = grouped_indep_data[indep_col]\n",
    "    \n",
    "    grouped_data = pd.merge(grouped_cluster_data, grouped_indep_data, on=x_type_col)\n",
    "    #return grouped_data\n",
    "    grouped_data = grouped_data.sort_values('X_type', ascending=True)\n",
    "    x_types = grouped_data[x_type_col]\n",
    "    orig_acc = grouped_data[orig_col+'_x']\n",
    "    group_acc = grouped_data['group_' + group_col]\n",
    "    indep_acc = grouped_data['indep_' + indep_col]\n",
    "    \n",
    "    # Define bar positions\n",
    "    bar_width = 0.2\n",
    "    x = range(len(x_types))\n",
    "    \n",
    "    # Create the bar chart\n",
    "    plt.figure(figsize=(10, 6))\n",
    "    plt.bar(x, orig_acc, width=bar_width, label='Original Accuracy', alpha=0.7, color='blue', edgecolor='black')\n",
    "    plt.bar([p + bar_width for p in x], group_acc, width=bar_width, label='Group Edited Accuracy', alpha=0.7, color='orange', edgecolor='black')\n",
    "    plt.bar([p + bar_width*2 for p in x], indep_acc, width=bar_width, label='Independent Edited Accuracy', alpha=0.7, color='red', edgecolor='black')\n",
    "    \n",
    "    # Add labels, title, and legend\n",
    "    plt.xlabel(\"X_type\", fontsize=14)\n",
    "    plt.ylabel(\"Accuracy\", fontsize=14)\n",
    "    plt.title(title, fontsize=16)\n",
    "    plt.xticks([p + bar_width / 2 for p in x], x_types, fontsize=12, rotation=45)\n",
    "    plt.ylim(0, 1)\n",
    "    plt.legend(fontsize=12, title=\"Legend\", title_fontsize=12, loc='lower right')\n",
    "    plt.grid(axis='y', linestyle='--', alpha=0.7)\n",
    "    plt.tight_layout()\n",
    "    #plt.show()\n",
    "    #plt.savefig(f'../figures/{title}.png')\n",
    "\n",
    "# Example usage\n",
    "# Assuming you have a DataFrame `df` with columns \"X_type\", \"train_accuracy\", \"test_accuracy\"\n",
    "# plot_grouped_accuracy_barchart(df, \"X_type\", \"train_accuracy\", \"test_accuracy\")\n"
   ]
  },
  {
   "cell_type": "code",
   "execution_count": 34,
   "metadata": {},
   "outputs": [
    {
     "data": {
      "image/png": "[encoded data removed]",
      "text/plain": [
       "<Figure size 720x432 with 1 Axes>"
      ]
     },
     "metadata": {
      "needs_background": "light"
     },
     "output_type": "display_data"
    }
   ],
   "source": [
    "plot_model_editing_barchart(r, 'X_type', 'mean_distiller_true_accuracy_test', 'mean_edited_distiller_true_accuracy_test', 'mean_edited_distiller_true_accuracy_test', \"Distiller Edited Test Accuracy vs. Data Preprocessing\")"
   ]
  },
  {
   "cell_type": "code",
   "execution_count": 35,
   "metadata": {},
   "outputs": [
    {
     "data": {
      "image/png": "[encoded data removed]",
      "text/plain": [
       "<Figure size 720x432 with 1 Axes>"
      ]
     },
     "metadata": {
      "needs_background": "light"
     },
     "output_type": "display_data"
    }
   ],
   "source": [
    "plot_model_editing_barchart(r, 'X_type', 'mean_cbm_true_accuracy_test', 'mean_edited_cbm_true_accuracy_test', 'mean_edited_cbm_true_accuracy_test', \"CBM Edited Test Accuracy vs. Data Preprocessing\")\n",
    "\n"
   ]
  },
  {
   "cell_type": "code",
   "execution_count": 36,
   "metadata": {},
   "outputs": [
    {
     "data": {
      "text/html": [
       "<div>\n",
       "<style scoped>\n",
       "    .dataframe tbody tr th:only-of-type {\n",
       "        vertical-align: middle;\n",
       "    }\n",
       "\n",
       "    .dataframe tbody tr th {\n",
       "        vertical-align: top;\n",
       "    }\n",
       "\n",
       "    .dataframe thead th {\n",
       "        text-align: right;\n",
       "    }\n",
       "</style>\n",
       "<table border=\"1\" class=\"dataframe\">\n",
       "  <thead>\n",
       "    <tr style=\"text-align: right;\">\n",
       "      <th></th>\n",
       "      <th>X_type</th>\n",
       "      <th>thresh</th>\n",
       "      <th>concepts_to_edit</th>\n",
       "      <th>mean_distiller_true_accuracy_test</th>\n",
       "      <th>mean_edited_distiller_true_accuracy_test</th>\n",
       "    </tr>\n",
       "  </thead>\n",
       "  <tbody>\n",
       "    <tr>\n",
       "      <th>0</th>\n",
       "      <td>binary</td>\n",
       "      <td>0.40</td>\n",
       "      <td>random_clusters</td>\n",
       "      <td>0.765447</td>\n",
       "      <td>0.804913</td>\n",
       "    </tr>\n",
       "    <tr>\n",
       "      <th>1</th>\n",
       "      <td>binary</td>\n",
       "      <td>0.50</td>\n",
       "      <td>random_clusters</td>\n",
       "      <td>0.765447</td>\n",
       "      <td>0.800311</td>\n",
       "    </tr>\n",
       "    <tr>\n",
       "      <th>2</th>\n",
       "      <td>binary</td>\n",
       "      <td>0.45</td>\n",
       "      <td>random_clusters</td>\n",
       "      <td>0.766828</td>\n",
       "      <td>0.803763</td>\n",
       "    </tr>\n",
       "  </tbody>\n",
       "</table>\n",
       "</div>"
      ],
      "text/plain": [
       "   X_type  thresh concepts_to_edit  mean_distiller_true_accuracy_test  \\\n",
       "0  binary    0.40  random_clusters                           0.765447   \n",
       "1  binary    0.50  random_clusters                           0.765447   \n",
       "2  binary    0.45  random_clusters                           0.766828   \n",
       "\n",
       "   mean_edited_distiller_true_accuracy_test  \n",
       "0                                  0.804913  \n",
       "1                                  0.800311  \n",
       "2                                  0.803763  "
      ]
     },
     "execution_count": 36,
     "metadata": {},
     "output_type": "execute_result"
    }
   ],
   "source": [
    "r[['X_type', 'thresh', 'concepts_to_edit', 'mean_distiller_true_accuracy_test', 'mean_edited_distiller_true_accuracy_test']]"
   ]
  },
  {
   "cell_type": "code",
   "execution_count": null,
   "metadata": {},
   "outputs": [],
   "source": [
    "r[['model_name','mean_distiller_cbm_accuracy_trainval', 'mean_edited_distiller_cbm_accuracy_trainval', 'mean_distiller_cbm_accuracy_test', 'mean_edited_distiller_cbm_accuracy_test']]"
   ]
  },
  {
   "cell_type": "code",
   "execution_count": null,
   "metadata": {},
   "outputs": [],
   "source": [
    "r[['model_name','mean_cbm_true_accuracy_trainval', 'mean_edited_cbm_true_accuracy_trainval', 'mean_distiller_true_accuracy_trainval', 'mean_edited_distiller_true_accuracy_trainval',]]"
   ]
  },
  {
   "cell_type": "code",
   "execution_count": null,
   "metadata": {},
   "outputs": [],
   "source": [
    "r[['model_name', 'mean_%_correct_overlap_trainval', 'mean_%_correct_overlap_test', 'mean_edited_%_correct_overlap_trainval', 'mean_edited_%_correct_overlap_test']]"
   ]
  },
  {
   "cell_type": "code",
   "execution_count": null,
   "metadata": {},
   "outputs": [],
   "source": []
  },
  {
   "cell_type": "code",
   "execution_count": null,
   "metadata": {},
   "outputs": [],
   "source": []
  }
 ],
 "metadata": {
  "kernelspec": {
   "display_name": "Python 3 (ipykernel)",
   "language": "python",
   "name": "python3"
  },
  "language_info": {
   "codemirror_mode": {
    "name": "ipython",
    "version": 3
   },
   "file_extension": ".py",
   "mimetype": "text/x-python",
   "name": "python",
   "nbconvert_exporter": "python",
   "pygments_lexer": "ipython3",
   "version": "3.9.12"
  },
  "vscode": {
   "interpreter": {
    "hash": "559535f78d940c882783b39501b2581b5193373045707e5f8a51d046029cfd38"
   }
  }
 },
 "nbformat": 4,
 "nbformat_minor": 4
}

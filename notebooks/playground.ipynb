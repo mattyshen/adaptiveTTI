{
 "cells": [
  {
   "cell_type": "code",
   "execution_count": 1,
   "id": "53888a3b-384a-432b-a954-f1f26c38180b",
   "metadata": {},
   "outputs": [
    {
     "name": "stdout",
     "output_type": "stream",
     "text": [
      "/home/mattyshen/interpretableDistillation/notebooks\n"
     ]
    }
   ],
   "source": [
    "import numpy as np\n",
    "import pandas as pd\n",
    "from itertools import chain, combinations\n",
    "import l0learn\n",
    "import l0bnb\n",
    "from sklearn.linear_model import LinearRegression, Ridge, Lasso, ElasticNet \n",
    "import sys\n",
    "import os\n",
    "print(os.getcwd())\n",
    "sys.path.append(\"..\")\n",
    "from interpretDistill.iD import Node, distillFIGSRegressor"
   ]
  },
  {
   "cell_type": "code",
   "execution_count": 2,
   "id": "2727c771-47ab-4df6-9950-314b38885089",
   "metadata": {},
   "outputs": [
    {
     "name": "stderr",
     "output_type": "stream",
     "text": [
      "/home/mattyshen/anaconda3/lib/python3.9/site-packages/pandas/core/dtypes/cast.py:1841: DeprecationWarning: np.find_common_type is deprecated.  Please use `np.result_type` or `np.promote_types`.\n",
      "See https://numpy.org/devdocs/release/1.25.0-notes.html and the docs for more information.  (Deprecated NumPy 1.25)\n",
      "  return np.find_common_type(types, [])\n"
     ]
    }
   ],
   "source": [
    "import pandas as pd\n",
    "from itertools import chain, combinations\n",
    "\n",
    "n_samps = 100\n",
    "X = pd.DataFrame(np.random.choice([0, 1], size=(n_samps, 4)), columns = ['R', 'G', 'B', 'X'])\n",
    "y = np.random.rand(n_samps)\n",
    "\n",
    "def powerset(iterable):\n",
    "    s = list(iterable)\n",
    "    return chain.from_iterable(combinations(s, r) for r in range(len(s)+1))\n",
    "\n",
    "def compute_subset_product(subset, data):\n",
    "    if not subset:\n",
    "        return pd.Series(1, index=data.index)\n",
    "    else:\n",
    "        return data[list(subset)].product(axis=1)\n",
    "\n",
    "column_powerset = powerset(X.columns)\n",
    "Chi = pd.DataFrame()\n",
    "\n",
    "\n",
    "for subset in column_powerset:\n",
    "    #subset_name = '{' + ','.join(str(subset)) + '}' if subset else '{}'\n",
    "    Chi[subset] = compute_subset_product(subset, X)"
   ]
  },
  {
   "cell_type": "code",
   "execution_count": 3,
   "id": "b504ea06-c71e-4e8e-9b43-8afc06f9940b",
   "metadata": {},
   "outputs": [
    {
     "name": "stderr",
     "output_type": "stream",
     "text": [
      "/home/mattyshen/anaconda3/lib/python3.9/site-packages/pandas/core/dtypes/cast.py:1841: DeprecationWarning: np.find_common_type is deprecated.  Please use `np.result_type` or `np.promote_types`.\n",
      "See https://numpy.org/devdocs/release/1.25.0-notes.html and the docs for more information.  (Deprecated NumPy 1.25)\n",
      "  return np.find_common_type(types, [])\n"
     ]
    },
    {
     "data": {
      "text/html": [
       "<style>#sk-container-id-1 {color: black;background-color: white;}#sk-container-id-1 pre{padding: 0;}#sk-container-id-1 div.sk-toggleable {background-color: white;}#sk-container-id-1 label.sk-toggleable__label {cursor: pointer;display: block;width: 100%;margin-bottom: 0;padding: 0.3em;box-sizing: border-box;text-align: center;}#sk-container-id-1 label.sk-toggleable__label-arrow:before {content: \"▸\";float: left;margin-right: 0.25em;color: #696969;}#sk-container-id-1 label.sk-toggleable__label-arrow:hover:before {color: black;}#sk-container-id-1 div.sk-estimator:hover label.sk-toggleable__label-arrow:before {color: black;}#sk-container-id-1 div.sk-toggleable__content {max-height: 0;max-width: 0;overflow: hidden;text-align: left;background-color: #f0f8ff;}#sk-container-id-1 div.sk-toggleable__content pre {margin: 0.2em;color: black;border-radius: 0.25em;background-color: #f0f8ff;}#sk-container-id-1 input.sk-toggleable__control:checked~div.sk-toggleable__content {max-height: 200px;max-width: 100%;overflow: auto;}#sk-container-id-1 input.sk-toggleable__control:checked~label.sk-toggleable__label-arrow:before {content: \"▾\";}#sk-container-id-1 div.sk-estimator input.sk-toggleable__control:checked~label.sk-toggleable__label {background-color: #d4ebff;}#sk-container-id-1 div.sk-label input.sk-toggleable__control:checked~label.sk-toggleable__label {background-color: #d4ebff;}#sk-container-id-1 input.sk-hidden--visually {border: 0;clip: rect(1px 1px 1px 1px);clip: rect(1px, 1px, 1px, 1px);height: 1px;margin: -1px;overflow: hidden;padding: 0;position: absolute;width: 1px;}#sk-container-id-1 div.sk-estimator {font-family: monospace;background-color: #f0f8ff;border: 1px dotted black;border-radius: 0.25em;box-sizing: border-box;margin-bottom: 0.5em;}#sk-container-id-1 div.sk-estimator:hover {background-color: #d4ebff;}#sk-container-id-1 div.sk-parallel-item::after {content: \"\";width: 100%;border-bottom: 1px solid gray;flex-grow: 1;}#sk-container-id-1 div.sk-label:hover label.sk-toggleable__label {background-color: #d4ebff;}#sk-container-id-1 div.sk-serial::before {content: \"\";position: absolute;border-left: 1px solid gray;box-sizing: border-box;top: 0;bottom: 0;left: 50%;z-index: 0;}#sk-container-id-1 div.sk-serial {display: flex;flex-direction: column;align-items: center;background-color: white;padding-right: 0.2em;padding-left: 0.2em;position: relative;}#sk-container-id-1 div.sk-item {position: relative;z-index: 1;}#sk-container-id-1 div.sk-parallel {display: flex;align-items: stretch;justify-content: center;background-color: white;position: relative;}#sk-container-id-1 div.sk-item::before, #sk-container-id-1 div.sk-parallel-item::before {content: \"\";position: absolute;border-left: 1px solid gray;box-sizing: border-box;top: 0;bottom: 0;left: 50%;z-index: -1;}#sk-container-id-1 div.sk-parallel-item {display: flex;flex-direction: column;z-index: 1;position: relative;background-color: white;}#sk-container-id-1 div.sk-parallel-item:first-child::after {align-self: flex-end;width: 50%;}#sk-container-id-1 div.sk-parallel-item:last-child::after {align-self: flex-start;width: 50%;}#sk-container-id-1 div.sk-parallel-item:only-child::after {width: 0;}#sk-container-id-1 div.sk-dashed-wrapped {border: 1px dashed gray;margin: 0 0.4em 0.5em 0.4em;box-sizing: border-box;padding-bottom: 0.4em;background-color: white;}#sk-container-id-1 div.sk-label label {font-family: monospace;font-weight: bold;display: inline-block;line-height: 1.2em;}#sk-container-id-1 div.sk-label-container {text-align: center;}#sk-container-id-1 div.sk-container {/* jupyter's `normalize.less` sets `[hidden] { display: none; }` but bootstrap.min.css set `[hidden] { display: none !important; }` so we also need the `!important` here to be able to override the default hidden behavior on the sphinx rendered scikit-learn.org. See: https://github.com/scikit-learn/scikit-learn/issues/21755 */display: inline-block !important;position: relative;}#sk-container-id-1 div.sk-text-repr-fallback {display: none;}</style><div id=\"sk-container-id-1\" class=\"sk-top-container\"><div class=\"sk-text-repr-fallback\"><pre>&gt; ------------------------------\n",
       "&gt; distillFIGS-distilled Fast Interpretable Greedy-Tree Sums:\n",
       "&gt; \tPredictions are made by summing the &quot;Val&quot; reached by traversing each tree.\n",
       "&gt; \tFor classifiers, a sigmoid function is then applied to the sum.\n",
       "&gt; ------------------------------\n",
       "X_Intercept &lt;= 0.500 (Tree #None root)\n",
       "\n",
       "\t+\n",
       "X_R &lt;= 0.500 (Tree #None root)\n",
       "\n",
       "\t+\n",
       "X_X &lt;= 0.500 (Tree #None root)\n",
       "\n",
       "\t+\n",
       "X_G &lt;= 0.500 (split)\n",
       "\tX_B &lt;= 0.500 (Tree #None root)\n",
       "</pre><b>In a Jupyter environment, please rerun this cell to show the HTML representation or trust the notebook. <br />On GitHub, the HTML representation is unable to render, please try loading this page with nbviewer.org.</b></div><div class=\"sk-container\" hidden><div class=\"sk-item\"><div class=\"sk-estimator sk-toggleable\"><input class=\"sk-toggleable__control sk-hidden--visually\" id=\"sk-estimator-id-1\" type=\"checkbox\" checked><label for=\"sk-estimator-id-1\" class=\"sk-toggleable__label sk-toggleable__label-arrow\">distillFIGSRegressor</label><div class=\"sk-toggleable__content\"><pre>&gt; ------------------------------\n",
       "&gt; distillFIGS-distilled Fast Interpretable Greedy-Tree Sums:\n",
       "&gt; \tPredictions are made by summing the &quot;Val&quot; reached by traversing each tree.\n",
       "&gt; \tFor classifiers, a sigmoid function is then applied to the sum.\n",
       "&gt; ------------------------------\n",
       "X_Intercept &lt;= 0.500 (Tree #None root)\n",
       "\n",
       "\t+\n",
       "X_R &lt;= 0.500 (Tree #None root)\n",
       "\n",
       "\t+\n",
       "X_X &lt;= 0.500 (Tree #None root)\n",
       "\n",
       "\t+\n",
       "X_G &lt;= 0.500 (split)\n",
       "\tX_B &lt;= 0.500 (Tree #None root)\n",
       "</pre></div></div></div></div></div>"
      ],
      "text/plain": [
       "distillFIGSRegressor(lam=0.01)"
      ]
     },
     "execution_count": 3,
     "metadata": {},
     "output_type": "execute_result"
    }
   ],
   "source": [
    "model = distillFIGSRegressor(lam = 0.01)\n",
    "lasso = Lasso(fit_intercept = False, alpha = 0.01)\n",
    "lasso.fit(Chi, y)\n",
    "model.fit(X, y)"
   ]
  },
  {
   "cell_type": "code",
   "execution_count": 10,
   "id": "f807e4c9-6eaa-4549-8d53-2d03cf33d10e",
   "metadata": {},
   "outputs": [
    {
     "data": {
      "text/plain": [
       "1.0"
      ]
     },
     "execution_count": 10,
     "metadata": {},
     "output_type": "execute_result"
    }
   ],
   "source": [
    "np.mean(np.round(lasso.predict(Chi), 6) == np.round(model.predict(X), 6))"
   ]
  },
  {
   "cell_type": "code",
   "execution_count": null,
   "id": "441c1730-3176-4c50-9939-f2bb0fd3e5cc",
   "metadata": {},
   "outputs": [],
   "source": []
  },
  {
   "cell_type": "code",
   "execution_count": 5,
   "id": "c93111c1-53cd-4902-953a-b5711deec2de",
   "metadata": {},
   "outputs": [
    {
     "data": {
      "text/plain": [
       "array([0.52727043, 0.41784545, 0.46957   , 0.46957   , 0.50344241,\n",
       "       0.52727043, 0.52727043, 0.50344241, 0.47554589, 0.50344241,\n",
       "       0.46957   , 0.46957   , 0.47554589, 0.46957   , 0.52727043,\n",
       "       0.52727043, 0.50344241, 0.56114285, 0.47554589, 0.50344241,\n",
       "       0.47554589, 0.50344241, 0.46957   , 0.46957   , 0.52727043,\n",
       "       0.46957   , 0.56114285, 0.52727043, 0.46957   , 0.50344241,\n",
       "       0.50344241, 0.56114285, 0.52727043, 0.45171787, 0.50344241,\n",
       "       0.45171787, 0.56114285, 0.50344241, 0.56114285, 0.56114285,\n",
       "       0.46957   , 0.41784545, 0.52727043, 0.52727043, 0.52727043,\n",
       "       0.56114285, 0.52727043, 0.47554589, 0.52727043, 0.46957   ,\n",
       "       0.47554589, 0.50941831, 0.56114285, 0.56114285, 0.50344241,\n",
       "       0.46957   , 0.46957   , 0.46957   , 0.50344241, 0.47554589,\n",
       "       0.47554589, 0.46957   , 0.50344241, 0.56114285, 0.50344241,\n",
       "       0.46957   , 0.52727043, 0.45171787, 0.46957   , 0.50941831,\n",
       "       0.50344241, 0.45171787, 0.50344241, 0.50344241, 0.46957   ,\n",
       "       0.46957   , 0.50344241, 0.46957   , 0.52727043, 0.50344241,\n",
       "       0.46957   , 0.52727043, 0.52727043, 0.50344241, 0.50344241,\n",
       "       0.52727043, 0.50941831, 0.46957   , 0.46957   , 0.52727043,\n",
       "       0.52727043, 0.52727043, 0.41784545, 0.56114285, 0.46957   ,\n",
       "       0.56114285, 0.52727043, 0.47554589, 0.45171787, 0.46957   ])"
      ]
     },
     "execution_count": 5,
     "metadata": {},
     "output_type": "execute_result"
    }
   ],
   "source": [
    "lasso.predict(Chi)"
   ]
  },
  {
   "cell_type": "code",
   "execution_count": 6,
   "id": "7004d882-dea6-44bc-933f-0e01dce9105b",
   "metadata": {},
   "outputs": [],
   "source": [
    "ols = LinearRegression(fit_intercept = False)\n",
    "ridge = Ridge(fit_intercept = False, alpha = 0.1)\n",
    "lasso = Lasso(fit_intercept = False, alpha = 0.01)\n",
    "elasticnet = ElasticNet(fit_intercept = False, alpha = 0.1, l1_ratio = 0.5)"
   ]
  },
  {
   "cell_type": "code",
   "execution_count": 7,
   "id": "3b34b627-b734-49e0-bbb1-72e8f1dd63e2",
   "metadata": {},
   "outputs": [],
   "source": [
    "ols.fit(Chi, y)\n",
    "ridge.fit(Chi, y)\n",
    "lasso.fit(Chi, y)\n",
    "elasticnet.fit(Chi, y);"
   ]
  },
  {
   "cell_type": "code",
   "execution_count": 8,
   "id": "5963595b-25c3-42fe-97a1-f02c58d89970",
   "metadata": {},
   "outputs": [
    {
     "data": {
      "text/html": [
       "<div>\n",
       "<style scoped>\n",
       "    .dataframe tbody tr th:only-of-type {\n",
       "        vertical-align: middle;\n",
       "    }\n",
       "\n",
       "    .dataframe tbody tr th {\n",
       "        vertical-align: top;\n",
       "    }\n",
       "\n",
       "    .dataframe thead th {\n",
       "        text-align: right;\n",
       "    }\n",
       "</style>\n",
       "<table border=\"1\" class=\"dataframe\">\n",
       "  <thead>\n",
       "    <tr style=\"text-align: right;\">\n",
       "      <th></th>\n",
       "      <th>()</th>\n",
       "      <th>(R,)</th>\n",
       "      <th>(X,)</th>\n",
       "      <th>(G, B)</th>\n",
       "    </tr>\n",
       "  </thead>\n",
       "  <tbody>\n",
       "    <tr>\n",
       "      <th>0</th>\n",
       "      <td>1</td>\n",
       "      <td>1</td>\n",
       "      <td>0</td>\n",
       "      <td>0</td>\n",
       "    </tr>\n",
       "    <tr>\n",
       "      <th>1</th>\n",
       "      <td>1</td>\n",
       "      <td>0</td>\n",
       "      <td>0</td>\n",
       "      <td>1</td>\n",
       "    </tr>\n",
       "    <tr>\n",
       "      <th>2</th>\n",
       "      <td>1</td>\n",
       "      <td>0</td>\n",
       "      <td>0</td>\n",
       "      <td>0</td>\n",
       "    </tr>\n",
       "    <tr>\n",
       "      <th>3</th>\n",
       "      <td>1</td>\n",
       "      <td>0</td>\n",
       "      <td>0</td>\n",
       "      <td>0</td>\n",
       "    </tr>\n",
       "    <tr>\n",
       "      <th>4</th>\n",
       "      <td>1</td>\n",
       "      <td>0</td>\n",
       "      <td>1</td>\n",
       "      <td>0</td>\n",
       "    </tr>\n",
       "    <tr>\n",
       "      <th>...</th>\n",
       "      <td>...</td>\n",
       "      <td>...</td>\n",
       "      <td>...</td>\n",
       "      <td>...</td>\n",
       "    </tr>\n",
       "    <tr>\n",
       "      <th>95</th>\n",
       "      <td>1</td>\n",
       "      <td>1</td>\n",
       "      <td>1</td>\n",
       "      <td>0</td>\n",
       "    </tr>\n",
       "    <tr>\n",
       "      <th>96</th>\n",
       "      <td>1</td>\n",
       "      <td>1</td>\n",
       "      <td>0</td>\n",
       "      <td>0</td>\n",
       "    </tr>\n",
       "    <tr>\n",
       "      <th>97</th>\n",
       "      <td>1</td>\n",
       "      <td>1</td>\n",
       "      <td>0</td>\n",
       "      <td>1</td>\n",
       "    </tr>\n",
       "    <tr>\n",
       "      <th>98</th>\n",
       "      <td>1</td>\n",
       "      <td>0</td>\n",
       "      <td>1</td>\n",
       "      <td>1</td>\n",
       "    </tr>\n",
       "    <tr>\n",
       "      <th>99</th>\n",
       "      <td>1</td>\n",
       "      <td>0</td>\n",
       "      <td>0</td>\n",
       "      <td>0</td>\n",
       "    </tr>\n",
       "  </tbody>\n",
       "</table>\n",
       "<p>100 rows × 4 columns</p>\n",
       "</div>"
      ],
      "text/plain": [
       "    ()  (R,)  (X,)  (G, B)\n",
       "0    1     1     0       0\n",
       "1    1     0     0       1\n",
       "2    1     0     0       0\n",
       "3    1     0     0       0\n",
       "4    1     0     1       0\n",
       "..  ..   ...   ...     ...\n",
       "95   1     1     1       0\n",
       "96   1     1     0       0\n",
       "97   1     1     0       1\n",
       "98   1     0     1       1\n",
       "99   1     0     0       0\n",
       "\n",
       "[100 rows x 4 columns]"
      ]
     },
     "execution_count": 8,
     "metadata": {},
     "output_type": "execute_result"
    }
   ],
   "source": [
    "Chi_s = Chi.loc[:, lasso.coef_ != 0]\n",
    "        \n",
    "Chi_s"
   ]
  },
  {
   "cell_type": "code",
   "execution_count": 9,
   "id": "bbec4979-6110-4cd2-aa84-440033b72e45",
   "metadata": {},
   "outputs": [
    {
     "name": "stdout",
     "output_type": "stream",
     "text": [
      "() 0.4377094343548646\n"
     ]
    },
    {
     "ename": "NameError",
     "evalue": "name 'split_constructor' is not defined",
     "output_type": "error",
     "traceback": [
      "\u001b[0;31m---------------------------------------------------------------------------\u001b[0m",
      "\u001b[0;31mNameError\u001b[0m                                 Traceback (most recent call last)",
      "Input \u001b[0;32mIn [9]\u001b[0m, in \u001b[0;36m<cell line: 3>\u001b[0;34m()\u001b[0m\n\u001b[1;32m      3\u001b[0m \u001b[38;5;28;01mfor\u001b[39;00m c, beta \u001b[38;5;129;01min\u001b[39;00m \u001b[38;5;28mzip\u001b[39m(Chi_s\u001b[38;5;241m.\u001b[39mcolumns, \u001b[38;5;28mlist\u001b[39m(\u001b[38;5;28mfilter\u001b[39m(\u001b[38;5;28;01mlambda\u001b[39;00m num: num \u001b[38;5;241m!=\u001b[39m \u001b[38;5;241m0\u001b[39m, elasticnet\u001b[38;5;241m.\u001b[39mcoef_))):\n\u001b[1;32m      4\u001b[0m     \u001b[38;5;28mprint\u001b[39m(c, beta)\n\u001b[0;32m----> 5\u001b[0m     trees\u001b[38;5;241m.\u001b[39mappend(\u001b[43msplit_constructor\u001b[49m(c, beta))\n",
      "\u001b[0;31mNameError\u001b[0m: name 'split_constructor' is not defined"
     ]
    }
   ],
   "source": [
    "trees = []\n",
    "\n",
    "for c, beta in zip(Chi_s.columns, list(filter(lambda num: num != 0, elasticnet.coef_))):\n",
    "    print(c, beta)\n",
    "    trees.append(split_constructor(c, beta))"
   ]
  },
  {
   "cell_type": "code",
   "execution_count": null,
   "id": "12ee125f-071b-4a3f-8fc9-6737c177bd0d",
   "metadata": {},
   "outputs": [],
   "source": [
    "def split_constructor(columns, beta):\n",
    "    if len(columns) == 0:\n",
    "        return Node(is_root = True,\n",
    "                   feature = 'Intercept',\n",
    "                   value = beta,\n",
    "                   threshold = 0.5,\n",
    "                   left = None,\n",
    "                   right = None)\n",
    "    elif len(columns) == 1:\n",
    "        return Node(is_root = True,\n",
    "                   feature = columns[0],\n",
    "                   value = beta,\n",
    "                   threshold = 0.5,\n",
    "                   left = None,\n",
    "                   right = None)\n",
    "    else:\n",
    "        n = Node(is_root = True,\n",
    "                   feature = columns[0],\n",
    "                   value = 0,\n",
    "                   threshold = 0.5,\n",
    "                   left = None)\n",
    "        n.setattrs(right = split_constructor(columns[1:], beta))\n",
    "        return n"
   ]
  },
  {
   "cell_type": "code",
   "execution_count": null,
   "id": "73710e73-f5c1-4be1-b729-4aa31d323915",
   "metadata": {},
   "outputs": [],
   "source": [
    "trees"
   ]
  },
  {
   "cell_type": "code",
   "execution_count": null,
   "id": "f8ab0611-b71b-4247-a03c-2cf22a2bd5af",
   "metadata": {},
   "outputs": [],
   "source": [
    "trees[3].right.value"
   ]
  },
  {
   "cell_type": "code",
   "execution_count": null,
   "id": "b5f7c609-72c9-4b85-baa3-4e85f177de13",
   "metadata": {},
   "outputs": [],
   "source": [
    "hi = np.array([[0]])\n",
    "hi[0,0]"
   ]
  },
  {
   "cell_type": "code",
   "execution_count": null,
   "id": "673b0dc6-2eac-4b70-a9e3-b57ab09378f0",
   "metadata": {},
   "outputs": [],
   "source": [
    "hi.value"
   ]
  },
  {
   "cell_type": "code",
   "execution_count": null,
   "id": "ec2c10d2-cb28-469c-82e2-bc381be4b4e7",
   "metadata": {},
   "outputs": [],
   "source": []
  }
 ],
 "metadata": {
  "kernelspec": {
   "display_name": "Python 3 (ipykernel)",
   "language": "python",
   "name": "python3"
  },
  "language_info": {
   "codemirror_mode": {
    "name": "ipython",
    "version": 3
   },
   "file_extension": ".py",
   "mimetype": "text/x-python",
   "name": "python",
   "nbconvert_exporter": "python",
   "pygments_lexer": "ipython3",
   "version": "3.9.12"
  }
 },
 "nbformat": 4,
 "nbformat_minor": 5
}

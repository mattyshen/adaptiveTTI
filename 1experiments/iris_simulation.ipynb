{
 "cells": [
  {
   "cell_type": "code",
   "execution_count": 1,
   "id": "93da5ff5-40d8-4502-abb4-fb30670458fc",
   "metadata": {},
   "outputs": [],
   "source": [
    "import sys\n",
    "import os\n",
    "\n",
    "sys.path.append('..')\n",
    "\n",
    "from interpretDistill.fourierDistill import *\n",
    "from interpretDistill.binaryTransformer import *"
   ]
  },
  {
   "cell_type": "code",
   "execution_count": 2,
   "id": "1edf6387-92d0-4a10-8296-fda5d8c11803",
   "metadata": {},
   "outputs": [],
   "source": [
    "from sklearn.datasets import load_iris\n",
    "from sklearn.model_selection import train_test_split\n",
    "from sklearn.ensemble import RandomForestRegressor\n",
    "from sklearn.metrics import mean_squared_error, r2_score\n",
    "\n",
    "X, y = load_iris(as_frame = True, return_X_y = True)\n",
    "X.columns = X.columns.str.replace(' ', '_')\n",
    "X_train, X_test, y_train, y_test = train_test_split(X, y, test_size=0.2, random_state=42)\n",
    "X_train, X_val, y_train, y_val = train_test_split(X_train, y_train, test_size=0.25, random_state=42)"
   ]
  },
  {
   "cell_type": "code",
   "execution_count": 3,
   "id": "e89d7626-8d0f-46c1-9968-f5d2f7cac2bf",
   "metadata": {},
   "outputs": [],
   "source": [
    "bt_bit = BinaryTransformer(depth = 4, bit = True)\n",
    "bt_bin = BinaryTransformer(depth = 4, bit = False)"
   ]
  },
  {
   "cell_type": "code",
   "execution_count": 4,
   "id": "541e4bb1-5781-426e-85b7-3b95ab6410f7",
   "metadata": {},
   "outputs": [],
   "source": [
    "X_train_bit = bt_bit.fit_and_transform(X_train, y_train)\n",
    "X_val_bit = bt_bit.transform(X_val)\n",
    "X_test_bit = bt_bit.transform(X_test)"
   ]
  },
  {
   "cell_type": "code",
   "execution_count": 5,
   "id": "ecdfcd85-8f24-4983-826a-0fb36f45ec7c",
   "metadata": {},
   "outputs": [],
   "source": [
    "X_train_bin = bt_bin.fit_and_transform(X_train, y_train)\n",
    "X_val_bin = bt_bin.transform(X_val)\n",
    "X_test_bin = bt_bin.transform(X_test)"
   ]
  },
  {
   "cell_type": "code",
   "execution_count": 6,
   "id": "fd2437db-ebe7-483a-a71a-d5e8883ea5b3",
   "metadata": {},
   "outputs": [
    {
     "name": "stdout",
     "output_type": "stream",
     "text": [
      "bit number of features: 16\n",
      "bin number of features: 38\n"
     ]
    }
   ],
   "source": [
    "print(f'bit number of features: {X_train_bit.shape[1]}')\n",
    "print(f'bin number of features: {X_train_bin.shape[1]}')"
   ]
  },
  {
   "cell_type": "code",
   "execution_count": 7,
   "id": "55d65acd-3e00-4df3-b29e-f360cc378fdc",
   "metadata": {},
   "outputs": [],
   "source": [
    "rf_orig = RandomForestRegressor(max_depth = 6)\n",
    "rf_bit = RandomForestRegressor(max_depth = 6)\n",
    "rf_bin = RandomForestRegressor(max_depth = 6)"
   ]
  },
  {
   "cell_type": "code",
   "execution_count": 8,
   "id": "ddca2dea-e4fa-4b6e-a47c-4569bd830819",
   "metadata": {},
   "outputs": [
    {
     "data": {
      "text/html": [
       "<style>#sk-container-id-1 {color: black;background-color: white;}#sk-container-id-1 pre{padding: 0;}#sk-container-id-1 div.sk-toggleable {background-color: white;}#sk-container-id-1 label.sk-toggleable__label {cursor: pointer;display: block;width: 100%;margin-bottom: 0;padding: 0.3em;box-sizing: border-box;text-align: center;}#sk-container-id-1 label.sk-toggleable__label-arrow:before {content: \"▸\";float: left;margin-right: 0.25em;color: #696969;}#sk-container-id-1 label.sk-toggleable__label-arrow:hover:before {color: black;}#sk-container-id-1 div.sk-estimator:hover label.sk-toggleable__label-arrow:before {color: black;}#sk-container-id-1 div.sk-toggleable__content {max-height: 0;max-width: 0;overflow: hidden;text-align: left;background-color: #f0f8ff;}#sk-container-id-1 div.sk-toggleable__content pre {margin: 0.2em;color: black;border-radius: 0.25em;background-color: #f0f8ff;}#sk-container-id-1 input.sk-toggleable__control:checked~div.sk-toggleable__content {max-height: 200px;max-width: 100%;overflow: auto;}#sk-container-id-1 input.sk-toggleable__control:checked~label.sk-toggleable__label-arrow:before {content: \"▾\";}#sk-container-id-1 div.sk-estimator input.sk-toggleable__control:checked~label.sk-toggleable__label {background-color: #d4ebff;}#sk-container-id-1 div.sk-label input.sk-toggleable__control:checked~label.sk-toggleable__label {background-color: #d4ebff;}#sk-container-id-1 input.sk-hidden--visually {border: 0;clip: rect(1px 1px 1px 1px);clip: rect(1px, 1px, 1px, 1px);height: 1px;margin: -1px;overflow: hidden;padding: 0;position: absolute;width: 1px;}#sk-container-id-1 div.sk-estimator {font-family: monospace;background-color: #f0f8ff;border: 1px dotted black;border-radius: 0.25em;box-sizing: border-box;margin-bottom: 0.5em;}#sk-container-id-1 div.sk-estimator:hover {background-color: #d4ebff;}#sk-container-id-1 div.sk-parallel-item::after {content: \"\";width: 100%;border-bottom: 1px solid gray;flex-grow: 1;}#sk-container-id-1 div.sk-label:hover label.sk-toggleable__label {background-color: #d4ebff;}#sk-container-id-1 div.sk-serial::before {content: \"\";position: absolute;border-left: 1px solid gray;box-sizing: border-box;top: 0;bottom: 0;left: 50%;z-index: 0;}#sk-container-id-1 div.sk-serial {display: flex;flex-direction: column;align-items: center;background-color: white;padding-right: 0.2em;padding-left: 0.2em;position: relative;}#sk-container-id-1 div.sk-item {position: relative;z-index: 1;}#sk-container-id-1 div.sk-parallel {display: flex;align-items: stretch;justify-content: center;background-color: white;position: relative;}#sk-container-id-1 div.sk-item::before, #sk-container-id-1 div.sk-parallel-item::before {content: \"\";position: absolute;border-left: 1px solid gray;box-sizing: border-box;top: 0;bottom: 0;left: 50%;z-index: -1;}#sk-container-id-1 div.sk-parallel-item {display: flex;flex-direction: column;z-index: 1;position: relative;background-color: white;}#sk-container-id-1 div.sk-parallel-item:first-child::after {align-self: flex-end;width: 50%;}#sk-container-id-1 div.sk-parallel-item:last-child::after {align-self: flex-start;width: 50%;}#sk-container-id-1 div.sk-parallel-item:only-child::after {width: 0;}#sk-container-id-1 div.sk-dashed-wrapped {border: 1px dashed gray;margin: 0 0.4em 0.5em 0.4em;box-sizing: border-box;padding-bottom: 0.4em;background-color: white;}#sk-container-id-1 div.sk-label label {font-family: monospace;font-weight: bold;display: inline-block;line-height: 1.2em;}#sk-container-id-1 div.sk-label-container {text-align: center;}#sk-container-id-1 div.sk-container {/* jupyter's `normalize.less` sets `[hidden] { display: none; }` but bootstrap.min.css set `[hidden] { display: none !important; }` so we also need the `!important` here to be able to override the default hidden behavior on the sphinx rendered scikit-learn.org. See: https://github.com/scikit-learn/scikit-learn/issues/21755 */display: inline-block !important;position: relative;}#sk-container-id-1 div.sk-text-repr-fallback {display: none;}</style><div id=\"sk-container-id-1\" class=\"sk-top-container\"><div class=\"sk-text-repr-fallback\"><pre>RandomForestRegressor(max_depth=6)</pre><b>In a Jupyter environment, please rerun this cell to show the HTML representation or trust the notebook. <br />On GitHub, the HTML representation is unable to render, please try loading this page with nbviewer.org.</b></div><div class=\"sk-container\" hidden><div class=\"sk-item\"><div class=\"sk-estimator sk-toggleable\"><input class=\"sk-toggleable__control sk-hidden--visually\" id=\"sk-estimator-id-1\" type=\"checkbox\" checked><label for=\"sk-estimator-id-1\" class=\"sk-toggleable__label sk-toggleable__label-arrow\">RandomForestRegressor</label><div class=\"sk-toggleable__content\"><pre>RandomForestRegressor(max_depth=6)</pre></div></div></div></div></div>"
      ],
      "text/plain": [
       "RandomForestRegressor(max_depth=6)"
      ]
     },
     "execution_count": 8,
     "metadata": {},
     "output_type": "execute_result"
    }
   ],
   "source": [
    "rf_orig.fit(X_train, y_train)\n",
    "rf_bit.fit(X_train_bit, y_train)\n",
    "rf_bin.fit(X_train_bin, y_train)"
   ]
  },
  {
   "cell_type": "code",
   "execution_count": 9,
   "id": "731838fa-411f-4b73-985b-255b3854fa89",
   "metadata": {},
   "outputs": [
    {
     "name": "stdout",
     "output_type": "stream",
     "text": [
      "[orig] train MSE: 0.005806666666666667, val MSE: 0.04606333333333333, test MSE: 0.004636666666666667\n",
      "[bit] train MSE: 0.005656666666666666, val MSE: 0.06445666666666665, test MSE: 0.025026666666666662\n",
      "[bin] train MSE: 0.006773333333333333, val MSE: 0.0779024074074074, test MSE: 0.025484166666666665\n"
     ]
    }
   ],
   "source": [
    "print(f'[orig] train MSE: {mean_squared_error(rf_orig.predict(X_train),y_train)}, val MSE: {mean_squared_error(rf_orig.predict(X_val),y_val)}, test MSE: {mean_squared_error(rf_orig.predict(X_test),y_test)}')\n",
    "print(f'[bit] train MSE: {mean_squared_error(rf_bit.predict(X_train_bit),y_train)}, val MSE: {mean_squared_error(rf_bit.predict(X_val_bit),y_val)}, test MSE: {mean_squared_error(rf_bit.predict(X_test_bit),y_test)}')\n",
    "print(f'[bin] train MSE: {mean_squared_error(rf_bin.predict(X_train_bin),y_train)}, val MSE: {mean_squared_error(rf_bin.predict(X_val_bin),y_val)}, test MSE: {mean_squared_error(rf_bin.predict(X_test_bin),y_test)}')"
   ]
  },
  {
   "cell_type": "code",
   "execution_count": 10,
   "id": "4b778777-e622-4739-8579-22a7ee766654",
   "metadata": {},
   "outputs": [
    {
     "name": "stdout",
     "output_type": "stream",
     "text": [
      "[orig RF] train R2: 0.9913019331034808, val R2: 0.9203140001672259, test R2: 0.9932201032630426\n",
      "[bit RF] train R2: 0.9915695402349713, val R2: 0.8879176714326757, test R2: 0.9645288880741851\n",
      "[bin RF] train R2: 0.9898345776884396, val R2: 0.8683533141898429, test R2: 0.9630349676401346\n"
     ]
    }
   ],
   "source": [
    "print(f'[orig RF] train R2: {r2_score(rf_orig.predict(X_train),y_train)}, val R2: {r2_score(rf_orig.predict(X_val),y_val)}, test R2: {r2_score(rf_orig.predict(X_test),y_test)}')\n",
    "print(f'[bit RF] train R2: {r2_score(rf_bit.predict(X_train_bit),y_train)}, val R2: {r2_score(rf_bit.predict(X_val_bit),y_val)}, test R2: {r2_score(rf_bit.predict(X_test_bit),y_test)}')\n",
    "print(f'[bin RF] train R2: {r2_score(rf_bin.predict(X_train_bin),y_train)}, val R2: {r2_score(rf_bin.predict(X_val_bin),y_val)}, test R2: {r2_score(rf_bin.predict(X_test_bin),y_test)}')"
   ]
  },
  {
   "cell_type": "code",
   "execution_count": 11,
   "id": "a95e29b6-c8ea-4dd1-9c60-d5e0f3c34da8",
   "metadata": {},
   "outputs": [],
   "source": [
    "ftd_bit = FTDistillCV(size_interactions = 3)\n",
    "ftd_bin = FTDistillCV(size_interactions = 3)"
   ]
  },
  {
   "cell_type": "code",
   "execution_count": 12,
   "id": "161f6a81-baa7-4218-8670-6afc17498d41",
   "metadata": {},
   "outputs": [
    {
     "name": "stdout",
     "output_type": "stream",
     "text": [
      "3\n",
      "3\n"
     ]
    },
    {
     "data": {
      "text/plain": [
       "<interpretDistill.fourierDistill.FTDistillCV at 0x7fde70c5d7f0>"
      ]
     },
     "execution_count": 12,
     "metadata": {},
     "output_type": "execute_result"
    }
   ],
   "source": [
    "ftd_bit.fit(X_val_bit, rf_orig.predict(X_val))\n",
    "ftd_bin.fit(X_val_bin, rf_orig.predict(X_val), bt_bin.no_interaction)"
   ]
  },
  {
   "cell_type": "code",
   "execution_count": 19,
   "id": "efc17915-138e-4021-b068-f1f59779b5da",
   "metadata": {},
   "outputs": [
    {
     "data": {
      "text/plain": [
       "(51, 28)"
      ]
     },
     "execution_count": 19,
     "metadata": {},
     "output_type": "execute_result"
    }
   ],
   "source": [
    "sum(ftd_bit.regression_model.coef_ != 0), sum(ftd_bin.regression_model.coef_ != 0)"
   ]
  },
  {
   "cell_type": "code",
   "execution_count": 20,
   "id": "83e74306-ef5a-4b8b-b728-1dd46c9d2282",
   "metadata": {},
   "outputs": [
    {
     "name": "stdout",
     "output_type": "stream",
     "text": [
      "[bit FTD, true y] train MSE: 0.07716219710794889, val MSE: 0.0462629279225592, test MSE: 0.039491436959414955\n",
      "[bit FTD, RF y] train MSE: 0.05635333929487045, val MSE: 0.004049029682553336, test MSE: 0.050200425086815985\n",
      "[bin FTD, true y] train MSE: 0.062068410780404905, val MSE: 0.04620940446982145, test MSE: 0.03753774797336353\n",
      "[bin FTD, RF y] train MSE: 0.036558578171171315, val MSE: 0.012420321064519306, test MSE: 0.037758548483748114\n"
     ]
    }
   ],
   "source": [
    "print(f'[bit FTD, true y] train MSE: {mean_squared_error(ftd_bit.predict(X_train_bit),y_train)}, val MSE: {mean_squared_error(ftd_bit.predict(X_val_bit),y_val)}, test MSE: {mean_squared_error(ftd_bit.predict(X_test_bit),y_test)}')\n",
    "print(f'[bit FTD, RF y] train MSE: {mean_squared_error(ftd_bit.predict(X_train_bit),rf_bit.predict(X_train_bit))}, val MSE: {mean_squared_error(ftd_bit.predict(X_val_bit),rf_bit.predict(X_val_bit))}, test MSE: {mean_squared_error(ftd_bit.predict(X_test_bit),rf_bit.predict(X_test_bit))}')\n",
    "print(f'[bin FTD, true y] train MSE: {mean_squared_error(ftd_bin.predict(X_train_bin),y_train)}, val MSE: {mean_squared_error(ftd_bin.predict(X_val_bin),y_val)}, test MSE: {mean_squared_error(ftd_bin.predict(X_test_bin),y_test)}')\n",
    "print(f'[bin FTD, RF y] train MSE: {mean_squared_error(ftd_bin.predict(X_train_bin),rf_bin.predict(X_train_bin))}, val MSE: {mean_squared_error(ftd_bin.predict(X_val_bin),rf_bin.predict(X_val_bin))}, test MSE: {mean_squared_error(ftd_bin.predict(X_test_bin),rf_bin.predict(X_test_bin))}')"
   ]
  },
  {
   "cell_type": "code",
   "execution_count": 14,
   "id": "70e5a94b-fc77-4528-81b3-062af2d5c571",
   "metadata": {},
   "outputs": [
    {
     "name": "stdout",
     "output_type": "stream",
     "text": [
      "[bit RF, true y] train R2: 0.8820437441636716, val R2: 0.9196170423932237, test R2: 0.9381004006320611\n",
      "[bit RF, RF y] train R2: 0.9126951377673209, val R2: 0.9999842419781084, test R2: 0.9407679795627181\n",
      "[bin RF, true y] train R2: 0.8966020286747852, val R2: 0.9196504992067717, test R2: 0.9399330718253924\n",
      "[bin RF, RF y] train R2: 0.9326791591085134, val R2: 0.999989655514375, test R2: 0.9599270268371457\n"
     ]
    }
   ],
   "source": [
    "print(f'[bit RF, true y] train R2: {r2_score(ftd_bit.predict(X_train_bit),y_train)}, val R2: {r2_score(ftd_bit.predict(X_val_bit),y_val)}, test R2: {r2_score(ftd_bit.predict(X_test_bit),y_test)}')\n",
    "print(f'[bit RF, RF y] train R2: {r2_score(ftd_bit.predict(X_train_bit),rf_orig.predict(X_train))}, val R2: {r2_score(ftd_bit.predict(X_val_bit),rf_orig.predict(X_val))}, test R2: {r2_score(ftd_bit.predict(X_test_bit),rf_orig.predict(X_test))}')\n",
    "print(f'[bin RF, true y] train R2: {r2_score(ftd_bin.predict(X_train_bin),y_train)}, val R2: {r2_score(ftd_bin.predict(X_val_bin),y_val)}, test R2: {r2_score(ftd_bin.predict(X_test_bin),y_test)}')\n",
    "print(f'[bin RF, RF y] train R2: {r2_score(ftd_bin.predict(X_train_bin),rf_orig.predict(X_train))}, val R2: {r2_score(ftd_bin.predict(X_val_bin),rf_orig.predict(X_val))}, test R2: {r2_score(ftd_bin.predict(X_test_bin),rf_orig.predict(X_test))}')"
   ]
  },
  {
   "cell_type": "code",
   "execution_count": 15,
   "id": "9bf661a9-2b63-4938-afa8-d43d3d1e0396",
   "metadata": {},
   "outputs": [
    {
     "data": {
      "text/plain": [
       "[(('sepal_width_(cm)_7', 'petal_length_(cm)_12', 'sepal_length_(cm)_9'),\n",
       "  4.1753498016944366e-05),\n",
       " (('petal_width_(cm)_1', 'sepal_width_(cm)_20', 'petal_length_(cm)_4'),\n",
       "  -9.890771048789017e-05),\n",
       " (('sepal_length_(cm)_20', 'petal_length_(cm)_10', 'petal_width_(cm)_12'),\n",
       "  0.0011962348892383694),\n",
       " (('petal_length_(cm)_12', 'sepal_length_(cm)_14'), -0.0014503511925869192),\n",
       " (('petal_width_(cm)_1', 'sepal_length_(cm)_16', 'petal_length_(cm)_4'),\n",
       "  -0.0034061596538699),\n",
       " (('petal_length_(cm)_1', 'petal_width_(cm)_4', 'sepal_width_(cm)_22'),\n",
       "  -0.003612152411889556),\n",
       " (('sepal_width_(cm)_4', 'petal_length_(cm)_1', 'petal_width_(cm)_10'),\n",
       "  -0.004759486076198704),\n",
       " (('sepal_length_(cm)_13', 'petal_length_(cm)_1', 'petal_width_(cm)_4'),\n",
       "  -0.006628793188281814),\n",
       " (('petal_length_(cm)_1', 'petal_width_(cm)_4'), 0.0076614499028041854),\n",
       " (('petal_width_(cm)_1', 'petal_length_(cm)_6', 'sepal_length_(cm)_9'),\n",
       "  -0.009464007493966057),\n",
       " (('sepal_length_(cm)_7', 'petal_length_(cm)_1', 'petal_width_(cm)_4'),\n",
       "  -0.010124313679143895),\n",
       " (('sepal_length_(cm)_17', 'petal_width_(cm)_1', 'petal_length_(cm)_10'),\n",
       "  -0.010359783173499204),\n",
       " (('sepal_length_(cm)_7', 'sepal_width_(cm)_7', 'petal_length_(cm)_12'),\n",
       "  0.010447884876347631),\n",
       " (('petal_length_(cm)_1', 'petal_width_(cm)_10', 'sepal_length_(cm)_9'),\n",
       "  -0.01221553471608715),\n",
       " (('petal_width_(cm)_1', 'petal_length_(cm)_4'), 0.017832920385549633),\n",
       " (('sepal_width_(cm)_7', 'petal_length_(cm)_12'), -0.0181894535700278),\n",
       " (('sepal_length_(cm)_17', 'petal_length_(cm)_12', 'petal_width_(cm)_10'),\n",
       "  0.0209745131881397),\n",
       " (('petal_length_(cm)_12', 'sepal_length_(cm)_14', 'sepal_width_(cm)_22'),\n",
       "  0.021080220320065034),\n",
       " (('sepal_width_(cm)_20', 'petal_length_(cm)_1', 'petal_width_(cm)_4'),\n",
       "  -0.02254388734578804),\n",
       " (('petal_width_(cm)_1', 'petal_length_(cm)_4', 'sepal_width_(cm)_22'),\n",
       "  -0.02601339968590482),\n",
       " (('sepal_length_(cm)_7', 'petal_width_(cm)_1', 'petal_length_(cm)_4'),\n",
       "  -0.027943285984948895),\n",
       " (('sepal_width_(cm)_7', 'petal_length_(cm)_12', 'petal_width_(cm)_4'),\n",
       "  0.028468225974723132),\n",
       " (('sepal_width_(cm)_4', 'petal_length_(cm)_1', 'petal_width_(cm)_7'),\n",
       "  -0.039066560537387954),\n",
       " (('sepal_width_(cm)_4', 'petal_width_(cm)_1', 'petal_length_(cm)_7'),\n",
       "  -0.08823549534589817),\n",
       " (('petal_width_(cm)_1', 'sepal_length_(cm)_9', 'petal_length_(cm)_7'),\n",
       "  -0.11195208361979309),\n",
       " (('petal_length_(cm)_12', 'sepal_length_(cm)_14', 'petal_width_(cm)_4'),\n",
       "  0.15578649102442607),\n",
       " (('sepal_width_(cm)_4', 'petal_width_(cm)_1', 'petal_length_(cm)_4'),\n",
       "  -0.16545153625996817),\n",
       " (('sepal_width_(cm)_4', 'petal_length_(cm)_6', 'petal_width_(cm)_1'),\n",
       "  -0.17234656904999074)]"
      ]
     },
     "execution_count": 15,
     "metadata": {},
     "output_type": "execute_result"
    }
   ],
   "source": [
    "from itertools import compress\n",
    "\n",
    "#sorted([i for i in zip(list(compress(ftd_bit.features, ftd_bit.regression_model.coef_ != 0)), list(compress(ftd_bit.regression_model.coef_, ftd_bit.regression_model.coef_ != 0)))], key = lambda x: abs(x[1]))\n",
    "sorted([i for i in zip(list(compress(ftd_bin.features, ftd_bin.regression_model.coef_ != 0)), list(compress(ftd_bin.regression_model.coef_, ftd_bin.regression_model.coef_ != 0)))], key = lambda x: abs(x[1]))"
   ]
  },
  {
   "cell_type": "code",
   "execution_count": 16,
   "id": "53c50c25-e5b7-4cff-8cb3-d849b94f2a03",
   "metadata": {},
   "outputs": [
    {
     "ename": "NameError",
     "evalue": "name 'kill' is not defined",
     "output_type": "error",
     "traceback": [
      "\u001b[0;31m---------------------------------------------------------------------------\u001b[0m",
      "\u001b[0;31mNameError\u001b[0m                                 Traceback (most recent call last)",
      "Input \u001b[0;32mIn [16]\u001b[0m, in \u001b[0;36m<cell line: 1>\u001b[0;34m()\u001b[0m\n\u001b[0;32m----> 1\u001b[0m \u001b[43mkill\u001b[49m\n",
      "\u001b[0;31mNameError\u001b[0m: name 'kill' is not defined"
     ]
    }
   ],
   "source": [
    "kill"
   ]
  },
  {
   "cell_type": "code",
   "execution_count": null,
   "id": "c62f2e62-1507-44a2-990b-c4de205f791d",
   "metadata": {},
   "outputs": [],
   "source": [
    "from ucimlrepo import fetch_ucirepo \n",
    "  \n",
    "# fetch dataset \n",
    "solar_flare = fetch_ucirepo(id=89) \n",
    "  \n",
    "# data (as pandas dataframes) \n",
    "X = solar_flare.data.features \n",
    "y = solar_flare.data.targets \n",
    "  \n",
    "# metadata \n",
    "X"
   ]
  },
  {
   "cell_type": "code",
   "execution_count": null,
   "id": "f048edd2-2de6-4e02-8270-98888ef2b17d",
   "metadata": {},
   "outputs": [],
   "source": [
    "import matplotlib.pyplot as plt"
   ]
  },
  {
   "cell_type": "code",
   "execution_count": null,
   "id": "f06b3fd5-0994-4edd-924c-71668cac34d7",
   "metadata": {},
   "outputs": [],
   "source": []
  }
 ],
 "metadata": {
  "kernelspec": {
   "display_name": "Python 3 (ipykernel)",
   "language": "python",
   "name": "python3"
  },
  "language_info": {
   "codemirror_mode": {
    "name": "ipython",
    "version": 3
   },
   "file_extension": ".py",
   "mimetype": "text/x-python",
   "name": "python",
   "nbconvert_exporter": "python",
   "pygments_lexer": "ipython3",
   "version": "3.9.12"
  }
 },
 "nbformat": 4,
 "nbformat_minor": 5
}

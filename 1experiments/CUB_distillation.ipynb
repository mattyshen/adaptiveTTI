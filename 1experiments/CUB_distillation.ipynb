{
 "cells": [
  {
   "cell_type": "code",
   "execution_count": null,
   "id": "81353739-50b2-4f62-a73a-5a86b2f4bf7d",
   "metadata": {},
   "outputs": [],
   "source": [
    "import pandas as pd\n",
    "import numpy as np\n",
    "import sys\n",
    "\n",
    "sys.path.append('..')\n",
    "\n",
    "from interpretDistill.fourierDistill import *\n",
    "from interpretDistill.binaryTransformer import *"
   ]
  },
  {
   "cell_type": "code",
   "execution_count": null,
   "id": "afac332e-5322-4238-863f-89a70e2ad5f0",
   "metadata": {},
   "outputs": [],
   "source": [
    "def process_csv(df):\n",
    "    y_true = df['y_true']\n",
    "    y_hat = df['y_hat']\n",
    "    X = df.drop(columns = ['id', 'y_true', 'y_hat'])\n",
    "    return X, y_true, y_hat"
   ]
  },
  {
   "cell_type": "code",
   "execution_count": null,
   "id": "6f6e68f9-7a7d-48de-998e-199a27fe74bd",
   "metadata": {},
   "outputs": [],
   "source": [
    "Xy_concept_train = pd.read_csv('data/Xy_concept_train.csv', index_col = [0])\n",
    "X_concept_train, y_concept_train_true, y_concept_train_hat = process_csv(Xy_concept_train)"
   ]
  },
  {
   "cell_type": "code",
   "execution_count": null,
   "id": "70c22f26-42c5-4011-a8dc-16226524939b",
   "metadata": {},
   "outputs": [],
   "source": [
    "ftd = FTDistillClassifierCV(size_interactions=2)"
   ]
  },
  {
   "cell_type": "code",
   "execution_count": null,
   "id": "08927d9c-d237-4df3-8019-51041677112e",
   "metadata": {},
   "outputs": [],
   "source": [
    "ftd.fit(X_concept_train, y_concept_train_hat)"
   ]
  },
  {
   "cell_type": "code",
   "execution_count": null,
   "id": "b59e8126-934a-4ba2-82c8-aabf221ebeda",
   "metadata": {},
   "outputs": [],
   "source": [
    "ftd.scores_"
   ]
  },
  {
   "cell_type": "code",
   "execution_count": null,
   "id": "baabc214-20f7-496b-8024-13d0475c47c6",
   "metadata": {},
   "outputs": [],
   "source": [
    "from sklearn.preprocessing import PolynomialFeatures\n",
    "poly = PolynomialFeatures(degree = 2, interaction_only = True)\n"
   ]
  },
  {
   "cell_type": "code",
   "execution_count": null,
   "id": "e04b768e-d87d-4043-8f92-acdf26083c4e",
   "metadata": {},
   "outputs": [],
   "source": [
    "poly.fit(X_concept_train)"
   ]
  },
  {
   "cell_type": "code",
   "execution_count": null,
   "id": "aad9743d-01fb-450f-a839-3235f18ff3ae",
   "metadata": {},
   "outputs": [],
   "source": [
    "poly_features = list(map(lambda s: set(s.split()), poly.get_feature_names_out(X_concept_train.columns)))"
   ]
  },
  {
   "cell_type": "code",
   "execution_count": null,
   "id": "cd3c3fb7-5cd4-4d91-9e3e-88b72768db4d",
   "metadata": {},
   "outputs": [],
   "source": [
    "poly.transform(X_concept_train).shape"
   ]
  },
  {
   "cell_type": "code",
   "execution_count": null,
   "id": "99b4743c-4d1d-4eab-9367-dc1ced988771",
   "metadata": {},
   "outputs": [],
   "source": [
    "Chi = pd.DataFrame(poly.transform(X_concept_train), columns = list(map(lambda f: tuple(f), poly_features)))"
   ]
  },
  {
   "cell_type": "code",
   "execution_count": null,
   "id": "20ed5b76-6cff-4c44-a58a-7b4a846d3e93",
   "metadata": {},
   "outputs": [],
   "source": [
    "y = y_concept_train_hat"
   ]
  },
  {
   "cell_type": "code",
   "execution_count": null,
   "id": "b45b0d63-ecd4-4d11-b616-86d64779231f",
   "metadata": {},
   "outputs": [],
   "source": [
    "scores_ = [[] for _ in [0.01, 0.1, 1]]\n",
    "#scorer = kwargs.get(\"scoring\", log_loss)\n",
    "kf = KFold(n_splits=2)\n",
    "for i, (train_index, test_index) in enumerate(kf.split(Chi)):\n",
    "    print(i)\n",
    "    Chi_out, y_out = Chi.iloc[test_index, :], y.iloc[test_index]\n",
    "    Chi_in, y_in = Chi.iloc[train_index, :], y.iloc[train_index]\n",
    "    for i, reg_param in enumerate([0.01, 0.1, 1]):\n",
    "        base_est = LogisticRegression(C = 1/reg_param, penalty = 'l1', max_epochs = 50000, max_iter=50)\n",
    "        base_est.fit(Chi_in, y_in)\n",
    "        scores_[i].append(np.mean(base_est.predict(Chi_out) == y_out))\n",
    "scores_ = [np.mean(s) for s in scores_]\n",
    "\n",
    "reg_param = reg_param_list[np.argmax(scores_)]\n",
    "regression_model = LogisticRegression(C = 1/reg_param, penalty = 'l1', max_epochs = 5000, max_iter=100)\n",
    "regression_model.fit(Chi, y)"
   ]
  },
  {
   "cell_type": "code",
   "execution_count": null,
   "id": "80c162ee-0134-4464-9406-f45f27b3b632",
   "metadata": {},
   "outputs": [],
   "source": []
  }
 ],
 "metadata": {
  "kernelspec": {
   "display_name": "Python 3 (ipykernel)",
   "language": "python",
   "name": "python3"
  },
  "language_info": {
   "codemirror_mode": {
    "name": "ipython",
    "version": 3
   },
   "file_extension": ".py",
   "mimetype": "text/x-python",
   "name": "python",
   "nbconvert_exporter": "python",
   "pygments_lexer": "ipython3",
   "version": "3.9.12"
  }
 },
 "nbformat": 4,
 "nbformat_minor": 5
}

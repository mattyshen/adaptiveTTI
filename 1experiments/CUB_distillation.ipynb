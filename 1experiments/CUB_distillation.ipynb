{
 "cells": [
  {
   "cell_type": "code",
   "execution_count": 1,
   "id": "81353739-50b2-4f62-a73a-5a86b2f4bf7d",
   "metadata": {},
   "outputs": [],
   "source": [
    "import pandas as pd\n",
    "import numpy as np\n",
    "import sys\n",
    "\n",
    "sys.path.append('..')\n",
    "\n",
    "from interpretDistill.fourierDistill import *\n",
    "from interpretDistill.binaryTransformer import *"
   ]
  },
  {
   "cell_type": "code",
   "execution_count": 2,
   "id": "afac332e-5322-4238-863f-89a70e2ad5f0",
   "metadata": {},
   "outputs": [],
   "source": [
    "def process_csv(df):\n",
    "    y_true = df['y_true']\n",
    "    y_hat = df['y_hat']\n",
    "    X = df.drop(columns = ['id', 'y_true', 'y_hat'])\n",
    "    return X, y_true, y_hat"
   ]
  },
  {
   "cell_type": "code",
   "execution_count": 3,
   "id": "6f6e68f9-7a7d-48de-998e-199a27fe74bd",
   "metadata": {},
   "outputs": [
    {
     "name": "stderr",
     "output_type": "stream",
     "text": [
      "/home/mattyshen/anaconda3/lib/python3.9/site-packages/pandas/core/algorithms.py:516: DeprecationWarning: np.find_common_type is deprecated.  Please use `np.result_type` or `np.promote_types`.\n",
      "See https://numpy.org/devdocs/release/1.25.0-notes.html and the docs for more information.  (Deprecated NumPy 1.25)\n",
      "  common = np.find_common_type([values.dtype, comps.dtype], [])\n"
     ]
    }
   ],
   "source": [
    "Xy_concept_train = pd.read_csv('data/Xy_concept_train.csv', index_col = [0])\n",
    "X_concept_train, y_concept_train_true, y_concept_train_hat = process_csv(Xy_concept_train)"
   ]
  },
  {
   "cell_type": "code",
   "execution_count": 4,
   "id": "70c22f26-42c5-4011-a8dc-16226524939b",
   "metadata": {},
   "outputs": [],
   "source": [
    "ftd = FTDistillClassifierCV(size_interactions=2)"
   ]
  },
  {
   "cell_type": "code",
   "execution_count": 5,
   "id": "08927d9c-d237-4df3-8019-51041677112e",
   "metadata": {},
   "outputs": [
    {
     "name": "stdout",
     "output_type": "stream",
     "text": [
      "PolynomialFeatures(interaction_only=True)\n",
      "poly fitting\n",
      "poly fit time 0.004038810729980469\n",
      "poly features\n",
      "poly features time 0.051697492599487305\n",
      "empty no_interaction\n",
      "k: 0\n",
      "0.1\n",
      "1.0\n",
      "10.0\n"
     ]
    },
    {
     "name": "stderr",
     "output_type": "stream",
     "text": [
      "IOStream.flush timed out\n",
      "IOStream.flush timed out\n"
     ]
    },
    {
     "name": "stdout",
     "output_type": "stream",
     "text": [
      "Unexpected exception formatting exception. Falling back to standard exception\n"
     ]
    },
    {
     "name": "stderr",
     "output_type": "stream",
     "text": [
      "Traceback (most recent call last):\n",
      "  File \"/home/mattyshen/anaconda3/lib/python3.9/site-packages/IPython/core/interactiveshell.py\", line 3369, in run_code\n",
      "    exec(code_obj, self.user_global_ns, self.user_ns)\n",
      "  File \"/tmp/ipykernel_5403/2318968896.py\", line 1, in <cell line: 1>\n",
      "    ftd.fit(X_concept_train, y_concept_train_hat)\n",
      "  File \"/home/mattyshen/interpretableDistillation/1experiments/../interpretDistill/fourierDistill.py\", line 218, in fit\n",
      "  File \"/home/mattyshen/anaconda3/lib/python3.9/site-packages/celer/dropin_sklearn.py\", line 946, in fit\n",
      "    multiclass = OneVsRestClassifier(self).fit(X, y)\n",
      "  File \"/home/mattyshen/anaconda3/lib/python3.9/site-packages/sklearn/multiclass.py\", line 330, in fit\n",
      "    self.estimators_ = Parallel(n_jobs=self.n_jobs, verbose=self.verbose)(\n",
      "  File \"/home/mattyshen/anaconda3/lib/python3.9/site-packages/sklearn/utils/parallel.py\", line 63, in __call__\n",
      "    return super().__call__(iterable_with_config)\n",
      "  File \"/home/mattyshen/anaconda3/lib/python3.9/site-packages/joblib/parallel.py\", line 1088, in __call__\n",
      "    while self.dispatch_one_batch(iterator):\n",
      "  File \"/home/mattyshen/anaconda3/lib/python3.9/site-packages/joblib/parallel.py\", line 901, in dispatch_one_batch\n",
      "    self._dispatch(tasks)\n",
      "  File \"/home/mattyshen/anaconda3/lib/python3.9/site-packages/joblib/parallel.py\", line 819, in _dispatch\n",
      "    job = self._backend.apply_async(batch, callback=cb)\n",
      "  File \"/home/mattyshen/anaconda3/lib/python3.9/site-packages/joblib/_parallel_backends.py\", line 208, in apply_async\n",
      "    result = ImmediateResult(func)\n",
      "  File \"/home/mattyshen/anaconda3/lib/python3.9/site-packages/joblib/_parallel_backends.py\", line 597, in __init__\n",
      "    self.results = batch()\n",
      "  File \"/home/mattyshen/anaconda3/lib/python3.9/site-packages/joblib/parallel.py\", line 288, in __call__\n",
      "    return [func(*args, **kwargs)\n",
      "  File \"/home/mattyshen/anaconda3/lib/python3.9/site-packages/joblib/parallel.py\", line 288, in <listcomp>\n",
      "    return [func(*args, **kwargs)\n",
      "  File \"/home/mattyshen/anaconda3/lib/python3.9/site-packages/sklearn/utils/parallel.py\", line 123, in __call__\n",
      "    return self.function(*args, **kwargs)\n",
      "  File \"/home/mattyshen/anaconda3/lib/python3.9/site-packages/sklearn/multiclass.py\", line 83, in _fit_binary\n",
      "    estimator.fit(X, y)\n",
      "  File \"/home/mattyshen/anaconda3/lib/python3.9/site-packages/celer/dropin_sklearn.py\", line 940, in fit\n",
      "    coefs = self.path(\n",
      "  File \"/home/mattyshen/anaconda3/lib/python3.9/site-packages/celer/dropin_sklearn.py\", line 985, in path\n",
      "    _, coefs, dual_gaps = celer_path(\n",
      "  File \"/home/mattyshen/anaconda3/lib/python3.9/site-packages/celer/homotopy.py\", line 332, in celer_path\n",
      "    sol = newton_celer(\n",
      "  File \"celer/PN_logreg.pyx\", line 219, in celer.PN_logreg.newton_celer\n",
      "  File \"/home/mattyshen/anaconda3/lib/python3.9/site-packages/numpy/core/fromnumeric.py\", line 775, in _argpartition_dispatcher\n",
      "    def _argpartition_dispatcher(a, kth, axis=None, kind=None, order=None):\n",
      "KeyboardInterrupt\n",
      "\n",
      "During handling of the above exception, another exception occurred:\n",
      "\n",
      "Traceback (most recent call last):\n",
      "  File \"/home/mattyshen/anaconda3/lib/python3.9/site-packages/IPython/core/interactiveshell.py\", line 1982, in showtraceback\n",
      "    stb = self.InteractiveTB.structured_traceback(\n",
      "  File \"/home/mattyshen/anaconda3/lib/python3.9/site-packages/IPython/core/ultratb.py\", line 1118, in structured_traceback\n",
      "    return FormattedTB.structured_traceback(\n",
      "  File \"/home/mattyshen/anaconda3/lib/python3.9/site-packages/IPython/core/ultratb.py\", line 1012, in structured_traceback\n",
      "    return VerboseTB.structured_traceback(\n",
      "  File \"/home/mattyshen/anaconda3/lib/python3.9/site-packages/IPython/core/ultratb.py\", line 865, in structured_traceback\n",
      "    formatted_exception = self.format_exception_as_a_whole(etype, evalue, etb, number_of_lines_of_context,\n",
      "  File \"/home/mattyshen/anaconda3/lib/python3.9/site-packages/IPython/core/ultratb.py\", line 818, in format_exception_as_a_whole\n",
      "    frames.append(self.format_record(r))\n",
      "  File \"/home/mattyshen/anaconda3/lib/python3.9/site-packages/IPython/core/ultratb.py\", line 736, in format_record\n",
      "    result += ''.join(_format_traceback_lines(frame_info.lines, Colors, self.has_colors, lvals))\n",
      "  File \"/home/mattyshen/anaconda3/lib/python3.9/site-packages/stack_data/utils.py\", line 145, in cached_property_wrapper\n",
      "    value = obj.__dict__[self.func.__name__] = self.func(obj)\n",
      "  File \"/home/mattyshen/anaconda3/lib/python3.9/site-packages/stack_data/core.py\", line 698, in lines\n",
      "    pieces = self.included_pieces\n",
      "  File \"/home/mattyshen/anaconda3/lib/python3.9/site-packages/stack_data/utils.py\", line 145, in cached_property_wrapper\n",
      "    value = obj.__dict__[self.func.__name__] = self.func(obj)\n",
      "  File \"/home/mattyshen/anaconda3/lib/python3.9/site-packages/stack_data/core.py\", line 649, in included_pieces\n",
      "    pos = scope_pieces.index(self.executing_piece)\n",
      "  File \"/home/mattyshen/anaconda3/lib/python3.9/site-packages/stack_data/utils.py\", line 145, in cached_property_wrapper\n",
      "    value = obj.__dict__[self.func.__name__] = self.func(obj)\n",
      "  File \"/home/mattyshen/anaconda3/lib/python3.9/site-packages/stack_data/core.py\", line 628, in executing_piece\n",
      "    return only(\n",
      "  File \"/home/mattyshen/anaconda3/lib/python3.9/site-packages/executing/executing.py\", line 164, in only\n",
      "    raise NotOneValueFound('Expected one value, found 0')\n",
      "executing.executing.NotOneValueFound: Expected one value, found 0\n"
     ]
    }
   ],
   "source": [
    "ftd.fit(X_concept_train, y_concept_train_hat)"
   ]
  },
  {
   "cell_type": "code",
   "execution_count": null,
   "id": "b59e8126-934a-4ba2-82c8-aabf221ebeda",
   "metadata": {},
   "outputs": [],
   "source": [
    "ftd.scores_"
   ]
  },
  {
   "cell_type": "code",
   "execution_count": null,
   "id": "baabc214-20f7-496b-8024-13d0475c47c6",
   "metadata": {},
   "outputs": [],
   "source": [
    "from sklearn.preprocessing import PolynomialFeatures\n",
    "poly = PolynomialFeatures(degree = 2, interaction_only = True)\n"
   ]
  },
  {
   "cell_type": "code",
   "execution_count": null,
   "id": "e04b768e-d87d-4043-8f92-acdf26083c4e",
   "metadata": {},
   "outputs": [],
   "source": [
    "poly.fit(X_concept_train)"
   ]
  },
  {
   "cell_type": "code",
   "execution_count": null,
   "id": "aad9743d-01fb-450f-a839-3235f18ff3ae",
   "metadata": {},
   "outputs": [],
   "source": [
    "poly_features = list(map(lambda s: set(s.split()), poly.get_feature_names_out(X_concept_train.columns)))"
   ]
  },
  {
   "cell_type": "code",
   "execution_count": null,
   "id": "cd3c3fb7-5cd4-4d91-9e3e-88b72768db4d",
   "metadata": {},
   "outputs": [],
   "source": [
    "poly.transform(X_concept_train).shape"
   ]
  },
  {
   "cell_type": "code",
   "execution_count": null,
   "id": "99b4743c-4d1d-4eab-9367-dc1ced988771",
   "metadata": {},
   "outputs": [],
   "source": [
    "Chi = pd.DataFrame(poly.transform(X_concept_train), columns = list(map(lambda f: tuple(f), poly_features)))"
   ]
  },
  {
   "cell_type": "code",
   "execution_count": null,
   "id": "20ed5b76-6cff-4c44-a58a-7b4a846d3e93",
   "metadata": {},
   "outputs": [],
   "source": [
    "y = y_concept_train_hat"
   ]
  },
  {
   "cell_type": "code",
   "execution_count": null,
   "id": "475ad8fd-b793-4c7b-81b1-bfea21648386",
   "metadata": {},
   "outputs": [],
   "source": []
  }
 ],
 "metadata": {
  "kernelspec": {
   "display_name": "Python 3 (ipykernel)",
   "language": "python",
   "name": "python3"
  },
  "language_info": {
   "codemirror_mode": {
    "name": "ipython",
    "version": 3
   },
   "file_extension": ".py",
   "mimetype": "text/x-python",
   "name": "python",
   "nbconvert_exporter": "python",
   "pygments_lexer": "ipython3",
   "version": "3.9.12"
  }
 },
 "nbformat": 4,
 "nbformat_minor": 5
}

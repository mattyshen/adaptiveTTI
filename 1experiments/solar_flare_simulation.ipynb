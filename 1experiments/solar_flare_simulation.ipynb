{
 "cells": [
  {
   "cell_type": "code",
   "execution_count": 1,
   "id": "93da5ff5-40d8-4502-abb4-fb30670458fc",
   "metadata": {},
   "outputs": [],
   "source": [
    "def warn(*args, **kwargs):\n",
    "    pass\n",
    "import warnings\n",
    "warnings.warn = warn\n",
    "\n",
    "import sys\n",
    "import os\n",
    "\n",
    "sys.path.append('..')\n",
    "\n",
    "from interpretDistill.fourierDistill import *\n",
    "from interpretDistill.binaryTransformer import *"
   ]
  },
  {
   "cell_type": "code",
   "execution_count": 2,
   "id": "1edf6387-92d0-4a10-8296-fda5d8c11803",
   "metadata": {},
   "outputs": [],
   "source": [
    "from sklearn.model_selection import train_test_split\n",
    "from sklearn.ensemble import RandomForestRegressor\n",
    "from sklearn.metrics import mean_squared_error, r2_score\n",
    "\n",
    "from ucimlrepo import fetch_ucirepo \n",
    "solar_flare = fetch_ucirepo(id=89) \n",
    "  \n",
    "X = solar_flare.data.features \n",
    "y = solar_flare.data.targets['common flares']\n",
    "\n",
    "X.columns = X.columns.str.replace(' ', '_')\n",
    "y.name = 'common_flares'\n",
    "X_train, X_test, y_train, y_test = train_test_split(X, y, test_size=0.2, random_state=42)\n",
    "X_train, X_val, y_train, y_val = train_test_split(X_train, y_train, test_size=0.25, random_state=42)"
   ]
  },
  {
   "cell_type": "code",
   "execution_count": 3,
   "id": "e89d7626-8d0f-46c1-9968-f5d2f7cac2bf",
   "metadata": {},
   "outputs": [],
   "source": [
    "bt_bit = BinaryTransformer(depth = 4, bit = True)\n",
    "bt_bin = BinaryTransformer(depth = 4, bit = False)"
   ]
  },
  {
   "cell_type": "code",
   "execution_count": 4,
   "id": "b7d394b2-91fe-4341-8237-d0dd8deea6fb",
   "metadata": {},
   "outputs": [
    {
     "data": {
      "text/plain": [
       "((833, 10), (278, 10), (278, 10))"
      ]
     },
     "execution_count": 4,
     "metadata": {},
     "output_type": "execute_result"
    }
   ],
   "source": [
    "X_train.shape, X_val.shape, X_test.shape"
   ]
  },
  {
   "cell_type": "code",
   "execution_count": 5,
   "id": "541e4bb1-5781-426e-85b7-3b95ab6410f7",
   "metadata": {},
   "outputs": [],
   "source": [
    "X_train_bit = bt_bit.fit_and_transform(X_train, y_train)\n",
    "X_val_bit = bt_bit.transform(X_val)\n",
    "X_test_bit = bt_bit.transform(X_test)"
   ]
  },
  {
   "cell_type": "code",
   "execution_count": 6,
   "id": "b5525991-a245-4008-9683-dded18cf3836",
   "metadata": {},
   "outputs": [
    {
     "data": {
      "text/plain": [
       "False"
      ]
     },
     "execution_count": 6,
     "metadata": {},
     "output_type": "execute_result"
    }
   ],
   "source": [
    "X_train_bit.isnull().values.any()"
   ]
  },
  {
   "cell_type": "code",
   "execution_count": 7,
   "id": "ecdfcd85-8f24-4983-826a-0fb36f45ec7c",
   "metadata": {},
   "outputs": [],
   "source": [
    "X_train_bin = bt_bin.fit_and_transform(X_train, y_train)\n",
    "X_val_bin = bt_bin.transform(X_val)\n",
    "X_test_bin = bt_bin.transform(X_test)"
   ]
  },
  {
   "cell_type": "code",
   "execution_count": 8,
   "id": "0c377939-4d2a-4c00-9993-3bb62c8e47cf",
   "metadata": {},
   "outputs": [
    {
     "data": {
      "text/plain": [
       "False"
      ]
     },
     "execution_count": 8,
     "metadata": {},
     "output_type": "execute_result"
    }
   ],
   "source": [
    "X_train_bin.isnull().values.any()"
   ]
  },
  {
   "cell_type": "code",
   "execution_count": 9,
   "id": "167eebfc-2065-45a6-b442-99a15c38f20b",
   "metadata": {},
   "outputs": [],
   "source": [
    "X_train_orig = pd.get_dummies(X_train, columns=list(X.columns)).astype(int).replace({-1:-1, 0:-1, 1:1})\n",
    "X_val_orig = pd.get_dummies(X_val, columns=list(X.columns)).astype(int).replace({-1:-1, 0:-1, 1:1})\n",
    "X_test_orig = pd.get_dummies(X_test, columns=list(X.columns)).astype(int).replace({-1:-1, 0:-1, 1:1})"
   ]
  },
  {
   "cell_type": "code",
   "execution_count": 10,
   "id": "10f3fbd5-8f7a-4394-adf5-3a9eacef3d45",
   "metadata": {},
   "outputs": [
    {
     "data": {
      "text/plain": [
       "False"
      ]
     },
     "execution_count": 10,
     "metadata": {},
     "output_type": "execute_result"
    }
   ],
   "source": [
    "X_train_orig.isnull().values.any()"
   ]
  },
  {
   "cell_type": "code",
   "execution_count": 11,
   "id": "fd2437db-ebe7-483a-a71a-d5e8883ea5b3",
   "metadata": {},
   "outputs": [
    {
     "name": "stdout",
     "output_type": "stream",
     "text": [
      "dummy (orig) number of features: 32\n",
      "bit number of features: 25\n",
      "bin number of features: 27\n"
     ]
    }
   ],
   "source": [
    "print(f'dummy (orig) number of features: {X_train_orig.shape[1]}')\n",
    "print(f'bit number of features: {X_train_bit.shape[1]}')\n",
    "print(f'bin number of features: {X_train_bin.shape[1]}')"
   ]
  },
  {
   "cell_type": "code",
   "execution_count": 12,
   "id": "78e5b070-7e17-4858-94ce-276ad7e65d19",
   "metadata": {},
   "outputs": [],
   "source": [
    "X_train_orig = pd.get_dummies(X_train, columns=list(X.columns)).astype(int).replace({-1:-1, 0:-1, 1:1})\n",
    "X_val_orig = pd.get_dummies(X_val, columns=list(X.columns)).astype(int).replace({-1:-1, 0:-1, 1:1})\n",
    "X_test_orig = pd.get_dummies(X_test, columns=list(X.columns)).astype(int).replace({-1:-1, 0:-1, 1:1})"
   ]
  },
  {
   "cell_type": "code",
   "execution_count": 13,
   "id": "55d65acd-3e00-4df3-b29e-f360cc378fdc",
   "metadata": {},
   "outputs": [],
   "source": [
    "rf_orig = RandomForestRegressor(max_depth = 6, criterion = 'absolute_error')\n",
    "rf_bit = RandomForestRegressor(max_depth = 6, criterion = 'absolute_error')\n",
    "rf_bin = RandomForestRegressor(max_depth = 6, criterion = 'absolute_error')"
   ]
  },
  {
   "cell_type": "code",
   "execution_count": 14,
   "id": "ddca2dea-e4fa-4b6e-a47c-4569bd830819",
   "metadata": {},
   "outputs": [
    {
     "data": {
      "text/html": [
       "<style>#sk-container-id-1 {color: black;background-color: white;}#sk-container-id-1 pre{padding: 0;}#sk-container-id-1 div.sk-toggleable {background-color: white;}#sk-container-id-1 label.sk-toggleable__label {cursor: pointer;display: block;width: 100%;margin-bottom: 0;padding: 0.3em;box-sizing: border-box;text-align: center;}#sk-container-id-1 label.sk-toggleable__label-arrow:before {content: \"▸\";float: left;margin-right: 0.25em;color: #696969;}#sk-container-id-1 label.sk-toggleable__label-arrow:hover:before {color: black;}#sk-container-id-1 div.sk-estimator:hover label.sk-toggleable__label-arrow:before {color: black;}#sk-container-id-1 div.sk-toggleable__content {max-height: 0;max-width: 0;overflow: hidden;text-align: left;background-color: #f0f8ff;}#sk-container-id-1 div.sk-toggleable__content pre {margin: 0.2em;color: black;border-radius: 0.25em;background-color: #f0f8ff;}#sk-container-id-1 input.sk-toggleable__control:checked~div.sk-toggleable__content {max-height: 200px;max-width: 100%;overflow: auto;}#sk-container-id-1 input.sk-toggleable__control:checked~label.sk-toggleable__label-arrow:before {content: \"▾\";}#sk-container-id-1 div.sk-estimator input.sk-toggleable__control:checked~label.sk-toggleable__label {background-color: #d4ebff;}#sk-container-id-1 div.sk-label input.sk-toggleable__control:checked~label.sk-toggleable__label {background-color: #d4ebff;}#sk-container-id-1 input.sk-hidden--visually {border: 0;clip: rect(1px 1px 1px 1px);clip: rect(1px, 1px, 1px, 1px);height: 1px;margin: -1px;overflow: hidden;padding: 0;position: absolute;width: 1px;}#sk-container-id-1 div.sk-estimator {font-family: monospace;background-color: #f0f8ff;border: 1px dotted black;border-radius: 0.25em;box-sizing: border-box;margin-bottom: 0.5em;}#sk-container-id-1 div.sk-estimator:hover {background-color: #d4ebff;}#sk-container-id-1 div.sk-parallel-item::after {content: \"\";width: 100%;border-bottom: 1px solid gray;flex-grow: 1;}#sk-container-id-1 div.sk-label:hover label.sk-toggleable__label {background-color: #d4ebff;}#sk-container-id-1 div.sk-serial::before {content: \"\";position: absolute;border-left: 1px solid gray;box-sizing: border-box;top: 0;bottom: 0;left: 50%;z-index: 0;}#sk-container-id-1 div.sk-serial {display: flex;flex-direction: column;align-items: center;background-color: white;padding-right: 0.2em;padding-left: 0.2em;position: relative;}#sk-container-id-1 div.sk-item {position: relative;z-index: 1;}#sk-container-id-1 div.sk-parallel {display: flex;align-items: stretch;justify-content: center;background-color: white;position: relative;}#sk-container-id-1 div.sk-item::before, #sk-container-id-1 div.sk-parallel-item::before {content: \"\";position: absolute;border-left: 1px solid gray;box-sizing: border-box;top: 0;bottom: 0;left: 50%;z-index: -1;}#sk-container-id-1 div.sk-parallel-item {display: flex;flex-direction: column;z-index: 1;position: relative;background-color: white;}#sk-container-id-1 div.sk-parallel-item:first-child::after {align-self: flex-end;width: 50%;}#sk-container-id-1 div.sk-parallel-item:last-child::after {align-self: flex-start;width: 50%;}#sk-container-id-1 div.sk-parallel-item:only-child::after {width: 0;}#sk-container-id-1 div.sk-dashed-wrapped {border: 1px dashed gray;margin: 0 0.4em 0.5em 0.4em;box-sizing: border-box;padding-bottom: 0.4em;background-color: white;}#sk-container-id-1 div.sk-label label {font-family: monospace;font-weight: bold;display: inline-block;line-height: 1.2em;}#sk-container-id-1 div.sk-label-container {text-align: center;}#sk-container-id-1 div.sk-container {/* jupyter's `normalize.less` sets `[hidden] { display: none; }` but bootstrap.min.css set `[hidden] { display: none !important; }` so we also need the `!important` here to be able to override the default hidden behavior on the sphinx rendered scikit-learn.org. See: https://github.com/scikit-learn/scikit-learn/issues/21755 */display: inline-block !important;position: relative;}#sk-container-id-1 div.sk-text-repr-fallback {display: none;}</style><div id=\"sk-container-id-1\" class=\"sk-top-container\"><div class=\"sk-text-repr-fallback\"><pre>RandomForestRegressor(criterion=&#x27;absolute_error&#x27;, max_depth=6)</pre><b>In a Jupyter environment, please rerun this cell to show the HTML representation or trust the notebook. <br />On GitHub, the HTML representation is unable to render, please try loading this page with nbviewer.org.</b></div><div class=\"sk-container\" hidden><div class=\"sk-item\"><div class=\"sk-estimator sk-toggleable\"><input class=\"sk-toggleable__control sk-hidden--visually\" id=\"sk-estimator-id-1\" type=\"checkbox\" checked><label for=\"sk-estimator-id-1\" class=\"sk-toggleable__label sk-toggleable__label-arrow\">RandomForestRegressor</label><div class=\"sk-toggleable__content\"><pre>RandomForestRegressor(criterion=&#x27;absolute_error&#x27;, max_depth=6)</pre></div></div></div></div></div>"
      ],
      "text/plain": [
       "RandomForestRegressor(criterion='absolute_error', max_depth=6)"
      ]
     },
     "execution_count": 14,
     "metadata": {},
     "output_type": "execute_result"
    }
   ],
   "source": [
    "# rf_orig.fit(X_train_orig, y_train)\n",
    "# rf_bit.fit(X_train_bit, y_train)\n",
    "# rf_bin.fit(X_train_bin, y_train)\n",
    "rf_orig.fit(X_val_orig, y_val)\n",
    "rf_bit.fit(X_val_bit, y_val)\n",
    "rf_bin.fit(X_val_bin, y_val)"
   ]
  },
  {
   "cell_type": "code",
   "execution_count": 15,
   "id": "731838fa-411f-4b73-985b-255b3854fa89",
   "metadata": {},
   "outputs": [
    {
     "name": "stdout",
     "output_type": "stream",
     "text": [
      "[orig] train MSE: 0.5983678871548619, val MSE: 0.3154395683453237, test MSE: 0.5097756294964029\n",
      "[bit] train MSE: 0.5893192076830733, val MSE: 0.30029685251798555, test MSE: 0.49097913669064747\n",
      "[bin] train MSE: 0.6037669267707083, val MSE: 0.3197348021582734, test MSE: 0.5007365107913668\n"
     ]
    }
   ],
   "source": [
    "print(f'[orig] train MSE: {mean_squared_error(rf_orig.predict(X_train_orig),y_train)}, val MSE: {mean_squared_error(rf_orig.predict(X_val_orig),y_val)}, test MSE: {mean_squared_error(rf_orig.predict(X_test_orig),y_test)}')\n",
    "print(f'[bit] train MSE: {mean_squared_error(rf_bit.predict(X_train_bit),y_train)}, val MSE: {mean_squared_error(rf_bit.predict(X_val_bit),y_val)}, test MSE: {mean_squared_error(rf_bit.predict(X_test_bit),y_test)}')\n",
    "print(f'[bin] train MSE: {mean_squared_error(rf_bin.predict(X_train_bin),y_train)}, val MSE: {mean_squared_error(rf_bin.predict(X_val_bin),y_val)}, test MSE: {mean_squared_error(rf_bin.predict(X_test_bin),y_test)}')"
   ]
  },
  {
   "cell_type": "code",
   "execution_count": 16,
   "id": "4b778777-e622-4739-8579-22a7ee766654",
   "metadata": {},
   "outputs": [
    {
     "name": "stdout",
     "output_type": "stream",
     "text": [
      "[orig RF] train R2: -7.8267999626379705, val R2: -3.3563320769325555, test R2: -5.740792990588139\n",
      "[bit RF] train R2: -6.334008505684093, val R2: -2.568303239713314, test R2: -5.815169764126726\n",
      "[bin RF] train R2: -6.911864637693347, val R2: -3.3701343159161894, test R2: -4.953216550323675\n"
     ]
    }
   ],
   "source": [
    "print(f'[orig RF] train R2: {r2_score(rf_orig.predict(X_train_orig),y_train)}, val R2: {r2_score(rf_orig.predict(X_val_orig),y_val)}, test R2: {r2_score(rf_orig.predict(X_test_orig),y_test)}')\n",
    "print(f'[bit RF] train R2: {r2_score(rf_bit.predict(X_train_bit),y_train)}, val R2: {r2_score(rf_bit.predict(X_val_bit),y_val)}, test R2: {r2_score(rf_bit.predict(X_test_bit),y_test)}')\n",
    "print(f'[bin RF] train R2: {r2_score(rf_bin.predict(X_train_bin),y_train)}, val R2: {r2_score(rf_bin.predict(X_val_bin),y_val)}, test R2: {r2_score(rf_bin.predict(X_test_bin),y_test)}')"
   ]
  },
  {
   "cell_type": "code",
   "execution_count": 17,
   "id": "a95e29b6-c8ea-4dd1-9c60-d5e0f3c34da8",
   "metadata": {},
   "outputs": [],
   "source": [
    "ftd_orig = FTDistillCV(size_interactions = 3)\n",
    "ftd_bit = FTDistillCV(size_interactions = 3)\n",
    "ftd_bin = FTDistillCV(size_interactions = 3)"
   ]
  },
  {
   "cell_type": "code",
   "execution_count": 18,
   "id": "161f6a81-baa7-4218-8670-6afc17498d41",
   "metadata": {},
   "outputs": [
    {
     "data": {
      "text/plain": [
       "<interpretDistill.fourierDistill.FTDistillCV at 0x7f2c72480b50>"
      ]
     },
     "execution_count": 18,
     "metadata": {},
     "output_type": "execute_result"
    }
   ],
   "source": [
    "# ftd_bit.fit(X_val_bit, rf_bit.predict(X_val_bit)) #rf_orig.predict(X_val))\n",
    "# ftd_bin.fit(X_val_bin, rf_bin.predict(X_val_bin), bt_bin.no_interaction) #rf_orig.predict(X_val), bt_bin.no_interaction)\n",
    "ftd_orig.fit(X_train_orig, rf_orig.predict(X_train_orig))\n",
    "ftd_bit.fit(X_train_bit, rf_bit.predict(X_train_bit)) #rf_orig.predict(X_val))\n",
    "ftd_bin.fit(X_train_bin, rf_bin.predict(X_train_bin), bt_bin.no_interaction) #rf_orig.predict(X_val), bt_bin.no_interaction)"
   ]
  },
  {
   "cell_type": "code",
   "execution_count": 19,
   "id": "efc17915-138e-4021-b068-f1f59779b5da",
   "metadata": {},
   "outputs": [
    {
     "data": {
      "text/plain": [
       "(497, 341, 283)"
      ]
     },
     "execution_count": 19,
     "metadata": {},
     "output_type": "execute_result"
    }
   ],
   "source": [
    "sum(ftd_orig.regression_model.coef_ != 0), sum(ftd_bit.regression_model.coef_ != 0), sum(ftd_bin.regression_model.coef_ != 0)"
   ]
  },
  {
   "cell_type": "code",
   "execution_count": 20,
   "id": "83e74306-ef5a-4b8b-b728-1dd46c9d2282",
   "metadata": {},
   "outputs": [
    {
     "name": "stdout",
     "output_type": "stream",
     "text": [
      "[orig FTD, true y] train MSE: 0.5982423641942997, val MSE: 0.3242000959778041, test MSE: 0.5116333957184148\n",
      "[orig FTD, RF y] train MSE: 2.2417318655605713e-05, val MSE: 0.001957781308415727, test MSE: 0.0020170178364034867\n",
      "[bit FTD, true y] train MSE: 0.5883848043145837, val MSE: 0.317541541658904, test MSE: 0.48800177295305197\n",
      "[bit FTD, RF y] train MSE: 0.0005690878985117301, val MSE: 0.002778836645009651, test MSE: 0.0035908204401600917\n",
      "[bin FTD, true y] train MSE: 0.6033780988080844, val MSE: 0.3262531418857889, test MSE: 0.5054690569526445\n",
      "[bin FTD, RF y] train MSE: 2.0400169937470757e-05, val MSE: 0.0017656864422279483, test MSE: 0.0021323978777435006\n"
     ]
    }
   ],
   "source": [
    "print(f'[orig FTD, true y] train MSE: {mean_squared_error(ftd_orig.predict(X_train_orig),y_train)}, val MSE: {mean_squared_error(ftd_orig.predict(X_val_orig),y_val)}, test MSE: {mean_squared_error(ftd_orig.predict(X_test_orig),y_test)}')\n",
    "print(f'[orig FTD, RF y] train MSE: {mean_squared_error(ftd_orig.predict(X_train_orig),rf_orig.predict(X_train_orig))}, val MSE: {mean_squared_error(ftd_orig.predict(X_val_orig),rf_orig.predict(X_val_orig))}, test MSE: {mean_squared_error(ftd_orig.predict(X_test_orig),rf_orig.predict(X_test_orig))}')\n",
    "print(f'[bit FTD, true y] train MSE: {mean_squared_error(ftd_bit.predict(X_train_bit),y_train)}, val MSE: {mean_squared_error(ftd_bit.predict(X_val_bit),y_val)}, test MSE: {mean_squared_error(ftd_bit.predict(X_test_bit),y_test)}')\n",
    "print(f'[bit FTD, RF y] train MSE: {mean_squared_error(ftd_bit.predict(X_train_bit),rf_bit.predict(X_train_bit))}, val MSE: {mean_squared_error(ftd_bit.predict(X_val_bit),rf_bit.predict(X_val_bit))}, test MSE: {mean_squared_error(ftd_bit.predict(X_test_bit),rf_bit.predict(X_test_bit))}')\n",
    "print(f'[bin FTD, true y] train MSE: {mean_squared_error(ftd_bin.predict(X_train_bin),y_train)}, val MSE: {mean_squared_error(ftd_bin.predict(X_val_bin),y_val)}, test MSE: {mean_squared_error(ftd_bin.predict(X_test_bin),y_test)}')\n",
    "print(f'[bin FTD, RF y] train MSE: {mean_squared_error(ftd_bin.predict(X_train_bin),rf_bin.predict(X_train_bin))}, val MSE: {mean_squared_error(ftd_bin.predict(X_val_bin),rf_bin.predict(X_val_bin))}, test MSE: {mean_squared_error(ftd_bin.predict(X_test_bin),rf_bin.predict(X_test_bin))}')"
   ]
  },
  {
   "cell_type": "code",
   "execution_count": 21,
   "id": "7869d20a-1693-426e-81bb-727aca251901",
   "metadata": {},
   "outputs": [
    {
     "name": "stdout",
     "output_type": "stream",
     "text": [
      "[orig FTD, true y] train R2: -7.885822041064005, val R2: -3.7111191148956344, test R2: -6.305033469166448\n",
      "[orig FTD, RF y] train R2: 0.9996670307618889, val R2: 0.9715504681852587, test R2: 0.9712012880196302\n",
      "[bit RF, true y] train R2: -6.622357480445224, val R2: -3.105317090567996, test R2: -6.161478760187267\n",
      "[bit RF, RF y] train R2: 0.9926276284356037, val R2: 0.9640739743497594, test R2: 0.9473043219530951\n",
      "[bin RF, true y] train R2: -6.962643878412718, val R2: -3.7379328982949005, test R2: -5.2486011952648255\n",
      "[bin RF, RF y] train R2: 0.9997307835856288, val R2: 0.9743582426996714, test R2: 0.9736393281757373\n"
     ]
    }
   ],
   "source": [
    "print(f'[orig FTD, true y] train R2: {r2_score(ftd_orig.predict(X_train_orig),y_train)}, val R2: {r2_score(ftd_orig.predict(X_val_orig),y_val)}, test R2: {r2_score(ftd_orig.predict(X_test_orig),y_test)}')\n",
    "print(f'[orig FTD, RF y] train R2: {r2_score(ftd_orig.predict(X_train_orig),rf_orig.predict(X_train_orig))}, val R2: {r2_score(ftd_orig.predict(X_val_orig),rf_orig.predict(X_val_orig))}, test R2: {r2_score(ftd_orig.predict(X_test_orig),rf_orig.predict(X_test_orig))}')\n",
    "print(f'[bit RF, true y] train R2: {r2_score(ftd_bit.predict(X_train_bit),y_train)}, val R2: {r2_score(ftd_bit.predict(X_val_bit),y_val)}, test R2: {r2_score(ftd_bit.predict(X_test_bit),y_test)}')\n",
    "print(f'[bit RF, RF y] train R2: {r2_score(ftd_bit.predict(X_train_bit),rf_bit.predict(X_train_bit))}, val R2: {r2_score(ftd_bit.predict(X_val_bit),rf_bit.predict(X_val_bit))}, test R2: {r2_score(ftd_bit.predict(X_test_bit),rf_bit.predict(X_test_bit))}')\n",
    "print(f'[bin RF, true y] train R2: {r2_score(ftd_bin.predict(X_train_bin),y_train)}, val R2: {r2_score(ftd_bin.predict(X_val_bin),y_val)}, test R2: {r2_score(ftd_bin.predict(X_test_bin),y_test)}')\n",
    "print(f'[bin RF, RF y] train R2: {r2_score(ftd_bin.predict(X_train_bin),rf_bin.predict(X_train_bin))}, val R2: {r2_score(ftd_bin.predict(X_val_bin),rf_bin.predict(X_val_bin))}, test R2: {r2_score(ftd_bin.predict(X_test_bin),rf_bin.predict(X_test_bin))}')"
   ]
  },
  {
   "cell_type": "code",
   "execution_count": 22,
   "id": "70e5a94b-fc77-4528-81b3-062af2d5c571",
   "metadata": {},
   "outputs": [],
   "source": [
    "# print(f'[bit RF, true y] train R2: {r2_score(ftd_bit.predict(X_train_bit),y_train)}, val R2: {r2_score(ftd_bit.predict(X_val_bit),y_val)}, test R2: {r2_score(ftd_bit.predict(X_test_bit),y_test)}')\n",
    "# print(f'[bit RF, RF y] train R2: {r2_score(ftd_bit.predict(X_train_bit),rf_orig.predict(X_train))}, val R2: {r2_score(ftd_bit.predict(X_val_bit),rf_orig.predict(X_val))}, test R2: {r2_score(ftd_bit.predict(X_test_bit),rf_orig.predict(X_test))}')\n",
    "# print(f'[bin RF, true y] train R2: {r2_score(ftd_bin.predict(X_train_bin),y_train)}, val R2: {r2_score(ftd_bin.predict(X_val_bin),y_val)}, test R2: {r2_score(ftd_bin.predict(X_test_bin),y_test)}')\n",
    "# print(f'[bin RF, RF y] train R2: {r2_score(ftd_bin.predict(X_train_bin),rf_orig.predict(X_train))}, val R2: {r2_score(ftd_bin.predict(X_val_bin),rf_orig.predict(X_val))}, test R2: {r2_score(ftd_bin.predict(X_test_bin),rf_orig.predict(X_test))}')"
   ]
  },
  {
   "cell_type": "code",
   "execution_count": 23,
   "id": "dc760cdf-7ea1-4bb8-b858-43733c55366a",
   "metadata": {},
   "outputs": [],
   "source": [
    "from itertools import compress"
   ]
  },
  {
   "cell_type": "code",
   "execution_count": 24,
   "id": "a4ab75ed-d2b2-44d7-bd58-a258afddc36b",
   "metadata": {},
   "outputs": [
    {
     "data": {
      "text/plain": [
       "[(('modified_Zurich_class_E', 'spot_distribution_C', 'historically-complex_2'),\n",
       "  -0.03889982177256009),\n",
       " (('modified_Zurich_class_F', 'largest_spot_size_H', 'largest_spot_size_K'),\n",
       "  0.046259868962048235),\n",
       " (('modified_Zurich_class_E',\n",
       "   'modified_Zurich_class_F',\n",
       "   'spot_distribution_C'),\n",
       "  0.11737226073553388)]"
      ]
     },
     "execution_count": 24,
     "metadata": {},
     "output_type": "execute_result"
    }
   ],
   "source": [
    "sorted([i for i in zip(list(compress(ftd_orig.features, ftd_orig.regression_model.coef_ != 0)), list(compress(ftd_orig.regression_model.coef_, ftd_orig.regression_model.coef_ != 0)))], key = lambda x: abs(x[1]))[-3:]"
   ]
  },
  {
   "cell_type": "code",
   "execution_count": 25,
   "id": "9bf661a9-2b63-4938-afa8-d43d3d1e0396",
   "metadata": {},
   "outputs": [
    {
     "data": {
      "text/plain": [
       "[(('largest_spot_size_bit1', 'area', 'activity'), 0.05071841272080413),\n",
       " (('activity',), -0.08004708506466442),\n",
       " (('largest_spot_size_bit0', 'spot_distribution_bit2', 'evolution_leaf_bit0'),\n",
       "  -0.09377090026009628)]"
      ]
     },
     "execution_count": 25,
     "metadata": {},
     "output_type": "execute_result"
    }
   ],
   "source": [
    "sorted([i for i in zip(list(compress(ftd_bit.features, ftd_bit.regression_model.coef_ != 0)), list(compress(ftd_bit.regression_model.coef_, ftd_bit.regression_model.coef_ != 0)))], key = lambda x: abs(x[1]))[-3:]"
   ]
  },
  {
   "cell_type": "code",
   "execution_count": 26,
   "id": "98f4e504-3fa6-4047-890b-ecb34d88a5f3",
   "metadata": {},
   "outputs": [
    {
     "data": {
      "text/plain": [
       "[(('spot_distribution_C', 'modified_Zurich_class_F', 'largest_spot_size_H'),\n",
       "  0.06214869098295132),\n",
       " (('modified_Zurich_class_D', 'spot_distribution_C', 'largest_spot_size_S'),\n",
       "  -0.0628736939361165),\n",
       " (('largest_spot_size_X', 'modified_Zurich_class_C', 'spot_distribution_X'),\n",
       "  -0.12295648372984518)]"
      ]
     },
     "execution_count": 26,
     "metadata": {},
     "output_type": "execute_result"
    }
   ],
   "source": [
    "sorted([i for i in zip(list(compress(ftd_bin.features, ftd_bin.regression_model.coef_ != 0)), list(compress(ftd_bin.regression_model.coef_, ftd_bin.regression_model.coef_ != 0)))], key = lambda x: abs(x[1]))[-3:]"
   ]
  }
 ],
 "metadata": {
  "kernelspec": {
   "display_name": "Python 3 (ipykernel)",
   "language": "python",
   "name": "python3"
  },
  "language_info": {
   "codemirror_mode": {
    "name": "ipython",
    "version": 3
   },
   "file_extension": ".py",
   "mimetype": "text/x-python",
   "name": "python",
   "nbconvert_exporter": "python",
   "pygments_lexer": "ipython3",
   "version": "3.9.12"
  }
 },
 "nbformat": 4,
 "nbformat_minor": 5
}

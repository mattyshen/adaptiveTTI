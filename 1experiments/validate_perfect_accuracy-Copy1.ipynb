{
 "cells": [
  {
   "cell_type": "code",
   "execution_count": null,
   "id": "d8a8bada-6bac-437c-b422-48cc5c8dec7a",
   "metadata": {},
   "outputs": [],
   "source": [
    "import pandas as pd\n",
    "import numpy as np\n",
    "import sys\n",
    "\n",
    "sys.path.append('..')\n",
    "\n",
    "from interpretDistill.fourierDistill import *\n",
    "from interpretDistill.binaryTransformer import *\n",
    "\n",
    "def process_csv(df):\n",
    "    y_true = df['y_true']\n",
    "    y_hat = df['y_hat']\n",
    "    X = df.drop(columns = ['id', 'y_true', 'y_hat'])\n",
    "    return X, y_true, y_hat\n",
    "\n",
    "def scoring_df_maker(model_list, model_names, Xy, y_hats, train_time):\n",
    "    df = pd.DataFrame(columns = ['Train Acc', 'Val Acc', 'Test Acc'])\n",
    "    df['Model'] = model_names\n",
    "    \n",
    "    for xy, j in zip(Xy, df.columns):\n",
    "        df[j] = [np.mean(m.predict(xy[0]) == xy[1]) for m in model_list]\n",
    "        \n",
    "    df['Train Time'] = train_time\n",
    "\n",
    "    #[ftd_bo_train, ftd_bb_train, ftd_bo_val, ftd_bb_val, ftd_bo_tv, ftd_bb_tv]\n",
    "    df['Total Num Features'] = [len(m.regression_model.coef_) for m in model_list]\n",
    "    df['Num Selected Features'] = [sum(m.regression_model.coef_ != 0) for m in model_list]\n",
    "    \n",
    "    df.loc[len(df)] = ['ResNet18 CUB']+[np.mean(y_hat == y) for (_, y), y_hat in zip(Xy, y_hats)]+[-1, -1, -1]\n",
    "    \n",
    "    return df\n",
    "\n",
    "Xy_concept_train = pd.read_csv('data/Xy_concept_train.csv', index_col = [0])\n",
    "Xy_concept_val = pd.read_csv('data/Xy_concept_val.csv', index_col = [0])\n",
    "Xy_concept_test = pd.read_csv('data/Xy_concept_test.csv', index_col = [0])\n",
    "X_concept_train, y_concept_train_true, y_concept_train_hat = process_csv(Xy_concept_train)\n",
    "X_concept_val, y_concept_val_true, y_concept_val_hat = process_csv(Xy_concept_val)\n",
    "X_concept_test, y_concept_test_true, y_concept_test_hat = process_csv(Xy_concept_test)\n",
    "\n",
    "ftd_bo_train = FTDistillClassifierCV(size_interactions=2, k_cv = 3)\n",
    "ftd_bo_val = FTDistillClassifierCV(size_interactions=2, k_cv = 3)\n",
    "ftd_bo_tv = FTDistillClassifierCV(size_interactions=2, k_cv = 3)"
   ]
  },
  {
   "cell_type": "code",
   "execution_count": null,
   "id": "ae64ef8f-ce6d-4be7-90c0-d52ffe8fbff2",
   "metadata": {},
   "outputs": [],
   "source": [
    "X_concept_val.columns"
   ]
  },
  {
   "cell_type": "code",
   "execution_count": null,
   "id": "84df4c89-bdbb-454e-8523-8c9019025434",
   "metadata": {},
   "outputs": [],
   "source": [
    "train_time = []\n",
    "\n",
    "print('begin fitting')\n",
    "start = time.time()\n",
    "ftd_bo_train.fit(X_concept_train, y_concept_train_true)\n",
    "end = time.time()\n",
    "train_time.append(end-start)\n",
    "print('bo_train concluded')"
   ]
  },
  {
   "cell_type": "code",
   "execution_count": null,
   "id": "318eb0ad-736e-451d-b7e1-a12b711baac4",
   "metadata": {},
   "outputs": [],
   "source": [
    "np.mean(ftd_bo_train.predict(X_concept_train) == y_concept_train_true), np.mean(ftd_bo_train.predict(X_concept_val) == y_concept_val_true), np.mean(ftd_bo_train.predict(X_concept_test) == y_concept_test_true)"
   ]
  },
  {
   "cell_type": "code",
   "execution_count": null,
   "id": "f93af38a-3771-4df1-8d28-c180ea2a2892",
   "metadata": {},
   "outputs": [],
   "source": [
    "len(ftd_bo_train.features)"
   ]
  },
  {
   "cell_type": "code",
   "execution_count": null,
   "id": "9c7aaf19-f8da-4ab6-b753-b16f1f09a8bf",
   "metadata": {},
   "outputs": [],
   "source": [
    "nonzero = []\n",
    "for coef, feat in zip(ftd_bo_train.regression_model.coef_[0], ftd_bo_train.features):\n",
    "    if coef != 0:\n",
    "        nonzero.append((feat, coef))"
   ]
  },
  {
   "cell_type": "code",
   "execution_count": null,
   "id": "f51ef069-d476-4fe2-96ff-4da96d6f342d",
   "metadata": {},
   "outputs": [],
   "source": [
    "nonzero"
   ]
  },
  {
   "cell_type": "code",
   "execution_count": null,
   "id": "c97b5f3e-aa5e-4e8d-a36d-53c13a9490f0",
   "metadata": {},
   "outputs": [],
   "source": [
    "len(ftd_bo_train.regression_model.coef_[0]) # != 0, axis = 1)"
   ]
  },
  {
   "cell_type": "code",
   "execution_count": null,
   "id": "f5aab7a1-2503-4868-a9b5-1c9686630fff",
   "metadata": {},
   "outputs": [],
   "source": [
    "t = ftd_bo_train.regression_model.densify() #.coef_.shape"
   ]
  },
  {
   "cell_type": "code",
   "execution_count": null,
   "id": "6b6eb0f7-8896-4cea-8166-02b4975464ee",
   "metadata": {},
   "outputs": [],
   "source": [
    "t.coef_.shape"
   ]
  },
  {
   "cell_type": "code",
   "execution_count": null,
   "id": "3401cfc0-cedd-4002-a62c-86dec4c1a7bc",
   "metadata": {},
   "outputs": [],
   "source": [
    "np.mean(ftd_bo_train.predict(X_concept_test) == y_concept_test_true)"
   ]
  },
  {
   "cell_type": "code",
   "execution_count": null,
   "id": "0d23724b-c2d8-4b56-adec-5bf1db03b201",
   "metadata": {},
   "outputs": [],
   "source": [
    "np.sum(ftd_bo_train.regression_model.coef_[0] != 0)"
   ]
  },
  {
   "cell_type": "code",
   "execution_count": null,
   "id": "e5cc8e2a-cd52-4ceb-af17-8175dfafcbd1",
   "metadata": {},
   "outputs": [],
   "source": [
    "np.mean(np.sum(ftd_bo_train.regression_model.coef_ != 0, axis = 1))"
   ]
  },
  {
   "cell_type": "code",
   "execution_count": null,
   "id": "f490aec2-4b9d-48c5-b5ee-d2e29a9d06ca",
   "metadata": {},
   "outputs": [],
   "source": [
    "start = time.time()\n",
    "ftd_bo_val.fit(X_concept_val, y_concept_val_true)\n",
    "end = time.time()\n",
    "train_time.append(end-start)\n",
    "print('bo_val concluded')"
   ]
  },
  {
   "cell_type": "code",
   "execution_count": null,
   "id": "3ece249e-bc40-40c0-bab6-79a41b8eee40",
   "metadata": {},
   "outputs": [],
   "source": [
    "start = time.time()\n",
    "ftd_bo_tv.fit(pd.concat([X_concept_train, X_concept_val], axis = 0), pd.concat([y_concept_train_true, y_concept_val_true], axis = 0))\n",
    "end = time.time()\n",
    "train_time.append(end-start)\n",
    "print('bo_tv concluded')"
   ]
  },
  {
   "cell_type": "code",
   "execution_count": null,
   "id": "59575ed0-a98b-4894-8ccc-697113eaa13c",
   "metadata": {},
   "outputs": [],
   "source": [
    "ftd_list = [ftd_bo_train, ftd_bo_val, ftd_bo_tv]\n",
    "ftd_names = ['(concept, true, train)', '(concept, true, val)','(concept, true, tv)']\n",
    "\n",
    "Xy_true = [(X_concept_train, y_concept_train_true), (X_concept_val, y_concept_val_true), (X_concept_test, y_concept_test_true)]\n",
    "#Xy_hat = [(X_concept_train, y_concept_train_hat), (X_concept_val, y_concept_val_hat), (X_concept_test, y_concept_test_hat)]\n",
    "y_hats = [y_concept_train_hat, y_concept_val_hat, y_concept_test_hat]\n",
    "\n",
    "df_true = scoring_df_maker(ftd_list, ftd_names, Xy_true, y_hats, train_time)\n",
    "#df_hat = scoring_df_maker(ftd_list, ftd_names, Xy_hat, y_truth)\n",
    "\n",
    "df_true.to_csv('CUB_concept_acc_true_noresnet.csv')\n",
    "#df_hat.to_csv('CUB_concept_acc_hat.csv')"
   ]
  }
 ],
 "metadata": {
  "kernelspec": {
   "display_name": "Python 3 (ipykernel)",
   "language": "python",
   "name": "python3"
  },
  "language_info": {
   "codemirror_mode": {
    "name": "ipython",
    "version": 3
   },
   "file_extension": ".py",
   "mimetype": "text/x-python",
   "name": "python",
   "nbconvert_exporter": "python",
   "pygments_lexer": "ipython3",
   "version": "3.9.12"
  }
 },
 "nbformat": 4,
 "nbformat_minor": 5
}

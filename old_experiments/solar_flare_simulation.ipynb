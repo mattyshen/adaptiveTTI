{
 "cells": [
  {
   "cell_type": "code",
   "execution_count": null,
   "id": "93da5ff5-40d8-4502-abb4-fb30670458fc",
   "metadata": {},
   "outputs": [],
   "source": [
    "def warn(*args, **kwargs):\n",
    "    pass\n",
    "import warnings\n",
    "warnings.warn = warn\n",
    "\n",
    "import sys\n",
    "import os\n",
    "\n",
    "sys.path.append('..')\n",
    "\n",
    "from interpretDistill.fourierDistill import *\n",
    "from interpretDistill.binaryTransformer import *"
   ]
  },
  {
   "cell_type": "code",
   "execution_count": null,
   "id": "1edf6387-92d0-4a10-8296-fda5d8c11803",
   "metadata": {},
   "outputs": [],
   "source": [
    "from sklearn.model_selection import train_test_split\n",
    "from sklearn.ensemble import RandomForestRegressor\n",
    "from sklearn.metrics import mean_squared_error, r2_score\n",
    "\n",
    "from ucimlrepo import fetch_ucirepo \n",
    "solar_flare = fetch_ucirepo(id=89) \n",
    "  \n",
    "X = solar_flare.data.features \n",
    "y = solar_flare.data.targets['common flares']\n",
    "\n",
    "X.columns = X.columns.str.replace(' ', '_')\n",
    "y.name = 'common_flares'\n",
    "X_train, X_test, y_train, y_test = train_test_split(X, y, test_size=0.2, random_state=42)\n",
    "X_train, X_val, y_train, y_val = train_test_split(X_train, y_train, test_size=0.25, random_state=42)"
   ]
  },
  {
   "cell_type": "code",
   "execution_count": null,
   "id": "983f876a-0d43-4be2-92ba-59b522985271",
   "metadata": {},
   "outputs": [],
   "source": [
    "y.value_counts()"
   ]
  },
  {
   "cell_type": "code",
   "execution_count": null,
   "id": "e89d7626-8d0f-46c1-9968-f5d2f7cac2bf",
   "metadata": {},
   "outputs": [],
   "source": [
    "bt_bit = BinaryTransformer(depth = 4, bit = True)\n",
    "bt_bin = BinaryTransformer(depth = 4, bit = False)"
   ]
  },
  {
   "cell_type": "code",
   "execution_count": null,
   "id": "b7d394b2-91fe-4341-8237-d0dd8deea6fb",
   "metadata": {},
   "outputs": [],
   "source": [
    "X_train.shape, X_val.shape, X_test.shape"
   ]
  },
  {
   "cell_type": "code",
   "execution_count": null,
   "id": "541e4bb1-5781-426e-85b7-3b95ab6410f7",
   "metadata": {},
   "outputs": [],
   "source": [
    "X_train_bit = bt_bit.fit_and_transform(X_train, y_train)\n",
    "X_val_bit = bt_bit.transform(X_val)\n",
    "X_test_bit = bt_bit.transform(X_test)"
   ]
  },
  {
   "cell_type": "code",
   "execution_count": null,
   "id": "b5525991-a245-4008-9683-dded18cf3836",
   "metadata": {},
   "outputs": [],
   "source": [
    "X_train_bit.isnull().values.any()"
   ]
  },
  {
   "cell_type": "code",
   "execution_count": null,
   "id": "ecdfcd85-8f24-4983-826a-0fb36f45ec7c",
   "metadata": {},
   "outputs": [],
   "source": [
    "X_train_bin = bt_bin.fit_and_transform(X_train, y_train)\n",
    "X_val_bin = bt_bin.transform(X_val)\n",
    "X_test_bin = bt_bin.transform(X_test)"
   ]
  },
  {
   "cell_type": "code",
   "execution_count": null,
   "id": "0c377939-4d2a-4c00-9993-3bb62c8e47cf",
   "metadata": {},
   "outputs": [],
   "source": [
    "X_train_bin.isnull().values.any()"
   ]
  },
  {
   "cell_type": "code",
   "execution_count": null,
   "id": "167eebfc-2065-45a6-b442-99a15c38f20b",
   "metadata": {},
   "outputs": [],
   "source": [
    "X_train_orig = pd.get_dummies(X_train, columns=list(X.columns)).astype(int).replace({-1:-1, 0:-1, 1:1})\n",
    "X_val_orig = pd.get_dummies(X_val, columns=list(X.columns)).astype(int).replace({-1:-1, 0:-1, 1:1})\n",
    "X_test_orig = pd.get_dummies(X_test, columns=list(X.columns)).astype(int).replace({-1:-1, 0:-1, 1:1})"
   ]
  },
  {
   "cell_type": "code",
   "execution_count": null,
   "id": "10f3fbd5-8f7a-4394-adf5-3a9eacef3d45",
   "metadata": {},
   "outputs": [],
   "source": [
    "X_train_orig.isnull().values.any()"
   ]
  },
  {
   "cell_type": "code",
   "execution_count": null,
   "id": "fd2437db-ebe7-483a-a71a-d5e8883ea5b3",
   "metadata": {},
   "outputs": [],
   "source": [
    "print(f'dummy (orig) number of features: {X_train_orig.shape[1]}')\n",
    "print(f'bit number of features: {X_train_bit.shape[1]}')\n",
    "print(f'bin number of features: {X_train_bin.shape[1]}')"
   ]
  },
  {
   "cell_type": "code",
   "execution_count": null,
   "id": "78e5b070-7e17-4858-94ce-276ad7e65d19",
   "metadata": {},
   "outputs": [],
   "source": [
    "X_train_orig = pd.get_dummies(X_train, columns=list(X.columns)).astype(int).replace({-1:-1, 0:-1, 1:1})\n",
    "X_val_orig = pd.get_dummies(X_val, columns=list(X.columns)).astype(int).replace({-1:-1, 0:-1, 1:1})\n",
    "X_test_orig = pd.get_dummies(X_test, columns=list(X.columns)).astype(int).replace({-1:-1, 0:-1, 1:1})"
   ]
  },
  {
   "cell_type": "code",
   "execution_count": null,
   "id": "55d65acd-3e00-4df3-b29e-f360cc378fdc",
   "metadata": {},
   "outputs": [],
   "source": [
    "rf_orig = RandomForestRegressor(max_depth = 6, criterion = 'absolute_error')\n",
    "rf_bit = RandomForestRegressor(max_depth = 6, criterion = 'absolute_error')\n",
    "rf_bin = RandomForestRegressor(max_depth = 6, criterion = 'absolute_error')"
   ]
  },
  {
   "cell_type": "code",
   "execution_count": null,
   "id": "ddca2dea-e4fa-4b6e-a47c-4569bd830819",
   "metadata": {},
   "outputs": [],
   "source": [
    "# rf_orig.fit(X_train_orig, y_train)\n",
    "# rf_bit.fit(X_train_bit, y_train)\n",
    "# rf_bin.fit(X_train_bin, y_train)\n",
    "rf_orig.fit(X_val_orig, y_val)\n",
    "rf_bit.fit(X_val_bit, y_val)\n",
    "rf_bin.fit(X_val_bin, y_val)"
   ]
  },
  {
   "cell_type": "code",
   "execution_count": null,
   "id": "731838fa-411f-4b73-985b-255b3854fa89",
   "metadata": {},
   "outputs": [],
   "source": [
    "print(f'[orig] train MSE: {mean_squared_error(rf_orig.predict(X_train_orig),y_train)}, val MSE: {mean_squared_error(rf_orig.predict(X_val_orig),y_val)}, test MSE: {mean_squared_error(rf_orig.predict(X_test_orig),y_test)}')\n",
    "print(f'[bit] train MSE: {mean_squared_error(rf_bit.predict(X_train_bit),y_train)}, val MSE: {mean_squared_error(rf_bit.predict(X_val_bit),y_val)}, test MSE: {mean_squared_error(rf_bit.predict(X_test_bit),y_test)}')\n",
    "print(f'[bin] train MSE: {mean_squared_error(rf_bin.predict(X_train_bin),y_train)}, val MSE: {mean_squared_error(rf_bin.predict(X_val_bin),y_val)}, test MSE: {mean_squared_error(rf_bin.predict(X_test_bin),y_test)}')"
   ]
  },
  {
   "cell_type": "code",
   "execution_count": null,
   "id": "4b778777-e622-4739-8579-22a7ee766654",
   "metadata": {},
   "outputs": [],
   "source": [
    "print(f'[orig RF] train R2: {r2_score(rf_orig.predict(X_train_orig),y_train)}, val R2: {r2_score(rf_orig.predict(X_val_orig),y_val)}, test R2: {r2_score(rf_orig.predict(X_test_orig),y_test)}')\n",
    "print(f'[bit RF] train R2: {r2_score(rf_bit.predict(X_train_bit),y_train)}, val R2: {r2_score(rf_bit.predict(X_val_bit),y_val)}, test R2: {r2_score(rf_bit.predict(X_test_bit),y_test)}')\n",
    "print(f'[bin RF] train R2: {r2_score(rf_bin.predict(X_train_bin),y_train)}, val R2: {r2_score(rf_bin.predict(X_val_bin),y_val)}, test R2: {r2_score(rf_bin.predict(X_test_bin),y_test)}')"
   ]
  },
  {
   "cell_type": "code",
   "execution_count": null,
   "id": "a95e29b6-c8ea-4dd1-9c60-d5e0f3c34da8",
   "metadata": {},
   "outputs": [],
   "source": [
    "ftd_orig = FTDistillCV(size_interactions = 3)\n",
    "ftd_bit = FTDistillCV(size_interactions = 3)\n",
    "ftd_bin = FTDistillCV(size_interactions = 3)"
   ]
  },
  {
   "cell_type": "code",
   "execution_count": null,
   "id": "161f6a81-baa7-4218-8670-6afc17498d41",
   "metadata": {},
   "outputs": [],
   "source": [
    "# ftd_bit.fit(X_val_bit, rf_bit.predict(X_val_bit)) #rf_orig.predict(X_val))\n",
    "# ftd_bin.fit(X_val_bin, rf_bin.predict(X_val_bin), bt_bin.no_interaction) #rf_orig.predict(X_val), bt_bin.no_interaction)\n",
    "ftd_orig.fit(X_train_orig, rf_orig.predict(X_train_orig))\n",
    "ftd_bit.fit(X_train_bit, rf_bit.predict(X_train_bit)) #rf_orig.predict(X_val))\n",
    "ftd_bin.fit(X_train_bin, rf_bin.predict(X_train_bin), bt_bin.no_interaction) #rf_orig.predict(X_val), bt_bin.no_interaction)"
   ]
  },
  {
   "cell_type": "code",
   "execution_count": null,
   "id": "efc17915-138e-4021-b068-f1f59779b5da",
   "metadata": {},
   "outputs": [],
   "source": [
    "sum(ftd_orig.regression_model.coef_ != 0), sum(ftd_bit.regression_model.coef_ != 0), sum(ftd_bin.regression_model.coef_ != 0)"
   ]
  },
  {
   "cell_type": "code",
   "execution_count": null,
   "id": "83e74306-ef5a-4b8b-b728-1dd46c9d2282",
   "metadata": {},
   "outputs": [],
   "source": [
    "print(f'[orig FTD, true y] train MSE: {mean_squared_error(ftd_orig.predict(X_train_orig),y_train)}, val MSE: {mean_squared_error(ftd_orig.predict(X_val_orig),y_val)}, test MSE: {mean_squared_error(ftd_orig.predict(X_test_orig),y_test)}')\n",
    "print(f'[orig FTD, RF y] train MSE: {mean_squared_error(ftd_orig.predict(X_train_orig),rf_orig.predict(X_train_orig))}, val MSE: {mean_squared_error(ftd_orig.predict(X_val_orig),rf_orig.predict(X_val_orig))}, test MSE: {mean_squared_error(ftd_orig.predict(X_test_orig),rf_orig.predict(X_test_orig))}')\n",
    "print(f'[bit FTD, true y] train MSE: {mean_squared_error(ftd_bit.predict(X_train_bit),y_train)}, val MSE: {mean_squared_error(ftd_bit.predict(X_val_bit),y_val)}, test MSE: {mean_squared_error(ftd_bit.predict(X_test_bit),y_test)}')\n",
    "print(f'[bit FTD, RF y] train MSE: {mean_squared_error(ftd_bit.predict(X_train_bit),rf_bit.predict(X_train_bit))}, val MSE: {mean_squared_error(ftd_bit.predict(X_val_bit),rf_bit.predict(X_val_bit))}, test MSE: {mean_squared_error(ftd_bit.predict(X_test_bit),rf_bit.predict(X_test_bit))}')\n",
    "print(f'[bin FTD, true y] train MSE: {mean_squared_error(ftd_bin.predict(X_train_bin),y_train)}, val MSE: {mean_squared_error(ftd_bin.predict(X_val_bin),y_val)}, test MSE: {mean_squared_error(ftd_bin.predict(X_test_bin),y_test)}')\n",
    "print(f'[bin FTD, RF y] train MSE: {mean_squared_error(ftd_bin.predict(X_train_bin),rf_bin.predict(X_train_bin))}, val MSE: {mean_squared_error(ftd_bin.predict(X_val_bin),rf_bin.predict(X_val_bin))}, test MSE: {mean_squared_error(ftd_bin.predict(X_test_bin),rf_bin.predict(X_test_bin))}')"
   ]
  },
  {
   "cell_type": "code",
   "execution_count": null,
   "id": "7869d20a-1693-426e-81bb-727aca251901",
   "metadata": {},
   "outputs": [],
   "source": [
    "print(f'[orig FTD, true y] train R2: {r2_score(ftd_orig.predict(X_train_orig),y_train)}, val R2: {r2_score(ftd_orig.predict(X_val_orig),y_val)}, test R2: {r2_score(ftd_orig.predict(X_test_orig),y_test)}')\n",
    "print(f'[orig FTD, RF y] train R2: {r2_score(ftd_orig.predict(X_train_orig),rf_orig.predict(X_train_orig))}, val R2: {r2_score(ftd_orig.predict(X_val_orig),rf_orig.predict(X_val_orig))}, test R2: {r2_score(ftd_orig.predict(X_test_orig),rf_orig.predict(X_test_orig))}')\n",
    "print(f'[bit RF, true y] train R2: {r2_score(ftd_bit.predict(X_train_bit),y_train)}, val R2: {r2_score(ftd_bit.predict(X_val_bit),y_val)}, test R2: {r2_score(ftd_bit.predict(X_test_bit),y_test)}')\n",
    "print(f'[bit RF, RF y] train R2: {r2_score(ftd_bit.predict(X_train_bit),rf_bit.predict(X_train_bit))}, val R2: {r2_score(ftd_bit.predict(X_val_bit),rf_bit.predict(X_val_bit))}, test R2: {r2_score(ftd_bit.predict(X_test_bit),rf_bit.predict(X_test_bit))}')\n",
    "print(f'[bin RF, true y] train R2: {r2_score(ftd_bin.predict(X_train_bin),y_train)}, val R2: {r2_score(ftd_bin.predict(X_val_bin),y_val)}, test R2: {r2_score(ftd_bin.predict(X_test_bin),y_test)}')\n",
    "print(f'[bin RF, RF y] train R2: {r2_score(ftd_bin.predict(X_train_bin),rf_bin.predict(X_train_bin))}, val R2: {r2_score(ftd_bin.predict(X_val_bin),rf_bin.predict(X_val_bin))}, test R2: {r2_score(ftd_bin.predict(X_test_bin),rf_bin.predict(X_test_bin))}')"
   ]
  },
  {
   "cell_type": "code",
   "execution_count": null,
   "id": "70e5a94b-fc77-4528-81b3-062af2d5c571",
   "metadata": {},
   "outputs": [],
   "source": [
    "# print(f'[bit RF, true y] train R2: {r2_score(ftd_bit.predict(X_train_bit),y_train)}, val R2: {r2_score(ftd_bit.predict(X_val_bit),y_val)}, test R2: {r2_score(ftd_bit.predict(X_test_bit),y_test)}')\n",
    "# print(f'[bit RF, RF y] train R2: {r2_score(ftd_bit.predict(X_train_bit),rf_orig.predict(X_train))}, val R2: {r2_score(ftd_bit.predict(X_val_bit),rf_orig.predict(X_val))}, test R2: {r2_score(ftd_bit.predict(X_test_bit),rf_orig.predict(X_test))}')\n",
    "# print(f'[bin RF, true y] train R2: {r2_score(ftd_bin.predict(X_train_bin),y_train)}, val R2: {r2_score(ftd_bin.predict(X_val_bin),y_val)}, test R2: {r2_score(ftd_bin.predict(X_test_bin),y_test)}')\n",
    "# print(f'[bin RF, RF y] train R2: {r2_score(ftd_bin.predict(X_train_bin),rf_orig.predict(X_train))}, val R2: {r2_score(ftd_bin.predict(X_val_bin),rf_orig.predict(X_val))}, test R2: {r2_score(ftd_bin.predict(X_test_bin),rf_orig.predict(X_test))}')"
   ]
  },
  {
   "cell_type": "code",
   "execution_count": null,
   "id": "dc760cdf-7ea1-4bb8-b858-43733c55366a",
   "metadata": {},
   "outputs": [],
   "source": [
    "from itertools import compress"
   ]
  },
  {
   "cell_type": "code",
   "execution_count": null,
   "id": "a4ab75ed-d2b2-44d7-bd58-a258afddc36b",
   "metadata": {},
   "outputs": [],
   "source": [
    "sorted([i for i in zip(list(compress(ftd_orig.features, ftd_orig.regression_model.coef_ != 0)), list(compress(ftd_orig.regression_model.coef_, ftd_orig.regression_model.coef_ != 0)))], key = lambda x: abs(x[1]))[-3:]"
   ]
  },
  {
   "cell_type": "code",
   "execution_count": null,
   "id": "9bf661a9-2b63-4938-afa8-d43d3d1e0396",
   "metadata": {},
   "outputs": [],
   "source": [
    "sorted([i for i in zip(list(compress(ftd_bit.features, ftd_bit.regression_model.coef_ != 0)), list(compress(ftd_bit.regression_model.coef_, ftd_bit.regression_model.coef_ != 0)))], key = lambda x: abs(x[1]))[-3:]"
   ]
  },
  {
   "cell_type": "code",
   "execution_count": null,
   "id": "98f4e504-3fa6-4047-890b-ecb34d88a5f3",
   "metadata": {},
   "outputs": [],
   "source": [
    "sorted([i for i in zip(list(compress(ftd_bin.features, ftd_bin.regression_model.coef_ != 0)), list(compress(ftd_bin.regression_model.coef_, ftd_bin.regression_model.coef_ != 0)))], key = lambda x: abs(x[1]))[-3:]"
   ]
  }
 ],
 "metadata": {
  "kernelspec": {
   "display_name": "Python 3 (ipykernel)",
   "language": "python",
   "name": "python3"
  },
  "language_info": {
   "codemirror_mode": {
    "name": "ipython",
    "version": 3
   },
   "file_extension": ".py",
   "mimetype": "text/x-python",
   "name": "python",
   "nbconvert_exporter": "python",
   "pygments_lexer": "ipython3",
   "version": "3.9.12"
  }
 },
 "nbformat": 4,
 "nbformat_minor": 5
}

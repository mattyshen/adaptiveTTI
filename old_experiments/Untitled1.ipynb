{
 "cells": [
  {
   "cell_type": "code",
   "execution_count": null,
   "id": "0e1e3c96-26d8-4685-ac1b-d1774c11e844",
   "metadata": {},
   "outputs": [],
   "source": [
    "import pandas as pd\n",
    "import numpy as np\n",
    "import sys\n",
    "\n",
    "sys.path.append('..')\n",
    "\n",
    "from interpretDistill.fourierDistill import *\n",
    "from interpretDistill.binaryTransformer import *\n",
    "\n",
    "def process_csv(df):\n",
    "    y_true = df['y_true']\n",
    "    y_hat = df['y_hat']\n",
    "    X = df.drop(columns = ['id', 'y_true', 'y_hat'])\n",
    "    return X, y_true, y_hat"
   ]
  },
  {
   "cell_type": "code",
   "execution_count": null,
   "id": "34cf382b-f20d-4520-a82e-673f9a1413d1",
   "metadata": {},
   "outputs": [],
   "source": [
    "t = [[],[], []]\n",
    "for i in range(3):\n",
    "    for j in range(3, 6):\n",
    "        t[i].append(j*i)\n",
    "    if sum(t[i]) ==12:\n",
    "        print('wahoo')\n",
    "        break"
   ]
  },
  {
   "cell_type": "code",
   "execution_count": null,
   "id": "40a5f018-3cd1-46f0-b145-cdc8ec7381d0",
   "metadata": {},
   "outputs": [],
   "source": [
    "[-1 if x.size ==() 0 else x for x in [2, 4, [], 2, [], [], 4]]"
   ]
  },
  {
   "cell_type": "code",
   "execution_count": null,
   "id": "1eb209cc-9929-47a1-8d52-8673d735b24a",
   "metadata": {},
   "outputs": [],
   "source": [
    "Xy_concept_train = pd.read_csv('data/Xy_concept_train.csv', index_col = [0])\n",
    "Xy_concept_val = pd.read_csv('data/Xy_concept_val.csv', index_col = [0])\n",
    "Xy_concept_test = pd.read_csv('data/Xy_concept_test.csv', index_col = [0])\n",
    "X_concept_train, y_concept_train_true, y_concept_train_hat = process_csv(Xy_concept_train)\n",
    "X_concept_val, y_concept_val_true, y_concept_val_hat = process_csv(Xy_concept_val)\n",
    "X_concept_test, y_concept_test_true, y_concept_test_hat = process_csv(Xy_concept_test)"
   ]
  },
  {
   "cell_type": "code",
   "execution_count": null,
   "id": "391fbcea-f3d2-4833-8aeb-df5cff2880c7",
   "metadata": {},
   "outputs": [],
   "source": [
    "ftd_bo_train = FTDistillClassifierCV(size_interactions=2, k_cv = 2)\n",
    "ftd_bo_val = FTDistillClassifierCV(size_interactions=2, k_cv = 2)\n",
    "ftd_bo_tv = FTDistillClassifierCV(size_interactions=2, k_cv = 2)"
   ]
  },
  {
   "cell_type": "code",
   "execution_count": null,
   "id": "2304a704-89f8-41f5-8274-3684633a9e04",
   "metadata": {},
   "outputs": [],
   "source": [
    "train_time = []\n",
    "\n",
    "start = time.time()\n",
    "ftd_bo_train.fit(X_concept_train, y_concept_train_hat)\n",
    "end = time.time()\n",
    "train_time.append(end-start)\n",
    "print('bo_train concluded')\n",
    "start = time.time()\n",
    "ftd_bo_val.fit(X_concept_val, y_concept_val_hat)\n",
    "end = time.time()\n",
    "train_time.append(end-start)\n",
    "print('bo_val concluded')\n",
    "start = time.time()\n",
    "ftd_bo_tv.fit(pd.concat([X_concept_train, X_concept_val], axis = 0), pd.concat([y_concept_train_hat, y_concept_val_hat], axis = 0))\n",
    "end = time.time()\n",
    "train_time.append(end-start)\n",
    "print('bo_tv concluded')"
   ]
  },
  {
   "cell_type": "code",
   "execution_count": null,
   "id": "376d361d-3f78-4673-888a-c7e685b7db59",
   "metadata": {},
   "outputs": [],
   "source": [
    "ftd_list = [ftd_bo_train, ftd_bo_val, ftd_bo_tv]\n",
    "ftd_names = ['(concept, resnet, train)', '(concept, resnet, val)','(concept, resnet, tv)']"
   ]
  },
  {
   "cell_type": "code",
   "execution_count": null,
   "id": "98b79091-589e-4025-a656-63781a233527",
   "metadata": {},
   "outputs": [],
   "source": [
    "def scoring_df_maker(model_list, model_names, Xy, y_truth):\n",
    "    df = pd.DataFrame(columns = ['Train Acc', 'Val Acc', 'Test Acc'])\n",
    "    df['Model'] = model_names\n",
    "    \n",
    "    for xy, j in zip(Xy, df.columns):\n",
    "        df[j] = [np.mean(m.predict(xy[0]) == xy[1]) for m in model_list]\n",
    "        \n",
    "    df['Train Time'] = train_time\n",
    "\n",
    "    #[ftd_bo_train, ftd_bb_train, ftd_bo_val, ftd_bb_val, ftd_bo_tv, ftd_bb_tv]\n",
    "    df['Total Num Features'] = [len(m.regression_model.coef_) for m in model_list]\n",
    "    df['Num Selected Features'] = [sum(m.regression_model.coef_ != 0) for m in model_list]\n",
    "    \n",
    "    df.loc[len(df)] = ['ResNet18 CUB']+[np.mean(xy[1] == yt) for xy, yt in zip(Xy, y_truth)]+[-1, -1, -1]\n",
    "    \n",
    "    return df"
   ]
  },
  {
   "cell_type": "code",
   "execution_count": null,
   "id": "2a560417-cde9-4a1b-8aaa-e6bbaf5089c9",
   "metadata": {},
   "outputs": [],
   "source": [
    "Xy_true = [(X_concept_train, y_concept_train_true), (X_concept_val, y_concept_val_true), (X_concept_test, y_concept_test_true)]\n",
    "Xy_hat = [(X_concept_train, y_concept_train_hat), (X_concept_val, y_concept_val_hat), (X_concept_test, y_concept_test_hat)]\n",
    "y_truth = [y_concept_train_true, y_concept_val_true, y_concept_test_true]"
   ]
  },
  {
   "cell_type": "code",
   "execution_count": null,
   "id": "08b9df4a-078a-4629-82cd-7b8075a2087e",
   "metadata": {},
   "outputs": [],
   "source": [
    "df_true = scoring_df_maker(ftd_list, ftd_names, Xy_true, y_truth)\n",
    "df_hat = scoring_df_maker(ftd_list, ftd_names, Xy_hat, y_truth)"
   ]
  },
  {
   "cell_type": "code",
   "execution_count": null,
   "id": "3ca6a7ab-af0c-43cc-84f6-d65e42314c6a",
   "metadata": {},
   "outputs": [],
   "source": [
    "df_true.csv('CUB_concept_acc_true.csv')\n",
    "df_hat.csv('CUB_concept_acc_hat.csv')"
   ]
  }
 ],
 "metadata": {
  "kernelspec": {
   "display_name": "Python 3 (ipykernel)",
   "language": "python",
   "name": "python3"
  },
  "language_info": {
   "codemirror_mode": {
    "name": "ipython",
    "version": 3
   },
   "file_extension": ".py",
   "mimetype": "text/x-python",
   "name": "python",
   "nbconvert_exporter": "python",
   "pygments_lexer": "ipython3",
   "version": "3.9.12"
  }
 },
 "nbformat": 4,
 "nbformat_minor": 5
}

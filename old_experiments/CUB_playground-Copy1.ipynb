{
 "cells": [
  {
   "cell_type": "code",
   "execution_count": null,
   "id": "036921ce-86ac-4059-9b64-711ac74e1854",
   "metadata": {},
   "outputs": [],
   "source": [
    "import pandas as pd\n",
    "import numpy as np\n",
    "import pickle"
   ]
  },
  {
   "cell_type": "code",
   "execution_count": null,
   "id": "1075a189-8f75-4cba-b1cb-75f2c04cdce4",
   "metadata": {},
   "outputs": [],
   "source": [
    "with open('data/CUB_concept.pkl', 'rb') as f:\n",
    "    concept_dict = pickle.load(f)\n",
    "    \n",
    "with open('data/CUB_concept_proj.pkl', 'rb') as f:\n",
    "    projection_dict = pickle.load(f)"
   ]
  },
  {
   "cell_type": "code",
   "execution_count": null,
   "id": "ef3b7768-7017-4f9c-be40-a9361b7a8064",
   "metadata": {},
   "outputs": [],
   "source": [
    "for s in ['train','val', 'test']:\n",
    "    Xy = pd.DataFrame(concept_dict[s]['X'], columns = ['id'] + concept_dict['features'])\n",
    "    Xy['y_true'] = concept_dict[s]['y_true']\n",
    "    Xy['y_hat'] = concept_dict[s]['y_hat']\n",
    "    Xy.to_csv(f'data/Xy_concept_{s}.csv')\n",
    "    print(np.mean(Xy['y_true'] == Xy['y_hat']))"
   ]
  },
  {
   "cell_type": "code",
   "execution_count": null,
   "id": "d07c26b8-65d4-4ed5-a8da-597f97577c4f",
   "metadata": {},
   "outputs": [],
   "source": [
    "for s in ['train','val', 'test']:\n",
    "    #X = temp = pd.DataFrame(np.hstack((np.array(projection_dict['train']['ids']).astype(int).reshape(-1, 1), np.array(projection_dict['train']['X_Cproj'])))) #.shape #.keys()\n",
    "    Xy = pd.DataFrame(np.hstack((np.array(projection_dict[s]['ids']).astype(int).reshape(-1, 1), np.array(projection_dict[s]['X_Cproj']))), columns = ['id'] + concept_dict['features'])\n",
    "    Xy['y_true'] = projection_dict[s]['y_true']\n",
    "    Xy['y_hat'] = projection_dict[s]['y_hat']\n",
    "    Xy.to_csv(f'data/Xy_proj_{s}.csv')\n",
    "    print(np.mean(Xy['y_true'] == Xy['y_hat']))"
   ]
  },
  {
   "cell_type": "code",
   "execution_count": null,
   "id": "9af6072d-33ab-4bb6-8f9a-82e4e7501d75",
   "metadata": {},
   "outputs": [],
   "source": [
    "for s in ['train','val', 'test']:\n",
    "    print(np.mean(projection_dict[s]['y_true'] == concept_dict[s]['y_true']))\n",
    "    print(np.mean(projection_dict[s]['y_hat'] == concept_dict[s]['y_hat']))"
   ]
  },
  {
   "cell_type": "code",
   "execution_count": null,
   "id": "21e2aeb5-c7da-4842-acdc-60e597ffc574",
   "metadata": {},
   "outputs": [],
   "source": []
  }
 ],
 "metadata": {
  "kernelspec": {
   "display_name": "Python 3 (ipykernel)",
   "language": "python",
   "name": "python3"
  },
  "language_info": {
   "codemirror_mode": {
    "name": "ipython",
    "version": 3
   },
   "file_extension": ".py",
   "mimetype": "text/x-python",
   "name": "python",
   "nbconvert_exporter": "python",
   "pygments_lexer": "ipython3",
   "version": "3.9.12"
  }
 },
 "nbformat": 4,
 "nbformat_minor": 5
}

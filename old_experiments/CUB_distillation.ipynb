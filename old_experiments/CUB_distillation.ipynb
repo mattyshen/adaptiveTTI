{
 "cells": [
  {
   "cell_type": "code",
   "execution_count": null,
   "id": "81353739-50b2-4f62-a73a-5a86b2f4bf7d",
   "metadata": {},
   "outputs": [],
   "source": [
    "import pandas as pd\n",
    "import numpy as np\n",
    "import sys\n",
    "\n",
    "sys.path.append('..')\n",
    "\n",
    "from interpretDistill.fourierDistill import *\n",
    "from interpretDistill.binaryTransformer import *"
   ]
  },
  {
   "cell_type": "code",
   "execution_count": null,
   "id": "afac332e-5322-4238-863f-89a70e2ad5f0",
   "metadata": {},
   "outputs": [],
   "source": [
    "def process_csv(df):\n",
    "    y_true = df['y_true']\n",
    "    y_hat = df['y_hat']\n",
    "    X = df.drop(columns = ['id', 'y_true', 'y_hat'])\n",
    "    return X, y_true, y_hat"
   ]
  },
  {
   "cell_type": "code",
   "execution_count": null,
   "id": "6f6e68f9-7a7d-48de-998e-199a27fe74bd",
   "metadata": {},
   "outputs": [],
   "source": [
    "Xy_concept_train = pd.read_csv('data/Xy_concept_train.csv', index_col = [0])\n",
    "X_concept_train, y_concept_train_true, y_concept_train_hat = process_csv(Xy_concept_train)"
   ]
  },
  {
   "cell_type": "code",
   "execution_count": null,
   "id": "70c22f26-42c5-4011-a8dc-16226524939b",
   "metadata": {},
   "outputs": [],
   "source": [
    "ftd = FTDistillClassifierCV(size_interactions=2)"
   ]
  },
  {
   "cell_type": "code",
   "execution_count": null,
   "id": "08927d9c-d237-4df3-8019-51041677112e",
   "metadata": {},
   "outputs": [],
   "source": [
    "ftd.fit(X_concept_train, y_concept_train_hat)"
   ]
  },
  {
   "cell_type": "code",
   "execution_count": null,
   "id": "b59e8126-934a-4ba2-82c8-aabf221ebeda",
   "metadata": {},
   "outputs": [],
   "source": [
    "ftd.scores_"
   ]
  },
  {
   "cell_type": "code",
   "execution_count": null,
   "id": "baabc214-20f7-496b-8024-13d0475c47c6",
   "metadata": {},
   "outputs": [],
   "source": [
    "from sklearn.preprocessing import PolynomialFeatures\n",
    "poly = PolynomialFeatures(degree = 2, interaction_only = True)\n"
   ]
  },
  {
   "cell_type": "code",
   "execution_count": null,
   "id": "e04b768e-d87d-4043-8f92-acdf26083c4e",
   "metadata": {},
   "outputs": [],
   "source": [
    "poly.fit(X_concept_train)"
   ]
  },
  {
   "cell_type": "code",
   "execution_count": null,
   "id": "aad9743d-01fb-450f-a839-3235f18ff3ae",
   "metadata": {},
   "outputs": [],
   "source": [
    "poly_features = list(map(lambda s: set(s.split()), poly.get_feature_names_out(X_concept_train.columns)))"
   ]
  },
  {
   "cell_type": "code",
   "execution_count": null,
   "id": "cd3c3fb7-5cd4-4d91-9e3e-88b72768db4d",
   "metadata": {},
   "outputs": [],
   "source": [
    "poly.transform(X_concept_train).shape"
   ]
  },
  {
   "cell_type": "code",
   "execution_count": null,
   "id": "99b4743c-4d1d-4eab-9367-dc1ced988771",
   "metadata": {},
   "outputs": [],
   "source": [
    "Chi = pd.DataFrame(poly.transform(X_concept_train), columns = list(map(lambda f: tuple(f), poly_features)))"
   ]
  },
  {
   "cell_type": "code",
   "execution_count": null,
   "id": "20ed5b76-6cff-4c44-a58a-7b4a846d3e93",
   "metadata": {},
   "outputs": [],
   "source": [
    "y = y_concept_train_hat"
   ]
  },
  {
   "cell_type": "code",
   "execution_count": null,
   "id": "475ad8fd-b793-4c7b-81b1-bfea21648386",
   "metadata": {},
   "outputs": [],
   "source": []
  }
 ],
 "metadata": {
  "kernelspec": {
   "display_name": "Python 3 (ipykernel)",
   "language": "python",
   "name": "python3"
  },
  "language_info": {
   "codemirror_mode": {
    "name": "ipython",
    "version": 3
   },
   "file_extension": ".py",
   "mimetype": "text/x-python",
   "name": "python",
   "nbconvert_exporter": "python",
   "pygments_lexer": "ipython3",
   "version": "3.9.12"
  }
 },
 "nbformat": 4,
 "nbformat_minor": 5
}

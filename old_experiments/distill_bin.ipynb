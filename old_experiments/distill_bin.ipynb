{
 "cells": [
  {
   "cell_type": "code",
   "execution_count": 1,
   "id": "14a409d1-552d-429e-92a5-ec9f7bc4a7e8",
   "metadata": {},
   "outputs": [],
   "source": [
    "# ruff: noqa: E402\n",
    "import math\n",
    "import warnings\n",
    "from typing import Dict, Literal\n",
    "\n",
    "warnings.simplefilter(\"ignore\")\n",
    "import delu  # Deep Learning Utilities: https://github.com/Yura52/delu\n",
    "import numpy as np\n",
    "import scipy.special\n",
    "import sklearn.datasets\n",
    "import sklearn.metrics\n",
    "import sklearn.model_selection\n",
    "import sklearn.preprocessing\n",
    "import torch\n",
    "import torch.nn.functional as F\n",
    "import torch.optim\n",
    "from torch import Tensor\n",
    "from tqdm.std import tqdm\n",
    "import json\n",
    "import sys\n",
    "\n",
    "warnings.resetwarnings()\n",
    "\n",
    "from rtdl_revisiting_models import MLP, ResNet, FTTransformer\n",
    "\n",
    "sys.path.append('..')\n",
    "\n",
    "from interpretDistill.fourierDistill import *\n",
    "from interpretDistill.binaryTransformer import *"
   ]
  },
  {
   "cell_type": "code",
   "execution_count": 2,
   "id": "4ec547f6-9348-4ebc-8c63-d0a251bb7362",
   "metadata": {},
   "outputs": [
    {
     "data": {
      "text/plain": [
       "0"
      ]
     },
     "execution_count": 2,
     "metadata": {},
     "output_type": "execute_result"
    }
   ],
   "source": [
    "device = torch.device(\"cuda:0\" if torch.cuda.is_available() else \"cpu\")\n",
    "# Set random seeds in all libraries.\n",
    "delu.random.seed(0)"
   ]
  },
  {
   "cell_type": "code",
   "execution_count": 3,
   "id": "56bf4a87-c465-4fa1-943e-ef33b1f9653a",
   "metadata": {},
   "outputs": [
    {
     "name": "stdout",
     "output_type": "stream",
     "text": [
      "[2, 2, 2, 2, 2, 2, 2, 2, 2, 2, 2, 2, 2, 2, 2, 2, 2, 2, 2, 2, 2, 2, 2, 2, 2, 2, 2, 2, 2, 2, 2, 2, 2, 2, 2, 2, 2, 2, 2, 2, 2, 2, 2, 2, 2, 2, 2, 2, 2, 2, 2, 2, 2, 2, 2, 2, 2, 2, 2, 2, 2]\n"
     ]
    }
   ],
   "source": [
    "# >>> Dataset.\n",
    "TaskType = Literal[\"regression\", \"binclass\", \"multiclass\"]\n",
    "\n",
    "task_type: TaskType = \"regression\"\n",
    "n_classes = None\n",
    "dataset = sklearn.datasets.fetch_california_housing(as_frame = True)\n",
    "X: np.ndarray = dataset[\"data\"]\n",
    "Y: np.ndarray = dataset[\"target\"]\n",
    "\n",
    "all_idx = np.arange(len(Y))\n",
    "trainval_idx, test_idx = sklearn.model_selection.train_test_split(\n",
    "    all_idx, train_size=0.8, random_state = 0\n",
    ")\n",
    "train_idx, val_idx = sklearn.model_selection.train_test_split(\n",
    "    trainval_idx, train_size=0.8, random_state = 0\n",
    ")\n",
    "\n",
    "X_b = {}\n",
    "bt = BinaryTransformer(depth = 3, bit = False)\n",
    "X_b['train'] = bt.fit_and_transform(X.loc[train_idx, :], Y.loc[train_idx])\n",
    "X_b['val'] = bt.transform(X.loc[val_idx, :])\n",
    "X_b['test'] = bt.transform(X.loc[test_idx, :])\n",
    "\n",
    "\n",
    "# >>> Continuous features.\n",
    "#X_cont: np.ndarray = X[['carat', 'depth', 'table', 'x', 'y', 'z']].to_numpy().astype(np.float32)\n",
    "n_cont_features = 0\n",
    "\n",
    "# >>> Categorical features.\n",
    "# NOTE: the above datasets do not have categorical features, but,\n",
    "# for the demonstration purposes, it is possible to generate them.\n",
    "\n",
    "cat_cardinalities = [len(X_b['train'][c].value_counts()) for c in X_b['train'].columns]\n",
    "print(cat_cardinalities)\n",
    "\n",
    "\n",
    "for k in X_b.keys():\n",
    "    X_b[k] = (X_b[k] + 1) // 2\n",
    "\n",
    "# >>> Labels.\n",
    "# Regression labels must be represented by float32.\n",
    "\n",
    "Y = Y.to_numpy()\n",
    "if task_type == \"regression\":\n",
    "    Y = Y.astype(np.float32)\n",
    "else:\n",
    "    assert n_classes is not None\n",
    "    Y = Y.astype(np.int64)\n",
    "    assert set(Y.tolist()) == set(\n",
    "        range(n_classes)\n",
    "    ), \"Classification labels must form the range [0, 1, ..., n_classes - 1]\"\n",
    "\n",
    "data_numpy = {\n",
    "    \"train\": {\"x_cat\": X_b['train'].to_numpy().astype(np.int64), \"y\": Y[train_idx]},\n",
    "    \"val\": {\"x_cat\": X_b['val'].to_numpy().astype(np.int64), \"y\": Y[val_idx]},\n",
    "    \"test\": {\"x_cat\": X_b['test'].to_numpy().astype(np.int64), \"y\": Y[test_idx]},\n",
    "}"
   ]
  },
  {
   "cell_type": "code",
   "execution_count": 4,
   "id": "15369355-e975-43f7-ae03-66a35467f14a",
   "metadata": {},
   "outputs": [],
   "source": [
    "if task_type == \"regression\":\n",
    "    Y_mean = data_numpy[\"train\"][\"y\"].mean().item()\n",
    "    Y_std = data_numpy[\"train\"][\"y\"].std().item()\n",
    "    for part in data_numpy:\n",
    "        data_numpy[part][\"y\"] = (data_numpy[part][\"y\"] - Y_mean) / Y_std\n",
    "\n",
    "# >>> Convert data to tensors.\n",
    "data = {\n",
    "    part: {'y': torch.as_tensor(data_numpy[part]['y'], device=device)}\n",
    "    for part in data_numpy\n",
    "}\n",
    "\n",
    "if True:\n",
    "    data[\"train\"][\"x_cat\"] = torch.from_numpy(data_numpy[\"train\"][\"x_cat\"]).to(torch.int64).to(device)\n",
    "    data[\"val\"][\"x_cat\"] = torch.from_numpy(data_numpy[\"val\"][\"x_cat\"]).to(torch.int64).to(device)\n",
    "    data[\"test\"][\"x_cat\"] = torch.from_numpy(data_numpy[\"test\"][\"x_cat\"]).to(torch.int64).to(device)\n",
    "\n",
    "if task_type != \"multiclass\":\n",
    "    # Required by F.binary_cross_entropy_with_logits\n",
    "    for part in data:\n",
    "        data[part][\"y\"] = data[part][\"y\"].float()"
   ]
  },
  {
   "cell_type": "code",
   "execution_count": 5,
   "id": "17dbadf8-d789-4293-81b5-c75448ba6f11",
   "metadata": {},
   "outputs": [],
   "source": [
    "with open('predictions/ftt_bin_depth3_preds.json') as json_file:\n",
    "    bin_preds = json.load(json_file)\n",
    "\n",
    "with open('predictions/ftt_orig_preds.json') as json_file:\n",
    "    orig_preds = json.load(json_file)"
   ]
  },
  {
   "cell_type": "code",
   "execution_count": 6,
   "id": "b627665e-b753-4128-8fac-d393dccd28e9",
   "metadata": {},
   "outputs": [],
   "source": [
    "for s in bin_preds.keys():\n",
    "    for pt in bin_preds[s].keys():\n",
    "        bin_preds[s][pt] = np.array(bin_preds[s][pt])"
   ]
  },
  {
   "cell_type": "code",
   "execution_count": 7,
   "id": "300acbe7-3dfd-4274-990a-ecaff05a6e45",
   "metadata": {},
   "outputs": [],
   "source": [
    "for s in orig_preds.keys():\n",
    "    for pt in orig_preds[s].keys():\n",
    "        orig_preds[s][pt] = np.array(orig_preds[s][pt])"
   ]
  },
  {
   "cell_type": "code",
   "execution_count": 8,
   "id": "33cb70c1-58ac-432d-89b8-2c711007cd03",
   "metadata": {},
   "outputs": [],
   "source": [
    "def dict_to_series(preds):\n",
    "    ret = []\n",
    "    for i in ['train', 'val', 'test']:\n",
    "        ret.append(pd.Series(preds[i]['y_hat'], name = 'MedHouseVal'))\n",
    "    return tuple(ret)"
   ]
  },
  {
   "cell_type": "code",
   "execution_count": 9,
   "id": "70df85b7-952e-482b-8b9b-fe57979d64f4",
   "metadata": {},
   "outputs": [],
   "source": [
    "y_train_bin, y_val_bin, y_test_bin = dict_to_series(bin_preds)"
   ]
  },
  {
   "cell_type": "code",
   "execution_count": 10,
   "id": "7762f697-7198-4ca8-9056-645665204d0a",
   "metadata": {},
   "outputs": [],
   "source": [
    "y_train_orig, y_val_orig, y_test_orig = dict_to_series(orig_preds)"
   ]
  },
  {
   "cell_type": "code",
   "execution_count": 11,
   "id": "89882e9d-aa5f-4757-b917-8e7c671536f3",
   "metadata": {},
   "outputs": [],
   "source": [
    "#train: (bin, bin) + (bin, orig)\n",
    "#val: (bin, bin) + (bin, orig)\n",
    "#train val: (bin, bin) + (bin, orig)"
   ]
  },
  {
   "cell_type": "code",
   "execution_count": 12,
   "id": "4622944b-8c13-4a53-9a12-78f2298bafa7",
   "metadata": {},
   "outputs": [],
   "source": [
    "n_inter = 3\n",
    "k_cv = 2"
   ]
  },
  {
   "cell_type": "code",
   "execution_count": 13,
   "id": "47f6d5cb-4280-4149-8c94-a961f6c38d1d",
   "metadata": {},
   "outputs": [],
   "source": [
    "ftd_bo_train = FTDistillCV(size_interactions = n_inter, k_cv = k_cv)\n",
    "ftd_bb_train = FTDistillCV(size_interactions = n_inter, k_cv = k_cv)\n",
    "ftd_bo_val = FTDistillCV(size_interactions = n_inter, k_cv = k_cv)\n",
    "ftd_bb_val = FTDistillCV(size_interactions = n_inter , k_cv = k_cv)\n",
    "ftd_bo_tv = FTDistillCV(size_interactions = n_inter, k_cv = k_cv)\n",
    "ftd_bb_tv = FTDistillCV(size_interactions = n_inter, k_cv = k_cv)"
   ]
  },
  {
   "cell_type": "code",
   "execution_count": 14,
   "id": "7d50f397-dcf7-49cd-aa4e-4e93ef03ea16",
   "metadata": {},
   "outputs": [
    {
     "name": "stderr",
     "output_type": "stream",
     "text": [
      "/home/mattyshen/anaconda3/lib/python3.9/site-packages/celer/homotopy.py:324: ConvergenceWarning: Inner solver did not converge at epoch: 999, gap: 5.26e-02 > 5.18e-02\n",
      "  sol = celer(\n",
      "/home/mattyshen/anaconda3/lib/python3.9/site-packages/celer/homotopy.py:324: ConvergenceWarning: Inner solver did not converge at epoch: 999, gap: 2.91e-02 > 2.66e-02\n",
      "  sol = celer(\n",
      "/home/mattyshen/anaconda3/lib/python3.9/site-packages/celer/homotopy.py:324: ConvergenceWarning: Inner solver did not converge at epoch: 999, gap: 2.95e-02 > 2.31e-02\n",
      "  sol = celer(\n"
     ]
    },
    {
     "name": "stdout",
     "output_type": "stream",
     "text": [
      "bo_train concluded\n"
     ]
    },
    {
     "name": "stderr",
     "output_type": "stream",
     "text": [
      "/home/mattyshen/anaconda3/lib/python3.9/site-packages/celer/homotopy.py:324: ConvergenceWarning: Inner solver did not converge at epoch: 999, gap: 6.95e-03 > 5.42e-03\n",
      "  sol = celer(\n",
      "/home/mattyshen/anaconda3/lib/python3.9/site-packages/celer/homotopy.py:324: ConvergenceWarning: Inner solver did not converge at epoch: 999, gap: 5.21e-03 > 4.56e-03\n",
      "  sol = celer(\n",
      "/home/mattyshen/anaconda3/lib/python3.9/site-packages/celer/homotopy.py:324: ConvergenceWarning: Inner solver did not converge at epoch: 999, gap: 2.72e-03 > 2.70e-03\n",
      "  sol = celer(\n"
     ]
    },
    {
     "name": "stdout",
     "output_type": "stream",
     "text": [
      "bb_train concluded\n",
      "bo_val concluded\n"
     ]
    },
    {
     "name": "stderr",
     "output_type": "stream",
     "text": [
      "/home/mattyshen/anaconda3/lib/python3.9/site-packages/celer/homotopy.py:324: ConvergenceWarning: Inner solver did not converge at epoch: 999, gap: 4.65e-03 > 3.99e-03\n",
      "  sol = celer(\n"
     ]
    },
    {
     "name": "stdout",
     "output_type": "stream",
     "text": [
      "bb_val concluded\n",
      "bo_tv concluded\n"
     ]
    },
    {
     "name": "stderr",
     "output_type": "stream",
     "text": [
      "/home/mattyshen/anaconda3/lib/python3.9/site-packages/celer/homotopy.py:324: ConvergenceWarning: Inner solver did not converge at epoch: 999, gap: 6.74e-03 > 6.61e-03\n",
      "  sol = celer(\n"
     ]
    },
    {
     "name": "stdout",
     "output_type": "stream",
     "text": [
      "bb_tv concluded\n"
     ]
    },
    {
     "name": "stderr",
     "output_type": "stream",
     "text": [
      "/home/mattyshen/anaconda3/lib/python3.9/site-packages/celer/homotopy.py:324: ConvergenceWarning: Inner solver did not converge at epoch: 999, gap: 5.11e-03 > 3.06e-03\n",
      "  sol = celer(\n"
     ]
    }
   ],
   "source": [
    "ftd_bo_train.fit(X_b['train'], y_train_orig, bt.no_interaction)\n",
    "print('bo_train concluded')\n",
    "ftd_bb_train.fit(X_b['train'], y_train_bin, bt.no_interaction)\n",
    "print('bb_train concluded')\n",
    "ftd_bo_val.fit(X_b['val'], y_val_orig, bt.no_interaction)\n",
    "print('bo_val concluded')\n",
    "ftd_bb_val.fit(X_b['val'], y_val_bin, bt.no_interaction)\n",
    "print('bb_val concluded')\n",
    "ftd_bo_tv.fit(pd.concat([X_b['train'], X_b['val']], axis = 0), pd.concat([y_train_orig, y_val_orig], axis = 0), bt.no_interaction)\n",
    "print('bo_tv concluded')\n",
    "ftd_bb_tv.fit(pd.concat([X_b['train'], X_b['val']], axis = 0), pd.concat([y_train_bin, y_val_bin], axis = 0), bt.no_interaction)\n",
    "print('bb_tv concluded')"
   ]
  },
  {
   "cell_type": "code",
   "execution_count": 35,
   "id": "f973046d-1fa5-4bdc-a4ec-9ca765039b48",
   "metadata": {},
   "outputs": [
    {
     "data": {
      "text/plain": [
       "0.8612636716770935"
      ]
     },
     "execution_count": 35,
     "metadata": {},
     "output_type": "execute_result"
    }
   ],
   "source": [
    "from sklearn.metrics import mean_squared_error, r2_score\n",
    "\n",
    "r2_score(ftd_bo_tv.predict(X_b['val']), orig_preds['val']['y_hat'])"
   ]
  },
  {
   "cell_type": "code",
   "execution_count": 37,
   "id": "cb9c8905-5b16-40c1-afa7-c5b314802114",
   "metadata": {},
   "outputs": [],
   "source": [
    "ftd_list = [ftd_bo_train, ftd_bb_train, ftd_bo_val, ftd_bb_val, ftd_bo_tv, ftd_bb_tv]\n",
    "ftd_names = ['(bin, orig, train)', '(bin, bin, train)', '(bin, orig, val)', '(bin, bin, val)', '(bin, orig, train+val)', '(bin, bin, train+val)']"
   ]
  },
  {
   "cell_type": "code",
   "execution_count": 39,
   "id": "faebefdd-7c82-41ed-a346-0281e12894cf",
   "metadata": {},
   "outputs": [],
   "source": [
    "r2_true_df = pd.DataFrame(columns = ['Model', 'Train R2', 'Val R2', 'Test R2'])"
   ]
  },
  {
   "cell_type": "code",
   "execution_count": 40,
   "id": "8415943b-c279-48de-bc95-e02a73cfbf74",
   "metadata": {},
   "outputs": [
    {
     "name": "stderr",
     "output_type": "stream",
     "text": [
      "/home/mattyshen/anaconda3/lib/python3.9/site-packages/pandas/core/dtypes/cast.py:1841: DeprecationWarning: np.find_common_type is deprecated.  Please use `np.result_type` or `np.promote_types`.\n",
      "See https://numpy.org/devdocs/release/1.25.0-notes.html and the docs for more information.  (Deprecated NumPy 1.25)\n",
      "  return np.find_common_type(types, [])\n"
     ]
    }
   ],
   "source": [
    "for i, j in zip(['train', 'val', 'test'], ['Train R2', 'Val R2', 'Test R2']):\n",
    "    r2_true_df[j] = [r2_score(m.predict(X_b[i]), orig_preds[i]['y_true']) for m in ftd_list]"
   ]
  },
  {
   "cell_type": "code",
   "execution_count": 42,
   "id": "facaf4cc-9789-414e-8aa1-d33d34e8a7f7",
   "metadata": {},
   "outputs": [],
   "source": [
    "r2_true_df['Model'] = ftd_names"
   ]
  },
  {
   "cell_type": "code",
   "execution_count": 47,
   "id": "479dfbfa-dac1-46a0-99f1-3cced6216cd5",
   "metadata": {},
   "outputs": [],
   "source": [
    "r2_true_df.loc[len(r2_true_df)] = ['FTTransformer']+[r2_score(orig_preds[i]['y_hat'], orig_preds[i]['y_true']) for i in ['train', 'val', 'test']]"
   ]
  },
  {
   "cell_type": "code",
   "execution_count": 49,
   "id": "b228b7c4-c6e1-48fd-b1db-7e408e9c7170",
   "metadata": {},
   "outputs": [],
   "source": [
    "r2_true_df.to_csv('r2/bin_depth3_distillation_true_R2.csv')"
   ]
  },
  {
   "cell_type": "code",
   "execution_count": 50,
   "id": "b1a03c87-9e29-44b4-969d-81876646e9f6",
   "metadata": {},
   "outputs": [],
   "source": [
    "r2_hat_df = pd.DataFrame(columns = ['Model', 'Train R2', 'Val R2', 'Test R2'])"
   ]
  },
  {
   "cell_type": "code",
   "execution_count": 54,
   "id": "c1bbe631-8622-4b69-b08f-538f3d49afbb",
   "metadata": {},
   "outputs": [
    {
     "name": "stderr",
     "output_type": "stream",
     "text": [
      "/home/mattyshen/anaconda3/lib/python3.9/site-packages/pandas/core/dtypes/cast.py:1841: DeprecationWarning: np.find_common_type is deprecated.  Please use `np.result_type` or `np.promote_types`.\n",
      "See https://numpy.org/devdocs/release/1.25.0-notes.html and the docs for more information.  (Deprecated NumPy 1.25)\n",
      "  return np.find_common_type(types, [])\n"
     ]
    }
   ],
   "source": [
    "for i, j in zip(['train', 'val', 'test'], ['Train R2', 'Val R2', 'Test R2']):\n",
    "    r2_hat_df[j] = [r2_score(m.predict(X_b[i]), orig_preds[i]['y_hat']) for m in ftd_list]"
   ]
  },
  {
   "cell_type": "code",
   "execution_count": 55,
   "id": "74d0d169-772e-4316-873a-ebcc0b04330a",
   "metadata": {},
   "outputs": [],
   "source": [
    "r2_hat_df['Model'] = ftd_names"
   ]
  },
  {
   "cell_type": "code",
   "execution_count": 57,
   "id": "5e142275-30e8-4d93-9565-0edaa5e7a85a",
   "metadata": {},
   "outputs": [],
   "source": [
    "r2_hat_df.loc[len(r2_hat_df)] = ['FTTransformer']+[r2_score(orig_preds[i]['y_hat'], orig_preds[i]['y_hat']) for i in ['train', 'val', 'test']]"
   ]
  },
  {
   "cell_type": "code",
   "execution_count": 58,
   "id": "78c56833-3119-44b2-be4b-0c0467e87441",
   "metadata": {},
   "outputs": [
    {
     "data": {
      "text/html": [
       "<div>\n",
       "<style scoped>\n",
       "    .dataframe tbody tr th:only-of-type {\n",
       "        vertical-align: middle;\n",
       "    }\n",
       "\n",
       "    .dataframe tbody tr th {\n",
       "        vertical-align: top;\n",
       "    }\n",
       "\n",
       "    .dataframe thead th {\n",
       "        text-align: right;\n",
       "    }\n",
       "</style>\n",
       "<table border=\"1\" class=\"dataframe\">\n",
       "  <thead>\n",
       "    <tr style=\"text-align: right;\">\n",
       "      <th></th>\n",
       "      <th>Model</th>\n",
       "      <th>Train R2</th>\n",
       "      <th>Val R2</th>\n",
       "      <th>Test R2</th>\n",
       "    </tr>\n",
       "  </thead>\n",
       "  <tbody>\n",
       "    <tr>\n",
       "      <th>0</th>\n",
       "      <td>(bin, orig, train)</td>\n",
       "      <td>0.847424</td>\n",
       "      <td>0.832229</td>\n",
       "      <td>0.817176</td>\n",
       "    </tr>\n",
       "    <tr>\n",
       "      <th>1</th>\n",
       "      <td>(bin, bin, train)</td>\n",
       "      <td>0.809716</td>\n",
       "      <td>0.821329</td>\n",
       "      <td>0.805811</td>\n",
       "    </tr>\n",
       "    <tr>\n",
       "      <th>2</th>\n",
       "      <td>(bin, orig, val)</td>\n",
       "      <td>0.759469</td>\n",
       "      <td>0.842314</td>\n",
       "      <td>0.774070</td>\n",
       "    </tr>\n",
       "    <tr>\n",
       "      <th>3</th>\n",
       "      <td>(bin, bin, val)</td>\n",
       "      <td>0.796792</td>\n",
       "      <td>0.825923</td>\n",
       "      <td>0.799527</td>\n",
       "    </tr>\n",
       "    <tr>\n",
       "      <th>4</th>\n",
       "      <td>(bin, orig, train+val)</td>\n",
       "      <td>0.841185</td>\n",
       "      <td>0.861264</td>\n",
       "      <td>0.821455</td>\n",
       "    </tr>\n",
       "    <tr>\n",
       "      <th>5</th>\n",
       "      <td>(bin, bin, train+val)</td>\n",
       "      <td>0.808141</td>\n",
       "      <td>0.823432</td>\n",
       "      <td>0.805900</td>\n",
       "    </tr>\n",
       "    <tr>\n",
       "      <th>6</th>\n",
       "      <td>FTTransformer</td>\n",
       "      <td>1.000000</td>\n",
       "      <td>1.000000</td>\n",
       "      <td>1.000000</td>\n",
       "    </tr>\n",
       "  </tbody>\n",
       "</table>\n",
       "</div>"
      ],
      "text/plain": [
       "                    Model  Train R2    Val R2   Test R2\n",
       "0      (bin, orig, train)  0.847424  0.832229  0.817176\n",
       "1       (bin, bin, train)  0.809716  0.821329  0.805811\n",
       "2        (bin, orig, val)  0.759469  0.842314  0.774070\n",
       "3         (bin, bin, val)  0.796792  0.825923  0.799527\n",
       "4  (bin, orig, train+val)  0.841185  0.861264  0.821455\n",
       "5   (bin, bin, train+val)  0.808141  0.823432  0.805900\n",
       "6           FTTransformer  1.000000  1.000000  1.000000"
      ]
     },
     "execution_count": 58,
     "metadata": {},
     "output_type": "execute_result"
    }
   ],
   "source": [
    "r2_hat_df"
   ]
  },
  {
   "cell_type": "code",
   "execution_count": 59,
   "id": "44db94e3-0819-46bd-b2eb-c322d1f98d99",
   "metadata": {},
   "outputs": [],
   "source": [
    "r2_hat_df.to_csv('r2/bin_depth3_distillation_hat_R2.csv')"
   ]
  },
  {
   "cell_type": "code",
   "execution_count": null,
   "id": "1326e664-07ad-41dd-8139-488f0a0c4312",
   "metadata": {},
   "outputs": [],
   "source": []
  }
 ],
 "metadata": {
  "kernelspec": {
   "display_name": "Python 3 (ipykernel)",
   "language": "python",
   "name": "python3"
  },
  "language_info": {
   "codemirror_mode": {
    "name": "ipython",
    "version": 3
   },
   "file_extension": ".py",
   "mimetype": "text/x-python",
   "name": "python",
   "nbconvert_exporter": "python",
   "pygments_lexer": "ipython3",
   "version": "3.9.12"
  }
 },
 "nbformat": 4,
 "nbformat_minor": 5
}

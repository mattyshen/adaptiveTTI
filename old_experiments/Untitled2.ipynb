{
 "cells": [
  {
   "cell_type": "code",
   "execution_count": 18,
   "id": "bd94d743-e6da-4e0e-a12c-67255342b744",
   "metadata": {},
   "outputs": [
    {
     "name": "stdout",
     "output_type": "stream",
     "text": [
      "X (original, -1 and 1):\n",
      " [[-1  1]\n",
      " [ 1 -1]\n",
      " [ 1  1]\n",
      " [ 1  1]\n",
      " [ 1  1]]\n",
      "Y (real-valued):\n",
      " [-5  5 -1 -1 -1]\n",
      "X (0 and 1):\n",
      " [[0 1]\n",
      " [1 0]\n",
      " [1 1]\n",
      " [1 1]\n",
      " [1 1]]\n",
      "Y (real-valued):\n",
      " [-5  5 -1 -1 -1]\n"
     ]
    }
   ],
   "source": [
    "import numpy as np\n",
    "\n",
    "# Seed for reproducibility\n",
    "np.random.seed(0)\n",
    "\n",
    "# Generate X as a 5x2 matrix with values -1 and 1\n",
    "X = np.random.choice([-1, 1], size=(5, 2))\n",
    "\n",
    "# Define the linear generating process\n",
    "coefficients = np.array([2, -3])\n",
    "intercept = 1\n",
    "\n",
    "# Generate Y using the linear model\n",
    "Y = X @ coefficients\n",
    "\n",
    "# Print the binary dataset with -1 and 1\n",
    "print(\"X (original, -1 and 1):\\n\", X)\n",
    "print(\"Y (real-valued):\\n\", Y)\n",
    "\n",
    "# Convert X to 0 and 1\n",
    "X_zero_one = (X + 1) // 2\n",
    "\n",
    "# Print the binary dataset with 0 and 1\n",
    "print(\"X (0 and 1):\\n\", X_zero_one)\n",
    "print(\"Y (real-valued):\\n\", Y)\n"
   ]
  },
  {
   "cell_type": "code",
   "execution_count": 19,
   "id": "ed446f9d-52a9-4f38-853e-b02ab2e71e2c",
   "metadata": {},
   "outputs": [
    {
     "data": {
      "text/plain": [
       "array([ 3., -7.])"
      ]
     },
     "execution_count": 19,
     "metadata": {},
     "output_type": "execute_result"
    }
   ],
   "source": [
    "(np.linalg.inv(X.T@X)@X.T@Y) * 2 -1"
   ]
  },
  {
   "cell_type": "code",
   "execution_count": 20,
   "id": "82d4b15e-2018-4264-ae80-797720763649",
   "metadata": {},
   "outputs": [
    {
     "data": {
      "text/plain": [
       "array([ 4.57142857, -5.42857143])"
      ]
     },
     "execution_count": 20,
     "metadata": {},
     "output_type": "execute_result"
    }
   ],
   "source": [
    "np.linalg.inv(X_zero_one.T@X_zero_one)@X_zero_one.T@Y"
   ]
  },
  {
   "cell_type": "code",
   "execution_count": null,
   "id": "c7e16f7a-3b28-4444-a202-591d627150e0",
   "metadata": {},
   "outputs": [],
   "source": []
  }
 ],
 "metadata": {
  "kernelspec": {
   "display_name": "Python 3 (ipykernel)",
   "language": "python",
   "name": "python3"
  },
  "language_info": {
   "codemirror_mode": {
    "name": "ipython",
    "version": 3
   },
   "file_extension": ".py",
   "mimetype": "text/x-python",
   "name": "python",
   "nbconvert_exporter": "python",
   "pygments_lexer": "ipython3",
   "version": "3.9.12"
  }
 },
 "nbformat": 4,
 "nbformat_minor": 5
}

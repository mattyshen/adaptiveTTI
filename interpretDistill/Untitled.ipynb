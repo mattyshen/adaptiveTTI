{
 "cells": [
  {
   "cell_type": "code",
   "execution_count": null,
   "id": "08e61301-5a7a-4c5e-89fc-fe436e2b1700",
   "metadata": {},
   "outputs": [],
   "source": [
    "#from mo_figs import *\n",
    "# from fourierDistill import *\n",
    "# from subset_predictors import *\n",
    "import numpy as np\n",
    "import pandas as pd\n",
    "from hs_figs import *\n",
    "from sklearn.metrics import accuracy_score, mean_squared_error"
   ]
  },
  {
   "cell_type": "code",
   "execution_count": null,
   "id": "ba09854c-18ab-4ec7-a46d-0820400d1ea9",
   "metadata": {},
   "outputs": [],
   "source": [
    "import math\n",
    "\n",
    "def comb_sum(x, y):\n",
    "    return np.sum([math.comb(x, i) for i in range(y+1)])"
   ]
  },
  {
   "cell_type": "code",
   "execution_count": null,
   "id": "c6b5b792-796d-46f5-abc7-54212474681d",
   "metadata": {},
   "outputs": [],
   "source": [
    "comb_sum(112, 2)"
   ]
  },
  {
   "cell_type": "code",
   "execution_count": null,
   "id": "22264ea7-d145-4bfc-8447-fe34508465bc",
   "metadata": {},
   "outputs": [],
   "source": [
    "from sklearn.datasets import make_regression\n",
    "import pandas as pd\n",
    "\n",
    "# Create a multi-output regression dataset\n",
    "X, y = make_regression(\n",
    "    n_samples=10000,      # Number of samples\n",
    "    n_features=20,       # Number of input features\n",
    "    n_targets=1,         # Number of output targets (multi-output)\n",
    "    noise=0.1,           # Noise level\n",
    "    random_state=42      # For reproducibility\n",
    ")\n",
    "\n",
    "# Convert the data to a DataFrame for better visualization\n",
    "X = pd.DataFrame(X, columns=[f'feature_{i}' for i in range(20)])\n",
    "y = pd.DataFrame(y, columns=[f'target_{i}' for i in range(1)])\n",
    "\n",
    "from sklearn.model_selection import train_test_split\n",
    "\n",
    "# Perform the train-test split (80% training, 20% testing)\n",
    "X_train, X_test, y_train, y_test = train_test_split(\n",
    "    X, y, test_size=0.2, random_state=42\n",
    ")\n"
   ]
  },
  {
   "cell_type": "code",
   "execution_count": null,
   "id": "d4cbee5f-74c3-4f30-b25f-587bce514bd6",
   "metadata": {},
   "outputs": [],
   "source": [
    "hsfigs = FIGSRegressor(reg_depth = 1, shrink_depth = 0, reg_shrink=30)\n",
    "figs = FIGSRegressor()"
   ]
  },
  {
   "cell_type": "code",
   "execution_count": null,
   "id": "2840208e-c02a-4930-89cb-58a84520f880",
   "metadata": {},
   "outputs": [],
   "source": [
    "hsfigs.fit(X_train, y_train)\n",
    "figs.fit(X_train, y_train)"
   ]
  },
  {
   "cell_type": "code",
   "execution_count": null,
   "id": "f789eb19-f61f-449a-82d4-25ef5aadc194",
   "metadata": {},
   "outputs": [],
   "source": [
    "print(mean_squared_error(hsfigs.predict(X_test), y_test))\n",
    "print(mean_squared_error(figs.predict(X_test), y_test))"
   ]
  },
  {
   "cell_type": "code",
   "execution_count": null,
   "id": "b14e9ac5-f69b-469f-9c75-8e102107074c",
   "metadata": {},
   "outputs": [],
   "source": [
    "test = 5\n",
    "true = 4\n",
    "\n",
    "int(true > (test if test is not None else 0))"
   ]
  },
  {
   "cell_type": "code",
   "execution_count": null,
   "id": "b3797dda-5a2f-48c6-bba7-d93acd2bcd98",
   "metadata": {},
   "outputs": [],
   "source": [
    "l0l2new = NewL0L2RegressorCV(max_support_size = 5, n_alphas = 10)\n",
    "l0l2 = L0L2RegressorCV(max_support_size = 5)\n",
    "l0l2new.fit((X_train > 0).astype(int), y_train)\n",
    "l0l2.fit((X_train > 0).astype(int), y_train)"
   ]
  },
  {
   "cell_type": "code",
   "execution_count": null,
   "id": "c84066b4-ed9f-4361-acb8-c5ab727c62cf",
   "metadata": {},
   "outputs": [],
   "source": [
    "l0l2new.best_lambda, l0l2new.best_alpha"
   ]
  },
  {
   "cell_type": "code",
   "execution_count": null,
   "id": "b5d37c2d-cc55-48b9-82c6-6073f1c203f6",
   "metadata": {},
   "outputs": [],
   "source": [
    "l0l2.best_lambda, l0l2.best_alpha"
   ]
  },
  {
   "cell_type": "code",
   "execution_count": null,
   "id": "ba72196f-2d0b-4b14-8d5d-85e598057273",
   "metadata": {},
   "outputs": [],
   "source": [
    "print(np.mean((l0l2new.predict((X_test > 0).astype(int)) - y_test)**2))\n",
    "print(np.mean((l0l2.predict((X_test > 0).astype(int)) - y_test)**2))\n"
   ]
  },
  {
   "cell_type": "code",
   "execution_count": null,
   "id": "b349e9a2-5975-4274-865d-9ed544811e9e",
   "metadata": {},
   "outputs": [],
   "source": [
    "2 + np.arange(1)"
   ]
  },
  {
   "cell_type": "code",
   "execution_count": null,
   "id": "38081510-5572-4cf6-a265-c26f1e571d63",
   "metadata": {},
   "outputs": [],
   "source": [
    "hi = 2 * np.ones(1)"
   ]
  },
  {
   "cell_type": "code",
   "execution_count": null,
   "id": "8c7c1e91-fe9f-48a6-a9ab-940e25dfbf7e",
   "metadata": {},
   "outputs": [],
   "source": [
    "hi+= np.ones(1)"
   ]
  },
  {
   "cell_type": "code",
   "execution_count": null,
   "id": "eebb2a28-a077-4134-a127-845be9627307",
   "metadata": {},
   "outputs": [],
   "source": [
    "hi.shape"
   ]
  },
  {
   "cell_type": "code",
   "execution_count": null,
   "id": "6048e34c-ef05-4c74-9f97-ade5618c0b9e",
   "metadata": {},
   "outputs": [],
   "source": [
    "np.mean((l0l2.predict((X > 0).astype(int)) - y)**2)"
   ]
  },
  {
   "cell_type": "code",
   "execution_count": null,
   "id": "280a2ab0-7899-4c59-8e52-704b129836c4",
   "metadata": {},
   "outputs": [],
   "source": [
    "np.mean((X > 0).astype(int).to_numpy())"
   ]
  },
  {
   "cell_type": "code",
   "execution_count": null,
   "id": "28fa3354-0879-4feb-91f3-a61ba91e574e",
   "metadata": {},
   "outputs": [],
   "source": [
    "import l0learn"
   ]
  },
  {
   "cell_type": "code",
   "execution_count": null,
   "id": "8376d01d-39f1-44cd-a2f3-2a738dccc13b",
   "metadata": {},
   "outputs": [],
   "source": [
    "from sklearn.datasets import make_regression\n",
    "from sklearn.tree import DecisionTreeRegressor\n",
    "\n",
    "from scipy.special import softmax\n",
    "import numpy as np\n",
    "import pandas as pd\n",
    "\n",
    "# Parameters for the dataset\n",
    "n_samples = 100  # Number of samples\n",
    "n_features = 10  # Number of input features\n",
    "n_targets = 3    # Number of target outputs (multioutput)\n",
    "\n",
    "# Generate the multioutput regression dataset\n",
    "X, Y = make_regression(n_samples=n_samples, n_features=n_features, n_targets=n_targets, noise=0.1)\n",
    "\n",
    "# Convert to DataFrame for easier handling\n",
    "X_reg = pd.DataFrame(X, columns=[f'Feature_{i}' for i in range(n_features)])\n",
    "Y_reg = pd.DataFrame(Y, columns=[f'Target_{i}' for i in range(n_targets)])"
   ]
  },
  {
   "cell_type": "code",
   "execution_count": null,
   "id": "bdba5ae7-1716-4b06-9127-b56c50c1d8a0",
   "metadata": {},
   "outputs": [],
   "source": [
    "Y_reg"
   ]
  },
  {
   "cell_type": "code",
   "execution_count": null,
   "id": "fd9f6f26-15ea-4443-9aeb-de18d07e4a0e",
   "metadata": {},
   "outputs": [],
   "source": [
    "X_reg.shape, Y_reg.shape"
   ]
  },
  {
   "cell_type": "code",
   "execution_count": null,
   "id": "0d5edf19-b76b-49ce-b9b2-776c37d44a20",
   "metadata": {},
   "outputs": [],
   "source": [
    "figs_r = FIGSHydraRegressor(max_trees = 2, max_rules = 10)\n",
    "# Train the model on the training data\n",
    "figs_r.fit(X_reg, Y_reg)"
   ]
  },
  {
   "cell_type": "code",
   "execution_count": null,
   "id": "2a14c111-f3e3-4e4b-a513-d3c37c61cf3a",
   "metadata": {},
   "outputs": [],
   "source": [
    "np.argmax(figs_r.predict_proba(X_reg), axis=1)"
   ]
  },
  {
   "cell_type": "code",
   "execution_count": null,
   "id": "fcb26859-cb04-4d65-9826-3a37f628c516",
   "metadata": {},
   "outputs": [],
   "source": [
    "from sklearn.metrics import accuracy_score"
   ]
  },
  {
   "cell_type": "code",
   "execution_count": null,
   "id": "73450352-7e8e-4c18-985f-2055739685af",
   "metadata": {},
   "outputs": [],
   "source": [
    "def load_csvs(path):\n",
    "\n",
    "    X_train = pd.read_csv(f'{path}/X_trainval.csv', index_col=0)\n",
    "    X_train_hat = pd.read_csv(f'{path}/X_trainval_hat.csv', index_col=0)\n",
    "    X_test = pd.read_csv(f'{path}/X_test.csv', index_col=0)\n",
    "    X_test_hat = pd.read_csv(f'{path}/X_test_hat.csv', index_col=0)\n",
    "    y_train = pd.read_csv(f'{path}/y_trainval.csv', index_col=0)\n",
    "    y_train_hat = pd.read_csv(f'{path}/y_trainval_hat.csv', index_col=0)\n",
    "    y_test = pd.read_csv(f'{path}/y_test.csv', index_col=0)\n",
    "    y_test_hat = pd.read_csv(f'{path}/y_test_hat.csv', index_col=0)\n",
    "\n",
    "    return X_train, X_train_hat, X_test, X_test_hat, y_train, y_train_hat, y_test, y_test_hat"
   ]
  },
  {
   "cell_type": "code",
   "execution_count": null,
   "id": "61af800b-07f9-479b-a066-65b9f30645cf",
   "metadata": {},
   "outputs": [],
   "source": [
    "X_train, X_train_hat, X_test, X_test_hat, y_train, y_train_hat, y_test, y_test_hat = load_csvs(f'/home/mattyshen/interpretableDistillation/interpretDistill/data/cbm_datasets/seed0_Joint0.01SigmoidModel__Seed1')"
   ]
  },
  {
   "cell_type": "code",
   "execution_count": null,
   "id": "84605f3e-13c3-4979-a1c9-4464f8511a8f",
   "metadata": {},
   "outputs": [],
   "source": [
    "X_train_hat > 0.5"
   ]
  },
  {
   "cell_type": "code",
   "execution_count": null,
   "id": "f3342594-c9dc-4882-8280-c57c9ce37051",
   "metadata": {},
   "outputs": [],
   "source": [
    "len(y_test_hat.idxmax(axis=1).value_counts())"
   ]
  },
  {
   "cell_type": "code",
   "execution_count": null,
   "id": "2ae22c50-e71e-44e0-87ca-8f4ce2760412",
   "metadata": {},
   "outputs": [],
   "source": [
    "from sklearn.datasets import make_classification\n",
    "import pandas as pd\n",
    "from fourierDistill import FTDistillClassifierCV\n",
    "\n",
    "# Parameters for the dataset\n",
    "n_samples = 1000  # Total number of samples\n",
    "n_features = 20   # Number of features\n",
    "n_classes = 2     # Number of classes\n",
    "n_informative = 15  # Number of informative features\n",
    "n_redundant = 2   # Number of redundant features\n",
    "\n",
    "# Generate the dataset\n",
    "X, y = make_classification(n_samples=n_samples, \n",
    "                           n_features=n_features, \n",
    "                           n_informative=n_informative,\n",
    "                           n_redundant=n_redundant, \n",
    "                           n_classes=n_classes,\n",
    "                           random_state=42)\n",
    "\n",
    "# Convert to pandas dataframe for easier handling\n",
    "X_class = pd.DataFrame(X, columns=[f'feature_{i}' for i in range(n_features)])\n",
    "Y_class = pd.DataFrame(y, columns=['target'])"
   ]
  },
  {
   "cell_type": "code",
   "execution_count": null,
   "id": "9852f2ff-5283-4d2b-a825-a07adeba9891",
   "metadata": {},
   "outputs": [],
   "source": [
    "(X_class > 0.5).astype(int)"
   ]
  },
  {
   "cell_type": "code",
   "execution_count": null,
   "id": "8ee00251-64ef-4c09-b9e2-b5ed415cb3fd",
   "metadata": {},
   "outputs": [],
   "source": [
    "y_train_hat.idxmax().astype(int)"
   ]
  },
  {
   "cell_type": "code",
   "execution_count": null,
   "id": "405ed530-8e9b-470b-9154-de471b7992ce",
   "metadata": {},
   "outputs": [],
   "source": []
  },
  {
   "cell_type": "code",
   "execution_count": null,
   "id": "a0368814-a651-49fc-868e-4d5ed48365a9",
   "metadata": {},
   "outputs": [],
   "source": [
    "ftd = FTDistillClassifierCV(pre_interaction='l0l2',\n",
    "                             pre_max_features=0.1,\n",
    "                             post_interaction='l0l2', \n",
    "                             post_max_features=0.1,\n",
    "                             size_interactions=3)\n",
    "\n",
    "ftd.fit((X_train_hat > 0.5).astype(int), y_train_hat.idxmax(axis=1).astype(int))"
   ]
  },
  {
   "cell_type": "code",
   "execution_count": null,
   "id": "b26121a9-3e27-4964-b1ca-9e790fc5e83d",
   "metadata": {},
   "outputs": [],
   "source": [
    "y_train_hat.idxmax().astype(int)"
   ]
  },
  {
   "cell_type": "code",
   "execution_count": null,
   "id": "5f200e47-2503-47b1-b3e6-24b9b4207cf7",
   "metadata": {},
   "outputs": [],
   "source": [
    "from sklearn.utils import check_X_y, check_array\n",
    "\n",
    "t = np.arange(10).reshape(-1, 1).astype(int)\n",
    "\n",
    "t_new = check_array(t, dtype=(t_new.dtype))"
   ]
  },
  {
   "cell_type": "code",
   "execution_count": null,
   "id": "5b36a634-914b-4885-9d64-5cbe34a4c99b",
   "metadata": {},
   "outputs": [],
   "source": [
    "check_array(pd.Series(t.reshape(-1, )), dtype=(t.dtype)).dtype"
   ]
  },
  {
   "cell_type": "code",
   "execution_count": null,
   "id": "210170bd-40a7-450d-b3a0-59bd69314eef",
   "metadata": {},
   "outputs": [],
   "source": [
    "t"
   ]
  },
  {
   "cell_type": "code",
   "execution_count": null,
   "id": "00483cea-192f-43aa-a859-62af055a8b29",
   "metadata": {},
   "outputs": [],
   "source": [
    "pd.Series(t.reshape(-1, ))"
   ]
  },
  {
   "cell_type": "code",
   "execution_count": null,
   "id": "f2dcae8a-1407-4440-a056-1a9fd0498565",
   "metadata": {},
   "outputs": [],
   "source": [
    "np.issubdtype(t.dtype, np.number)"
   ]
  },
  {
   "cell_type": "code",
   "execution_count": null,
   "id": "82db41ea-ec3e-435f-9048-9783745ece00",
   "metadata": {},
   "outputs": [],
   "source": [
    "X.dtypes[0]"
   ]
  },
  {
   "cell_type": "code",
   "execution_count": null,
   "id": "c8ef7aa9-0660-4532-8715-205b5f24a006",
   "metadata": {},
   "outputs": [],
   "source": []
  },
  {
   "cell_type": "code",
   "execution_count": null,
   "id": "7c5ca7a8-bb62-4706-abf9-0572e1a31840",
   "metadata": {},
   "outputs": [],
   "source": [
    "t_new.astype(t.dtype)"
   ]
  },
  {
   "cell_type": "code",
   "execution_count": null,
   "id": "97b6e51e-3d52-45f7-a86f-1828ef8a2382",
   "metadata": {},
   "outputs": [],
   "source": [
    "figs_c = FIGSClassifier(max_trees = 30, max_rules = 90)\n",
    "figs_c.fit(X_class, Y_class)"
   ]
  },
  {
   "cell_type": "code",
   "execution_count": null,
   "id": "e9d887f4-f7e2-4ac7-bf94-24c0178bdfbc",
   "metadata": {},
   "outputs": [],
   "source": [
    "# Import necessary libraries\n",
    "import pandas as pd\n",
    "from sklearn.model_selection import train_test_split\n",
    "from sklearn.ensemble import RandomForestClassifier\n",
    "from sklearn.metrics import classification_report, accuracy_score\n",
    "\n",
    "# Step 1: Create sample data\n",
    "data = {\n",
    "    'weight': [150, 120, 130, 80, 200, 180, 50, 75, 160, 90],\n",
    "    'color_score': [8, 9, 7, 5, 10, 8, 3, 4, 9, 6],  # Example score for color (1-10)\n",
    "    'sweetness_score': [7, 6, 5, 3, 9, 8, 2, 3, 6, 5],  # Example score for sweetness (1-10)\n",
    "    'label': [\n",
    "        \"apple\", \"banana\", \"orange\", \"grape\", \"mango\",\n",
    "        \"apple\", \"grape\", \"banana\", \"orange\", \"mango\"\n",
    "    ]\n",
    "}\n",
    "\n",
    "# Step 2: Convert to DataFrame\n",
    "df = pd.DataFrame(data)\n",
    "\n",
    "# Step 3: Prepare features and labels\n",
    "X = df[['weight', 'color_score', 'sweetness_score']]  # Features\n",
    "y = df['label']  # Labels"
   ]
  },
  {
   "cell_type": "code",
   "execution_count": null,
   "id": "88b5e429-8781-4ec3-8233-0b3d99629bf9",
   "metadata": {},
   "outputs": [],
   "source": [
    "pd.DataFrame(y).shape"
   ]
  },
  {
   "cell_type": "code",
   "execution_count": null,
   "id": "6169b1dd-2ffa-4f9d-b521-cea05d1ebb02",
   "metadata": {},
   "outputs": [],
   "source": [
    "from sklearn.metrics import accuracy_score\n",
    "accuracy_score(pd.DataFrame(y), y.to_numpy())"
   ]
  },
  {
   "cell_type": "code",
   "execution_count": null,
   "id": "ea36976e-5000-468e-9cd4-e394c41c9359",
   "metadata": {},
   "outputs": [],
   "source": [
    "from sklearn.preprocessing import OneHotEncoder\n",
    "\n",
    "ohe = OneHotEncoder(sparse_output=True, handle_unknown='ignore')\n",
    "ohe.fit(pd.DataFrame(y))"
   ]
  },
  {
   "cell_type": "code",
   "execution_count": null,
   "id": "67264848-5a88-4cff-a06a-d8f1462b723b",
   "metadata": {},
   "outputs": [],
   "source": [
    "ohe.transform(pd.DataFrame(y)).toarray()"
   ]
  },
  {
   "cell_type": "code",
   "execution_count": null,
   "id": "88ba44fc-71ce-4768-9940-6a7918a07fe2",
   "metadata": {},
   "outputs": [],
   "source": [
    "{index: label for index, label in enumerate(ohe.categories_[0])}"
   ]
  },
  {
   "cell_type": "code",
   "execution_count": null,
   "id": "b32f07cd-4c24-4234-8a8f-12faed4d80ed",
   "metadata": {},
   "outputs": [],
   "source": [
    "pd.DataFrame(y)"
   ]
  },
  {
   "cell_type": "code",
   "execution_count": null,
   "id": "85d4ea9a-79e2-425f-9ded-192edcf64e19",
   "metadata": {},
   "outputs": [],
   "source": [
    "figs = FIGSClassifier()\n",
    "figs.fit(X, pd.DataFrame(y))"
   ]
  },
  {
   "cell_type": "code",
   "execution_count": null,
   "id": "ca04e36b-2927-4c6c-9622-d3ade7166335",
   "metadata": {},
   "outputs": [],
   "source": [
    "np.unique(y.to_numpy())"
   ]
  },
  {
   "cell_type": "code",
   "execution_count": null,
   "id": "34378dbd-06db-4b8c-9a38-1bc3454df850",
   "metadata": {},
   "outputs": [],
   "source": [
    "t = figs.predict(X)"
   ]
  },
  {
   "cell_type": "code",
   "execution_count": null,
   "id": "8fa19aeb-6923-4bc7-b7f0-052910c7025a",
   "metadata": {},
   "outputs": [],
   "source": [
    "y.to_numpy().reshape(-1, 1) == t"
   ]
  },
  {
   "cell_type": "code",
   "execution_count": null,
   "id": "7f520fac-a144-44cf-ab86-aa2ddd26dc9a",
   "metadata": {},
   "outputs": [],
   "source": [
    "t"
   ]
  },
  {
   "cell_type": "code",
   "execution_count": null,
   "id": "4bf1aa37-8a3a-4a33-a6dc-0446c152cf07",
   "metadata": {},
   "outputs": [],
   "source": [
    "import numpy as np\n",
    "import pandas as pd\n",
    "from sklearn.preprocessing import OneHotEncoder\n",
    "\n",
    "# Sample data\n",
    "data = pd.DataFrame({\n",
    "    'fruit': ['apple', 'banana', 'orange', 'apple', 'banana', 'grape']\n",
    "})\n",
    "\n",
    "# Step 1: Initialize and fit the OneHotEncoder\n",
    "encoder = OneHotEncoder(sparse_output=True, handle_unknown='ignore')  # Use sparse=False for easier visualization\n",
    "encoder.fit(data[['fruit']])\n",
    "\n",
    "# Step 2: Get the categories\n",
    "categories = encoder.categories_[0]  # Accessing the first (and only) feature's categories\n",
    "\n",
    "# Step 3: Create index-to-label mapping\n",
    "index_to_label_mapping = {index: label for index, label in enumerate(categories)}\n",
    "\n",
    "# Print the mapping\n",
    "print(\"Index to Label Mapping:\")\n",
    "print(index_to_label_mapping)\n",
    "\n",
    "# Optional: Transform the data\n",
    "one_hot_encoded = encoder.transform(data[['fruit']])\n",
    "print(\"\\nOne-Hot Encoded Data:\")\n",
    "print(one_hot_encoded)\n"
   ]
  },
  {
   "cell_type": "code",
   "execution_count": null,
   "id": "bad023ef-b695-4909-b5fc-1b433a0c2568",
   "metadata": {},
   "outputs": [],
   "source": [
    "np.unique(y.to_numpy().reshape(-1, 1), return_inverse=True)"
   ]
  },
  {
   "cell_type": "code",
   "execution_count": null,
   "id": "a89c1e62-55ac-478d-b341-7bfefc537eda",
   "metadata": {},
   "outputs": [],
   "source": [
    "X = encoder.transform(data[['fruit']])"
   ]
  },
  {
   "cell_type": "code",
   "execution_count": null,
   "id": "51719d99-48b0-47ba-8316-cbe6df982e0f",
   "metadata": {},
   "outputs": [],
   "source": [
    "index_to_label_mapping"
   ]
  },
  {
   "cell_type": "code",
   "execution_count": null,
   "id": "5512a7ff-f825-4620-815c-ba9d52a77926",
   "metadata": {},
   "outputs": [],
   "source": [
    "X.toarray()"
   ]
  },
  {
   "cell_type": "code",
   "execution_count": null,
   "id": "6f1e0e5a-e9f1-489f-98c7-f700919fc081",
   "metadata": {},
   "outputs": [],
   "source": [
    "import numpy as np\n",
    "import matplotlib.pyplot as plt\n",
    "from sklearn.cluster import KMeans\n",
    "\n",
    "# Data points\n",
    "X = np.array([[-2, 4], [-2, 3], [-0.5, 0], [-2, -4], [-2, -3],\n",
    "              [2, 4], [2, 3], [0.5, 0], [2, -4], [2, -3]])\n",
    "\n",
    "# Initial custom centroids\n",
    "custom_centroids = np.array([[-3, 0], [0, 0], [3, 0]])\n",
    "\n",
    "# Create KMeans model with custom centroids\n",
    "kmeans = KMeans(n_clusters=3, init=custom_centroids, n_init=1)\n",
    "\n",
    "# Fit the model\n",
    "kmeans.fit(X)\n",
    "\n",
    "# Extract final cluster labels and centroids\n",
    "labels = kmeans.labels_\n",
    "final_centroids = kmeans.cluster_centers_\n",
    "\n",
    "# Plot the data and centroids\n",
    "plt.figure(figsize=(10, 5))\n",
    "plt.xticks(np.arange(-5, 6, 1))\n",
    "plt.yticks(np.arange(-5, 6, 1))\n",
    "\n",
    "# Plot the data points, colored by cluster label\n",
    "plt.scatter(X[:, 0], X[:, 1], c=labels, cmap='viridis', s=50)\n",
    "\n",
    "# Plot final centroids\n",
    "plt.scatter(final_centroids[:, 0], final_centroids[:, 1], s=50, c='red', label='Optimal Clusters')\n",
    "\n",
    "# Circle around centroids (with radius 1 for illustration)\n",
    "for i in range(len(final_centroids)):\n",
    "    centroid = final_centroids[i]\n",
    "    circle = plt.Circle(centroid, 0.5, color='r', fill=False, linestyle='--', linewidth=2)\n",
    "    plt.gca().add_patch(circle)\n",
    "\n",
    "# Plot initial custom centroids\n",
    "# plt.scatter(custom_centroids[:, 0], custom_centroids[:, 1], \n",
    "#             marker='o', s=150, c='blue', label='Initial Centroids', alpha=0.6)\n",
    "\n",
    "# Final plot adjustments\n",
    "plt.title(\"K-Means Clustering Optimal Clusters\")\n",
    "plt.legend(loc='best')\n",
    "plt.xlim(-5, 5)\n",
    "plt.ylim(-5, 5)\n",
    "plt.gca().set_aspect('equal', adjustable='box')\n",
    "\n",
    "plt.grid(True)\n",
    "#plt.show()\n",
    "plt.savefig('Optimal-Clust.png')"
   ]
  },
  {
   "cell_type": "code",
   "execution_count": null,
   "id": "d4cb7579-424e-4e3e-8854-ece637add484",
   "metadata": {},
   "outputs": [],
   "source": [
    "final_centroids"
   ]
  },
  {
   "cell_type": "code",
   "execution_count": null,
   "id": "30ac33f4-408a-4636-9d42-c0051f15e537",
   "metadata": {},
   "outputs": [],
   "source": [
    "import matplotlib.pyplot as plt\n",
    "np.cov(X)\n",
    "plt.imshow(np.corrcoef(X))"
   ]
  },
  {
   "cell_type": "code",
   "execution_count": null,
   "id": "5a91aa29-7f73-4caf-a364-6deee5108007",
   "metadata": {},
   "outputs": [],
   "source": [
    "np.corrcoef(X)"
   ]
  },
  {
   "cell_type": "code",
   "execution_count": null,
   "id": "5f3d6ad0-3ead-4dd3-a5cb-f5482a7cb601",
   "metadata": {},
   "outputs": [],
   "source": [
    "plt.imshow((X.T @ X))"
   ]
  },
  {
   "cell_type": "code",
   "execution_count": null,
   "id": "e9d34de1-25a2-4d27-bead-86c9b0761cc1",
   "metadata": {},
   "outputs": [],
   "source": [
    "(X.T @ X)/X.shape[0]"
   ]
  },
  {
   "cell_type": "code",
   "execution_count": null,
   "id": "df5b6ac5-6f7c-445e-b923-da15188a7a04",
   "metadata": {},
   "outputs": [],
   "source": []
  }
 ],
 "metadata": {
  "kernelspec": {
   "display_name": "Python 3 (ipykernel)",
   "language": "python",
   "name": "python3"
  },
  "language_info": {
   "codemirror_mode": {
    "name": "ipython",
    "version": 3
   },
   "file_extension": ".py",
   "mimetype": "text/x-python",
   "name": "python",
   "nbconvert_exporter": "python",
   "pygments_lexer": "ipython3",
   "version": "3.9.12"
  }
 },
 "nbformat": 4,
 "nbformat_minor": 5
}

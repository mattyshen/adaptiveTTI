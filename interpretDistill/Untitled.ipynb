{
 "cells": [
  {
   "cell_type": "code",
   "execution_count": 1,
   "id": "43bfb125-0585-40f4-8c6d-f630570576f6",
   "metadata": {},
   "outputs": [],
   "source": [
    "\n",
    "# ruff: noqa: E402\n",
    "import math\n",
    "import warnings\n",
    "from typing import Dict, Literal\n",
    "\n",
    "warnings.simplefilter(\"ignore\")\n",
    "import delu  # Deep Learning Utilities: https://github.com/Yura52/delu\n",
    "import numpy as np\n",
    "import scipy.special\n",
    "import sklearn.datasets\n",
    "import sklearn.metrics\n",
    "import sklearn.model_selection\n",
    "import sklearn.preprocessing\n",
    "import torch\n",
    "import torch.nn.functional as F\n",
    "import torch.optim\n",
    "from torch import Tensor\n",
    "from tqdm.std import tqdm\n",
    "\n",
    "from sklearn.model_selection import train_test_split\n",
    "\n",
    "warnings.resetwarnings()\n",
    "\n",
    "from tabdl import *"
   ]
  },
  {
   "cell_type": "code",
   "execution_count": 2,
   "id": "fe28dc71-ede2-4e81-9f33-3d5a8b7e391e",
   "metadata": {},
   "outputs": [
    {
     "data": {
      "text/plain": [
       "0"
      ]
     },
     "execution_count": 2,
     "metadata": {},
     "output_type": "execute_result"
    }
   ],
   "source": [
    "device = torch.device(\"cuda\" if torch.cuda.is_available() else \"cpu\")\n",
    "# Set random seeds in all libraries.\n",
    "delu.random.seed(0)"
   ]
  },
  {
   "cell_type": "code",
   "execution_count": 3,
   "id": "1fa03264-dd20-4511-b750-e630f9371237",
   "metadata": {},
   "outputs": [],
   "source": [
    "TaskType = Literal[\"regression\", \"binclass\", \"multiclass\"]\n",
    "\n",
    "task_type: TaskType = \"regression\"\n",
    "n_classes = None\n",
    "dataset = sklearn.datasets.fetch_california_housing(as_frame = True)\n",
    "X: np.ndarray = dataset[\"data\"]\n",
    "Y: np.ndarray = dataset[\"target\"]"
   ]
  },
  {
   "cell_type": "code",
   "execution_count": 4,
   "id": "5d7f7fcc-49d4-4c76-a4dc-757924c83bd0",
   "metadata": {},
   "outputs": [],
   "source": [
    "X_train, X_test, y_train, y_test = train_test_split(X, Y, test_size=0.2, random_state=0)"
   ]
  },
  {
   "cell_type": "code",
   "execution_count": 5,
   "id": "f64b918b-e54b-4411-bd5c-c677ae70ff5c",
   "metadata": {},
   "outputs": [],
   "source": [
    "tdlm = TabDLM('FTTransformer', \n",
    "       'regression',\n",
    "       1,\n",
    "       8, \n",
    "       [], \n",
    "       1,\n",
    "       10000,\n",
    "       16,\n",
    "    256,\n",
    "             verbose=False)"
   ]
  },
  {
   "cell_type": "code",
   "execution_count": 6,
   "id": "ddf6427e-7bf6-4f69-84f6-bfaca3b547d1",
   "metadata": {},
   "outputs": [
    {
     "name": "stdout",
     "output_type": "stream",
     "text": [
      "Device: CUDA\n",
      "----------------------------------------------------------------------------------------\n",
      "\n"
     ]
    }
   ],
   "source": [
    "tdlm.fit(X_train, y_train)"
   ]
  },
  {
   "cell_type": "code",
   "execution_count": 9,
   "id": "8562b1a5-95d0-4787-a8a2-2623e27ef035",
   "metadata": {},
   "outputs": [
    {
     "data": {
      "text/plain": [
       "{'val': -0.5332470593852849, 'epoch': 26, 'train': -0.4219248934243844}"
      ]
     },
     "execution_count": 9,
     "metadata": {},
     "output_type": "execute_result"
    }
   ],
   "source": [
    "tdlm.best"
   ]
  },
  {
   "cell_type": "code",
   "execution_count": 10,
   "id": "fc5052fa-c752-4ec3-a860-9afe6fe88d13",
   "metadata": {},
   "outputs": [
    {
     "data": {
      "text/plain": [
       "0.7951576062158512"
      ]
     },
     "execution_count": 10,
     "metadata": {},
     "output_type": "execute_result"
    }
   ],
   "source": [
    "sklearn.metrics.r2_score(y_train, tdlm.predict(X_train))# ** 0.5 * tdlm.Y_std"
   ]
  },
  {
   "cell_type": "code",
   "execution_count": 11,
   "id": "f3407e46-8c68-47eb-9c5b-70ae3e42c199",
   "metadata": {},
   "outputs": [
    {
     "data": {
      "text/plain": [
       "0.7692640555534881"
      ]
     },
     "execution_count": 11,
     "metadata": {},
     "output_type": "execute_result"
    }
   ],
   "source": [
    "sklearn.metrics.r2_score(y_test, tdlm.predict(X_test))# ** 0.5 * tdlm.Y_std)"
   ]
  },
  {
   "cell_type": "code",
   "execution_count": null,
   "id": "d10d902e-7175-45a6-8fb5-17649a27730e",
   "metadata": {},
   "outputs": [],
   "source": []
  }
 ],
 "metadata": {
  "kernelspec": {
   "display_name": "Python 3 (ipykernel)",
   "language": "python",
   "name": "python3"
  },
  "language_info": {
   "codemirror_mode": {
    "name": "ipython",
    "version": 3
   },
   "file_extension": ".py",
   "mimetype": "text/x-python",
   "name": "python",
   "nbconvert_exporter": "python",
   "pygments_lexer": "ipython3",
   "version": "3.9.12"
  }
 },
 "nbformat": 4,
 "nbformat_minor": 5
}

{
 "cells": [
  {
   "cell_type": "code",
   "execution_count": 3,
   "id": "370457b2-647c-4c8d-b97c-5e1914fc8755",
   "metadata": {
    "tags": []
   },
   "outputs": [],
   "source": [
    "import sklearn.datasets\n",
    "import pandas as pd\n",
    "import numpy as np\n",
    "\n",
    "import sklearn.model_selection\n",
    "from sklearn.metrics import r2_score, accuracy_score\n",
    "from imodels import FIGSRegressor, FIGSClassifier\n",
    "from imodels.importance import RandomForestPlusRegressor\n",
    "\n",
    "import openml\n",
    "from ucimlrepo import fetch_ucirepo \n",
    "\n",
    "from figs_d import *"
   ]
  },
  {
   "cell_type": "code",
   "execution_count": 2,
   "id": "f90024bf-2aba-43e9-91aa-ca9d84c33209",
   "metadata": {},
   "outputs": [
    {
     "name": "stderr",
     "output_type": "stream",
     "text": [
      "/tmp/ipykernel_82227/2056978219.py:1: FutureWarning: Starting from Version 0.15 `download_data`, `download_qualities`, and `download_features_meta_data` will all be ``False`` instead of ``True`` by default to enable lazy loading. To disable this message until version 0.15 explicitly set `download_data`, `download_qualities`, and `download_features_meta_data` to a bool while calling `get_dataset`.\n",
      "  miami_housing = openml.datasets.get_dataset(43093)\n"
     ]
    }
   ],
   "source": [
    "miami_housing = openml.datasets.get_dataset(43093)\n",
    "X, y, _, _ = miami_housing.get_data(target=miami_housing.default_target_attribute, dataset_format=\"dataframe\")\n",
    "\n",
    "is_continuous = X.apply(lambda col: pd.api.types.is_float_dtype(col) and len(col.unique()) > 20)\n",
    "X_cat = X.loc[:, ~is_continuous]"
   ]
  },
  {
   "cell_type": "code",
   "execution_count": null,
   "id": "480288dc-7b77-458c-aef4-e6c4c012a1f4",
   "metadata": {},
   "outputs": [],
   "source": []
  }
 ],
 "metadata": {
  "kernelspec": {
   "display_name": "Python 3 (ipykernel)",
   "language": "python",
   "name": "python3"
  },
  "language_info": {
   "codemirror_mode": {
    "name": "ipython",
    "version": 3
   },
   "file_extension": ".py",
   "mimetype": "text/x-python",
   "name": "python",
   "nbconvert_exporter": "python",
   "pygments_lexer": "ipython3",
   "version": "3.11.0"
  }
 },
 "nbformat": 4,
 "nbformat_minor": 5
}

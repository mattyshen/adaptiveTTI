{
 "cells": [
  {
   "cell_type": "code",
   "execution_count": 2,
   "id": "370457b2-647c-4c8d-b97c-5e1914fc8755",
   "metadata": {
    "tags": []
   },
   "outputs": [
    {
     "ename": "ModuleNotFoundError",
     "evalue": "No module named 'l0learn'",
     "output_type": "error",
     "traceback": [
      "\u001b[0;31m---------------------------------------------------------------------------\u001b[0m",
      "\u001b[0;31mModuleNotFoundError\u001b[0m                       Traceback (most recent call last)",
      "Cell \u001b[0;32mIn[2], line 14\u001b[0m\n\u001b[1;32m     11\u001b[0m \u001b[38;5;28;01mfrom\u001b[39;00m \u001b[38;5;21;01mucimlrepo\u001b[39;00m \u001b[38;5;28;01mimport\u001b[39;00m fetch_ucirepo \n\u001b[1;32m     13\u001b[0m \u001b[38;5;28;01mfrom\u001b[39;00m \u001b[38;5;21;01mfigs_d\u001b[39;00m \u001b[38;5;28;01mimport\u001b[39;00m \u001b[38;5;241m*\u001b[39m\n\u001b[0;32m---> 14\u001b[0m \u001b[38;5;28;01mfrom\u001b[39;00m \u001b[38;5;21;01mfourierDistill\u001b[39;00m \u001b[38;5;28;01mimport\u001b[39;00m \u001b[38;5;241m*\u001b[39m\n",
      "File \u001b[0;32m~/interpretableDistillation/interpretDistill/fourierDistill.py:18\u001b[0m\n\u001b[1;32m     14\u001b[0m \u001b[38;5;28;01mimport\u001b[39;00m \u001b[38;5;21;01mtime\u001b[39;00m\n\u001b[1;32m     16\u001b[0m \u001b[38;5;66;03m#print(os.getcwd())\u001b[39;00m\n\u001b[1;32m     17\u001b[0m \u001b[38;5;66;03m#from interpretDistill.subset_predictors import *\u001b[39;00m\n\u001b[0;32m---> 18\u001b[0m \u001b[38;5;28;01mfrom\u001b[39;00m \u001b[38;5;21;01msubset_predictors\u001b[39;00m \u001b[38;5;28;01mimport\u001b[39;00m \u001b[38;5;241m*\u001b[39m\n\u001b[1;32m     20\u001b[0m \u001b[38;5;28;01mclass\u001b[39;00m \u001b[38;5;21;01mFTDistill\u001b[39;00m:\n\u001b[1;32m     21\u001b[0m     \u001b[38;5;28;01mdef\u001b[39;00m \u001b[38;5;21m__init__\u001b[39m(\u001b[38;5;28mself\u001b[39m, \n\u001b[1;32m     22\u001b[0m                  pre_interaction\u001b[38;5;241m=\u001b[39m\u001b[38;5;124m'\u001b[39m\u001b[38;5;124ml1\u001b[39m\u001b[38;5;124m'\u001b[39m, \n\u001b[1;32m     23\u001b[0m                  pre_lam1\u001b[38;5;241m=\u001b[39m\u001b[38;5;241m1.0\u001b[39m,\n\u001b[0;32m   (...)\u001b[0m\n\u001b[1;32m     30\u001b[0m                  size_interactions\u001b[38;5;241m=\u001b[39m\u001b[38;5;241m3\u001b[39m,  \n\u001b[1;32m     31\u001b[0m                  re_fit_alpha\u001b[38;5;241m=\u001b[39m\u001b[38;5;28;01mNone\u001b[39;00m):\n",
      "File \u001b[0;32m~/interpretableDistillation/interpretDistill/subset_predictors.py:7\u001b[0m\n\u001b[1;32m      3\u001b[0m \u001b[38;5;28;01mfrom\u001b[39;00m \u001b[38;5;21;01msklearn\u001b[39;00m\u001b[38;5;21;01m.\u001b[39;00m\u001b[38;5;21;01mutils\u001b[39;00m\u001b[38;5;21;01m.\u001b[39;00m\u001b[38;5;21;01mvalidation\u001b[39;00m \u001b[38;5;28;01mimport\u001b[39;00m check_X_y, check_array, check_is_fitted\n\u001b[1;32m      4\u001b[0m \u001b[38;5;28;01mfrom\u001b[39;00m \u001b[38;5;21;01msklearn\u001b[39;00m\u001b[38;5;21;01m.\u001b[39;00m\u001b[38;5;21;01mmodel_selection\u001b[39;00m \u001b[38;5;28;01mimport\u001b[39;00m train_test_split\n\u001b[0;32m----> 7\u001b[0m \u001b[38;5;28;01mimport\u001b[39;00m \u001b[38;5;21;01ml0learn\u001b[39;00m\n\u001b[1;32m      8\u001b[0m \u001b[38;5;28;01mimport\u001b[39;00m \u001b[38;5;21;01msklearn\u001b[39;00m\n\u001b[1;32m     10\u001b[0m \u001b[38;5;28;01mclass\u001b[39;00m \u001b[38;5;21;01mL0L2Regressor\u001b[39;00m(BaseEstimator, RegressorMixin):\n",
      "\u001b[0;31mModuleNotFoundError\u001b[0m: No module named 'l0learn'"
     ]
    }
   ],
   "source": [
    "import sklearn.datasets\n",
    "import pandas as pd\n",
    "import numpy as np\n",
    "\n",
    "import sklearn.model_selection\n",
    "from sklearn.metrics import r2_score, accuracy_score\n",
    "#from imodels import FIGSRegressor, FIGSClassifier\n",
    "#from imodels.importance import RandomForestPlusRegressor\n",
    "\n",
    "import openml\n",
    "from ucimlrepo import fetch_ucirepo \n",
    "\n",
    "from figs_d import *\n",
    "from fourierDistill import *"
   ]
  },
  {
   "cell_type": "code",
   "execution_count": null,
   "id": "6112aa31-1427-4cb6-97bc-7fedd56d4c4f",
   "metadata": {
    "tags": []
   },
   "outputs": [],
   "source": [
    "def traverse_paths(node):\n",
    "    if node is None:\n",
    "        return []\n",
    "\n",
    "    paths = []\n",
    "    vals = []\n",
    "\n",
    "    def dfs(current, path, from_left=False):\n",
    "        if current.left is None and current.right is None and not from_left:\n",
    "            paths.append(path.copy())\n",
    "            vals.append(current.value.item())\n",
    "            return \n",
    "        \n",
    "        if current.left:\n",
    "            dfs(current.left, [], from_left=True)\n",
    "\n",
    "        if current.right:\n",
    "            path.append(current)\n",
    "            dfs(current.right, path)\n",
    "\n",
    "    dfs(node, [])\n",
    "\n",
    "    return list(zip(paths, vals))"
   ]
  },
  {
   "cell_type": "code",
   "execution_count": null,
   "id": "f90024bf-2aba-43e9-91aa-ca9d84c33209",
   "metadata": {},
   "outputs": [],
   "source": [
    "miami_housing = openml.datasets.get_dataset(43093)\n",
    "X, y, _, _ = miami_housing.get_data(target=miami_housing.default_target_attribute, dataset_format=\"dataframe\")"
   ]
  },
  {
   "cell_type": "code",
   "execution_count": null,
   "id": "480288dc-7b77-458c-aef4-e6c4c012a1f4",
   "metadata": {},
   "outputs": [],
   "source": [
    "figs = FIGSRegressor(max_rules = 20, max_trees = 10)\n",
    "figs.fit(X, y, feature_names = list(X.columns))"
   ]
  },
  {
   "cell_type": "code",
   "execution_count": null,
   "id": "b7ed1bca-6a7e-4fb5-b401-7f70b65908ae",
   "metadata": {
    "tags": []
   },
   "outputs": [],
   "source": [
    "figs_rules = [traverse_paths(t) for t in figs.trees_]"
   ]
  },
  {
   "cell_type": "code",
   "execution_count": null,
   "id": "e5ae0f34-d71f-48fc-8dd0-4b12c8962630",
   "metadata": {},
   "outputs": [],
   "source": [
    "figs_rules = [\n",
    "    x\n",
    "    for xs in figs_rules\n",
    "    for x in xs\n",
    "]"
   ]
  },
  {
   "cell_type": "code",
   "execution_count": null,
   "id": "dad5f81a-edc0-44fd-bf86-d85587616666",
   "metadata": {
    "tags": []
   },
   "outputs": [],
   "source": [
    "figs_rules"
   ]
  },
  {
   "cell_type": "code",
   "execution_count": null,
   "id": "63973d6b-684f-4f30-b956-bb23c9622f5b",
   "metadata": {},
   "outputs": [],
   "source": []
  }
 ],
 "metadata": {
  "kernelspec": {
   "display_name": "Python 3.12 (ipykernel)",
   "language": "python",
   "name": "python3.12"
  },
  "language_info": {
   "codemirror_mode": {
    "name": "ipython",
    "version": 3
   },
   "file_extension": ".py",
   "mimetype": "text/x-python",
   "name": "python",
   "nbconvert_exporter": "python",
   "pygments_lexer": "ipython3",
   "version": "3.12.2"
  }
 },
 "nbformat": 4,
 "nbformat_minor": 5
}

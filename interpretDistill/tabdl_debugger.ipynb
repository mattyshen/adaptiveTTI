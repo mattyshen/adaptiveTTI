{
 "cells": [
  {
   "cell_type": "code",
   "execution_count": 5,
   "id": "c4abae37-0ac7-4fd8-ae00-f26a90b640a8",
   "metadata": {},
   "outputs": [],
   "source": [
    "import sklearn.datasets\n",
    "import pandas as pd\n",
    "import numpy as np\n",
    "import torch.nn.functional as F\n",
    "import torch\n",
    "\n",
    "#from featurizer import *\n",
    "import sklearn.model_selection\n",
    "from rtdl_revisiting_models import MLP, ResNet, FTTransformer\n",
    "from sklearn.metrics import r2_score, accuracy_score\n",
    "\n",
    "from tabdl import *"
   ]
  },
  {
   "cell_type": "code",
   "execution_count": 2,
   "id": "4d170b4d-fdc2-418d-8d60-badc1d4243bd",
   "metadata": {},
   "outputs": [
    {
     "ename": "AssertionError",
     "evalue": "hello",
     "output_type": "error",
     "traceback": [
      "\u001b[0;31m---------------------------------------------------------------------------\u001b[0m",
      "\u001b[0;31mAssertionError\u001b[0m                            Traceback (most recent call last)",
      "Input \u001b[0;32mIn [2]\u001b[0m, in \u001b[0;36m<cell line: 1>\u001b[0;34m()\u001b[0m\n\u001b[0;32m----> 1\u001b[0m \u001b[38;5;28;01massert\u001b[39;00m \u001b[38;5;28;01mFalse\u001b[39;00m, \u001b[38;5;124m\"\u001b[39m\u001b[38;5;124mhello\u001b[39m\u001b[38;5;124m\"\u001b[39m\n",
      "\u001b[0;31mAssertionError\u001b[0m: hello"
     ]
    }
   ],
   "source": [
    "assert False, \"hello\""
   ]
  },
  {
   "cell_type": "code",
   "execution_count": null,
   "id": "a552aaec-bfd1-4363-9da8-04c81692104f",
   "metadata": {},
   "outputs": [],
   "source": [
    "# dataset = sklearn.datasets.load_iris(as_frame = True)\n",
    "# X: np.ndarray = dataset[\"data\"]\n",
    "# Y: np.ndarray = dataset[\"target\"]\n",
    "# task_type = 'multiclass'\n",
    "# f = ClassFeaturizer(depth=3, bit=False)\n",
    "# X = f.fit_transform(X, Y)\n",
    "# mlp = TabDLM('MLP', task_type, n_classes=3, verbose = False)\n",
    "# resnet = TabDLM('ResNet', task_type, n_classes=3, verbose = False)\n",
    "# ftt = TabDLM('FTTransformer', task_type, n_classes=3, verbose = False)\n",
    "# mlp.fit(X, Y)\n",
    "# resnet.fit(X, Y)\n",
    "# ftt.fit(X, Y)\n",
    "# accuracy_score(np.argmax(mlp.predict(X), axis = 1), Y), accuracy_score(np.argmax(resnet.predict(X), axis = 1), Y), accuracy_score(np.argmax(ftt.predict(X), axis = 1), Y)"
   ]
  },
  {
   "cell_type": "code",
   "execution_count": null,
   "id": "e21fc6c8-fa3d-4577-ab29-0248a37900a7",
   "metadata": {},
   "outputs": [],
   "source": [
    "num_samples = 1000\n",
    "\n",
    "# Generate continuous features\n",
    "continuous_features = np.random.randn(num_samples, 3)\n",
    "\n",
    "# Generate categorical features (numerical)\n",
    "categorical_feature_1 = np.random.randint(0, 3, num_samples)  # 3 categories\n",
    "categorical_feature_2 = np.random.randint(0, 5, num_samples)  # 5 categories\n",
    "\n",
    "# Combine the features into a DataFrame\n",
    "data = pd.DataFrame(continuous_features, columns=['cont_feature_1', 'cont_feature_2', 'cont_feature_3'])\n",
    "data['cat_feature_1'] = categorical_feature_1\n",
    "data['cat_feature_2'] = categorical_feature_2\n",
    "\n",
    "# Generate the target variable Y as a linear combination of features + noise\n",
    "coefficients = np.array([1.5, -2.0, 3.0, 0.5, -1.0])\n",
    "features = np.hstack([continuous_features, categorical_feature_1.reshape(-1, 1), categorical_feature_2.reshape(-1, 1)])\n",
    "noise = np.random.randn(num_samples) * 0.1  # Add some noise\n",
    "\n",
    "Y = features.dot(coefficients) + noise\n",
    "data['Y'] = Y\n",
    "\n",
    "X = data.drop(columns = ['Y'])\n",
    "Y = data['Y']\n",
    "\n",
    "f = RegFeaturizer(depth=3, bit=False)\n",
    "task_type = 'regression'\n",
    "X = f.fit_transform(X, Y)\n",
    "mlp = TabDLM('MLP', task_type, n_classes=3, verbose = False)\n",
    "resnet = TabDLM('ResNet', task_type, n_classes=3, verbose = False)\n",
    "ftt = TabDLM('FTTransformer', task_type, n_classes=3, verbose = False)\n",
    "mlp.fit(X, Y)\n",
    "resnet.fit(X, Y)\n",
    "ftt.fit(X, Y)\n",
    "r2_score(mlp.predict(X), Y), r2_score(resnet.predict(X), Y), r2_score(ftt.predict(X), Y)"
   ]
  },
  {
   "cell_type": "code",
   "execution_count": null,
   "id": "2d7da045-2582-4dda-b24c-038d1da0cfa2",
   "metadata": {},
   "outputs": [],
   "source": [
    "dataset = sklearn.datasets.fetch_california_housing(as_frame = True)\n",
    "X: np.ndarray = dataset[\"data\"]\n",
    "Y: np.ndarray = dataset[\"target\"]\n",
    "task_type = 'regression'\n",
    "f = RegFeaturizer(depth=3, bit=False)\n",
    "#X = f.fit_transform(X, Y)\n",
    "mlp = TabDLM('MLP', task_type, verbose = False)\n",
    "resnet = TabDLM('ResNet', task_type, verbose = False)\n",
    "ftt = TabDLM('FTTransformer', task_type, verbose = False)\n",
    "mlp.fit(X, Y)\n",
    "resnet.fit(X, Y)\n",
    "ftt.fit(X, Y)\n",
    "r2_score(mlp.predict(X), Y), r2_score(resnet.predict(X), Y), r2_score(ftt.predict(X), Y)"
   ]
  },
  {
   "cell_type": "code",
   "execution_count": 6,
   "id": "8a11f505-c616-425e-8f43-21beb8af9b40",
   "metadata": {},
   "outputs": [],
   "source": [
    "dataset = sklearn.datasets.fetch_california_housing(as_frame = True)\n",
    "X: np.ndarray = dataset[\"data\"]\n",
    "Y: np.ndarray = dataset[\"target\"]"
   ]
  },
  {
   "cell_type": "code",
   "execution_count": 9,
   "id": "1c56f22a-3733-45aa-ace1-db2fb371a59c",
   "metadata": {},
   "outputs": [],
   "source": [
    "from sklearn.model_selection import train_test_split"
   ]
  },
  {
   "cell_type": "code",
   "execution_count": 10,
   "id": "4a2a7674-0faf-4c04-99ea-58c537d671ac",
   "metadata": {},
   "outputs": [],
   "source": [
    "X_train, X_val, Y_train, Y_val = train_test_split(X, Y, test_size =0.2, random_state = 0)"
   ]
  },
  {
   "cell_type": "code",
   "execution_count": 13,
   "id": "80df5091-5b69-4d39-8976-96eaa4976ea4",
   "metadata": {},
   "outputs": [
    {
     "data": {
      "text/plain": [
       "14740    1.369\n",
       "10101    2.413\n",
       "20566    2.007\n",
       "2670     0.725\n",
       "15709    4.600\n",
       "         ...  \n",
       "6655     1.695\n",
       "3505     2.046\n",
       "1919     1.286\n",
       "1450     2.595\n",
       "4148     1.676\n",
       "Name: MedHouseVal, Length: 4128, dtype: float64"
      ]
     },
     "execution_count": 13,
     "metadata": {},
     "output_type": "execute_result"
    }
   ],
   "source": [
    "Y_val"
   ]
  },
  {
   "cell_type": "code",
   "execution_count": 16,
   "id": "a256ed1c-bf2e-4aea-b8bc-da3e6e422a8c",
   "metadata": {},
   "outputs": [
    {
     "data": {
      "text/plain": [
       "pandas.core.series.Series"
      ]
     },
     "execution_count": 16,
     "metadata": {},
     "output_type": "execute_result"
    }
   ],
   "source": [
    "t = np.arange(5)\n",
    "type(pd.Series(t))"
   ]
  },
  {
   "cell_type": "code",
   "execution_count": null,
   "id": "e48be62e-0e42-4eed-ab1b-943236ceabf0",
   "metadata": {},
   "outputs": [],
   "source": []
  }
 ],
 "metadata": {
  "kernelspec": {
   "display_name": "Python 3 (ipykernel)",
   "language": "python",
   "name": "python3"
  },
  "language_info": {
   "codemirror_mode": {
    "name": "ipython",
    "version": 3
   },
   "file_extension": ".py",
   "mimetype": "text/x-python",
   "name": "python",
   "nbconvert_exporter": "python",
   "pygments_lexer": "ipython3",
   "version": "3.9.12"
  }
 },
 "nbformat": 4,
 "nbformat_minor": 5
}

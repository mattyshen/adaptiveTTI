{
 "cells": [
  {
   "cell_type": "code",
   "execution_count": null,
   "id": "0e04fa7b-c571-4821-84e6-97ec17915c03",
   "metadata": {},
   "outputs": [],
   "source": [
    "import sklearn.datasets\n",
    "import pandas as pd\n",
    "import numpy as np\n",
    "import torch.nn.functional as F\n",
    "import torch\n",
    "\n",
    "from featurizer import *\n",
    "import sklearn.model_selection\n",
    "from rtdl_revisiting_models import MLP, ResNet, FTTransformer\n",
    "from sklearn.metrics import r2_score, accuracy_score\n",
    "from imodels import FIGSRegressor, FIGSClassifier\n",
    "from imodels.importance import RandomForestPlusRegressor\n",
    "\n",
    "from tabdl import *\n",
    "\n",
    "import openml\n",
    "from ucimlrepo import fetch_ucirepo "
   ]
  },
  {
   "cell_type": "code",
   "execution_count": null,
   "id": "d8664746-abc4-42eb-9635-7dae9fb3e493",
   "metadata": {},
   "outputs": [],
   "source": [
    "from sklearn.datasets import fetch_california_housing\n",
    "from sklearn.model_selection import train_test_split\n",
    "\n",
    "# Load the California housing dataset\n",
    "concrete_compressive_strength = fetch_ucirepo(id=165) \n",
    "X = concrete_compressive_strength.data.features\n",
    "y = concrete_compressive_strength.data.targets[\"Concrete compressive strength\"]\n",
    "\n",
    "# Split the dataset into training and test sets\n",
    "X_train, X_test, y_train, y_test = train_test_split(X, y, test_size=0.2, random_state=42)\n",
    "\n",
    "# Print the shapes of the resulting splits\n",
    "print(f\"X_train shape: {X_train.shape}\")\n",
    "print(f\"X_test shape: {X_test.shape}\")\n",
    "print(f\"y_train shape: {y_train.shape}\")\n",
    "print(f\"y_test shape: {y_test.shape}\")\n"
   ]
  },
  {
   "cell_type": "code",
   "execution_count": null,
   "id": "343904ce-7fa0-4f4c-8291-23f108b700a1",
   "metadata": {},
   "outputs": [],
   "source": [
    "X['Blast Furnace Slag'].value_counts()"
   ]
  },
  {
   "cell_type": "code",
   "execution_count": null,
   "id": "a9006335-55aa-4f0e-97aa-8525ce25278d",
   "metadata": {},
   "outputs": [],
   "source": [
    "ft = RegFeaturizer(bit=0,empty_cat = 0)\n",
    "ft.fit(X_train, y_train)"
   ]
  },
  {
   "cell_type": "code",
   "execution_count": null,
   "id": "e45785bb-43d0-4611-8a3a-2f54365e8977",
   "metadata": {},
   "outputs": [],
   "source": [
    "ft.transform(X_train)"
   ]
  },
  {
   "cell_type": "code",
   "execution_count": null,
   "id": "f0e4a5f1-7f0c-43f2-acc1-9b39279544e7",
   "metadata": {},
   "outputs": [],
   "source": [
    "ft.feature_types"
   ]
  },
  {
   "cell_type": "code",
   "execution_count": null,
   "id": "2d466a9f-f2b2-4556-a5bf-260a36bc31de",
   "metadata": {},
   "outputs": [],
   "source": [
    "ft.maps"
   ]
  },
  {
   "cell_type": "code",
   "execution_count": null,
   "id": "37c08b53-5ea2-45d9-aaa6-cb1871b51d26",
   "metadata": {},
   "outputs": [],
   "source": []
  },
  {
   "cell_type": "code",
   "execution_count": null,
   "id": "84c03d02-992d-4c3d-bfa2-abf5e190aa52",
   "metadata": {},
   "outputs": [],
   "source": []
  }
 ],
 "metadata": {
  "kernelspec": {
   "display_name": "Python 3 (ipykernel)",
   "language": "python",
   "name": "python3"
  },
  "language_info": {
   "codemirror_mode": {
    "name": "ipython",
    "version": 3
   },
   "file_extension": ".py",
   "mimetype": "text/x-python",
   "name": "python",
   "nbconvert_exporter": "python",
   "pygments_lexer": "ipython3",
   "version": "3.9.12"
  }
 },
 "nbformat": 4,
 "nbformat_minor": 5
}

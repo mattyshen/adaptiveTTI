{
 "cells": [
  {
   "cell_type": "code",
   "execution_count": null,
   "id": "11fa10f9-0824-4437-ab50-b919dcab2305",
   "metadata": {},
   "outputs": [],
   "source": [
    "from mo_figs import *\n",
    "# from fourierDistill import *\n",
    "# from subset_predictors import *\n",
    "import numpy as np\n",
    "import pandas as pd\n",
    "from sklearn.metrics import accuracy_score, mean_squared_error\n",
    "from sklearn.linear_model import MultiTaskElasticNetCV, RidgeCV, MultiTaskElasticNet, LogisticRegressionCV\n",
    "\n",
    "from subset_predictors import L0L2RegressorCV\n",
    "from fourierDistill import *"
   ]
  },
  {
   "cell_type": "code",
   "execution_count": null,
   "id": "eb43d199-9e81-4eb5-acaa-b27aa67f5de5",
   "metadata": {},
   "outputs": [],
   "source": [
    "def load_csvs(path):\n",
    "\n",
    "    X_train = pd.read_csv(f'{path}/X_trainval.csv', index_col=0)\n",
    "    X_train_hat = pd.read_csv(f'{path}/X_trainval_hat.csv', index_col=0)\n",
    "    X_test = pd.read_csv(f'{path}/X_test.csv', index_col=0)\n",
    "    X_test_hat = pd.read_csv(f'{path}/X_test_hat.csv', index_col=0)\n",
    "    y_train = pd.read_csv(f'{path}/y_trainval.csv', index_col=0)\n",
    "    y_train_hat = pd.read_csv(f'{path}/y_trainval_hat.csv', index_col=0)\n",
    "    y_test = pd.read_csv(f'{path}/y_test.csv', index_col=0)\n",
    "    y_test_hat = pd.read_csv(f'{path}/y_test_hat.csv', index_col=0)\n",
    "\n",
    "    return X_train, X_train_hat, X_test, X_test_hat, y_train, y_train_hat, y_test, y_test_hat"
   ]
  },
  {
   "cell_type": "code",
   "execution_count": null,
   "id": "5929e414-91ba-480d-9f42-e580bca4c3dc",
   "metadata": {},
   "outputs": [],
   "source": [
    "X_train, X_train_hat, X_test, X_test_hat, y_train, y_train_hat, y_test, y_test_hat = load_csvs(f'/home/mattyshen/interpretableDistillation/interpretDistill/data/cbm_datasets/seed0_Joint0.01SigmoidModel__Seed1')"
   ]
  },
  {
   "cell_type": "code",
   "execution_count": null,
   "id": "bb1bd379-87dd-47ed-b00b-1b3362bc215c",
   "metadata": {},
   "outputs": [],
   "source": [
    "X_train_hat"
   ]
  },
  {
   "cell_type": "code",
   "execution_count": null,
   "id": "113f5ac2-b9d1-4b76-9374-f2b1907c9fd6",
   "metadata": {},
   "outputs": [],
   "source": [
    "ftd = FTDistillRegressorCV(pre_interaction='None', size_interactions=3, post_interaction='l0l2', post_max_features=3, mo=True, cv=1)"
   ]
  },
  {
   "cell_type": "code",
   "execution_count": null,
   "id": "59793cd6-5621-483b-a57c-f8e2a9c2bc1e",
   "metadata": {},
   "outputs": [],
   "source": [
    "ftd.pre_interaction_model"
   ]
  },
  {
   "cell_type": "code",
   "execution_count": null,
   "id": "475a797a-5835-4e64-8556-0df450b0338e",
   "metadata": {},
   "outputs": [],
   "source": [
    "sub = L0L2RegressorCV()"
   ]
  },
  {
   "cell_type": "code",
   "execution_count": null,
   "id": "28b3e97d-e588-41a6-959a-5e834d6a400a",
   "metadata": {},
   "outputs": [],
   "source": [
    "sub.fit(X_train_hat, y_train)"
   ]
  },
  {
   "cell_type": "code",
   "execution_count": null,
   "id": "f14e6a9e-5efe-40c4-b47e-ddba41631779",
   "metadata": {},
   "outputs": [],
   "source": [
    "ftd.fit((X_train_hat > 0.5).astype(int), y_train_hat)"
   ]
  },
  {
   "cell_type": "code",
   "execution_count": null,
   "id": "a3ff9351-1ef4-48b1-b796-198827c27d9d",
   "metadata": {},
   "outputs": [],
   "source": [
    "logreg = LogisticRegressionCV(Cs = np.arange(1, 6),l1_ratios=[0.5], cv=3, penalty='elasticnet', solver='saga', max_iter=100)"
   ]
  },
  {
   "cell_type": "code",
   "execution_count": null,
   "id": "b88f5b1d-bb06-4ae4-8e58-1439f46a8628",
   "metadata": {},
   "outputs": [],
   "source": [
    "logreg.fit(X_train_hat, y_train_hat.idxmax(axis=1).astype(int))"
   ]
  },
  {
   "cell_type": "code",
   "execution_count": null,
   "id": "4efb97f4-c958-4747-bacf-6ada48c45a3f",
   "metadata": {},
   "outputs": [],
   "source": [
    "accuracy_score(logreg.predict(X_train_hat), y_train_hat.idxmax(axis=1).astype(int))"
   ]
  },
  {
   "cell_type": "code",
   "execution_count": null,
   "id": "b59ff8ab-4dda-4ee3-954f-5313f535a158",
   "metadata": {},
   "outputs": [],
   "source": [
    "from sklearn.multioutput import MultiOutputRegressor"
   ]
  },
  {
   "cell_type": "code",
   "execution_count": null,
   "id": "b5290ee6-d976-457b-8ad2-4671af3283b6",
   "metadata": {},
   "outputs": [],
   "source": [
    "multi_l0l2 = MultiOutputRegressor(\n",
    "    L0L2RegressorCV(max_support_size = 5, cv=3)\n",
    ")"
   ]
  },
  {
   "cell_type": "code",
   "execution_count": null,
   "id": "8673bb29-d951-44f0-a6a2-11239f22d52e",
   "metadata": {},
   "outputs": [],
   "source": [
    "multi_l0l2.fit(X_train_hat, y_train_hat)"
   ]
  },
  {
   "cell_type": "code",
   "execution_count": null,
   "id": "000b0119-e54a-444e-a584-318093b35893",
   "metadata": {},
   "outputs": [],
   "source": [
    "accuracy_score(np.argmax(multi_l0l2.predict(X_test_hat), axis = 1), y_test_hat.idxmax(axis=1).astype(int))"
   ]
  },
  {
   "cell_type": "code",
   "execution_count": null,
   "id": "3fe792f4-a3e3-4ba1-9c70-588b18e4e5df",
   "metadata": {},
   "outputs": [],
   "source": [
    "EN = MultiTaskElasticNetCV(cv = 3, max_iter=100)"
   ]
  },
  {
   "cell_type": "code",
   "execution_count": null,
   "id": "1ef7abb6-227a-4478-84ec-ddfbd69699f7",
   "metadata": {},
   "outputs": [],
   "source": [
    "EN_fixed = MultiTaskElasticNet(alpha = 3, max_iter=100)"
   ]
  },
  {
   "cell_type": "code",
   "execution_count": null,
   "id": "e61603b0-a5bc-4441-9ed3-ad3035f76400",
   "metadata": {},
   "outputs": [],
   "source": [
    "Ridge = RidgeCV()"
   ]
  },
  {
   "cell_type": "code",
   "execution_count": null,
   "id": "612f3e7f-ef89-496b-892c-273208a36e98",
   "metadata": {},
   "outputs": [],
   "source": [
    "EN.fit(X_train_hat, y_train_hat)"
   ]
  },
  {
   "cell_type": "code",
   "execution_count": null,
   "id": "f5c2cf9a-5b29-4929-ae5d-d03916709508",
   "metadata": {},
   "outputs": [],
   "source": [
    "EN_fixed.fit(X_train_hat, y_train_hat)"
   ]
  },
  {
   "cell_type": "code",
   "execution_count": null,
   "id": "0b5af30f-a2a8-4d5d-b52d-867bcd225133",
   "metadata": {},
   "outputs": [],
   "source": [
    "Ridge.fit(X_train_hat, y_train_hat)"
   ]
  },
  {
   "cell_type": "code",
   "execution_count": null,
   "id": "12d335d4-8c15-4cbb-b461-187ca5b8e659",
   "metadata": {},
   "outputs": [],
   "source": [
    "np.sum(EN_fixed.coef_ == 0, axis = 1)"
   ]
  },
  {
   "cell_type": "code",
   "execution_count": null,
   "id": "5d21af74-be57-460f-a948-0fb9e2a3edd5",
   "metadata": {},
   "outputs": [],
   "source": [
    "np.where(EN_fixed.coef_ ==0)"
   ]
  },
  {
   "cell_type": "code",
   "execution_count": null,
   "id": "86f9390e-4407-4584-acdd-e5e6b371fd82",
   "metadata": {},
   "outputs": [],
   "source": [
    "plt.imshow(EN_fixed.coef_)"
   ]
  },
  {
   "cell_type": "code",
   "execution_count": null,
   "id": "9571c880-2c6d-4a6b-9727-67d3151307e0",
   "metadata": {},
   "outputs": [],
   "source": [
    "accuracy_score(EN.predict(X_test_hat).argmax(axis=1).astype(int), y_test_hat.idxmax(axis=1).astype(int))"
   ]
  },
  {
   "cell_type": "code",
   "execution_count": null,
   "id": "27b86555-20c4-48c8-98f7-6ec92ec7718e",
   "metadata": {},
   "outputs": [],
   "source": [
    "accuracy_score(EN_fixed.predict(X_test_hat).argmax(axis=1).astype(int), y_test_hat.idxmax(axis=1).astype(int))"
   ]
  },
  {
   "cell_type": "code",
   "execution_count": null,
   "id": "2187b2c9-740f-4435-86af-d35db36ea169",
   "metadata": {},
   "outputs": [],
   "source": [
    "accuracy_score(Ridge.predict(X_test_hat).argmax(axis=1).astype(int), y_test_hat.idxmax(axis=1).astype(int))"
   ]
  },
  {
   "cell_type": "code",
   "execution_count": null,
   "id": "f37bc6be-0147-48ee-affd-e12e1997358f",
   "metadata": {},
   "outputs": [],
   "source": [
    "mean_squared_error(y_train_hat.to_numpy(), Ridge.predict(X_train_hat)), mean_squared_error(y_test_hat.to_numpy(), Ridge.predict(X_test_hat))"
   ]
  },
  {
   "cell_type": "code",
   "execution_count": null,
   "id": "640fda8a-0856-4638-8b11-22f52cc14274",
   "metadata": {},
   "outputs": [],
   "source": [
    "accuracy_score(y_test_hat.idxmax(axis=1).astype(int), y_test)"
   ]
  },
  {
   "cell_type": "code",
   "execution_count": null,
   "id": "4d07c46d-e979-43e0-bc33-f9ac734d5f91",
   "metadata": {},
   "outputs": [],
   "source": [
    "y_train_hat.idxmax(axis=1).astype(int)"
   ]
  },
  {
   "cell_type": "code",
   "execution_count": null,
   "id": "68ac1220-3b99-465d-8459-0ca07042d9fb",
   "metadata": {},
   "outputs": [],
   "source": []
  }
 ],
 "metadata": {
  "kernelspec": {
   "display_name": "Python 3 (ipykernel)",
   "language": "python",
   "name": "python3"
  },
  "language_info": {
   "codemirror_mode": {
    "name": "ipython",
    "version": 3
   },
   "file_extension": ".py",
   "mimetype": "text/x-python",
   "name": "python",
   "nbconvert_exporter": "python",
   "pygments_lexer": "ipython3",
   "version": "3.9.12"
  }
 },
 "nbformat": 4,
 "nbformat_minor": 5
}

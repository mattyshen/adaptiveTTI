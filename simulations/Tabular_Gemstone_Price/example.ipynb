{
 "cells": [
  {
   "cell_type": "code",
   "execution_count": 1,
   "metadata": {},
   "outputs": [],
   "source": [
    "# ruff: noqa: E402\n",
    "import math\n",
    "import warnings\n",
    "from typing import Dict, Literal\n",
    "\n",
    "warnings.simplefilter(\"ignore\")\n",
    "import delu  # Deep Learning Utilities: https://github.com/Yura52/delu\n",
    "import numpy as np\n",
    "import pandas as pd\n",
    "import scipy.special\n",
    "import sklearn.datasets\n",
    "import sklearn.metrics\n",
    "import sklearn.model_selection\n",
    "import sklearn.preprocessing\n",
    "import torch\n",
    "import torch.nn.functional as F\n",
    "import torch.optim\n",
    "from torch import Tensor\n",
    "from tqdm.std import tqdm\n",
    "\n",
    "warnings.resetwarnings()\n",
    "\n",
    "from rtdl_revisiting_models import MLP, ResNet, FTTransformer"
   ]
  },
  {
   "cell_type": "code",
   "execution_count": 2,
   "metadata": {},
   "outputs": [
    {
     "data": {
      "text/plain": [
       "0"
      ]
     },
     "execution_count": 2,
     "metadata": {},
     "output_type": "execute_result"
    }
   ],
   "source": [
    "device = torch.device(\"cuda:0\" if torch.cuda.is_available() else \"cpu\")\n",
    "# Set random seeds in all libraries.\n",
    "delu.random.seed(0)"
   ]
  },
  {
   "cell_type": "markdown",
   "metadata": {},
   "source": [
    "## Dataset"
   ]
  },
  {
   "cell_type": "code",
   "execution_count": 3,
   "metadata": {},
   "outputs": [
    {
     "name": "stderr",
     "output_type": "stream",
     "text": [
      "/tmp/ipykernel_6529/432957109.py:20: SettingWithCopyWarning: \n",
      "A value is trying to be set on a copy of a slice from a DataFrame.\n",
      "Try using .loc[row_indexer,col_indexer] = value instead\n",
      "\n",
      "See the caveats in the documentation: https://pandas.pydata.org/pandas-docs/stable/user_guide/indexing.html#returning-a-view-versus-a-copy\n",
      "  X_cat[column] = label_encoder.fit_transform(X_cat[column]).astype(np.int64)\n",
      "/tmp/ipykernel_6529/432957109.py:20: SettingWithCopyWarning: \n",
      "A value is trying to be set on a copy of a slice from a DataFrame.\n",
      "Try using .loc[row_indexer,col_indexer] = value instead\n",
      "\n",
      "See the caveats in the documentation: https://pandas.pydata.org/pandas-docs/stable/user_guide/indexing.html#returning-a-view-versus-a-copy\n",
      "  X_cat[column] = label_encoder.fit_transform(X_cat[column]).astype(np.int64)\n"
     ]
    }
   ],
   "source": [
    "# >>> Dataset.\n",
    "TaskType = Literal[\"regression\", \"binclass\", \"multiclass\"]\n",
    "\n",
    "task_type: TaskType = \"regression\"\n",
    "n_classes = None\n",
    "dataset = pd.read_csv('/home/mattyshen/interpretableDistillation/simulations/Tabular_Gemstone_Price/data/train.csv').drop(columns =['id'])\n",
    "X: np.ndarray = dataset.drop(columns = ['price']) #.to_numpy()\n",
    "Y: np.ndarray = dataset['price'].to_numpy()\n",
    "\n",
    "# >>> Continuous features.\n",
    "X_cont: np.ndarray = X[['carat', 'depth', 'table', 'x', 'y', 'z']].to_numpy().astype(np.float32)\n",
    "n_cont_features = X_cont.shape[1]\n",
    "\n",
    "# >>> Categorical features.\n",
    "# NOTE: the above datasets do not have categorical features, but,\n",
    "# for the demonstration purposes, it is possible to generate them.\n",
    "X_cat = X[['cut', 'color']]\n",
    "for column in X_cat.columns:\n",
    "    label_encoder = sklearn.preprocessing.LabelEncoder()\n",
    "    X_cat[column] = label_encoder.fit_transform(X_cat[column]).astype(np.int64)\n",
    "    \n",
    "cat_cardinalities = [len(X_cat[c].value_counts()) for c in X_cat.columns]\n",
    "X_cat = X_cat.to_numpy().astype(np.int64)\n",
    "\n",
    "# >>> Labels.\n",
    "# Regression labels must be represented by float32.\n",
    "if task_type == \"regression\":\n",
    "    Y = Y.astype(np.float32)\n",
    "else:\n",
    "    assert n_classes is not None\n",
    "    Y = Y.astype(np.int64)\n",
    "    assert set(Y.tolist()) == set(\n",
    "        range(n_classes)\n",
    "    ), \"Classification labels must form the range [0, 1, ..., n_classes - 1]\"\n",
    "\n",
    "# >>> Split the dataset.\n",
    "all_idx = np.arange(len(Y))\n",
    "trainval_idx, test_idx = sklearn.model_selection.train_test_split(\n",
    "    all_idx, train_size=0.8, random_state = 0\n",
    ")\n",
    "train_idx, val_idx = sklearn.model_selection.train_test_split(\n",
    "    trainval_idx, train_size=0.8, random_state = 0\n",
    ")\n",
    "data_numpy = {\n",
    "    \"train\": {\"x_cont\": X_cont[train_idx], \"y\": Y[train_idx]},\n",
    "    \"val\": {\"x_cont\": X_cont[val_idx], \"y\": Y[val_idx]},\n",
    "    \"test\": {\"x_cont\": X_cont[test_idx], \"y\": Y[test_idx]},\n",
    "}\n",
    "if X_cat is not None:\n",
    "    data_numpy[\"train\"][\"x_cat\"] = X_cat[train_idx]\n",
    "    data_numpy[\"val\"][\"x_cat\"] = X_cat[val_idx]\n",
    "    data_numpy[\"test\"][\"x_cat\"] = X_cat[test_idx]"
   ]
  },
  {
   "cell_type": "markdown",
   "metadata": {},
   "source": [
    "## Preprocessing"
   ]
  },
  {
   "cell_type": "code",
   "execution_count": 4,
   "metadata": {},
   "outputs": [],
   "source": [
    "# >>> Feature preprocessing.\n",
    "# NOTE\n",
    "# The choice between preprocessing strategies depends on a task and a model.\n",
    "\n",
    "# (A) Simple preprocessing strategy.\n",
    "# preprocessing = sklearn.preprocessing.StandardScaler().fit(\n",
    "#     data_numpy['train']['x_cont']\n",
    "# )\n",
    "\n",
    "# (B) Fancy preprocessing strategy.\n",
    "# The noise is added to improve the output of QuantileTransformer in some cases.\n",
    "X_cont_train_numpy = data_numpy[\"train\"][\"x_cont\"]\n",
    "noise = (\n",
    "    np.random.default_rng(0)\n",
    "    .normal(0.0, 1e-5, X_cont_train_numpy.shape)\n",
    "    .astype(X_cont_train_numpy.dtype)\n",
    ")\n",
    "preprocessing = sklearn.preprocessing.QuantileTransformer(\n",
    "    n_quantiles=max(min(len(train_idx) // 30, 1000), 10),\n",
    "    output_distribution=\"normal\",\n",
    "    subsample=10**9,\n",
    ").fit(X_cont_train_numpy + noise)\n",
    "del X_cont_train_numpy\n",
    "\n",
    "for part in data_numpy:\n",
    "    data_numpy[part][\"x_cont\"] = preprocessing.transform(data_numpy[part][\"x_cont\"])\n",
    "\n",
    "# >>> Label preprocessing.\n",
    "if task_type == \"regression\":\n",
    "    Y_mean = data_numpy[\"train\"][\"y\"].mean().item()\n",
    "    Y_std = data_numpy[\"train\"][\"y\"].std().item()\n",
    "    for part in data_numpy:\n",
    "        data_numpy[part][\"y\"] = (data_numpy[part][\"y\"] - Y_mean) / Y_std\n",
    "\n",
    "# >>> Convert data to tensors.\n",
    "data = {\n",
    "    part: {k: torch.as_tensor(v, device=device) for k, v in data_numpy[part].items()}\n",
    "    for part in data_numpy\n",
    "}\n",
    "\n",
    "if X_cat is not None:\n",
    "    data[\"train\"][\"x_cat\"] = data[\"train\"][\"x_cat\"].to(torch.int64)\n",
    "    data[\"val\"][\"x_cat\"] = data[\"val\"][\"x_cat\"].to(torch.int64)\n",
    "    data[\"test\"][\"x_cat\"] = data[\"test\"][\"x_cat\"].to(torch.int64)\n",
    "\n",
    "if task_type != \"multiclass\":\n",
    "    # Required by F.binary_cross_entropy_with_logits\n",
    "    for part in data:\n",
    "        data[part][\"y\"] = data[part][\"y\"].float()"
   ]
  },
  {
   "cell_type": "markdown",
   "metadata": {},
   "source": [
    "## Model"
   ]
  },
  {
   "cell_type": "code",
   "execution_count": null,
   "metadata": {},
   "outputs": [],
   "source": [
    "# The output size.\n",
    "d_out = n_classes if task_type == \"multiclass\" else 1\n",
    "\n",
    "# # NOTE: uncomment to train MLP\n",
    "mlp = MLP(\n",
    "    d_in=n_cont_features + sum(cat_cardinalities),\n",
    "    d_out=d_out,\n",
    "    n_blocks=2,\n",
    "    d_block=384,\n",
    "    dropout=0.1,\n",
    ").to(device)\n",
    "mlp_optim = torch.optim.AdamW(mlp.parameters(), lr=3e-4, weight_decay=1e-5)\n",
    "\n",
    "# # NOTE: uncomment to train ResNet\n",
    "res = ResNet(\n",
    "    d_in=n_cont_features + sum(cat_cardinalities),\n",
    "    d_out=d_out,\n",
    "    n_blocks=2,\n",
    "    d_block=192,\n",
    "    d_hidden=None,\n",
    "    d_hidden_multiplier=2.0,\n",
    "    dropout1=0.3,\n",
    "    dropout2=0.0,\n",
    ").to(device)\n",
    "res_optim = torch.optim.AdamW(res.parameters(), lr=3e-4, weight_decay=1e-5)\n",
    "\n",
    "ftt = FTTransformer(\n",
    "    n_cont_features=n_cont_features,\n",
    "    cat_cardinalities=cat_cardinalities,\n",
    "    d_out=d_out,\n",
    "    **FTTransformer.get_default_kwargs(),\n",
    ").to(device)\n",
    "ftt_optim = ftt.make_default_optimizer()\n",
    "\n",
    "models = [mlp, res, ftt]\n",
    "optimizers = [mlp_optim, res_optim, ftt_optim]"
   ]
  },
  {
   "cell_type": "markdown",
   "metadata": {},
   "source": [
    "## Training"
   ]
  },
  {
   "cell_type": "code",
   "execution_count": null,
   "metadata": {},
   "outputs": [],
   "source": [
    "def apply_model(model, batch: Dict[str, Tensor]) -> Tensor:\n",
    "    if isinstance(model, (MLP, ResNet)):\n",
    "        x_cat_ohe = (\n",
    "            [\n",
    "                F.one_hot(column, cardinality)\n",
    "                for column, cardinality in zip(batch[\"x_cat\"].T, cat_cardinalities)\n",
    "            ]\n",
    "            if \"x_cat\" in batch\n",
    "            else []\n",
    "        )\n",
    "        return model(torch.column_stack([batch[\"x_cont\"]] + x_cat_ohe)).squeeze(-1)\n",
    "\n",
    "    elif isinstance(model, FTTransformer):\n",
    "        return model(batch[\"x_cont\"], batch.get(\"x_cat\")).squeeze(-1)\n",
    "\n",
    "    else:\n",
    "        raise RuntimeError(f\"Unknown model type: {type(model)}\")\n",
    "\n",
    "\n",
    "loss_fn = (\n",
    "    F.binary_cross_entropy_with_logits\n",
    "    if task_type == \"binclass\"\n",
    "    else F.cross_entropy\n",
    "    if task_type == \"multiclass\"\n",
    "    else F.mse_loss\n",
    ")\n",
    "\n",
    "\n",
    "@torch.no_grad()\n",
    "def evaluate(model, part: str, ret=False) -> float:\n",
    "    model.eval()\n",
    "\n",
    "    eval_batch_size = 8096\n",
    "    y_pred = (\n",
    "        torch.cat(\n",
    "            [\n",
    "                apply_model(model, batch)\n",
    "                for batch in delu.iter_batches(data[part], eval_batch_size)\n",
    "            ]\n",
    "        )\n",
    "        .cpu()\n",
    "        .numpy()\n",
    "    )\n",
    "    y_true = data[part][\"y\"].cpu().numpy()\n",
    "    if ret:\n",
    "        return y_pred\n",
    "\n",
    "    if task_type == \"binclass\":\n",
    "        y_pred = np.round(scipy.special.expit(y_pred))\n",
    "        score = sklearn.metrics.accuracy_score(y_true, y_pred)\n",
    "    elif task_type == \"multiclass\":\n",
    "        y_pred = y_pred.argmax(1)\n",
    "        score = sklearn.metrics.accuracy_score(y_true, y_pred)\n",
    "    else:\n",
    "        assert task_type == \"regression\"\n",
    "        score = -(sklearn.metrics.mean_squared_error(y_true, y_pred) ** 0.5 * Y_std)\n",
    "    return score  # The higher -- the better.\n",
    "\n",
    "\n",
    "#print(f'Test score before training: {evaluate(\"test\"):.4f}')\n",
    "print(f'MLP val score before training: {evaluate(mlp, \"val\"):.4f}')\n",
    "print(f'ResNet val score before training: {evaluate(res, \"val\"):.4f}')\n",
    "print(f'FTTransformer val score before training: {evaluate(ftt, \"val\"):.4f}')"
   ]
  },
  {
   "cell_type": "code",
   "execution_count": null,
   "metadata": {},
   "outputs": [],
   "source": [
    "data['train']['x_cont'].shape"
   ]
  },
  {
   "cell_type": "markdown",
   "metadata": {},
   "source": [
    "# For demonstration purposes (fast training and bad performance),\n",
    "# one can set smaller values:\n",
    "# n_epochs = 20\n",
    "# patience = 2\n",
    "model_names = ['mlp', 'resnet', 'fttransformer']\n",
    "n_epochs = 10\n",
    "patience = 16\n",
    "\n",
    "batch_size = 25000\n",
    "epoch_size = math.ceil(len(train_idx) / batch_size)\n",
    "timer = delu.tools.Timer()\n",
    "early_stoppings = [delu.tools.EarlyStopping(patience, mode=\"max\"), delu.tools.EarlyStopping(patience, mode=\"max\"), delu.tools.EarlyStopping(patience, mode=\"max\")]\n",
    "best = [{\"val\": -math.inf,\"epoch\": -1,}, {\"val\": -math.inf,\"epoch\": -1,}, {\"val\": -math.inf,\"epoch\": -1,}]\n",
    "\n",
    "print(f\"Device: {device.type.upper()}\")\n",
    "print(\"-\" * 88 + \"\\n\")\n",
    "timer.run()\n",
    "for epoch in range(n_epochs):\n",
    "    for batch in tqdm(\n",
    "        delu.iter_batches(data[\"train\"], batch_size, shuffle=True),\n",
    "        desc=f\"Epoch {epoch}\",\n",
    "        total=epoch_size,\n",
    "    ):\n",
    "        for model, optimizer in zip(models, optimizers):\n",
    "            model.train()\n",
    "            optimizer.zero_grad()\n",
    "            loss = loss_fn(apply_model(model, batch), batch[\"y\"])\n",
    "            loss.backward()\n",
    "            optimizer.step()\n",
    "    for i, (model, e_s) in enumerate(zip(models, early_stoppings)):\n",
    "        val_score = evaluate(model, \"val\")\n",
    "        print(f\"(val) {val_score:.4f} [time] {timer}\")\n",
    "\n",
    "        e_s.update(val_score)\n",
    "        if e_s.should_stop():\n",
    "            break\n",
    "\n",
    "        if val_score > best[i][\"val\"]:\n",
    "            #print(\"🌸 New best epoch! 🌸\")\n",
    "            best[i] = {\"val\": val_score, \"epoch\": epoch}\n",
    "            torch.save(model.state_dict(), f'models/{model_names[i]}_best_val')\n",
    "        print()\n",
    "\n",
    "print(\"\\n\\nResult:\")\n",
    "print(best)"
   ]
  },
  {
   "cell_type": "code",
   "execution_count": null,
   "metadata": {},
   "outputs": [],
   "source": [
    "defaults = [MLP(\n",
    "    d_in=n_cont_features + sum(cat_cardinalities),\n",
    "    d_out=d_out,\n",
    "    n_blocks=2,\n",
    "    d_block=384,\n",
    "    dropout=0.1,\n",
    "), ResNet(\n",
    "    d_in=n_cont_features + sum(cat_cardinalities),\n",
    "    d_out=d_out,\n",
    "    n_blocks=2,\n",
    "    d_block=192,\n",
    "    d_hidden=None,\n",
    "    d_hidden_multiplier=2.0,\n",
    "    dropout1=0.3,\n",
    "    dropout2=0.0,\n",
    "), FTTransformer(\n",
    "    n_cont_features=n_cont_features,\n",
    "    cat_cardinalities=cat_cardinalities,\n",
    "    d_out=d_out,\n",
    "    **FTTransformer.get_default_kwargs(),\n",
    ")]"
   ]
  },
  {
   "cell_type": "code",
   "execution_count": null,
   "metadata": {},
   "outputs": [],
   "source": [
    "import json\n",
    "for i, model in enumerate(models):\n",
    "    model_class = defaults[i]\n",
    "    model_class.load_state_dict(torch.load(f'models/{model_names[i]}_best_val'))\n",
    "    model_class = model_class.to(device)\n",
    "    model_data_preds = data_numpy.copy()\n",
    "    for k in model_data_preds.keys():\n",
    "        model_data_preds[k]['y_hat'] = evaluate(model_class, k, ret=True)\n",
    "        \n",
    "    for k in model_data_preds.keys():\n",
    "        for j in model_data_preds[k].keys():\n",
    "            if type(model_data_preds[k][j]) != type([2, 4]):\n",
    "                model_data_preds[k][j] = model_data_preds[k][j].tolist()\n",
    "            \n",
    "    with open(f'predictions/{model_names[i]}_data_predictions.json', 'w') as fp:\n",
    "        json.dump(model_data_preds, fp)"
   ]
  },
  {
   "cell_type": "code",
   "execution_count": 20,
   "metadata": {},
   "outputs": [
    {
     "data": {
      "text/plain": [
       "'/home/mattyshen/interpretableDistillation'"
      ]
     },
     "execution_count": 20,
     "metadata": {},
     "output_type": "execute_result"
    }
   ],
   "source": [
    "pwd"
   ]
  },
  {
   "cell_type": "code",
   "execution_count": 5,
   "metadata": {},
   "outputs": [],
   "source": [
    "import json\n",
    "\n",
    "with open('/home/mattyshen/interpretableDistillation/simulations/Tabular_Gemstone_Price/predictions/mlp_binary_data_predictions.json', 'r') as openfile:\n",
    "    mlp_dict = json.load(openfile)\n",
    "    \n",
    "with open('/home/mattyshen/interpretableDistillation/simulations/Tabular_Gemstone_Price/predictions/resnet_binary_data_predictions.json', 'r') as openfile:\n",
    "    res_dict = json.load(openfile)\n",
    "    \n",
    "with open('/home/mattyshen/interpretableDistillation/simulations/Tabular_Gemstone_Price/predictions/fttransformer_binary_data_predictions.json', 'r') as openfile:\n",
    "    tff_dict = json.load(openfile)"
   ]
  },
  {
   "cell_type": "code",
   "execution_count": 6,
   "metadata": {},
   "outputs": [],
   "source": [
    "import os\n",
    "\n",
    "os.chdir('/home/mattyshen/interpretableDistillation/')\n",
    "\n",
    "from interpretDistill.fourierDistill import FTDistill, FTDistillCV\n",
    "from interpretDistill.binaryTransformer import BinaryTransformer"
   ]
  },
  {
   "cell_type": "code",
   "execution_count": 14,
   "metadata": {},
   "outputs": [],
   "source": [
    "#ftd_val = FTDistillCV(selection = 'L1L2', lam1_range=np.array([0.1, 1, 10]), lam2_range=np.array([0.1, 1, 10]), size_interactions = 2)#$\n",
    "ftd_val = FTDistill(selection = 'L1L2', lam1 = 0.01, lam2 = 0.01)"
   ]
  },
  {
   "cell_type": "code",
   "execution_count": 9,
   "metadata": {},
   "outputs": [],
   "source": [
    "X_train = X.iloc[train_idx, :]\n",
    "y_train = pd.Series(tff_dict['train']['y_hat'], name = 'price')\n",
    "\n",
    "X_val = X.iloc[val_idx, :]\n",
    "y_val = pd.Series(tff_dict['val']['y_hat'], name = 'price')\n",
    "\n",
    "X_test = X.iloc[test_idx, :]\n",
    "y_test = pd.Series(tff_dict['test']['y_hat'], name = 'price')"
   ]
  },
  {
   "cell_type": "code",
   "execution_count": 16,
   "metadata": {},
   "outputs": [],
   "source": [
    "bt_val = BinaryTransformer(depth=1, bit = False)\n",
    "#X_val_bv = bt_val.fit_and_transform(X_val, y_val)\n",
    "X_train_bv = bt_val.fit_and_transform(X_train, pd.Series(tff_dict['train']['y'], name = 'price'))\n",
    "X_val_bv = bt_val.transform(X_val)\n",
    "# X_val = bt.fit_and_transform(X_val, y_val)\n",
    "# X_train = bt.transform(X_train)\n",
    "X_test_bv = bt_val.transform(X_test)"
   ]
  },
  {
   "cell_type": "code",
   "execution_count": 17,
   "metadata": {},
   "outputs": [
    {
     "name": "stdout",
     "output_type": "stream",
     "text": [
      "poly fitted\n",
      "regression model fitting\n",
      "(30972, 41449)\n"
     ]
    },
    {
     "data": {
      "text/plain": [
       "<interpretDistill.fourierDistill.FTDistill at 0x7f4c736b1610>"
      ]
     },
     "execution_count": 17,
     "metadata": {},
     "output_type": "execute_result"
    }
   ],
   "source": [
    "ftd_val.fit(X_val_bv, y_val)"
   ]
  },
  {
   "cell_type": "code",
   "execution_count": 18,
   "metadata": {},
   "outputs": [
    {
     "data": {
      "text/plain": [
       "(0.0015440662018384038, 64)"
      ]
     },
     "execution_count": 18,
     "metadata": {},
     "output_type": "execute_result"
    }
   ],
   "source": [
    "np.mean(ftd_val.regression_model.coef_ != 0), np.sum(ftd_val.regression_model.coef_ != 0)"
   ]
  },
  {
   "cell_type": "code",
   "execution_count": 19,
   "metadata": {},
   "outputs": [],
   "source": [
    "def filter_strings(strings, bool_array, weight):\n",
    "    filtered_strings = []\n",
    "    for string, boolean, w in zip(strings, bool_array, weight):\n",
    "        if boolean:\n",
    "            filtered_strings.append((string, w*Y_std + Y_mean))\n",
    "    return filtered_strings"
   ]
  },
  {
   "cell_type": "code",
   "execution_count": 20,
   "metadata": {},
   "outputs": [
    {
     "data": {
      "text/plain": [
       "[(('clarity_IF', 'cut_Fair'), 3964.122284620108),\n",
       " (('clarity_IF', 'cut_Fair', 'color_F'), 3964.407704374141),\n",
       " (('clarity_IF', 'cut_Fair', 'y_1'), 3966.338731236759),\n",
       " (('clarity_IF', 'cut_Fair', 'y_2'), 3962.6406334502244),\n",
       " (('clarity_IF', 'carat_2', 'cut_Fair', 'carat_1'), 3964.4168406199224),\n",
       " (('clarity_SI2', 'cut_Fair', 'cut_Premium', 'color_H'), 3960.0457229346666),\n",
       " (('cut_Very', 'cut_Fair', 'Good', 'color_D', 'color_H'), 3956.600537665268),\n",
       " (('color_J', 'cut_Fair', 'clarity_VS2', 'color_D'), 3964.1608317614478),\n",
       " (('clarity_IF', 'cut_Fair', 'clarity_VS1', 'color_D'), 3958.1835297845646),\n",
       " (('clarity_IF', 'cut_Fair', 'color_F', 'x_1'), 3964.260394582576),\n",
       " (('clarity_IF', 'cut_Fair', 'x_2', 'color_F'), 3964.310516618364),\n",
       " (('clarity_IF', 'cut_Fair', 'color_F', 'y_1'), 3964.1780706276736),\n",
       " (('clarity_IF', 'y_2', 'cut_Fair', 'color_F'), 3965.51982333822),\n",
       " (('clarity_IF', 'cut_Fair', 'depth_2', 'depth_1'), 3964.9770095274257),\n",
       " (('clarity_IF', 'cut_Fair', 'table_2', 'table_1'), 3964.3176955702843),\n",
       " (('clarity_IF', 'cut_Fair', 'x_2', 'x_1'), 3966.186451191849),\n",
       " (('clarity_IF', 'cut_Fair', 'y_2', 'y_1'), 3980.7188219720356),\n",
       " (('clarity_IF', 'z_1', 'z_2', 'cut_Fair'), 3972.476938986118),\n",
       " (('clarity_SI2', 'cut_Fair', 'clarity_VVS2', 'depth_1'), 3959.879517603604),\n",
       " (('clarity_SI2', 'depth_2', 'cut_Fair', 'clarity_VVS2'), 3965.137711748274),\n",
       " (('clarity_VVS2', 'cut_Good', 'color_F', 'table_1'), 3966.4420410174694),\n",
       " (('clarity_VVS2', 'cut_Good', 'color_F', 'table_2'), 3958.4921517034545),\n",
       " (('color_I', 'clarity_VVS2', 'cut_Good', 'depth_1'), 3960.020045492142),\n",
       " (('color_I', 'clarity_VVS2', 'depth_2', 'cut_Good'), 3973.7116297210214),\n",
       " (('clarity_I1', 'table_1', 'cut_Good', 'clarity_VS2'), 3965.661435655295),\n",
       " (('clarity_I1', 'table_2', 'cut_Good', 'clarity_VS2'), 3957.0247460252594),\n",
       " (('color_E', 'clarity_SI2', 'color_H', 'cut_Ideal'), 3965.7069831854265),\n",
       " (('clarity_VVS2', 'color_E', 'cut_Ideal', 'depth_1'), 3962.3802228209474),\n",
       " (('clarity_VVS2', 'color_E', 'depth_2', 'cut_Ideal'), 3964.5383616276777),\n",
       " (('color_I', 'clarity_VVS1', 'cut_Ideal', 'color_F'), 3959.454587396),\n",
       " (('depth_1', 'cut_Very', 'cut_Premium', 'clarity_VVS2', 'Good'),\n",
       "  3968.841822671046),\n",
       " (('cut_Very', 'cut_Premium', 'clarity_VVS2', 'depth_2', 'Good'),\n",
       "  3957.150785977723),\n",
       " (('color_G', 'cut_Premium', 'clarity_VS2', 'color_F'), 3957.2786578046184),\n",
       " (('clarity_VVS2', 'clarity_SI2', 'cut_Premium', 'color_H'), 3958.69035336907),\n",
       " (('color_J', 'cut_Premium', 'clarity_VVS2', 'table_1'), 3964.744988390879),\n",
       " (('color_J', 'cut_Premium', 'clarity_VVS2', 'table_2'), 3962.2106017321867),\n",
       " (('depth_1', 'cut_Very', 'Good', 'clarity_VS1', 'color_I'),\n",
       "  3966.5909024977464),\n",
       " (('cut_Very', 'depth_2', 'Good', 'clarity_VS1', 'color_I'),\n",
       "  3964.071678557301),\n",
       " (('clarity_VS2', 'depth_1', 'cut_Very', 'Good', 'clarity_VS1'),\n",
       "  3964.4353038795666),\n",
       " (('clarity_VS2', 'cut_Very', 'depth_2', 'Good', 'clarity_VS1'),\n",
       "  3962.7674946741226),\n",
       " (('depth_1', 'cut_Very', 'clarity_VVS2', 'Good', 'clarity_VS1'),\n",
       "  3965.340139033),\n",
       " (('cut_Very', 'clarity_VVS2', 'depth_2', 'Good', 'clarity_VS1'),\n",
       "  3962.6305067902595),\n",
       " (('clarity_VVS2', 'depth_1', 'clarity_VS2', 'color_D'), 3963.960637458001),\n",
       " (('clarity_VVS2', 'depth_2', 'clarity_VS2', 'color_D'), 3965.8313540343343),\n",
       " (('depth_1', 'table_1', 'clarity_VVS2', 'color_D'), 3968.317316188826),\n",
       " (('depth_1', 'table_2', 'clarity_VVS2', 'color_D'), 3964.075250871153),\n",
       " (('table_1', 'depth_2', 'clarity_VVS2', 'color_D'), 3964.262624510723),\n",
       " (('depth_2', 'table_2', 'clarity_VVS2', 'color_D'), 3964.716839525776),\n",
       " (('color_I', 'color_E', 'clarity_SI2', 'clarity_VVS1'), 3967.1235093586433),\n",
       " (('clarity_SI1', 'color_E', 'color_J', 'depth_1'), 3957.670774602698),\n",
       " (('clarity_SI1', 'color_E', 'color_J', 'depth_2'), 3966.5251879929388),\n",
       " (('clarity_IF', 'color_J', 'clarity_VVS2', 'color_F'), 3963.938901201129),\n",
       " (('color_I', 'clarity_SI1', 'depth_1', 'clarity_VS1'), 3965.757630547051),\n",
       " (('color_I', 'clarity_SI1', 'depth_2', 'clarity_VS1'), 3964.148386481132),\n",
       " (('clarity_IF', 'color_J', 'clarity_VVS2', 'depth_1'), 3957.305008579371),\n",
       " (('clarity_IF', 'depth_2', 'color_J', 'clarity_VVS2'), 3965.207555867163),\n",
       " (('clarity_SI1', 'table_1', 'clarity_VS2', 'depth_1'), 3964.2855887826104),\n",
       " (('clarity_SI1', 'table_2', 'clarity_VS2', 'depth_1'), 3964.293755318797),\n",
       " (('clarity_SI1', 'depth_2', 'clarity_VS2', 'table_1'), 3964.4377736377637),\n",
       " (('clarity_SI1', 'depth_2', 'clarity_VS2', 'table_2'), 3962.6376772056024),\n",
       " (('clarity_VVS1', 'clarity_SI2', 'table_1', 'depth_1'), 3974.1501274263737),\n",
       " (('clarity_VVS1', 'clarity_SI2', 'table_2', 'depth_1'), 3963.4435849897955),\n",
       " (('clarity_VVS1', 'clarity_SI2', 'depth_2', 'table_1'), 3962.7459907936195),\n",
       " (('clarity_VVS1', 'clarity_SI2', 'depth_2', 'table_2'), 3964.7419442529476)]"
      ]
     },
     "execution_count": 20,
     "metadata": {},
     "output_type": "execute_result"
    }
   ],
   "source": [
    "filter_strings(ftd_val.features, list(ftd_val.regression_model.coef_ != 0), ftd_val.regression_model.coef_)"
   ]
  },
  {
   "cell_type": "code",
   "execution_count": 21,
   "metadata": {},
   "outputs": [
    {
     "ename": "NameError",
     "evalue": "name 'mean_squared_error' is not defined",
     "output_type": "error",
     "traceback": [
      "\u001b[0;31m---------------------------------------------------------------------------\u001b[0m",
      "\u001b[0;31mNameError\u001b[0m                                 Traceback (most recent call last)",
      "Input \u001b[0;32mIn [21]\u001b[0m, in \u001b[0;36m<cell line: 1>\u001b[0;34m()\u001b[0m\n\u001b[0;32m----> 1\u001b[0m \u001b[43mmean_squared_error\u001b[49m(ftd_val\u001b[38;5;241m.\u001b[39mpredict(X_val_bv), y_val)\n",
      "\u001b[0;31mNameError\u001b[0m: name 'mean_squared_error' is not defined"
     ]
    }
   ],
   "source": [
    "mean_squared_error(ftd_val.predict(X_val_bv), y_val)"
   ]
  },
  {
   "cell_type": "code",
   "execution_count": null,
   "metadata": {},
   "outputs": [],
   "source": [
    "mean_squared_error(ftd_val.predict(X_val_bv), y_val.to_numpy())"
   ]
  },
  {
   "cell_type": "code",
   "execution_count": null,
   "metadata": {},
   "outputs": [],
   "source": [
    "mean_squared_error(np.array(mlp_dict['val']['y_hat'])*Y_std + Y_mean, y_val.to_numpy()*Y_std + Y_mean)"
   ]
  },
  {
   "cell_type": "code",
   "execution_count": 22,
   "metadata": {},
   "outputs": [
    {
     "name": "stderr",
     "output_type": "stream",
     "text": [
      "/home/mattyshen/anaconda3/lib/python3.9/site-packages/pandas/core/dtypes/cast.py:1841: DeprecationWarning: np.find_common_type is deprecated.  Please use `np.result_type` or `np.promote_types`.\n",
      "See https://numpy.org/devdocs/release/1.25.0-notes.html and the docs for more information.  (Deprecated NumPy 1.25)\n",
      "  return np.find_common_type(types, [])\n"
     ]
    },
    {
     "data": {
      "text/html": [
       "<div>\n",
       "<style scoped>\n",
       "    .dataframe tbody tr th:only-of-type {\n",
       "        vertical-align: middle;\n",
       "    }\n",
       "\n",
       "    .dataframe tbody tr th {\n",
       "        vertical-align: top;\n",
       "    }\n",
       "\n",
       "    .dataframe thead th {\n",
       "        text-align: right;\n",
       "    }\n",
       "</style>\n",
       "<table border=\"1\" class=\"dataframe\">\n",
       "  <thead>\n",
       "    <tr style=\"text-align: right;\">\n",
       "      <th></th>\n",
       "      <th>model</th>\n",
       "      <th>train</th>\n",
       "      <th>val</th>\n",
       "      <th>test</th>\n",
       "    </tr>\n",
       "  </thead>\n",
       "  <tbody>\n",
       "    <tr>\n",
       "      <th>0</th>\n",
       "      <td>mlp</td>\n",
       "      <td>4.881051e+06</td>\n",
       "      <td>4.890721e+06</td>\n",
       "      <td>4.965528e+06</td>\n",
       "    </tr>\n",
       "    <tr>\n",
       "      <th>1</th>\n",
       "      <td>resent</td>\n",
       "      <td>4.888593e+06</td>\n",
       "      <td>4.891446e+06</td>\n",
       "      <td>4.967253e+06</td>\n",
       "    </tr>\n",
       "    <tr>\n",
       "      <th>2</th>\n",
       "      <td>fttransformer</td>\n",
       "      <td>4.908055e+06</td>\n",
       "      <td>4.897881e+06</td>\n",
       "      <td>4.969716e+06</td>\n",
       "    </tr>\n",
       "    <tr>\n",
       "      <th>3</th>\n",
       "      <td>ftdistill</td>\n",
       "      <td>1.109209e+07</td>\n",
       "      <td>1.096270e+07</td>\n",
       "      <td>1.119337e+07</td>\n",
       "    </tr>\n",
       "  </tbody>\n",
       "</table>\n",
       "</div>"
      ],
      "text/plain": [
       "           model         train           val          test\n",
       "0            mlp  4.881051e+06  4.890721e+06  4.965528e+06\n",
       "1         resent  4.888593e+06  4.891446e+06  4.967253e+06\n",
       "2  fttransformer  4.908055e+06  4.897881e+06  4.969716e+06\n",
       "3      ftdistill  1.109209e+07  1.096270e+07  1.119337e+07"
      ]
     },
     "execution_count": 22,
     "metadata": {},
     "output_type": "execute_result"
    }
   ],
   "source": [
    "from sklearn.metrics import mean_squared_error\n",
    "mse = pd.DataFrame()\n",
    "mse['model'] = ['mlp', 'resent', 'fttransformer', 'ftdistill']\n",
    "mse['train'] = [mean_squared_error(np.array(mlp_dict['train']['y'])*Y_std + Y_mean, np.array(mlp_dict['train']['y_hat'])*Y_std + Y_mean),\n",
    "               mean_squared_error(np.array(res_dict['train']['y'])*Y_std + Y_mean, np.array(res_dict['train']['y_hat'])*Y_std + Y_mean),\n",
    "               mean_squared_error(np.array(tff_dict['train']['y'])*Y_std + Y_mean, np.array(tff_dict['train']['y_hat'])*Y_std + Y_mean),\n",
    "                mean_squared_error(ftd_val.predict(X_train_bv)*Y_std + Y_mean, np.array(tff_dict['train']['y_hat'])*Y_std + Y_mean)]\n",
    "mse['val'] = [mean_squared_error(np.array(mlp_dict['val']['y'])*Y_std + Y_mean, np.array(mlp_dict['val']['y_hat'])*Y_std + Y_mean),\n",
    "               mean_squared_error(np.array(res_dict['val']['y'])*Y_std + Y_mean, np.array(res_dict['val']['y_hat'])*Y_std + Y_mean),\n",
    "               mean_squared_error(np.array(tff_dict['val']['y'])*Y_std + Y_mean, np.array(tff_dict['val']['y_hat'])*Y_std + Y_mean),\n",
    "              mean_squared_error(ftd_val.predict(X_val_bv)*Y_std + Y_mean, np.array(tff_dict['val']['y_hat'])*Y_std + Y_mean)]\n",
    "mse['test'] = [mean_squared_error(np.array(mlp_dict['test']['y'])*Y_std + Y_mean, np.array(mlp_dict['test']['y_hat'])*Y_std + Y_mean),\n",
    "               mean_squared_error(np.array(res_dict['test']['y'])*Y_std + Y_mean, np.array(res_dict['test']['y_hat'])*Y_std + Y_mean),\n",
    "               mean_squared_error(np.array(tff_dict['test']['y'])*Y_std + Y_mean, np.array(tff_dict['test']['y_hat'])*Y_std + Y_mean),\n",
    "               mean_squared_error(ftd_val.predict(X_test_bv)*Y_std + Y_mean, np.array(tff_dict['test']['y_hat'])*Y_std + Y_mean)]\n",
    "mse"
   ]
  },
  {
   "cell_type": "code",
   "execution_count": 35,
   "metadata": {},
   "outputs": [
    {
     "name": "stderr",
     "output_type": "stream",
     "text": [
      "/home/mattyshen/anaconda3/lib/python3.9/site-packages/pandas/core/dtypes/cast.py:1841: DeprecationWarning: np.find_common_type is deprecated.  Please use `np.result_type` or `np.promote_types`.\n",
      "See https://numpy.org/devdocs/release/1.25.0-notes.html and the docs for more information.  (Deprecated NumPy 1.25)\n",
      "  return np.find_common_type(types, [])\n"
     ]
    },
    {
     "data": {
      "text/html": [
       "<div>\n",
       "<style scoped>\n",
       "    .dataframe tbody tr th:only-of-type {\n",
       "        vertical-align: middle;\n",
       "    }\n",
       "\n",
       "    .dataframe tbody tr th {\n",
       "        vertical-align: top;\n",
       "    }\n",
       "\n",
       "    .dataframe thead th {\n",
       "        text-align: right;\n",
       "    }\n",
       "</style>\n",
       "<table border=\"1\" class=\"dataframe\">\n",
       "  <thead>\n",
       "    <tr style=\"text-align: right;\">\n",
       "      <th></th>\n",
       "      <th>model</th>\n",
       "      <th>train</th>\n",
       "      <th>val</th>\n",
       "      <th>test</th>\n",
       "    </tr>\n",
       "  </thead>\n",
       "  <tbody>\n",
       "    <tr>\n",
       "      <th>0</th>\n",
       "      <td>mlp</td>\n",
       "      <td>0.699325</td>\n",
       "      <td>0.696151</td>\n",
       "      <td>0.696386</td>\n",
       "    </tr>\n",
       "    <tr>\n",
       "      <th>1</th>\n",
       "      <td>resent</td>\n",
       "      <td>0.698860</td>\n",
       "      <td>0.696106</td>\n",
       "      <td>0.696280</td>\n",
       "    </tr>\n",
       "    <tr>\n",
       "      <th>2</th>\n",
       "      <td>fttransformer</td>\n",
       "      <td>0.697661</td>\n",
       "      <td>0.695707</td>\n",
       "      <td>0.696130</td>\n",
       "    </tr>\n",
       "    <tr>\n",
       "      <th>3</th>\n",
       "      <td>ftdistill</td>\n",
       "      <td>-8423.180429</td>\n",
       "      <td>-8224.389672</td>\n",
       "      <td>-8449.435473</td>\n",
       "    </tr>\n",
       "  </tbody>\n",
       "</table>\n",
       "</div>"
      ],
      "text/plain": [
       "           model        train          val         test\n",
       "0            mlp     0.699325     0.696151     0.696386\n",
       "1         resent     0.698860     0.696106     0.696280\n",
       "2  fttransformer     0.697661     0.695707     0.696130\n",
       "3      ftdistill -8423.180429 -8224.389672 -8449.435473"
      ]
     },
     "execution_count": 35,
     "metadata": {},
     "output_type": "execute_result"
    }
   ],
   "source": [
    "from sklearn.metrics import r2_score\n",
    "r2 = pd.DataFrame()\n",
    "r2['model'] = ['mlp', 'resent', 'fttransformer', 'ftdistill']\n",
    "r2['train'] = [r2_score(np.array(mlp_dict['train']['y'])*Y_std + Y_mean, np.array(mlp_dict['train']['y_hat'])*Y_std + Y_mean),\n",
    "               r2_score(np.array(res_dict['train']['y'])*Y_std + Y_mean, np.array(res_dict['train']['y_hat'])*Y_std + Y_mean),\n",
    "               r2_score(np.array(tff_dict['train']['y'])*Y_std + Y_mean, np.array(tff_dict['train']['y_hat'])*Y_std + Y_mean),\n",
    "              r2_score(ftd_val.predict(X_train_bv)*Y_std + Y_mean, np.array(tff_dict['train']['y_hat'])*Y_std + Y_mean)]\n",
    "r2['val'] = [r2_score(np.array(mlp_dict['val']['y'])*Y_std + Y_mean, np.array(mlp_dict['val']['y_hat'])*Y_std + Y_mean),\n",
    "               r2_score(np.array(res_dict['val']['y'])*Y_std + Y_mean, np.array(res_dict['val']['y_hat'])*Y_std + Y_mean),\n",
    "               r2_score(np.array(tff_dict['val']['y'])*Y_std + Y_mean, np.array(tff_dict['val']['y_hat'])*Y_std + Y_mean),\n",
    "            r2_score(ftd_val.predict(X_val_bv)*Y_std + Y_mean, np.array(tff_dict['val']['y_hat'])*Y_std + Y_mean)]\n",
    "r2['test'] = [r2_score(np.array(mlp_dict['test']['y'])*Y_std + Y_mean, np.array(mlp_dict['test']['y_hat'])*Y_std + Y_mean),\n",
    "               r2_score(np.array(res_dict['test']['y'])*Y_std + Y_mean, np.array(res_dict['test']['y_hat'])*Y_std + Y_mean),\n",
    "               r2_score(np.array(tff_dict['test']['y'])*Y_std + Y_mean, np.array(tff_dict['test']['y_hat'])*Y_std + Y_mean),\n",
    "                r2_score(ftd_val.predict(X_test_bv)*Y_std + Y_mean, np.array(tff_dict['test']['y_hat'])*Y_std + Y_mean)]\n",
    "r2"
   ]
  },
  {
   "cell_type": "code",
   "execution_count": null,
   "metadata": {},
   "outputs": [],
   "source": []
  }
 ],
 "metadata": {
  "kernelspec": {
   "display_name": "Python 3 (ipykernel)",
   "language": "python",
   "name": "python3"
  },
  "language_info": {
   "codemirror_mode": {
    "name": "ipython",
    "version": 3
   },
   "file_extension": ".py",
   "mimetype": "text/x-python",
   "name": "python",
   "nbconvert_exporter": "python",
   "pygments_lexer": "ipython3",
   "version": "3.9.12"
  }
 },
 "nbformat": 4,
 "nbformat_minor": 4
}

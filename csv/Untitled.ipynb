{
 "cells": [
  {
   "cell_type": "code",
   "execution_count": 1,
   "id": "ae782a0e-b8a1-4e4d-8861-17bffaedf277",
   "metadata": {
    "tags": []
   },
   "outputs": [],
   "source": [
    "import l0learn"
   ]
  },
  {
   "cell_type": "code",
   "execution_count": null,
   "id": "e253143a-6ba9-4fce-8e6d-597838a26855",
   "metadata": {},
   "outputs": [],
   "source": []
  }
 ],
 "metadata": {
  "kernelspec": {
   "display_name": "python3.8",
   "language": "python",
   "name": "python3.8"
  },
  "language_info": {
   "codemirror_mode": {
    "name": "ipython",
    "version": 3
   },
   "file_extension": ".py",
   "mimetype": "text/x-python",
   "name": "python",
   "nbconvert_exporter": "python",
   "pygments_lexer": "ipython3",
   "version": "3.8.12"
  }
 },
 "nbformat": 4,
 "nbformat_minor": 5
}

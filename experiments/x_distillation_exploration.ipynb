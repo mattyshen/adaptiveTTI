{
 "cells": [
  {
   "cell_type": "code",
   "execution_count": 188,
   "id": "61bda6b7-bf16-49e3-a799-07537c66b2ea",
   "metadata": {},
   "outputs": [],
   "source": [
    "import random\n",
    "import numpy as np\n",
    "import pandas as pd\n",
    "import matplotlib.pyplot as plt\n",
    "from sklearn.metrics import accuracy_score, mean_squared_error, r2_score, f1_score, precision_recall_curve\n",
    "from sklearn.model_selection import train_test_split\n",
    "from sklearn.datasets import load_breast_cancer, load_wine\n",
    "from ucimlrepo import fetch_ucirepo\n",
    "import torch\n",
    "import sys\n",
    "import openml\n",
    "from idistill.whitebox_figs import FIGSRegressorCV, FIGSRegressor\n"
   ]
  },
  {
   "cell_type": "code",
   "execution_count": 166,
   "id": "d43544ec-8cb5-4cec-a2e1-045fb13ccc40",
   "metadata": {},
   "outputs": [],
   "source": [
    "d = fetch_ucirepo(id=697)\n",
    "X = d.data.features\n",
    "y = d.data.targets"
   ]
  },
  {
   "cell_type": "code",
   "execution_count": 167,
   "id": "270b3c8d-e20e-4777-a164-3657f5e8d391",
   "metadata": {},
   "outputs": [
    {
     "data": {
      "text/plain": [
       "0       0\n",
       "1       1\n",
       "2       0\n",
       "3       1\n",
       "4       1\n",
       "       ..\n",
       "4419    1\n",
       "4420    0\n",
       "4421    0\n",
       "4422    1\n",
       "4423    1\n",
       "Name: Target, Length: 4424, dtype: int64"
      ]
     },
     "execution_count": 167,
     "metadata": {},
     "output_type": "execute_result"
    }
   ],
   "source": [
    "y = y.Target.map({'Dropout':0,'Graduate':1, 'Enrolled':2})\n",
    "y"
   ]
  },
  {
   "cell_type": "code",
   "execution_count": 168,
   "id": "79e00da9-970d-4be8-bc6c-f2e158313993",
   "metadata": {},
   "outputs": [
    {
     "data": {
      "text/plain": [
       "((2964, 36), (1460, 36))"
      ]
     },
     "execution_count": 168,
     "metadata": {},
     "output_type": "execute_result"
    }
   ],
   "source": [
    "X_train, X_test, y_train, y_test = train_test_split(X, y, test_size=0.33, random_state=42)\n",
    "X_train.shape, X_test.shape"
   ]
  },
  {
   "cell_type": "code",
   "execution_count": 169,
   "id": "2d3d4224-4769-4a76-b0d3-e2a215e00945",
   "metadata": {},
   "outputs": [
    {
     "name": "stdout",
     "output_type": "stream",
     "text": [
      "Accuracy 0.7705479452054794\n"
     ]
    }
   ],
   "source": [
    "# Initialize a classifier\n",
    "clf = TabPFNClassifier(ignore_pretraining_limits=True)\n",
    "clf.fit(X_train, y_train)\n",
    "\n",
    "# # Predict probabilities\n",
    "# prediction_probabilities = clf.predict_proba(X_test)\n",
    "# print(\"ROC AUC:\", roc_auc_score(y_test, prediction_probabilities[:, 1]))\n",
    "\n",
    "# Predict labels\n",
    "predictions = clf.predict(X_test)\n",
    "print(\"Accuracy\", accuracy_score(y_test, predictions))"
   ]
  },
  {
   "cell_type": "code",
   "execution_count": 170,
   "id": "3a1b7fd8-53ed-42bb-ac05-c5418ab101c5",
   "metadata": {},
   "outputs": [],
   "source": [
    "y_train_preds = clf.predict_proba(X_train)"
   ]
  },
  {
   "cell_type": "code",
   "execution_count": 184,
   "id": "80ee6aa2-7674-4916-af8b-1687d1bb0d46",
   "metadata": {},
   "outputs": [
    {
     "data": {
      "text/plain": [
       "0.8451417004048583"
      ]
     },
     "execution_count": 184,
     "metadata": {},
     "output_type": "execute_result"
    }
   ],
   "source": [
    "accuracy_score(np.argmax(y_train_preds, axis = 1), y_train)"
   ]
  },
  {
   "cell_type": "code",
   "execution_count": 172,
   "id": "75fe60b5-84e2-4a2d-a474-3a501a37232c",
   "metadata": {},
   "outputs": [
    {
     "data": {
      "text/html": [
       "<style>#sk-container-id-19 {\n",
       "  /* Definition of color scheme common for light and dark mode */\n",
       "  --sklearn-color-text: black;\n",
       "  --sklearn-color-line: gray;\n",
       "  /* Definition of color scheme for unfitted estimators */\n",
       "  --sklearn-color-unfitted-level-0: #fff5e6;\n",
       "  --sklearn-color-unfitted-level-1: #f6e4d2;\n",
       "  --sklearn-color-unfitted-level-2: #ffe0b3;\n",
       "  --sklearn-color-unfitted-level-3: chocolate;\n",
       "  /* Definition of color scheme for fitted estimators */\n",
       "  --sklearn-color-fitted-level-0: #f0f8ff;\n",
       "  --sklearn-color-fitted-level-1: #d4ebff;\n",
       "  --sklearn-color-fitted-level-2: #b3dbfd;\n",
       "  --sklearn-color-fitted-level-3: cornflowerblue;\n",
       "\n",
       "  /* Specific color for light theme */\n",
       "  --sklearn-color-text-on-default-background: var(--sg-text-color, var(--theme-code-foreground, var(--jp-content-font-color1, black)));\n",
       "  --sklearn-color-background: var(--sg-background-color, var(--theme-background, var(--jp-layout-color0, white)));\n",
       "  --sklearn-color-border-box: var(--sg-text-color, var(--theme-code-foreground, var(--jp-content-font-color1, black)));\n",
       "  --sklearn-color-icon: #696969;\n",
       "\n",
       "  @media (prefers-color-scheme: dark) {\n",
       "    /* Redefinition of color scheme for dark theme */\n",
       "    --sklearn-color-text-on-default-background: var(--sg-text-color, var(--theme-code-foreground, var(--jp-content-font-color1, white)));\n",
       "    --sklearn-color-background: var(--sg-background-color, var(--theme-background, var(--jp-layout-color0, #111)));\n",
       "    --sklearn-color-border-box: var(--sg-text-color, var(--theme-code-foreground, var(--jp-content-font-color1, white)));\n",
       "    --sklearn-color-icon: #878787;\n",
       "  }\n",
       "}\n",
       "\n",
       "#sk-container-id-19 {\n",
       "  color: var(--sklearn-color-text);\n",
       "}\n",
       "\n",
       "#sk-container-id-19 pre {\n",
       "  padding: 0;\n",
       "}\n",
       "\n",
       "#sk-container-id-19 input.sk-hidden--visually {\n",
       "  border: 0;\n",
       "  clip: rect(1px 1px 1px 1px);\n",
       "  clip: rect(1px, 1px, 1px, 1px);\n",
       "  height: 1px;\n",
       "  margin: -1px;\n",
       "  overflow: hidden;\n",
       "  padding: 0;\n",
       "  position: absolute;\n",
       "  width: 1px;\n",
       "}\n",
       "\n",
       "#sk-container-id-19 div.sk-dashed-wrapped {\n",
       "  border: 1px dashed var(--sklearn-color-line);\n",
       "  margin: 0 0.4em 0.5em 0.4em;\n",
       "  box-sizing: border-box;\n",
       "  padding-bottom: 0.4em;\n",
       "  background-color: var(--sklearn-color-background);\n",
       "}\n",
       "\n",
       "#sk-container-id-19 div.sk-container {\n",
       "  /* jupyter's `normalize.less` sets `[hidden] { display: none; }`\n",
       "     but bootstrap.min.css set `[hidden] { display: none !important; }`\n",
       "     so we also need the `!important` here to be able to override the\n",
       "     default hidden behavior on the sphinx rendered scikit-learn.org.\n",
       "     See: https://github.com/scikit-learn/scikit-learn/issues/21755 */\n",
       "  display: inline-block !important;\n",
       "  position: relative;\n",
       "}\n",
       "\n",
       "#sk-container-id-19 div.sk-text-repr-fallback {\n",
       "  display: none;\n",
       "}\n",
       "\n",
       "div.sk-parallel-item,\n",
       "div.sk-serial,\n",
       "div.sk-item {\n",
       "  /* draw centered vertical line to link estimators */\n",
       "  background-image: linear-gradient(var(--sklearn-color-text-on-default-background), var(--sklearn-color-text-on-default-background));\n",
       "  background-size: 2px 100%;\n",
       "  background-repeat: no-repeat;\n",
       "  background-position: center center;\n",
       "}\n",
       "\n",
       "/* Parallel-specific style estimator block */\n",
       "\n",
       "#sk-container-id-19 div.sk-parallel-item::after {\n",
       "  content: \"\";\n",
       "  width: 100%;\n",
       "  border-bottom: 2px solid var(--sklearn-color-text-on-default-background);\n",
       "  flex-grow: 1;\n",
       "}\n",
       "\n",
       "#sk-container-id-19 div.sk-parallel {\n",
       "  display: flex;\n",
       "  align-items: stretch;\n",
       "  justify-content: center;\n",
       "  background-color: var(--sklearn-color-background);\n",
       "  position: relative;\n",
       "}\n",
       "\n",
       "#sk-container-id-19 div.sk-parallel-item {\n",
       "  display: flex;\n",
       "  flex-direction: column;\n",
       "}\n",
       "\n",
       "#sk-container-id-19 div.sk-parallel-item:first-child::after {\n",
       "  align-self: flex-end;\n",
       "  width: 50%;\n",
       "}\n",
       "\n",
       "#sk-container-id-19 div.sk-parallel-item:last-child::after {\n",
       "  align-self: flex-start;\n",
       "  width: 50%;\n",
       "}\n",
       "\n",
       "#sk-container-id-19 div.sk-parallel-item:only-child::after {\n",
       "  width: 0;\n",
       "}\n",
       "\n",
       "/* Serial-specific style estimator block */\n",
       "\n",
       "#sk-container-id-19 div.sk-serial {\n",
       "  display: flex;\n",
       "  flex-direction: column;\n",
       "  align-items: center;\n",
       "  background-color: var(--sklearn-color-background);\n",
       "  padding-right: 1em;\n",
       "  padding-left: 1em;\n",
       "}\n",
       "\n",
       "\n",
       "/* Toggleable style: style used for estimator/Pipeline/ColumnTransformer box that is\n",
       "clickable and can be expanded/collapsed.\n",
       "- Pipeline and ColumnTransformer use this feature and define the default style\n",
       "- Estimators will overwrite some part of the style using the `sk-estimator` class\n",
       "*/\n",
       "\n",
       "/* Pipeline and ColumnTransformer style (default) */\n",
       "\n",
       "#sk-container-id-19 div.sk-toggleable {\n",
       "  /* Default theme specific background. It is overwritten whether we have a\n",
       "  specific estimator or a Pipeline/ColumnTransformer */\n",
       "  background-color: var(--sklearn-color-background);\n",
       "}\n",
       "\n",
       "/* Toggleable label */\n",
       "#sk-container-id-19 label.sk-toggleable__label {\n",
       "  cursor: pointer;\n",
       "  display: block;\n",
       "  width: 100%;\n",
       "  margin-bottom: 0;\n",
       "  padding: 0.5em;\n",
       "  box-sizing: border-box;\n",
       "  text-align: center;\n",
       "}\n",
       "\n",
       "#sk-container-id-19 label.sk-toggleable__label-arrow:before {\n",
       "  /* Arrow on the left of the label */\n",
       "  content: \"▸\";\n",
       "  float: left;\n",
       "  margin-right: 0.25em;\n",
       "  color: var(--sklearn-color-icon);\n",
       "}\n",
       "\n",
       "#sk-container-id-19 label.sk-toggleable__label-arrow:hover:before {\n",
       "  color: var(--sklearn-color-text);\n",
       "}\n",
       "\n",
       "/* Toggleable content - dropdown */\n",
       "\n",
       "#sk-container-id-19 div.sk-toggleable__content {\n",
       "  max-height: 0;\n",
       "  max-width: 0;\n",
       "  overflow: hidden;\n",
       "  text-align: left;\n",
       "  /* unfitted */\n",
       "  background-color: var(--sklearn-color-unfitted-level-0);\n",
       "}\n",
       "\n",
       "#sk-container-id-19 div.sk-toggleable__content.fitted {\n",
       "  /* fitted */\n",
       "  background-color: var(--sklearn-color-fitted-level-0);\n",
       "}\n",
       "\n",
       "#sk-container-id-19 div.sk-toggleable__content pre {\n",
       "  margin: 0.2em;\n",
       "  border-radius: 0.25em;\n",
       "  color: var(--sklearn-color-text);\n",
       "  /* unfitted */\n",
       "  background-color: var(--sklearn-color-unfitted-level-0);\n",
       "}\n",
       "\n",
       "#sk-container-id-19 div.sk-toggleable__content.fitted pre {\n",
       "  /* unfitted */\n",
       "  background-color: var(--sklearn-color-fitted-level-0);\n",
       "}\n",
       "\n",
       "#sk-container-id-19 input.sk-toggleable__control:checked~div.sk-toggleable__content {\n",
       "  /* Expand drop-down */\n",
       "  max-height: 200px;\n",
       "  max-width: 100%;\n",
       "  overflow: auto;\n",
       "}\n",
       "\n",
       "#sk-container-id-19 input.sk-toggleable__control:checked~label.sk-toggleable__label-arrow:before {\n",
       "  content: \"▾\";\n",
       "}\n",
       "\n",
       "/* Pipeline/ColumnTransformer-specific style */\n",
       "\n",
       "#sk-container-id-19 div.sk-label input.sk-toggleable__control:checked~label.sk-toggleable__label {\n",
       "  color: var(--sklearn-color-text);\n",
       "  background-color: var(--sklearn-color-unfitted-level-2);\n",
       "}\n",
       "\n",
       "#sk-container-id-19 div.sk-label.fitted input.sk-toggleable__control:checked~label.sk-toggleable__label {\n",
       "  background-color: var(--sklearn-color-fitted-level-2);\n",
       "}\n",
       "\n",
       "/* Estimator-specific style */\n",
       "\n",
       "/* Colorize estimator box */\n",
       "#sk-container-id-19 div.sk-estimator input.sk-toggleable__control:checked~label.sk-toggleable__label {\n",
       "  /* unfitted */\n",
       "  background-color: var(--sklearn-color-unfitted-level-2);\n",
       "}\n",
       "\n",
       "#sk-container-id-19 div.sk-estimator.fitted input.sk-toggleable__control:checked~label.sk-toggleable__label {\n",
       "  /* fitted */\n",
       "  background-color: var(--sklearn-color-fitted-level-2);\n",
       "}\n",
       "\n",
       "#sk-container-id-19 div.sk-label label.sk-toggleable__label,\n",
       "#sk-container-id-19 div.sk-label label {\n",
       "  /* The background is the default theme color */\n",
       "  color: var(--sklearn-color-text-on-default-background);\n",
       "}\n",
       "\n",
       "/* On hover, darken the color of the background */\n",
       "#sk-container-id-19 div.sk-label:hover label.sk-toggleable__label {\n",
       "  color: var(--sklearn-color-text);\n",
       "  background-color: var(--sklearn-color-unfitted-level-2);\n",
       "}\n",
       "\n",
       "/* Label box, darken color on hover, fitted */\n",
       "#sk-container-id-19 div.sk-label.fitted:hover label.sk-toggleable__label.fitted {\n",
       "  color: var(--sklearn-color-text);\n",
       "  background-color: var(--sklearn-color-fitted-level-2);\n",
       "}\n",
       "\n",
       "/* Estimator label */\n",
       "\n",
       "#sk-container-id-19 div.sk-label label {\n",
       "  font-family: monospace;\n",
       "  font-weight: bold;\n",
       "  display: inline-block;\n",
       "  line-height: 1.2em;\n",
       "}\n",
       "\n",
       "#sk-container-id-19 div.sk-label-container {\n",
       "  text-align: center;\n",
       "}\n",
       "\n",
       "/* Estimator-specific */\n",
       "#sk-container-id-19 div.sk-estimator {\n",
       "  font-family: monospace;\n",
       "  border: 1px dotted var(--sklearn-color-border-box);\n",
       "  border-radius: 0.25em;\n",
       "  box-sizing: border-box;\n",
       "  margin-bottom: 0.5em;\n",
       "  /* unfitted */\n",
       "  background-color: var(--sklearn-color-unfitted-level-0);\n",
       "}\n",
       "\n",
       "#sk-container-id-19 div.sk-estimator.fitted {\n",
       "  /* fitted */\n",
       "  background-color: var(--sklearn-color-fitted-level-0);\n",
       "}\n",
       "\n",
       "/* on hover */\n",
       "#sk-container-id-19 div.sk-estimator:hover {\n",
       "  /* unfitted */\n",
       "  background-color: var(--sklearn-color-unfitted-level-2);\n",
       "}\n",
       "\n",
       "#sk-container-id-19 div.sk-estimator.fitted:hover {\n",
       "  /* fitted */\n",
       "  background-color: var(--sklearn-color-fitted-level-2);\n",
       "}\n",
       "\n",
       "/* Specification for estimator info (e.g. \"i\" and \"?\") */\n",
       "\n",
       "/* Common style for \"i\" and \"?\" */\n",
       "\n",
       ".sk-estimator-doc-link,\n",
       "a:link.sk-estimator-doc-link,\n",
       "a:visited.sk-estimator-doc-link {\n",
       "  float: right;\n",
       "  font-size: smaller;\n",
       "  line-height: 1em;\n",
       "  font-family: monospace;\n",
       "  background-color: var(--sklearn-color-background);\n",
       "  border-radius: 1em;\n",
       "  height: 1em;\n",
       "  width: 1em;\n",
       "  text-decoration: none !important;\n",
       "  margin-left: 1ex;\n",
       "  /* unfitted */\n",
       "  border: var(--sklearn-color-unfitted-level-1) 1pt solid;\n",
       "  color: var(--sklearn-color-unfitted-level-1);\n",
       "}\n",
       "\n",
       ".sk-estimator-doc-link.fitted,\n",
       "a:link.sk-estimator-doc-link.fitted,\n",
       "a:visited.sk-estimator-doc-link.fitted {\n",
       "  /* fitted */\n",
       "  border: var(--sklearn-color-fitted-level-1) 1pt solid;\n",
       "  color: var(--sklearn-color-fitted-level-1);\n",
       "}\n",
       "\n",
       "/* On hover */\n",
       "div.sk-estimator:hover .sk-estimator-doc-link:hover,\n",
       ".sk-estimator-doc-link:hover,\n",
       "div.sk-label-container:hover .sk-estimator-doc-link:hover,\n",
       ".sk-estimator-doc-link:hover {\n",
       "  /* unfitted */\n",
       "  background-color: var(--sklearn-color-unfitted-level-3);\n",
       "  color: var(--sklearn-color-background);\n",
       "  text-decoration: none;\n",
       "}\n",
       "\n",
       "div.sk-estimator.fitted:hover .sk-estimator-doc-link.fitted:hover,\n",
       ".sk-estimator-doc-link.fitted:hover,\n",
       "div.sk-label-container:hover .sk-estimator-doc-link.fitted:hover,\n",
       ".sk-estimator-doc-link.fitted:hover {\n",
       "  /* fitted */\n",
       "  background-color: var(--sklearn-color-fitted-level-3);\n",
       "  color: var(--sklearn-color-background);\n",
       "  text-decoration: none;\n",
       "}\n",
       "\n",
       "/* Span, style for the box shown on hovering the info icon */\n",
       ".sk-estimator-doc-link span {\n",
       "  display: none;\n",
       "  z-index: 9999;\n",
       "  position: relative;\n",
       "  font-weight: normal;\n",
       "  right: .2ex;\n",
       "  padding: .5ex;\n",
       "  margin: .5ex;\n",
       "  width: min-content;\n",
       "  min-width: 20ex;\n",
       "  max-width: 50ex;\n",
       "  color: var(--sklearn-color-text);\n",
       "  box-shadow: 2pt 2pt 4pt #999;\n",
       "  /* unfitted */\n",
       "  background: var(--sklearn-color-unfitted-level-0);\n",
       "  border: .5pt solid var(--sklearn-color-unfitted-level-3);\n",
       "}\n",
       "\n",
       ".sk-estimator-doc-link.fitted span {\n",
       "  /* fitted */\n",
       "  background: var(--sklearn-color-fitted-level-0);\n",
       "  border: var(--sklearn-color-fitted-level-3);\n",
       "}\n",
       "\n",
       ".sk-estimator-doc-link:hover span {\n",
       "  display: block;\n",
       "}\n",
       "\n",
       "/* \"?\"-specific style due to the `<a>` HTML tag */\n",
       "\n",
       "#sk-container-id-19 a.estimator_doc_link {\n",
       "  float: right;\n",
       "  font-size: 1rem;\n",
       "  line-height: 1em;\n",
       "  font-family: monospace;\n",
       "  background-color: var(--sklearn-color-background);\n",
       "  border-radius: 1rem;\n",
       "  height: 1rem;\n",
       "  width: 1rem;\n",
       "  text-decoration: none;\n",
       "  /* unfitted */\n",
       "  color: var(--sklearn-color-unfitted-level-1);\n",
       "  border: var(--sklearn-color-unfitted-level-1) 1pt solid;\n",
       "}\n",
       "\n",
       "#sk-container-id-19 a.estimator_doc_link.fitted {\n",
       "  /* fitted */\n",
       "  border: var(--sklearn-color-fitted-level-1) 1pt solid;\n",
       "  color: var(--sklearn-color-fitted-level-1);\n",
       "}\n",
       "\n",
       "/* On hover */\n",
       "#sk-container-id-19 a.estimator_doc_link:hover {\n",
       "  /* unfitted */\n",
       "  background-color: var(--sklearn-color-unfitted-level-3);\n",
       "  color: var(--sklearn-color-background);\n",
       "  text-decoration: none;\n",
       "}\n",
       "\n",
       "#sk-container-id-19 a.estimator_doc_link.fitted:hover {\n",
       "  /* fitted */\n",
       "  background-color: var(--sklearn-color-fitted-level-3);\n",
       "}\n",
       "</style><div id=\"sk-container-id-19\" class=\"sk-top-container\"><div class=\"sk-text-repr-fallback\"><pre>XGBRegressor(base_score=None, booster=None, callbacks=None,\n",
       "             colsample_bylevel=None, colsample_bynode=None,\n",
       "             colsample_bytree=None, early_stopping_rounds=None,\n",
       "             enable_categorical=False, eval_metric=None, feature_types=None,\n",
       "             gamma=None, gpu_id=None, grow_policy=None, importance_type=None,\n",
       "             interaction_constraints=None, learning_rate=None, max_bin=None,\n",
       "             max_cat_threshold=None, max_cat_to_onehot=None,\n",
       "             max_delta_step=None, max_depth=3, max_leaves=None,\n",
       "             min_child_weight=None, missing=nan, monotone_constraints=None,\n",
       "             n_estimators=20, n_jobs=None, num_parallel_tree=None,\n",
       "             predictor=None, random_state=None, ...)</pre><b>In a Jupyter environment, please rerun this cell to show the HTML representation or trust the notebook. <br />On GitHub, the HTML representation is unable to render, please try loading this page with nbviewer.org.</b></div><div class=\"sk-container\" hidden><div class=\"sk-item\"><div class=\"sk-estimator fitted sk-toggleable\"><input class=\"sk-toggleable__control sk-hidden--visually\" id=\"sk-estimator-id-19\" type=\"checkbox\" checked><label for=\"sk-estimator-id-19\" class=\"sk-toggleable__label fitted sk-toggleable__label-arrow fitted\">&nbsp;XGBRegressor<span class=\"sk-estimator-doc-link fitted\">i<span>Fitted</span></span></label><div class=\"sk-toggleable__content fitted\"><pre>XGBRegressor(base_score=None, booster=None, callbacks=None,\n",
       "             colsample_bylevel=None, colsample_bynode=None,\n",
       "             colsample_bytree=None, early_stopping_rounds=None,\n",
       "             enable_categorical=False, eval_metric=None, feature_types=None,\n",
       "             gamma=None, gpu_id=None, grow_policy=None, importance_type=None,\n",
       "             interaction_constraints=None, learning_rate=None, max_bin=None,\n",
       "             max_cat_threshold=None, max_cat_to_onehot=None,\n",
       "             max_delta_step=None, max_depth=3, max_leaves=None,\n",
       "             min_child_weight=None, missing=nan, monotone_constraints=None,\n",
       "             n_estimators=20, n_jobs=None, num_parallel_tree=None,\n",
       "             predictor=None, random_state=None, ...)</pre></div> </div></div></div></div>"
      ],
      "text/plain": [
       "XGBRegressor(base_score=None, booster=None, callbacks=None,\n",
       "             colsample_bylevel=None, colsample_bynode=None,\n",
       "             colsample_bytree=None, early_stopping_rounds=None,\n",
       "             enable_categorical=False, eval_metric=None, feature_types=None,\n",
       "             gamma=None, gpu_id=None, grow_policy=None, importance_type=None,\n",
       "             interaction_constraints=None, learning_rate=None, max_bin=None,\n",
       "             max_cat_threshold=None, max_cat_to_onehot=None,\n",
       "             max_delta_step=None, max_depth=3, max_leaves=None,\n",
       "             min_child_weight=None, missing=nan, monotone_constraints=None,\n",
       "             n_estimators=20, n_jobs=None, num_parallel_tree=None,\n",
       "             predictor=None, random_state=None, ...)"
      ]
     },
     "execution_count": 172,
     "metadata": {},
     "output_type": "execute_result"
    }
   ],
   "source": [
    "figs = FIGSRegressor(max_rules = 100, max_trees = 20, max_depth = 3, min_impurity_decrease=0.0001)\n",
    "x = xgb.XGBRegressor(n_estimators = 20, max_depth=3)\n",
    "figs.fit(X_train, y_train_preds)\n",
    "x.fit(X_train, y_train_preds)"
   ]
  },
  {
   "cell_type": "code",
   "execution_count": 187,
   "id": "bc647f07-1267-4bf4-8eb8-7077d4c71529",
   "metadata": {},
   "outputs": [
    {
     "data": {
      "text/plain": [
       "(64, 20)"
      ]
     },
     "execution_count": 187,
     "metadata": {},
     "output_type": "execute_result"
    }
   ],
   "source": [
    "figs.complexity_, len(figs.trees_)"
   ]
  },
  {
   "cell_type": "code",
   "execution_count": 174,
   "id": "ed6bbccf-e988-4f6d-afd4-193fc4537577",
   "metadata": {},
   "outputs": [
    {
     "data": {
      "text/plain": [
       "0.9143049932523617"
      ]
     },
     "execution_count": 174,
     "metadata": {},
     "output_type": "execute_result"
    }
   ],
   "source": [
    "accuracy_score(np.argmax(y_train_preds, axis = 1), np.argmax(figs.predict(X_train), axis = 1))"
   ]
  },
  {
   "cell_type": "code",
   "execution_count": 185,
   "id": "5f0dae8c-c434-4720-9fba-2cdafd6c5ce4",
   "metadata": {},
   "outputs": [
    {
     "data": {
      "text/plain": [
       "0.786774628879892"
      ]
     },
     "execution_count": 185,
     "metadata": {},
     "output_type": "execute_result"
    }
   ],
   "source": [
    "accuracy_score(y_train, np.argmax(figs.predict(X_train), axis = 1))"
   ]
  },
  {
   "cell_type": "code",
   "execution_count": 176,
   "id": "ee03e745-aa39-416c-8f66-83a36cde03e7",
   "metadata": {},
   "outputs": [
    {
     "data": {
      "text/plain": [
       "0.7486301369863013"
      ]
     },
     "execution_count": 176,
     "metadata": {},
     "output_type": "execute_result"
    }
   ],
   "source": [
    "accuracy_score(y_test, np.argmax(figs.predict(X_test), axis = 1))"
   ]
  },
  {
   "cell_type": "code",
   "execution_count": 177,
   "id": "daf83b7f-c8b3-4050-8395-6f727c437028",
   "metadata": {},
   "outputs": [
    {
     "data": {
      "text/plain": [
       "0.9164383561643835"
      ]
     },
     "execution_count": 177,
     "metadata": {},
     "output_type": "execute_result"
    }
   ],
   "source": [
    "accuracy_score(predictions, np.argmax(figs.predict(X_test), axis = 1))"
   ]
  },
  {
   "cell_type": "code",
   "execution_count": 178,
   "id": "781c0c32-1d70-46a9-b9d9-df07291ab42c",
   "metadata": {},
   "outputs": [
    {
     "data": {
      "text/plain": [
       "0.9166666666666666"
      ]
     },
     "execution_count": 178,
     "metadata": {},
     "output_type": "execute_result"
    }
   ],
   "source": [
    "#xgb\n",
    "accuracy_score(np.argmax(y_train_preds, axis = 1), np.argmax(x.predict(X_train), axis = 1))"
   ]
  },
  {
   "cell_type": "code",
   "execution_count": 186,
   "id": "ead5dda2-bff5-4283-b754-610228239e46",
   "metadata": {},
   "outputs": [
    {
     "data": {
      "text/plain": [
       "0.7901484480431848"
      ]
     },
     "execution_count": 186,
     "metadata": {},
     "output_type": "execute_result"
    }
   ],
   "source": [
    "accuracy_score(y_train, np.argmax(x.predict(X_train), axis = 1))"
   ]
  },
  {
   "cell_type": "code",
   "execution_count": 179,
   "id": "62b400e7-408e-4928-912b-03647add3481",
   "metadata": {},
   "outputs": [
    {
     "data": {
      "text/plain": [
       "0.7568493150684932"
      ]
     },
     "execution_count": 179,
     "metadata": {},
     "output_type": "execute_result"
    }
   ],
   "source": [
    "accuracy_score(y_test, np.argmax(x.predict(X_test), axis = 1))"
   ]
  },
  {
   "cell_type": "code",
   "execution_count": 180,
   "id": "cac5ce6c-b23f-4f9c-809a-d4a1ca9592f4",
   "metadata": {},
   "outputs": [
    {
     "data": {
      "text/plain": [
       "0.9191780821917809"
      ]
     },
     "execution_count": 180,
     "metadata": {},
     "output_type": "execute_result"
    }
   ],
   "source": [
    "accuracy_score(predictions, np.argmax(x.predict(X_test), axis = 1))"
   ]
  },
  {
   "cell_type": "code",
   "execution_count": 181,
   "id": "e844a708-8733-41e1-adcd-d7f066ae19e9",
   "metadata": {},
   "outputs": [
    {
     "name": "stdout",
     "output_type": "stream",
     "text": [
      "417 0.15347721822541965\n"
     ]
    }
   ],
   "source": [
    "num_rules = 0\n",
    "trees = x.get_booster().get_dump(with_stats=True)\n",
    "\n",
    "for tree in trees:\n",
    "    num_rules += len([line for line in tree.splitlines() if 'leaf=' not in line])\n",
    "\n",
    "print(num_rules, figs.complexity_/num_rules)"
   ]
  },
  {
   "cell_type": "code",
   "execution_count": 182,
   "id": "10defc6c-a56e-4677-8d07-39125ddeb1b9",
   "metadata": {},
   "outputs": [
    {
     "data": {
      "text/plain": [
       "(64, 20)"
      ]
     },
     "execution_count": 182,
     "metadata": {},
     "output_type": "execute_result"
    }
   ],
   "source": [
    "figs.complexity_, len(figs.trees_)"
   ]
  },
  {
   "cell_type": "code",
   "execution_count": 129,
   "id": "953323c0-1b53-430f-8b57-b1b1254e3756",
   "metadata": {},
   "outputs": [
    {
     "data": {
      "text/plain": [
       "array([[4.44500292e-05, 9.99951601e-01, 3.99124974e-06],\n",
       "       [9.10958217e-04, 9.99036431e-01, 5.26039912e-05],\n",
       "       [9.99973834e-01, 2.09885402e-05, 5.16762066e-06],\n",
       "       [3.95135976e-05, 9.99941111e-01, 1.93853775e-05],\n",
       "       [3.46737988e-06, 9.99989390e-01, 7.12690507e-06],\n",
       "       [4.51598316e-04, 9.99541640e-01, 6.77389289e-06],\n",
       "       [3.55625139e-06, 6.17750993e-06, 9.99990284e-01],\n",
       "       [3.01912928e-06, 4.18654410e-04, 9.99578357e-01],\n",
       "       [9.99967992e-01, 3.08880408e-05, 1.11585007e-06],\n",
       "       [1.41482424e-05, 9.99972701e-01, 1.31836887e-05],\n",
       "       [3.74329784e-06, 1.82660253e-04, 9.99813616e-01],\n",
       "       [3.76009302e-06, 1.46144575e-05, 9.99981642e-01],\n",
       "       [2.72068253e-04, 9.73517776e-01, 2.62101833e-02],\n",
       "       [1.81058794e-03, 9.98148441e-01, 4.09310815e-05],\n",
       "       [9.99801397e-01, 1.95370842e-04, 3.16726209e-06],\n",
       "       [1.55526377e-05, 9.99982238e-01, 2.22830408e-06],\n",
       "       [6.80231051e-06, 6.83423481e-04, 9.99309719e-01],\n",
       "       [2.62354934e-06, 5.78151608e-04, 9.99419212e-01],\n",
       "       [2.75356998e-03, 9.97020960e-01, 2.25465235e-04],\n",
       "       [2.79422125e-06, 4.57103397e-06, 9.99992669e-01],\n",
       "       [3.67550238e-04, 9.99502063e-01, 1.30396336e-04],\n",
       "       [7.70481347e-06, 9.99987721e-01, 4.63474908e-06],\n",
       "       [1.08455042e-05, 9.99978423e-01, 1.07495080e-05],\n",
       "       [9.99988616e-01, 9.25254426e-06, 2.12472173e-06],\n",
       "       [9.99996781e-01, 2.37742552e-06, 8.08304378e-07],\n",
       "       [1.40521115e-06, 7.02278703e-05, 9.99928355e-01],\n",
       "       [9.99988914e-01, 6.78275865e-06, 4.30010186e-06],\n",
       "       [3.11876443e-06, 1.81272204e-04, 9.99815583e-01],\n",
       "       [9.99986291e-01, 1.09324919e-05, 2.81642019e-06],\n",
       "       [9.99099731e-01, 8.98322149e-04, 1.98637827e-06],\n",
       "       [4.22531002e-06, 9.99993920e-01, 1.83803570e-06],\n",
       "       [2.54526203e-05, 9.99791384e-01, 1.83171447e-04],\n",
       "       [9.99843776e-01, 1.54210167e-04, 2.02168144e-06],\n",
       "       [9.99979198e-01, 2.02127085e-05, 6.15533168e-07],\n",
       "       [9.99984145e-01, 1.41084065e-05, 1.72097407e-06],\n",
       "       [7.09276646e-05, 9.99922752e-01, 6.36641380e-06],\n",
       "       [9.88243341e-01, 1.17305070e-02, 2.62086814e-05],\n",
       "       [4.50204068e-04, 9.93775189e-01, 5.77461440e-03],\n",
       "       [6.62146658e-06, 3.91646638e-04, 9.99601722e-01],\n",
       "       [1.85358367e-04, 9.99778867e-01, 3.57329591e-05],\n",
       "       [4.38723282e-06, 9.99908507e-01, 8.70832955e-05],\n",
       "       [1.04355961e-04, 9.90835011e-01, 9.06067155e-03],\n",
       "       [1.86078660e-06, 1.30050948e-05, 9.99985158e-01],\n",
       "       [1.63417935e-05, 9.34855707e-05, 9.99890208e-01],\n",
       "       [9.16463432e-06, 9.99986887e-01, 3.94622339e-06],\n",
       "       [9.99973953e-01, 2.47283569e-05, 1.36235019e-06],\n",
       "       [9.99975085e-01, 2.33000828e-05, 1.60523621e-06],\n",
       "       [2.00871902e-04, 9.98803973e-01, 9.95129463e-04],\n",
       "       [1.77928712e-06, 5.23302733e-05, 9.99945879e-01],\n",
       "       [4.99439375e-06, 9.89904976e-04, 9.99005079e-01],\n",
       "       [9.99951243e-01, 4.64168406e-05, 2.33612309e-06],\n",
       "       [6.64603285e-05, 9.99805033e-01, 1.28477841e-04],\n",
       "       [2.16834974e-06, 9.81840640e-06, 9.99988019e-01],\n",
       "       [3.68256019e-06, 5.93487523e-04, 9.99402821e-01],\n",
       "       [1.37560949e-06, 6.31027979e-06, 9.99992311e-01],\n",
       "       [7.99722693e-06, 1.78393646e-04, 9.99813616e-01],\n",
       "       [7.39423340e-05, 9.99912262e-01, 1.37414281e-05],\n",
       "       [9.99979854e-01, 1.83570301e-05, 1.80000427e-06],\n",
       "       [1.84758301e-05, 9.99917924e-01, 6.36097757e-05],\n",
       "       [9.99963105e-01, 3.40400911e-05, 2.84973316e-06],\n",
       "       [4.18083209e-06, 4.17199772e-06, 9.99991655e-01],\n",
       "       [9.99987841e-01, 9.98747419e-06, 2.12205737e-06],\n",
       "       [9.99966145e-01, 3.18596758e-05, 1.93478286e-06],\n",
       "       [2.48462657e-05, 9.99963999e-01, 1.11182389e-05],\n",
       "       [9.97764826e-01, 2.22582510e-03, 9.40279278e-06],\n",
       "       [9.99988317e-01, 1.09783405e-05, 7.40637745e-07],\n",
       "       [2.64287223e-06, 5.08083167e-06, 9.99992251e-01],\n",
       "       [2.42815804e-05, 9.99911964e-01, 6.37910998e-05],\n",
       "       [9.99114990e-01, 8.78902036e-04, 6.10470579e-06],\n",
       "       [3.12583302e-06, 3.71497590e-05, 9.99959707e-01],\n",
       "       [4.67882137e-06, 2.65939379e-05, 9.99968767e-01],\n",
       "       [9.99912083e-01, 8.65066322e-05, 1.40336908e-06],\n",
       "       [9.99989808e-01, 8.74491980e-06, 1.41110593e-06],\n",
       "       [3.62473111e-06, 1.73259159e-05, 9.99979079e-01],\n",
       "       [3.47061214e-05, 2.45328899e-03, 9.97511983e-01],\n",
       "       [3.97167696e-06, 1.81820742e-05, 9.99977827e-01],\n",
       "       [3.52126722e-06, 9.99989152e-01, 7.35424373e-06],\n",
       "       [6.57777637e-05, 9.99932051e-01, 2.19174831e-06],\n",
       "       [4.93645393e-06, 9.99993443e-01, 1.63598941e-06],\n",
       "       [5.68089263e-06, 9.99986172e-01, 8.14121449e-06],\n",
       "       [5.52889018e-04, 9.99381602e-01, 6.55274489e-05],\n",
       "       [2.47309974e-04, 9.99321759e-01, 4.30915738e-04],\n",
       "       [1.44951446e-06, 5.64101947e-06, 9.99992907e-01],\n",
       "       [9.99928594e-01, 7.02433172e-05, 1.20833465e-06],\n",
       "       [1.24526501e-04, 9.99861479e-01, 1.40129978e-05],\n",
       "       [1.20483834e-04, 9.99873936e-01, 5.61783190e-06],\n",
       "       [9.99993742e-01, 4.77135836e-06, 1.51644713e-06],\n",
       "       [8.39728546e-06, 9.99862671e-01, 1.28901374e-04],\n",
       "       [7.17528819e-05, 9.99903679e-01, 2.45174087e-05]], dtype=float32)"
      ]
     },
     "execution_count": 129,
     "metadata": {},
     "output_type": "execute_result"
    }
   ],
   "source": [
    "clf.predict_proba(X_train)"
   ]
  }
 ],
 "metadata": {
  "kernelspec": {
   "display_name": "Python 3 (ipykernel)",
   "language": "python",
   "name": "python3"
  },
  "language_info": {
   "codemirror_mode": {
    "name": "ipython",
    "version": 3
   },
   "file_extension": ".py",
   "mimetype": "text/x-python",
   "name": "python",
   "nbconvert_exporter": "python",
   "pygments_lexer": "ipython3",
   "version": "3.9.12"
  }
 },
 "nbformat": 4,
 "nbformat_minor": 5
}

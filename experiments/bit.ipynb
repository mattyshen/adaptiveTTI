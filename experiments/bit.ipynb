{
 "cells": [
  {
   "cell_type": "code",
   "execution_count": null,
   "metadata": {},
   "outputs": [],
   "source": [
    "# ruff: noqa: E402\n",
    "import math\n",
    "import warnings\n",
    "from typing import Dict, Literal\n",
    "\n",
    "warnings.simplefilter(\"ignore\")\n",
    "import delu  # Deep Learning Utilities: https://github.com/Yura52/delu\n",
    "import numpy as np\n",
    "import scipy.special\n",
    "import sklearn.datasets\n",
    "import sklearn.metrics\n",
    "import sklearn.model_selection\n",
    "import sklearn.preprocessing\n",
    "import torch\n",
    "import torch.nn.functional as F\n",
    "import torch.optim\n",
    "from torch import Tensor\n",
    "from tqdm.std import tqdm\n",
    "import json\n",
    "import sys\n",
    "\n",
    "warnings.resetwarnings()\n",
    "\n",
    "from rtdl_revisiting_models import MLP, ResNet, FTTransformer\n",
    "\n",
    "sys.path.append('..')\n",
    "\n",
    "from interpretDistill.fourierDistill import *\n",
    "from interpretDistill.binaryTransformer import *"
   ]
  },
  {
   "cell_type": "code",
   "execution_count": null,
   "metadata": {},
   "outputs": [],
   "source": [
    "device = torch.device(\"cuda:0\" if torch.cuda.is_available() else \"cpu\")\n",
    "# Set random seeds in all libraries.\n",
    "delu.random.seed(0)"
   ]
  },
  {
   "cell_type": "code",
   "execution_count": 1,
   "metadata": {},
   "outputs": [],
   "source": [
    "t = {'j':0, 'l':2}"
   ]
  },
  {
   "cell_type": "code",
   "execution_count": 2,
   "metadata": {},
   "outputs": [
    {
     "ename": "KeyError",
     "evalue": "0",
     "output_type": "error",
     "traceback": [
      "\u001b[0;31m---------------------------------------------------------------------------\u001b[0m",
      "\u001b[0;31mKeyError\u001b[0m                                  Traceback (most recent call last)",
      "Input \u001b[0;32mIn [2]\u001b[0m, in \u001b[0;36m<cell line: 1>\u001b[0;34m()\u001b[0m\n\u001b[0;32m----> 1\u001b[0m \u001b[43mt\u001b[49m\u001b[43m[\u001b[49m\u001b[38;5;241;43m0\u001b[39;49m\u001b[43m]\u001b[49m\n",
      "\u001b[0;31mKeyError\u001b[0m: 0"
     ]
    }
   ],
   "source": [
    "t[0]"
   ]
  },
  {
   "cell_type": "markdown",
   "metadata": {},
   "source": [
    "## Dataset"
   ]
  },
  {
   "cell_type": "code",
   "execution_count": null,
   "metadata": {},
   "outputs": [],
   "source": [
    "# >>> Dataset.\n",
    "TaskType = Literal[\"regression\", \"binclass\", \"multiclass\"]\n",
    "\n",
    "task_type: TaskType = \"regression\"\n",
    "n_classes = None\n",
    "dataset = sklearn.datasets.fetch_california_housing(as_frame = True)\n",
    "X: np.ndarray = dataset[\"data\"]\n",
    "Y: np.ndarray = dataset[\"target\"]\n",
    "\n",
    "all_idx = np.arange(len(Y))\n",
    "trainval_idx, test_idx = sklearn.model_selection.train_test_split(\n",
    "    all_idx, train_size=0.8, random_state = 0\n",
    ")\n",
    "train_idx, val_idx = sklearn.model_selection.train_test_split(\n",
    "    trainval_idx, train_size=0.8, random_state = 0\n",
    ")\n",
    "\n",
    "X_b = {}\n",
    "bt = BinaryTransformer(depth = 3, bit = True)\n",
    "X_b['train'] = bt.fit_and_transform(X.loc[train_idx, :], Y.loc[train_idx])\n",
    "X_b['val'] = bt.transform(X.loc[val_idx, :])\n",
    "X_b['test'] = bt.transform(X.loc[test_idx, :])\n",
    "\n",
    "\n",
    "# >>> Continuous features.\n",
    "#X_cont: np.ndarray = X[['carat', 'depth', 'table', 'x', 'y', 'z']].to_numpy().astype(np.float32)\n",
    "n_cont_features = 0\n",
    "\n",
    "# >>> Categorical features.\n",
    "# NOTE: the above datasets do not have categorical features, but,\n",
    "# for the demonstration purposes, it is possible to generate them.\n",
    "\n",
    "cat_cardinalities = [len(X_b['train'][c].value_counts()) for c in X_b['train'].columns]\n",
    "print(cat_cardinalities)\n",
    "\n",
    "\n",
    "for k in X_b.keys():\n",
    "    X_b[k] = (X_b[k] + 1) // 2\n",
    "\n",
    "# >>> Labels.\n",
    "# Regression labels must be represented by float32.\n",
    "\n",
    "Y = Y.to_numpy()\n",
    "if task_type == \"regression\":\n",
    "    Y = Y.astype(np.float32)\n",
    "else:\n",
    "    assert n_classes is not None\n",
    "    Y = Y.astype(np.int64)\n",
    "    assert set(Y.tolist()) == set(\n",
    "        range(n_classes)\n",
    "    ), \"Classification labels must form the range [0, 1, ..., n_classes - 1]\"\n",
    "\n",
    "data_numpy = {\n",
    "    \"train\": {\"x_cat\": X_b['train'].to_numpy().astype(np.int64), \"y\": Y[train_idx]},\n",
    "    \"val\": {\"x_cat\": X_b['val'].to_numpy().astype(np.int64), \"y\": Y[val_idx]},\n",
    "    \"test\": {\"x_cat\": X_b['test'].to_numpy().astype(np.int64), \"y\": Y[test_idx]},\n",
    "}"
   ]
  },
  {
   "cell_type": "code",
   "execution_count": null,
   "metadata": {},
   "outputs": [],
   "source": [
    "data_numpy['val']['x_cat'].shape"
   ]
  },
  {
   "cell_type": "code",
   "execution_count": 4,
   "metadata": {},
   "outputs": [
    {
     "name": "stderr",
     "output_type": "stream",
     "text": [
      "/tmp/ipykernel_45208/3069317206.py:27: SettingWithCopyWarning: \n",
      "A value is trying to be set on a copy of a slice from a DataFrame.\n",
      "Try using .loc[row_indexer,col_indexer] = value instead\n",
      "\n",
      "See the caveats in the documentation: https://pandas.pydata.org/pandas-docs/stable/user_guide/indexing.html#returning-a-view-versus-a-copy\n",
      "  df_categorical[column] = le.fit_transform(df_categorical[column])\n",
      "/tmp/ipykernel_45208/3069317206.py:27: SettingWithCopyWarning: \n",
      "A value is trying to be set on a copy of a slice from a DataFrame.\n",
      "Try using .loc[row_indexer,col_indexer] = value instead\n",
      "\n",
      "See the caveats in the documentation: https://pandas.pydata.org/pandas-docs/stable/user_guide/indexing.html#returning-a-view-versus-a-copy\n",
      "  df_categorical[column] = le.fit_transform(df_categorical[column])\n"
     ]
    }
   ],
   "source": [
    "import pandas as pd\n",
    "from sklearn.preprocessing import LabelEncoder\n",
    "\n",
    "def separate_features(df):\n",
    "    categorical_features = []\n",
    "    continuous_features = []\n",
    "    \n",
    "    for column in df.columns:\n",
    "        if df[column].dtype == 'object':\n",
    "            categorical_features.append(column)\n",
    "        elif pd.api.types.is_numeric_dtype(df[column]):\n",
    "            unique_values = df[column].nunique()\n",
    "            if unique_values <= 2:\n",
    "                categorical_features.append(column)\n",
    "            else:\n",
    "                continuous_features.append(column)\n",
    "        else:\n",
    "            raise ValueError(f\"Unsupported column type: {df[column].dtype}\")\n",
    "    \n",
    "    df_categorical = df[categorical_features]\n",
    "    df_continuous = df[continuous_features]\n",
    "    \n",
    "    # Optional: Encode categorical features\n",
    "    label_encoders = {}\n",
    "    for column in categorical_features:\n",
    "        le = LabelEncoder()\n",
    "        df_categorical[column] = le.fit_transform(df_categorical[column])\n",
    "        label_encoders[column] = le\n",
    "    \n",
    "    return df_continuous, df_categorical, label_encoders\n",
    "\n",
    "# Usage example\n",
    "data = {\n",
    "    'age': [25, 32, 47, 51],\n",
    "    'salary': [50000, 60000, 70000, 80000],\n",
    "    'gender': ['male', 'female', 'female', 'male'],\n",
    "    'is_employed': [1, 0, 1, 1]\n",
    "}\n",
    "\n",
    "df = pd.DataFrame(data)\n",
    "df_continuous, df_categorical, label_encoders = separate_features(df)"
   ]
  },
  {
   "cell_type": "code",
   "execution_count": 34,
   "metadata": {},
   "outputs": [],
   "source": [
    "from sklearn.datasets import fetch_california_housing"
   ]
  },
  {
   "cell_type": "code",
   "execution_count": 35,
   "metadata": {},
   "outputs": [],
   "source": [
    "iris = fetch_california_housing(as_frame = True)\n",
    "iris_df = iris.data\n",
    "iris_df['target'] = iris.target"
   ]
  },
  {
   "cell_type": "code",
   "execution_count": 40,
   "metadata": {},
   "outputs": [
    {
     "data": {
      "text/plain": [
       "array([4.526, 3.585, 3.521, ..., 0.923, 0.847, 0.894])"
      ]
     },
     "execution_count": 40,
     "metadata": {},
     "output_type": "execute_result"
    }
   ],
   "source": [
    "iris_df['target'].to_numpy()"
   ]
  },
  {
   "cell_type": "code",
   "execution_count": 37,
   "metadata": {},
   "outputs": [],
   "source": [
    "df_numerical_features = iris_df.select_dtypes(include=['float64', 'float32'])\n",
    "df_categorical_features = iris_df.drop(columns = df_numerical_features.columns)"
   ]
  },
  {
   "cell_type": "code",
   "execution_count": 42,
   "metadata": {},
   "outputs": [
    {
     "data": {
      "text/plain": [
       "-1"
      ]
     },
     "execution_count": 42,
     "metadata": {},
     "output_type": "execute_result"
    }
   ],
   "source": [
    "~False"
   ]
  },
  {
   "cell_type": "code",
   "execution_count": 16,
   "metadata": {},
   "outputs": [
    {
     "data": {
      "text/html": [
       "<div>\n",
       "<style scoped>\n",
       "    .dataframe tbody tr th:only-of-type {\n",
       "        vertical-align: middle;\n",
       "    }\n",
       "\n",
       "    .dataframe tbody tr th {\n",
       "        vertical-align: top;\n",
       "    }\n",
       "\n",
       "    .dataframe thead th {\n",
       "        text-align: right;\n",
       "    }\n",
       "</style>\n",
       "<table border=\"1\" class=\"dataframe\">\n",
       "  <thead>\n",
       "    <tr style=\"text-align: right;\">\n",
       "      <th></th>\n",
       "      <th>gender</th>\n",
       "    </tr>\n",
       "  </thead>\n",
       "  <tbody>\n",
       "    <tr>\n",
       "      <th>0</th>\n",
       "      <td>male</td>\n",
       "    </tr>\n",
       "    <tr>\n",
       "      <th>1</th>\n",
       "      <td>female</td>\n",
       "    </tr>\n",
       "    <tr>\n",
       "      <th>2</th>\n",
       "      <td>female</td>\n",
       "    </tr>\n",
       "    <tr>\n",
       "      <th>3</th>\n",
       "      <td>male</td>\n",
       "    </tr>\n",
       "  </tbody>\n",
       "</table>\n",
       "</div>"
      ],
      "text/plain": [
       "   gender\n",
       "0    male\n",
       "1  female\n",
       "2  female\n",
       "3    male"
      ]
     },
     "execution_count": 16,
     "metadata": {},
     "output_type": "execute_result"
    }
   ],
   "source": [
    "df_categorical_features"
   ]
  },
  {
   "cell_type": "markdown",
   "metadata": {},
   "source": [
    "## Preprocessing"
   ]
  },
  {
   "cell_type": "code",
   "execution_count": null,
   "metadata": {},
   "outputs": [],
   "source": [
    "if task_type == \"regression\":\n",
    "    Y_mean = data_numpy[\"train\"][\"y\"].mean().item()\n",
    "    Y_std = data_numpy[\"train\"][\"y\"].std().item()\n",
    "    for part in data_numpy:\n",
    "        data_numpy[part][\"y\"] = (data_numpy[part][\"y\"] - Y_mean) / Y_std\n",
    "\n",
    "# >>> Convert data to tensors.\n",
    "data = {\n",
    "    part: {'y': torch.as_tensor(data_numpy[part]['y'], device=device)}\n",
    "    for part in data_numpy\n",
    "}\n",
    "\n",
    "if True:\n",
    "    data[\"train\"][\"x_cat\"] = torch.from_numpy(data_numpy[\"train\"][\"x_cat\"]).to(torch.int64).to(device)\n",
    "    data[\"val\"][\"x_cat\"] = torch.from_numpy(data_numpy[\"val\"][\"x_cat\"]).to(torch.int64).to(device)\n",
    "    data[\"test\"][\"x_cat\"] = torch.from_numpy(data_numpy[\"test\"][\"x_cat\"]).to(torch.int64).to(device)\n",
    "\n",
    "if task_type != \"multiclass\":\n",
    "    # Required by F.binary_cross_entropy_with_logits\n",
    "    for part in data:\n",
    "        data[part][\"y\"] = data[part][\"y\"].float()"
   ]
  },
  {
   "cell_type": "markdown",
   "metadata": {},
   "source": [
    "## Model"
   ]
  },
  {
   "cell_type": "code",
   "execution_count": null,
   "metadata": {},
   "outputs": [],
   "source": [
    "# The output size.\n",
    "d_out = n_classes if task_type == \"multiclass\" else 1\n",
    "\n",
    "# # NOTE: uncomment to train MLP\n",
    "# model = MLP(\n",
    "#     d_in=n_cont_features + sum(cat_cardinalities),\n",
    "#     d_out=d_out,\n",
    "#     n_blocks=2,\n",
    "#     d_block=384,\n",
    "#     dropout=0.1,\n",
    "# ).to(device)\n",
    "# optimizer = torch.optim.AdamW(model.parameters(), lr=3e-4, weight_decay=1e-5)\n",
    "\n",
    "# # NOTE: uncomment to train ResNet\n",
    "# model = ResNet(\n",
    "#     d_in=n_cont_features + sum(cat_cardinalities),\n",
    "#     d_out=d_out,\n",
    "#     n_blocks=2,\n",
    "#     d_block=192,\n",
    "#     d_hidden=None,\n",
    "#     d_hidden_multiplier=2.0,\n",
    "#     dropout1=0.3,\n",
    "#     dropout2=0.0,\n",
    "# ).to(device)\n",
    "# optimizer = torch.optim.AdamW(model.parameters(), lr=3e-4, weight_decay=1e-5)\n",
    "\n",
    "model = FTTransformer(\n",
    "    n_cont_features=n_cont_features,\n",
    "    cat_cardinalities=cat_cardinalities,\n",
    "    d_out=d_out,\n",
    "    **FTTransformer.get_default_kwargs(),\n",
    ").to(device)\n",
    "optimizer = model.make_default_optimizer()"
   ]
  },
  {
   "cell_type": "markdown",
   "metadata": {},
   "source": [
    "## Training"
   ]
  },
  {
   "cell_type": "code",
   "execution_count": null,
   "metadata": {},
   "outputs": [],
   "source": [
    "def apply_model(batch: Dict[str, Tensor]) -> Tensor:\n",
    "    if isinstance(model, (MLP, ResNet)):\n",
    "        x_cat_ohe = (\n",
    "            [\n",
    "                F.one_hot(column, cardinality)\n",
    "                for column, cardinality in zip(batch[\"x_cat\"].T, cat_cardinalities)\n",
    "            ]\n",
    "            if \"x_cat\" in batch\n",
    "            else []\n",
    "        )\n",
    "        return model(torch.column_stack([batch[\"x_cont\"]] + x_cat_ohe)).squeeze(-1)\n",
    "\n",
    "    elif isinstance(model, FTTransformer):\n",
    "        return model(None, batch.get(\"x_cat\")).squeeze(-1)\n",
    "\n",
    "    else:\n",
    "        raise RuntimeError(f\"Unknown model type: {type(model)}\")\n",
    "\n",
    "\n",
    "loss_fn = (\n",
    "    F.binary_cross_entropy_with_logits\n",
    "    if task_type == \"binclass\"\n",
    "    else F.cross_entropy\n",
    "    if task_type == \"multiclass\"\n",
    "    else F.mse_loss\n",
    ")\n",
    "\n",
    "\n",
    "@torch.no_grad()\n",
    "def evaluate(part: str, ret = False) -> float:\n",
    "    model.eval()\n",
    "\n",
    "    eval_batch_size = 8096\n",
    "    y_pred = (\n",
    "        torch.cat(\n",
    "            [\n",
    "                apply_model(batch)\n",
    "                for batch in delu.iter_batches(data[part], eval_batch_size)\n",
    "            ]\n",
    "        )\n",
    "        .cpu()\n",
    "        .numpy()\n",
    "    )\n",
    "    y_true = data[part][\"y\"].cpu().numpy()\n",
    "\n",
    "    if task_type == \"binclass\":\n",
    "        y_pred = np.round(scipy.special.expit(y_pred))\n",
    "        score = sklearn.metrics.accuracy_score(y_true, y_pred)\n",
    "    elif task_type == \"multiclass\":\n",
    "        y_pred = y_pred.argmax(1)\n",
    "        score = sklearn.metrics.accuracy_score(y_true, y_pred)\n",
    "    else:\n",
    "        assert task_type == \"regression\"\n",
    "        score = -(sklearn.metrics.mean_squared_error(y_true, y_pred) ** 0.5 * Y_std)\n",
    "    if ret:\n",
    "        return score, y_pred\n",
    "    return score  # The higher -- the better.\n",
    "\n",
    "\n",
    "print(f'Val score before training: {evaluate(\"val\"):.4f}')"
   ]
  },
  {
   "cell_type": "code",
   "execution_count": null,
   "metadata": {},
   "outputs": [],
   "source": [
    "# For demonstration purposes (fast training and bad performance),\n",
    "# one can set smaller values:\n",
    "# n_epochs = 20\n",
    "# patience = 2\n",
    "n_epochs = 1000\n",
    "patience = 16\n",
    "\n",
    "batch_size = 256\n",
    "epoch_size = math.ceil(len(train_idx) / batch_size)\n",
    "timer = delu.tools.Timer()\n",
    "early_stopping = delu.tools.EarlyStopping(patience, mode=\"max\")\n",
    "best = {\n",
    "    \"val\": -math.inf,\n",
    "    \"test\": -math.inf,\n",
    "    \"epoch\": -1,\n",
    "}\n",
    "\n",
    "print(f\"Device: {device.type.upper()}\")\n",
    "print(\"-\" * 88 + \"\\n\")\n",
    "timer.run()\n",
    "for epoch in range(n_epochs):\n",
    "    for batch in tqdm(\n",
    "        delu.iter_batches(data[\"train\"], batch_size, shuffle=True),\n",
    "        desc=f\"Epoch {epoch}\",\n",
    "        total=epoch_size,\n",
    "    ):\n",
    "        model.train()\n",
    "        optimizer.zero_grad()\n",
    "        loss = loss_fn(apply_model(batch), batch[\"y\"])\n",
    "        loss.backward()\n",
    "        optimizer.step()\n",
    "\n",
    "    val_score = evaluate(\"val\")\n",
    "    #print(f\"(val) {val_score:.4f} [time] {timer}\")\n",
    "\n",
    "    early_stopping.update(val_score)\n",
    "    if early_stopping.should_stop():\n",
    "        break\n",
    "\n",
    "    if val_score > best[\"val\"]:\n",
    "        #print(\"🌸 New best epoch! 🌸\")\n",
    "        best = {\"val\": val_score, \"epoch\": epoch}\n",
    "        torch.save(model.state_dict(), f'models/ftt_bit_depth3')\n",
    "    print()\n",
    "\n",
    "print(\"\\n\\nResult:\")\n",
    "print(best)"
   ]
  },
  {
   "cell_type": "code",
   "execution_count": null,
   "metadata": {},
   "outputs": [],
   "source": [
    "evaluate('val'), evaluate('test')"
   ]
  },
  {
   "cell_type": "code",
   "execution_count": null,
   "metadata": {},
   "outputs": [],
   "source": [
    "pkg = {}\n",
    "for i in ['train', 'val', 'test']:\n",
    "    pkg[i] = {'y_hat':evaluate(i, ret = True)[1].tolist(), 'y_true':data_numpy[i]['y'].tolist()}\n",
    "    \n",
    "pkg['Y_stats'] = {'mean':Y_mean, 'std':Y_std}\n",
    "with open(f'predictions/ftt_bit_depth3_preds.json', 'w') as fp:\n",
    "    json.dump(pkg, fp)"
   ]
  },
  {
   "cell_type": "code",
   "execution_count": null,
   "metadata": {},
   "outputs": [],
   "source": []
  }
 ],
 "metadata": {
  "kernelspec": {
   "display_name": "Python 3 (ipykernel)",
   "language": "python",
   "name": "python3"
  },
  "language_info": {
   "codemirror_mode": {
    "name": "ipython",
    "version": 3
   },
   "file_extension": ".py",
   "mimetype": "text/x-python",
   "name": "python",
   "nbconvert_exporter": "python",
   "pygments_lexer": "ipython3",
   "version": "3.9.12"
  }
 },
 "nbformat": 4,
 "nbformat_minor": 4
}

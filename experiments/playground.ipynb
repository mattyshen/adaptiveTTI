{
 "cells": [
  {
   "cell_type": "code",
   "execution_count": 1,
   "id": "53888a3b-384a-432b-a954-f1f26c38180b",
   "metadata": {},
   "outputs": [
    {
     "name": "stdout",
     "output_type": "stream",
     "text": [
      "/home/mattyshen/interpretableDistillation/notebooks\n",
      "['/home/mattyshen/interpretableDistillation/notebooks', '/home/mattyshen/anaconda3/lib/python39.zip', '/home/mattyshen/anaconda3/lib/python3.9', '/home/mattyshen/anaconda3/lib/python3.9/lib-dynload', '', '/home/mattyshen/anaconda3/lib/python3.9/site-packages', '..']\n"
     ]
    }
   ],
   "source": [
    "def warn(*args, **kwargs):\n",
    "    pass\n",
    "import warnings\n",
    "warnings.warn = warn\n",
    "\n",
    "import numpy as np\n",
    "import pandas as pd\n",
    "import torch\n",
    "from itertools import chain, combinations\n",
    "import l0learn\n",
    "import l0bnb\n",
    "import matplotlib.pyplot as plt\n",
    "from sklearn.metrics import r2_score\n",
    "from sklearn.linear_model import LinearRegression, Ridge, Lasso, ElasticNet \n",
    "from sklearn.ensemble import RandomForestRegressor\n",
    "from sklearn.model_selection import train_test_split\n",
    "import sys\n",
    "import os\n",
    "sys.path.append(\"..\")\n",
    "print(os.getcwd())\n",
    "print(sys.path)\n",
    "from interpretDistill.fourierDistill import FTDistill, FTDistillCV\n",
    "from experiments.binary_experiment_MLP import MLP"
   ]
  },
  {
   "cell_type": "code",
   "execution_count": 2,
   "id": "2727c771-47ab-4df6-9950-314b38885089",
   "metadata": {},
   "outputs": [
    {
     "name": "stdout",
     "output_type": "stream",
     "text": [
      "[0.36282159 0.33820351 0.35517568]\n"
     ]
    }
   ],
   "source": [
    "np.random.seed(42)\n",
    "n_samples = 100000\n",
    "X1 = np.random.choice([1, -1], size=n_samples, p=[0.7, 0.3])\n",
    "X2 = np.random.choice([1, -1], size=n_samples, p=[0.4, 0.6])\n",
    "X3 = np.random.choice([1, -1], size=n_samples, p=[0.9, 0.1])\n",
    "\n",
    "probabilities = np.random.uniform(0.3, 0.7, size=3)\n",
    "print(probabilities)\n",
    "X4_to_X6 = []\n",
    "for p in probabilities:\n",
    "    X = np.random.choice([1, -1], size=n_samples, p=[p, 1-p])\n",
    "    X4_to_X6.append(X)\n",
    "\n",
    "X4_to_X6 = np.column_stack(X4_to_X6)\n",
    "\n",
    "X = np.column_stack((X1, X2, X3, X4_to_X6))\n",
    "eps = np.random.normal(0, 1, size=n_samples)\n",
    "\n",
    "Y = X1 * np.sin(X1) + 2*X2 * X3 + eps\n",
    "\n",
    "X = pd.DataFrame(X, columns = [f'X{i}' for i in range(1, 7)])\n",
    "Y = pd.Series(Y, name = 'Y')\n",
    "X_train, X_test, y_train, y_test = train_test_split(X, Y, test_size=0.33, random_state=42)"
   ]
  },
  {
   "cell_type": "code",
   "execution_count": 18,
   "id": "7a99453d-301d-48e4-a124-4898542b3b96",
   "metadata": {},
   "outputs": [
    {
     "data": {
      "text/html": [
       "<div>\n",
       "<style scoped>\n",
       "    .dataframe tbody tr th:only-of-type {\n",
       "        vertical-align: middle;\n",
       "    }\n",
       "\n",
       "    .dataframe tbody tr th {\n",
       "        vertical-align: top;\n",
       "    }\n",
       "\n",
       "    .dataframe thead th {\n",
       "        text-align: right;\n",
       "    }\n",
       "</style>\n",
       "<table border=\"1\" class=\"dataframe\">\n",
       "  <thead>\n",
       "    <tr style=\"text-align: right;\">\n",
       "      <th></th>\n",
       "      <th>X1</th>\n",
       "      <th>X2</th>\n",
       "      <th>X3</th>\n",
       "      <th>X4</th>\n",
       "      <th>X5</th>\n",
       "      <th>X6</th>\n",
       "    </tr>\n",
       "  </thead>\n",
       "  <tbody>\n",
       "    <tr>\n",
       "      <th>0</th>\n",
       "      <td>1</td>\n",
       "      <td>-1</td>\n",
       "      <td>1</td>\n",
       "      <td>-1</td>\n",
       "      <td>-1</td>\n",
       "      <td>-1</td>\n",
       "    </tr>\n",
       "    <tr>\n",
       "      <th>1</th>\n",
       "      <td>-1</td>\n",
       "      <td>-1</td>\n",
       "      <td>1</td>\n",
       "      <td>-1</td>\n",
       "      <td>-1</td>\n",
       "      <td>-1</td>\n",
       "    </tr>\n",
       "    <tr>\n",
       "      <th>2</th>\n",
       "      <td>-1</td>\n",
       "      <td>1</td>\n",
       "      <td>1</td>\n",
       "      <td>1</td>\n",
       "      <td>1</td>\n",
       "      <td>-1</td>\n",
       "    </tr>\n",
       "    <tr>\n",
       "      <th>3</th>\n",
       "      <td>1</td>\n",
       "      <td>-1</td>\n",
       "      <td>1</td>\n",
       "      <td>-1</td>\n",
       "      <td>-1</td>\n",
       "      <td>-1</td>\n",
       "    </tr>\n",
       "    <tr>\n",
       "      <th>4</th>\n",
       "      <td>1</td>\n",
       "      <td>1</td>\n",
       "      <td>1</td>\n",
       "      <td>1</td>\n",
       "      <td>-1</td>\n",
       "      <td>1</td>\n",
       "    </tr>\n",
       "    <tr>\n",
       "      <th>...</th>\n",
       "      <td>...</td>\n",
       "      <td>...</td>\n",
       "      <td>...</td>\n",
       "      <td>...</td>\n",
       "      <td>...</td>\n",
       "      <td>...</td>\n",
       "    </tr>\n",
       "    <tr>\n",
       "      <th>99995</th>\n",
       "      <td>-1</td>\n",
       "      <td>-1</td>\n",
       "      <td>1</td>\n",
       "      <td>-1</td>\n",
       "      <td>-1</td>\n",
       "      <td>-1</td>\n",
       "    </tr>\n",
       "    <tr>\n",
       "      <th>99996</th>\n",
       "      <td>-1</td>\n",
       "      <td>-1</td>\n",
       "      <td>1</td>\n",
       "      <td>-1</td>\n",
       "      <td>-1</td>\n",
       "      <td>-1</td>\n",
       "    </tr>\n",
       "    <tr>\n",
       "      <th>99997</th>\n",
       "      <td>1</td>\n",
       "      <td>1</td>\n",
       "      <td>1</td>\n",
       "      <td>-1</td>\n",
       "      <td>1</td>\n",
       "      <td>1</td>\n",
       "    </tr>\n",
       "    <tr>\n",
       "      <th>99998</th>\n",
       "      <td>1</td>\n",
       "      <td>-1</td>\n",
       "      <td>1</td>\n",
       "      <td>1</td>\n",
       "      <td>-1</td>\n",
       "      <td>1</td>\n",
       "    </tr>\n",
       "    <tr>\n",
       "      <th>99999</th>\n",
       "      <td>1</td>\n",
       "      <td>1</td>\n",
       "      <td>1</td>\n",
       "      <td>1</td>\n",
       "      <td>-1</td>\n",
       "      <td>-1</td>\n",
       "    </tr>\n",
       "  </tbody>\n",
       "</table>\n",
       "<p>100000 rows × 6 columns</p>\n",
       "</div>"
      ],
      "text/plain": [
       "       X1  X2  X3  X4  X5  X6\n",
       "0       1  -1   1  -1  -1  -1\n",
       "1      -1  -1   1  -1  -1  -1\n",
       "2      -1   1   1   1   1  -1\n",
       "3       1  -1   1  -1  -1  -1\n",
       "4       1   1   1   1  -1   1\n",
       "...    ..  ..  ..  ..  ..  ..\n",
       "99995  -1  -1   1  -1  -1  -1\n",
       "99996  -1  -1   1  -1  -1  -1\n",
       "99997   1   1   1  -1   1   1\n",
       "99998   1  -1   1   1  -1   1\n",
       "99999   1   1   1   1  -1  -1\n",
       "\n",
       "[100000 rows x 6 columns]"
      ]
     },
     "execution_count": 18,
     "metadata": {},
     "output_type": "execute_result"
    }
   ],
   "source": [
    "X"
   ]
  },
  {
   "cell_type": "code",
   "execution_count": 17,
   "id": "e8274d79-cff4-4597-aab9-086c17c54769",
   "metadata": {},
   "outputs": [
    {
     "data": {
      "text/plain": [
       "(array([ 117., 1665., 6994., 7829., 2973., 3572., 6126., 3260.,  449.,\n",
       "          15.]),\n",
       " array([-4.86851504, -3.67885308, -2.48919111, -1.29952914, -0.10986718,\n",
       "         1.07979479,  2.26945675,  3.45911872,  4.64878069,  5.83844265,\n",
       "         7.02810462]),\n",
       " <BarContainer object of 10 artists>)"
      ]
     },
     "execution_count": 17,
     "metadata": {},
     "output_type": "execute_result"
    },
    {
     "data": {
      "image/png": "[encoded data removed]",
      "text/plain": [
       "<Figure size 432x288 with 1 Axes>"
      ]
     },
     "metadata": {
      "needs_background": "light"
     },
     "output_type": "display_data"
    }
   ],
   "source": [
    "plt.hist(y_train)\n",
    "plt.hist(y_test)"
   ]
  },
  {
   "cell_type": "code",
   "execution_count": 3,
   "id": "1ed27eeb-70ca-4573-9443-f8c0cac181e0",
   "metadata": {},
   "outputs": [
    {
     "data": {
      "text/html": [
       "<style>#sk-container-id-1 {color: black;background-color: white;}#sk-container-id-1 pre{padding: 0;}#sk-container-id-1 div.sk-toggleable {background-color: white;}#sk-container-id-1 label.sk-toggleable__label {cursor: pointer;display: block;width: 100%;margin-bottom: 0;padding: 0.3em;box-sizing: border-box;text-align: center;}#sk-container-id-1 label.sk-toggleable__label-arrow:before {content: \"▸\";float: left;margin-right: 0.25em;color: #696969;}#sk-container-id-1 label.sk-toggleable__label-arrow:hover:before {color: black;}#sk-container-id-1 div.sk-estimator:hover label.sk-toggleable__label-arrow:before {color: black;}#sk-container-id-1 div.sk-toggleable__content {max-height: 0;max-width: 0;overflow: hidden;text-align: left;background-color: #f0f8ff;}#sk-container-id-1 div.sk-toggleable__content pre {margin: 0.2em;color: black;border-radius: 0.25em;background-color: #f0f8ff;}#sk-container-id-1 input.sk-toggleable__control:checked~div.sk-toggleable__content {max-height: 200px;max-width: 100%;overflow: auto;}#sk-container-id-1 input.sk-toggleable__control:checked~label.sk-toggleable__label-arrow:before {content: \"▾\";}#sk-container-id-1 div.sk-estimator input.sk-toggleable__control:checked~label.sk-toggleable__label {background-color: #d4ebff;}#sk-container-id-1 div.sk-label input.sk-toggleable__control:checked~label.sk-toggleable__label {background-color: #d4ebff;}#sk-container-id-1 input.sk-hidden--visually {border: 0;clip: rect(1px 1px 1px 1px);clip: rect(1px, 1px, 1px, 1px);height: 1px;margin: -1px;overflow: hidden;padding: 0;position: absolute;width: 1px;}#sk-container-id-1 div.sk-estimator {font-family: monospace;background-color: #f0f8ff;border: 1px dotted black;border-radius: 0.25em;box-sizing: border-box;margin-bottom: 0.5em;}#sk-container-id-1 div.sk-estimator:hover {background-color: #d4ebff;}#sk-container-id-1 div.sk-parallel-item::after {content: \"\";width: 100%;border-bottom: 1px solid gray;flex-grow: 1;}#sk-container-id-1 div.sk-label:hover label.sk-toggleable__label {background-color: #d4ebff;}#sk-container-id-1 div.sk-serial::before {content: \"\";position: absolute;border-left: 1px solid gray;box-sizing: border-box;top: 0;bottom: 0;left: 50%;z-index: 0;}#sk-container-id-1 div.sk-serial {display: flex;flex-direction: column;align-items: center;background-color: white;padding-right: 0.2em;padding-left: 0.2em;position: relative;}#sk-container-id-1 div.sk-item {position: relative;z-index: 1;}#sk-container-id-1 div.sk-parallel {display: flex;align-items: stretch;justify-content: center;background-color: white;position: relative;}#sk-container-id-1 div.sk-item::before, #sk-container-id-1 div.sk-parallel-item::before {content: \"\";position: absolute;border-left: 1px solid gray;box-sizing: border-box;top: 0;bottom: 0;left: 50%;z-index: -1;}#sk-container-id-1 div.sk-parallel-item {display: flex;flex-direction: column;z-index: 1;position: relative;background-color: white;}#sk-container-id-1 div.sk-parallel-item:first-child::after {align-self: flex-end;width: 50%;}#sk-container-id-1 div.sk-parallel-item:last-child::after {align-self: flex-start;width: 50%;}#sk-container-id-1 div.sk-parallel-item:only-child::after {width: 0;}#sk-container-id-1 div.sk-dashed-wrapped {border: 1px dashed gray;margin: 0 0.4em 0.5em 0.4em;box-sizing: border-box;padding-bottom: 0.4em;background-color: white;}#sk-container-id-1 div.sk-label label {font-family: monospace;font-weight: bold;display: inline-block;line-height: 1.2em;}#sk-container-id-1 div.sk-label-container {text-align: center;}#sk-container-id-1 div.sk-container {/* jupyter's `normalize.less` sets `[hidden] { display: none; }` but bootstrap.min.css set `[hidden] { display: none !important; }` so we also need the `!important` here to be able to override the default hidden behavior on the sphinx rendered scikit-learn.org. See: https://github.com/scikit-learn/scikit-learn/issues/21755 */display: inline-block !important;position: relative;}#sk-container-id-1 div.sk-text-repr-fallback {display: none;}</style><div id=\"sk-container-id-1\" class=\"sk-top-container\"><div class=\"sk-text-repr-fallback\"><pre>RandomForestRegressor(max_depth=3)</pre><b>In a Jupyter environment, please rerun this cell to show the HTML representation or trust the notebook. <br />On GitHub, the HTML representation is unable to render, please try loading this page with nbviewer.org.</b></div><div class=\"sk-container\" hidden><div class=\"sk-item\"><div class=\"sk-estimator sk-toggleable\"><input class=\"sk-toggleable__control sk-hidden--visually\" id=\"sk-estimator-id-1\" type=\"checkbox\" checked><label for=\"sk-estimator-id-1\" class=\"sk-toggleable__label sk-toggleable__label-arrow\">RandomForestRegressor</label><div class=\"sk-toggleable__content\"><pre>RandomForestRegressor(max_depth=3)</pre></div></div></div></div></div>"
      ],
      "text/plain": [
       "RandomForestRegressor(max_depth=3)"
      ]
     },
     "execution_count": 3,
     "metadata": {},
     "output_type": "execute_result"
    }
   ],
   "source": [
    "rf = RandomForestRegressor(max_depth = 3)\n",
    "rf.fit(X_train, y_train)"
   ]
  },
  {
   "cell_type": "code",
   "execution_count": 11,
   "id": "09b83a7f-5ced-4d25-9f35-4b8819e162d2",
   "metadata": {},
   "outputs": [
    {
     "data": {
      "text/plain": [
       "<interpretDistill.fourierDistill.FTDistillCV at 0x7f0149beffa0>"
      ]
     },
     "execution_count": 11,
     "metadata": {},
     "output_type": "execute_result"
    }
   ],
   "source": [
    "ftd = FTDistillCV(distill_model = rf.predict, selection = 'L1L2', lam1_range = np.array([0.005, 0.01, 0.05, 1]), lam2_range = np.array([0.005, 0.01, 0.05,1]))\n",
    "ftd.fit(X_train)"
   ]
  },
  {
   "cell_type": "code",
   "execution_count": 12,
   "id": "a326a90c-be6d-48d2-a35f-fa075922f61b",
   "metadata": {},
   "outputs": [
    {
     "data": {
      "text/plain": [
       "<interpretDistill.fourierDistill.FTDistill at 0x7f0149bef640>"
      ]
     },
     "execution_count": 12,
     "metadata": {},
     "output_type": "execute_result"
    }
   ],
   "source": [
    "ftd_naive = FTDistill(distill_model = rf.predict, selection = 'L1L2', lam1 = 1, lam2 = 1)\n",
    "ftd_naive.fit(X_train)"
   ]
  },
  {
   "cell_type": "code",
   "execution_count": 46,
   "id": "fc5f7bc8-ce75-4e08-86ba-65ee9d5d91a2",
   "metadata": {},
   "outputs": [
    {
     "data": {
      "text/plain": [
       "<interpretDistill.fourierDistill.FTDistillCV at 0x7f0043d20fd0>"
      ]
     },
     "execution_count": 46,
     "metadata": {},
     "output_type": "execute_result"
    }
   ],
   "source": [
    "ftd_mlp_train = FTDistillCV(selection = 'L1L2', lam1_range = np.array([0.005, 0.01, 0.05, 1]), lam2_range = np.array([0.005, 0.01, 0.05,1]))\n",
    "ftd_mlp_train.fit(X_train, y_pred_train_mlp)\n",
    "ftd_mlp_test = FTDistillCV(selection = 'L1L2', lam1_range = np.array([0.005, 0.01, 0.05, 1]), lam2_range = np.array([0.005, 0.01, 0.05,1]))\n",
    "ftd_mlp_test.fit(X_test, y_pred_test_mlp)"
   ]
  },
  {
   "cell_type": "code",
   "execution_count": 48,
   "id": "88f20758-a6a9-487f-ae70-13a4e8158353",
   "metadata": {},
   "outputs": [
    {
     "name": "stdout",
     "output_type": "stream",
     "text": [
      "cv selected lambda: 0.005, 0.005\n",
      "cv selected lambda: 0.005, 0.005\n"
     ]
    }
   ],
   "source": [
    "print(f'cv selected lambda: {ftd_mlp_train.lam1}, {ftd_mlp_train.lam2}')\n",
    "print(f'cv selected lambda: {ftd_mlp_test.lam1}, {ftd_mlp_test.lam2}')"
   ]
  },
  {
   "cell_type": "code",
   "execution_count": 43,
   "id": "8622272a-dc67-4524-ba75-7464e49fb064",
   "metadata": {},
   "outputs": [
    {
     "data": {
      "text/plain": [
       "0.9991416810762732"
      ]
     },
     "execution_count": 43,
     "metadata": {},
     "output_type": "execute_result"
    }
   ],
   "source": [
    "r2_score(y_pred_train_mlp, ftd.predict(X_train))"
   ]
  },
  {
   "cell_type": "code",
   "execution_count": 52,
   "id": "f9cf5b85-0f97-41c5-b8b6-a6ae6c0e7c22",
   "metadata": {},
   "outputs": [
    {
     "data": {
      "text/plain": [
       "array([ 0.77, -0.  ,  0.01,  0.01, -0.01,  0.  , -0.  ,  0.  , -0.  ,\n",
       "       -0.  ,  0.  , -0.  ,  1.96, -0.  , -0.  ,  0.  , -0.  ,  0.  ,\n",
       "        0.  , -0.  , -0.  , -0.  ,  0.01, -0.  ,  0.  ,  0.  , -0.  ,\n",
       "       -0.  ,  0.  , -0.  , -0.  , -0.  , -0.02, -0.  ,  0.  ,  0.  ,\n",
       "       -0.  ,  0.  , -0.  , -0.  , -0.  , -0.  ,  0.  , -0.  , -0.  ,\n",
       "       -0.  ,  0.  , -0.  , -0.  , -0.  , -0.  , -0.  ,  0.  , -0.  ,\n",
       "        0.  ,  0.  , -0.  , -0.  ,  0.  ,  0.  ,  0.  , -0.  ,  0.  ,\n",
       "        0.  ])"
      ]
     },
     "execution_count": 52,
     "metadata": {},
     "output_type": "execute_result"
    }
   ],
   "source": [
    "np.round(ftd_mlp_train.regression_model.coef_,2)"
   ]
  },
  {
   "cell_type": "code",
   "execution_count": 53,
   "id": "ea1a7a27-b3b7-4bbe-9b83-0c35b065b4cb",
   "metadata": {},
   "outputs": [
    {
     "data": {
      "text/plain": [
       "array([ 0.77, -0.  ,  0.01,  0.01, -0.01,  0.  , -0.  ,  0.  , -0.  ,\n",
       "       -0.  , -0.  , -0.  ,  1.96, -0.  ,  0.  ,  0.  , -0.  ,  0.  ,\n",
       "        0.  , -0.  , -0.  , -0.  ,  0.01, -0.  ,  0.  ,  0.  , -0.  ,\n",
       "       -0.  ,  0.  , -0.  , -0.  , -0.  , -0.02, -0.  ,  0.  ,  0.  ,\n",
       "       -0.  ,  0.  , -0.  , -0.  , -0.  , -0.  ,  0.  , -0.  ,  0.  ,\n",
       "       -0.  ,  0.  , -0.  , -0.  , -0.  , -0.  , -0.  ,  0.  , -0.  ,\n",
       "        0.  ,  0.  , -0.  , -0.  ,  0.  ,  0.  ,  0.  , -0.  ,  0.  ,\n",
       "        0.  ])"
      ]
     },
     "execution_count": 53,
     "metadata": {},
     "output_type": "execute_result"
    }
   ],
   "source": [
    "np.round(ftd_mlp_test.regression_model.coef_,2)"
   ]
  },
  {
   "cell_type": "code",
   "execution_count": 31,
   "id": "063a2b03-d4a0-4c74-a415-752492d50424",
   "metadata": {},
   "outputs": [],
   "source": [
    "from FTutils import *"
   ]
  },
  {
   "cell_type": "code",
   "execution_count": 32,
   "id": "c27b3aa6-2929-46f6-bdfd-149508e8db72",
   "metadata": {},
   "outputs": [],
   "source": [
    "Chi = pd.DataFrame()\n",
    "\n",
    "for subset in powerset(X.columns):\n",
    "    Chi[subset] = compute_subset_product(subset, X)"
   ]
  },
  {
   "cell_type": "code",
   "execution_count": 37,
   "id": "3340594e-1d86-496a-b758-2d5d8e4e27bc",
   "metadata": {},
   "outputs": [
    {
     "data": {
      "text/plain": [
       "Index([                                  (),\n",
       "                                    ('X1',),\n",
       "                                    ('X2',),\n",
       "                                    ('X3',),\n",
       "                                    ('X4',),\n",
       "                                    ('X5',),\n",
       "                                    ('X6',),\n",
       "                               ('X1', 'X2'),\n",
       "                               ('X1', 'X3'),\n",
       "                               ('X1', 'X4'),\n",
       "                               ('X1', 'X5'),\n",
       "                               ('X1', 'X6'),\n",
       "                               ('X2', 'X3'),\n",
       "                               ('X2', 'X4'),\n",
       "                               ('X2', 'X5'),\n",
       "                               ('X2', 'X6'),\n",
       "                               ('X3', 'X4'),\n",
       "                               ('X3', 'X5'),\n",
       "                               ('X3', 'X6'),\n",
       "                               ('X4', 'X5'),\n",
       "                               ('X4', 'X6'),\n",
       "                               ('X5', 'X6'),\n",
       "                         ('X1', 'X2', 'X3'),\n",
       "                         ('X1', 'X2', 'X4'),\n",
       "                         ('X1', 'X2', 'X5'),\n",
       "                         ('X1', 'X2', 'X6'),\n",
       "                         ('X1', 'X3', 'X4'),\n",
       "                         ('X1', 'X3', 'X5'),\n",
       "                         ('X1', 'X3', 'X6'),\n",
       "                         ('X1', 'X4', 'X5'),\n",
       "                         ('X1', 'X4', 'X6'),\n",
       "                         ('X1', 'X5', 'X6'),\n",
       "                         ('X2', 'X3', 'X4'),\n",
       "                         ('X2', 'X3', 'X5'),\n",
       "                         ('X2', 'X3', 'X6'),\n",
       "                         ('X2', 'X4', 'X5'),\n",
       "                         ('X2', 'X4', 'X6'),\n",
       "                         ('X2', 'X5', 'X6'),\n",
       "                         ('X3', 'X4', 'X5'),\n",
       "                         ('X3', 'X4', 'X6'),\n",
       "                         ('X3', 'X5', 'X6'),\n",
       "                         ('X4', 'X5', 'X6'),\n",
       "                   ('X1', 'X2', 'X3', 'X4'),\n",
       "                   ('X1', 'X2', 'X3', 'X5'),\n",
       "                   ('X1', 'X2', 'X3', 'X6'),\n",
       "                   ('X1', 'X2', 'X4', 'X5'),\n",
       "                   ('X1', 'X2', 'X4', 'X6'),\n",
       "                   ('X1', 'X2', 'X5', 'X6'),\n",
       "                   ('X1', 'X3', 'X4', 'X5'),\n",
       "                   ('X1', 'X3', 'X4', 'X6'),\n",
       "                   ('X1', 'X3', 'X5', 'X6'),\n",
       "                   ('X1', 'X4', 'X5', 'X6'),\n",
       "                   ('X2', 'X3', 'X4', 'X5'),\n",
       "                   ('X2', 'X3', 'X4', 'X6'),\n",
       "                   ('X2', 'X3', 'X5', 'X6'),\n",
       "                   ('X2', 'X4', 'X5', 'X6'),\n",
       "                   ('X3', 'X4', 'X5', 'X6'),\n",
       "             ('X1', 'X2', 'X3', 'X4', 'X5'),\n",
       "             ('X1', 'X2', 'X3', 'X4', 'X6'),\n",
       "             ('X1', 'X2', 'X3', 'X5', 'X6'),\n",
       "             ('X1', 'X2', 'X4', 'X5', 'X6'),\n",
       "             ('X1', 'X3', 'X4', 'X5', 'X6'),\n",
       "             ('X2', 'X3', 'X4', 'X5', 'X6'),\n",
       "       ('X1', 'X2', 'X3', 'X4', 'X5', 'X6')],\n",
       "      dtype='object')"
      ]
     },
     "execution_count": 37,
     "metadata": {},
     "output_type": "execute_result"
    }
   ],
   "source": [
    "Chi.columns"
   ]
  },
  {
   "cell_type": "code",
   "execution_count": 36,
   "id": "aac370cc-8f58-4418-9bb4-57d60b8eb8d1",
   "metadata": {},
   "outputs": [
    {
     "data": {
      "text/plain": [
       "Index([                (),            ('X2',),            ('X3',),\n",
       "                  ('X4',),       ('X2', 'X3'), ('X1', 'X2', 'X3'),\n",
       "       ('X2', 'X3', 'X4'), ('X2', 'X3', 'X5')],\n",
       "      dtype='object')"
      ]
     },
     "execution_count": 36,
     "metadata": {},
     "output_type": "execute_result"
    }
   ],
   "source": [
    "Chi.columns[ftd.regression_model.coef_ != 0]"
   ]
  },
  {
   "cell_type": "code",
   "execution_count": 13,
   "id": "0ef87367-6fad-4db5-a1f2-6cd4e509d854",
   "metadata": {},
   "outputs": [
    {
     "data": {
      "text/plain": [
       "(0.9910779764280472, 0.9907464056769357, 3.687592545304289)"
      ]
     },
     "execution_count": 13,
     "metadata": {},
     "output_type": "execute_result"
    }
   ],
   "source": [
    "np.mean((ftd.predict(X_test) - y_test)**2), np.mean((rf.predict(X_test) - y_test)**2), np.mean((ftd_naive.predict(X_test) - y_test)**2)"
   ]
  },
  {
   "cell_type": "code",
   "execution_count": null,
   "id": "6a756c52-bc4a-4210-b958-6bb630e52e27",
   "metadata": {},
   "outputs": [],
   "source": [
    "def evaluate_model(X_train, y_train, X_test, y_test, model, selection, lambda_list, \n",
    "                   use_model = True, y_pred_train = None, y_pred_test = None, model_name = ''):\n",
    "    fig, axes = plt.subplots(3, len(lambda_list), figsize=(15, 15))\n",
    "    if use_model:\n",
    "        y_pred_train = model.predict(X_train)\n",
    "        y_pred_test = model.predict(X_test)\n",
    "    else:\n",
    "        print('using provided y_pred_train, y_pred_test')\n",
    "        y_pred_train = y_pred_train\n",
    "        y_pred_test = y_pred_test\n",
    "    for i, lambda_val in enumerate(lambda_list):\n",
    "        print(i)\n",
    "        ftd = FTDistill(selection = selection, lam1 = lambda_val, lam2 = lambda_val)\n",
    "        \n",
    "        ftd.fit(X_train, y_pred_train)\n",
    "        \n",
    "        y_pred_train_d = ftd.predict(X_train)\n",
    "        y_pred_test_d = ftd.predict(X_test)\n",
    "        \n",
    "        r2_train = r2_score(y_train, y_pred_train)\n",
    "        r2_test = r2_score(y_test, y_pred_test)\n",
    "        r2_train_d = r2_score(y_train, y_pred_train_d)\n",
    "        r2_test_d = r2_score(y_test, y_pred_test_d)\n",
    "        r2_train_dm = r2_score(y_pred_train, y_pred_train_d)\n",
    "        r2_test_dm = r2_score(y_pred_test, y_pred_test_d)\n",
    "        \n",
    "        axes[0, i].scatter(y_pred_train, y_train, color='black', label='Train', s=0.2)\n",
    "        axes[0, i].scatter(y_pred_test, y_test, color='red', label='Test', s=0.2)\n",
    "        axes[0, i].plot([min(y_pred_train.min(), y_train.min()), max(y_pred_train.max(), y_train.max())], \n",
    "                        [min(y_pred_train.min(), y_train.min()), max(y_pred_train.max(), y_train.max())], \n",
    "                        color='black', linestyle='--', alpha=0.5)\n",
    "        axes[0, i].text(0.05, 0.95, f\"R2: Train={r2_train:.2f}, Test={r2_test:.2f}\",\n",
    "                        ha='left', va='bottom', transform=axes[0, i].transAxes)\n",
    "        axes[0, i].set_title(f\"m vs. y, l={lambda_val}\")\n",
    "        axes[0, i].set_xlabel(\"Model Predicted Y\")\n",
    "        axes[0, i].set_ylabel(\"True Y\")\n",
    "        axes[0, i].legend()\n",
    "        \n",
    "        axes[1, i].scatter(y_pred_train_d, y_train, color='black', label='Train', s=0.2)\n",
    "        axes[1, i].scatter(y_pred_test_d, y_test, color='red', label='Test', s=0.2)\n",
    "        axes[1, i].plot([min(y_pred_train_d.min(), y_train.min()), max(y_pred_train_d.max(), y_train.max())], \n",
    "                        [min(y_pred_train_d.min(), y_train.min()), max(y_pred_train_d.max(), y_train.max())], \n",
    "                        color='black', linestyle='--', alpha=0.5)\n",
    "        axes[1, i].text(0.05, 0.95, f\"R2: Train={r2_train_d:.2f}, Test={r2_test_d:.2f}\",\n",
    "                        ha='left', va='bottom', transform=axes[1, i].transAxes)\n",
    "        axes[1, i].set_title(f\"d vs. y, l={lambda_val}\")\n",
    "        axes[1, i].set_xlabel(\"Distill Predicted Y\")\n",
    "        axes[1, i].set_ylabel(\"True Y\")\n",
    "        axes[1, i].legend()\n",
    "        \n",
    "        axes[2, i].scatter(y_pred_train_d, y_pred_train, color='black', label='Train', s=0.2)\n",
    "        axes[2, i].scatter(y_pred_test_d, y_pred_test, color='red', label='Test', s=0.2)\n",
    "        axes[2, i].plot([min(y_pred_train.min(), y_pred_train_d.min()), max(y_pred_train.max(), y_pred_train_d.max())], \n",
    "                        [min(y_pred_train.min(), y_pred_train_d.min()), max(y_pred_train.max(), y_pred_train_d.max())], \n",
    "                        color='black', linestyle='--', alpha=0.5)\n",
    "        axes[2, i].text(0.05, 0.95, f\"R2: Train={r2_train_dm:.2f}, Test={r2_test_dm:.2f}\",\n",
    "                        ha='left', va='bottom', transform=axes[2, i].transAxes)\n",
    "        axes[2, i].set_title(f\"d vs. m, l={lambda_val}\")\n",
    "        axes[2, i].set_xlabel(\"Distill Predicted Y\")\n",
    "        axes[2, i].set_ylabel(\"Model Predicted Y\")\n",
    "        axes[2, i].legend()\n",
    "        \n",
    "        axes[0, i].set_aspect('equal', adjustable='box')\n",
    "        axes[1, i].set_aspect('equal', adjustable='box')\n",
    "        axes[2, i].set_aspect('equal', adjustable='box')\n",
    "    \n",
    "    plt.tight_layout()\n",
    "    fig.savefig(f'{selection}_{model_name}.png')\n"
   ]
  },
  {
   "cell_type": "code",
   "execution_count": null,
   "id": "6a5fdf71-dcf2-4424-885b-8b2419bf1d10",
   "metadata": {},
   "outputs": [],
   "source": [
    "rf = RandomForestRegressor(max_depth = 1)\n",
    "rf.fit(X_train, y_train)"
   ]
  },
  {
   "cell_type": "code",
   "execution_count": 19,
   "id": "a9b0c83b-be80-474d-b987-46bc857cc1c3",
   "metadata": {},
   "outputs": [
    {
     "data": {
      "text/plain": [
       "<All keys matched successfully>"
      ]
     },
     "execution_count": 19,
     "metadata": {},
     "output_type": "execute_result"
    }
   ],
   "source": [
    "mlp = MLP(6, 100, 1)\n",
    "mlp.load_state_dict(torch.load('/home/mattyshen/interpretableDistillation/experiments/b_e_MLP_results/mlp_model.pth'))"
   ]
  },
  {
   "cell_type": "code",
   "execution_count": 20,
   "id": "e9b7bdab-0047-4ba8-969b-24fc65783c13",
   "metadata": {},
   "outputs": [],
   "source": [
    "y_pred_train_mlp = pd.Series(mlp(torch.tensor(X_train.values, dtype=torch.float32)).detach().numpy().reshape(-1, ), name = 'Y')\n",
    "y_pred_test_mlp = pd.Series(mlp(torch.tensor(X_test.values, dtype=torch.float32)).detach().numpy().reshape(-1, ), name = 'Y')"
   ]
  },
  {
   "cell_type": "code",
   "execution_count": null,
   "id": "e116e3b9-d399-4898-98d6-74340c565297",
   "metadata": {},
   "outputs": [],
   "source": [
    "evaluate_model(X_train, y_train, X_test, y_test, rf, 'L1', np.around(np.arange(0.01, 0.50, 0.1), decimals=2), model_name = 'RF,d=1');"
   ]
  },
  {
   "cell_type": "code",
   "execution_count": null,
   "id": "f81c071f-473c-499f-85af-aafb99ca1405",
   "metadata": {},
   "outputs": [],
   "source": [
    "evaluate_model(X_train, y_train, X_test, y_test, rf, 'L1', np.around(np.arange(0.01, 0.50, 0.1), decimals=2), \n",
    "               use_model = False, y_pred_train = y_pred_train_mlp, y_pred_test = y_pred_test_mlp, model_name = 'MLP');"
   ]
  },
  {
   "cell_type": "code",
   "execution_count": null,
   "id": "476db1a3-9cf2-4fb4-ac29-5a6faeea3052",
   "metadata": {},
   "outputs": [],
   "source": []
  },
  {
   "cell_type": "code",
   "execution_count": null,
   "id": "e8e0f2ef-8170-4ef7-b0bd-efd96cc1c8c7",
   "metadata": {},
   "outputs": [],
   "source": [
    "l0learn.fit(X.to_numpy().astype(float), y, penalty=\"L0L2\")"
   ]
  },
  {
   "cell_type": "code",
   "execution_count": null,
   "id": "27c5422d-8f63-4fdc-92b5-512e9da02c60",
   "metadata": {},
   "outputs": [],
   "source": []
  }
 ],
 "metadata": {
  "kernelspec": {
   "display_name": "Python 3 (ipykernel)",
   "language": "python",
   "name": "python3"
  },
  "language_info": {
   "codemirror_mode": {
    "name": "ipython",
    "version": 3
   },
   "file_extension": ".py",
   "mimetype": "text/x-python",
   "name": "python",
   "nbconvert_exporter": "python",
   "pygments_lexer": "ipython3",
   "version": "3.9.12"
  }
 },
 "nbformat": 4,
 "nbformat_minor": 5
}

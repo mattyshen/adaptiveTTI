{
 "cells": [
  {
   "cell_type": "code",
   "execution_count": 1,
   "id": "ab8ce990-8223-4fae-b68a-ed0e3f2161de",
   "metadata": {},
   "outputs": [],
   "source": [
    "def warn(*args, **kwargs):\n",
    "    pass\n",
    "import warnings\n",
    "warnings.warn = warn\n",
    "\n",
    "import numpy as np\n",
    "import pandas as pd\n",
    "import sys\n",
    "\n",
    "from sklearn.datasets import load_diabetes\n",
    "sys.path.append(\"..\")\n",
    "from interpretDistill.fourierDistill import FTDistill, FTDistillCV\n",
    "from interpretDistill.binaryTransformer import BinaryTransformer\n",
    "\n",
    "from sklearn.model_selection import train_test_split\n",
    "from sklearn.ensemble import RandomForestRegressor\n",
    "from sklearn.metrics import r2_score\n",
    "\n",
    "from interpretDistill.FTutils import *"
   ]
  },
  {
   "cell_type": "code",
   "execution_count": 2,
   "id": "77dd653f-efba-4262-9387-ab169048f947",
   "metadata": {},
   "outputs": [],
   "source": [
    "X, y = load_diabetes(as_frame = True, return_X_y = True)\n",
    "X_train, X_test, y_train, y_test = train_test_split(X, y, test_size=0.2, random_state=42)\n",
    "X_train, X_val, y_train, y_val = train_test_split(X_train, y_train, test_size=0.5, random_state=42)"
   ]
  },
  {
   "cell_type": "code",
   "execution_count": 3,
   "id": "cce06e76-fc73-4684-a4da-16e01173b75b",
   "metadata": {},
   "outputs": [],
   "source": [
    "bt = BinaryTransformer(depth=1)\n",
    "#X_train = bt.fit_and_transform(X_train, y_train)\n",
    "#X_val = bt.transform(X_val)\n",
    "X_val = bt.fit_and_transform(X_val, y_val)\n",
    "X_train = bt.transform(X_train)\n",
    "X_test = bt.transform(X_test)"
   ]
  },
  {
   "cell_type": "code",
   "execution_count": 4,
   "id": "023d297e-c064-4bc2-9273-5132ef6e0e4a",
   "metadata": {},
   "outputs": [
    {
     "data": {
      "text/html": [
       "<style>#sk-container-id-1 {color: black;background-color: white;}#sk-container-id-1 pre{padding: 0;}#sk-container-id-1 div.sk-toggleable {background-color: white;}#sk-container-id-1 label.sk-toggleable__label {cursor: pointer;display: block;width: 100%;margin-bottom: 0;padding: 0.3em;box-sizing: border-box;text-align: center;}#sk-container-id-1 label.sk-toggleable__label-arrow:before {content: \"▸\";float: left;margin-right: 0.25em;color: #696969;}#sk-container-id-1 label.sk-toggleable__label-arrow:hover:before {color: black;}#sk-container-id-1 div.sk-estimator:hover label.sk-toggleable__label-arrow:before {color: black;}#sk-container-id-1 div.sk-toggleable__content {max-height: 0;max-width: 0;overflow: hidden;text-align: left;background-color: #f0f8ff;}#sk-container-id-1 div.sk-toggleable__content pre {margin: 0.2em;color: black;border-radius: 0.25em;background-color: #f0f8ff;}#sk-container-id-1 input.sk-toggleable__control:checked~div.sk-toggleable__content {max-height: 200px;max-width: 100%;overflow: auto;}#sk-container-id-1 input.sk-toggleable__control:checked~label.sk-toggleable__label-arrow:before {content: \"▾\";}#sk-container-id-1 div.sk-estimator input.sk-toggleable__control:checked~label.sk-toggleable__label {background-color: #d4ebff;}#sk-container-id-1 div.sk-label input.sk-toggleable__control:checked~label.sk-toggleable__label {background-color: #d4ebff;}#sk-container-id-1 input.sk-hidden--visually {border: 0;clip: rect(1px 1px 1px 1px);clip: rect(1px, 1px, 1px, 1px);height: 1px;margin: -1px;overflow: hidden;padding: 0;position: absolute;width: 1px;}#sk-container-id-1 div.sk-estimator {font-family: monospace;background-color: #f0f8ff;border: 1px dotted black;border-radius: 0.25em;box-sizing: border-box;margin-bottom: 0.5em;}#sk-container-id-1 div.sk-estimator:hover {background-color: #d4ebff;}#sk-container-id-1 div.sk-parallel-item::after {content: \"\";width: 100%;border-bottom: 1px solid gray;flex-grow: 1;}#sk-container-id-1 div.sk-label:hover label.sk-toggleable__label {background-color: #d4ebff;}#sk-container-id-1 div.sk-serial::before {content: \"\";position: absolute;border-left: 1px solid gray;box-sizing: border-box;top: 0;bottom: 0;left: 50%;z-index: 0;}#sk-container-id-1 div.sk-serial {display: flex;flex-direction: column;align-items: center;background-color: white;padding-right: 0.2em;padding-left: 0.2em;position: relative;}#sk-container-id-1 div.sk-item {position: relative;z-index: 1;}#sk-container-id-1 div.sk-parallel {display: flex;align-items: stretch;justify-content: center;background-color: white;position: relative;}#sk-container-id-1 div.sk-item::before, #sk-container-id-1 div.sk-parallel-item::before {content: \"\";position: absolute;border-left: 1px solid gray;box-sizing: border-box;top: 0;bottom: 0;left: 50%;z-index: -1;}#sk-container-id-1 div.sk-parallel-item {display: flex;flex-direction: column;z-index: 1;position: relative;background-color: white;}#sk-container-id-1 div.sk-parallel-item:first-child::after {align-self: flex-end;width: 50%;}#sk-container-id-1 div.sk-parallel-item:last-child::after {align-self: flex-start;width: 50%;}#sk-container-id-1 div.sk-parallel-item:only-child::after {width: 0;}#sk-container-id-1 div.sk-dashed-wrapped {border: 1px dashed gray;margin: 0 0.4em 0.5em 0.4em;box-sizing: border-box;padding-bottom: 0.4em;background-color: white;}#sk-container-id-1 div.sk-label label {font-family: monospace;font-weight: bold;display: inline-block;line-height: 1.2em;}#sk-container-id-1 div.sk-label-container {text-align: center;}#sk-container-id-1 div.sk-container {/* jupyter's `normalize.less` sets `[hidden] { display: none; }` but bootstrap.min.css set `[hidden] { display: none !important; }` so we also need the `!important` here to be able to override the default hidden behavior on the sphinx rendered scikit-learn.org. See: https://github.com/scikit-learn/scikit-learn/issues/21755 */display: inline-block !important;position: relative;}#sk-container-id-1 div.sk-text-repr-fallback {display: none;}</style><div id=\"sk-container-id-1\" class=\"sk-top-container\"><div class=\"sk-text-repr-fallback\"><pre>RandomForestRegressor(max_depth=4, random_state=42)</pre><b>In a Jupyter environment, please rerun this cell to show the HTML representation or trust the notebook. <br />On GitHub, the HTML representation is unable to render, please try loading this page with nbviewer.org.</b></div><div class=\"sk-container\" hidden><div class=\"sk-item\"><div class=\"sk-estimator sk-toggleable\"><input class=\"sk-toggleable__control sk-hidden--visually\" id=\"sk-estimator-id-1\" type=\"checkbox\" checked><label for=\"sk-estimator-id-1\" class=\"sk-toggleable__label sk-toggleable__label-arrow\">RandomForestRegressor</label><div class=\"sk-toggleable__content\"><pre>RandomForestRegressor(max_depth=4, random_state=42)</pre></div></div></div></div></div>"
      ],
      "text/plain": [
       "RandomForestRegressor(max_depth=4, random_state=42)"
      ]
     },
     "execution_count": 4,
     "metadata": {},
     "output_type": "execute_result"
    }
   ],
   "source": [
    "rf = RandomForestRegressor(max_depth=4, random_state=42)\n",
    "rf.fit(X_train, y_train)"
   ]
  },
  {
   "cell_type": "code",
   "execution_count": 5,
   "id": "5525c217-ee85-4e38-aa6b-dd065925e739",
   "metadata": {},
   "outputs": [
    {
     "data": {
      "text/plain": [
       "((176, 19), (177, 19), (89, 19))"
      ]
     },
     "execution_count": 5,
     "metadata": {},
     "output_type": "execute_result"
    }
   ],
   "source": [
    "X_train.shape, X_val.shape, X_test.shape"
   ]
  },
  {
   "cell_type": "code",
   "execution_count": 6,
   "id": "2d631cd6-f81c-4f77-a688-6563ec5c8da8",
   "metadata": {},
   "outputs": [
    {
     "data": {
      "text/plain": [
       "(0.5690328686530103, 0.45458549134785586, 0.3327758359638333)"
      ]
     },
     "execution_count": 6,
     "metadata": {},
     "output_type": "execute_result"
    }
   ],
   "source": [
    "r2_score(y_train, rf.predict(X_train)), r2_score(y_val, rf.predict(X_val)), r2_score(y_test, rf.predict(X_test))"
   ]
  },
  {
   "cell_type": "code",
   "execution_count": 14,
   "id": "2fa29af8-8940-4df1-9463-6191137bd541",
   "metadata": {},
   "outputs": [
    {
     "data": {
      "text/plain": [
       "<interpretDistill.fourierDistill.FTDistill at 0x7f4ec5665490>"
      ]
     },
     "execution_count": 14,
     "metadata": {},
     "output_type": "execute_result"
    }
   ],
   "source": [
    "#ftd = FTDistillCV(selection = 'L1L2', lam1_range=np.arange(0.01, 1.1, 0.33), lam2_range=np.arange(0.01, 1.1, 0.33), size_interactions = 3)\n",
    "ftd = FTDistill(selection = 'L1L2', lam1=15, lam2=15, size_interactions = 6)\n",
    "ftd.fit(X_val, rf.predict(X_val))"
   ]
  },
  {
   "cell_type": "code",
   "execution_count": 15,
   "id": "7dfe387a-4199-4ada-b0d3-44193e8d9ef0",
   "metadata": {},
   "outputs": [
    {
     "data": {
      "text/plain": [
       "468"
      ]
     },
     "execution_count": 15,
     "metadata": {},
     "output_type": "execute_result"
    }
   ],
   "source": [
    "np.sum(ftd.regression_model.coef_ != 0)"
   ]
  },
  {
   "cell_type": "code",
   "execution_count": 9,
   "id": "38ea5a34-691c-4b73-8864-d459ee7af389",
   "metadata": {},
   "outputs": [
    {
     "data": {
      "text/plain": [
       "(-0.8625133699900722, -0.8707487057230432, -0.721514871233137)"
      ]
     },
     "execution_count": 9,
     "metadata": {},
     "output_type": "execute_result"
    }
   ],
   "source": [
    "r2_score(y_train, ftd.predict(X_train)), r2_score(y_val, ftd.predict(X_val)), r2_score(y_test, ftd.predict(X_test))"
   ]
  },
  {
   "cell_type": "code",
   "execution_count": 16,
   "id": "f08d7ee3-cdb3-46cd-974a-b630fe86e1d1",
   "metadata": {},
   "outputs": [
    {
     "data": {
      "text/plain": [
       "<interpretDistill.fourierDistill.FTDistill at 0x7f4ec589aca0>"
      ]
     },
     "execution_count": 16,
     "metadata": {},
     "output_type": "execute_result"
    }
   ],
   "source": [
    "#ftd = FTDistillCV(selection = 'L1L2', lam1_range=np.arange(0.01, 1.1, 0.33), lam2_range=np.arange(0.01, 1.1, 0.33), size_interactions = 3)\n",
    "ftd = FTDistill(selection = 'L1L2', lam1=15, lam2=15, size_interactions = 6)\n",
    "ftd.fit(X_train, rf.predict(X_train))"
   ]
  },
  {
   "cell_type": "code",
   "execution_count": 17,
   "id": "7aeb7ac3-5beb-4dbc-8aca-2564763440d4",
   "metadata": {},
   "outputs": [
    {
     "data": {
      "text/plain": [
       "816"
      ]
     },
     "execution_count": 17,
     "metadata": {},
     "output_type": "execute_result"
    }
   ],
   "source": [
    "np.sum(ftd.regression_model.coef_ != 0)"
   ]
  },
  {
   "cell_type": "code",
   "execution_count": 18,
   "id": "f625d39f-3650-4fba-bfec-060cb67517a2",
   "metadata": {},
   "outputs": [
    {
     "data": {
      "text/plain": [
       "(0.13956876899349424, 0.12958447111020788, 0.19794941311093572)"
      ]
     },
     "execution_count": 18,
     "metadata": {},
     "output_type": "execute_result"
    }
   ],
   "source": [
    "r2_score(y_train, ftd.predict(X_train)), r2_score(y_val, ftd.predict(X_val)), r2_score(y_test, ftd.predict(X_test))"
   ]
  },
  {
   "cell_type": "code",
   "execution_count": 13,
   "id": "85193285-2977-4665-9e04-cad828bc6506",
   "metadata": {},
   "outputs": [
    {
     "ename": "TypeError",
     "evalue": "fit() takes from 2 to 3 positional arguments but 4 were given",
     "output_type": "error",
     "traceback": [
      "\u001b[0;31m---------------------------------------------------------------------------\u001b[0m",
      "\u001b[0;31mTypeError\u001b[0m                                 Traceback (most recent call last)",
      "Input \u001b[0;32mIn [13]\u001b[0m, in \u001b[0;36m<cell line: 5>\u001b[0;34m()\u001b[0m\n\u001b[1;32m      3\u001b[0m \u001b[38;5;66;03m#ftd = FTDistillCV(selection = 'L1L2', lam1_range=np.arange(0.01, 1.1, 0.33), lam2_range=np.arange(0.01, 1.1, 0.33), size_interactions = 4)\u001b[39;00m\n\u001b[1;32m      4\u001b[0m ftd \u001b[38;5;241m=\u001b[39m FTDistill(selection \u001b[38;5;241m=\u001b[39m \u001b[38;5;124m'\u001b[39m\u001b[38;5;124mL1L2\u001b[39m\u001b[38;5;124m'\u001b[39m, lam1\u001b[38;5;241m=\u001b[39m\u001b[38;5;241m0.1\u001b[39m, lam2\u001b[38;5;241m=\u001b[39m\u001b[38;5;241m0.1\u001b[39m, size_interactions \u001b[38;5;241m=\u001b[39m \u001b[38;5;241m4\u001b[39m)\n\u001b[0;32m----> 5\u001b[0m \u001b[43mftd\u001b[49m\u001b[38;5;241;43m.\u001b[39;49m\u001b[43mfit\u001b[49m\u001b[43m(\u001b[49m\u001b[43mbinary\u001b[49m\u001b[43m,\u001b[49m\u001b[43m \u001b[49m\u001b[43my\u001b[49m\u001b[43m,\u001b[49m\u001b[43m \u001b[49m\u001b[43mbt\u001b[49m\u001b[38;5;241;43m.\u001b[39;49m\u001b[43mno_interaction\u001b[49m\u001b[43m)\u001b[49m\n",
      "\u001b[0;31mTypeError\u001b[0m: fit() takes from 2 to 3 positional arguments but 4 were given"
     ]
    }
   ],
   "source": [
    "bt = BinaryTransformer(depth=1)\n",
    "binary = bt.fit_and_transform(X, y)\n",
    "#ftd = FTDistillCV(selection = 'L1L2', lam1_range=np.arange(0.01, 1.1, 0.33), lam2_range=np.arange(0.01, 1.1, 0.33), size_interactions = 4)\n",
    "ftd = FTDistill(selection = 'L1L2', lam1=0.1, lam2=0.1, size_interactions = 4)\n",
    "ftd.fit(binary, y, bt.no_interaction)"
   ]
  },
  {
   "cell_type": "code",
   "execution_count": null,
   "id": "73a6d34d-e391-47d8-8f41-de25c4cd735e",
   "metadata": {},
   "outputs": [],
   "source": [
    "np.mean(ftd.regression_model.coef_ != 0)"
   ]
  },
  {
   "cell_type": "code",
   "execution_count": null,
   "id": "afc2ab41-e637-4953-8468-4edb023aa45d",
   "metadata": {},
   "outputs": [],
   "source": [
    "bt.no_interaction"
   ]
  },
  {
   "cell_type": "code",
   "execution_count": null,
   "id": "686d9797-e3d9-4b4d-a43d-b91ab45b332d",
   "metadata": {},
   "outputs": [],
   "source": [
    "np.sum(ftd_naive.regression_model.coef_ != 0)"
   ]
  },
  {
   "cell_type": "code",
   "execution_count": null,
   "id": "e7f12620-9cdd-4c17-982d-fa4f3f8a4b6e",
   "metadata": {},
   "outputs": [],
   "source": [
    "np.array(list(map(str, ftd_naive.features)))[ftd_naive.regression_model.coef_ != 0]"
   ]
  },
  {
   "cell_type": "code",
   "execution_count": null,
   "id": "973fcecb-25bb-4e33-8dad-dd8057bf9cf0",
   "metadata": {},
   "outputs": [],
   "source": [
    "np.sum(binary.values == 1) + np.sum(binary.values == -1) == np.prod(binary.shape)"
   ]
  },
  {
   "cell_type": "code",
   "execution_count": null,
   "id": "27c9abf0-0825-4aa8-bcf7-03995cbb2436",
   "metadata": {},
   "outputs": [],
   "source": [
    "import pandas as pd\n",
    "\n",
    "# Initialize memoization dictionary\n",
    "memo = {}\n",
    "\n",
    "def compute_subset_product(subset, data):\n",
    "    global memo\n",
    "    \n",
    "    if subset in memo:\n",
    "        print(\"Using memoized result for subset:\", subset)\n",
    "        return memo[subset]\n",
    "    \n",
    "    result = pd.Series(1, index=data.index) if not subset else _compute_subset_product_helper(subset, data)\n",
    "    \n",
    "    memo[subset] = result\n",
    "    \n",
    "    return result\n",
    "\n",
    "def _compute_subset_product_helper(subset, data):\n",
    "    global memo\n",
    "    \n",
    "    if len(subset) == 1:\n",
    "        print(\"Computed product for subset:\", subset)\n",
    "        return data[subset[0]]\n",
    "    \n",
    "    if subset in memo:\n",
    "        return memo[subset]\n",
    "    \n",
    "    if set(subset) in [set(k) for k in memo.keys()]:\n",
    "        \n",
    "        shuffled_permutations = itertools.permutations(subset)\n",
    "\n",
    "        for perm in shuffled_permutations:\n",
    "            if perm in my_dict:\n",
    "                return memo[perm]\n",
    "    \n",
    "    overlaps = [(k, len(set(subset).intersection(set(k)))) for k in memo.keys()]\n",
    "    print(f'overlaps: {overlaps} for subset: {subset}')\n",
    "    if len(overlaps) == 0 or max(overlaps, key=lambda x: x[1])[1] == 0:\n",
    "        result = pd.Series(1, index = data.index) if not subset else data[list(subset)].product(axis=1)\n",
    "        memo[subset] = result\n",
    "        return result\n",
    "    else:\n",
    "        max_subset = max(overlaps, key=lambda x: x[1])[0]\n",
    "        max_subset_product = memo[max_subset]\n",
    "        remaining_subset = tuple(set(subset) - set(max_subset))\n",
    "\n",
    "        remaining_subset_product = _compute_subset_product_helper(remaining_subset, data)\n",
    "        result = max_subset_product * remaining_subset_product\n",
    "\n",
    "        memo[subset] = result\n",
    "\n",
    "        return result\n",
    "        \n",
    "\n",
    "# Example usage\n",
    "data = pd.DataFrame({'A': [1, 2, 3], 'B': [4, 5, 6], 'C': [7, 8, 9], 'D': [10, 11, 12], 'E': [9, 8, 7]})\n",
    "subset = [('A', 'B'), ('C', 'D', 'E'), ('A', 'B', 'C', 'D', 'E')]\n",
    "Chi = pd.DataFrame()\n",
    "for s in subset:\n",
    "    Chi[s] = compute_subset_product(s, data)"
   ]
  },
  {
   "cell_type": "code",
   "execution_count": null,
   "id": "76a3e3ae-7a72-4b75-a73d-d73f9587ade3",
   "metadata": {},
   "outputs": [],
   "source": [
    "Chi"
   ]
  },
  {
   "cell_type": "code",
   "execution_count": null,
   "id": "54a6cdfb-fa48-49b2-8f44-22b6db4a866c",
   "metadata": {},
   "outputs": [],
   "source": [
    "memo = {('a', 'b'): 'hello'}"
   ]
  },
  {
   "cell_type": "code",
   "execution_count": null,
   "id": "e55fd099-96b4-4c55-a6e3-a5bf3a661689",
   "metadata": {},
   "outputs": [],
   "source": [
    "memo[('b', 'a')]"
   ]
  },
  {
   "cell_type": "code",
   "execution_count": null,
   "id": "82f18f3e-5550-4702-ac84-b9b627e3ef09",
   "metadata": {},
   "outputs": [],
   "source": [
    "t = [(1), (2, 3), (), (5, 6, 7)]"
   ]
  },
  {
   "cell_type": "code",
   "execution_count": null,
   "id": "55d12d90-cc1f-4de1-a599-f9c5eba36e4f",
   "metadata": {},
   "outputs": [],
   "source": [
    "sorted(t, key=len)"
   ]
  },
  {
   "cell_type": "code",
   "execution_count": null,
   "id": "6215a913-ce23-4b60-bdde-6d5b103593f8",
   "metadata": {},
   "outputs": [],
   "source": [
    "list_of_tuples = [(), (1,), (1, 2), (1, 2, 3), (1, 2, 3, 4), (1, 2, 3, 4, 5)]\n",
    "\n",
    "sorted_list = sorted(list_of_tuples, key=len)\n",
    "\n",
    "print(\"Sorted list:\", sorted_list)"
   ]
  },
  {
   "cell_type": "code",
   "execution_count": null,
   "id": "99d119ce-b402-4412-8a6d-b84fd38dfdf5",
   "metadata": {},
   "outputs": [],
   "source": []
  }
 ],
 "metadata": {
  "kernelspec": {
   "display_name": "Python 3 (ipykernel)",
   "language": "python",
   "name": "python3"
  },
  "language_info": {
   "codemirror_mode": {
    "name": "ipython",
    "version": 3
   },
   "file_extension": ".py",
   "mimetype": "text/x-python",
   "name": "python",
   "nbconvert_exporter": "python",
   "pygments_lexer": "ipython3",
   "version": "3.9.12"
  }
 },
 "nbformat": 4,
 "nbformat_minor": 5
}

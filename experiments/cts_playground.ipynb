{
 "cells": [
  {
   "cell_type": "code",
   "execution_count": null,
   "id": "ab8ce990-8223-4fae-b68a-ed0e3f2161de",
   "metadata": {},
   "outputs": [],
   "source": [
    "def warn(*args, **kwargs):\n",
    "    pass\n",
    "import warnings\n",
    "warnings.warn = warn\n",
    "\n",
    "import numpy as np\n",
    "import pandas as pd\n",
    "import sys\n",
    "\n",
    "from sklearn.datasets import load_diabetes\n",
    "sys.path.append(\"..\")\n",
    "from interpretDistill.fourierDistill import FTDistill, FTDistillCV\n",
    "from interpretDistill.binaryTransformer import BinaryTransformer\n",
    "\n",
    "from sklearn.model_selection import train_test_split\n",
    "from sklearn.ensemble import RandomForestRegressor\n",
    "from sklearn.metrics import r2_score\n",
    "\n",
    "from interpretDistill.FTutils import *"
   ]
  },
  {
   "cell_type": "code",
   "execution_count": null,
   "id": "77dd653f-efba-4262-9387-ab169048f947",
   "metadata": {},
   "outputs": [],
   "source": [
    "X, y = load_diabetes(as_frame = True, return_X_y = True)\n",
    "X_train, X_test, y_train, y_test = train_test_split(X, y, test_size=0.2, random_state=42)\n",
    "X_train, X_val, y_train, y_val = train_test_split(X_train, y_train, test_size=0.5, random_state=42)"
   ]
  },
  {
   "cell_type": "code",
   "execution_count": null,
   "id": "193513f1-a7e7-4aad-bc8e-e333bc01e90d",
   "metadata": {},
   "outputs": [],
   "source": [
    "X.columns"
   ]
  },
  {
   "cell_type": "code",
   "execution_count": null,
   "id": "5cbeb7b0-da57-4e29-a039-995ffac4f2f4",
   "metadata": {},
   "outputs": [],
   "source": [
    "bt_b = BinaryTransformer(depth=2, bit = True)\n",
    "X_train_b = bt_b.fit_and_transform(X_train, y_train)\n",
    "X_val_b = bt_b.transform(X_val)\n",
    "# X_val = bt.fit_and_transform(X_val, y_val)\n",
    "# X_train = bt.transform(X_train)\n",
    "X_test_b = bt_b.transform(X_test)"
   ]
  },
  {
   "cell_type": "code",
   "execution_count": null,
   "id": "d8ea7ee4-6f4c-4316-89d5-07844002a91b",
   "metadata": {},
   "outputs": [],
   "source": [
    "X_train_b.shape, X_val_b.shape, X_test_b.shape"
   ]
  },
  {
   "cell_type": "code",
   "execution_count": null,
   "id": "cce06e76-fc73-4684-a4da-16e01173b75b",
   "metadata": {},
   "outputs": [],
   "source": [
    "bt = BinaryTransformer(depth=3)\n",
    "X_train_n = bt.fit_and_transform(X_train, y_train)\n",
    "X_val_n = bt.transform(X_val)\n",
    "# X_val = bt.fit_and_transform(X_val, y_val)\n",
    "# X_train = bt.transform(X_train)\n",
    "X_test_n = bt.transform(X_test)\n"
   ]
  },
  {
   "cell_type": "code",
   "execution_count": null,
   "id": "864070b7-fe2d-492c-bc65-9400a4f763c1",
   "metadata": {},
   "outputs": [],
   "source": [
    "X_train_n.shape, X_val_n.shape, X_test_n.shape"
   ]
  },
  {
   "cell_type": "code",
   "execution_count": null,
   "id": "28cecf97-6f48-4d38-9b93-4bcbcb82db98",
   "metadata": {},
   "outputs": [],
   "source": [
    "from sklearn.preprocessing import LabelBinarizer\n",
    "lb = LabelBinarizer()\n",
    "lb.fit(np.arange(15))"
   ]
  },
  {
   "cell_type": "code",
   "execution_count": null,
   "id": "d3f43988-a875-49f2-9032-f7ad8c579326",
   "metadata": {},
   "outputs": [],
   "source": [
    "hi = {1:1, 3:5}"
   ]
  },
  {
   "cell_type": "code",
   "execution_count": null,
   "id": "b29db72d-2919-4ebb-a1fb-c0f6b05cd473",
   "metadata": {},
   "outputs": [],
   "source": [
    "max([2])"
   ]
  },
  {
   "cell_type": "code",
   "execution_count": null,
   "id": "ae680e2d-8522-4eba-828e-e50ec9b2177f",
   "metadata": {},
   "outputs": [],
   "source": [
    "lb.transform([1, 13])"
   ]
  },
  {
   "cell_type": "code",
   "execution_count": null,
   "id": "023d297e-c064-4bc2-9273-5132ef6e0e4a",
   "metadata": {},
   "outputs": [],
   "source": [
    "rf = RandomForestRegressor(max_depth=4, random_state=42)\n",
    "rf.fit(X_train, y_train)"
   ]
  },
  {
   "cell_type": "code",
   "execution_count": null,
   "id": "2d631cd6-f81c-4f77-a688-6563ec5c8da8",
   "metadata": {},
   "outputs": [],
   "source": [
    "r2_score(y_train, rf.predict(X_train)), r2_score(y_val, rf.predict(X_val)), r2_score(y_test, rf.predict(X_test))"
   ]
  },
  {
   "cell_type": "code",
   "execution_count": null,
   "id": "ddbcbaca-7474-4706-b9bd-261d9e9afe0d",
   "metadata": {},
   "outputs": [],
   "source": [
    "np.mean((y_train- rf.predict(X_train))**2), np.mean((y_val- rf.predict(X_val))**2), np.mean((y_test- rf.predict(X_test))**2)"
   ]
  },
  {
   "cell_type": "code",
   "execution_count": null,
   "id": "2fa29af8-8940-4df1-9463-6191137bd541",
   "metadata": {},
   "outputs": [],
   "source": [
    "#ftd = FTDistillCV(selection = 'L1L2', lam1_range=np.arange(0.01, 1.1, 0.33), lam2_range=np.arange(0.01, 1.1, 0.33), size_interactions = 3)\n",
    "ftd = FTDistill(selection = 'L1L2', lam1=5, lam2=5, size_interactions = 6)\n",
    "ftd.fit(X_val, rf.predict(X_val), bt.no_interaction)"
   ]
  },
  {
   "cell_type": "code",
   "execution_count": null,
   "id": "7dfe387a-4199-4ada-b0d3-44193e8d9ef0",
   "metadata": {},
   "outputs": [],
   "source": [
    "np.mean((y_train- ftd.predict(X_train))**2), np.mean((y_val- ftd.predict(X_val))**2), np.mean((y_test- ftd.predict(X_test))**2)"
   ]
  },
  {
   "cell_type": "code",
   "execution_count": null,
   "id": "38ea5a34-691c-4b73-8864-d459ee7af389",
   "metadata": {},
   "outputs": [],
   "source": [
    "r2_score(y_train, ftd.predict(X_train)), r2_score(y_val, ftd.predict(X_val)), r2_score(y_test, ftd.predict(X_test))"
   ]
  },
  {
   "cell_type": "code",
   "execution_count": null,
   "id": "f08d7ee3-cdb3-46cd-974a-b630fe86e1d1",
   "metadata": {},
   "outputs": [],
   "source": [
    "#ftd = FTDistillCV(selection = 'L1L2', lam1_range=np.arange(0.01, 1.1, 0.33), lam2_range=np.arange(0.01, 1.1, 0.33), size_interactions = 3)\n",
    "ftd1 = FTDistill(selection = 'L1L2', lam1=10, lam2=10, size_interactions = 6)\n",
    "ftd1.fit(X_train, rf.predict(X_train))"
   ]
  },
  {
   "cell_type": "code",
   "execution_count": null,
   "id": "7aeb7ac3-5beb-4dbc-8aca-2564763440d4",
   "metadata": {},
   "outputs": [],
   "source": [
    "np.sum(ftd1.regression_model.coef_ != 0)"
   ]
  },
  {
   "cell_type": "code",
   "execution_count": null,
   "id": "9f6015b1-2467-4f5b-ab25-710401d65dd0",
   "metadata": {},
   "outputs": [],
   "source": [
    "np.mean((y_train- ftd1.predict(X_train))**2), np.mean((y_val- ftd1.predict(X_val))**2), np.mean((y_test- ftd1.predict(X_test))**2)"
   ]
  },
  {
   "cell_type": "code",
   "execution_count": null,
   "id": "f625d39f-3650-4fba-bfec-060cb67517a2",
   "metadata": {},
   "outputs": [],
   "source": [
    "r2_score(y_train, ftd1.predict(X_train)), r2_score(y_val, ftd1.predict(X_val)), r2_score(y_test, ftd1.predict(X_test))"
   ]
  },
  {
   "cell_type": "code",
   "execution_count": null,
   "id": "99d119ce-b402-4412-8a6d-b84fd38dfdf5",
   "metadata": {},
   "outputs": [],
   "source": []
  }
 ],
 "metadata": {
  "kernelspec": {
   "display_name": "Python 3 (ipykernel)",
   "language": "python",
   "name": "python3"
  },
  "language_info": {
   "codemirror_mode": {
    "name": "ipython",
    "version": 3
   },
   "file_extension": ".py",
   "mimetype": "text/x-python",
   "name": "python",
   "nbconvert_exporter": "python",
   "pygments_lexer": "ipython3",
   "version": "3.9.12"
  }
 },
 "nbformat": 4,
 "nbformat_minor": 5
}

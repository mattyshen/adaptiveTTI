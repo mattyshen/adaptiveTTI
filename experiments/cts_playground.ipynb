{
 "cells": [
  {
   "cell_type": "code",
   "execution_count": 1,
   "id": "ab8ce990-8223-4fae-b68a-ed0e3f2161de",
   "metadata": {},
   "outputs": [],
   "source": [
    "def warn(*args, **kwargs):\n",
    "    pass\n",
    "import warnings\n",
    "warnings.warn = warn\n",
    "\n",
    "import numpy as np\n",
    "import pandas as pd\n",
    "import sys\n",
    "\n",
    "from sklearn.datasets import load_diabetes\n",
    "sys.path.append(\"..\")\n",
    "from interpretDistill.fourierDistill import FTDistill, FTDistillCV\n",
    "from interpretDistill.binaryTransformer import BinaryTransformer\n",
    "\n",
    "from interpretDistill.FTutils import *"
   ]
  },
  {
   "cell_type": "code",
   "execution_count": 2,
   "id": "dd90230f-2abd-45ea-9ba3-f44249cb77d5",
   "metadata": {},
   "outputs": [],
   "source": [
    "X, y = load_diabetes(as_frame = True, return_X_y = True)"
   ]
  },
  {
   "cell_type": "code",
   "execution_count": 3,
   "id": "1d681d4d-ade5-4614-922b-37e5f38db429",
   "metadata": {},
   "outputs": [],
   "source": [
    "bt = BinaryTransformer(depth=1)\n",
    "binary = bt.fit_and_transform(X, y)"
   ]
  },
  {
   "cell_type": "code",
   "execution_count": 14,
   "id": "85193285-2977-4665-9e04-cad828bc6506",
   "metadata": {},
   "outputs": [
    {
     "name": "stdout",
     "output_type": "stream",
     "text": [
      "----\n",
      "num features post prune: 998\n"
     ]
    },
    {
     "data": {
      "text/plain": [
       "<interpretDistill.fourierDistill.FTDistillCV at 0x7fe9705af9d0>"
      ]
     },
     "execution_count": 14,
     "metadata": {},
     "output_type": "execute_result"
    }
   ],
   "source": [
    "bt = BinaryTransformer(depth=1)\n",
    "binary = bt.fit_and_transform(X, y)\n",
    "print('----')\n",
    "ftd_naive = FTDistillCV(selection = 'L1L2', lam1_range=np.arange(0.01, 1.1, 0.33), lam2_range=np.arange(0.01, 1.1, 0.33), size_interactions = 3)\n",
    "ftd_naive.fit(binary, y, bt.no_interaction)"
   ]
  },
  {
   "cell_type": "code",
   "execution_count": 16,
   "id": "686d9797-e3d9-4b4d-a43d-b91ab45b332d",
   "metadata": {},
   "outputs": [
    {
     "data": {
      "text/plain": [
       "874"
      ]
     },
     "execution_count": 16,
     "metadata": {},
     "output_type": "execute_result"
    }
   ],
   "source": [
    "np.sum(ftd_naive.regression_model.coef_ != 0)"
   ]
  },
  {
   "cell_type": "code",
   "execution_count": null,
   "id": "e7f12620-9cdd-4c17-982d-fa4f3f8a4b6e",
   "metadata": {},
   "outputs": [],
   "source": [
    "np.array(list(map(str, ftd_naive.features)))[ftd_naive.regression_model.coef_ != 0]"
   ]
  },
  {
   "cell_type": "code",
   "execution_count": null,
   "id": "973fcecb-25bb-4e33-8dad-dd8057bf9cf0",
   "metadata": {},
   "outputs": [],
   "source": [
    "np.sum(binary.values == 1) + np.sum(binary.values == -1) == np.prod(binary.shape)"
   ]
  },
  {
   "cell_type": "code",
   "execution_count": null,
   "id": "27c9abf0-0825-4aa8-bcf7-03995cbb2436",
   "metadata": {},
   "outputs": [],
   "source": []
  }
 ],
 "metadata": {
  "kernelspec": {
   "display_name": "Python 3 (ipykernel)",
   "language": "python",
   "name": "python3"
  },
  "language_info": {
   "codemirror_mode": {
    "name": "ipython",
    "version": 3
   },
   "file_extension": ".py",
   "mimetype": "text/x-python",
   "name": "python",
   "nbconvert_exporter": "python",
   "pygments_lexer": "ipython3",
   "version": "3.9.12"
  }
 },
 "nbformat": 4,
 "nbformat_minor": 5
}

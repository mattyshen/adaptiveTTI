{
 "cells": [
  {
   "cell_type": "code",
   "execution_count": 1,
   "id": "ab8ce990-8223-4fae-b68a-ed0e3f2161de",
   "metadata": {},
   "outputs": [],
   "source": [
    "def warn(*args, **kwargs):\n",
    "    pass\n",
    "import warnings\n",
    "warnings.warn = warn\n",
    "\n",
    "import numpy as np\n",
    "import pandas as pd\n",
    "import sys\n",
    "\n",
    "from sklearn.datasets import load_diabetes\n",
    "sys.path.append(\"..\")\n",
    "from interpretDistill.fourierDistill import FTDistill, FTDistillCV\n",
    "from interpretDistill.binaryTransformer import BinaryTransformer\n",
    "\n",
    "from sklearn.model_selection import train_test_split\n",
    "from sklearn.ensemble import RandomForestRegressor\n",
    "from sklearn.metrics import r2_score\n",
    "\n",
    "from interpretDistill.FTutils import *"
   ]
  },
  {
   "cell_type": "code",
   "execution_count": 2,
   "id": "77dd653f-efba-4262-9387-ab169048f947",
   "metadata": {},
   "outputs": [],
   "source": [
    "X, y = load_diabetes(as_frame = True, return_X_y = True)\n",
    "X_train, X_test, y_train, y_test = train_test_split(X, y, test_size=0.2, random_state=42)\n",
    "X_train, X_val, y_train, y_val = train_test_split(X_train, y_train, test_size=0.5, random_state=42)"
   ]
  },
  {
   "cell_type": "code",
   "execution_count": 3,
   "id": "193513f1-a7e7-4aad-bc8e-e333bc01e90d",
   "metadata": {},
   "outputs": [
    {
     "data": {
      "text/plain": [
       "Index(['age', 'sex', 'bmi', 'bp', 's1', 's2', 's3', 's4', 's5', 's6'], dtype='object')"
      ]
     },
     "execution_count": 3,
     "metadata": {},
     "output_type": "execute_result"
    }
   ],
   "source": [
    "X.columns"
   ]
  },
  {
   "cell_type": "code",
   "execution_count": 4,
   "id": "5cbeb7b0-da57-4e29-a039-995ffac4f2f4",
   "metadata": {},
   "outputs": [
    {
     "name": "stdout",
     "output_type": "stream",
     "text": [
      "[2, 3, 5, 6]\n",
      "[2, 3, 5, 6]\n",
      "[2, 3, 5, 6]\n",
      "[2, 3, 5, 6]\n",
      "[2, 3, 5, 6]\n",
      "[2, 3, 5, 6]\n",
      "[2, 3, 5, 6]\n",
      "[2, 3, 5, 6]\n",
      "[2, 3, 5, 6]\n",
      "[2, 3, 5, 6]\n",
      "[2, 3, 5, 6]\n",
      "[2, 3, 5, 6]\n",
      "[2, 3, 5, 6]\n",
      "[2, 3, 5, 6]\n",
      "[3, 5, 6]\n",
      "[2, 3, 5, 6]\n",
      "[2, 3, 5, 6]\n",
      "[2, 3, 5, 6]\n",
      "[2, 3, 5, 6]\n",
      "[2, 3, 5, 6]\n",
      "[2, 3, 5, 6]\n",
      "[2, 3, 5, 6]\n",
      "[2, 3, 5, 6]\n",
      "[3, 5, 6]\n",
      "[2, 3, 5, 6]\n",
      "[2, 3, 5, 6]\n",
      "[2, 3, 5, 6]\n"
     ]
    }
   ],
   "source": [
    "bt_b = BinaryTransformer(depth=2, bit = True)\n",
    "X_train_b = bt_b.fit_and_transform(X_train, y_train)\n",
    "X_val_b = bt_b.transform(X_val)\n",
    "# X_val = bt.fit_and_transform(X_val, y_val)\n",
    "# X_train = bt.transform(X_train)\n",
    "X_test_b = bt_b.transform(X_test)"
   ]
  },
  {
   "cell_type": "code",
   "execution_count": 5,
   "id": "d8ea7ee4-6f4c-4316-89d5-07844002a91b",
   "metadata": {},
   "outputs": [
    {
     "data": {
      "text/plain": [
       "((176, 37), (177, 37), (89, 37))"
      ]
     },
     "execution_count": 5,
     "metadata": {},
     "output_type": "execute_result"
    }
   ],
   "source": [
    "X_train_b.shape, X_val_b.shape, X_test_b.shape"
   ]
  },
  {
   "cell_type": "code",
   "execution_count": 19,
   "id": "cce06e76-fc73-4684-a4da-16e01173b75b",
   "metadata": {},
   "outputs": [
    {
     "name": "stdout",
     "output_type": "stream",
     "text": [
      "[3, 4, 6, 7, 10, 11, 13, 14]\n",
      "[3, 4, 6, 7, 10, 11, 13, 14]\n",
      "[3, 4, 6, 7, 10, 11, 13, 14]\n",
      "[3, 4, 6, 7, 10, 11, 13, 14]\n",
      "[3, 4, 6, 7, 10, 11, 13, 14]\n",
      "[2, 4, 5, 8, 9, 11, 12]\n",
      "[2, 4, 5, 8, 9, 11, 12]\n",
      "[3, 4, 6, 7, 10, 11, 13, 14]\n",
      "[3, 4, 6, 7, 10, 11, 13, 14]\n",
      "[3, 4, 6, 7, 10, 11, 13, 14]\n",
      "[3, 4, 6, 7, 10, 11, 13, 14]\n",
      "[3, 4, 7, 10, 11, 13, 14]\n",
      "[4, 7, 10, 11, 13, 14]\n",
      "[3, 6, 7, 10, 11, 13, 14]\n",
      "[4, 5, 8, 9, 11, 12]\n",
      "[2, 4, 5, 8, 9, 11, 12]\n",
      "[3, 4, 6, 7, 10, 11, 13, 14]\n",
      "[3, 4, 6, 7, 10, 11, 13, 14]\n",
      "[3, 4, 6, 7, 10, 11, 13, 14]\n",
      "[3, 4, 6, 7, 10, 11, 13, 14]\n",
      "[3, 4, 7, 10, 11, 13]\n",
      "[3, 4, 6, 7, 11, 13, 14]\n",
      "[3, 6, 7, 10, 11, 13]\n",
      "[4, 5, 8, 9, 11, 12]\n",
      "[2, 4, 5, 8, 9, 12]\n",
      "[3, 4, 6, 7, 10, 11, 13, 14]\n",
      "[3, 4, 7, 10, 11, 14]\n"
     ]
    }
   ],
   "source": [
    "bt = BinaryTransformer(depth=3)\n",
    "X_train_n = bt.fit_and_transform(X_train, y_train)\n",
    "X_val_n = bt.transform(X_val)\n",
    "# X_val = bt.fit_and_transform(X_val, y_val)\n",
    "# X_train = bt.transform(X_train)\n",
    "X_test_n = bt.transform(X_test)\n"
   ]
  },
  {
   "cell_type": "code",
   "execution_count": 20,
   "id": "864070b7-fe2d-492c-bc65-9400a4f763c1",
   "metadata": {},
   "outputs": [
    {
     "data": {
      "text/plain": [
       "((176, 71), (177, 71), (89, 71))"
      ]
     },
     "execution_count": 20,
     "metadata": {},
     "output_type": "execute_result"
    }
   ],
   "source": [
    "X_train_n.shape, X_val_n.shape, X_test_n.shape"
   ]
  },
  {
   "cell_type": "code",
   "execution_count": 35,
   "id": "28cecf97-6f48-4d38-9b93-4bcbcb82db98",
   "metadata": {},
   "outputs": [
    {
     "data": {
      "text/html": [
       "<style>#sk-container-id-4 {color: black;background-color: white;}#sk-container-id-4 pre{padding: 0;}#sk-container-id-4 div.sk-toggleable {background-color: white;}#sk-container-id-4 label.sk-toggleable__label {cursor: pointer;display: block;width: 100%;margin-bottom: 0;padding: 0.3em;box-sizing: border-box;text-align: center;}#sk-container-id-4 label.sk-toggleable__label-arrow:before {content: \"▸\";float: left;margin-right: 0.25em;color: #696969;}#sk-container-id-4 label.sk-toggleable__label-arrow:hover:before {color: black;}#sk-container-id-4 div.sk-estimator:hover label.sk-toggleable__label-arrow:before {color: black;}#sk-container-id-4 div.sk-toggleable__content {max-height: 0;max-width: 0;overflow: hidden;text-align: left;background-color: #f0f8ff;}#sk-container-id-4 div.sk-toggleable__content pre {margin: 0.2em;color: black;border-radius: 0.25em;background-color: #f0f8ff;}#sk-container-id-4 input.sk-toggleable__control:checked~div.sk-toggleable__content {max-height: 200px;max-width: 100%;overflow: auto;}#sk-container-id-4 input.sk-toggleable__control:checked~label.sk-toggleable__label-arrow:before {content: \"▾\";}#sk-container-id-4 div.sk-estimator input.sk-toggleable__control:checked~label.sk-toggleable__label {background-color: #d4ebff;}#sk-container-id-4 div.sk-label input.sk-toggleable__control:checked~label.sk-toggleable__label {background-color: #d4ebff;}#sk-container-id-4 input.sk-hidden--visually {border: 0;clip: rect(1px 1px 1px 1px);clip: rect(1px, 1px, 1px, 1px);height: 1px;margin: -1px;overflow: hidden;padding: 0;position: absolute;width: 1px;}#sk-container-id-4 div.sk-estimator {font-family: monospace;background-color: #f0f8ff;border: 1px dotted black;border-radius: 0.25em;box-sizing: border-box;margin-bottom: 0.5em;}#sk-container-id-4 div.sk-estimator:hover {background-color: #d4ebff;}#sk-container-id-4 div.sk-parallel-item::after {content: \"\";width: 100%;border-bottom: 1px solid gray;flex-grow: 1;}#sk-container-id-4 div.sk-label:hover label.sk-toggleable__label {background-color: #d4ebff;}#sk-container-id-4 div.sk-serial::before {content: \"\";position: absolute;border-left: 1px solid gray;box-sizing: border-box;top: 0;bottom: 0;left: 50%;z-index: 0;}#sk-container-id-4 div.sk-serial {display: flex;flex-direction: column;align-items: center;background-color: white;padding-right: 0.2em;padding-left: 0.2em;position: relative;}#sk-container-id-4 div.sk-item {position: relative;z-index: 1;}#sk-container-id-4 div.sk-parallel {display: flex;align-items: stretch;justify-content: center;background-color: white;position: relative;}#sk-container-id-4 div.sk-item::before, #sk-container-id-4 div.sk-parallel-item::before {content: \"\";position: absolute;border-left: 1px solid gray;box-sizing: border-box;top: 0;bottom: 0;left: 50%;z-index: -1;}#sk-container-id-4 div.sk-parallel-item {display: flex;flex-direction: column;z-index: 1;position: relative;background-color: white;}#sk-container-id-4 div.sk-parallel-item:first-child::after {align-self: flex-end;width: 50%;}#sk-container-id-4 div.sk-parallel-item:last-child::after {align-self: flex-start;width: 50%;}#sk-container-id-4 div.sk-parallel-item:only-child::after {width: 0;}#sk-container-id-4 div.sk-dashed-wrapped {border: 1px dashed gray;margin: 0 0.4em 0.5em 0.4em;box-sizing: border-box;padding-bottom: 0.4em;background-color: white;}#sk-container-id-4 div.sk-label label {font-family: monospace;font-weight: bold;display: inline-block;line-height: 1.2em;}#sk-container-id-4 div.sk-label-container {text-align: center;}#sk-container-id-4 div.sk-container {/* jupyter's `normalize.less` sets `[hidden] { display: none; }` but bootstrap.min.css set `[hidden] { display: none !important; }` so we also need the `!important` here to be able to override the default hidden behavior on the sphinx rendered scikit-learn.org. See: https://github.com/scikit-learn/scikit-learn/issues/21755 */display: inline-block !important;position: relative;}#sk-container-id-4 div.sk-text-repr-fallback {display: none;}</style><div id=\"sk-container-id-4\" class=\"sk-top-container\"><div class=\"sk-text-repr-fallback\"><pre>LabelBinarizer()</pre><b>In a Jupyter environment, please rerun this cell to show the HTML representation or trust the notebook. <br />On GitHub, the HTML representation is unable to render, please try loading this page with nbviewer.org.</b></div><div class=\"sk-container\" hidden><div class=\"sk-item\"><div class=\"sk-estimator sk-toggleable\"><input class=\"sk-toggleable__control sk-hidden--visually\" id=\"sk-estimator-id-4\" type=\"checkbox\" checked><label for=\"sk-estimator-id-4\" class=\"sk-toggleable__label sk-toggleable__label-arrow\">LabelBinarizer</label><div class=\"sk-toggleable__content\"><pre>LabelBinarizer()</pre></div></div></div></div></div>"
      ],
      "text/plain": [
       "LabelBinarizer()"
      ]
     },
     "execution_count": 35,
     "metadata": {},
     "output_type": "execute_result"
    }
   ],
   "source": [
    "from sklearn.preprocessing import LabelBinarizer\n",
    "lb = LabelBinarizer()\n",
    "lb.fit(np.arange(15))"
   ]
  },
  {
   "cell_type": "code",
   "execution_count": 29,
   "id": "d3f43988-a875-49f2-9032-f7ad8c579326",
   "metadata": {},
   "outputs": [],
   "source": [
    "hi = {1:1, 3:5}"
   ]
  },
  {
   "cell_type": "code",
   "execution_count": 34,
   "id": "b29db72d-2919-4ebb-a1fb-c0f6b05cd473",
   "metadata": {},
   "outputs": [
    {
     "data": {
      "text/plain": [
       "2"
      ]
     },
     "execution_count": 34,
     "metadata": {},
     "output_type": "execute_result"
    }
   ],
   "source": [
    "max([2])"
   ]
  },
  {
   "cell_type": "code",
   "execution_count": 36,
   "id": "ae680e2d-8522-4eba-828e-e50ec9b2177f",
   "metadata": {},
   "outputs": [
    {
     "data": {
      "text/plain": [
       "array([[0, 1, 0, 0, 0, 0, 0, 0, 0, 0, 0, 0, 0, 0, 0],\n",
       "       [0, 0, 0, 0, 0, 0, 0, 0, 0, 0, 0, 0, 0, 1, 0]])"
      ]
     },
     "execution_count": 36,
     "metadata": {},
     "output_type": "execute_result"
    }
   ],
   "source": [
    "lb.transform([1, 13])"
   ]
  },
  {
   "cell_type": "code",
   "execution_count": 9,
   "id": "023d297e-c064-4bc2-9273-5132ef6e0e4a",
   "metadata": {},
   "outputs": [
    {
     "data": {
      "text/html": [
       "<style>#sk-container-id-1 {color: black;background-color: white;}#sk-container-id-1 pre{padding: 0;}#sk-container-id-1 div.sk-toggleable {background-color: white;}#sk-container-id-1 label.sk-toggleable__label {cursor: pointer;display: block;width: 100%;margin-bottom: 0;padding: 0.3em;box-sizing: border-box;text-align: center;}#sk-container-id-1 label.sk-toggleable__label-arrow:before {content: \"▸\";float: left;margin-right: 0.25em;color: #696969;}#sk-container-id-1 label.sk-toggleable__label-arrow:hover:before {color: black;}#sk-container-id-1 div.sk-estimator:hover label.sk-toggleable__label-arrow:before {color: black;}#sk-container-id-1 div.sk-toggleable__content {max-height: 0;max-width: 0;overflow: hidden;text-align: left;background-color: #f0f8ff;}#sk-container-id-1 div.sk-toggleable__content pre {margin: 0.2em;color: black;border-radius: 0.25em;background-color: #f0f8ff;}#sk-container-id-1 input.sk-toggleable__control:checked~div.sk-toggleable__content {max-height: 200px;max-width: 100%;overflow: auto;}#sk-container-id-1 input.sk-toggleable__control:checked~label.sk-toggleable__label-arrow:before {content: \"▾\";}#sk-container-id-1 div.sk-estimator input.sk-toggleable__control:checked~label.sk-toggleable__label {background-color: #d4ebff;}#sk-container-id-1 div.sk-label input.sk-toggleable__control:checked~label.sk-toggleable__label {background-color: #d4ebff;}#sk-container-id-1 input.sk-hidden--visually {border: 0;clip: rect(1px 1px 1px 1px);clip: rect(1px, 1px, 1px, 1px);height: 1px;margin: -1px;overflow: hidden;padding: 0;position: absolute;width: 1px;}#sk-container-id-1 div.sk-estimator {font-family: monospace;background-color: #f0f8ff;border: 1px dotted black;border-radius: 0.25em;box-sizing: border-box;margin-bottom: 0.5em;}#sk-container-id-1 div.sk-estimator:hover {background-color: #d4ebff;}#sk-container-id-1 div.sk-parallel-item::after {content: \"\";width: 100%;border-bottom: 1px solid gray;flex-grow: 1;}#sk-container-id-1 div.sk-label:hover label.sk-toggleable__label {background-color: #d4ebff;}#sk-container-id-1 div.sk-serial::before {content: \"\";position: absolute;border-left: 1px solid gray;box-sizing: border-box;top: 0;bottom: 0;left: 50%;z-index: 0;}#sk-container-id-1 div.sk-serial {display: flex;flex-direction: column;align-items: center;background-color: white;padding-right: 0.2em;padding-left: 0.2em;position: relative;}#sk-container-id-1 div.sk-item {position: relative;z-index: 1;}#sk-container-id-1 div.sk-parallel {display: flex;align-items: stretch;justify-content: center;background-color: white;position: relative;}#sk-container-id-1 div.sk-item::before, #sk-container-id-1 div.sk-parallel-item::before {content: \"\";position: absolute;border-left: 1px solid gray;box-sizing: border-box;top: 0;bottom: 0;left: 50%;z-index: -1;}#sk-container-id-1 div.sk-parallel-item {display: flex;flex-direction: column;z-index: 1;position: relative;background-color: white;}#sk-container-id-1 div.sk-parallel-item:first-child::after {align-self: flex-end;width: 50%;}#sk-container-id-1 div.sk-parallel-item:last-child::after {align-self: flex-start;width: 50%;}#sk-container-id-1 div.sk-parallel-item:only-child::after {width: 0;}#sk-container-id-1 div.sk-dashed-wrapped {border: 1px dashed gray;margin: 0 0.4em 0.5em 0.4em;box-sizing: border-box;padding-bottom: 0.4em;background-color: white;}#sk-container-id-1 div.sk-label label {font-family: monospace;font-weight: bold;display: inline-block;line-height: 1.2em;}#sk-container-id-1 div.sk-label-container {text-align: center;}#sk-container-id-1 div.sk-container {/* jupyter's `normalize.less` sets `[hidden] { display: none; }` but bootstrap.min.css set `[hidden] { display: none !important; }` so we also need the `!important` here to be able to override the default hidden behavior on the sphinx rendered scikit-learn.org. See: https://github.com/scikit-learn/scikit-learn/issues/21755 */display: inline-block !important;position: relative;}#sk-container-id-1 div.sk-text-repr-fallback {display: none;}</style><div id=\"sk-container-id-1\" class=\"sk-top-container\"><div class=\"sk-text-repr-fallback\"><pre>RandomForestRegressor(max_depth=4, random_state=42)</pre><b>In a Jupyter environment, please rerun this cell to show the HTML representation or trust the notebook. <br />On GitHub, the HTML representation is unable to render, please try loading this page with nbviewer.org.</b></div><div class=\"sk-container\" hidden><div class=\"sk-item\"><div class=\"sk-estimator sk-toggleable\"><input class=\"sk-toggleable__control sk-hidden--visually\" id=\"sk-estimator-id-1\" type=\"checkbox\" checked><label for=\"sk-estimator-id-1\" class=\"sk-toggleable__label sk-toggleable__label-arrow\">RandomForestRegressor</label><div class=\"sk-toggleable__content\"><pre>RandomForestRegressor(max_depth=4, random_state=42)</pre></div></div></div></div></div>"
      ],
      "text/plain": [
       "RandomForestRegressor(max_depth=4, random_state=42)"
      ]
     },
     "execution_count": 9,
     "metadata": {},
     "output_type": "execute_result"
    }
   ],
   "source": [
    "rf = RandomForestRegressor(max_depth=4, random_state=42)\n",
    "rf.fit(X_train, y_train)"
   ]
  },
  {
   "cell_type": "code",
   "execution_count": 10,
   "id": "2d631cd6-f81c-4f77-a688-6563ec5c8da8",
   "metadata": {},
   "outputs": [
    {
     "data": {
      "text/plain": [
       "(0.7343143256407813, 0.45577105002110385, 0.4606394652399125)"
      ]
     },
     "execution_count": 10,
     "metadata": {},
     "output_type": "execute_result"
    }
   ],
   "source": [
    "r2_score(y_train, rf.predict(X_train)), r2_score(y_val, rf.predict(X_val)), r2_score(y_test, rf.predict(X_test))"
   ]
  },
  {
   "cell_type": "code",
   "execution_count": 11,
   "id": "ddbcbaca-7474-4706-b9bd-261d9e9afe0d",
   "metadata": {},
   "outputs": [
    {
     "data": {
      "text/plain": [
       "(1588.4285648520963, 3357.032562787853, 2857.6139603200086)"
      ]
     },
     "execution_count": 11,
     "metadata": {},
     "output_type": "execute_result"
    }
   ],
   "source": [
    "np.mean((y_train- rf.predict(X_train))**2), np.mean((y_val- rf.predict(X_val))**2), np.mean((y_test- rf.predict(X_test))**2)"
   ]
  },
  {
   "cell_type": "code",
   "execution_count": 12,
   "id": "2fa29af8-8940-4df1-9463-6191137bd541",
   "metadata": {},
   "outputs": [
    {
     "data": {
      "text/plain": [
       "<interpretDistill.fourierDistill.FTDistill at 0x7f5a1c69cb50>"
      ]
     },
     "execution_count": 12,
     "metadata": {},
     "output_type": "execute_result"
    }
   ],
   "source": [
    "#ftd = FTDistillCV(selection = 'L1L2', lam1_range=np.arange(0.01, 1.1, 0.33), lam2_range=np.arange(0.01, 1.1, 0.33), size_interactions = 3)\n",
    "ftd = FTDistill(selection = 'L1L2', lam1=5, lam2=5, size_interactions = 6)\n",
    "ftd.fit(X_val, rf.predict(X_val), bt.no_interaction)"
   ]
  },
  {
   "cell_type": "code",
   "execution_count": 13,
   "id": "7dfe387a-4199-4ada-b0d3-44193e8d9ef0",
   "metadata": {},
   "outputs": [
    {
     "data": {
      "text/plain": [
       "(22313.94448401466, 23341.589470391813, 20053.46243109127)"
      ]
     },
     "execution_count": 13,
     "metadata": {},
     "output_type": "execute_result"
    }
   ],
   "source": [
    "np.mean((y_train- ftd.predict(X_train))**2), np.mean((y_val- ftd.predict(X_val))**2), np.mean((y_test- ftd.predict(X_test))**2)"
   ]
  },
  {
   "cell_type": "code",
   "execution_count": 14,
   "id": "38ea5a34-691c-4b73-8864-d459ee7af389",
   "metadata": {},
   "outputs": [
    {
     "data": {
      "text/plain": [
       "(-2.7323021752644117, -2.7840469196284547, -2.784992084589863)"
      ]
     },
     "execution_count": 14,
     "metadata": {},
     "output_type": "execute_result"
    }
   ],
   "source": [
    "r2_score(y_train, ftd.predict(X_train)), r2_score(y_val, ftd.predict(X_val)), r2_score(y_test, ftd.predict(X_test))"
   ]
  },
  {
   "cell_type": "code",
   "execution_count": 15,
   "id": "f08d7ee3-cdb3-46cd-974a-b630fe86e1d1",
   "metadata": {},
   "outputs": [
    {
     "data": {
      "text/plain": [
       "<interpretDistill.fourierDistill.FTDistill at 0x7f591ea11820>"
      ]
     },
     "execution_count": 15,
     "metadata": {},
     "output_type": "execute_result"
    }
   ],
   "source": [
    "#ftd = FTDistillCV(selection = 'L1L2', lam1_range=np.arange(0.01, 1.1, 0.33), lam2_range=np.arange(0.01, 1.1, 0.33), size_interactions = 3)\n",
    "ftd1 = FTDistill(selection = 'L1L2', lam1=10, lam2=10, size_interactions = 6)\n",
    "ftd1.fit(X_train, rf.predict(X_train))"
   ]
  },
  {
   "cell_type": "code",
   "execution_count": 16,
   "id": "7aeb7ac3-5beb-4dbc-8aca-2564763440d4",
   "metadata": {},
   "outputs": [
    {
     "data": {
      "text/plain": [
       "1"
      ]
     },
     "execution_count": 16,
     "metadata": {},
     "output_type": "execute_result"
    }
   ],
   "source": [
    "np.sum(ftd1.regression_model.coef_ != 0)"
   ]
  },
  {
   "cell_type": "code",
   "execution_count": 17,
   "id": "9f6015b1-2467-4f5b-ab25-710401d65dd0",
   "metadata": {},
   "outputs": [
    {
     "data": {
      "text/plain": [
       "(25363.901107703594, 26465.47956493484, 22958.634422380477)"
      ]
     },
     "execution_count": 17,
     "metadata": {},
     "output_type": "execute_result"
    }
   ],
   "source": [
    "np.mean((y_train- ftd1.predict(X_train))**2), np.mean((y_val- ftd1.predict(X_val))**2), np.mean((y_test- ftd1.predict(X_test))**2)"
   ]
  },
  {
   "cell_type": "code",
   "execution_count": 18,
   "id": "f625d39f-3650-4fba-bfec-060cb67517a2",
   "metadata": {},
   "outputs": [
    {
     "data": {
      "text/plain": [
       "(-3.242447736897911, -3.2904797272360042, -3.333328963031028)"
      ]
     },
     "execution_count": 18,
     "metadata": {},
     "output_type": "execute_result"
    }
   ],
   "source": [
    "r2_score(y_train, ftd1.predict(X_train)), r2_score(y_val, ftd1.predict(X_val)), r2_score(y_test, ftd1.predict(X_test))"
   ]
  },
  {
   "cell_type": "code",
   "execution_count": null,
   "id": "99d119ce-b402-4412-8a6d-b84fd38dfdf5",
   "metadata": {},
   "outputs": [],
   "source": []
  }
 ],
 "metadata": {
  "kernelspec": {
   "display_name": "Python 3 (ipykernel)",
   "language": "python",
   "name": "python3"
  },
  "language_info": {
   "codemirror_mode": {
    "name": "ipython",
    "version": 3
   },
   "file_extension": ".py",
   "mimetype": "text/x-python",
   "name": "python",
   "nbconvert_exporter": "python",
   "pygments_lexer": "ipython3",
   "version": "3.9.12"
  }
 },
 "nbformat": 4,
 "nbformat_minor": 5
}

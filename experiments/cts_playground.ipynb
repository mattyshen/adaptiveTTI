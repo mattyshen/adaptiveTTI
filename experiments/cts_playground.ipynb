{
 "cells": [
  {
   "cell_type": "code",
   "execution_count": 1,
   "id": "ab8ce990-8223-4fae-b68a-ed0e3f2161de",
   "metadata": {},
   "outputs": [],
   "source": [
    "def warn(*args, **kwargs):\n",
    "    pass\n",
    "import warnings\n",
    "warnings.warn = warn\n",
    "\n",
    "import numpy as np\n",
    "import pandas as pd\n",
    "import sys\n",
    "\n",
    "from sklearn.datasets import load_diabetes\n",
    "sys.path.append(\"..\")\n",
    "from interpretDistill.fourierDistill import FTDistill, FTDistillCV\n",
    "from interpretDistill.binaryTransformer import BinaryTransformer\n",
    "\n",
    "from interpretDistill.FTutils import *"
   ]
  },
  {
   "cell_type": "code",
   "execution_count": 4,
   "id": "dd90230f-2abd-45ea-9ba3-f44249cb77d5",
   "metadata": {},
   "outputs": [],
   "source": [
    "X, y = load_diabetes(as_frame = True, return_X_y = True)"
   ]
  },
  {
   "cell_type": "code",
   "execution_count": 5,
   "id": "1d681d4d-ade5-4614-922b-37e5f38db429",
   "metadata": {},
   "outputs": [],
   "source": [
    "bt = BinaryTransformer(depth=1)\n",
    "binary = bt.fit_and_transform(X, y)"
   ]
  },
  {
   "cell_type": "code",
   "execution_count": 7,
   "id": "85193285-2977-4665-9e04-cad828bc6506",
   "metadata": {},
   "outputs": [
    {
     "name": "stdout",
     "output_type": "stream",
     "text": [
      "----\n",
      "num features post prune: 39366\n"
     ]
    },
    {
     "ename": "KeyboardInterrupt",
     "evalue": "",
     "output_type": "error",
     "traceback": [
      "\u001b[0;31m---------------------------------------------------------------------------\u001b[0m",
      "\u001b[0;31mKeyboardInterrupt\u001b[0m                         Traceback (most recent call last)",
      "Input \u001b[0;32mIn [7]\u001b[0m, in \u001b[0;36m<cell line: 5>\u001b[0;34m()\u001b[0m\n\u001b[1;32m      3\u001b[0m \u001b[38;5;28mprint\u001b[39m(\u001b[38;5;124m'\u001b[39m\u001b[38;5;124m----\u001b[39m\u001b[38;5;124m'\u001b[39m)\n\u001b[1;32m      4\u001b[0m ftd_naive \u001b[38;5;241m=\u001b[39m FTDistill(selection \u001b[38;5;241m=\u001b[39m \u001b[38;5;124m'\u001b[39m\u001b[38;5;124mL1L2\u001b[39m\u001b[38;5;124m'\u001b[39m, lam1 \u001b[38;5;241m=\u001b[39m \u001b[38;5;241m1\u001b[39m, lam2 \u001b[38;5;241m=\u001b[39m \u001b[38;5;241m1\u001b[39m)\n\u001b[0;32m----> 5\u001b[0m \u001b[43mftd_naive\u001b[49m\u001b[38;5;241;43m.\u001b[39;49m\u001b[43mfit\u001b[49m\u001b[43m(\u001b[49m\u001b[43mbinary\u001b[49m\u001b[43m,\u001b[49m\u001b[43m \u001b[49m\u001b[43my\u001b[49m\u001b[43m,\u001b[49m\u001b[43m \u001b[49m\u001b[43mbt\u001b[49m\u001b[38;5;241;43m.\u001b[39;49m\u001b[43mno_interaction\u001b[49m\u001b[43m)\u001b[49m\n",
      "File \u001b[0;32m~/interpretableDistillation/experiments/../interpretDistill/fourierDistill.py:71\u001b[0m, in \u001b[0;36mFTDistill.fit\u001b[0;34m(self, X, y, removals)\u001b[0m\n\u001b[1;32m     68\u001b[0m \u001b[38;5;28mprint\u001b[39m(\u001b[38;5;124mf\u001b[39m\u001b[38;5;124m'\u001b[39m\u001b[38;5;124mnum features post prune: \u001b[39m\u001b[38;5;132;01m{\u001b[39;00m\u001b[38;5;28mlen\u001b[39m(\u001b[38;5;28mself\u001b[39m\u001b[38;5;241m.\u001b[39mfeatures)\u001b[38;5;132;01m}\u001b[39;00m\u001b[38;5;124m'\u001b[39m)\n\u001b[1;32m     69\u001b[0m \u001b[38;5;28;01mfor\u001b[39;00m subset \u001b[38;5;129;01min\u001b[39;00m \u001b[38;5;28mself\u001b[39m\u001b[38;5;241m.\u001b[39mfeatures:\n\u001b[0;32m---> 71\u001b[0m     Chi[subset] \u001b[38;5;241m=\u001b[39m compute_subset_product(subset, X)\n\u001b[1;32m     73\u001b[0m \u001b[38;5;66;03m#self.regression_model.fit(Chi, y_distill)\u001b[39;00m\n\u001b[1;32m     75\u001b[0m \u001b[38;5;28;01mreturn\u001b[39;00m \u001b[38;5;28mself\u001b[39m\n",
      "File \u001b[0;32m~/anaconda3/lib/python3.9/site-packages/pandas/core/frame.py:3648\u001b[0m, in \u001b[0;36mDataFrame.__setitem__\u001b[0;34m(self, key, value)\u001b[0m\n\u001b[1;32m   3644\u001b[0m \u001b[38;5;28;01melif\u001b[39;00m \u001b[38;5;28misinstance\u001b[39m(value, DataFrame):\n\u001b[1;32m   3645\u001b[0m     \u001b[38;5;28mself\u001b[39m\u001b[38;5;241m.\u001b[39m_set_item_frame_value(key, value)\n\u001b[1;32m   3646\u001b[0m \u001b[38;5;28;01melif\u001b[39;00m (\n\u001b[1;32m   3647\u001b[0m     is_list_like(value)\n\u001b[0;32m-> 3648\u001b[0m     \u001b[38;5;129;01mand\u001b[39;00m \u001b[38;5;129;01mnot\u001b[39;00m \u001b[38;5;28;43mself\u001b[39;49m\u001b[38;5;241;43m.\u001b[39;49m\u001b[43mcolumns\u001b[49m\u001b[38;5;241;43m.\u001b[39;49m\u001b[43mis_unique\u001b[49m\n\u001b[1;32m   3649\u001b[0m     \u001b[38;5;129;01mand\u001b[39;00m \u001b[38;5;241m1\u001b[39m \u001b[38;5;241m<\u001b[39m \u001b[38;5;28mlen\u001b[39m(\u001b[38;5;28mself\u001b[39m\u001b[38;5;241m.\u001b[39mcolumns\u001b[38;5;241m.\u001b[39mget_indexer_for([key])) \u001b[38;5;241m==\u001b[39m \u001b[38;5;28mlen\u001b[39m(value)\n\u001b[1;32m   3650\u001b[0m ):\n\u001b[1;32m   3651\u001b[0m     \u001b[38;5;66;03m# Column to set is duplicated\u001b[39;00m\n\u001b[1;32m   3652\u001b[0m     \u001b[38;5;28mself\u001b[39m\u001b[38;5;241m.\u001b[39m_setitem_array([key], value)\n\u001b[1;32m   3653\u001b[0m \u001b[38;5;28;01melse\u001b[39;00m:\n\u001b[1;32m   3654\u001b[0m     \u001b[38;5;66;03m# set column\u001b[39;00m\n",
      "File \u001b[0;32m~/anaconda3/lib/python3.9/site-packages/pandas/_libs/properties.pyx:37\u001b[0m, in \u001b[0;36mpandas._libs.properties.CachedProperty.__get__\u001b[0;34m()\u001b[0m\n",
      "File \u001b[0;32m~/anaconda3/lib/python3.9/site-packages/pandas/core/indexes/base.py:2237\u001b[0m, in \u001b[0;36mIndex.is_unique\u001b[0;34m(self)\u001b[0m\n\u001b[1;32m   2232\u001b[0m \u001b[38;5;129m@cache_readonly\u001b[39m\n\u001b[1;32m   2233\u001b[0m \u001b[38;5;28;01mdef\u001b[39;00m \u001b[38;5;21mis_unique\u001b[39m(\u001b[38;5;28mself\u001b[39m) \u001b[38;5;241m-\u001b[39m\u001b[38;5;241m>\u001b[39m \u001b[38;5;28mbool\u001b[39m:\n\u001b[1;32m   2234\u001b[0m     \u001b[38;5;124;03m\"\"\"\u001b[39;00m\n\u001b[1;32m   2235\u001b[0m \u001b[38;5;124;03m    Return if the index has unique values.\u001b[39;00m\n\u001b[1;32m   2236\u001b[0m \u001b[38;5;124;03m    \"\"\"\u001b[39;00m\n\u001b[0;32m-> 2237\u001b[0m     \u001b[38;5;28;01mreturn\u001b[39;00m \u001b[38;5;28;43mself\u001b[39;49m\u001b[38;5;241;43m.\u001b[39;49m\u001b[43m_engine\u001b[49m\u001b[38;5;241;43m.\u001b[39;49m\u001b[43mis_unique\u001b[49m\n",
      "\u001b[0;31mKeyboardInterrupt\u001b[0m: "
     ]
    }
   ],
   "source": [
    "bt = BinaryTransformer(depth=1)\n",
    "binary = bt.fit_and_transform(X, y)\n",
    "print('----')\n",
    "ftd_naive = FTDistill(selection = 'L1L2', lam1 = 1, lam2 = 1)\n",
    "ftd_naive.fit(binary, y, bt.no_interaction)"
   ]
  },
  {
   "cell_type": "code",
   "execution_count": null,
   "id": "cb6d873a-2e30-45e8-ba44-e4e84fbce5a8",
   "metadata": {},
   "outputs": [],
   "source": [
    "len(ftd_naive.regression_model.coef_)"
   ]
  },
  {
   "cell_type": "code",
   "execution_count": null,
   "id": "686d9797-e3d9-4b4d-a43d-b91ab45b332d",
   "metadata": {},
   "outputs": [],
   "source": [
    "ftd_naive.regression_model.coef_ != 0"
   ]
  },
  {
   "cell_type": "code",
   "execution_count": null,
   "id": "e7f12620-9cdd-4c17-982d-fa4f3f8a4b6e",
   "metadata": {},
   "outputs": [],
   "source": [
    "np.array(list(map(str, ftd_naive.features)))[ftd_naive.regression_model.coef_ != 0]"
   ]
  },
  {
   "cell_type": "code",
   "execution_count": null,
   "id": "349a8cd3-1032-4f87-8c53-99c5a6c11def",
   "metadata": {},
   "outputs": [],
   "source": [
    "np.array([ftd_naive.features]) #[ftd_naive.regression_model.coef_ != 0]"
   ]
  },
  {
   "cell_type": "code",
   "execution_count": null,
   "id": "973fcecb-25bb-4e33-8dad-dd8057bf9cf0",
   "metadata": {},
   "outputs": [],
   "source": [
    "np.sum(binary.values == 1) + np.sum(binary.values == -1) == np.prod(binary.shape)"
   ]
  },
  {
   "cell_type": "code",
   "execution_count": null,
   "id": "a5e91c5c-b774-401d-8fc8-445ef3c21537",
   "metadata": {},
   "outputs": [],
   "source": [
    "list(map(tuple, [{'1'}, {'2'}]))"
   ]
  },
  {
   "cell_type": "code",
   "execution_count": null,
   "id": "59094245-ccb7-4ae6-8826-74ac25618df7",
   "metadata": {},
   "outputs": [],
   "source": [
    "new_columns = [i for i in powerset(binary.columns)]"
   ]
  },
  {
   "cell_type": "code",
   "execution_count": null,
   "id": "887b667a-6fc3-4f27-8c59-522dc55424dd",
   "metadata": {},
   "outputs": [],
   "source": [
    "new_columns[1000]"
   ]
  },
  {
   "cell_type": "code",
   "execution_count": null,
   "id": "b39a624a-8c44-4853-80a1-b38e1a2362a8",
   "metadata": {},
   "outputs": [],
   "source": [
    "import pandas as pd\n",
    "from itertools import chain, combinations\n",
    "\n",
    "def powerset(iterable):\n",
    "    s = list(iterable)\n",
    "    return chain.from_iterable(combinations(s, r) for r in range(len(s)+1))\n",
    "\n",
    "def remove_overlapping_subsets(powerset, list_of_sets):\n",
    "    removed_subsets = set()\n",
    "    result = []\n",
    "    for i, subset in enumerate(powerset):\n",
    "        if i%1000==0:\n",
    "            print(len(result), len(removed_subsets))\n",
    "            \n",
    "        if subset in removed_subsets or any([len(set(subset).intersection(s)) > len(s) for s in removed_subsets]):\n",
    "            removed_subsets.add(subset)\n",
    "            continue\n",
    "        overlaps = 0\n",
    "        for s in list_of_sets:\n",
    "            if len(set(subset).intersection(s)) >= 2:\n",
    "                overlaps += 1\n",
    "                break\n",
    "        if overlaps > 0:\n",
    "            removed_subsets.add(subset)\n",
    "        else:\n",
    "            result.append(subset)\n",
    "\n",
    "    #return result, removed_subsets"
   ]
  },
  {
   "cell_type": "code",
   "execution_count": null,
   "id": "b87ef65f-3d25-4135-8cd1-29341437a21b",
   "metadata": {},
   "outputs": [],
   "source": [
    "[i for i in combinations(('s1_2', 's2_1', 's5_1'), 5)]"
   ]
  },
  {
   "cell_type": "code",
   "execution_count": null,
   "id": "56061a44-3588-4725-ab2c-4fb62adc2022",
   "metadata": {},
   "outputs": [],
   "source": [
    "len(new_columns)"
   ]
  },
  {
   "cell_type": "code",
   "execution_count": null,
   "id": "9aa080b4-436c-4bbf-a777-cb491794f3c4",
   "metadata": {},
   "outputs": [],
   "source": [
    "remove_overlapping_subsets(new_columns, bt.no_interaction)"
   ]
  },
  {
   "cell_type": "code",
   "execution_count": null,
   "id": "43d4fb86-d567-4e8a-b305-468efc937643",
   "metadata": {},
   "outputs": [],
   "source": [
    "new_columns"
   ]
  },
  {
   "cell_type": "code",
   "execution_count": null,
   "id": "c3838d29-3197-4d24-83e4-dadd8acb0db8",
   "metadata": {},
   "outputs": [],
   "source": [
    "c = list(map(list, [{'1'}, {'2', '3', '1'}]))"
   ]
  },
  {
   "cell_type": "code",
   "execution_count": null,
   "id": "bf511236-55fe-477b-b4e4-ea1c9b93cee7",
   "metadata": {},
   "outputs": [],
   "source": [
    "pd.Series([i for j in c for i in j]).value_counts().index.to_list()"
   ]
  },
  {
   "cell_type": "code",
   "execution_count": null,
   "id": "4e3c61f7-ac39-4300-b20e-10e0a78a8730",
   "metadata": {},
   "outputs": [],
   "source": []
  }
 ],
 "metadata": {
  "kernelspec": {
   "display_name": "Python 3 (ipykernel)",
   "language": "python",
   "name": "python3"
  },
  "language_info": {
   "codemirror_mode": {
    "name": "ipython",
    "version": 3
   },
   "file_extension": ".py",
   "mimetype": "text/x-python",
   "name": "python",
   "nbconvert_exporter": "python",
   "pygments_lexer": "ipython3",
   "version": "3.9.12"
  }
 },
 "nbformat": 4,
 "nbformat_minor": 5
}

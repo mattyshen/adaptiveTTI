{
 "cells": [
  {
   "cell_type": "code",
   "execution_count": 1,
   "id": "370457b2-647c-4c8d-b97c-5e1914fc8755",
   "metadata": {
    "tags": []
   },
   "outputs": [],
   "source": [
    "import os\n",
    "import sys\n",
    "\n",
    "path_to_repo = os.path.dirname(os.getcwd())\n",
    "sys.path.append(path_to_repo)\n",
    "\n",
    "import sklearn.datasets\n",
    "import pandas as pd\n",
    "import numpy as np\n",
    "\n",
    "import sklearn.model_selection\n",
    "from sklearn.metrics import r2_score, accuracy_score\n",
    "#from imodels import FIGSRegressor, FIGSClassifier\n",
    "#from imodels.importance import RandomForestPlusRegressor\n",
    "\n",
    "import openml\n",
    "from ucimlrepo import fetch_ucirepo \n",
    "\n",
    "from figs_d import *\n",
    "from fourierDistill import *\n",
    "from binary_mapper import *"
   ]
  },
  {
   "cell_type": "code",
   "execution_count": 2,
   "id": "6112aa31-1427-4cb6-97bc-7fedd56d4c4f",
   "metadata": {
    "tags": []
   },
   "outputs": [],
   "source": [
    "def traverse_paths(node):\n",
    "    if node is None:\n",
    "        return []\n",
    "\n",
    "    paths = []\n",
    "    vals = []\n",
    "\n",
    "    def dfs(current, path, from_left=False):\n",
    "        if current.left is None and current.right is None and not from_left:\n",
    "            paths.append(path.copy())\n",
    "            vals.append(current.value.item())\n",
    "            return \n",
    "        \n",
    "        if current.left:\n",
    "            dfs(current.left, [], from_left=True)\n",
    "\n",
    "        if current.right:\n",
    "            path.append(current)\n",
    "            dfs(current.right, path)\n",
    "\n",
    "    dfs(node, [])\n",
    "\n",
    "    return list(zip(paths, vals))"
   ]
  },
  {
   "cell_type": "code",
   "execution_count": 3,
   "id": "f90024bf-2aba-43e9-91aa-ca9d84c33209",
   "metadata": {},
   "outputs": [
    {
     "name": "stderr",
     "output_type": "stream",
     "text": [
      "/tmp/ipykernel_29445/2913580745.py:1: FutureWarning: Starting from Version 0.15 `download_data`, `download_qualities`, and `download_features_meta_data` will all be ``False`` instead of ``True`` by default to enable lazy loading. To disable this message until version 0.15 explicitly set `download_data`, `download_qualities`, and `download_features_meta_data` to a bool while calling `get_dataset`.\n",
      "  miami_housing = openml.datasets.get_dataset(43093)\n",
      "/home/mattyshen/anaconda3/lib/python3.9/site-packages/pandas/core/frame.py:717: DeprecationWarning: Passing a BlockManager to DataFrame is deprecated and will raise in a future version. Use public APIs instead.\n",
      "  warnings.warn(\n"
     ]
    }
   ],
   "source": [
    "miami_housing = openml.datasets.get_dataset(43093)\n",
    "X, y, _, _ = miami_housing.get_data(target=miami_housing.default_target_attribute, dataset_format=\"dataframe\")"
   ]
  },
  {
   "cell_type": "code",
   "execution_count": 4,
   "id": "875311a0-3645-4e2d-8fb7-1a6713c335dc",
   "metadata": {},
   "outputs": [],
   "source": [
    "X_train, X_test, y_train, y_test = train_test_split(X, y, test_size=0.2, random_state=0)\n",
    "X_train, X_val, y_train, y_val = train_test_split(X_train, y_train, test_size=0.25, random_state=0)"
   ]
  },
  {
   "cell_type": "code",
   "execution_count": 5,
   "id": "694e3cc5-7e97-4d98-84de-4aa04e443b1a",
   "metadata": {},
   "outputs": [],
   "source": [
    "gmm_bm = GMMBinaryMapper()\n",
    "\n",
    "#X_f, X_nf, y_f, y_nf = train_test_split(X_train, y_train, test_size=0.5, random_state=0)\n",
    "\n",
    "gmm_bm.fit(X_train, y_train)\n",
    "\n",
    "X_train_new = gmm_bm.transform(X_train)\n",
    "X_val_new = gmm_bm.transform(X_val)"
   ]
  },
  {
   "cell_type": "code",
   "execution_count": 6,
   "id": "480288dc-7b77-458c-aef4-e6c4c012a1f4",
   "metadata": {},
   "outputs": [
    {
     "data": {
      "text/plain": [
       "<fourierDistill.FTDistillRegressorCV at 0x7f5cd84ce310>"
      ]
     },
     "execution_count": 6,
     "metadata": {},
     "output_type": "execute_result"
    }
   ],
   "source": [
    "ftd = FTDistillRegressorCV(pre_interaction=None, post_max_features=10)\n",
    "ftd.fit(X_train_new, y_train)"
   ]
  },
  {
   "cell_type": "code",
   "execution_count": 7,
   "id": "42737869-0a58-4b1e-aaac-a4944c7a4b80",
   "metadata": {},
   "outputs": [
    {
     "data": {
      "text/html": [
       "<style>#sk-container-id-1 {\n",
       "  /* Definition of color scheme common for light and dark mode */\n",
       "  --sklearn-color-text: black;\n",
       "  --sklearn-color-line: gray;\n",
       "  /* Definition of color scheme for unfitted estimators */\n",
       "  --sklearn-color-unfitted-level-0: #fff5e6;\n",
       "  --sklearn-color-unfitted-level-1: #f6e4d2;\n",
       "  --sklearn-color-unfitted-level-2: #ffe0b3;\n",
       "  --sklearn-color-unfitted-level-3: chocolate;\n",
       "  /* Definition of color scheme for fitted estimators */\n",
       "  --sklearn-color-fitted-level-0: #f0f8ff;\n",
       "  --sklearn-color-fitted-level-1: #d4ebff;\n",
       "  --sklearn-color-fitted-level-2: #b3dbfd;\n",
       "  --sklearn-color-fitted-level-3: cornflowerblue;\n",
       "\n",
       "  /* Specific color for light theme */\n",
       "  --sklearn-color-text-on-default-background: var(--sg-text-color, var(--theme-code-foreground, var(--jp-content-font-color1, black)));\n",
       "  --sklearn-color-background: var(--sg-background-color, var(--theme-background, var(--jp-layout-color0, white)));\n",
       "  --sklearn-color-border-box: var(--sg-text-color, var(--theme-code-foreground, var(--jp-content-font-color1, black)));\n",
       "  --sklearn-color-icon: #696969;\n",
       "\n",
       "  @media (prefers-color-scheme: dark) {\n",
       "    /* Redefinition of color scheme for dark theme */\n",
       "    --sklearn-color-text-on-default-background: var(--sg-text-color, var(--theme-code-foreground, var(--jp-content-font-color1, white)));\n",
       "    --sklearn-color-background: var(--sg-background-color, var(--theme-background, var(--jp-layout-color0, #111)));\n",
       "    --sklearn-color-border-box: var(--sg-text-color, var(--theme-code-foreground, var(--jp-content-font-color1, white)));\n",
       "    --sklearn-color-icon: #878787;\n",
       "  }\n",
       "}\n",
       "\n",
       "#sk-container-id-1 {\n",
       "  color: var(--sklearn-color-text);\n",
       "}\n",
       "\n",
       "#sk-container-id-1 pre {\n",
       "  padding: 0;\n",
       "}\n",
       "\n",
       "#sk-container-id-1 input.sk-hidden--visually {\n",
       "  border: 0;\n",
       "  clip: rect(1px 1px 1px 1px);\n",
       "  clip: rect(1px, 1px, 1px, 1px);\n",
       "  height: 1px;\n",
       "  margin: -1px;\n",
       "  overflow: hidden;\n",
       "  padding: 0;\n",
       "  position: absolute;\n",
       "  width: 1px;\n",
       "}\n",
       "\n",
       "#sk-container-id-1 div.sk-dashed-wrapped {\n",
       "  border: 1px dashed var(--sklearn-color-line);\n",
       "  margin: 0 0.4em 0.5em 0.4em;\n",
       "  box-sizing: border-box;\n",
       "  padding-bottom: 0.4em;\n",
       "  background-color: var(--sklearn-color-background);\n",
       "}\n",
       "\n",
       "#sk-container-id-1 div.sk-container {\n",
       "  /* jupyter's `normalize.less` sets `[hidden] { display: none; }`\n",
       "     but bootstrap.min.css set `[hidden] { display: none !important; }`\n",
       "     so we also need the `!important` here to be able to override the\n",
       "     default hidden behavior on the sphinx rendered scikit-learn.org.\n",
       "     See: https://github.com/scikit-learn/scikit-learn/issues/21755 */\n",
       "  display: inline-block !important;\n",
       "  position: relative;\n",
       "}\n",
       "\n",
       "#sk-container-id-1 div.sk-text-repr-fallback {\n",
       "  display: none;\n",
       "}\n",
       "\n",
       "div.sk-parallel-item,\n",
       "div.sk-serial,\n",
       "div.sk-item {\n",
       "  /* draw centered vertical line to link estimators */\n",
       "  background-image: linear-gradient(var(--sklearn-color-text-on-default-background), var(--sklearn-color-text-on-default-background));\n",
       "  background-size: 2px 100%;\n",
       "  background-repeat: no-repeat;\n",
       "  background-position: center center;\n",
       "}\n",
       "\n",
       "/* Parallel-specific style estimator block */\n",
       "\n",
       "#sk-container-id-1 div.sk-parallel-item::after {\n",
       "  content: \"\";\n",
       "  width: 100%;\n",
       "  border-bottom: 2px solid var(--sklearn-color-text-on-default-background);\n",
       "  flex-grow: 1;\n",
       "}\n",
       "\n",
       "#sk-container-id-1 div.sk-parallel {\n",
       "  display: flex;\n",
       "  align-items: stretch;\n",
       "  justify-content: center;\n",
       "  background-color: var(--sklearn-color-background);\n",
       "  position: relative;\n",
       "}\n",
       "\n",
       "#sk-container-id-1 div.sk-parallel-item {\n",
       "  display: flex;\n",
       "  flex-direction: column;\n",
       "}\n",
       "\n",
       "#sk-container-id-1 div.sk-parallel-item:first-child::after {\n",
       "  align-self: flex-end;\n",
       "  width: 50%;\n",
       "}\n",
       "\n",
       "#sk-container-id-1 div.sk-parallel-item:last-child::after {\n",
       "  align-self: flex-start;\n",
       "  width: 50%;\n",
       "}\n",
       "\n",
       "#sk-container-id-1 div.sk-parallel-item:only-child::after {\n",
       "  width: 0;\n",
       "}\n",
       "\n",
       "/* Serial-specific style estimator block */\n",
       "\n",
       "#sk-container-id-1 div.sk-serial {\n",
       "  display: flex;\n",
       "  flex-direction: column;\n",
       "  align-items: center;\n",
       "  background-color: var(--sklearn-color-background);\n",
       "  padding-right: 1em;\n",
       "  padding-left: 1em;\n",
       "}\n",
       "\n",
       "\n",
       "/* Toggleable style: style used for estimator/Pipeline/ColumnTransformer box that is\n",
       "clickable and can be expanded/collapsed.\n",
       "- Pipeline and ColumnTransformer use this feature and define the default style\n",
       "- Estimators will overwrite some part of the style using the `sk-estimator` class\n",
       "*/\n",
       "\n",
       "/* Pipeline and ColumnTransformer style (default) */\n",
       "\n",
       "#sk-container-id-1 div.sk-toggleable {\n",
       "  /* Default theme specific background. It is overwritten whether we have a\n",
       "  specific estimator or a Pipeline/ColumnTransformer */\n",
       "  background-color: var(--sklearn-color-background);\n",
       "}\n",
       "\n",
       "/* Toggleable label */\n",
       "#sk-container-id-1 label.sk-toggleable__label {\n",
       "  cursor: pointer;\n",
       "  display: block;\n",
       "  width: 100%;\n",
       "  margin-bottom: 0;\n",
       "  padding: 0.5em;\n",
       "  box-sizing: border-box;\n",
       "  text-align: center;\n",
       "}\n",
       "\n",
       "#sk-container-id-1 label.sk-toggleable__label-arrow:before {\n",
       "  /* Arrow on the left of the label */\n",
       "  content: \"▸\";\n",
       "  float: left;\n",
       "  margin-right: 0.25em;\n",
       "  color: var(--sklearn-color-icon);\n",
       "}\n",
       "\n",
       "#sk-container-id-1 label.sk-toggleable__label-arrow:hover:before {\n",
       "  color: var(--sklearn-color-text);\n",
       "}\n",
       "\n",
       "/* Toggleable content - dropdown */\n",
       "\n",
       "#sk-container-id-1 div.sk-toggleable__content {\n",
       "  max-height: 0;\n",
       "  max-width: 0;\n",
       "  overflow: hidden;\n",
       "  text-align: left;\n",
       "  /* unfitted */\n",
       "  background-color: var(--sklearn-color-unfitted-level-0);\n",
       "}\n",
       "\n",
       "#sk-container-id-1 div.sk-toggleable__content.fitted {\n",
       "  /* fitted */\n",
       "  background-color: var(--sklearn-color-fitted-level-0);\n",
       "}\n",
       "\n",
       "#sk-container-id-1 div.sk-toggleable__content pre {\n",
       "  margin: 0.2em;\n",
       "  border-radius: 0.25em;\n",
       "  color: var(--sklearn-color-text);\n",
       "  /* unfitted */\n",
       "  background-color: var(--sklearn-color-unfitted-level-0);\n",
       "}\n",
       "\n",
       "#sk-container-id-1 div.sk-toggleable__content.fitted pre {\n",
       "  /* unfitted */\n",
       "  background-color: var(--sklearn-color-fitted-level-0);\n",
       "}\n",
       "\n",
       "#sk-container-id-1 input.sk-toggleable__control:checked~div.sk-toggleable__content {\n",
       "  /* Expand drop-down */\n",
       "  max-height: 200px;\n",
       "  max-width: 100%;\n",
       "  overflow: auto;\n",
       "}\n",
       "\n",
       "#sk-container-id-1 input.sk-toggleable__control:checked~label.sk-toggleable__label-arrow:before {\n",
       "  content: \"▾\";\n",
       "}\n",
       "\n",
       "/* Pipeline/ColumnTransformer-specific style */\n",
       "\n",
       "#sk-container-id-1 div.sk-label input.sk-toggleable__control:checked~label.sk-toggleable__label {\n",
       "  color: var(--sklearn-color-text);\n",
       "  background-color: var(--sklearn-color-unfitted-level-2);\n",
       "}\n",
       "\n",
       "#sk-container-id-1 div.sk-label.fitted input.sk-toggleable__control:checked~label.sk-toggleable__label {\n",
       "  background-color: var(--sklearn-color-fitted-level-2);\n",
       "}\n",
       "\n",
       "/* Estimator-specific style */\n",
       "\n",
       "/* Colorize estimator box */\n",
       "#sk-container-id-1 div.sk-estimator input.sk-toggleable__control:checked~label.sk-toggleable__label {\n",
       "  /* unfitted */\n",
       "  background-color: var(--sklearn-color-unfitted-level-2);\n",
       "}\n",
       "\n",
       "#sk-container-id-1 div.sk-estimator.fitted input.sk-toggleable__control:checked~label.sk-toggleable__label {\n",
       "  /* fitted */\n",
       "  background-color: var(--sklearn-color-fitted-level-2);\n",
       "}\n",
       "\n",
       "#sk-container-id-1 div.sk-label label.sk-toggleable__label,\n",
       "#sk-container-id-1 div.sk-label label {\n",
       "  /* The background is the default theme color */\n",
       "  color: var(--sklearn-color-text-on-default-background);\n",
       "}\n",
       "\n",
       "/* On hover, darken the color of the background */\n",
       "#sk-container-id-1 div.sk-label:hover label.sk-toggleable__label {\n",
       "  color: var(--sklearn-color-text);\n",
       "  background-color: var(--sklearn-color-unfitted-level-2);\n",
       "}\n",
       "\n",
       "/* Label box, darken color on hover, fitted */\n",
       "#sk-container-id-1 div.sk-label.fitted:hover label.sk-toggleable__label.fitted {\n",
       "  color: var(--sklearn-color-text);\n",
       "  background-color: var(--sklearn-color-fitted-level-2);\n",
       "}\n",
       "\n",
       "/* Estimator label */\n",
       "\n",
       "#sk-container-id-1 div.sk-label label {\n",
       "  font-family: monospace;\n",
       "  font-weight: bold;\n",
       "  display: inline-block;\n",
       "  line-height: 1.2em;\n",
       "}\n",
       "\n",
       "#sk-container-id-1 div.sk-label-container {\n",
       "  text-align: center;\n",
       "}\n",
       "\n",
       "/* Estimator-specific */\n",
       "#sk-container-id-1 div.sk-estimator {\n",
       "  font-family: monospace;\n",
       "  border: 1px dotted var(--sklearn-color-border-box);\n",
       "  border-radius: 0.25em;\n",
       "  box-sizing: border-box;\n",
       "  margin-bottom: 0.5em;\n",
       "  /* unfitted */\n",
       "  background-color: var(--sklearn-color-unfitted-level-0);\n",
       "}\n",
       "\n",
       "#sk-container-id-1 div.sk-estimator.fitted {\n",
       "  /* fitted */\n",
       "  background-color: var(--sklearn-color-fitted-level-0);\n",
       "}\n",
       "\n",
       "/* on hover */\n",
       "#sk-container-id-1 div.sk-estimator:hover {\n",
       "  /* unfitted */\n",
       "  background-color: var(--sklearn-color-unfitted-level-2);\n",
       "}\n",
       "\n",
       "#sk-container-id-1 div.sk-estimator.fitted:hover {\n",
       "  /* fitted */\n",
       "  background-color: var(--sklearn-color-fitted-level-2);\n",
       "}\n",
       "\n",
       "/* Specification for estimator info (e.g. \"i\" and \"?\") */\n",
       "\n",
       "/* Common style for \"i\" and \"?\" */\n",
       "\n",
       ".sk-estimator-doc-link,\n",
       "a:link.sk-estimator-doc-link,\n",
       "a:visited.sk-estimator-doc-link {\n",
       "  float: right;\n",
       "  font-size: smaller;\n",
       "  line-height: 1em;\n",
       "  font-family: monospace;\n",
       "  background-color: var(--sklearn-color-background);\n",
       "  border-radius: 1em;\n",
       "  height: 1em;\n",
       "  width: 1em;\n",
       "  text-decoration: none !important;\n",
       "  margin-left: 1ex;\n",
       "  /* unfitted */\n",
       "  border: var(--sklearn-color-unfitted-level-1) 1pt solid;\n",
       "  color: var(--sklearn-color-unfitted-level-1);\n",
       "}\n",
       "\n",
       ".sk-estimator-doc-link.fitted,\n",
       "a:link.sk-estimator-doc-link.fitted,\n",
       "a:visited.sk-estimator-doc-link.fitted {\n",
       "  /* fitted */\n",
       "  border: var(--sklearn-color-fitted-level-1) 1pt solid;\n",
       "  color: var(--sklearn-color-fitted-level-1);\n",
       "}\n",
       "\n",
       "/* On hover */\n",
       "div.sk-estimator:hover .sk-estimator-doc-link:hover,\n",
       ".sk-estimator-doc-link:hover,\n",
       "div.sk-label-container:hover .sk-estimator-doc-link:hover,\n",
       ".sk-estimator-doc-link:hover {\n",
       "  /* unfitted */\n",
       "  background-color: var(--sklearn-color-unfitted-level-3);\n",
       "  color: var(--sklearn-color-background);\n",
       "  text-decoration: none;\n",
       "}\n",
       "\n",
       "div.sk-estimator.fitted:hover .sk-estimator-doc-link.fitted:hover,\n",
       ".sk-estimator-doc-link.fitted:hover,\n",
       "div.sk-label-container:hover .sk-estimator-doc-link.fitted:hover,\n",
       ".sk-estimator-doc-link.fitted:hover {\n",
       "  /* fitted */\n",
       "  background-color: var(--sklearn-color-fitted-level-3);\n",
       "  color: var(--sklearn-color-background);\n",
       "  text-decoration: none;\n",
       "}\n",
       "\n",
       "/* Span, style for the box shown on hovering the info icon */\n",
       ".sk-estimator-doc-link span {\n",
       "  display: none;\n",
       "  z-index: 9999;\n",
       "  position: relative;\n",
       "  font-weight: normal;\n",
       "  right: .2ex;\n",
       "  padding: .5ex;\n",
       "  margin: .5ex;\n",
       "  width: min-content;\n",
       "  min-width: 20ex;\n",
       "  max-width: 50ex;\n",
       "  color: var(--sklearn-color-text);\n",
       "  box-shadow: 2pt 2pt 4pt #999;\n",
       "  /* unfitted */\n",
       "  background: var(--sklearn-color-unfitted-level-0);\n",
       "  border: .5pt solid var(--sklearn-color-unfitted-level-3);\n",
       "}\n",
       "\n",
       ".sk-estimator-doc-link.fitted span {\n",
       "  /* fitted */\n",
       "  background: var(--sklearn-color-fitted-level-0);\n",
       "  border: var(--sklearn-color-fitted-level-3);\n",
       "}\n",
       "\n",
       ".sk-estimator-doc-link:hover span {\n",
       "  display: block;\n",
       "}\n",
       "\n",
       "/* \"?\"-specific style due to the `<a>` HTML tag */\n",
       "\n",
       "#sk-container-id-1 a.estimator_doc_link {\n",
       "  float: right;\n",
       "  font-size: 1rem;\n",
       "  line-height: 1em;\n",
       "  font-family: monospace;\n",
       "  background-color: var(--sklearn-color-background);\n",
       "  border-radius: 1rem;\n",
       "  height: 1rem;\n",
       "  width: 1rem;\n",
       "  text-decoration: none;\n",
       "  /* unfitted */\n",
       "  color: var(--sklearn-color-unfitted-level-1);\n",
       "  border: var(--sklearn-color-unfitted-level-1) 1pt solid;\n",
       "}\n",
       "\n",
       "#sk-container-id-1 a.estimator_doc_link.fitted {\n",
       "  /* fitted */\n",
       "  border: var(--sklearn-color-fitted-level-1) 1pt solid;\n",
       "  color: var(--sklearn-color-fitted-level-1);\n",
       "}\n",
       "\n",
       "/* On hover */\n",
       "#sk-container-id-1 a.estimator_doc_link:hover {\n",
       "  /* unfitted */\n",
       "  background-color: var(--sklearn-color-unfitted-level-3);\n",
       "  color: var(--sklearn-color-background);\n",
       "  text-decoration: none;\n",
       "}\n",
       "\n",
       "#sk-container-id-1 a.estimator_doc_link.fitted:hover {\n",
       "  /* fitted */\n",
       "  background-color: var(--sklearn-color-fitted-level-3);\n",
       "}\n",
       "</style><div id=\"sk-container-id-1\" class=\"sk-top-container\"><div class=\"sk-text-repr-fallback\"><pre>&gt; ------------------------------\n",
       "&gt; FIGS-Fast Interpretable Greedy-Tree Sums:\n",
       "&gt; \tPredictions are made by summing the &quot;Val&quot; reached by traversing each tree.\n",
       "&gt; \tFor classifiers, a sigmoid function is then applied to the sum.\n",
       "&gt; ------------------------------\n",
       "TOT_LVG_AREA_region4 &lt;= 0.500 (Tree #0 root)\n",
       "\tVal: 355117.240 (leaf)\n",
       "\tVal: 1091855.753 (leaf)\n",
       "\n",
       "\t+\n",
       "structure_quality_5 &lt;= 0.500 (Tree #1 root)\n",
       "\tSUBCNTR_DI_region1 &lt;= 0.500 (split)\n",
       "\t\tTOT_LVG_AREA_region4 &lt;= 0.500 (split)\n",
       "\t\t\tVal: -60803.043 (leaf)\n",
       "\t\t\tVal: -443142.655 (leaf)\n",
       "\t\tOCEAN_DIST_region1 &lt;= 0.500 (split)\n",
       "\t\t\tVal: 1486.221 (leaf)\n",
       "\t\t\tVal: 180534.320 (leaf)\n",
       "\tOCEAN_DIST_region1 &lt;= 0.500 (split)\n",
       "\t\tSUBCNTR_DI_region1 &lt;= 0.500 (split)\n",
       "\t\t\tVal: -5430.527 (leaf)\n",
       "\t\t\tVal: 346661.073 (leaf)\n",
       "\t\tSPEC_FEAT_VAL_region1 &lt;= 0.500 (split)\n",
       "\t\t\tCNTR_DIST_region1 &lt;= 0.500 (split)\n",
       "\t\t\t\tVal: 352807.346 (leaf)\n",
       "\t\t\t\tVal: 774560.270 (leaf)\n",
       "\t\t\tVal: 358546.011 (leaf)\n",
       "\n",
       "\t+\n",
       "TOT_LVG_AREA_region3 &lt;= 0.500 (Tree #2 root)\n",
       "\tTOT_LVG_AREA_region1 &lt;= 0.500 (split)\n",
       "\t\tVal: 15351.941 (leaf)\n",
       "\t\tVal: -89750.237 (leaf)\n",
       "\tLATITUDE_region3 &lt;= 0.500 (split)\n",
       "\t\tVal: 134973.719 (leaf)\n",
       "\t\tSUBCNTR_DI_region1 &lt;= 0.500 (split)\n",
       "\t\t\tVal: 237884.513 (leaf)\n",
       "\t\t\tVal: 628521.226 (leaf)\n",
       "\n",
       "\t+\n",
       "structure_quality_2 &lt;= 0.500 (Tree #3 root)\n",
       "\tPARCELNO_region2 &lt;= 0.500 (split)\n",
       "\t\tVal: 11829.607 (leaf)\n",
       "\t\tHWY_DIST_region4 &lt;= 0.500 (split)\n",
       "\t\t\tVal: 101380.287 (leaf)\n",
       "\t\t\tVal: 568362.108 (leaf)\n",
       "\tVal: -49447.511 (leaf)\n",
       "\n",
       "\t+\n",
       "structure_quality_3 &lt;= 0.500 (Tree #4 root)\n",
       "\tVal: -659.078 (leaf)\n",
       "\tVal: 760738.883 (leaf)\n",
       "</pre><b>In a Jupyter environment, please rerun this cell to show the HTML representation or trust the notebook. <br />On GitHub, the HTML representation is unable to render, please try loading this page with nbviewer.org.</b></div><div class=\"sk-container\" hidden><div class=\"sk-item\"><div class=\"sk-estimator fitted sk-toggleable\"><input class=\"sk-toggleable__control sk-hidden--visually\" id=\"sk-estimator-id-1\" type=\"checkbox\" checked><label for=\"sk-estimator-id-1\" class=\"sk-toggleable__label fitted sk-toggleable__label-arrow fitted\">&nbsp;FIGSRegressor<span class=\"sk-estimator-doc-link fitted\">i<span>Fitted</span></span></label><div class=\"sk-toggleable__content fitted\"><pre>&gt; ------------------------------\n",
       "&gt; FIGS-Fast Interpretable Greedy-Tree Sums:\n",
       "&gt; \tPredictions are made by summing the &quot;Val&quot; reached by traversing each tree.\n",
       "&gt; \tFor classifiers, a sigmoid function is then applied to the sum.\n",
       "&gt; ------------------------------\n",
       "TOT_LVG_AREA_region4 &lt;= 0.500 (Tree #0 root)\n",
       "\tVal: 355117.240 (leaf)\n",
       "\tVal: 1091855.753 (leaf)\n",
       "\n",
       "\t+\n",
       "structure_quality_5 &lt;= 0.500 (Tree #1 root)\n",
       "\tSUBCNTR_DI_region1 &lt;= 0.500 (split)\n",
       "\t\tTOT_LVG_AREA_region4 &lt;= 0.500 (split)\n",
       "\t\t\tVal: -60803.043 (leaf)\n",
       "\t\t\tVal: -443142.655 (leaf)\n",
       "\t\tOCEAN_DIST_region1 &lt;= 0.500 (split)\n",
       "\t\t\tVal: 1486.221 (leaf)\n",
       "\t\t\tVal: 180534.320 (leaf)\n",
       "\tOCEAN_DIST_region1 &lt;= 0.500 (split)\n",
       "\t\tSUBCNTR_DI_region1 &lt;= 0.500 (split)\n",
       "\t\t\tVal: -5430.527 (leaf)\n",
       "\t\t\tVal: 346661.073 (leaf)\n",
       "\t\tSPEC_FEAT_VAL_region1 &lt;= 0.500 (split)\n",
       "\t\t\tCNTR_DIST_region1 &lt;= 0.500 (split)\n",
       "\t\t\t\tVal: 352807.346 (leaf)\n",
       "\t\t\t\tVal: 774560.270 (leaf)\n",
       "\t\t\tVal: 358546.011 (leaf)\n",
       "\n",
       "\t+\n",
       "TOT_LVG_AREA_region3 &lt;= 0.500 (Tree #2 root)\n",
       "\tTOT_LVG_AREA_region1 &lt;= 0.500 (split)\n",
       "\t\tVal: 15351.941 (leaf)\n",
       "\t\tVal: -89750.237 (leaf)\n",
       "\tLATITUDE_region3 &lt;= 0.500 (split)\n",
       "\t\tVal: 134973.719 (leaf)\n",
       "\t\tSUBCNTR_DI_region1 &lt;= 0.500 (split)\n",
       "\t\t\tVal: 237884.513 (leaf)\n",
       "\t\t\tVal: 628521.226 (leaf)\n",
       "\n",
       "\t+\n",
       "structure_quality_2 &lt;= 0.500 (Tree #3 root)\n",
       "\tPARCELNO_region2 &lt;= 0.500 (split)\n",
       "\t\tVal: 11829.607 (leaf)\n",
       "\t\tHWY_DIST_region4 &lt;= 0.500 (split)\n",
       "\t\t\tVal: 101380.287 (leaf)\n",
       "\t\t\tVal: 568362.108 (leaf)\n",
       "\tVal: -49447.511 (leaf)\n",
       "\n",
       "\t+\n",
       "structure_quality_3 &lt;= 0.500 (Tree #4 root)\n",
       "\tVal: -659.078 (leaf)\n",
       "\tVal: 760738.883 (leaf)\n",
       "</pre></div> </div></div></div></div>"
      ],
      "text/plain": [
       "FIGSRegressor(max_rules=17, max_trees=10)"
      ]
     },
     "execution_count": 7,
     "metadata": {},
     "output_type": "execute_result"
    }
   ],
   "source": [
    "figs = FIGSRegressor(max_rules = 17, max_trees = 10)\n",
    "figs.fit(X_train_new, y_train, feature_names = list(X_train_new.columns))"
   ]
  },
  {
   "cell_type": "code",
   "execution_count": 8,
   "id": "20ff95aa-bbc4-422a-bc0d-1859e45793e1",
   "metadata": {},
   "outputs": [
    {
     "data": {
      "text/plain": [
       "5"
      ]
     },
     "execution_count": 8,
     "metadata": {},
     "output_type": "execute_result"
    }
   ],
   "source": [
    "len(figs.trees_)"
   ]
  },
  {
   "cell_type": "code",
   "execution_count": 9,
   "id": "b7ed1bca-6a7e-4fb5-b401-7f70b65908ae",
   "metadata": {
    "tags": []
   },
   "outputs": [],
   "source": [
    "figs_rules = [traverse_paths(t) for t in figs.trees_]"
   ]
  },
  {
   "cell_type": "code",
   "execution_count": 10,
   "id": "677d467b-1ee1-4a54-86f1-a22cab876ffa",
   "metadata": {},
   "outputs": [
    {
     "data": {
      "text/plain": [
       "[[([TOT_LVG_AREA_region4 <= 0.500 (Tree #0 root)], 1091855.7534246575)],\n",
       " [([TOT_LVG_AREA_region4 <= 0.500 (split)], -443142.6554331277),\n",
       "  ([SUBCNTR_DI_region1 <= 0.500 (split), OCEAN_DIST_region1 <= 0.500 (split)],\n",
       "   180534.3197198224),\n",
       "  ([SUBCNTR_DI_region1 <= 0.500 (split)], 346661.0732832696),\n",
       "  ([CNTR_DIST_region1 <= 0.500 (split)], 774560.2698056065),\n",
       "  ([structure_quality_5 <= 0.500 (Tree #1 root),\n",
       "    OCEAN_DIST_region1 <= 0.500 (split),\n",
       "    SPEC_FEAT_VAL_region1 <= 0.500 (split)],\n",
       "   358546.01091775444)],\n",
       " [([TOT_LVG_AREA_region1 <= 0.500 (split)], -89750.23672620118),\n",
       "  ([TOT_LVG_AREA_region3 <= 0.500 (Tree #2 root),\n",
       "    LATITUDE_region3 <= 0.500 (split),\n",
       "    SUBCNTR_DI_region1 <= 0.500 (split)],\n",
       "   628521.2255317793)],\n",
       " [([PARCELNO_region2 <= 0.500 (split), HWY_DIST_region4 <= 0.500 (split)],\n",
       "   568362.1081272365),\n",
       "  ([structure_quality_2 <= 0.500 (Tree #3 root)], -49447.51132687485)],\n",
       " [([structure_quality_3 <= 0.500 (Tree #4 root)], 760738.8834760431)]]"
      ]
     },
     "execution_count": 10,
     "metadata": {},
     "output_type": "execute_result"
    }
   ],
   "source": [
    "figs_rules"
   ]
  },
  {
   "cell_type": "code",
   "execution_count": 11,
   "id": "e5ae0f34-d71f-48fc-8dd0-4b12c8962630",
   "metadata": {},
   "outputs": [],
   "source": [
    "figs_rules = [\n",
    "    x\n",
    "    for xs in figs_rules\n",
    "    for x in xs\n",
    "]"
   ]
  },
  {
   "cell_type": "code",
   "execution_count": 12,
   "id": "6f5542d9-7427-4574-a5c5-65760fbd4441",
   "metadata": {},
   "outputs": [
    {
     "data": {
      "text/plain": [
       "11"
      ]
     },
     "execution_count": 12,
     "metadata": {},
     "output_type": "execute_result"
    }
   ],
   "source": [
    "len(figs_rules)"
   ]
  },
  {
   "cell_type": "code",
   "execution_count": 13,
   "id": "0ecfd5b7-5f1b-470f-b6fb-68545c50e5e7",
   "metadata": {},
   "outputs": [
    {
     "data": {
      "text/plain": [
       "[([TOT_LVG_AREA_region4 <= 0.500 (Tree #0 root)], 1091855.7534246575),\n",
       " ([TOT_LVG_AREA_region4 <= 0.500 (split)], -443142.6554331277),\n",
       " ([SUBCNTR_DI_region1 <= 0.500 (split), OCEAN_DIST_region1 <= 0.500 (split)],\n",
       "  180534.3197198224),\n",
       " ([SUBCNTR_DI_region1 <= 0.500 (split)], 346661.0732832696),\n",
       " ([CNTR_DIST_region1 <= 0.500 (split)], 774560.2698056065),\n",
       " ([structure_quality_5 <= 0.500 (Tree #1 root),\n",
       "   OCEAN_DIST_region1 <= 0.500 (split),\n",
       "   SPEC_FEAT_VAL_region1 <= 0.500 (split)],\n",
       "  358546.01091775444),\n",
       " ([TOT_LVG_AREA_region1 <= 0.500 (split)], -89750.23672620118),\n",
       " ([TOT_LVG_AREA_region3 <= 0.500 (Tree #2 root),\n",
       "   LATITUDE_region3 <= 0.500 (split),\n",
       "   SUBCNTR_DI_region1 <= 0.500 (split)],\n",
       "  628521.2255317793),\n",
       " ([PARCELNO_region2 <= 0.500 (split), HWY_DIST_region4 <= 0.500 (split)],\n",
       "  568362.1081272365),\n",
       " ([structure_quality_2 <= 0.500 (Tree #3 root)], -49447.51132687485),\n",
       " ([structure_quality_3 <= 0.500 (Tree #4 root)], 760738.8834760431)]"
      ]
     },
     "execution_count": 13,
     "metadata": {},
     "output_type": "execute_result"
    }
   ],
   "source": [
    "figs_rules"
   ]
  },
  {
   "cell_type": "code",
   "execution_count": 14,
   "id": "2409b6a0-263d-47c5-a134-79b2ecd9d68e",
   "metadata": {},
   "outputs": [],
   "source": [
    "paths = []\n",
    "weights = []\n",
    "for path, weight in figs_rules:\n",
    "    cur_path = []\n",
    "    for stop in path:\n",
    "        cur_path.append(stop.feature_names[stop.feature])\n",
    "    paths.append(tuple(cur_path))\n",
    "    weights.append(weight)"
   ]
  },
  {
   "cell_type": "code",
   "execution_count": 16,
   "id": "dad5f81a-edc0-44fd-bf86-d85587616666",
   "metadata": {
    "tags": []
   },
   "outputs": [],
   "source": [
    "figs_int = sorted(paths, key=lambda x: (len(x), x[0].lower()))"
   ]
  },
  {
   "cell_type": "code",
   "execution_count": 17,
   "id": "63973d6b-684f-4f30-b956-bb23c9622f5b",
   "metadata": {},
   "outputs": [],
   "source": [
    "ftd_int = sorted(list(ftd.post_interaction_features), key=lambda x: (len(x), x[0].lower()))"
   ]
  },
  {
   "cell_type": "code",
   "execution_count": 18,
   "id": "2ef3bce3-c171-48bb-81c8-5911bb490474",
   "metadata": {},
   "outputs": [
    {
     "data": {
      "text/plain": [
       "[['CNTR_DIST_region1'],\n",
       " ['structure_quality_2'],\n",
       " ['structure_quality_3'],\n",
       " ['SUBCNTR_DI_region1'],\n",
       " ['TOT_LVG_AREA_region1'],\n",
       " ['TOT_LVG_AREA_region4'],\n",
       " ['TOT_LVG_AREA_region4'],\n",
       " ['HWY_DIST_region4', 'PARCELNO_region2'],\n",
       " ['OCEAN_DIST_region1', 'SUBCNTR_DI_region1'],\n",
       " ['OCEAN_DIST_region1', 'SPEC_FEAT_VAL_region1', 'structure_quality_5'],\n",
       " ['LATITUDE_region3', 'SUBCNTR_DI_region1', 'TOT_LVG_AREA_region3']]"
      ]
     },
     "execution_count": 18,
     "metadata": {},
     "output_type": "execute_result"
    }
   ],
   "source": [
    "[sorted(f) for f in figs_int]"
   ]
  },
  {
   "cell_type": "code",
   "execution_count": 19,
   "id": "14ca861f-e270-4d78-9b16-61b5cbe7969a",
   "metadata": {},
   "outputs": [
    {
     "data": {
      "text/plain": [
       "[['TOT_LVG_AREA_region1'],\n",
       " ['CNTR_DIST_region2', 'TOT_LVG_AREA_region3'],\n",
       " ['OCEAN_DIST_region1', 'SUBCNTR_DI_region1'],\n",
       " ['TOT_LVG_AREA_region4', 'structure_quality_4'],\n",
       " ['CNTR_DIST_region1', 'SPEC_FEAT_VAL_region4', 'avno60plus_0'],\n",
       " ['OCEAN_DIST_region1', 'PARCELNO_region2', 'SUBCNTR_DI_region2'],\n",
       " ['CNTR_DIST_region1', 'SPEC_FEAT_VAL_region3', 'avno60plus_0'],\n",
       " ['OCEAN_DIST_region1', 'WATER_DIST_region1', 'structure_quality_5'],\n",
       " ['TOT_LVG_AREA_region4', 'avno60plus_0', 'structure_quality_5']]"
      ]
     },
     "execution_count": 19,
     "metadata": {},
     "output_type": "execute_result"
    }
   ],
   "source": [
    "[sorted(f) for f in ftd_int]"
   ]
  },
  {
   "cell_type": "code",
   "execution_count": 83,
   "id": "203d8d37-1dcc-4a55-9c14-28a81b4d3741",
   "metadata": {},
   "outputs": [
    {
     "name": "stdout",
     "output_type": "stream",
     "text": [
      "('TOT_LVG_AREA_region1',)\n",
      "('SUBCNTR_DI_region1', 'OCEAN_DIST_region1')\n"
     ]
    }
   ],
   "source": [
    "for t in figs_int:\n",
    "    for f in ftd_int:\n",
    "        if t==f:\n",
    "            print(t)"
   ]
  },
  {
   "cell_type": "code",
   "execution_count": 21,
   "id": "fc71818f-5e51-46fd-8730-2122dbd777ad",
   "metadata": {},
   "outputs": [
    {
     "name": "stdout",
     "output_type": "stream",
     "text": [
      "FIGS unique: ['CNTR_DIST_region1', 'HWY_DIST_region4', 'LATITUDE_region3', 'OCEAN_DIST_region1', 'PARCELNO_region2', 'SPEC_FEAT_VAL_region1', 'SUBCNTR_DI_region1', 'TOT_LVG_AREA_region1', 'TOT_LVG_AREA_region3', 'TOT_LVG_AREA_region4', 'structure_quality_2', 'structure_quality_3', 'structure_quality_5']\n",
      "FT Distill unique: ['CNTR_DIST_region1', 'CNTR_DIST_region2', 'OCEAN_DIST_region1', 'PARCELNO_region2', 'SPEC_FEAT_VAL_region3', 'SPEC_FEAT_VAL_region4', 'SUBCNTR_DI_region1', 'SUBCNTR_DI_region2', 'TOT_LVG_AREA_region1', 'TOT_LVG_AREA_region3', 'TOT_LVG_AREA_region4', 'WATER_DIST_region1', 'avno60plus_0', 'structure_quality_4', 'structure_quality_5']\n"
     ]
    }
   ],
   "source": [
    "flat_figs_int = [s for t in figs_int for s in t]\n",
    "flat_ftd_int = [s for t in ftd_int for s in t]\n",
    "print(f'FIGS unique: {sorted(list(set(flat_figs_int)))}')\n",
    "print(f'FT Distill unique: {sorted(list(set(flat_ftd_int)))}')"
   ]
  },
  {
   "cell_type": "code",
   "execution_count": 22,
   "id": "85f58974-59d8-4bb2-863d-8bfb3d2eb581",
   "metadata": {},
   "outputs": [],
   "source": [
    "from sklearn.metrics import r2_score"
   ]
  },
  {
   "cell_type": "code",
   "execution_count": 23,
   "id": "d55e8db6-ef56-4d83-9c2e-065db90be32b",
   "metadata": {},
   "outputs": [
    {
     "name": "stdout",
     "output_type": "stream",
     "text": [
      "0.6875009011481434\n",
      "0.7423219195628676\n"
     ]
    }
   ],
   "source": [
    "print(r2_score(y_val, ftd.predict(X_val_new)))\n",
    "print(r2_score(y_val, figs.predict(X_val_new)))"
   ]
  },
  {
   "cell_type": "code",
   "execution_count": 24,
   "id": "cc4bed8a-6cf7-4094-a9e2-21ac43fa731d",
   "metadata": {},
   "outputs": [
    {
     "name": "stdout",
     "output_type": "stream",
     "text": [
      "0.7354711268413527\n",
      "0.7727836067711333\n"
     ]
    }
   ],
   "source": [
    "print(r2_score(y_train, ftd.predict(X_train_new)))\n",
    "print(r2_score(y_train, figs.predict(X_train_new)))"
   ]
  },
  {
   "cell_type": "code",
   "execution_count": 25,
   "id": "e7db73aa-4a37-4928-ac89-a09bec3d4653",
   "metadata": {},
   "outputs": [
    {
     "data": {
      "text/plain": [
       "13"
      ]
     },
     "execution_count": 25,
     "metadata": {},
     "output_type": "execute_result"
    }
   ],
   "source": [
    "len(sorted(list(set(flat_figs_int))))"
   ]
  },
  {
   "cell_type": "code",
   "execution_count": 26,
   "id": "f070c182-909f-4663-95bf-d5dd3f8c8a76",
   "metadata": {},
   "outputs": [
    {
     "data": {
      "text/plain": [
       "15"
      ]
     },
     "execution_count": 26,
     "metadata": {},
     "output_type": "execute_result"
    }
   ],
   "source": [
    "len(sorted(list(set(flat_ftd_int))))"
   ]
  },
  {
   "cell_type": "code",
   "execution_count": 27,
   "id": "0d931361-44ce-4839-883b-57cc43250391",
   "metadata": {},
   "outputs": [
    {
     "data": {
      "text/plain": [
       "20"
      ]
     },
     "execution_count": 27,
     "metadata": {},
     "output_type": "execute_result"
    }
   ],
   "source": [
    "len(list(set(flat_figs_int + flat_ftd_int)))"
   ]
  },
  {
   "cell_type": "code",
   "execution_count": 28,
   "id": "80779142-cac7-4f2f-82a5-5bef6cdc11bc",
   "metadata": {},
   "outputs": [
    {
     "data": {
      "text/plain": [
       "{'HWY_DIST_region4',\n",
       " 'LATITUDE_region3',\n",
       " 'SPEC_FEAT_VAL_region1',\n",
       " 'structure_quality_2',\n",
       " 'structure_quality_3'}"
      ]
     },
     "execution_count": 28,
     "metadata": {},
     "output_type": "execute_result"
    }
   ],
   "source": [
    "set(flat_figs_int) - set.intersection(set(flat_figs_int), set(flat_ftd_int))"
   ]
  },
  {
   "cell_type": "code",
   "execution_count": 30,
   "id": "f2f2104c-c047-479c-9e64-b426a0522b70",
   "metadata": {},
   "outputs": [
    {
     "data": {
      "text/plain": [
       "13"
      ]
     },
     "execution_count": 30,
     "metadata": {},
     "output_type": "execute_result"
    }
   ],
   "source": [
    "len(set(flat_figs_int))"
   ]
  },
  {
   "cell_type": "code",
   "execution_count": 31,
   "id": "ac890840-ab84-4f83-b28c-525a677bd155",
   "metadata": {},
   "outputs": [
    {
     "data": {
      "text/plain": [
       "{'CNTR_DIST_region1',\n",
       " 'OCEAN_DIST_region1',\n",
       " 'PARCELNO_region2',\n",
       " 'SUBCNTR_DI_region1',\n",
       " 'TOT_LVG_AREA_region1',\n",
       " 'TOT_LVG_AREA_region3',\n",
       " 'TOT_LVG_AREA_region4',\n",
       " 'structure_quality_5'}"
      ]
     },
     "execution_count": 31,
     "metadata": {},
     "output_type": "execute_result"
    }
   ],
   "source": [
    "set.intersection(set(flat_figs_int), set(flat_ftd_int))"
   ]
  },
  {
   "cell_type": "code",
   "execution_count": 49,
   "id": "080c21aa-2628-48ff-bab6-ad6ce2ff7a18",
   "metadata": {},
   "outputs": [
    {
     "data": {
      "text/plain": [
       "Text(0.5, 1.0, 'Correlation Matrix of GMM BM miami_housing Dataset')"
      ]
     },
     "execution_count": 49,
     "metadata": {},
     "output_type": "execute_result"
    },
    {
     "data": {
      "image/png": "[encoded data removed]",
      "text/plain": [
       "<Figure size 432x288 with 2 Axes>"
      ]
     },
     "metadata": {
      "needs_background": "light"
     },
     "output_type": "display_data"
    }
   ],
   "source": [
    "import seaborn as sns\n",
    "\n",
    "corr = X_train_new.corr()\n",
    "\n",
    "# plot the heatmap\n",
    "sns.heatmap(corr)\n",
    "\n",
    "plt.title('Correlation Matrix of GMM BM miami_housing Dataset')\n",
    "#plt.savefig('figs/corr.png', bbox_inches='tight')"
   ]
  },
  {
   "cell_type": "code",
   "execution_count": 95,
   "id": "cf996de8-a8ff-4c3a-b11c-904cbf679eb3",
   "metadata": {},
   "outputs": [
    {
     "data": {
      "image/png": "[encoded data removed]",
      "text/plain": [
       "<Figure size 432x288 with 2 Axes>"
      ]
     },
     "metadata": {
      "needs_background": "light"
     },
     "output_type": "display_data"
    }
   ],
   "source": [
    "cor=0.4\n",
    "sns.heatmap(corr > cor)\n",
    "plt.title(f'Heatmap Correlation Matrix > {cor} of GMM BM miami_housing Dataset')\n",
    "plt.savefig(f'figs/corr_{cor}.png', bbox_inches='tight')"
   ]
  },
  {
   "cell_type": "code",
   "execution_count": 68,
   "id": "60376a9a-f85a-4259-8877-411f8e3026b7",
   "metadata": {},
   "outputs": [],
   "source": [
    "corr_list = [(X_train_new.columns[t[0]], X_train_new.columns[t[1]]) for t in zip(np.where(corr > cor)[0], np.where(corr > cor)[1]) if t[0] < t[1]]"
   ]
  },
  {
   "cell_type": "code",
   "execution_count": 69,
   "id": "78a3db82-bbec-4dd6-870b-1d5fc2e23c36",
   "metadata": {},
   "outputs": [
    {
     "data": {
      "text/plain": [
       "[('CNTR_DIST_region1', 'SUBCNTR_DI_region1'),\n",
       " ('CNTR_DIST_region1', 'age_region4'),\n",
       " ('CNTR_DIST_region4', 'SUBCNTR_DI_region4'),\n",
       " ('CNTR_DIST_region4', 'structure_quality_2'),\n",
       " ('LATITUDE_region1', 'CNTR_DIST_region3'),\n",
       " ('LATITUDE_region1', 'CNTR_DIST_region4'),\n",
       " ('LATITUDE_region1', 'structure_quality_2'),\n",
       " ('LATITUDE_region2', 'SUBCNTR_DI_region1'),\n",
       " ('LATITUDE_region3', 'LONGITUDE_region4'),\n",
       " ('LATITUDE_region3', 'PARCELNO_region1'),\n",
       " ('LATITUDE_region3', 'CNTR_DIST_region1'),\n",
       " ('LATITUDE_region4', 'WATER_DIST_region1'),\n",
       " ('LATITUDE_region4', 'CNTR_DIST_region2'),\n",
       " ('LONGITUDE_region1', 'WATER_DIST_region3'),\n",
       " ('LONGITUDE_region1', 'WATER_DIST_region4'),\n",
       " ('LONGITUDE_region1', 'CNTR_DIST_region3'),\n",
       " ('LONGITUDE_region1', 'CNTR_DIST_region4'),\n",
       " ('LONGITUDE_region3', 'CNTR_DIST_region1'),\n",
       " ('LONGITUDE_region4', 'CNTR_DIST_region1'),\n",
       " ('PARCELNO_region1', 'CNTR_DIST_region1'),\n",
       " ('PARCELNO_region1', 'SUBCNTR_DI_region1'),\n",
       " ('PARCELNO_region3', 'CNTR_DIST_region3'),\n",
       " ('RAIL_DIST_region4', 'CNTR_DIST_region4'),\n",
       " ('RAIL_DIST_region4', 'SUBCNTR_DI_region4'),\n",
       " ('WATER_DIST_region3', 'CNTR_DIST_region4'),\n",
       " ('WATER_DIST_region4', 'CNTR_DIST_region3'),\n",
       " ('WATER_DIST_region4', 'HWY_DIST_region4')]"
      ]
     },
     "execution_count": 69,
     "metadata": {},
     "output_type": "execute_result"
    }
   ],
   "source": [
    "corr_list = sorted(corr_list, key= lambda x: x[0])\n",
    "corr_list"
   ]
  },
  {
   "cell_type": "code",
   "execution_count": 84,
   "id": "3d7148df-dee4-4597-b709-bd4e5597e863",
   "metadata": {},
   "outputs": [
    {
     "data": {
      "text/plain": [
       "[{'CNTR_DIST_region1': 'SUBCNTR_DI_region1'},\n",
       " {'CNTR_DIST_region1': 'age_region4'},\n",
       " {'CNTR_DIST_region4': 'SUBCNTR_DI_region4'},\n",
       " {'CNTR_DIST_region4': 'structure_quality_2'},\n",
       " {'LATITUDE_region1': 'CNTR_DIST_region3'},\n",
       " {'LATITUDE_region1': 'CNTR_DIST_region4'},\n",
       " {'LATITUDE_region1': 'structure_quality_2'},\n",
       " {'LATITUDE_region2': 'SUBCNTR_DI_region1'},\n",
       " {'LATITUDE_region3': 'LONGITUDE_region4'},\n",
       " {'LATITUDE_region3': 'PARCELNO_region1'},\n",
       " {'LATITUDE_region3': 'CNTR_DIST_region1'},\n",
       " {'LATITUDE_region4': 'WATER_DIST_region1'},\n",
       " {'LATITUDE_region4': 'CNTR_DIST_region2'},\n",
       " {'LONGITUDE_region1': 'WATER_DIST_region3'},\n",
       " {'LONGITUDE_region1': 'WATER_DIST_region4'},\n",
       " {'LONGITUDE_region1': 'CNTR_DIST_region3'},\n",
       " {'LONGITUDE_region1': 'CNTR_DIST_region4'},\n",
       " {'LONGITUDE_region3': 'CNTR_DIST_region1'},\n",
       " {'LONGITUDE_region4': 'CNTR_DIST_region1'},\n",
       " {'PARCELNO_region1': 'CNTR_DIST_region1'},\n",
       " {'PARCELNO_region1': 'SUBCNTR_DI_region1'},\n",
       " {'PARCELNO_region3': 'CNTR_DIST_region3'},\n",
       " {'RAIL_DIST_region4': 'CNTR_DIST_region4'},\n",
       " {'RAIL_DIST_region4': 'SUBCNTR_DI_region4'},\n",
       " {'WATER_DIST_region3': 'CNTR_DIST_region4'},\n",
       " {'WATER_DIST_region4': 'CNTR_DIST_region3'},\n",
       " {'WATER_DIST_region4': 'HWY_DIST_region4'}]"
      ]
     },
     "execution_count": 84,
     "metadata": {},
     "output_type": "execute_result"
    }
   ],
   "source": [
    "corr_dict_list = [{t1:t2} for t1, t2 in corr_list]\n",
    "corr_dict_list"
   ]
  },
  {
   "cell_type": "code",
   "execution_count": 70,
   "id": "17eade09-c2df-4f3c-82f5-80ae4425f540",
   "metadata": {},
   "outputs": [
    {
     "data": {
      "text/plain": [
       "{'CNTR_DIST_region1': 'age_region4',\n",
       " 'CNTR_DIST_region4': 'structure_quality_2',\n",
       " 'LATITUDE_region1': 'structure_quality_2',\n",
       " 'LATITUDE_region2': 'SUBCNTR_DI_region1',\n",
       " 'LATITUDE_region3': 'CNTR_DIST_region1',\n",
       " 'LATITUDE_region4': 'CNTR_DIST_region2',\n",
       " 'LONGITUDE_region1': 'CNTR_DIST_region4',\n",
       " 'LONGITUDE_region3': 'CNTR_DIST_region1',\n",
       " 'LONGITUDE_region4': 'CNTR_DIST_region1',\n",
       " 'PARCELNO_region1': 'SUBCNTR_DI_region1',\n",
       " 'PARCELNO_region3': 'CNTR_DIST_region3',\n",
       " 'RAIL_DIST_region4': 'SUBCNTR_DI_region4',\n",
       " 'WATER_DIST_region3': 'CNTR_DIST_region4',\n",
       " 'WATER_DIST_region4': 'HWY_DIST_region4'}"
      ]
     },
     "execution_count": 70,
     "metadata": {},
     "output_type": "execute_result"
    }
   ],
   "source": [
    "corr_dict = {}\n",
    "for t1, t2 in corr_list:\n",
    "    corr_dict[t1] = t2\n",
    "corr_dict"
   ]
  },
  {
   "cell_type": "code",
   "execution_count": 97,
   "id": "47c76a42-c9ae-4fda-8612-69308bbe1cf6",
   "metadata": {},
   "outputs": [
    {
     "data": {
      "text/plain": [
       "[['TOT_LVG_AREA_region1'],\n",
       " ['CNTR_DIST_region2', 'TOT_LVG_AREA_region3'],\n",
       " ['SUBCNTR_DI_region1', 'OCEAN_DIST_region1'],\n",
       " ['TOT_LVG_AREA_region4', 'structure_quality_4'],\n",
       " ['CNTR_DIST_region1', 'avno60plus_0', 'SPEC_FEAT_VAL_region4'],\n",
       " ['PARCELNO_region2', 'SUBCNTR_DI_region2', 'OCEAN_DIST_region1'],\n",
       " ['SPEC_FEAT_VAL_region3', 'CNTR_DIST_region1', 'avno60plus_0'],\n",
       " ['structure_quality_5', 'WATER_DIST_region1', 'OCEAN_DIST_region1'],\n",
       " ['TOT_LVG_AREA_region4', 'structure_quality_5', 'avno60plus_0']]"
      ]
     },
     "execution_count": 97,
     "metadata": {},
     "output_type": "execute_result"
    }
   ],
   "source": [
    "# def apply_dict_to_list_of_lists(list_of_lists, replace_dict):\n",
    "#     return [[replace_dict.get(item, item) for item in sublist] for sublist in list_of_lists]\n",
    "def apply_dict_to_list_of_lists(list_of_lists, replace_dict_list, i=-1):\n",
    "    return [[[d.get(item, item) for d in replace_dict_list][i] for item in sublist] for sublist in list_of_lists]\n",
    "\n",
    "# # Apply the function\n",
    "# ftd_int_corr = apply_dict_to_list_of_lists(ftd_int, corr_dict)\n",
    "# figs_int_corr = apply_dict_to_list_of_lists(figs_int, corr_dict)\n",
    "\n",
    "# ftd_int_corr\n",
    "\n",
    "ftd_int_corr = apply_dict_to_list_of_lists(ftd_int, corr_dict_list)\n",
    "figs_int_corr = apply_dict_to_list_of_lists(figs_int, corr_dict_list)\n",
    "\n",
    "ftd_int_corr"
   ]
  },
  {
   "cell_type": "code",
   "execution_count": 100,
   "id": "94fc3151-3d37-4ec5-bd39-c786858eb33d",
   "metadata": {},
   "outputs": [
    {
     "name": "stdout",
     "output_type": "stream",
     "text": [
      "num overlapped interactions: 2\n",
      "num overlapped interactions: 2\n",
      "num overlapped interactions: 2\n",
      "num overlapped interactions: 2\n",
      "num overlapped interactions: 2\n",
      "num overlapped interactions: 2\n",
      "num overlapped interactions: 2\n",
      "num overlapped interactions: 2\n",
      "num overlapped interactions: 2\n",
      "num overlapped interactions: 2\n",
      "num overlapped interactions: 2\n",
      "num overlapped interactions: 2\n",
      "num overlapped interactions: 2\n",
      "num overlapped interactions: 2\n",
      "num overlapped interactions: 2\n",
      "num overlapped interactions: 2\n",
      "num overlapped interactions: 2\n",
      "num overlapped interactions: 2\n",
      "num overlapped interactions: 2\n",
      "num overlapped interactions: 2\n",
      "num overlapped interactions: 2\n",
      "num overlapped interactions: 2\n",
      "num overlapped interactions: 2\n",
      "num overlapped interactions: 2\n",
      "num overlapped interactions: 2\n",
      "num overlapped interactions: 2\n",
      "num overlapped interactions: 2\n"
     ]
    }
   ],
   "source": [
    "for i in range(len(corr_dict_list)):\n",
    "    ftd_int_corr = apply_dict_to_list_of_lists(ftd_int, corr_dict_list, i)\n",
    "    figs_int_corr = apply_dict_to_list_of_lists(figs_int, corr_dict_list, i)\n",
    "    print(f'num overlapped interactions: {sum([x == y for x in figs_int_corr for y in ftd_int_corr])}')"
   ]
  },
  {
   "cell_type": "code",
   "execution_count": 93,
   "id": "aa7fa352-e0b2-46cb-ac90-25798b494f2b",
   "metadata": {},
   "outputs": [
    {
     "name": "stdout",
     "output_type": "stream",
     "text": [
      "num overlapped interactions: 2\n"
     ]
    }
   ],
   "source": [
    "print(f'num overlapped interactions: {sum([x == y for x in figs_int_corr for y in ftd_int_corr])}')"
   ]
  },
  {
   "cell_type": "code",
   "execution_count": 94,
   "id": "34a6537e-cbb1-4b2e-bc42-ff7f826c1e48",
   "metadata": {},
   "outputs": [
    {
     "name": "stdout",
     "output_type": "stream",
     "text": [
      "['TOT_LVG_AREA_region1']\n",
      "['SUBCNTR_DI_region1', 'OCEAN_DIST_region1']\n"
     ]
    }
   ],
   "source": [
    "for t in figs_int_corr:\n",
    "    for f in ftd_int_corr:\n",
    "        if t==f:\n",
    "            print(t)"
   ]
  },
  {
   "cell_type": "code",
   "execution_count": null,
   "id": "5293a5d1-09c2-458f-bdb8-c19b63ce1ec7",
   "metadata": {},
   "outputs": [],
   "source": []
  }
 ],
 "metadata": {
  "kernelspec": {
   "display_name": "Python 3 (ipykernel)",
   "language": "python",
   "name": "python3"
  },
  "language_info": {
   "codemirror_mode": {
    "name": "ipython",
    "version": 3
   },
   "file_extension": ".py",
   "mimetype": "text/x-python",
   "name": "python",
   "nbconvert_exporter": "python",
   "pygments_lexer": "ipython3",
   "version": "3.9.12"
  }
 },
 "nbformat": 4,
 "nbformat_minor": 5
}

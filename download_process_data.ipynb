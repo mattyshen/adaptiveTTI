{
 "cells": [
  {
   "cell_type": "code",
   "execution_count": 2,
   "id": "9866cdbb-01ec-4373-aad2-241ad34f0fed",
   "metadata": {
    "tags": []
   },
   "outputs": [
    {
     "name": "stdout",
     "output_type": "stream",
     "text": [
      "(CVXPY) Jun 13 02:37:16 AM: Encountered unexpected exception importing solver GLOP:\n",
      "RuntimeError('Unrecognized new version of ortools (9.10.4067). Expected < 9.10.0. Please open a feature request on cvxpy to enable support for this version.')\n",
      "(CVXPY) Jun 13 02:37:16 AM: Encountered unexpected exception importing solver PDLP:\n",
      "RuntimeError('Unrecognized new version of ortools (9.10.4067). Expected < 9.10.0. Please open a feature request on cvxpy to enable support for this version.')\n"
     ]
    }
   ],
   "source": [
    "#standard import\n",
    "import pandas as pd\n",
    "import numpy as np\n",
    "import matplotlib.pyplot as plt\n",
    "import matplotlib.ticker as mticker\n",
    "import seaborn as sns\n",
    "import pyreadr\n",
    "\n",
    "# sklearn\n",
    "from sklearn.linear_model import LinearRegression, RidgeCV, LassoCV, ElasticNetCV, HuberRegressor, QuantileRegressor\n",
    "from sklearn.model_selection import train_test_split, GridSearchCV\n",
    "from sklearn.ensemble import RandomForestRegressor, ExtraTreesRegressor, AdaBoostRegressor\n",
    "from sklearn.utils import resample\n",
    "from sklearn.metrics import r2_score, root_mean_squared_error, mean_absolute_error\n",
    "from sklearn.impute import SimpleImputer, KNNImputer\n",
    "from sklearn.pipeline import make_pipeline\n",
    "from sklearn.preprocessing import StandardScaler, PolynomialFeatures, MinMaxScaler\n",
    "from sklearn.datasets import make_regression\n",
    "from sklearn import datasets\n",
    "\n",
    "# miscilaneous models\n",
    "from xgboost import XGBRegressor\n",
    "from quantile_forest import RandomForestQuantileRegressor\n",
    "from joblib import Parallel, delayed\n",
    "#from exp_utils import *\n",
    "import time\n",
    "from scipy.stats import multivariate_normal\n",
    "import pickle\n",
    "from sklearn.neighbors import KNeighborsRegressor\n",
    "from optbinning import ContinuousOptimalBinning\n",
    "import openml\n",
    "from ucimlrepo import fetch_ucirepo \n",
    "import os\n",
    "\n",
    "from imodels.importance import RandomForestPlusRegressor\n",
    "import blosc\n",
    "\n",
    "import warnings\n",
    "warnings.simplefilter(action='ignore', category=FutureWarning)\n",
    "warnings.filterwarnings(\"ignore\", category=DeprecationWarning) "
   ]
  },
  {
   "cell_type": "code",
   "execution_count": 5,
   "id": "7443859a-a705-4e7b-bf48-5ff4c0bfd719",
   "metadata": {},
   "outputs": [],
   "source": [
    "t = {('task_type', \n",
    "  'dataset_name', \n",
    "  'subsample_frac', \n",
    "  'seed', \n",
    "  'model_name',\n",
    "  'featurizer_name',\n",
    "  'featurizer_frac',\n",
    "  'featurizer_overlap',\n",
    "  'depth',\n",
    "  'pre_interaction',\n",
    "  'pre_max_features',\n",
    "  'post_interaction',\n",
    "  'post_max_features'\n",
    " ):\n",
    " [(tt,\n",
    "   dn,\n",
    "   sf,\n",
    "   s,\n",
    "   mn,\n",
    "   fn,\n",
    "   ff,\n",
    "   fo,\n",
    "   d,\n",
    "   prei,\n",
    "   premf,\n",
    "   posti,\n",
    "   postmf\n",
    "  )\n",
    " for tt in ['regression', 'classification']\n",
    " for dn in ['ca_housing']\n",
    " for sf in [0.2]\n",
    " for s in [0, 1, 2]\n",
    " for mn in [\"random_forest\", \"figs\", \"xgboost\", \"resnet\", \"ft_transformer\", \"ft_distill\"]\n",
    " for fn in [\"no_featurizer\", \"featurizer\"]\n",
    " for ff in [0.25, 0.33, 0.5, 0.75, 1.0]\n",
    " for fo in [0, 1]\n",
    " for d in [1, 2, 3, 4]\n",
    " for prei in [\"l0l2\", \"l1l2\"]\n",
    " for premf in [0.3, 0.5]\n",
    " for posti in [\"l0l2\", \"l1l2\"]\n",
    " for postmf in [0.3, 0.5]\n",
    " ]}"
   ]
  },
  {
   "cell_type": "markdown",
   "id": "84a7bbe1-90fa-45f0-b52c-8acd78b7fe7e",
   "metadata": {
    "tags": [],
    "user_expressions": []
   },
   "source": [
    "# Data"
   ]
  },
  {
   "cell_type": "code",
   "execution_count": 2,
   "id": "743e798a-41fe-47a6-aee1-7ed9d5993cc8",
   "metadata": {
    "tags": []
   },
   "outputs": [],
   "source": [
    "def process_data(X, y, cat_feat, num_feat):\n",
    "    # one-hot encode categorical features\n",
    "    X_processed = pd.get_dummies(X, columns=cat_feat, drop_first=True, dtype=int)\n",
    "    \n",
    "    # save categorical features after one-hot encoding\n",
    "    cat_feat_dummy = X_processed.drop(columns=num_feat).columns.to_numpy()\n",
    "    \n",
    "    # get feature importance\n",
    "    # random forest\n",
    "    imp_model_rf = RandomForestRegressor(min_samples_leaf = 5, max_features = 0.33, n_estimators = 100, random_state=777)\n",
    "    feat_imp_rf = imp_model_rf.fit(X_processed, y).feature_importances_\n",
    "\n",
    "    #rf+\n",
    "    print(\"rf+\")\n",
    "    rf_model = RandomForestRegressor(min_samples_leaf = 5, max_features = 0.33, n_estimators = 100, random_state=777)\n",
    "    imp_model_rf_plus = RandomForestPlusRegressor(rf_model=rf_model)\n",
    "    imp_model_rf_plus.fit(X_processed,y)\n",
    "    feat_imp_rf_plus = imp_model_rf_plus.get_mdi_plus_scores(X_processed,y)\n",
    "\n",
    "    imp_df = pd.DataFrame({\"feature\": X_processed.columns,\n",
    "                           \"importance_rf\": feat_imp_rf,\n",
    "                           \"importance_rf_plus\": feat_imp_rf_plus.importance}).sort_values(\"importance_rf\", ascending=False)    \n",
    "    # bin data\n",
    "    X_binned = X_processed[num_feat].apply(lambda c: pd.qcut(c, q=4, duplicates=\"drop\"), axis=0)\n",
    "    X_binned = pd.concat([X_binned, X_processed[cat_feat_dummy]], axis=1)\n",
    "    \n",
    "    subgroup_dict = {\"num_feat\": num_feat,\n",
    "                    \"cat_feat\": cat_feat_dummy,\n",
    "                    \"importance\": imp_df,\n",
    "                    \"binned_df\": X_binned}\n",
    "    \n",
    "    return X_processed, y, subgroup_dict"
   ]
  },
  {
   "cell_type": "markdown",
   "id": "3209fbc8-c21c-4956-89ff-48f9cad1df09",
   "metadata": {
    "jp-MarkdownHeadingCollapsed": true,
    "tags": [],
    "user_expressions": []
   },
   "source": [
    "# Abalone\n",
    "features: \n",
    "\n",
    "target:\n",
    "\n",
    "source:\n"
   ]
  },
  {
   "cell_type": "code",
   "execution_count": null,
   "id": "99543e64-0a28-4d8c-a020-62c75ff9665f",
   "metadata": {
    "tags": []
   },
   "outputs": [],
   "source": [
    "data = \"data_abalone\"\n",
    "# fetch dataset \n",
    "abalone = fetch_ucirepo(id=1) \n",
    "\n",
    "# data (as pandas dataframes) \n",
    "X_orig = abalone.data.features\n",
    "y = abalone.data.targets.Rings.to_numpy() \n",
    "\n",
    "# specify categorical and numerical features\n",
    "cat_feat_abalone = [\"Sex\"]\n",
    "num_feat_abalone = X_orig.drop(columns = cat_feat_abalone).columns.to_numpy()\n",
    "\n",
    "X, y, subgroups = process_data(X_orig, y, cat_feat_abalone, num_feat_abalone)\n",
    "\n",
    "bin_df = subgroups[\"binned_df\"]\n",
    "\n",
    "data_dict = {}\n",
    "\n",
    "for i in range(5):\n",
    "    np.random.seed(777+i)\n",
    "    x_train_val, x_test, x_bin_train_val, x_bin_test, y_train_val, y_test = train_test_split(X, bin_df, y, test_size=0.2)\n",
    "    x_train, x_val, x_bin_train, x_bin_val, y_train, y_val = train_test_split(x_train_val, x_bin_train_val, y_train_val, test_size=0.25)\n",
    "    \n",
    "    split_dict = {\"x_train\": x_train.to_numpy(), \"y_train\": y_train,\n",
    "                  \"x_val\": x_val.to_numpy(), \"y_val\": y_val,\n",
    "                  \"x_test\": x_test.to_numpy(), \"y_test\": y_test,\n",
    "                  \"x_bin_train\": x_bin_train.reset_index(drop=True),\n",
    "                  \"x_bin_val\": x_bin_val.reset_index(drop=True),\n",
    "                  \"x_bin_test\": x_bin_test.reset_index(drop=True)}\n",
    "    \n",
    "    data_dict[str(i)] = {\"orig\": split_dict}\n",
    "\n",
    "data_dict[\"subgroup_info\"] = subgroups\n",
    "data_dict[\"X\"] = X\n",
    "data_dict[\"y\"] = y\n",
    "\n",
    "if not os.path.exists(f\"../data/{data}\"):\n",
    "    os.mkdir(f\"../data/{data}\")\n",
    "    \n",
    "data_dict_pickled = pickle.dumps(data_dict)\n",
    "pickle_compressed = blosc.compress(data_dict_pickled)\n",
    "\n",
    "with open(f\"../data/{data}/data_groups_orig.dat\", \"wb\") as f:\n",
    "    f.write(pickle_compressed)"
   ]
  },
  {
   "cell_type": "code",
   "execution_count": null,
   "id": "ff2cce52-3853-46c3-ae06-1d0a378bdf85",
   "metadata": {
    "tags": []
   },
   "outputs": [],
   "source": [
    "# data = \"data_abalone\"\n",
    "# # fetch dataset \n",
    "# abalone = fetch_ucirepo(id=1) \n",
    "\n",
    "# # data (as pandas dataframes) \n",
    "# X_orig = abalone.data.features\n",
    "\n",
    "# # specify categorical and numerical features\n",
    "# cat_feat_abalone = [\"Sex\"]\n",
    "# num_feat_abalone = X_orig.drop(columns = cat_feat_abalone).columns.to_numpy()\n",
    "\n",
    "# X_processed = pd.get_dummies(X_orig, columns=cat_feat_abalone, drop_first=True, dtype=int)\n",
    "# X = X_processed\n",
    "\n",
    "# # bin data\n",
    "# abalone_binned = X_orig.drop(columns = cat_feat_abalone).apply(lambda c: pd.cut(c, bins=5), axis=0)\n",
    "# abalone_binned[cat_feat_abalone] = X_orig[cat_feat_abalone]\n",
    "\n",
    "# abalone_binned_quantile = X_orig.drop(columns = cat_feat_abalone).apply(lambda c: pd.qcut(c, q=4, duplicates=\"drop\"), axis=0)\n",
    "# abalone_binned_quantile[cat_feat_abalone] = X_orig[cat_feat_abalone]\n",
    "\n",
    "# y = abalone.data.targets.Rings.to_numpy() "
   ]
  },
  {
   "cell_type": "markdown",
   "id": "7a9f9a5f-26e0-4f72-8e74-adba1fe95365",
   "metadata": {
    "tags": [],
    "user_expressions": []
   },
   "source": [
    "# Parkinsons"
   ]
  },
  {
   "cell_type": "code",
   "execution_count": 48,
   "id": "1ef403aa-251e-482f-a0b1-83fc1ccfedfe",
   "metadata": {
    "tags": []
   },
   "outputs": [],
   "source": [
    "data = \"data_parkinsons\"\n",
    "# fetch dataset \n",
    "parkinsons_telemonitoring = fetch_ucirepo(id=189) \n",
    "\n",
    "# data (as pandas dataframes) \n",
    "X_orig = parkinsons_telemonitoring.data.features.drop(columns = \"test_time\")\n",
    "y = parkinsons_telemonitoring.data.targets.total_UPDRS.to_numpy()"
   ]
  },
  {
   "cell_type": "code",
   "execution_count": 55,
   "id": "f443d93f-0666-4981-8f45-afd5d73bca31",
   "metadata": {
    "tags": []
   },
   "outputs": [],
   "source": [
    "data = \"data_parkinsons\"\n",
    "# fetch dataset \n",
    "parkinsons_telemonitoring = fetch_ucirepo(id=189) \n",
    "\n",
    "# data (as pandas dataframes) \n",
    "X_orig = parkinsons_telemonitoring.data.features.drop(columns = \"test_time\")\n",
    "y = parkinsons_telemonitoring.data.targets.total_UPDRS.to_numpy()"
   ]
  },
  {
   "cell_type": "code",
   "execution_count": 49,
   "id": "a7cf2ce8-8d38-4df5-8476-337efec22cce",
   "metadata": {
    "tags": []
   },
   "outputs": [
    {
     "data": {
      "text/plain": [
       "Text(0.5, 0, 'Speech Oscillation')"
      ]
     },
     "execution_count": 49,
     "metadata": {},
     "output_type": "execute_result"
    },
    {
     "data": {
      "image/png": "[encoded data removed]",
      "text/plain": [
       "<Figure size 640x480 with 1 Axes>"
      ]
     },
     "metadata": {},
     "output_type": "display_data"
    }
   ],
   "source": [
    "sns.set_context(\"talk\", font_scale=1.5)\n",
    "plt.hist(X_orig.DFA, bins=50, color=\"grey\")\n",
    "plt.axvline(0.6827888, color=\"black\", linestyle=\"dashed\")\n",
    "plt.xlabel(\"Speech Oscillation\")"
   ]
  },
  {
   "cell_type": "code",
   "execution_count": 8,
   "id": "54213707-6064-477c-bac7-dd33621e94fc",
   "metadata": {
    "tags": []
   },
   "outputs": [
    {
     "name": "stdout",
     "output_type": "stream",
     "text": [
      "rf+\n"
     ]
    },
    {
     "ename": "KeyboardInterrupt",
     "evalue": "",
     "output_type": "error",
     "traceback": [
      "\u001b[0;31m---------------------------------------------------------------------------\u001b[0m",
      "\u001b[0;31mKeyboardInterrupt\u001b[0m                         Traceback (most recent call last)",
      "Cell \u001b[0;32mIn[8], line 13\u001b[0m\n\u001b[1;32m     10\u001b[0m cat_feat_parkinsons \u001b[38;5;241m=\u001b[39m [\u001b[38;5;124m\"\u001b[39m\u001b[38;5;124msex\u001b[39m\u001b[38;5;124m\"\u001b[39m]\n\u001b[1;32m     11\u001b[0m num_feat_parkinsons \u001b[38;5;241m=\u001b[39m X_orig\u001b[38;5;241m.\u001b[39mdrop(columns \u001b[38;5;241m=\u001b[39m cat_feat_parkinsons)\u001b[38;5;241m.\u001b[39mcolumns\u001b[38;5;241m.\u001b[39mto_numpy()\n\u001b[0;32m---> 13\u001b[0m X, y, subgroups \u001b[38;5;241m=\u001b[39m \u001b[43mprocess_data\u001b[49m\u001b[43m(\u001b[49m\u001b[43mX_orig\u001b[49m\u001b[43m,\u001b[49m\u001b[43m \u001b[49m\u001b[43my\u001b[49m\u001b[43m,\u001b[49m\u001b[43m \u001b[49m\u001b[43mcat_feat_parkinsons\u001b[49m\u001b[43m,\u001b[49m\u001b[43m \u001b[49m\u001b[43mnum_feat_parkinsons\u001b[49m\u001b[43m)\u001b[49m\n\u001b[1;32m     14\u001b[0m bin_df \u001b[38;5;241m=\u001b[39m subgroups[\u001b[38;5;124m\"\u001b[39m\u001b[38;5;124mbinned_df\u001b[39m\u001b[38;5;124m\"\u001b[39m]\n\u001b[1;32m     16\u001b[0m new_bin_df \u001b[38;5;241m=\u001b[39m bin_df\u001b[38;5;241m.\u001b[39mcopy(deep\u001b[38;5;241m=\u001b[39m\u001b[38;5;28;01mTrue\u001b[39;00m)\n",
      "Cell \u001b[0;32mIn[2], line 17\u001b[0m, in \u001b[0;36mprocess_data\u001b[0;34m(X, y, cat_feat, num_feat)\u001b[0m\n\u001b[1;32m     15\u001b[0m rf_model \u001b[38;5;241m=\u001b[39m RandomForestRegressor(min_samples_leaf \u001b[38;5;241m=\u001b[39m \u001b[38;5;241m5\u001b[39m, max_features \u001b[38;5;241m=\u001b[39m \u001b[38;5;241m0.33\u001b[39m, n_estimators \u001b[38;5;241m=\u001b[39m \u001b[38;5;241m100\u001b[39m, random_state\u001b[38;5;241m=\u001b[39m\u001b[38;5;241m777\u001b[39m)\n\u001b[1;32m     16\u001b[0m imp_model_rf_plus \u001b[38;5;241m=\u001b[39m RandomForestPlusRegressor(rf_model\u001b[38;5;241m=\u001b[39mrf_model)\n\u001b[0;32m---> 17\u001b[0m \u001b[43mimp_model_rf_plus\u001b[49m\u001b[38;5;241;43m.\u001b[39;49m\u001b[43mfit\u001b[49m\u001b[43m(\u001b[49m\u001b[43mX_processed\u001b[49m\u001b[43m,\u001b[49m\u001b[43my\u001b[49m\u001b[43m)\u001b[49m\n\u001b[1;32m     18\u001b[0m feat_imp_rf_plus \u001b[38;5;241m=\u001b[39m imp_model_rf_plus\u001b[38;5;241m.\u001b[39mget_mdi_plus_scores(X_processed,y)\n\u001b[1;32m     20\u001b[0m imp_df \u001b[38;5;241m=\u001b[39m pd\u001b[38;5;241m.\u001b[39mDataFrame({\u001b[38;5;124m\"\u001b[39m\u001b[38;5;124mfeature\u001b[39m\u001b[38;5;124m\"\u001b[39m: X_processed\u001b[38;5;241m.\u001b[39mcolumns,\n\u001b[1;32m     21\u001b[0m                        \u001b[38;5;124m\"\u001b[39m\u001b[38;5;124mimportance_rf\u001b[39m\u001b[38;5;124m\"\u001b[39m: feat_imp_rf,\n\u001b[1;32m     22\u001b[0m                        \u001b[38;5;124m\"\u001b[39m\u001b[38;5;124mimportance_rf_plus\u001b[39m\u001b[38;5;124m\"\u001b[39m: feat_imp_rf_plus\u001b[38;5;241m.\u001b[39mimportance})\u001b[38;5;241m.\u001b[39msort_values(\u001b[38;5;124m\"\u001b[39m\u001b[38;5;124mimportance_rf\u001b[39m\u001b[38;5;124m\"\u001b[39m, ascending\u001b[38;5;241m=\u001b[39m\u001b[38;5;28;01mFalse\u001b[39;00m)    \n",
      "File \u001b[0;32m~/.local/lib/python3.11/site-packages/imodels/importance/rf_plus.py:159\u001b[0m, in \u001b[0;36m_RandomForestPlus.fit\u001b[0;34m(self, X, y, sample_weight, **kwargs)\u001b[0m\n\u001b[1;32m    157\u001b[0m \u001b[38;5;66;03m# fit prediction model\u001b[39;00m\n\u001b[1;32m    158\u001b[0m \u001b[38;5;28;01mif\u001b[39;00m train_blocked_data\u001b[38;5;241m.\u001b[39mget_all_data()\u001b[38;5;241m.\u001b[39mshape[\u001b[38;5;241m1\u001b[39m] \u001b[38;5;241m!=\u001b[39m \u001b[38;5;241m0\u001b[39m:  \u001b[38;5;66;03m# if tree has >= 1 split\u001b[39;00m\n\u001b[0;32m--> 159\u001b[0m     \u001b[38;5;28;43mself\u001b[39;49m\u001b[38;5;241;43m.\u001b[39;49m\u001b[43mprediction_model\u001b[49m\u001b[38;5;241;43m.\u001b[39;49m\u001b[43mfit\u001b[49m\u001b[43m(\u001b[49m\u001b[43mtrain_blocked_data\u001b[49m\u001b[38;5;241;43m.\u001b[39;49m\u001b[43mget_all_data\u001b[49m\u001b[43m(\u001b[49m\u001b[43m)\u001b[49m\u001b[43m,\u001b[49m\u001b[43m \u001b[49m\u001b[43my_train\u001b[49m\u001b[43m,\u001b[49m\u001b[43m \u001b[49m\u001b[38;5;241;43m*\u001b[39;49m\u001b[38;5;241;43m*\u001b[39;49m\u001b[43mkwargs\u001b[49m\u001b[43m)\u001b[49m\n\u001b[1;32m    160\u001b[0m     \u001b[38;5;28mself\u001b[39m\u001b[38;5;241m.\u001b[39mestimators_\u001b[38;5;241m.\u001b[39mappend(copy\u001b[38;5;241m.\u001b[39mdeepcopy(\u001b[38;5;28mself\u001b[39m\u001b[38;5;241m.\u001b[39mprediction_model))\n\u001b[1;32m    161\u001b[0m     \u001b[38;5;28mself\u001b[39m\u001b[38;5;241m.\u001b[39mtransformers_\u001b[38;5;241m.\u001b[39mappend(copy\u001b[38;5;241m.\u001b[39mdeepcopy(transformer))\n",
      "File \u001b[0;32m~/.local/lib/python3.11/site-packages/imodels/importance/ppms.py:44\u001b[0m, in \u001b[0;36mPartialPredictionModelBase.fit\u001b[0;34m(self, X, y)\u001b[0m\n\u001b[1;32m     33\u001b[0m \u001b[38;5;28;01mdef\u001b[39;00m \u001b[38;5;21mfit\u001b[39m(\u001b[38;5;28mself\u001b[39m, X, y):\n\u001b[1;32m     34\u001b[0m \u001b[38;5;250m    \u001b[39m\u001b[38;5;124;03m\"\"\"\u001b[39;00m\n\u001b[1;32m     35\u001b[0m \u001b[38;5;124;03m    Fit the partial prediction model.\u001b[39;00m\n\u001b[1;32m     36\u001b[0m \n\u001b[0;32m   (...)\u001b[0m\n\u001b[1;32m     42\u001b[0m \u001b[38;5;124;03m        The observed responses.\u001b[39;00m\n\u001b[1;32m     43\u001b[0m \u001b[38;5;124;03m    \"\"\"\u001b[39;00m\n\u001b[0;32m---> 44\u001b[0m     \u001b[38;5;28;43mself\u001b[39;49m\u001b[38;5;241;43m.\u001b[39;49m\u001b[43m_fit_model\u001b[49m\u001b[43m(\u001b[49m\u001b[43mX\u001b[49m\u001b[43m,\u001b[49m\u001b[43m \u001b[49m\u001b[43my\u001b[49m\u001b[43m)\u001b[49m\n\u001b[1;32m     45\u001b[0m     \u001b[38;5;28mself\u001b[39m\u001b[38;5;241m.\u001b[39mis_fitted \u001b[38;5;241m=\u001b[39m \u001b[38;5;28;01mTrue\u001b[39;00m\n",
      "File \u001b[0;32m~/.local/lib/python3.11/site-packages/imodels/importance/ppms.py:242\u001b[0m, in \u001b[0;36m_GlmPPM._fit_model\u001b[0;34m(self, X, y)\u001b[0m\n\u001b[1;32m    240\u001b[0m \u001b[38;5;28;01mif\u001b[39;00m \u001b[38;5;28misinstance\u001b[39m(\u001b[38;5;28mself\u001b[39m\u001b[38;5;241m.\u001b[39mestimator, Ridge):\n\u001b[1;32m    241\u001b[0m     cv \u001b[38;5;241m=\u001b[39m RidgeCV(alphas\u001b[38;5;241m=\u001b[39m\u001b[38;5;28mself\u001b[39m\u001b[38;5;241m.\u001b[39malpha_grid, gcv_mode\u001b[38;5;241m=\u001b[39m\u001b[38;5;28mself\u001b[39m\u001b[38;5;241m.\u001b[39mgcv_mode)\n\u001b[0;32m--> 242\u001b[0m     \u001b[43mcv\u001b[49m\u001b[38;5;241;43m.\u001b[39;49m\u001b[43mfit\u001b[49m\u001b[43m(\u001b[49m\u001b[43mX\u001b[49m\u001b[43m,\u001b[49m\u001b[43m \u001b[49m\u001b[43myj\u001b[49m\u001b[43m)\u001b[49m\n\u001b[1;32m    243\u001b[0m     \u001b[38;5;28mself\u001b[39m\u001b[38;5;241m.\u001b[39malpha_[j] \u001b[38;5;241m=\u001b[39m cv\u001b[38;5;241m.\u001b[39malpha_\n\u001b[1;32m    244\u001b[0m \u001b[38;5;28;01melse\u001b[39;00m:\n",
      "File \u001b[0;32m~/.local/lib/python3.11/site-packages/sklearn/base.py:1474\u001b[0m, in \u001b[0;36m_fit_context.<locals>.decorator.<locals>.wrapper\u001b[0;34m(estimator, *args, **kwargs)\u001b[0m\n\u001b[1;32m   1467\u001b[0m     estimator\u001b[38;5;241m.\u001b[39m_validate_params()\n\u001b[1;32m   1469\u001b[0m \u001b[38;5;28;01mwith\u001b[39;00m config_context(\n\u001b[1;32m   1470\u001b[0m     skip_parameter_validation\u001b[38;5;241m=\u001b[39m(\n\u001b[1;32m   1471\u001b[0m         prefer_skip_nested_validation \u001b[38;5;129;01mor\u001b[39;00m global_skip_validation\n\u001b[1;32m   1472\u001b[0m     )\n\u001b[1;32m   1473\u001b[0m ):\n\u001b[0;32m-> 1474\u001b[0m     \u001b[38;5;28;01mreturn\u001b[39;00m \u001b[43mfit_method\u001b[49m\u001b[43m(\u001b[49m\u001b[43mestimator\u001b[49m\u001b[43m,\u001b[49m\u001b[43m \u001b[49m\u001b[38;5;241;43m*\u001b[39;49m\u001b[43margs\u001b[49m\u001b[43m,\u001b[49m\u001b[43m \u001b[49m\u001b[38;5;241;43m*\u001b[39;49m\u001b[38;5;241;43m*\u001b[39;49m\u001b[43mkwargs\u001b[49m\u001b[43m)\u001b[49m\n",
      "File \u001b[0;32m~/.local/lib/python3.11/site-packages/sklearn/linear_model/_ridge.py:2418\u001b[0m, in \u001b[0;36mRidgeCV.fit\u001b[0;34m(self, X, y, sample_weight)\u001b[0m\n\u001b[1;32m   2389\u001b[0m \u001b[38;5;250m\u001b[39m\u001b[38;5;124;03m\"\"\"Fit Ridge regression model with cv.\u001b[39;00m\n\u001b[1;32m   2390\u001b[0m \n\u001b[1;32m   2391\u001b[0m \u001b[38;5;124;03mParameters\u001b[39;00m\n\u001b[0;32m   (...)\u001b[0m\n\u001b[1;32m   2415\u001b[0m \u001b[38;5;124;03mthe validation score.\u001b[39;00m\n\u001b[1;32m   2416\u001b[0m \u001b[38;5;124;03m\"\"\"\u001b[39;00m\n\u001b[1;32m   2417\u001b[0m _raise_for_unsupported_routing(\u001b[38;5;28mself\u001b[39m, \u001b[38;5;124m\"\u001b[39m\u001b[38;5;124mfit\u001b[39m\u001b[38;5;124m\"\u001b[39m, sample_weight\u001b[38;5;241m=\u001b[39msample_weight)\n\u001b[0;32m-> 2418\u001b[0m \u001b[38;5;28;43msuper\u001b[39;49m\u001b[43m(\u001b[49m\u001b[43m)\u001b[49m\u001b[38;5;241;43m.\u001b[39;49m\u001b[43mfit\u001b[49m\u001b[43m(\u001b[49m\u001b[43mX\u001b[49m\u001b[43m,\u001b[49m\u001b[43m \u001b[49m\u001b[43my\u001b[49m\u001b[43m,\u001b[49m\u001b[43m \u001b[49m\u001b[43msample_weight\u001b[49m\u001b[38;5;241;43m=\u001b[39;49m\u001b[43msample_weight\u001b[49m\u001b[43m)\u001b[49m\n\u001b[1;32m   2419\u001b[0m \u001b[38;5;28;01mreturn\u001b[39;00m \u001b[38;5;28mself\u001b[39m\n",
      "File \u001b[0;32m~/.local/lib/python3.11/site-packages/sklearn/linear_model/_ridge.py:2217\u001b[0m, in \u001b[0;36m_BaseRidgeCV.fit\u001b[0;34m(self, X, y, sample_weight)\u001b[0m\n\u001b[1;32m   2207\u001b[0m \u001b[38;5;28;01mif\u001b[39;00m cv \u001b[38;5;129;01mis\u001b[39;00m \u001b[38;5;28;01mNone\u001b[39;00m:\n\u001b[1;32m   2208\u001b[0m     estimator \u001b[38;5;241m=\u001b[39m _RidgeGCV(\n\u001b[1;32m   2209\u001b[0m         alphas,\n\u001b[1;32m   2210\u001b[0m         fit_intercept\u001b[38;5;241m=\u001b[39m\u001b[38;5;28mself\u001b[39m\u001b[38;5;241m.\u001b[39mfit_intercept,\n\u001b[0;32m   (...)\u001b[0m\n\u001b[1;32m   2215\u001b[0m         alpha_per_target\u001b[38;5;241m=\u001b[39m\u001b[38;5;28mself\u001b[39m\u001b[38;5;241m.\u001b[39malpha_per_target,\n\u001b[1;32m   2216\u001b[0m     )\n\u001b[0;32m-> 2217\u001b[0m     \u001b[43mestimator\u001b[49m\u001b[38;5;241;43m.\u001b[39;49m\u001b[43mfit\u001b[49m\u001b[43m(\u001b[49m\u001b[43mX\u001b[49m\u001b[43m,\u001b[49m\u001b[43m \u001b[49m\u001b[43my\u001b[49m\u001b[43m,\u001b[49m\u001b[43m \u001b[49m\u001b[43msample_weight\u001b[49m\u001b[38;5;241;43m=\u001b[39;49m\u001b[43msample_weight\u001b[49m\u001b[43m)\u001b[49m\n\u001b[1;32m   2218\u001b[0m     \u001b[38;5;28mself\u001b[39m\u001b[38;5;241m.\u001b[39malpha_ \u001b[38;5;241m=\u001b[39m estimator\u001b[38;5;241m.\u001b[39malpha_\n\u001b[1;32m   2219\u001b[0m     \u001b[38;5;28mself\u001b[39m\u001b[38;5;241m.\u001b[39mbest_score_ \u001b[38;5;241m=\u001b[39m estimator\u001b[38;5;241m.\u001b[39mbest_score_\n",
      "File \u001b[0;32m~/.local/lib/python3.11/site-packages/sklearn/linear_model/_ridge.py:2055\u001b[0m, in \u001b[0;36m_RidgeGCV.fit\u001b[0;34m(self, X, y, sample_weight)\u001b[0m\n\u001b[1;32m   2052\u001b[0m best_coef, best_score, best_alpha \u001b[38;5;241m=\u001b[39m \u001b[38;5;28;01mNone\u001b[39;00m, \u001b[38;5;28;01mNone\u001b[39;00m, \u001b[38;5;28;01mNone\u001b[39;00m\n\u001b[1;32m   2054\u001b[0m \u001b[38;5;28;01mfor\u001b[39;00m i, alpha \u001b[38;5;129;01min\u001b[39;00m \u001b[38;5;28menumerate\u001b[39m(np\u001b[38;5;241m.\u001b[39matleast_1d(\u001b[38;5;28mself\u001b[39m\u001b[38;5;241m.\u001b[39malphas)):\n\u001b[0;32m-> 2055\u001b[0m     G_inverse_diag, c \u001b[38;5;241m=\u001b[39m \u001b[43msolve\u001b[49m\u001b[43m(\u001b[49m\u001b[38;5;28;43mfloat\u001b[39;49m\u001b[43m(\u001b[49m\u001b[43malpha\u001b[49m\u001b[43m)\u001b[49m\u001b[43m,\u001b[49m\u001b[43m \u001b[49m\u001b[43my\u001b[49m\u001b[43m,\u001b[49m\u001b[43m \u001b[49m\u001b[43msqrt_sw\u001b[49m\u001b[43m,\u001b[49m\u001b[43m \u001b[49m\u001b[43mX_mean\u001b[49m\u001b[43m,\u001b[49m\u001b[43m \u001b[49m\u001b[38;5;241;43m*\u001b[39;49m\u001b[43mdecomposition\u001b[49m\u001b[43m)\u001b[49m\n\u001b[1;32m   2056\u001b[0m     \u001b[38;5;28;01mif\u001b[39;00m error:\n\u001b[1;32m   2057\u001b[0m         squared_errors \u001b[38;5;241m=\u001b[39m (c \u001b[38;5;241m/\u001b[39m G_inverse_diag) \u001b[38;5;241m*\u001b[39m\u001b[38;5;241m*\u001b[39m \u001b[38;5;241m2\u001b[39m\n",
      "File \u001b[0;32m~/.local/lib/python3.11/site-packages/sklearn/linear_model/_ridge.py:1966\u001b[0m, in \u001b[0;36m_RidgeGCV._solve_svd_design_matrix\u001b[0;34m(self, alpha, y, sqrt_sw, X_mean, singvals_sq, U, UT_y)\u001b[0m\n\u001b[1;32m   1964\u001b[0m     \u001b[38;5;66;03m# cancel the regularization for the intercept\u001b[39;00m\n\u001b[1;32m   1965\u001b[0m     w[intercept_dim] \u001b[38;5;241m=\u001b[39m \u001b[38;5;241m-\u001b[39m(alpha\u001b[38;5;241m*\u001b[39m\u001b[38;5;241m*\u001b[39m\u001b[38;5;241m-\u001b[39m\u001b[38;5;241m1\u001b[39m)\n\u001b[0;32m-> 1966\u001b[0m c \u001b[38;5;241m=\u001b[39m \u001b[43mnp\u001b[49m\u001b[38;5;241;43m.\u001b[39;49m\u001b[43mdot\u001b[49m\u001b[43m(\u001b[49m\u001b[43mU\u001b[49m\u001b[43m,\u001b[49m\u001b[43m \u001b[49m\u001b[38;5;28;43mself\u001b[39;49m\u001b[38;5;241;43m.\u001b[39;49m\u001b[43m_diag_dot\u001b[49m\u001b[43m(\u001b[49m\u001b[43mw\u001b[49m\u001b[43m,\u001b[49m\u001b[43m \u001b[49m\u001b[43mUT_y\u001b[49m\u001b[43m)\u001b[49m\u001b[43m)\u001b[49m \u001b[38;5;241m+\u001b[39m (alpha\u001b[38;5;241m*\u001b[39m\u001b[38;5;241m*\u001b[39m\u001b[38;5;241m-\u001b[39m\u001b[38;5;241m1\u001b[39m) \u001b[38;5;241m*\u001b[39m y\n\u001b[1;32m   1967\u001b[0m G_inverse_diag \u001b[38;5;241m=\u001b[39m \u001b[38;5;28mself\u001b[39m\u001b[38;5;241m.\u001b[39m_decomp_diag(w, U) \u001b[38;5;241m+\u001b[39m (alpha\u001b[38;5;241m*\u001b[39m\u001b[38;5;241m*\u001b[39m\u001b[38;5;241m-\u001b[39m\u001b[38;5;241m1\u001b[39m)\n\u001b[1;32m   1968\u001b[0m \u001b[38;5;28;01mif\u001b[39;00m \u001b[38;5;28mlen\u001b[39m(y\u001b[38;5;241m.\u001b[39mshape) \u001b[38;5;241m!=\u001b[39m \u001b[38;5;241m1\u001b[39m:\n\u001b[1;32m   1969\u001b[0m     \u001b[38;5;66;03m# handle case where y is 2-d\u001b[39;00m\n",
      "\u001b[0;31mKeyboardInterrupt\u001b[0m: "
     ]
    }
   ],
   "source": [
    "data = \"data_parkinsons\"\n",
    "# fetch dataset \n",
    "parkinsons_telemonitoring = fetch_ucirepo(id=189) \n",
    "\n",
    "# data (as pandas dataframes) \n",
    "X_orig = parkinsons_telemonitoring.data.features.drop(columns = \"test_time\")\n",
    "y = parkinsons_telemonitoring.data.targets.total_UPDRS.to_numpy()\n",
    "\n",
    "# save categorical and numerical features\n",
    "cat_feat_parkinsons = [\"sex\"]\n",
    "num_feat_parkinsons = X_orig.drop(columns = cat_feat_parkinsons).columns.to_numpy()\n",
    "\n",
    "X, y, subgroups = process_data(X_orig, y, cat_feat_parkinsons, num_feat_parkinsons)\n",
    "bin_df = subgroups[\"binned_df\"]\n",
    "\n",
    "new_bin_df = bin_df.copy(deep=True)\n",
    "new_bin_df[\"DFA\"] = (X.DFA <= 0.68).astype(int)\n",
    "subgroups[\"new_binned_df\"] = new_bin_df\n",
    "\n",
    "data_dict = {}\n",
    "\n",
    "for i in range(5):\n",
    "    np.random.seed(777+i)\n",
    "    x_train_val, x_test, x_bin_train_val, x_bin_test, x_new_bin_train_val, x_new_bin_test, y_train_val, y_test = train_test_split(X, bin_df, new_bin_df, y, test_size=0.2)\n",
    "    x_train, x_val, x_bin_train, x_bin_val, x_new_bin_train, x_new_bin_val, y_train, y_val = train_test_split(x_train_val, x_bin_train_val, x_new_bin_train_val, y_train_val, test_size=0.25)\n",
    "    \n",
    "    split_dict = {\"x_train\": x_train.to_numpy(), \"y_train\": y_train,\n",
    "                  \"x_val\": x_val.to_numpy(), \"y_val\": y_val,\n",
    "                  \"x_test\": x_test.to_numpy(), \"y_test\": y_test,\n",
    "                  \"x_bin_train\": x_bin_train.reset_index(drop=True),\n",
    "                  \"x_bin_val\": x_bin_val.reset_index(drop=True),\n",
    "                  \"x_bin_test\": x_bin_test.reset_index(drop=True),\n",
    "                  \"x_new_bin_train\": x_new_bin_train.reset_index(drop=True),\n",
    "                  \"x_new_bin_val\": x_new_bin_val.reset_index(drop=True),\n",
    "                  \"x_new_bin_test\": x_new_bin_test.reset_index(drop=True)}\n",
    "    \n",
    "    data_dict[str(i)] = {\"orig\": split_dict}\n",
    "\n",
    "data_dict[\"subgroup_info\"] = subgroups\n",
    "data_dict[\"X\"] = X\n",
    "data_dict[\"y\"] = y\n",
    "\n",
    "if not os.path.exists(f\"../data/{data}\"):\n",
    "    os.mkdir(f\"../data/{data}\")\n",
    "    \n",
    "data_dict_pickled = pickle.dumps(data_dict)\n",
    "pickle_compressed = blosc.compress(data_dict_pickled)\n",
    "\n",
    "with open(f\"../data/{data}/data_groups_orig_new.dat\", \"wb\") as f:\n",
    "    f.write(pickle_compressed)"
   ]
  },
  {
   "cell_type": "markdown",
   "id": "474f4972-d0d7-4635-8c44-5c85bffe8300",
   "metadata": {
    "jp-MarkdownHeadingCollapsed": true,
    "tags": []
   },
   "source": [
    "# Airfoil"
   ]
  },
  {
   "cell_type": "code",
   "execution_count": null,
   "id": "642eef93-bad8-4214-813f-a50de6e015dc",
   "metadata": {
    "tags": []
   },
   "outputs": [],
   "source": [
    "data = \"data_airfoil\"\n",
    "# fetch dataset \n",
    "airfoil_self_noise = fetch_ucirepo(id=291) \n",
    "  \n",
    "# data (as pandas dataframes) \n",
    "X_orig = airfoil_self_noise.data.features \n",
    "y = airfoil_self_noise.data.targets[\"scaled-sound-pressure\"].to_numpy()\n",
    "\n",
    "# save categorical and numerical features\n",
    "cat_feat_airfoil = []\n",
    "num_feat_airfoil = X_orig.drop(columns = cat_feat_airfoil).columns.to_numpy()\n",
    "\n",
    "X, y, subgroups = process_data(X_orig, y, cat_feat_airfoil, num_feat_airfoil)\n",
    "bin_df = subgroups[\"binned_df\"]\n",
    "\n",
    "data_dict = {}\n",
    "\n",
    "for i in range(5):\n",
    "    np.random.seed(777+i)\n",
    "    x_train_val, x_test, x_bin_train_val, x_bin_test, y_train_val, y_test = train_test_split(X, bin_df, y, test_size=0.2)\n",
    "    x_train, x_val, x_bin_train, x_bin_val, y_train, y_val = train_test_split(x_train_val, x_bin_train_val, y_train_val, test_size=0.25)\n",
    "    \n",
    "    split_dict = {\"x_train\": x_train.to_numpy(), \"y_train\": y_train,\n",
    "                  \"x_val\": x_val.to_numpy(), \"y_val\": y_val,\n",
    "                  \"x_test\": x_test.to_numpy(), \"y_test\": y_test,\n",
    "                  \"x_bin_train\": x_bin_train.reset_index(drop=True),\n",
    "                  \"x_bin_val\": x_bin_val.reset_index(drop=True),\n",
    "                  \"x_bin_test\": x_bin_test.reset_index(drop=True)}\n",
    "    \n",
    "    data_dict[str(i)] = {\"orig\": split_dict}\n",
    "\n",
    "data_dict[\"subgroup_info\"] = subgroups\n",
    "data_dict[\"X\"] = X\n",
    "data_dict[\"y\"] = y\n",
    "\n",
    "if not os.path.exists(f\"../data/{data}\"):\n",
    "    os.mkdir(f\"../data/{data}\")\n",
    "    \n",
    "data_dict_pickled = pickle.dumps(data_dict)\n",
    "pickle_compressed = blosc.compress(data_dict_pickled)\n",
    "\n",
    "with open(f\"../data/{data}/data_groups_orig.dat\", \"wb\") as f:\n",
    "    f.write(pickle_compressed)"
   ]
  },
  {
   "cell_type": "markdown",
   "id": "11f85f10-296e-48de-b1a8-6d2bdd84acec",
   "metadata": {
    "jp-MarkdownHeadingCollapsed": true,
    "tags": []
   },
   "source": [
    "# Computer"
   ]
  },
  {
   "cell_type": "code",
   "execution_count": null,
   "id": "edb2f096-3e01-48ac-b783-49aa8066ed06",
   "metadata": {
    "tags": []
   },
   "outputs": [],
   "source": [
    "data = \"data_computer\"\n",
    "\n",
    "# fetch dataset\n",
    "computer = openml.datasets.get_dataset(197)\n",
    "\n",
    "# data\n",
    "X_orig, y, cat_ind, col_names = computer.get_data(target=computer.default_target_attribute, dataset_format=\"dataframe\")\n",
    "y = y.to_numpy()\n",
    "\n",
    "# save categorical and numerical features\n",
    "cat_feat_computer = []\n",
    "num_feat_computer = X_orig.drop(columns = cat_feat_computer).columns.to_numpy()\n",
    "\n",
    "X, y, subgroups = process_data(X_orig, y, cat_feat_computer, num_feat_computer)\n",
    "bin_df = subgroups[\"binned_df\"]\n",
    "\n",
    "data_dict = {}\n",
    "\n",
    "for i in range(5):\n",
    "    np.random.seed(777+i)\n",
    "    x_train_val, x_test, x_bin_train_val, x_bin_test, y_train_val, y_test = train_test_split(X, bin_df, y, test_size=0.2)\n",
    "    x_train, x_val, x_bin_train, x_bin_val, y_train, y_val = train_test_split(x_train_val, x_bin_train_val, y_train_val, test_size=0.25)\n",
    "    \n",
    "    split_dict = {\"x_train\": x_train.to_numpy(), \"y_train\": y_train,\n",
    "                  \"x_val\": x_val.to_numpy(), \"y_val\": y_val,\n",
    "                  \"x_test\": x_test.to_numpy(), \"y_test\": y_test,\n",
    "                  \"x_bin_train\": x_bin_train.reset_index(drop=True),\n",
    "                  \"x_bin_val\": x_bin_val.reset_index(drop=True),\n",
    "                  \"x_bin_test\": x_bin_test.reset_index(drop=True)}\n",
    "    \n",
    "    data_dict[str(i)] = {\"orig\": split_dict}\n",
    "\n",
    "data_dict[\"subgroup_info\"] = subgroups\n",
    "data_dict[\"X\"] = X\n",
    "data_dict[\"y\"] = y\n",
    "\n",
    "if not os.path.exists(f\"../data/{data}\"):\n",
    "    os.mkdir(f\"../data/{data}\")\n",
    "    \n",
    "data_dict_pickled = pickle.dumps(data_dict)\n",
    "pickle_compressed = blosc.compress(data_dict_pickled)\n",
    "\n",
    "with open(f\"../data/{data}/data_groups_orig.dat\", \"wb\") as f:\n",
    "    f.write(pickle_compressed)"
   ]
  },
  {
   "cell_type": "markdown",
   "id": "18dca977-6211-4d67-a13a-b2015fc3d57b",
   "metadata": {
    "jp-MarkdownHeadingCollapsed": true,
    "tags": [],
    "user_expressions": []
   },
   "source": [
    "# Concrete"
   ]
  },
  {
   "cell_type": "code",
   "execution_count": null,
   "id": "efb9a6a2-382c-43cf-85c5-7e9c63a1f857",
   "metadata": {
    "tags": []
   },
   "outputs": [],
   "source": [
    "data = \"data_concrete\"\n",
    "\n",
    "# fetch dataset \n",
    "concrete_compressive_strength = fetch_ucirepo(id=165) \n",
    "  \n",
    "# data (as pandas dataframes) \n",
    "X_orig = concrete_compressive_strength.data.features \n",
    "y = concrete_compressive_strength.data.targets[\"Concrete compressive strength\"].to_numpy()\n",
    "\n",
    "# save categorical and numerical features\n",
    "cat_feat_concrete = []\n",
    "num_feat_concrete = X_orig.drop(columns = cat_feat_concrete).columns.to_numpy()\n",
    "\n",
    "X, y, subgroups = process_data(X_orig, y, cat_feat_concrete, num_feat_concrete)\n",
    "bin_df = subgroups[\"binned_df\"]\n",
    "\n",
    "data_dict = {}\n",
    "\n",
    "for i in range(5):\n",
    "    np.random.seed(777+i)\n",
    "    x_train_val, x_test, x_bin_train_val, x_bin_test, y_train_val, y_test = train_test_split(X, bin_df, y, test_size=0.2)\n",
    "    x_train, x_val, x_bin_train, x_bin_val, y_train, y_val = train_test_split(x_train_val, x_bin_train_val, y_train_val, test_size=0.25)\n",
    "    \n",
    "    split_dict = {\"x_train\": x_train.to_numpy(), \"y_train\": y_train,\n",
    "                  \"x_val\": x_val.to_numpy(), \"y_val\": y_val,\n",
    "                  \"x_test\": x_test.to_numpy(), \"y_test\": y_test,\n",
    "                  \"x_bin_train\": x_bin_train.reset_index(drop=True),\n",
    "                  \"x_bin_val\": x_bin_val.reset_index(drop=True),\n",
    "                  \"x_bin_test\": x_bin_test.reset_index(drop=True)}\n",
    "    \n",
    "    data_dict[str(i)] = {\"orig\": split_dict}\n",
    "\n",
    "data_dict[\"subgroup_info\"] = subgroups\n",
    "data_dict[\"X\"] = X\n",
    "data_dict[\"y\"] = y\n",
    "\n",
    "if not os.path.exists(f\"../data/{data}\"):\n",
    "    os.mkdir(f\"../data/{data}\")\n",
    "    \n",
    "data_dict_pickled = pickle.dumps(data_dict)\n",
    "pickle_compressed = blosc.compress(data_dict_pickled)\n",
    "\n",
    "with open(f\"../data/{data}/data_groups_orig.dat\", \"wb\") as f:\n",
    "    f.write(pickle_compressed)"
   ]
  },
  {
   "cell_type": "markdown",
   "id": "3d52eb22-2114-42c3-858f-8bc7d9cfefbc",
   "metadata": {
    "jp-MarkdownHeadingCollapsed": true,
    "tags": [],
    "user_expressions": []
   },
   "source": [
    "# Powerplant"
   ]
  },
  {
   "cell_type": "code",
   "execution_count": null,
   "id": "a375f465-3bf1-4dbe-aaca-4b645194a0fe",
   "metadata": {
    "tags": []
   },
   "outputs": [],
   "source": [
    "data = \"data_powerplant\"\n",
    "\n",
    "# fetch dataset \n",
    "combined_cycle_power_plant = fetch_ucirepo(id=294) \n",
    "  \n",
    "# data (as pandas dataframes) \n",
    "X_orig = combined_cycle_power_plant.data.features \n",
    "y = combined_cycle_power_plant.data.targets.PE.to_numpy()\n",
    "\n",
    "# save categorical and numerical features\n",
    "cat_feat_powerplant = []\n",
    "num_feat_powerplant = X_orig.drop(columns = cat_feat_powerplant).columns.to_numpy()\n",
    "\n",
    "X, y, subgroups = process_data(X_orig, y, cat_feat_powerplant, num_feat_powerplant)\n",
    "bin_df = subgroups[\"binned_df\"]\n",
    "\n",
    "data_dict = {}\n",
    "\n",
    "for i in range(5):\n",
    "    np.random.seed(777+i)\n",
    "    x_train_val, x_test, x_bin_train_val, x_bin_test, y_train_val, y_test = train_test_split(X, bin_df, y, test_size=0.2)\n",
    "    x_train, x_val, x_bin_train, x_bin_val, y_train, y_val = train_test_split(x_train_val, x_bin_train_val, y_train_val, test_size=0.25)\n",
    "    \n",
    "    split_dict = {\"x_train\": x_train.to_numpy(), \"y_train\": y_train,\n",
    "                  \"x_val\": x_val.to_numpy(), \"y_val\": y_val,\n",
    "                  \"x_test\": x_test.to_numpy(), \"y_test\": y_test,\n",
    "                  \"x_bin_train\": x_bin_train.reset_index(drop=True),\n",
    "                  \"x_bin_val\": x_bin_val.reset_index(drop=True),\n",
    "                  \"x_bin_test\": x_bin_test.reset_index(drop=True)}\n",
    "    \n",
    "    data_dict[str(i)] = {\"orig\": split_dict}\n",
    "\n",
    "data_dict[\"subgroup_info\"] = subgroups\n",
    "data_dict[\"X\"] = X\n",
    "data_dict[\"y\"] = y\n",
    "\n",
    "if not os.path.exists(f\"../data/{data}\"):\n",
    "    os.mkdir(f\"../data/{data}\")\n",
    "    \n",
    "data_dict_pickled = pickle.dumps(data_dict)\n",
    "pickle_compressed = blosc.compress(data_dict_pickled)\n",
    "\n",
    "with open(f\"../data/{data}/data_groups_orig.dat\", \"wb\") as f:\n",
    "    f.write(pickle_compressed)"
   ]
  },
  {
   "cell_type": "markdown",
   "id": "a6423b3f-7917-49d7-b5b5-e9b6ff6af32e",
   "metadata": {
    "jp-MarkdownHeadingCollapsed": true,
    "tags": [],
    "user_expressions": []
   },
   "source": [
    "# Miami Housing"
   ]
  },
  {
   "cell_type": "code",
   "execution_count": 50,
   "id": "a6feee0f-a7cc-4cb5-bcb6-2d5e064060a2",
   "metadata": {
    "tags": []
   },
   "outputs": [],
   "source": [
    "# fetch dataset\n",
    "miami_housing = openml.datasets.get_dataset(43093)\n",
    "\n",
    "# data\n",
    "X_orig, y, cat_ind, col_names = miami_housing.get_data(target=miami_housing.default_target_attribute, dataset_format=\"dataframe\")"
   ]
  },
  {
   "cell_type": "code",
   "execution_count": 54,
   "id": "bfdaf229-be69-4087-b74e-244eb3e1e76f",
   "metadata": {
    "tags": []
   },
   "outputs": [
    {
     "data": {
      "text/plain": [
       "0.6469997128911857"
      ]
     },
     "execution_count": 54,
     "metadata": {},
     "output_type": "execute_result"
    }
   ],
   "source": [
    "np.mean(X_orig[\"WATER_DIST\"]<12700)"
   ]
  },
  {
   "cell_type": "code",
   "execution_count": null,
   "id": "229fef8c-b7f4-418e-a52c-e16bd8f8e102",
   "metadata": {
    "tags": []
   },
   "outputs": [],
   "source": [
    "plt.hist(X_orig[\"OCEAN_DIST\"], bins=50)"
   ]
  },
  {
   "cell_type": "code",
   "execution_count": null,
   "id": "2358bc51-32e2-4d85-a9a0-6e206e5ae82f",
   "metadata": {
    "tags": []
   },
   "outputs": [],
   "source": [
    "plt.hist(X_orig[\"WATER_DIST\"], bins=100)\n",
    "plt.axvline(12700, color=\"red\")"
   ]
  },
  {
   "cell_type": "code",
   "execution_count": 22,
   "id": "aed8fba3-5dbf-4238-aed8-1a9d242cb3cc",
   "metadata": {
    "tags": []
   },
   "outputs": [
    {
     "data": {
      "text/plain": [
       "Text(0.5, 0, 'Distance to Water')"
      ]
     },
     "execution_count": 22,
     "metadata": {},
     "output_type": "execute_result"
    },
    {
     "data": {
      "image/png": "[encoded data removed]",
      "text/plain": [
       "<Figure size 640x480 with 1 Axes>"
      ]
     },
     "metadata": {},
     "output_type": "display_data"
    }
   ],
   "source": [
    "sns.set_context(\"talk\", font_scale=1.5)\n",
    "plt.hist(X_orig.WATER_DIST, bins=50, color=\"grey\")\n",
    "plt.axvline(12700, color=\"black\", linestyle=\"dashed\")\n",
    "plt.xlabel(\"Distance to Water\")"
   ]
  },
  {
   "cell_type": "code",
   "execution_count": null,
   "id": "a3387fcd-9d85-40a8-8ceb-eaf69e3e328a",
   "metadata": {
    "tags": []
   },
   "outputs": [],
   "source": [
    "data = \"data_miami_housing\"\n",
    "\n",
    "# fetch dataset\n",
    "miami_housing = openml.datasets.get_dataset(43093)\n",
    "\n",
    "# data\n",
    "X_orig, y, cat_ind, col_names = miami_housing.get_data(target=miami_housing.default_target_attribute, dataset_format=\"dataframe\")\n",
    "X_orig, y = resample(X_orig, y, replace=False, n_samples=5000, random_state=777)\n",
    "X_orig = X_orig.drop(columns=\"PARCELNO\").reset_index(drop=True)\n",
    "y = y.to_numpy()\n",
    "\n",
    "# save categorical and numerical features\n",
    "cat_feat_miami_housing = [\"avno60plus\", \"month_sold\", \"structure_quality\"]\n",
    "num_feat_miami_housing = X_orig.drop(columns = cat_feat_miami_housing).columns.to_numpy()\n",
    "\n",
    "X, y, subgroups = process_data(X_orig, y, cat_feat_miami_housing, num_feat_miami_housing)\n",
    "bin_df = subgroups[\"binned_df\"]\n",
    "\n",
    "new_bin_df = bin_df.copy(deep=True)\n",
    "new_bin_df[\"WATER_DIST\"] = (X.WATER_DIST <= 12700).astype(int)\n",
    "subgroups[\"new_binned_df\"] = new_bin_df\n",
    "\n",
    "\n",
    "data_dict = {}\n",
    "\n",
    "for i in range(5):\n",
    "    np.random.seed(777+i)\n",
    "    x_train_val, x_test, x_bin_train_val, x_bin_test, x_new_bin_train_val, x_new_bin_test, y_train_val, y_test = train_test_split(X, bin_df, new_bin_df, y, test_size=0.2)\n",
    "    x_train, x_val, x_bin_train, x_bin_val, x_new_bin_train, x_new_bin_val, y_train, y_val = train_test_split(x_train_val, x_bin_train_val, x_new_bin_train_val, y_train_val, test_size=0.25)\n",
    "    \n",
    "    split_dict = {\"x_train\": x_train.to_numpy(), \"y_train\": y_train,\n",
    "                  \"x_val\": x_val.to_numpy(), \"y_val\": y_val,\n",
    "                  \"x_test\": x_test.to_numpy(), \"y_test\": y_test,\n",
    "                  \"x_bin_train\": x_bin_train.reset_index(drop=True),\n",
    "                  \"x_bin_val\": x_bin_val.reset_index(drop=True),\n",
    "                  \"x_bin_test\": x_bin_test.reset_index(drop=True),\n",
    "                  \"x_new_bin_train\": x_new_bin_train.reset_index(drop=True),\n",
    "                  \"x_new_bin_val\": x_new_bin_val.reset_index(drop=True),\n",
    "                  \"x_new_bin_test\": x_new_bin_test.reset_index(drop=True)}\n",
    "    \n",
    "    data_dict[str(i)] = {\"orig\": split_dict}\n",
    "\n",
    "data_dict[\"subgroup_info\"] = subgroups\n",
    "data_dict[\"X\"] = X\n",
    "data_dict[\"y\"] = y\n",
    "\n",
    "if not os.path.exists(f\"../data/{data}\"):\n",
    "    os.mkdir(f\"../data/{data}\")\n",
    "    \n",
    "data_dict_pickled = pickle.dumps(data_dict)\n",
    "pickle_compressed = blosc.compress(data_dict_pickled)\n",
    "\n",
    "with open(f\"../data/{data}/data_groups_orig_new.dat\", \"wb\") as f:\n",
    "    f.write(pickle_compressed)"
   ]
  },
  {
   "cell_type": "markdown",
   "id": "b138aad6-0a47-4fe4-9be3-d40a7c2082cc",
   "metadata": {
    "jp-MarkdownHeadingCollapsed": true,
    "tags": [],
    "user_expressions": []
   },
   "source": [
    "# Traffic"
   ]
  },
  {
   "cell_type": "code",
   "execution_count": null,
   "id": "1aa43e50-d4f6-4c33-a9cd-05ca13232aca",
   "metadata": {
    "tags": []
   },
   "outputs": [],
   "source": [
    "data = \"data_traffic\"\n",
    "\n",
    "# fetch dataset \n",
    "metro_interstate_traffic_volume = fetch_ucirepo(id=492) \n",
    "  \n",
    "# data (as pandas dataframes) \n",
    "X_orig = metro_interstate_traffic_volume.data.features \n",
    "y = metro_interstate_traffic_volume.data.targets.traffic_volume.to_numpy() \n",
    "\n",
    "# subset data\n",
    "X_orig[\"timestamp\"] = pd.to_datetime(X_orig.date_time)\n",
    "\n",
    "# select only 2014 data\n",
    "year_selector = (X_orig.timestamp.dt.year >= 2013) & (X_orig.timestamp.dt.year <= 2017) \n",
    "X_orig = X_orig[year_selector]\n",
    "y = y[year_selector]\n",
    "\n",
    "# selec only 8 am data\n",
    "hour_selector = (X_orig.timestamp.dt.hour >= 7) & (X_orig.timestamp.dt.hour <= 9)\n",
    "X_orig = X_orig[hour_selector].reset_index(drop=True)\n",
    "y = y[hour_selector]\n",
    "\n",
    "# clean data\n",
    "X_orig = X_orig.drop(columns = [\"weather_description\", \"date_time\", \"holiday\"])\n",
    "X_orig[\"year\"] = X_orig.timestamp.dt.year\n",
    "X_orig[\"month\"] = X_orig.timestamp.dt.month\n",
    "X_orig[\"hour\"] = X_orig.timestamp.dt.hour\n",
    "X_orig = X_orig.drop(columns = [\"timestamp\"])\n",
    "\n",
    "# save categorical and numerical features\n",
    "cat_feat_traffic = [\"weather_main\", \"year\", \"month\", \"hour\"]\n",
    "num_feat_traffic = X_orig.drop(columns = cat_feat_traffic).columns.to_numpy()\n",
    "\n",
    "X, y, subgroups = process_data(X_orig, y, cat_feat_traffic, num_feat_traffic)\n",
    "bin_df = subgroups[\"binned_df\"]\n",
    "\n",
    "data_dict = {}\n",
    "\n",
    "for i in range(5):\n",
    "    np.random.seed(777+i)\n",
    "    x_train_val, x_test, x_bin_train_val, x_bin_test, y_train_val, y_test = train_test_split(X, bin_df, y, test_size=0.2)\n",
    "    x_train, x_val, x_bin_train, x_bin_val, y_train, y_val = train_test_split(x_train_val, x_bin_train_val, y_train_val, test_size=0.25)\n",
    "    \n",
    "    split_dict = {\"x_train\": x_train.to_numpy(), \"y_train\": y_train,\n",
    "                  \"x_val\": x_val.to_numpy(), \"y_val\": y_val,\n",
    "                  \"x_test\": x_test.to_numpy(), \"y_test\": y_test,\n",
    "                  \"x_bin_train\": x_bin_train.reset_index(drop=True),\n",
    "                  \"x_bin_val\": x_bin_val.reset_index(drop=True),\n",
    "                  \"x_bin_test\": x_bin_test.reset_index(drop=True)}\n",
    "    \n",
    "    data_dict[str(i)] = {\"orig\": split_dict}\n",
    "\n",
    "data_dict[\"subgroup_info\"] = subgroups\n",
    "data_dict[\"X\"] = X\n",
    "data_dict[\"y\"] = y\n",
    "\n",
    "if not os.path.exists(f\"../data/{data}\"):\n",
    "    os.mkdir(f\"../data/{data}\")\n",
    "    \n",
    "data_dict_pickled = pickle.dumps(data_dict)\n",
    "pickle_compressed = blosc.compress(data_dict_pickled)\n",
    "\n",
    "with open(f\"../data/{data}/data_groups_orig.dat\", \"wb\") as f:\n",
    "    f.write(pickle_compressed)"
   ]
  },
  {
   "cell_type": "markdown",
   "id": "255db2f6-4d60-45a3-9811-363de506e4d4",
   "metadata": {
    "jp-MarkdownHeadingCollapsed": true,
    "tags": [],
    "user_expressions": []
   },
   "source": [
    "# Insurance"
   ]
  },
  {
   "cell_type": "code",
   "execution_count": null,
   "id": "e40c2b68-2f78-4405-9d09-2e31e18068db",
   "metadata": {
    "tags": []
   },
   "outputs": [],
   "source": [
    "data = \"data_insurance\"\n",
    "\n",
    "# fetch data\n",
    "insurance = pd.read_csv(\"https://raw.githubusercontent.com/pycaret/datasets/main/data/common/insurance.csv\")\n",
    "\n",
    "# data\n",
    "X_orig = insurance.drop(columns=\"charges\")\n",
    "y = insurance.charges.to_numpy()\n",
    "\n",
    "# save categorical and numerical features\n",
    "cat_feat_insurance = [\"sex\", \"smoker\", \"region\"]\n",
    "num_feat_insurance = X_orig.drop(columns = cat_feat_insurance).columns.to_numpy()\n",
    "\n",
    "X, y, subgroups = process_data(X_orig, y, cat_feat_insurance, num_feat_insurance)\n",
    "bin_df = subgroups[\"binned_df\"]\n",
    "\n",
    "data_dict = {}\n",
    "\n",
    "for i in range(5):\n",
    "    np.random.seed(777+i)\n",
    "    x_train_val, x_test, x_bin_train_val, x_bin_test, y_train_val, y_test = train_test_split(X, bin_df, y, test_size=0.2)\n",
    "    x_train, x_val, x_bin_train, x_bin_val, y_train, y_val = train_test_split(x_train_val, x_bin_train_val, y_train_val, test_size=0.25)\n",
    "    \n",
    "    split_dict = {\"x_train\": x_train.to_numpy(), \"y_train\": y_train,\n",
    "                  \"x_val\": x_val.to_numpy(), \"y_val\": y_val,\n",
    "                  \"x_test\": x_test.to_numpy(), \"y_test\": y_test,\n",
    "                  \"x_bin_train\": x_bin_train.reset_index(drop=True),\n",
    "                  \"x_bin_val\": x_bin_val.reset_index(drop=True),\n",
    "                  \"x_bin_test\": x_bin_test.reset_index(drop=True)}\n",
    "    \n",
    "    data_dict[str(i)] = {\"orig\": split_dict}\n",
    "\n",
    "data_dict[\"subgroup_info\"] = subgroups\n",
    "data_dict[\"X\"] = X\n",
    "data_dict[\"y\"] = y\n",
    "\n",
    "if not os.path.exists(f\"../data/{data}\"):\n",
    "    os.mkdir(f\"../data/{data}\")\n",
    "    \n",
    "data_dict_pickled = pickle.dumps(data_dict)\n",
    "pickle_compressed = blosc.compress(data_dict_pickled)\n",
    "\n",
    "with open(f\"../data/{data}/data_groups_orig.dat\", \"wb\") as f:\n",
    "    f.write(pickle_compressed)"
   ]
  },
  {
   "cell_type": "markdown",
   "id": "2265b352-5f91-47f9-a98e-440e01a4f04e",
   "metadata": {
    "jp-MarkdownHeadingCollapsed": true,
    "tags": [],
    "user_expressions": []
   },
   "source": [
    "# CA Housing"
   ]
  },
  {
   "cell_type": "code",
   "execution_count": null,
   "id": "1b763452-a30f-4faa-b3f9-48e577643518",
   "metadata": {
    "tags": []
   },
   "outputs": [],
   "source": [
    "data = \"data_ca_housing\"\n",
    "\n",
    "# fetch data\n",
    "housing = pd.read_csv(\"../../data/\" + \"cal_housing.data\", delimiter=\",\", names = [\"lon\", \"lat\", \"med_age\", \"total_rooms\", \"total_beds\", \"population\", \"households\", \"med_income\", \"med_price\"])\n",
    "\n",
    "# data\n",
    "X_orig = housing.drop(columns=\"med_price\")\n",
    "y = housing.med_price.to_numpy()\n",
    "\n",
    "X_orig, y = resample(X_orig, y, replace=False, n_samples=5000, random_state=777)\n",
    "X_orig = X_orig.reset_index(drop=True)\n",
    "\n",
    "# save categorical and numerical features\n",
    "cat_feat_ca_housing = []\n",
    "num_feat_ca_housing = X_orig.drop(columns = cat_feat_ca_housing).columns.to_numpy()\n",
    "\n",
    "X, y, subgroups = process_data(X_orig, y, cat_feat_ca_housing, num_feat_ca_housing)\n",
    "bin_df = subgroups[\"binned_df\"]\n",
    "\n",
    "data_dict = {}\n",
    "\n",
    "for i in range(5):\n",
    "    np.random.seed(777+i)\n",
    "    x_train_val, x_test, x_bin_train_val, x_bin_test, y_train_val, y_test = train_test_split(X, bin_df, y, test_size=0.2)\n",
    "    x_train, x_val, x_bin_train, x_bin_val, y_train, y_val = train_test_split(x_train_val, x_bin_train_val, y_train_val, test_size=0.25)\n",
    "    \n",
    "    split_dict = {\"x_train\": x_train.to_numpy(), \"y_train\": y_train,\n",
    "                  \"x_val\": x_val.to_numpy(), \"y_val\": y_val,\n",
    "                  \"x_test\": x_test.to_numpy(), \"y_test\": y_test,\n",
    "                  \"x_bin_train\": x_bin_train.reset_index(drop=True),\n",
    "                  \"x_bin_val\": x_bin_val.reset_index(drop=True),\n",
    "                  \"x_bin_test\": x_bin_test.reset_index(drop=True)}\n",
    "    \n",
    "    data_dict[str(i)] = {\"orig\": split_dict}\n",
    "\n",
    "data_dict[\"subgroup_info\"] = subgroups\n",
    "data_dict[\"X\"] = X\n",
    "data_dict[\"y\"] = y\n",
    "\n",
    "if not os.path.exists(f\"../data/{data}\"):\n",
    "    os.mkdir(f\"../data/{data}\")\n",
    "    \n",
    "data_dict_pickled = pickle.dumps(data_dict)\n",
    "pickle_compressed = blosc.compress(data_dict_pickled)\n",
    "\n",
    "with open(f\"../data/{data}/data_groups_orig.dat\", \"wb\") as f:\n",
    "    f.write(pickle_compressed)"
   ]
  },
  {
   "cell_type": "markdown",
   "id": "ee50ecc3-c7dc-4a22-a6df-a18305854911",
   "metadata": {
    "jp-MarkdownHeadingCollapsed": true,
    "tags": [],
    "user_expressions": []
   },
   "source": [
    "# QSAR"
   ]
  },
  {
   "cell_type": "code",
   "execution_count": 75,
   "id": "30f664cc-ec00-4d2a-ac3f-f1b211fd96c4",
   "metadata": {
    "tags": []
   },
   "outputs": [],
   "source": [
    "# fetch dataset\n",
    "qsar = openml.datasets.get_dataset(4048)\n",
    "\n",
    "# data\n",
    "X_orig, y, cat_ind, col_names = qsar.get_data(target=qsar.default_target_attribute, dataset_format=\"dataframe\")\n",
    "y = y.to_numpy()"
   ]
  },
  {
   "cell_type": "code",
   "execution_count": 76,
   "id": "63c114ad-fa39-4a56-b117-3f644013df48",
   "metadata": {
    "tags": []
   },
   "outputs": [
    {
     "data": {
      "text/plain": [
       "(array([  3.,   3.,   2.,   0.,  45.,  78., 176., 284., 351., 232.]),\n",
       " array([-0.58999997,  0.4088    ,  1.40759997,  2.40639995,  3.40519992,\n",
       "         4.40399989,  5.40279987,  6.40159984,  7.40039982,  8.39919979,\n",
       "         9.39799976]),\n",
       " <BarContainer object of 10 artists>)"
      ]
     },
     "execution_count": 76,
     "metadata": {},
     "output_type": "execute_result"
    },
    {
     "data": {
      "image/png": "[encoded data removed]",
      "text/plain": [
       "<Figure size 640x480 with 1 Axes>"
      ]
     },
     "metadata": {},
     "output_type": "display_data"
    }
   ],
   "source": [
    "plt.hist(y)"
   ]
  },
  {
   "cell_type": "code",
   "execution_count": null,
   "id": "3cd0678d-a73f-47c2-a7b9-cedc44c38bba",
   "metadata": {
    "tags": []
   },
   "outputs": [],
   "source": [
    "data = \"data_qsar\"\n",
    "\n",
    "# fetch data\n",
    "qsar = openml.tasks.get_task(360932)\n",
    "\n",
    "# data\n",
    "X_orig, y = qsar.get_X_and_y(dataset_format=\"dataframe\")\n",
    "y = y.to_numpy()\n",
    "\n",
    "# select features with variance\n",
    "k = 500\n",
    "X_array = X_orig.to_numpy()\n",
    "top_k_columns = X_orig.columns[np.argsort(np.var(X_array, axis=0))[-k:]]\n",
    "X_orig = X_orig[top_k_columns]\n",
    "\n",
    "X_orig, y= resample(X_orig, y, replace=False, n_samples=5000, random_state=777)\n",
    "\n",
    "# save categorical and numerical features\n",
    "cat_feat_qsar = X_orig.columns.tolist()\n",
    "num_feat_qsar = X_orig.drop(columns = cat_feat_qsar).columns.to_numpy()\n",
    "\n",
    "X, y, subgroups = process_data(X_orig, y, cat_feat_qsar, num_feat_qsar)\n",
    "bin_df = subgroups[\"binned_df\"]\n",
    "\n",
    "data_dict = {}\n",
    "\n",
    "for i in range(5):\n",
    "    np.random.seed(777+i)\n",
    "    x_train_val, x_test, x_bin_train_val, x_bin_test, y_train_val, y_test = train_test_split(X, bin_df, y, test_size=0.2)\n",
    "    x_train, x_val, x_bin_train, x_bin_val, y_train, y_val = train_test_split(x_train_val, x_bin_train_val, y_train_val, test_size=0.25)\n",
    "    \n",
    "    split_dict = {\"x_train\": x_train.to_numpy(), \"y_train\": y_train,\n",
    "                  \"x_val\": x_val.to_numpy(), \"y_val\": y_val,\n",
    "                  \"x_test\": x_test.to_numpy(), \"y_test\": y_test,\n",
    "                  \"x_bin_train\": x_bin_train.reset_index(drop=True),\n",
    "                  \"x_bin_val\": x_bin_val.reset_index(drop=True),\n",
    "                  \"x_bin_test\": x_bin_test.reset_index(drop=True)}\n",
    "    \n",
    "    data_dict[str(i)] = {\"orig\": split_dict}\n",
    "\n",
    "data_dict[\"subgroup_info\"] = subgroups\n",
    "data_dict[\"X\"] = X\n",
    "data_dict[\"y\"] = y\n",
    "\n",
    "if not os.path.exists(f\"../data/{data}\"):\n",
    "    os.mkdir(f\"../data/{data}\")\n",
    "    \n",
    "data_dict_pickled = pickle.dumps(data_dict)\n",
    "pickle_compressed = blosc.compress(data_dict_pickled)\n",
    "\n",
    "with open(f\"../data/{data}/data_groups_orig.dat\", \"wb\") as f:\n",
    "    f.write(pickle_compressed)"
   ]
  },
  {
   "cell_type": "markdown",
   "id": "d04d923f-1c8a-4911-8a21-529f61fc1ea0",
   "metadata": {
    "jp-MarkdownHeadingCollapsed": true,
    "tags": [],
    "user_expressions": []
   },
   "source": [
    "# Allstate"
   ]
  },
  {
   "cell_type": "code",
   "execution_count": null,
   "id": "866c0362-8339-4471-a36d-f7c9d96664ff",
   "metadata": {
    "tags": []
   },
   "outputs": [],
   "source": [
    "data = \"data_allstate\"\n",
    "\n",
    "# fetch dataset\n",
    "allstate = openml.datasets.get_dataset(42571)\n",
    "\n",
    "# data\n",
    "X_orig, y, cat_ind, col_names = allstate.get_data(target=allstate.default_target_attribute, dataset_format=\"dataframe\")\n",
    "y = y.to_numpy()\n",
    "\n",
    "X_orig, y = resample(X_orig, y, replace=False, n_samples=5000, random_state=777)\n",
    "\n",
    "# save categorical and numerical features\n",
    "cat_feat_allstate = np.array(col_names)[cat_ind].tolist()\n",
    "num_feat_allstate = X_orig.drop(columns = cat_feat_allstate).columns.to_numpy()\n",
    "\n",
    "X, y, subgroups = process_data(X_orig, y, cat_feat_allstate, num_feat_allstate)\n",
    "bin_df = subgroups[\"binned_df\"]\n",
    "\n",
    "data_dict = {}\n",
    "\n",
    "for i in range(5):\n",
    "    np.random.seed(777+i)\n",
    "    x_train_val, x_test, x_bin_train_val, x_bin_test, y_train_val, y_test = train_test_split(X, bin_df, y, test_size=0.2)\n",
    "    x_train, x_val, x_bin_train, x_bin_val, y_train, y_val = train_test_split(x_train_val, x_bin_train_val, y_train_val, test_size=0.25)\n",
    "    \n",
    "    split_dict = {\"x_train\": x_train.to_numpy(), \"y_train\": y_train,\n",
    "                  \"x_val\": x_val.to_numpy(), \"y_val\": y_val,\n",
    "                  \"x_test\": x_test.to_numpy(), \"y_test\": y_test,\n",
    "                  \"x_bin_train\": x_bin_train.reset_index(drop=True),\n",
    "                  \"x_bin_val\": x_bin_val.reset_index(drop=True),\n",
    "                  \"x_bin_test\": x_bin_test.reset_index(drop=True)}\n",
    "    \n",
    "    data_dict[str(i)] = {\"orig\": split_dict}\n",
    "\n",
    "data_dict[\"subgroup_info\"] = subgroups\n",
    "data_dict[\"X\"] = X\n",
    "data_dict[\"y\"] = y\n",
    "\n",
    "if not os.path.exists(f\"../data/{data}\"):\n",
    "    os.mkdir(f\"../data/{data}\")\n",
    "    \n",
    "data_dict_pickled = pickle.dumps(data_dict)\n",
    "pickle_compressed = blosc.compress(data_dict_pickled)\n",
    "\n",
    "with open(f\"../data/{data}/data_groups_orig.dat\", \"wb\") as f:\n",
    "    f.write(pickle_compressed)"
   ]
  },
  {
   "cell_type": "markdown",
   "id": "fe708459-9f0c-4bbc-8456-c627f85abd80",
   "metadata": {
    "jp-MarkdownHeadingCollapsed": true,
    "tags": [],
    "user_expressions": []
   },
   "source": [
    "# Mercedes"
   ]
  },
  {
   "cell_type": "code",
   "execution_count": null,
   "id": "7f38b61e-17ce-492b-9e1a-b77372051d82",
   "metadata": {
    "tags": []
   },
   "outputs": [],
   "source": [
    "data = \"data_mercedes\"\n",
    "\n",
    "# fetch dataset\n",
    "mercedes = openml.datasets.get_dataset(42570)\n",
    "\n",
    "# data\n",
    "X_orig, y, cat_ind, col_names = mercedes.get_data(target=mercedes.default_target_attribute, dataset_format=\"dataframe\")\n",
    "y = y.to_numpy()\n",
    "\n",
    "# save categorical and numerical features\n",
    "cat_feat_mercedes = X_orig.columns.tolist()\n",
    "num_feat_mercedes = X_orig.drop(columns = cat_feat_mercedes).columns.to_numpy()\n",
    "\n",
    "X, y, subgroups = process_data(X_orig, y, cat_feat_mercedes, num_feat_mercedes)\n",
    "bin_df = subgroups[\"binned_df\"]\n",
    "\n",
    "data_dict = {}\n",
    "\n",
    "for i in range(5):\n",
    "    np.random.seed(777+i)\n",
    "    x_train_val, x_test, x_bin_train_val, x_bin_test, y_train_val, y_test = train_test_split(X, bin_df, y, test_size=0.2)\n",
    "    x_train, x_val, x_bin_train, x_bin_val, y_train, y_val = train_test_split(x_train_val, x_bin_train_val, y_train_val, test_size=0.25)\n",
    "    \n",
    "    split_dict = {\"x_train\": x_train.to_numpy(), \"y_train\": y_train,\n",
    "                  \"x_val\": x_val.to_numpy(), \"y_val\": y_val,\n",
    "                  \"x_test\": x_test.to_numpy(), \"y_test\": y_test,\n",
    "                  \"x_bin_train\": x_bin_train.reset_index(drop=True),\n",
    "                  \"x_bin_val\": x_bin_val.reset_index(drop=True),\n",
    "                  \"x_bin_test\": x_bin_test.reset_index(drop=True)}\n",
    "    \n",
    "    data_dict[str(i)] = {\"orig\": split_dict}\n",
    "\n",
    "data_dict[\"subgroup_info\"] = subgroups\n",
    "data_dict[\"X\"] = X\n",
    "data_dict[\"y\"] = y\n",
    "\n",
    "if not os.path.exists(f\"../data/{data}\"):\n",
    "    os.mkdir(f\"../data/{data}\")\n",
    "    \n",
    "data_dict_pickled = pickle.dumps(data_dict)\n",
    "pickle_compressed = blosc.compress(data_dict_pickled)\n",
    "\n",
    "with open(f\"../data/{data}/data_groups_orig.dat\", \"wb\") as f:\n",
    "    f.write(pickle_compressed)"
   ]
  },
  {
   "cell_type": "markdown",
   "id": "922d6a06-e922-4d94-a429-746b05603361",
   "metadata": {
    "jp-MarkdownHeadingCollapsed": true,
    "tags": [],
    "user_expressions": []
   },
   "source": [
    "# Transaction"
   ]
  },
  {
   "cell_type": "code",
   "execution_count": null,
   "id": "d377a9a2-d744-4de7-8468-1c8a25187a4d",
   "metadata": {
    "tags": []
   },
   "outputs": [],
   "source": [
    "data = \"data_transaction\"\n",
    "\n",
    "# fetch dataset\n",
    "transaction = openml.datasets.get_dataset(42572)\n",
    "\n",
    "# data\n",
    "X_orig, y, cat_ind, col_names = transaction.get_data(target=transaction.default_target_attribute, dataset_format=\"dataframe\")\n",
    "\n",
    "# select features with variance\n",
    "k=500\n",
    "X_variance = X_orig.var()\n",
    "top_k_columns = X_variance.sort_values(ascending=False).head(k).index\n",
    "X_orig = X_orig[top_k_columns]\n",
    "\n",
    "y = y.to_numpy()\n",
    "\n",
    "# save categorical and numerical features\n",
    "cat_feat_transaction = []\n",
    "num_feat_transaction = X_orig.drop(columns = cat_feat_transaction).columns.to_numpy()\n",
    "\n",
    "X, y, subgroups = process_data(X_orig, y, cat_feat_transaction, num_feat_transaction)\n",
    "bin_df = subgroups[\"binned_df\"]"
   ]
  },
  {
   "cell_type": "code",
   "execution_count": null,
   "id": "baa3dd3c-de63-44e4-8ef0-2542646805b8",
   "metadata": {
    "tags": []
   },
   "outputs": [],
   "source": [
    "data = \"data_transaction\"\n",
    "\n",
    "# fetch dataset\n",
    "transaction = openml.datasets.get_dataset(42572)\n",
    "\n",
    "# data\n",
    "X_orig, y, cat_ind, col_names = transaction.get_data(target=transaction.default_target_attribute, dataset_format=\"dataframe\")\n",
    "\n",
    "# select features with variance\n",
    "k=500\n",
    "X_variance = X_orig.var()\n",
    "top_k_columns = X_variance.sort_values(ascending=False).head(k).index\n",
    "X_orig = X_orig[top_k_columns]\n",
    "\n",
    "y = y.to_numpy()\n",
    "\n",
    "# save categorical and numerical features\n",
    "cat_feat_transaction = []\n",
    "num_feat_transaction = X_orig.drop(columns = cat_feat_transaction).columns.to_numpy()\n",
    "\n",
    "X, y, subgroups = process_data(X_orig, y, cat_feat_transaction, num_feat_transaction)\n",
    "bin_df = subgroups[\"binned_df\"]\n",
    "\n",
    "data_dict = {}\n",
    "\n",
    "for i in range(5):\n",
    "    np.random.seed(777+i)\n",
    "    x_train_val, x_test, x_bin_train_val, x_bin_test, y_train_val, y_test = train_test_split(X, bin_df, y, test_size=0.2)\n",
    "    x_train, x_val, x_bin_train, x_bin_val, y_train, y_val = train_test_split(x_train_val, x_bin_train_val, y_train_val, test_size=0.25)\n",
    "    \n",
    "    split_dict = {\"x_train\": x_train.to_numpy(), \"y_train\": y_train,\n",
    "                  \"x_val\": x_val.to_numpy(), \"y_val\": y_val,\n",
    "                  \"x_test\": x_test.to_numpy(), \"y_test\": y_test,\n",
    "                  \"x_bin_train\": x_bin_train.reset_index(drop=True),\n",
    "                  \"x_bin_val\": x_bin_val.reset_index(drop=True),\n",
    "                  \"x_bin_test\": x_bin_test.reset_index(drop=True)}\n",
    "    \n",
    "    data_dict[str(i)] = {\"orig\": split_dict}\n",
    "\n",
    "data_dict[\"subgroup_info\"] = subgroups\n",
    "data_dict[\"X\"] = X\n",
    "data_dict[\"y\"] = y\n",
    "\n",
    "if not os.path.exists(f\"../data/{data}\"):\n",
    "    os.mkdir(f\"../data/{data}\")\n",
    "    \n",
    "data_dict_pickled = pickle.dumps(data_dict)\n",
    "pickle_compressed = blosc.compress(data_dict_pickled)\n",
    "\n",
    "with open(f\"../data/{data}/data_groups_orig.dat\", \"wb\") as f:\n",
    "    f.write(pickle_compressed)"
   ]
  },
  {
   "cell_type": "markdown",
   "id": "32a00ec3-6de2-483c-8645-a8840c9afd72",
   "metadata": {
    "jp-MarkdownHeadingCollapsed": true,
    "tags": [],
    "user_expressions": []
   },
   "source": [
    "# fMRI"
   ]
  },
  {
   "cell_type": "code",
   "execution_count": 29,
   "id": "ddcc3ab9-d624-4e32-a5d2-6f0ea0bf5968",
   "metadata": {
    "tags": []
   },
   "outputs": [],
   "source": [
    "data = \"data_fMRI\"\n",
    "\n",
    "# data\n",
    "X_orig = pd.read_csv(\"../../data/fmri/X.csv\")\n",
    "y = pd.read_csv(\"../../data/fmri/Y.csv\")"
   ]
  },
  {
   "cell_type": "code",
   "execution_count": 35,
   "id": "2c62b30b-5ce4-4c32-b45c-18b592c481bd",
   "metadata": {
    "tags": []
   },
   "outputs": [
    {
     "data": {
      "text/html": [
       "<div>\n",
       "<style scoped>\n",
       "    .dataframe tbody tr th:only-of-type {\n",
       "        vertical-align: middle;\n",
       "    }\n",
       "\n",
       "    .dataframe tbody tr th {\n",
       "        vertical-align: top;\n",
       "    }\n",
       "\n",
       "    .dataframe thead th {\n",
       "        text-align: right;\n",
       "    }\n",
       "</style>\n",
       "<table border=\"1\" class=\"dataframe\">\n",
       "  <thead>\n",
       "    <tr style=\"text-align: right;\">\n",
       "      <th></th>\n",
       "      <th>x</th>\n",
       "    </tr>\n",
       "  </thead>\n",
       "  <tbody>\n",
       "    <tr>\n",
       "      <th>0</th>\n",
       "      <td>-0.917150</td>\n",
       "    </tr>\n",
       "    <tr>\n",
       "      <th>1</th>\n",
       "      <td>-0.398128</td>\n",
       "    </tr>\n",
       "    <tr>\n",
       "      <th>2</th>\n",
       "      <td>0.238947</td>\n",
       "    </tr>\n",
       "    <tr>\n",
       "      <th>3</th>\n",
       "      <td>-1.932906</td>\n",
       "    </tr>\n",
       "    <tr>\n",
       "      <th>4</th>\n",
       "      <td>-1.301263</td>\n",
       "    </tr>\n",
       "    <tr>\n",
       "      <th>...</th>\n",
       "      <td>...</td>\n",
       "    </tr>\n",
       "    <tr>\n",
       "      <th>37395</th>\n",
       "      <td>0.205281</td>\n",
       "    </tr>\n",
       "    <tr>\n",
       "      <th>37396</th>\n",
       "      <td>-0.974765</td>\n",
       "    </tr>\n",
       "    <tr>\n",
       "      <th>37397</th>\n",
       "      <td>0.156575</td>\n",
       "    </tr>\n",
       "    <tr>\n",
       "      <th>37398</th>\n",
       "      <td>-0.268404</td>\n",
       "    </tr>\n",
       "    <tr>\n",
       "      <th>37399</th>\n",
       "      <td>-0.246339</td>\n",
       "    </tr>\n",
       "  </tbody>\n",
       "</table>\n",
       "<p>37400 rows × 1 columns</p>\n",
       "</div>"
      ],
      "text/plain": [
       "              x\n",
       "0     -0.917150\n",
       "1     -0.398128\n",
       "2      0.238947\n",
       "3     -1.932906\n",
       "4     -1.301263\n",
       "...         ...\n",
       "37395  0.205281\n",
       "37396 -0.974765\n",
       "37397  0.156575\n",
       "37398 -0.268404\n",
       "37399 -0.246339\n",
       "\n",
       "[37400 rows x 1 columns]"
      ]
     },
     "execution_count": 35,
     "metadata": {},
     "output_type": "execute_result"
    }
   ],
   "source": [
    "y"
   ]
  },
  {
   "cell_type": "code",
   "execution_count": 32,
   "id": "38403a96-b74b-4bcd-9b8d-ab68489aa8cc",
   "metadata": {
    "tags": []
   },
   "outputs": [
    {
     "data": {
      "text/plain": [
       "20.0"
      ]
     },
     "execution_count": 32,
     "metadata": {},
     "output_type": "execute_result"
    }
   ],
   "source": [
    "37400 / 1870"
   ]
  },
  {
   "cell_type": "code",
   "execution_count": null,
   "id": "b9858301-d714-4ec9-9aa5-acb021d11e80",
   "metadata": {
    "tags": []
   },
   "outputs": [],
   "source": [
    "k=500\n",
    "X_variance = X_orig.var()\n",
    "top_k_columns = X_variance.sort_values(ascending=False).head(k).index\n",
    "X_orig = X_orig[top_k_columns]\n",
    "X_orig"
   ]
  },
  {
   "cell_type": "code",
   "execution_count": null,
   "id": "6c984e58-2fa4-470f-83a0-8e698d7fcb0e",
   "metadata": {
    "tags": []
   },
   "outputs": [],
   "source": [
    "x_train, x_test, y_train, y_test = train_test_split(X_orig, y, test_size=0.2)"
   ]
  },
  {
   "cell_type": "code",
   "execution_count": null,
   "id": "4a0bb287-ec96-4a14-96d2-7e32cbd15788",
   "metadata": {
    "tags": []
   },
   "outputs": [],
   "source": [
    "model = LassoCV()\n",
    "model.fit(x_train, y_train)"
   ]
  },
  {
   "cell_type": "code",
   "execution_count": null,
   "id": "1ae53026-fa77-4ff3-8b10-8b46b2809a8c",
   "metadata": {
    "tags": []
   },
   "outputs": [],
   "source": [
    "y_pred = model.predict(x_test)\n",
    "r2_score(y_test, y_pred)"
   ]
  },
  {
   "cell_type": "code",
   "execution_count": null,
   "id": "86bf90cb-097e-43c8-9561-cf6223632e95",
   "metadata": {},
   "outputs": [],
   "source": [
    "data = \"data_fMRI\"\n",
    "\n",
    "# data\n",
    "X_orig = pd.read_csv(\"../../data/fmri/X.csv\")\n",
    "y = pd.read_csv(\"../../data/fmri/Y.csv\").iloc[:X_orig.shape[0], 0]\n",
    "\n",
    "# select features with variance\n",
    "k=500\n",
    "X_variance = X_orig.var()\n",
    "top_k_columns = X_variance.sort_values(ascending=False).head(k).index\n",
    "X_orig = X_orig[top_k_columns]\n",
    "\n",
    "y = y.to_numpy()\n",
    "\n",
    "# save categorical and numerical features\n",
    "cat_feat_fmri = []\n",
    "num_feat_fmri = X_orig.drop(columns = cat_feat_fmri).columns.to_numpy()\n",
    "\n",
    "X, y, subgroups = process_data(X_orig, y, cat_feat_fmri, num_feat_fmri)\n",
    "bin_df = subgroups[\"binned_df\"]\n",
    "\n",
    "data_dict = {}\n",
    "\n",
    "for i in range(5):\n",
    "    np.random.seed(777+i)\n",
    "    x_train_val, x_test, x_bin_train_val, x_bin_test, y_train_val, y_test = train_test_split(X, bin_df, y, test_size=0.2)\n",
    "    x_train, x_val, x_bin_train, x_bin_val, y_train, y_val = train_test_split(x_train_val, x_bin_train_val, y_train_val, test_size=0.25)\n",
    "    \n",
    "    split_dict = {\"x_train\": x_train.to_numpy(), \"y_train\": y_train,\n",
    "                  \"x_val\": x_val.to_numpy(), \"y_val\": y_val,\n",
    "                  \"x_test\": x_test.to_numpy(), \"y_test\": y_test,\n",
    "                  \"x_bin_train\": x_bin_train.reset_index(drop=True),\n",
    "                  \"x_bin_val\": x_bin_val.reset_index(drop=True),\n",
    "                  \"x_bin_test\": x_bin_test.reset_index(drop=True)}\n",
    "    \n",
    "    data_dict[str(i)] = {\"orig\": split_dict}\n",
    "\n",
    "data_dict[\"subgroup_info\"] = subgroups\n",
    "data_dict[\"X\"] = X\n",
    "data_dict[\"y\"] = y\n",
    "\n",
    "if not os.path.exists(f\"../data/{data}\"):\n",
    "    os.mkdir(f\"../data/{data}\")\n",
    "    \n",
    "data_dict_pickled = pickle.dumps(data_dict)\n",
    "pickle_compressed = blosc.compress(data_dict_pickled)\n",
    "\n",
    "with open(f\"../data/{data}/data_groups_orig.dat\", \"wb\") as f:\n",
    "    f.write(pickle_compressed)"
   ]
  },
  {
   "cell_type": "markdown",
   "id": "dde65a27-2144-4722-b931-9a8fab8a529c",
   "metadata": {
    "tags": [],
    "user_expressions": []
   },
   "source": [
    "# CCLE"
   ]
  },
  {
   "cell_type": "code",
   "execution_count": 36,
   "id": "4433c7c4-f09b-4f76-9887-c8a0abaf2243",
   "metadata": {
    "tags": []
   },
   "outputs": [],
   "source": [
    "X_orig = pd.read_csv(\"../../data/ccle/X.csv\")\n",
    "y = pd.read_csv(\"../../data/ccle/Y.csv\").loc[:,\"Erlotinib\"]"
   ]
  },
  {
   "cell_type": "code",
   "execution_count": 37,
   "id": "371a3b56-acd9-4868-92e0-db72fdf32dcf",
   "metadata": {
    "tags": []
   },
   "outputs": [
    {
     "data": {
      "text/plain": [
       "0      0.29190\n",
       "1      0.08293\n",
       "2      0.36970\n",
       "3      0.22410\n",
       "4      0.10290\n",
       "        ...   \n",
       "365    0.90570\n",
       "366    0.13850\n",
       "367    0.84170\n",
       "368    1.67700\n",
       "369    0.98100\n",
       "Name: Erlotinib, Length: 370, dtype: float64"
      ]
     },
     "execution_count": 37,
     "metadata": {},
     "output_type": "execute_result"
    }
   ],
   "source": [
    "y"
   ]
  },
  {
   "cell_type": "code",
   "execution_count": null,
   "id": "77e5da97-bac0-4d51-aaa7-d20140c73657",
   "metadata": {},
   "outputs": [],
   "source": [
    "X_orig = pd.read_csv(\"../../data/ccle/X.csv\")\n",
    "y = pd.read_csv(\"../../data/ccle/Y.csv\").loc[:,\"Erlotinib\"]\n",
    "\n",
    "k=500\n",
    "X_variance = X_orig.var()\n",
    "top_k_columns = X_variance.sort_values(ascending=False).head(k).index\n",
    "X_orig = X_orig[top_k_columns]\n",
    "\n",
    "model = RidgeCV(alphas=[1,10,100, 1000, 10000])\n",
    "model.fit(X_orig, y)"
   ]
  },
  {
   "cell_type": "code",
   "execution_count": null,
   "id": "7a7a0b4e-d6cd-472b-8e72-4166fc75eb49",
   "metadata": {},
   "outputs": [],
   "source": [
    "y_pred = model.predict(X_orig)\n",
    "r2_score(y, y_pred)"
   ]
  },
  {
   "cell_type": "code",
   "execution_count": null,
   "id": "1ab70170-6303-401c-8bc8-2cd9a49a1d72",
   "metadata": {},
   "outputs": [],
   "source": [
    "model.intercept_"
   ]
  },
  {
   "cell_type": "code",
   "execution_count": null,
   "id": "9410d82d-b0ce-4822-8a97-1e9b733c2926",
   "metadata": {},
   "outputs": [],
   "source": [
    "data = \"data_ccle\"\n",
    "\n",
    "# data\n",
    "X_orig = pd.read_csv(\"../../data/ccle/X.csv\")\n",
    "y = pd.read_csv(\"../../data/ccle/Y.csv\").loc[:,\"AEW541\"]\n",
    "\n",
    "# select features with variance\n",
    "k=300\n",
    "X_variance = X_orig.var()\n",
    "top_k_columns = X_variance.sort_values(ascending=False).head(k).index\n",
    "X_orig = X_orig[top_k_columns]\n",
    "\n",
    "y = y.to_numpy()\n",
    "\n",
    "# save categorical and numerical features\n",
    "cat_feat_ccle = []\n",
    "num_feat_ccle = X_orig.drop(columns = cat_feat_ccle).columns.to_numpy()\n",
    "\n",
    "X, y, subgroups = process_data(X_orig, y, cat_feat_ccle, num_feat_ccle)\n",
    "bin_df = subgroups[\"binned_df\"]\n",
    "\n",
    "data_dict = {}\n",
    "\n",
    "for i in range(5):\n",
    "    np.random.seed(777+i)\n",
    "    x_train_val, x_test, x_bin_train_val, x_bin_test, y_train_val, y_test = train_test_split(X, bin_df, y, test_size=0.2)\n",
    "    x_train, x_val, x_bin_train, x_bin_val, y_train, y_val = train_test_split(x_train_val, x_bin_train_val, y_train_val, test_size=0.25)\n",
    "    \n",
    "    split_dict = {\"x_train\": x_train.to_numpy(), \"y_train\": y_train,\n",
    "                  \"x_val\": x_val.to_numpy(), \"y_val\": y_val,\n",
    "                  \"x_test\": x_test.to_numpy(), \"y_test\": y_test,\n",
    "                  \"x_bin_train\": x_bin_train.reset_index(drop=True),\n",
    "                  \"x_bin_val\": x_bin_val.reset_index(drop=True),\n",
    "                  \"x_bin_test\": x_bin_test.reset_index(drop=True)}\n",
    "    \n",
    "    data_dict[str(i)] = {\"orig\": split_dict}\n",
    "\n",
    "data_dict[\"subgroup_info\"] = subgroups\n",
    "data_dict[\"X\"] = X\n",
    "data_dict[\"y\"] = y\n",
    "\n",
    "if not os.path.exists(f\"../data/{data}\"):\n",
    "    os.mkdir(f\"../data/{data}\")\n",
    "    \n",
    "data_dict_pickled = pickle.dumps(data_dict)\n",
    "pickle_compressed = blosc.compress(data_dict_pickled)\n",
    "\n",
    "with open(f\"../data/{data}/data_groups_orig_300.dat\", \"wb\") as f:\n",
    "    f.write(pickle_compressed)"
   ]
  },
  {
   "cell_type": "markdown",
   "id": "58016da8-34d5-471f-bb70-f78bf5113bfc",
   "metadata": {
    "tags": [],
    "user_expressions": []
   },
   "source": [
    "# Enhancer"
   ]
  },
  {
   "cell_type": "code",
   "execution_count": 67,
   "id": "0e464282-fd28-4355-8def-19df1cdc1e48",
   "metadata": {
    "tags": []
   },
   "outputs": [],
   "source": [
    "data = \"data_enhancer\"\n",
    "with open(f\"../data/{data}/data_groups_0.25.pkl\", \"rb\") as f:\n",
    "    data_dict = pickle.load(f)"
   ]
  },
  {
   "cell_type": "code",
   "execution_count": 68,
   "id": "1e5fc91b-0ed8-4a35-8262-8bed7a6c4997",
   "metadata": {
    "tags": []
   },
   "outputs": [],
   "source": [
    "data_dict_pickled = pickle.dumps(data_dict)\n",
    "pickle_compressed = blosc.compress(data_dict_pickled)\n",
    "\n",
    "with open(f\"../data/{data}/data_groups_0.25.dat\", \"wb\") as f:\n",
    "    f.write(pickle_compressed)"
   ]
  },
  {
   "cell_type": "code",
   "execution_count": 3,
   "id": "47552ae7-87c6-40aa-a82a-bb3bb5044b2b",
   "metadata": {},
   "outputs": [],
   "source": [
    "liver = openml.datasets.get_dataset(200)\n",
    "\n",
    "# data\n",
    "X_orig, y, cat_ind, col_names = liver.get_data(target=liver.default_target_attribute, dataset_format=\"dataframe\")"
   ]
  },
  {
   "cell_type": "code",
   "execution_count": 5,
   "id": "4c84b52b-c5d9-4da4-8c89-3bfef5454a1c",
   "metadata": {
    "tags": []
   },
   "outputs": [
    {
     "data": {
      "text/html": [
       "<div>\n",
       "<style scoped>\n",
       "    .dataframe tbody tr th:only-of-type {\n",
       "        vertical-align: middle;\n",
       "    }\n",
       "\n",
       "    .dataframe tbody tr th {\n",
       "        vertical-align: top;\n",
       "    }\n",
       "\n",
       "    .dataframe thead th {\n",
       "        text-align: right;\n",
       "    }\n",
       "</style>\n",
       "<table border=\"1\" class=\"dataframe\">\n",
       "  <thead>\n",
       "    <tr style=\"text-align: right;\">\n",
       "      <th></th>\n",
       "      <th>D</th>\n",
       "      <th>Z1</th>\n",
       "      <th>Z2</th>\n",
       "      <th>Z3</th>\n",
       "      <th>Z4</th>\n",
       "      <th>Z5</th>\n",
       "      <th>Z6</th>\n",
       "      <th>Z7</th>\n",
       "      <th>Z8</th>\n",
       "      <th>Z9</th>\n",
       "      <th>Z10</th>\n",
       "      <th>Z11</th>\n",
       "      <th>Z12</th>\n",
       "      <th>Z13</th>\n",
       "      <th>Z14</th>\n",
       "      <th>Z15</th>\n",
       "      <th>Z16</th>\n",
       "      <th>Z17</th>\n",
       "    </tr>\n",
       "  </thead>\n",
       "  <tbody>\n",
       "    <tr>\n",
       "      <th>0</th>\n",
       "      <td>1</td>\n",
       "      <td>1</td>\n",
       "      <td>58.7652</td>\n",
       "      <td>1</td>\n",
       "      <td>1</td>\n",
       "      <td>1</td>\n",
       "      <td>1</td>\n",
       "      <td>1</td>\n",
       "      <td>14.5</td>\n",
       "      <td>261.0</td>\n",
       "      <td>2.60</td>\n",
       "      <td>156.0</td>\n",
       "      <td>1718.0</td>\n",
       "      <td>137.95</td>\n",
       "      <td>172.0</td>\n",
       "      <td>190.0</td>\n",
       "      <td>12.2</td>\n",
       "      <td>4</td>\n",
       "    </tr>\n",
       "    <tr>\n",
       "      <th>1</th>\n",
       "      <td>0</td>\n",
       "      <td>1</td>\n",
       "      <td>56.4463</td>\n",
       "      <td>1</td>\n",
       "      <td>0</td>\n",
       "      <td>1</td>\n",
       "      <td>1</td>\n",
       "      <td>0</td>\n",
       "      <td>1.1</td>\n",
       "      <td>302.0</td>\n",
       "      <td>4.14</td>\n",
       "      <td>54.0</td>\n",
       "      <td>7394.8</td>\n",
       "      <td>113.52</td>\n",
       "      <td>88.0</td>\n",
       "      <td>221.0</td>\n",
       "      <td>10.6</td>\n",
       "      <td>3</td>\n",
       "    </tr>\n",
       "    <tr>\n",
       "      <th>2</th>\n",
       "      <td>1</td>\n",
       "      <td>1</td>\n",
       "      <td>70.0726</td>\n",
       "      <td>0</td>\n",
       "      <td>0</td>\n",
       "      <td>0</td>\n",
       "      <td>0</td>\n",
       "      <td>0.500000</td>\n",
       "      <td>1.4</td>\n",
       "      <td>176.0</td>\n",
       "      <td>3.48</td>\n",
       "      <td>210.0</td>\n",
       "      <td>516.0</td>\n",
       "      <td>96.10</td>\n",
       "      <td>55.0</td>\n",
       "      <td>151.0</td>\n",
       "      <td>12.0</td>\n",
       "      <td>4</td>\n",
       "    </tr>\n",
       "    <tr>\n",
       "      <th>3</th>\n",
       "      <td>1</td>\n",
       "      <td>1</td>\n",
       "      <td>54.7406</td>\n",
       "      <td>1</td>\n",
       "      <td>0</td>\n",
       "      <td>1</td>\n",
       "      <td>1</td>\n",
       "      <td>0.500000</td>\n",
       "      <td>1.8</td>\n",
       "      <td>244.0</td>\n",
       "      <td>2.54</td>\n",
       "      <td>64.0</td>\n",
       "      <td>6121.8</td>\n",
       "      <td>60.63</td>\n",
       "      <td>92.0</td>\n",
       "      <td>183.0</td>\n",
       "      <td>10.3</td>\n",
       "      <td>4</td>\n",
       "    </tr>\n",
       "    <tr>\n",
       "      <th>4</th>\n",
       "      <td>0</td>\n",
       "      <td>2</td>\n",
       "      <td>38.1054</td>\n",
       "      <td>1</td>\n",
       "      <td>0</td>\n",
       "      <td>1</td>\n",
       "      <td>1</td>\n",
       "      <td>0</td>\n",
       "      <td>3.4</td>\n",
       "      <td>279.0</td>\n",
       "      <td>3.53</td>\n",
       "      <td>143.0</td>\n",
       "      <td>671.0</td>\n",
       "      <td>113.15</td>\n",
       "      <td>72.0</td>\n",
       "      <td>136.0</td>\n",
       "      <td>10.9</td>\n",
       "      <td>3</td>\n",
       "    </tr>\n",
       "    <tr>\n",
       "      <th>...</th>\n",
       "      <td>...</td>\n",
       "      <td>...</td>\n",
       "      <td>...</td>\n",
       "      <td>...</td>\n",
       "      <td>...</td>\n",
       "      <td>...</td>\n",
       "      <td>...</td>\n",
       "      <td>...</td>\n",
       "      <td>...</td>\n",
       "      <td>...</td>\n",
       "      <td>...</td>\n",
       "      <td>...</td>\n",
       "      <td>...</td>\n",
       "      <td>...</td>\n",
       "      <td>...</td>\n",
       "      <td>...</td>\n",
       "      <td>...</td>\n",
       "      <td>...</td>\n",
       "    </tr>\n",
       "    <tr>\n",
       "      <th>413</th>\n",
       "      <td>1</td>\n",
       "      <td>NaN</td>\n",
       "      <td>67.0000</td>\n",
       "      <td>NaN</td>\n",
       "      <td>NaN</td>\n",
       "      <td>NaN</td>\n",
       "      <td>NaN</td>\n",
       "      <td>0</td>\n",
       "      <td>1.2</td>\n",
       "      <td>NaN</td>\n",
       "      <td>2.96</td>\n",
       "      <td>NaN</td>\n",
       "      <td>NaN</td>\n",
       "      <td>NaN</td>\n",
       "      <td>NaN</td>\n",
       "      <td>174.0</td>\n",
       "      <td>10.9</td>\n",
       "      <td>NaN</td>\n",
       "    </tr>\n",
       "    <tr>\n",
       "      <th>414</th>\n",
       "      <td>0</td>\n",
       "      <td>NaN</td>\n",
       "      <td>39.0000</td>\n",
       "      <td>NaN</td>\n",
       "      <td>NaN</td>\n",
       "      <td>NaN</td>\n",
       "      <td>NaN</td>\n",
       "      <td>0</td>\n",
       "      <td>0.9</td>\n",
       "      <td>NaN</td>\n",
       "      <td>3.83</td>\n",
       "      <td>NaN</td>\n",
       "      <td>NaN</td>\n",
       "      <td>NaN</td>\n",
       "      <td>NaN</td>\n",
       "      <td>180.0</td>\n",
       "      <td>11.2</td>\n",
       "      <td>NaN</td>\n",
       "    </tr>\n",
       "    <tr>\n",
       "      <th>415</th>\n",
       "      <td>0</td>\n",
       "      <td>NaN</td>\n",
       "      <td>57.0000</td>\n",
       "      <td>NaN</td>\n",
       "      <td>NaN</td>\n",
       "      <td>NaN</td>\n",
       "      <td>NaN</td>\n",
       "      <td>0</td>\n",
       "      <td>1.6</td>\n",
       "      <td>NaN</td>\n",
       "      <td>3.42</td>\n",
       "      <td>NaN</td>\n",
       "      <td>NaN</td>\n",
       "      <td>NaN</td>\n",
       "      <td>NaN</td>\n",
       "      <td>143.0</td>\n",
       "      <td>9.9</td>\n",
       "      <td>NaN</td>\n",
       "    </tr>\n",
       "    <tr>\n",
       "      <th>416</th>\n",
       "      <td>0</td>\n",
       "      <td>NaN</td>\n",
       "      <td>58.0000</td>\n",
       "      <td>NaN</td>\n",
       "      <td>NaN</td>\n",
       "      <td>NaN</td>\n",
       "      <td>NaN</td>\n",
       "      <td>0</td>\n",
       "      <td>0.8</td>\n",
       "      <td>NaN</td>\n",
       "      <td>3.75</td>\n",
       "      <td>NaN</td>\n",
       "      <td>NaN</td>\n",
       "      <td>NaN</td>\n",
       "      <td>NaN</td>\n",
       "      <td>269.0</td>\n",
       "      <td>10.4</td>\n",
       "      <td>NaN</td>\n",
       "    </tr>\n",
       "    <tr>\n",
       "      <th>417</th>\n",
       "      <td>0</td>\n",
       "      <td>NaN</td>\n",
       "      <td>53.0000</td>\n",
       "      <td>NaN</td>\n",
       "      <td>NaN</td>\n",
       "      <td>NaN</td>\n",
       "      <td>NaN</td>\n",
       "      <td>0</td>\n",
       "      <td>0.7</td>\n",
       "      <td>NaN</td>\n",
       "      <td>3.29</td>\n",
       "      <td>NaN</td>\n",
       "      <td>NaN</td>\n",
       "      <td>NaN</td>\n",
       "      <td>NaN</td>\n",
       "      <td>350.0</td>\n",
       "      <td>10.6</td>\n",
       "      <td>NaN</td>\n",
       "    </tr>\n",
       "  </tbody>\n",
       "</table>\n",
       "<p>418 rows × 18 columns</p>\n",
       "</div>"
      ],
      "text/plain": [
       "     D   Z1       Z2   Z3   Z4   Z5   Z6        Z7    Z8     Z9   Z10    Z11  \\\n",
       "0    1    1  58.7652    1    1    1    1         1  14.5  261.0  2.60  156.0   \n",
       "1    0    1  56.4463    1    0    1    1         0   1.1  302.0  4.14   54.0   \n",
       "2    1    1  70.0726    0    0    0    0  0.500000   1.4  176.0  3.48  210.0   \n",
       "3    1    1  54.7406    1    0    1    1  0.500000   1.8  244.0  2.54   64.0   \n",
       "4    0    2  38.1054    1    0    1    1         0   3.4  279.0  3.53  143.0   \n",
       "..  ..  ...      ...  ...  ...  ...  ...       ...   ...    ...   ...    ...   \n",
       "413  1  NaN  67.0000  NaN  NaN  NaN  NaN         0   1.2    NaN  2.96    NaN   \n",
       "414  0  NaN  39.0000  NaN  NaN  NaN  NaN         0   0.9    NaN  3.83    NaN   \n",
       "415  0  NaN  57.0000  NaN  NaN  NaN  NaN         0   1.6    NaN  3.42    NaN   \n",
       "416  0  NaN  58.0000  NaN  NaN  NaN  NaN         0   0.8    NaN  3.75    NaN   \n",
       "417  0  NaN  53.0000  NaN  NaN  NaN  NaN         0   0.7    NaN  3.29    NaN   \n",
       "\n",
       "        Z12     Z13    Z14    Z15   Z16  Z17  \n",
       "0    1718.0  137.95  172.0  190.0  12.2    4  \n",
       "1    7394.8  113.52   88.0  221.0  10.6    3  \n",
       "2     516.0   96.10   55.0  151.0  12.0    4  \n",
       "3    6121.8   60.63   92.0  183.0  10.3    4  \n",
       "4     671.0  113.15   72.0  136.0  10.9    3  \n",
       "..      ...     ...    ...    ...   ...  ...  \n",
       "413     NaN     NaN    NaN  174.0  10.9  NaN  \n",
       "414     NaN     NaN    NaN  180.0  11.2  NaN  \n",
       "415     NaN     NaN    NaN  143.0   9.9  NaN  \n",
       "416     NaN     NaN    NaN  269.0  10.4  NaN  \n",
       "417     NaN     NaN    NaN  350.0  10.6  NaN  \n",
       "\n",
       "[418 rows x 18 columns]"
      ]
     },
     "execution_count": 5,
     "metadata": {},
     "output_type": "execute_result"
    }
   ],
   "source": [
    "X_orig"
   ]
  },
  {
   "cell_type": "code",
   "execution_count": 6,
   "id": "b034ee3b-b8bd-4853-b49d-392fe99958f8",
   "metadata": {
    "tags": []
   },
   "outputs": [
    {
     "data": {
      "text/plain": [
       "0       400.0\n",
       "1      4500.0\n",
       "2      1012.0\n",
       "3      1925.0\n",
       "4      1504.0\n",
       "        ...  \n",
       "413     681.0\n",
       "414    1103.0\n",
       "415    1055.0\n",
       "416     691.0\n",
       "417     976.0\n",
       "Name: class, Length: 418, dtype: float64"
      ]
     },
     "execution_count": 6,
     "metadata": {},
     "output_type": "execute_result"
    }
   ],
   "source": [
    "y"
   ]
  },
  {
   "cell_type": "code",
   "execution_count": null,
   "id": "e8cb8aa5-8406-4101-923d-a09e5f0458c6",
   "metadata": {},
   "outputs": [],
   "source": []
  }
 ],
 "metadata": {
  "kernelspec": {
   "display_name": "Python 3 (ipykernel)",
   "language": "python",
   "name": "python3"
  },
  "language_info": {
   "codemirror_mode": {
    "name": "ipython",
    "version": 3
   },
   "file_extension": ".py",
   "mimetype": "text/x-python",
   "name": "python",
   "nbconvert_exporter": "python",
   "pygments_lexer": "ipython3",
   "version": "3.9.12"
  }
 },
 "nbformat": 4,
 "nbformat_minor": 5
}

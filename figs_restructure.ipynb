{
 "cells": [
  {
   "cell_type": "code",
   "execution_count": 1,
   "id": "370457b2-647c-4c8d-b97c-5e1914fc8755",
   "metadata": {
    "tags": []
   },
   "outputs": [],
   "source": [
    "import os\n",
    "import sys\n",
    "\n",
    "path_to_repo = os.path.dirname(os.getcwd())\n",
    "sys.path.append(path_to_repo)\n",
    "\n",
    "import sklearn.datasets\n",
    "import pandas as pd\n",
    "import numpy as np\n",
    "\n",
    "import sklearn.model_selection\n",
    "from sklearn.metrics import r2_score, accuracy_score\n",
    "#from imodels import FIGSRegressor, FIGSClassifier\n",
    "#from imodels.importance import RandomForestPlusRegressor\n",
    "\n",
    "import openml\n",
    "from ucimlrepo import fetch_ucirepo \n",
    "\n",
    "from figs_d import FIGSRegressor\n",
    "from fourierDistill import *\n",
    "from binary_mapper import *"
   ]
  },
  {
   "cell_type": "code",
   "execution_count": 2,
   "id": "f90024bf-2aba-43e9-91aa-ca9d84c33209",
   "metadata": {},
   "outputs": [],
   "source": [
    "miami_housing = openml.datasets.get_dataset(43093)\n",
    "X, y, _, _ = miami_housing.get_data(target=miami_housing.default_target_attribute, dataset_format=\"dataframe\")"
   ]
  },
  {
   "cell_type": "code",
   "execution_count": 3,
   "id": "875311a0-3645-4e2d-8fb7-1a6713c335dc",
   "metadata": {},
   "outputs": [],
   "source": [
    "X_train, X_test, y_train, y_test = train_test_split(X, y, test_size=0.2, random_state=0)\n",
    "X_train, X_val, y_train, y_val = train_test_split(X_train, y_train, test_size=0.25, random_state=0)"
   ]
  },
  {
   "cell_type": "code",
   "execution_count": 4,
   "id": "691b282d-daee-401f-9d24-918c4f1e5fe5",
   "metadata": {},
   "outputs": [],
   "source": [
    "fbm = FIGSBinaryMapper(figs=FIGSRegressor(max_rules=30, max_trees=5, round_deg = 3))\n",
    "X_train_new = fbm.fit_transform(X_train, y_train, train=True)\n",
    "X_val_new = fbm.transform(X_val)\n",
    "X_test_new = fbm.transform(X_test)"
   ]
  },
  {
   "cell_type": "code",
   "execution_count": 5,
   "id": "793fd0a4-8c7e-4b31-97cb-ad0a0e50f9cc",
   "metadata": {},
   "outputs": [
    {
     "data": {
      "text/plain": [
       "((8358, 60), 35, 12, 5)"
      ]
     },
     "execution_count": 5,
     "metadata": {},
     "output_type": "execute_result"
    }
   ],
   "source": [
    "X_train_new.shape, fbm.num_interactions, fbm.max_interaction_size, len(fbm.figs.trees_)"
   ]
  },
  {
   "cell_type": "code",
   "execution_count": 31,
   "id": "81062f83-0df1-4dec-9dc9-7bbf1cdc0eac",
   "metadata": {},
   "outputs": [
    {
     "data": {
      "text/plain": [
       "[2, 5, 5, 4, 3, 3, 6, 6, 5, 4, 3, 3]"
      ]
     },
     "execution_count": 31,
     "metadata": {},
     "output_type": "execute_result"
    }
   ],
   "source": [
    "[len(i[0]) for i in fbm.figs_rules[0]]"
   ]
  },
  {
   "cell_type": "code",
   "execution_count": 33,
   "id": "220d0cb5-4572-40c6-8f20-122b5664662e",
   "metadata": {},
   "outputs": [
    {
     "data": {
      "text/plain": [
       "[([(TOT_LVG_AREA <= 3459.500 (Tree #0 root), 'flip'),\n",
       "   (CNTR_DIST <= 63545.699 (split), 'flip')],\n",
       "  641563.1066755188),\n",
       " ([(TOT_LVG_AREA <= 3459.500 (Tree #0 root), 'flip'),\n",
       "   (CNTR_DIST <= 63545.699 (split), 'original'),\n",
       "   (CNTR_DIST <= 33606.201 (split), 'flip'),\n",
       "   (age <= 21.500 (split), 'flip'),\n",
       "   (PARCELNO <= 2050130182144.000 (split), 'flip')],\n",
       "  668145.2314475699),\n",
       " ([(TOT_LVG_AREA <= 3459.500 (Tree #0 root), 'flip'),\n",
       "   (CNTR_DIST <= 63545.699 (split), 'original'),\n",
       "   (CNTR_DIST <= 33606.201 (split), 'flip'),\n",
       "   (age <= 21.500 (split), 'flip'),\n",
       "   (PARCELNO <= 2050130182144.000 (split), 'original')],\n",
       "  994562.7593892454),\n",
       " ([(TOT_LVG_AREA <= 3459.500 (Tree #0 root), 'flip'),\n",
       "   (CNTR_DIST <= 63545.699 (split), 'original'),\n",
       "   (CNTR_DIST <= 33606.201 (split), 'flip'),\n",
       "   (age <= 21.500 (split), 'original')],\n",
       "  1222548.9867905304),\n",
       " ([(TOT_LVG_AREA <= 3459.500 (Tree #0 root), 'flip'),\n",
       "   (CNTR_DIST <= 63545.699 (split), 'original'),\n",
       "   (CNTR_DIST <= 33606.201 (split), 'original')],\n",
       "  1472596.051230073),\n",
       " ([(TOT_LVG_AREA <= 3459.500 (Tree #0 root), 'original'),\n",
       "   (TOT_LVG_AREA <= 2366.500 (split), 'flip'),\n",
       "   (CNTR_DIST <= 62929.600 (split), 'flip')],\n",
       "  428883.6093663168),\n",
       " ([(TOT_LVG_AREA <= 3459.500 (Tree #0 root), 'original'),\n",
       "   (TOT_LVG_AREA <= 2366.500 (split), 'flip'),\n",
       "   (CNTR_DIST <= 62929.600 (split), 'original'),\n",
       "   (TOT_LVG_AREA <= 2673.500 (split), 'flip'),\n",
       "   (PARCELNO <= 341290352640.000 (split), 'flip'),\n",
       "   (age <= 22.500 (split), 'flip')],\n",
       "  536492.4181499392),\n",
       " ([(TOT_LVG_AREA <= 3459.500 (Tree #0 root), 'original'),\n",
       "   (TOT_LVG_AREA <= 2366.500 (split), 'flip'),\n",
       "   (CNTR_DIST <= 62929.600 (split), 'original'),\n",
       "   (TOT_LVG_AREA <= 2673.500 (split), 'flip'),\n",
       "   (PARCELNO <= 341290352640.000 (split), 'flip'),\n",
       "   (age <= 22.500 (split), 'original')],\n",
       "  720698.9818004618),\n",
       " ([(TOT_LVG_AREA <= 3459.500 (Tree #0 root), 'original'),\n",
       "   (TOT_LVG_AREA <= 2366.500 (split), 'flip'),\n",
       "   (CNTR_DIST <= 62929.600 (split), 'original'),\n",
       "   (TOT_LVG_AREA <= 2673.500 (split), 'flip'),\n",
       "   (PARCELNO <= 341290352640.000 (split), 'original')],\n",
       "  795166.4718347429),\n",
       " ([(TOT_LVG_AREA <= 3459.500 (Tree #0 root), 'original'),\n",
       "   (TOT_LVG_AREA <= 2366.500 (split), 'flip'),\n",
       "   (CNTR_DIST <= 62929.600 (split), 'original'),\n",
       "   (TOT_LVG_AREA <= 2673.500 (split), 'original')],\n",
       "  537428.6354373294),\n",
       " ([(TOT_LVG_AREA <= 3459.500 (Tree #0 root), 'original'),\n",
       "   (TOT_LVG_AREA <= 2366.500 (split), 'original'),\n",
       "   (TOT_LVG_AREA <= 1741.500 (split), 'flip')],\n",
       "  364201.0662470534),\n",
       " ([(TOT_LVG_AREA <= 3459.500 (Tree #0 root), 'original'),\n",
       "   (TOT_LVG_AREA <= 2366.500 (split), 'original'),\n",
       "   (TOT_LVG_AREA <= 1741.500 (split), 'original')],\n",
       "  282555.9055771973)]"
      ]
     },
     "execution_count": 33,
     "metadata": {},
     "output_type": "execute_result"
    }
   ],
   "source": [
    "[i for i in fbm.figs_rules[0]]"
   ]
  },
  {
   "cell_type": "code",
   "execution_count": 28,
   "id": "f8b49c83-acb5-4ab4-aace-04a36d6a113a",
   "metadata": {},
   "outputs": [
    {
     "data": {
      "text/plain": [
       "[12, 12, 4, 3, 4]"
      ]
     },
     "execution_count": 28,
     "metadata": {},
     "output_type": "execute_result"
    }
   ],
   "source": [
    "[len(t) for t in fbm.figs_rules]"
   ]
  },
  {
   "cell_type": "code",
   "execution_count": 37,
   "id": "fb413759-47b8-4c3c-99de-a480ac949946",
   "metadata": {},
   "outputs": [
    {
     "data": {
      "text/plain": [
       "6"
      ]
     },
     "execution_count": 37,
     "metadata": {},
     "output_type": "execute_result"
    }
   ],
   "source": [
    "max([len(p) for p, w in fbm.interactions])"
   ]
  },
  {
   "cell_type": "code",
   "execution_count": 24,
   "id": "73555298-3ac0-4d44-8c6a-36b60ff86d5d",
   "metadata": {},
   "outputs": [
    {
     "data": {
      "text/plain": [
       "[[['TOT_LVG_AREA_<=_3459.5',\n",
       "   'TOT_LVG_AREA_>_2366.5',\n",
       "   'CNTR_DIST_<=_62929.6',\n",
       "   'TOT_LVG_AREA_>_2673.5',\n",
       "   'PARCELNO_>_341290352640.0',\n",
       "   'age_>_22.5'],\n",
       "  536492.4181499392],\n",
       " [['TOT_LVG_AREA_<=_3459.5',\n",
       "   'TOT_LVG_AREA_>_2366.5',\n",
       "   'CNTR_DIST_<=_62929.6',\n",
       "   'TOT_LVG_AREA_>_2673.5',\n",
       "   'PARCELNO_>_341290352640.0',\n",
       "   'age_<=_22.5'],\n",
       "  720698.9818004618],\n",
       " [['TOT_LVG_AREA_>_3459.5',\n",
       "   'CNTR_DIST_<=_63545.699',\n",
       "   'CNTR_DIST_>_33606.201',\n",
       "   'age_>_21.5',\n",
       "   'PARCELNO_>_2050130182144.0'],\n",
       "  668145.2314475699],\n",
       " [['TOT_LVG_AREA_>_3459.5',\n",
       "   'CNTR_DIST_<=_63545.699',\n",
       "   'CNTR_DIST_>_33606.201',\n",
       "   'age_>_21.5',\n",
       "   'PARCELNO_<=_2050130182144.0'],\n",
       "  994562.7593892454],\n",
       " [['TOT_LVG_AREA_<=_3459.5',\n",
       "   'TOT_LVG_AREA_>_2366.5',\n",
       "   'CNTR_DIST_<=_62929.6',\n",
       "   'TOT_LVG_AREA_>_2673.5',\n",
       "   'PARCELNO_<=_341290352640.0'],\n",
       "  795166.4718347429],\n",
       " [['OCEAN_DIST_<=_12560.1',\n",
       "   'structure_quality_<=_4.5',\n",
       "   'LATITUDE_>_25.618',\n",
       "   'OCEAN_DIST_<=_1636.8',\n",
       "   'WATER_DIST_>_118.65'],\n",
       "  492484.55865518417],\n",
       " [['OCEAN_DIST_<=_12560.1',\n",
       "   'structure_quality_<=_4.5',\n",
       "   'LATITUDE_>_25.618',\n",
       "   'OCEAN_DIST_<=_1636.8',\n",
       "   'WATER_DIST_<=_118.65'],\n",
       "  1591355.6170269265],\n",
       " [['TOT_LVG_AREA_>_3459.5',\n",
       "   'CNTR_DIST_<=_63545.699',\n",
       "   'CNTR_DIST_>_33606.201',\n",
       "   'age_<=_21.5'],\n",
       "  1222548.9867905304],\n",
       " [['TOT_LVG_AREA_<=_3459.5',\n",
       "   'TOT_LVG_AREA_>_2366.5',\n",
       "   'CNTR_DIST_<=_62929.6',\n",
       "   'TOT_LVG_AREA_<=_2673.5'],\n",
       "  537428.6354373294],\n",
       " [['OCEAN_DIST_>_12560.1',\n",
       "   'SUBCNTR_DI_>_10521.45',\n",
       "   'SUBCNTR_DI_>_24754.25',\n",
       "   'LONGITUDE_>_-80.199'],\n",
       "  9744.846023484197],\n",
       " [['OCEAN_DIST_>_12560.1',\n",
       "   'SUBCNTR_DI_>_10521.45',\n",
       "   'SUBCNTR_DI_>_24754.25',\n",
       "   'LONGITUDE_<=_-80.199'],\n",
       "  -59498.22016255059],\n",
       " [['OCEAN_DIST_>_12560.1',\n",
       "   'SUBCNTR_DI_>_10521.45',\n",
       "   'SUBCNTR_DI_<=_24754.25',\n",
       "   'LONGITUDE_>_-80.189'],\n",
       "  277825.0348946304],\n",
       " [['OCEAN_DIST_>_12560.1',\n",
       "   'SUBCNTR_DI_>_10521.45',\n",
       "   'SUBCNTR_DI_<=_24754.25',\n",
       "   'LONGITUDE_<=_-80.189'],\n",
       "  -3466.054876190052],\n",
       " [['OCEAN_DIST_<=_12560.1',\n",
       "   'structure_quality_>_4.5',\n",
       "   'WATER_DIST_<=_1409.45',\n",
       "   'RAIL_DIST_>_4818.85'],\n",
       "  675600.1873879156],\n",
       " [['OCEAN_DIST_<=_12560.1',\n",
       "   'structure_quality_>_4.5',\n",
       "   'WATER_DIST_<=_1409.45',\n",
       "   'RAIL_DIST_<=_4818.85'],\n",
       "  431370.65356847947],\n",
       " [['OCEAN_DIST_<=_12560.1',\n",
       "   'structure_quality_<=_4.5',\n",
       "   'LATITUDE_>_25.618',\n",
       "   'OCEAN_DIST_>_1636.8'],\n",
       "  168881.359582031],\n",
       " [['TOT_LVG_AREA_>_3459.5',\n",
       "   'CNTR_DIST_<=_63545.699',\n",
       "   'CNTR_DIST_<=_33606.201'],\n",
       "  1472596.051230073],\n",
       " [['TOT_LVG_AREA_<=_3459.5', 'TOT_LVG_AREA_>_2366.5', 'CNTR_DIST_>_62929.6'],\n",
       "  428883.6093663168],\n",
       " [['TOT_LVG_AREA_<=_3459.5',\n",
       "   'TOT_LVG_AREA_<=_2366.5',\n",
       "   'TOT_LVG_AREA_>_1741.5'],\n",
       "  364201.0662470534],\n",
       " [['TOT_LVG_AREA_<=_3459.5',\n",
       "   'TOT_LVG_AREA_<=_2366.5',\n",
       "   'TOT_LVG_AREA_<=_1741.5'],\n",
       "  282555.9055771973],\n",
       " [['OCEAN_DIST_<=_12560.1', 'structure_quality_>_4.5', 'WATER_DIST_>_1409.45'],\n",
       "  361837.2492534537],\n",
       " [['OCEAN_DIST_<=_12560.1', 'structure_quality_<=_4.5', 'LATITUDE_<=_25.618'],\n",
       "  -17212.66896727844],\n",
       " [['structure_quality_>_2.5',\n",
       "   'SPEC_FEAT_VAL_>_44493.5',\n",
       "   'TOT_LVG_AREA_>_4531.0'],\n",
       "  398345.47027729364],\n",
       " [['structure_quality_>_2.5',\n",
       "   'SPEC_FEAT_VAL_>_44493.5',\n",
       "   'TOT_LVG_AREA_<=_4531.0'],\n",
       "  89342.3282672637],\n",
       " [['LND_SQFOOT_<=_8799.5', 'LONGITUDE_>_-80.275', 'RAIL_DIST_>_24968.95'],\n",
       "  567929.2966377062],\n",
       " [['LND_SQFOOT_<=_8799.5', 'LONGITUDE_>_-80.275', 'RAIL_DIST_<=_24968.95'],\n",
       "  -55787.10299263041],\n",
       " [['TOT_LVG_AREA_>_3459.5', 'CNTR_DIST_>_63545.699'], 641563.1066755188],\n",
       " [['OCEAN_DIST_>_12560.1', 'SUBCNTR_DI_<=_10521.45'], 133788.98591368535],\n",
       " [['structure_quality_>_2.5', 'SPEC_FEAT_VAL_<=_44493.5'], 12430.72822204582],\n",
       " [['SPEC_FEAT_VAL_>_27111.5', 'CNTR_DIST_>_50972.4'], 32613.736280017558],\n",
       " [['SPEC_FEAT_VAL_>_27111.5', 'CNTR_DIST_<=_50972.4'], 172645.97647483516],\n",
       " [['LND_SQFOOT_<=_8799.5', 'LONGITUDE_<=_-80.275'], 3981.0565501934548],\n",
       " [['structure_quality_<=_2.5'], -63423.2239956177],\n",
       " [['SPEC_FEAT_VAL_<=_27111.5'], 2097.7127941799176],\n",
       " [['LND_SQFOOT_>_8799.5'], 28957.006385318055]]"
      ]
     },
     "execution_count": 24,
     "metadata": {},
     "output_type": "execute_result"
    }
   ],
   "source": [
    "sorted(fbm.interactions, key = lambda x: -len(x[0]))"
   ]
  },
  {
   "cell_type": "code",
   "execution_count": null,
   "id": "615f31a3-eeef-4b4c-a5f9-985e2c6e874e",
   "metadata": {},
   "outputs": [],
   "source": []
  },
  {
   "cell_type": "code",
   "execution_count": 16,
   "id": "fd575ee9-f94c-4494-916e-6eda29fc7870",
   "metadata": {},
   "outputs": [
    {
     "data": {
      "text/html": [
       "<style>#sk-container-id-1 {\n",
       "  /* Definition of color scheme common for light and dark mode */\n",
       "  --sklearn-color-text: black;\n",
       "  --sklearn-color-line: gray;\n",
       "  /* Definition of color scheme for unfitted estimators */\n",
       "  --sklearn-color-unfitted-level-0: #fff5e6;\n",
       "  --sklearn-color-unfitted-level-1: #f6e4d2;\n",
       "  --sklearn-color-unfitted-level-2: #ffe0b3;\n",
       "  --sklearn-color-unfitted-level-3: chocolate;\n",
       "  /* Definition of color scheme for fitted estimators */\n",
       "  --sklearn-color-fitted-level-0: #f0f8ff;\n",
       "  --sklearn-color-fitted-level-1: #d4ebff;\n",
       "  --sklearn-color-fitted-level-2: #b3dbfd;\n",
       "  --sklearn-color-fitted-level-3: cornflowerblue;\n",
       "\n",
       "  /* Specific color for light theme */\n",
       "  --sklearn-color-text-on-default-background: var(--sg-text-color, var(--theme-code-foreground, var(--jp-content-font-color1, black)));\n",
       "  --sklearn-color-background: var(--sg-background-color, var(--theme-background, var(--jp-layout-color0, white)));\n",
       "  --sklearn-color-border-box: var(--sg-text-color, var(--theme-code-foreground, var(--jp-content-font-color1, black)));\n",
       "  --sklearn-color-icon: #696969;\n",
       "\n",
       "  @media (prefers-color-scheme: dark) {\n",
       "    /* Redefinition of color scheme for dark theme */\n",
       "    --sklearn-color-text-on-default-background: var(--sg-text-color, var(--theme-code-foreground, var(--jp-content-font-color1, white)));\n",
       "    --sklearn-color-background: var(--sg-background-color, var(--theme-background, var(--jp-layout-color0, #111)));\n",
       "    --sklearn-color-border-box: var(--sg-text-color, var(--theme-code-foreground, var(--jp-content-font-color1, white)));\n",
       "    --sklearn-color-icon: #878787;\n",
       "  }\n",
       "}\n",
       "\n",
       "#sk-container-id-1 {\n",
       "  color: var(--sklearn-color-text);\n",
       "}\n",
       "\n",
       "#sk-container-id-1 pre {\n",
       "  padding: 0;\n",
       "}\n",
       "\n",
       "#sk-container-id-1 input.sk-hidden--visually {\n",
       "  border: 0;\n",
       "  clip: rect(1px 1px 1px 1px);\n",
       "  clip: rect(1px, 1px, 1px, 1px);\n",
       "  height: 1px;\n",
       "  margin: -1px;\n",
       "  overflow: hidden;\n",
       "  padding: 0;\n",
       "  position: absolute;\n",
       "  width: 1px;\n",
       "}\n",
       "\n",
       "#sk-container-id-1 div.sk-dashed-wrapped {\n",
       "  border: 1px dashed var(--sklearn-color-line);\n",
       "  margin: 0 0.4em 0.5em 0.4em;\n",
       "  box-sizing: border-box;\n",
       "  padding-bottom: 0.4em;\n",
       "  background-color: var(--sklearn-color-background);\n",
       "}\n",
       "\n",
       "#sk-container-id-1 div.sk-container {\n",
       "  /* jupyter's `normalize.less` sets `[hidden] { display: none; }`\n",
       "     but bootstrap.min.css set `[hidden] { display: none !important; }`\n",
       "     so we also need the `!important` here to be able to override the\n",
       "     default hidden behavior on the sphinx rendered scikit-learn.org.\n",
       "     See: https://github.com/scikit-learn/scikit-learn/issues/21755 */\n",
       "  display: inline-block !important;\n",
       "  position: relative;\n",
       "}\n",
       "\n",
       "#sk-container-id-1 div.sk-text-repr-fallback {\n",
       "  display: none;\n",
       "}\n",
       "\n",
       "div.sk-parallel-item,\n",
       "div.sk-serial,\n",
       "div.sk-item {\n",
       "  /* draw centered vertical line to link estimators */\n",
       "  background-image: linear-gradient(var(--sklearn-color-text-on-default-background), var(--sklearn-color-text-on-default-background));\n",
       "  background-size: 2px 100%;\n",
       "  background-repeat: no-repeat;\n",
       "  background-position: center center;\n",
       "}\n",
       "\n",
       "/* Parallel-specific style estimator block */\n",
       "\n",
       "#sk-container-id-1 div.sk-parallel-item::after {\n",
       "  content: \"\";\n",
       "  width: 100%;\n",
       "  border-bottom: 2px solid var(--sklearn-color-text-on-default-background);\n",
       "  flex-grow: 1;\n",
       "}\n",
       "\n",
       "#sk-container-id-1 div.sk-parallel {\n",
       "  display: flex;\n",
       "  align-items: stretch;\n",
       "  justify-content: center;\n",
       "  background-color: var(--sklearn-color-background);\n",
       "  position: relative;\n",
       "}\n",
       "\n",
       "#sk-container-id-1 div.sk-parallel-item {\n",
       "  display: flex;\n",
       "  flex-direction: column;\n",
       "}\n",
       "\n",
       "#sk-container-id-1 div.sk-parallel-item:first-child::after {\n",
       "  align-self: flex-end;\n",
       "  width: 50%;\n",
       "}\n",
       "\n",
       "#sk-container-id-1 div.sk-parallel-item:last-child::after {\n",
       "  align-self: flex-start;\n",
       "  width: 50%;\n",
       "}\n",
       "\n",
       "#sk-container-id-1 div.sk-parallel-item:only-child::after {\n",
       "  width: 0;\n",
       "}\n",
       "\n",
       "/* Serial-specific style estimator block */\n",
       "\n",
       "#sk-container-id-1 div.sk-serial {\n",
       "  display: flex;\n",
       "  flex-direction: column;\n",
       "  align-items: center;\n",
       "  background-color: var(--sklearn-color-background);\n",
       "  padding-right: 1em;\n",
       "  padding-left: 1em;\n",
       "}\n",
       "\n",
       "\n",
       "/* Toggleable style: style used for estimator/Pipeline/ColumnTransformer box that is\n",
       "clickable and can be expanded/collapsed.\n",
       "- Pipeline and ColumnTransformer use this feature and define the default style\n",
       "- Estimators will overwrite some part of the style using the `sk-estimator` class\n",
       "*/\n",
       "\n",
       "/* Pipeline and ColumnTransformer style (default) */\n",
       "\n",
       "#sk-container-id-1 div.sk-toggleable {\n",
       "  /* Default theme specific background. It is overwritten whether we have a\n",
       "  specific estimator or a Pipeline/ColumnTransformer */\n",
       "  background-color: var(--sklearn-color-background);\n",
       "}\n",
       "\n",
       "/* Toggleable label */\n",
       "#sk-container-id-1 label.sk-toggleable__label {\n",
       "  cursor: pointer;\n",
       "  display: block;\n",
       "  width: 100%;\n",
       "  margin-bottom: 0;\n",
       "  padding: 0.5em;\n",
       "  box-sizing: border-box;\n",
       "  text-align: center;\n",
       "}\n",
       "\n",
       "#sk-container-id-1 label.sk-toggleable__label-arrow:before {\n",
       "  /* Arrow on the left of the label */\n",
       "  content: \"▸\";\n",
       "  float: left;\n",
       "  margin-right: 0.25em;\n",
       "  color: var(--sklearn-color-icon);\n",
       "}\n",
       "\n",
       "#sk-container-id-1 label.sk-toggleable__label-arrow:hover:before {\n",
       "  color: var(--sklearn-color-text);\n",
       "}\n",
       "\n",
       "/* Toggleable content - dropdown */\n",
       "\n",
       "#sk-container-id-1 div.sk-toggleable__content {\n",
       "  max-height: 0;\n",
       "  max-width: 0;\n",
       "  overflow: hidden;\n",
       "  text-align: left;\n",
       "  /* unfitted */\n",
       "  background-color: var(--sklearn-color-unfitted-level-0);\n",
       "}\n",
       "\n",
       "#sk-container-id-1 div.sk-toggleable__content.fitted {\n",
       "  /* fitted */\n",
       "  background-color: var(--sklearn-color-fitted-level-0);\n",
       "}\n",
       "\n",
       "#sk-container-id-1 div.sk-toggleable__content pre {\n",
       "  margin: 0.2em;\n",
       "  border-radius: 0.25em;\n",
       "  color: var(--sklearn-color-text);\n",
       "  /* unfitted */\n",
       "  background-color: var(--sklearn-color-unfitted-level-0);\n",
       "}\n",
       "\n",
       "#sk-container-id-1 div.sk-toggleable__content.fitted pre {\n",
       "  /* unfitted */\n",
       "  background-color: var(--sklearn-color-fitted-level-0);\n",
       "}\n",
       "\n",
       "#sk-container-id-1 input.sk-toggleable__control:checked~div.sk-toggleable__content {\n",
       "  /* Expand drop-down */\n",
       "  max-height: 200px;\n",
       "  max-width: 100%;\n",
       "  overflow: auto;\n",
       "}\n",
       "\n",
       "#sk-container-id-1 input.sk-toggleable__control:checked~label.sk-toggleable__label-arrow:before {\n",
       "  content: \"▾\";\n",
       "}\n",
       "\n",
       "/* Pipeline/ColumnTransformer-specific style */\n",
       "\n",
       "#sk-container-id-1 div.sk-label input.sk-toggleable__control:checked~label.sk-toggleable__label {\n",
       "  color: var(--sklearn-color-text);\n",
       "  background-color: var(--sklearn-color-unfitted-level-2);\n",
       "}\n",
       "\n",
       "#sk-container-id-1 div.sk-label.fitted input.sk-toggleable__control:checked~label.sk-toggleable__label {\n",
       "  background-color: var(--sklearn-color-fitted-level-2);\n",
       "}\n",
       "\n",
       "/* Estimator-specific style */\n",
       "\n",
       "/* Colorize estimator box */\n",
       "#sk-container-id-1 div.sk-estimator input.sk-toggleable__control:checked~label.sk-toggleable__label {\n",
       "  /* unfitted */\n",
       "  background-color: var(--sklearn-color-unfitted-level-2);\n",
       "}\n",
       "\n",
       "#sk-container-id-1 div.sk-estimator.fitted input.sk-toggleable__control:checked~label.sk-toggleable__label {\n",
       "  /* fitted */\n",
       "  background-color: var(--sklearn-color-fitted-level-2);\n",
       "}\n",
       "\n",
       "#sk-container-id-1 div.sk-label label.sk-toggleable__label,\n",
       "#sk-container-id-1 div.sk-label label {\n",
       "  /* The background is the default theme color */\n",
       "  color: var(--sklearn-color-text-on-default-background);\n",
       "}\n",
       "\n",
       "/* On hover, darken the color of the background */\n",
       "#sk-container-id-1 div.sk-label:hover label.sk-toggleable__label {\n",
       "  color: var(--sklearn-color-text);\n",
       "  background-color: var(--sklearn-color-unfitted-level-2);\n",
       "}\n",
       "\n",
       "/* Label box, darken color on hover, fitted */\n",
       "#sk-container-id-1 div.sk-label.fitted:hover label.sk-toggleable__label.fitted {\n",
       "  color: var(--sklearn-color-text);\n",
       "  background-color: var(--sklearn-color-fitted-level-2);\n",
       "}\n",
       "\n",
       "/* Estimator label */\n",
       "\n",
       "#sk-container-id-1 div.sk-label label {\n",
       "  font-family: monospace;\n",
       "  font-weight: bold;\n",
       "  display: inline-block;\n",
       "  line-height: 1.2em;\n",
       "}\n",
       "\n",
       "#sk-container-id-1 div.sk-label-container {\n",
       "  text-align: center;\n",
       "}\n",
       "\n",
       "/* Estimator-specific */\n",
       "#sk-container-id-1 div.sk-estimator {\n",
       "  font-family: monospace;\n",
       "  border: 1px dotted var(--sklearn-color-border-box);\n",
       "  border-radius: 0.25em;\n",
       "  box-sizing: border-box;\n",
       "  margin-bottom: 0.5em;\n",
       "  /* unfitted */\n",
       "  background-color: var(--sklearn-color-unfitted-level-0);\n",
       "}\n",
       "\n",
       "#sk-container-id-1 div.sk-estimator.fitted {\n",
       "  /* fitted */\n",
       "  background-color: var(--sklearn-color-fitted-level-0);\n",
       "}\n",
       "\n",
       "/* on hover */\n",
       "#sk-container-id-1 div.sk-estimator:hover {\n",
       "  /* unfitted */\n",
       "  background-color: var(--sklearn-color-unfitted-level-2);\n",
       "}\n",
       "\n",
       "#sk-container-id-1 div.sk-estimator.fitted:hover {\n",
       "  /* fitted */\n",
       "  background-color: var(--sklearn-color-fitted-level-2);\n",
       "}\n",
       "\n",
       "/* Specification for estimator info (e.g. \"i\" and \"?\") */\n",
       "\n",
       "/* Common style for \"i\" and \"?\" */\n",
       "\n",
       ".sk-estimator-doc-link,\n",
       "a:link.sk-estimator-doc-link,\n",
       "a:visited.sk-estimator-doc-link {\n",
       "  float: right;\n",
       "  font-size: smaller;\n",
       "  line-height: 1em;\n",
       "  font-family: monospace;\n",
       "  background-color: var(--sklearn-color-background);\n",
       "  border-radius: 1em;\n",
       "  height: 1em;\n",
       "  width: 1em;\n",
       "  text-decoration: none !important;\n",
       "  margin-left: 1ex;\n",
       "  /* unfitted */\n",
       "  border: var(--sklearn-color-unfitted-level-1) 1pt solid;\n",
       "  color: var(--sklearn-color-unfitted-level-1);\n",
       "}\n",
       "\n",
       ".sk-estimator-doc-link.fitted,\n",
       "a:link.sk-estimator-doc-link.fitted,\n",
       "a:visited.sk-estimator-doc-link.fitted {\n",
       "  /* fitted */\n",
       "  border: var(--sklearn-color-fitted-level-1) 1pt solid;\n",
       "  color: var(--sklearn-color-fitted-level-1);\n",
       "}\n",
       "\n",
       "/* On hover */\n",
       "div.sk-estimator:hover .sk-estimator-doc-link:hover,\n",
       ".sk-estimator-doc-link:hover,\n",
       "div.sk-label-container:hover .sk-estimator-doc-link:hover,\n",
       ".sk-estimator-doc-link:hover {\n",
       "  /* unfitted */\n",
       "  background-color: var(--sklearn-color-unfitted-level-3);\n",
       "  color: var(--sklearn-color-background);\n",
       "  text-decoration: none;\n",
       "}\n",
       "\n",
       "div.sk-estimator.fitted:hover .sk-estimator-doc-link.fitted:hover,\n",
       ".sk-estimator-doc-link.fitted:hover,\n",
       "div.sk-label-container:hover .sk-estimator-doc-link.fitted:hover,\n",
       ".sk-estimator-doc-link.fitted:hover {\n",
       "  /* fitted */\n",
       "  background-color: var(--sklearn-color-fitted-level-3);\n",
       "  color: var(--sklearn-color-background);\n",
       "  text-decoration: none;\n",
       "}\n",
       "\n",
       "/* Span, style for the box shown on hovering the info icon */\n",
       ".sk-estimator-doc-link span {\n",
       "  display: none;\n",
       "  z-index: 9999;\n",
       "  position: relative;\n",
       "  font-weight: normal;\n",
       "  right: .2ex;\n",
       "  padding: .5ex;\n",
       "  margin: .5ex;\n",
       "  width: min-content;\n",
       "  min-width: 20ex;\n",
       "  max-width: 50ex;\n",
       "  color: var(--sklearn-color-text);\n",
       "  box-shadow: 2pt 2pt 4pt #999;\n",
       "  /* unfitted */\n",
       "  background: var(--sklearn-color-unfitted-level-0);\n",
       "  border: .5pt solid var(--sklearn-color-unfitted-level-3);\n",
       "}\n",
       "\n",
       ".sk-estimator-doc-link.fitted span {\n",
       "  /* fitted */\n",
       "  background: var(--sklearn-color-fitted-level-0);\n",
       "  border: var(--sklearn-color-fitted-level-3);\n",
       "}\n",
       "\n",
       ".sk-estimator-doc-link:hover span {\n",
       "  display: block;\n",
       "}\n",
       "\n",
       "/* \"?\"-specific style due to the `<a>` HTML tag */\n",
       "\n",
       "#sk-container-id-1 a.estimator_doc_link {\n",
       "  float: right;\n",
       "  font-size: 1rem;\n",
       "  line-height: 1em;\n",
       "  font-family: monospace;\n",
       "  background-color: var(--sklearn-color-background);\n",
       "  border-radius: 1rem;\n",
       "  height: 1rem;\n",
       "  width: 1rem;\n",
       "  text-decoration: none;\n",
       "  /* unfitted */\n",
       "  color: var(--sklearn-color-unfitted-level-1);\n",
       "  border: var(--sklearn-color-unfitted-level-1) 1pt solid;\n",
       "}\n",
       "\n",
       "#sk-container-id-1 a.estimator_doc_link.fitted {\n",
       "  /* fitted */\n",
       "  border: var(--sklearn-color-fitted-level-1) 1pt solid;\n",
       "  color: var(--sklearn-color-fitted-level-1);\n",
       "}\n",
       "\n",
       "/* On hover */\n",
       "#sk-container-id-1 a.estimator_doc_link:hover {\n",
       "  /* unfitted */\n",
       "  background-color: var(--sklearn-color-unfitted-level-3);\n",
       "  color: var(--sklearn-color-background);\n",
       "  text-decoration: none;\n",
       "}\n",
       "\n",
       "#sk-container-id-1 a.estimator_doc_link.fitted:hover {\n",
       "  /* fitted */\n",
       "  background-color: var(--sklearn-color-fitted-level-3);\n",
       "}\n",
       "</style><div id=\"sk-container-id-1\" class=\"sk-top-container\"><div class=\"sk-text-repr-fallback\"><pre>&gt; ------------------------------\n",
       "&gt; FIGS-Fast Interpretable Greedy-Tree Sums:\n",
       "&gt; \tPredictions are made by summing the &quot;Val&quot; reached by traversing each tree.\n",
       "&gt; \tFor classifiers, a sigmoid function is then applied to the sum.\n",
       "&gt; ------------------------------\n",
       "TOT_LVG_AREA &lt;= 3459.500 (Tree #0 root)\n",
       "\tTOT_LVG_AREA &lt;= 2366.500 (split)\n",
       "\t\tTOT_LVG_AREA &lt;= 1741.500 (split)\n",
       "\t\t\tVal: 282555.906 (leaf)\n",
       "\t\t\tVal: 364201.066 (leaf)\n",
       "\t\tCNTR_DIST &lt;= 62929.600 (split)\n",
       "\t\t\tTOT_LVG_AREA &lt;= 2673.500 (split)\n",
       "\t\t\t\tVal: 537428.635 (leaf)\n",
       "\t\t\t\tPARCELNO &lt;= 341290352640.000 (split)\n",
       "\t\t\t\t\tVal: 795166.472 (leaf)\n",
       "\t\t\t\t\tage &lt;= 22.500 (split)\n",
       "\t\t\t\t\t\tVal: 720698.982 (leaf)\n",
       "\t\t\t\t\t\tVal: 536492.418 (leaf)\n",
       "\t\t\tVal: 428883.609 (leaf)\n",
       "\tCNTR_DIST &lt;= 63545.699 (split)\n",
       "\t\tCNTR_DIST &lt;= 33606.201 (split)\n",
       "\t\t\tVal: 1472596.051 (leaf)\n",
       "\t\t\tage &lt;= 21.500 (split)\n",
       "\t\t\t\tVal: 1222548.987 (leaf)\n",
       "\t\t\t\tPARCELNO &lt;= 2050130182144.000 (split)\n",
       "\t\t\t\t\tVal: 994562.759 (leaf)\n",
       "\t\t\t\t\tVal: 668145.231 (leaf)\n",
       "\t\tVal: 641563.107 (leaf)\n",
       "\n",
       "\t+\n",
       "OCEAN_DIST &lt;= 12560.100 (Tree #1 root)\n",
       "\tstructure_quality &lt;= 4.500 (split)\n",
       "\t\tLATITUDE &lt;= 25.618 (split)\n",
       "\t\t\tVal: -17212.669 (leaf)\n",
       "\t\t\tOCEAN_DIST &lt;= 1636.800 (split)\n",
       "\t\t\t\tWATER_DIST &lt;= 118.650 (split)\n",
       "\t\t\t\t\tVal: 1591355.617 (leaf)\n",
       "\t\t\t\t\tVal: 492484.559 (leaf)\n",
       "\t\t\t\tVal: 168881.360 (leaf)\n",
       "\t\tWATER_DIST &lt;= 1409.450 (split)\n",
       "\t\t\tRAIL_DIST &lt;= 4818.850 (split)\n",
       "\t\t\t\tVal: 431370.654 (leaf)\n",
       "\t\t\t\tVal: 675600.187 (leaf)\n",
       "\t\t\tVal: 361837.249 (leaf)\n",
       "\tSUBCNTR_DI &lt;= 10521.450 (split)\n",
       "\t\tVal: 133788.986 (leaf)\n",
       "\t\tSUBCNTR_DI &lt;= 24754.250 (split)\n",
       "\t\t\tLONGITUDE &lt;= -80.189 (split)\n",
       "\t\t\t\tVal: -3466.055 (leaf)\n",
       "\t\t\t\tVal: 277825.035 (leaf)\n",
       "\t\t\tLONGITUDE &lt;= -80.199 (split)\n",
       "\t\t\t\tVal: -59498.220 (leaf)\n",
       "\t\t\t\tVal: 9744.846 (leaf)\n",
       "\n",
       "\t+\n",
       "structure_quality &lt;= 2.500 (Tree #2 root)\n",
       "\tVal: -63423.224 (leaf)\n",
       "\tSPEC_FEAT_VAL &lt;= 44493.500 (split)\n",
       "\t\tVal: 12430.728 (leaf)\n",
       "\t\tTOT_LVG_AREA &lt;= 4531.000 (split)\n",
       "\t\t\tVal: 89342.328 (leaf)\n",
       "\t\t\tVal: 398345.470 (leaf)\n",
       "\n",
       "\t+\n",
       "SPEC_FEAT_VAL &lt;= 27111.500 (Tree #3 root)\n",
       "\tVal: 2097.713 (leaf)\n",
       "\tCNTR_DIST &lt;= 50972.400 (split)\n",
       "\t\tVal: 172645.976 (leaf)\n",
       "\t\tVal: 32613.736 (leaf)\n",
       "\n",
       "\t+\n",
       "LND_SQFOOT &lt;= 8799.500 (Tree #4 root)\n",
       "\tLONGITUDE &lt;= -80.275 (split)\n",
       "\t\tVal: 3981.057 (leaf)\n",
       "\t\tRAIL_DIST &lt;= 24968.950 (split)\n",
       "\t\t\tVal: -55787.103 (leaf)\n",
       "\t\t\tVal: 567929.297 (leaf)\n",
       "\tVal: 28957.006 (leaf)\n",
       "</pre><b>In a Jupyter environment, please rerun this cell to show the HTML representation or trust the notebook. <br />On GitHub, the HTML representation is unable to render, please try loading this page with nbviewer.org.</b></div><div class=\"sk-container\" hidden><div class=\"sk-item\"><div class=\"sk-estimator fitted sk-toggleable\"><input class=\"sk-toggleable__control sk-hidden--visually\" id=\"sk-estimator-id-1\" type=\"checkbox\" checked><label for=\"sk-estimator-id-1\" class=\"sk-toggleable__label fitted sk-toggleable__label-arrow fitted\">&nbsp;FIGSRegressor<span class=\"sk-estimator-doc-link fitted\">i<span>Fitted</span></span></label><div class=\"sk-toggleable__content fitted\"><pre>&gt; ------------------------------\n",
       "&gt; FIGS-Fast Interpretable Greedy-Tree Sums:\n",
       "&gt; \tPredictions are made by summing the &quot;Val&quot; reached by traversing each tree.\n",
       "&gt; \tFor classifiers, a sigmoid function is then applied to the sum.\n",
       "&gt; ------------------------------\n",
       "TOT_LVG_AREA &lt;= 3459.500 (Tree #0 root)\n",
       "\tTOT_LVG_AREA &lt;= 2366.500 (split)\n",
       "\t\tTOT_LVG_AREA &lt;= 1741.500 (split)\n",
       "\t\t\tVal: 282555.906 (leaf)\n",
       "\t\t\tVal: 364201.066 (leaf)\n",
       "\t\tCNTR_DIST &lt;= 62929.600 (split)\n",
       "\t\t\tTOT_LVG_AREA &lt;= 2673.500 (split)\n",
       "\t\t\t\tVal: 537428.635 (leaf)\n",
       "\t\t\t\tPARCELNO &lt;= 341290352640.000 (split)\n",
       "\t\t\t\t\tVal: 795166.472 (leaf)\n",
       "\t\t\t\t\tage &lt;= 22.500 (split)\n",
       "\t\t\t\t\t\tVal: 720698.982 (leaf)\n",
       "\t\t\t\t\t\tVal: 536492.418 (leaf)\n",
       "\t\t\tVal: 428883.609 (leaf)\n",
       "\tCNTR_DIST &lt;= 63545.699 (split)\n",
       "\t\tCNTR_DIST &lt;= 33606.201 (split)\n",
       "\t\t\tVal: 1472596.051 (leaf)\n",
       "\t\t\tage &lt;= 21.500 (split)\n",
       "\t\t\t\tVal: 1222548.987 (leaf)\n",
       "\t\t\t\tPARCELNO &lt;= 2050130182144.000 (split)\n",
       "\t\t\t\t\tVal: 994562.759 (leaf)\n",
       "\t\t\t\t\tVal: 668145.231 (leaf)\n",
       "\t\tVal: 641563.107 (leaf)\n",
       "\n",
       "\t+\n",
       "OCEAN_DIST &lt;= 12560.100 (Tree #1 root)\n",
       "\tstructure_quality &lt;= 4.500 (split)\n",
       "\t\tLATITUDE &lt;= 25.618 (split)\n",
       "\t\t\tVal: -17212.669 (leaf)\n",
       "\t\t\tOCEAN_DIST &lt;= 1636.800 (split)\n",
       "\t\t\t\tWATER_DIST &lt;= 118.650 (split)\n",
       "\t\t\t\t\tVal: 1591355.617 (leaf)\n",
       "\t\t\t\t\tVal: 492484.559 (leaf)\n",
       "\t\t\t\tVal: 168881.360 (leaf)\n",
       "\t\tWATER_DIST &lt;= 1409.450 (split)\n",
       "\t\t\tRAIL_DIST &lt;= 4818.850 (split)\n",
       "\t\t\t\tVal: 431370.654 (leaf)\n",
       "\t\t\t\tVal: 675600.187 (leaf)\n",
       "\t\t\tVal: 361837.249 (leaf)\n",
       "\tSUBCNTR_DI &lt;= 10521.450 (split)\n",
       "\t\tVal: 133788.986 (leaf)\n",
       "\t\tSUBCNTR_DI &lt;= 24754.250 (split)\n",
       "\t\t\tLONGITUDE &lt;= -80.189 (split)\n",
       "\t\t\t\tVal: -3466.055 (leaf)\n",
       "\t\t\t\tVal: 277825.035 (leaf)\n",
       "\t\t\tLONGITUDE &lt;= -80.199 (split)\n",
       "\t\t\t\tVal: -59498.220 (leaf)\n",
       "\t\t\t\tVal: 9744.846 (leaf)\n",
       "\n",
       "\t+\n",
       "structure_quality &lt;= 2.500 (Tree #2 root)\n",
       "\tVal: -63423.224 (leaf)\n",
       "\tSPEC_FEAT_VAL &lt;= 44493.500 (split)\n",
       "\t\tVal: 12430.728 (leaf)\n",
       "\t\tTOT_LVG_AREA &lt;= 4531.000 (split)\n",
       "\t\t\tVal: 89342.328 (leaf)\n",
       "\t\t\tVal: 398345.470 (leaf)\n",
       "\n",
       "\t+\n",
       "SPEC_FEAT_VAL &lt;= 27111.500 (Tree #3 root)\n",
       "\tVal: 2097.713 (leaf)\n",
       "\tCNTR_DIST &lt;= 50972.400 (split)\n",
       "\t\tVal: 172645.976 (leaf)\n",
       "\t\tVal: 32613.736 (leaf)\n",
       "\n",
       "\t+\n",
       "LND_SQFOOT &lt;= 8799.500 (Tree #4 root)\n",
       "\tLONGITUDE &lt;= -80.275 (split)\n",
       "\t\tVal: 3981.057 (leaf)\n",
       "\t\tRAIL_DIST &lt;= 24968.950 (split)\n",
       "\t\t\tVal: -55787.103 (leaf)\n",
       "\t\t\tVal: 567929.297 (leaf)\n",
       "\tVal: 28957.006 (leaf)\n",
       "</pre></div> </div></div></div></div>"
      ],
      "text/plain": [
       "FIGSRegressor(max_rules=30, max_trees=5)"
      ]
     },
     "execution_count": 16,
     "metadata": {},
     "output_type": "execute_result"
    }
   ],
   "source": [
    "fbm.figs"
   ]
  },
  {
   "cell_type": "code",
   "execution_count": 6,
   "id": "aea0f21c-84c8-42d0-863d-26ff237ec975",
   "metadata": {},
   "outputs": [
    {
     "data": {
      "text/plain": [
       "<fourierDistill.FTDistillRegressorCV at 0x7fe04c8eb8e0>"
      ]
     },
     "execution_count": 6,
     "metadata": {},
     "output_type": "execute_result"
    }
   ],
   "source": [
    "ftd = FTDistillRegressorCV(pre_max_features=0.5, post_max_features=fbm.num_interactions, size_interactions = min(fbm.max_interaction_size, 3), re_fit_alpha = 10**np.linspace(-3, 3, 100))\n",
    "ftd.fit(X_train_new, y_train)"
   ]
  },
  {
   "cell_type": "code",
   "execution_count": 7,
   "id": "8bdb2360-1525-4f3b-8343-ef1ae2de4866",
   "metadata": {},
   "outputs": [
    {
     "data": {
      "text/plain": [
       "(0.8099188368235776, 0.8138987483988642)"
      ]
     },
     "execution_count": 7,
     "metadata": {},
     "output_type": "execute_result"
    }
   ],
   "source": [
    "r2_score(y_val, ftd.predict(X_val_new)), r2_score(y_val, fbm.predict(X_val))"
   ]
  },
  {
   "cell_type": "code",
   "execution_count": 8,
   "id": "173766a6-4b21-40ab-9c2b-250fa13296df",
   "metadata": {},
   "outputs": [
    {
     "data": {
      "text/plain": [
       "34"
      ]
     },
     "execution_count": 8,
     "metadata": {},
     "output_type": "execute_result"
    }
   ],
   "source": [
    "len(ftd.post_sparsity_model.coef_)"
   ]
  },
  {
   "cell_type": "code",
   "execution_count": 9,
   "id": "41d1732d-eb82-4ad7-96e3-629065cf0da5",
   "metadata": {},
   "outputs": [
    {
     "data": {
      "text/plain": [
       "Index([                                                          ('TOT_LVG_AREA_>_1741.5',),\n",
       "                                                                ('TOT_LVG_AREA_<=_4531.0',),\n",
       "                                                                  ('LONGITUDE_<=_-80.275',),\n",
       "                                        ('SUBCNTR_DI_<=_24754.25', 'TOT_LVG_AREA_>_1741.5'),\n",
       "                                           ('LONGITUDE_>_-80.189', 'TOT_LVG_AREA_>_2673.5'),\n",
       "                                        ('OCEAN_DIST_<=_12560.1', 'SUBCNTR_DI_<=_24754.25'),\n",
       "                                            ('LONGITUDE_>_-80.189', 'OCEAN_DIST_<=_1636.8'),\n",
       "                                         ('SUBCNTR_DI_<=_10521.45', 'WATER_DIST_<=_118.65'),\n",
       "                                      ('SPEC_FEAT_VAL_>_44493.5', 'SUBCNTR_DI_<=_10521.45'),\n",
       "                                      ('SUBCNTR_DI_<=_24754.25', 'SPEC_FEAT_VAL_>_27111.5'),\n",
       "                                     ('TOT_LVG_AREA_<=_4531.0', 'structure_quality_<=_2.5'),\n",
       "                ('RAIL_DIST_<=_24968.95', 'TOT_LVG_AREA_>_3459.5', 'TOT_LVG_AREA_>_1741.5'),\n",
       "                           ('RAIL_DIST_<=_4818.85', 'age_<=_21.5', 'TOT_LVG_AREA_>_3459.5'),\n",
       "          ('PARCELNO_<=_2050130182144.0', 'OCEAN_DIST_<=_12560.1', 'TOT_LVG_AREA_>_3459.5'),\n",
       "               ('LND_SQFOOT_<=_8799.5', 'structure_quality_>_4.5', 'TOT_LVG_AREA_>_3459.5'),\n",
       "                ('SUBCNTR_DI_<=_10521.45', 'LND_SQFOOT_<=_8799.5', 'TOT_LVG_AREA_>_3459.5'),\n",
       "                ('RAIL_DIST_<=_24968.95', 'TOT_LVG_AREA_>_2366.5', 'TOT_LVG_AREA_>_1741.5'),\n",
       "              ('TOT_LVG_AREA_>_2673.5', 'TOT_LVG_AREA_>_2366.5', 'SPEC_FEAT_VAL_>_27111.5'),\n",
       "              ('structure_quality_>_4.5', 'TOT_LVG_AREA_>_2673.5', 'TOT_LVG_AREA_>_1741.5'),\n",
       "                        ('structure_quality_>_4.5', 'age_<=_22.5', 'TOT_LVG_AREA_>_1741.5'),\n",
       "                ('WATER_DIST_<=_1409.45', 'OCEAN_DIST_<=_12560.1', 'TOT_LVG_AREA_>_1741.5'),\n",
       "                  ('LONGITUDE_>_-80.189', 'OCEAN_DIST_<=_12560.1', 'TOT_LVG_AREA_>_1741.5'),\n",
       "                 ('OCEAN_DIST_<=_1636.8', 'WATER_DIST_<=_1409.45', 'TOT_LVG_AREA_>_1741.5'),\n",
       "              ('SUBCNTR_DI_<=_10521.45', 'SUBCNTR_DI_<=_24754.25', 'TOT_LVG_AREA_>_1741.5'),\n",
       "                      ('structure_quality_>_4.5', 'age_<=_22.5', 'SPEC_FEAT_VAL_>_27111.5'),\n",
       "                        ('SPEC_FEAT_VAL_>_44493.5', 'WATER_DIST_<=_1409.45', 'age_<=_22.5'),\n",
       "       ('PARCELNO_<=_2050130182144.0', 'structure_quality_>_4.5', 'SUBCNTR_DI_<=_24754.25'),\n",
       "                  ('LONGITUDE_>_-80.189', 'SUBCNTR_DI_<=_24754.25', 'WATER_DIST_<=_118.65'),\n",
       "                ('LONGITUDE_>_-80.189', 'WATER_DIST_<=_1409.45', 'SPEC_FEAT_VAL_>_27111.5'),\n",
       "                  ('WATER_DIST_<=_1409.45', 'CNTR_DIST_>_50972.4', 'RAIL_DIST_<=_24968.95'),\n",
       "                  ('LONGITUDE_>_-80.189', 'SUBCNTR_DI_<=_10521.45', 'LND_SQFOOT_<=_8799.5'),\n",
       "                 ('LND_SQFOOT_<=_8799.5', 'LONGITUDE_<=_-80.199', 'TOT_LVG_AREA_<=_4531.0'),\n",
       "             ('LND_SQFOOT_<=_8799.5', 'TOT_LVG_AREA_<=_4531.0', 'structure_quality_<=_2.5')],\n",
       "      dtype='object')"
      ]
     },
     "execution_count": 9,
     "metadata": {},
     "output_type": "execute_result"
    }
   ],
   "source": [
    "ftd.post_interaction_features"
   ]
  },
  {
   "cell_type": "code",
   "execution_count": 10,
   "id": "36eaa215-3270-470b-ae44-09f7302174de",
   "metadata": {},
   "outputs": [],
   "source": [
    "interactions = []\n",
    "figs_weight_dict = {}\n",
    "for i, tree in enumerate(fbm.figs_rules):\n",
    "        for interaction_weight in tree:\n",
    "            interaction, weight = interaction_weight\n",
    "            cur_interaction = []\n",
    "            for rule, sign in interaction:\n",
    "                if sign == 'flip':\n",
    "                    cur_interaction.append(f'{rule.feature_names[rule.feature]}_>_{str(round(rule.threshold, 3))}')\n",
    "                elif sign == 'original':\n",
    "                    cur_interaction.append(f'{rule.feature_names[rule.feature]}_<=_{str(round(rule.threshold, 3))}')\n",
    "                else:\n",
    "                    print('?')\n",
    "            figs_weight_dict[tuple(cur_interaction)] = weight\n",
    "            interactions.append([cur_interaction, weight])"
   ]
  },
  {
   "cell_type": "code",
   "execution_count": 11,
   "id": "7bb18293-341d-4575-a568-6c8cdece8f97",
   "metadata": {},
   "outputs": [],
   "source": [
    "def make_figs_lm_df(X, interactions):\n",
    "    df = pd.DataFrame()\n",
    "    for interaction, weigth in interactions:\n",
    "        cur_val = 1\n",
    "        for inter in interaction:\n",
    "            cur_val *= X[inter]\n",
    "        df[tuple(interaction)] = cur_val.values\n",
    "    return df"
   ]
  },
  {
   "cell_type": "code",
   "execution_count": 12,
   "id": "71716c39-a5e7-43a6-9d40-7bb64464977b",
   "metadata": {},
   "outputs": [],
   "source": [
    "def figs_lm_predict(X, figs_weight_dict):\n",
    "    pred_sum = 0 \n",
    "    for interaction in figs_weight_dict.keys():\n",
    "        pred_sum += figs_weight_dict[interaction] * X[interaction]\n",
    "    return pred_sum\n"
   ]
  },
  {
   "cell_type": "code",
   "execution_count": 13,
   "id": "bca8c7ca-b3fb-4c09-9960-b40fbf7e6b08",
   "metadata": {},
   "outputs": [
    {
     "data": {
      "text/plain": [
       "[('TOT_LVG_AREA_>_3459.5', 'CNTR_DIST_>_63545.699'),\n",
       " ('TOT_LVG_AREA_>_3459.5',\n",
       "  'CNTR_DIST_<=_63545.699',\n",
       "  'CNTR_DIST_>_33606.201',\n",
       "  'age_>_21.5',\n",
       "  'PARCELNO_>_2050130182144.0'),\n",
       " ('TOT_LVG_AREA_>_3459.5',\n",
       "  'CNTR_DIST_<=_63545.699',\n",
       "  'CNTR_DIST_>_33606.201',\n",
       "  'age_>_21.5',\n",
       "  'PARCELNO_<=_2050130182144.0'),\n",
       " ('TOT_LVG_AREA_>_3459.5',\n",
       "  'CNTR_DIST_<=_63545.699',\n",
       "  'CNTR_DIST_>_33606.201',\n",
       "  'age_<=_21.5'),\n",
       " ('TOT_LVG_AREA_>_3459.5', 'CNTR_DIST_<=_63545.699', 'CNTR_DIST_<=_33606.201'),\n",
       " ('TOT_LVG_AREA_<=_3459.5', 'TOT_LVG_AREA_>_2366.5', 'CNTR_DIST_>_62929.6'),\n",
       " ('TOT_LVG_AREA_<=_3459.5',\n",
       "  'TOT_LVG_AREA_>_2366.5',\n",
       "  'CNTR_DIST_<=_62929.6',\n",
       "  'TOT_LVG_AREA_>_2673.5',\n",
       "  'PARCELNO_>_341290352640.0',\n",
       "  'age_>_22.5'),\n",
       " ('TOT_LVG_AREA_<=_3459.5',\n",
       "  'TOT_LVG_AREA_>_2366.5',\n",
       "  'CNTR_DIST_<=_62929.6',\n",
       "  'TOT_LVG_AREA_>_2673.5',\n",
       "  'PARCELNO_>_341290352640.0',\n",
       "  'age_<=_22.5'),\n",
       " ('TOT_LVG_AREA_<=_3459.5',\n",
       "  'TOT_LVG_AREA_>_2366.5',\n",
       "  'CNTR_DIST_<=_62929.6',\n",
       "  'TOT_LVG_AREA_>_2673.5',\n",
       "  'PARCELNO_<=_341290352640.0'),\n",
       " ('TOT_LVG_AREA_<=_3459.5',\n",
       "  'TOT_LVG_AREA_>_2366.5',\n",
       "  'CNTR_DIST_<=_62929.6',\n",
       "  'TOT_LVG_AREA_<=_2673.5'),\n",
       " ('TOT_LVG_AREA_<=_3459.5', 'TOT_LVG_AREA_<=_2366.5', 'TOT_LVG_AREA_>_1741.5'),\n",
       " ('TOT_LVG_AREA_<=_3459.5',\n",
       "  'TOT_LVG_AREA_<=_2366.5',\n",
       "  'TOT_LVG_AREA_<=_1741.5'),\n",
       " ('OCEAN_DIST_>_12560.1',\n",
       "  'SUBCNTR_DI_>_10521.45',\n",
       "  'SUBCNTR_DI_>_24754.25',\n",
       "  'LONGITUDE_>_-80.199'),\n",
       " ('OCEAN_DIST_>_12560.1',\n",
       "  'SUBCNTR_DI_>_10521.45',\n",
       "  'SUBCNTR_DI_>_24754.25',\n",
       "  'LONGITUDE_<=_-80.199'),\n",
       " ('OCEAN_DIST_>_12560.1',\n",
       "  'SUBCNTR_DI_>_10521.45',\n",
       "  'SUBCNTR_DI_<=_24754.25',\n",
       "  'LONGITUDE_>_-80.189'),\n",
       " ('OCEAN_DIST_>_12560.1',\n",
       "  'SUBCNTR_DI_>_10521.45',\n",
       "  'SUBCNTR_DI_<=_24754.25',\n",
       "  'LONGITUDE_<=_-80.189'),\n",
       " ('OCEAN_DIST_>_12560.1', 'SUBCNTR_DI_<=_10521.45'),\n",
       " ('OCEAN_DIST_<=_12560.1', 'structure_quality_>_4.5', 'WATER_DIST_>_1409.45'),\n",
       " ('OCEAN_DIST_<=_12560.1',\n",
       "  'structure_quality_>_4.5',\n",
       "  'WATER_DIST_<=_1409.45',\n",
       "  'RAIL_DIST_>_4818.85'),\n",
       " ('OCEAN_DIST_<=_12560.1',\n",
       "  'structure_quality_>_4.5',\n",
       "  'WATER_DIST_<=_1409.45',\n",
       "  'RAIL_DIST_<=_4818.85'),\n",
       " ('OCEAN_DIST_<=_12560.1',\n",
       "  'structure_quality_<=_4.5',\n",
       "  'LATITUDE_>_25.618',\n",
       "  'OCEAN_DIST_>_1636.8'),\n",
       " ('OCEAN_DIST_<=_12560.1',\n",
       "  'structure_quality_<=_4.5',\n",
       "  'LATITUDE_>_25.618',\n",
       "  'OCEAN_DIST_<=_1636.8',\n",
       "  'WATER_DIST_>_118.65'),\n",
       " ('OCEAN_DIST_<=_12560.1',\n",
       "  'structure_quality_<=_4.5',\n",
       "  'LATITUDE_>_25.618',\n",
       "  'OCEAN_DIST_<=_1636.8',\n",
       "  'WATER_DIST_<=_118.65'),\n",
       " ('OCEAN_DIST_<=_12560.1', 'structure_quality_<=_4.5', 'LATITUDE_<=_25.618'),\n",
       " ('structure_quality_>_2.5',\n",
       "  'SPEC_FEAT_VAL_>_44493.5',\n",
       "  'TOT_LVG_AREA_>_4531.0'),\n",
       " ('structure_quality_>_2.5',\n",
       "  'SPEC_FEAT_VAL_>_44493.5',\n",
       "  'TOT_LVG_AREA_<=_4531.0'),\n",
       " ('structure_quality_>_2.5', 'SPEC_FEAT_VAL_<=_44493.5'),\n",
       " ('structure_quality_<=_2.5',),\n",
       " ('SPEC_FEAT_VAL_>_27111.5', 'CNTR_DIST_>_50972.4'),\n",
       " ('SPEC_FEAT_VAL_>_27111.5', 'CNTR_DIST_<=_50972.4'),\n",
       " ('SPEC_FEAT_VAL_<=_27111.5',),\n",
       " ('LND_SQFOOT_>_8799.5',),\n",
       " ('LND_SQFOOT_<=_8799.5', 'LONGITUDE_>_-80.275', 'RAIL_DIST_>_24968.95'),\n",
       " ('LND_SQFOOT_<=_8799.5', 'LONGITUDE_>_-80.275', 'RAIL_DIST_<=_24968.95'),\n",
       " ('LND_SQFOOT_<=_8799.5', 'LONGITUDE_<=_-80.275')]"
      ]
     },
     "execution_count": 13,
     "metadata": {},
     "output_type": "execute_result"
    }
   ],
   "source": [
    "[tuple(inter) for inter, weight in interactions]"
   ]
  },
  {
   "cell_type": "code",
   "execution_count": 14,
   "id": "ca0553eb-0acf-420e-b508-8f7fc9966e7a",
   "metadata": {},
   "outputs": [],
   "source": [
    "def figs_lm_get_coef(X):\n",
    "    coefs = []\n",
    "    for col in X.columns:\n",
    "        coefs.append(figs_weight_dict[col])\n",
    "    return np.array(coefs)\n"
   ]
  },
  {
   "cell_type": "code",
   "execution_count": 15,
   "id": "fba5825c-20db-48ba-8740-5170973a8303",
   "metadata": {},
   "outputs": [
    {
     "ename": "NameError",
     "evalue": "name 'figs_lm_train' is not defined",
     "output_type": "error",
     "traceback": [
      "\u001b[0;31m---------------------------------------------------------------------------\u001b[0m",
      "\u001b[0;31mNameError\u001b[0m                                 Traceback (most recent call last)",
      "Input \u001b[0;32mIn [15]\u001b[0m, in \u001b[0;36m<cell line: 1>\u001b[0;34m()\u001b[0m\n\u001b[0;32m----> 1\u001b[0m figs_lm_coefs \u001b[38;5;241m=\u001b[39m figs_lm_get_coef(\u001b[43mfigs_lm_train\u001b[49m)\n",
      "\u001b[0;31mNameError\u001b[0m: name 'figs_lm_train' is not defined"
     ]
    }
   ],
   "source": [
    "figs_lm_coefs = figs_lm_get_coef(figs_lm_train)"
   ]
  },
  {
   "cell_type": "code",
   "execution_count": null,
   "id": "a13551c3-98da-48d4-a197-af16706f44e3",
   "metadata": {},
   "outputs": [],
   "source": [
    "def solve_lambda(X, y, beta):\n",
    "    A = X.T @ X\n",
    "    b = X.T @ y\n",
    "    #lambda_vec = (b - A @ beta) / beta\n",
    "    lambdas = []\n",
    "    for i, lam in enumerate(b- A@beta):\n",
    "        lambdas.append(lam/beta[i])\n",
    "    return np.array(lambdas)\n",
    "\n",
    "lambda_vec = solve_lambda(figs_lm_train.values, y_train.values, figs_lm_coefs)"
   ]
  },
  {
   "cell_type": "code",
   "execution_count": null,
   "id": "f543d014-a0d9-424d-b319-c9889fbc0240",
   "metadata": {},
   "outputs": [],
   "source": [
    "np.round(lambda_vec, 3)"
   ]
  },
  {
   "cell_type": "code",
   "execution_count": null,
   "id": "5ecfb6b2-765b-4c4b-a5b1-72b4851bc90c",
   "metadata": {},
   "outputs": [],
   "source": [
    "figs_lm_train = make_figs_lm_df(X_train_new, interactions)"
   ]
  },
  {
   "cell_type": "code",
   "execution_count": null,
   "id": "79315be2-5b16-4b0e-a9d0-76274f4c9fb4",
   "metadata": {},
   "outputs": [],
   "source": [
    "len(pd.Series(fbm.predict(X_train), name = 'figs_preds').value_counts())"
   ]
  },
  {
   "cell_type": "code",
   "execution_count": null,
   "id": "d5ffcb8f-4008-4fe6-8724-15c48029a4a7",
   "metadata": {},
   "outputs": [],
   "source": [
    "np.where(figs_lm_predict(figs_lm_train, figs_weight_dict).to_numpy() != fbm.predict(X_train))"
   ]
  },
  {
   "cell_type": "code",
   "execution_count": null,
   "id": "c89fd06a-5458-4804-83eb-ed0d20672314",
   "metadata": {},
   "outputs": [],
   "source": [
    "figs_lm_predict(figs_lm_train, figs_weight_dict).to_numpy()[7803], fbm.predict(X_train)[7803]"
   ]
  },
  {
   "cell_type": "code",
   "execution_count": null,
   "id": "9393ec19-9c77-4f5c-baaa-c0c0dbfb0d54",
   "metadata": {},
   "outputs": [],
   "source": [
    "np.mean(abs(figs_lm_predict(figs_lm_train, figs_weight_dict).to_numpy() - fbm.predict(X_train))< 1)"
   ]
  },
  {
   "cell_type": "code",
   "execution_count": null,
   "id": "bc7f4473-b149-42d6-87e7-8598417b8ddf",
   "metadata": {},
   "outputs": [],
   "source": [
    "fbm.predict(X_train)"
   ]
  },
  {
   "cell_type": "code",
   "execution_count": null,
   "id": "8ebc113f-a6fc-4df3-b730-9b50effbe62e",
   "metadata": {},
   "outputs": [],
   "source": [
    "[tuple([f'{xi[0].feature_names[xi[0].feature]}_<=_{str(xi[0].threshold)}' if xi[1] == 'original' else f'{xi[0].feature_names[xi[0].feature]}_>_{str(xi[0].threshold)}'  for xi in x]) for x in t2]"
   ]
  },
  {
   "cell_type": "code",
   "execution_count": null,
   "id": "b2b84cf6-7247-477b-bd04-14197126adf1",
   "metadata": {},
   "outputs": [],
   "source": []
  },
  {
   "cell_type": "code",
   "execution_count": null,
   "id": "13ef8442-daaf-4678-95aa-309968600ff4",
   "metadata": {},
   "outputs": [],
   "source": [
    "t2 = [tuple(xi[0]) for x in t for xi in x]\n",
    "\n",
    "df = pd.DataFrame(columns = sorted([tuple([f'{xi[0].feature_names[xi[0].feature]}_<=_{str(xi[0].threshold)}' if xi[1] == 'original' else f'{xi[0].feature_names[xi[0].feature]}_>_{str(xi[0].threshold)}'  for xi in x]) for x in t2], key = len))\n",
    "df.columns"
   ]
  },
  {
   "cell_type": "code",
   "execution_count": null,
   "id": "814cac60-de8a-41a2-822e-83b56373aff9",
   "metadata": {},
   "outputs": [],
   "source": [
    "figs_paths = sorted([tuple([f'{xi[0].feature_names[xi[0].feature]}_<=_{str(xi[0].threshold)}' if xi[1] == 'original' else f'{xi[0].feature_names[xi[0].feature]}_>_{str(xi[0].threshold)}'  for xi in x]) for x in t2], key = len)\n",
    "figs_sorted = [sorted(fp) for fp in figs_paths]"
   ]
  },
  {
   "cell_type": "code",
   "execution_count": null,
   "id": "08976972-45ca-4643-82c7-7b6efdf811d0",
   "metadata": {},
   "outputs": [],
   "source": [
    "ftd_paths = ftd.post_interaction_features\n",
    "ftd_sorted = [sorted(fp) for fp in ftd_paths]"
   ]
  },
  {
   "cell_type": "code",
   "execution_count": null,
   "id": "3b0b93ca-d416-4def-9568-bc0f1f400d6c",
   "metadata": {},
   "outputs": [],
   "source": [
    "len(figs_sorted), len(ftd_sorted)"
   ]
  },
  {
   "cell_type": "code",
   "execution_count": null,
   "id": "e976be8f-1c4d-45ac-8836-d63b423e7d28",
   "metadata": {},
   "outputs": [],
   "source": [
    "np.sum([o == t for o in figs_sorted for t in ftd_sorted])"
   ]
  },
  {
   "cell_type": "code",
   "execution_count": null,
   "id": "e15d23c1-006c-48e4-95cd-523c46f8e6ba",
   "metadata": {},
   "outputs": [],
   "source": [
    "t2 = [tuple(xi[0]) for x in fbm.figs_rules for xi in x]\n",
    "\n",
    "figs_paths = sorted([tuple([f'{xi[0].feature_names[xi[0].feature]}_<=_{str(xi[0].threshold)}' if xi[1] == 'original' else f'{xi[0].feature_names[xi[0].feature]}_>_{str(xi[0].threshold)}'  for xi in x]) for x in t2], key=len)\n",
    "ftd_paths = ftd.post_interaction_features\n",
    "                     \n",
    "list1 = [set(fp) for fp in figs_paths]\n",
    "list2 = [set(fp) for fp in ftd_paths]\n",
    "frozensets_list1 = set(frozenset(s) for s in list1)\n",
    "frozensets_list2 = set(frozenset(s) for s in list2)\n",
    "\n",
    "# Step 2: Find the intersection of the two sets\n",
    "common_frozensets = frozensets_list1.intersection(frozensets_list2)\n",
    "\n",
    "# Step 3: Count the number of elements in the intersection\n",
    "common_count = len(common_frozensets)\n",
    "\n",
    "print(f\"Number of common sets: {common_count}\")\n"
   ]
  },
  {
   "cell_type": "code",
   "execution_count": null,
   "id": "b88ef33d-95dc-498b-ab5f-b31480dc8492",
   "metadata": {},
   "outputs": [],
   "source": [
    "[set(fp) for fp in ftd_paths]"
   ]
  },
  {
   "cell_type": "code",
   "execution_count": null,
   "id": "b8a0c9f1-27bc-4aeb-8537-a2c2fd23d531",
   "metadata": {},
   "outputs": [],
   "source": [
    "if ftd.pre_interaction_model is not None:\n",
    "    X_cur = X_train_new[ftd.pre_interaction_features]\n",
    "\n",
    "poly_features = list(map(lambda s: set(s.split()), ftd.poly.get_feature_names_out(X_cur.columns)))\n",
    "        \n",
    "Chi = pd.DataFrame(ftd.poly.transform(X_cur), columns=list(map(lambda f: tuple(f), poly_features))).loc[:, ftd.features]\n",
    "\n",
    "Chi.drop(columns = [('1',)], inplace=True)\n",
    "\n",
    "if ftd.re_fit_alpha is not None:\n",
    "    Chi[('1',)] = 1\n",
    "    Chi = Chi[np.array([('1',)]+list(ftd.post_interaction_features), dtype=object)]"
   ]
  },
  {
   "cell_type": "code",
   "execution_count": null,
   "id": "8053747c-316e-493a-a4dc-372382d4f2fe",
   "metadata": {},
   "outputs": [],
   "source": [
    "new_coefs = []\n",
    "for i in Chi.columns:\n",
    "    new_coefs.append(np.sum(Chi[i] * y_train)/np.sum(Chi[i]))\n",
    "new_coefs = np.array(new_coefs)"
   ]
  },
  {
   "cell_type": "code",
   "execution_count": null,
   "id": "176e4092-bd88-4db6-afa1-8a680ce608f4",
   "metadata": {},
   "outputs": [],
   "source": [
    "new_coefs, ftd.post_sparsity_model.coef_"
   ]
  },
  {
   "cell_type": "code",
   "execution_count": null,
   "id": "745157e3-2087-4dfc-99a2-a8fece638a9b",
   "metadata": {},
   "outputs": [],
   "source": [
    "Chi @new_coefs, y_train"
   ]
  },
  {
   "cell_type": "code",
   "execution_count": null,
   "id": "cc4bcedd-a986-4b5d-b544-bc4c2b7a9ee3",
   "metadata": {},
   "outputs": [],
   "source": [
    "r2_score(y_train, Chi @new_coefs)"
   ]
  },
  {
   "cell_type": "code",
   "execution_count": null,
   "id": "141ca29f-8b9b-4e2c-9327-375a69667677",
   "metadata": {},
   "outputs": [],
   "source": [
    "r2_score(y_train, fbm.figs.predict(X_train)), r2_score(y_train, ftd.predict(X_train_new))"
   ]
  },
  {
   "cell_type": "code",
   "execution_count": null,
   "id": "6d7cdc1c-2554-434d-85d7-283b5c6085be",
   "metadata": {},
   "outputs": [],
   "source": [
    "r2_score(y_val, fbm.figs.predict(X_val)), r2_score(y_val, ftd.predict(X_val_new))"
   ]
  },
  {
   "cell_type": "code",
   "execution_count": null,
   "id": "62a97090-0f0e-463a-a3b3-79c7e3e9d6d9",
   "metadata": {},
   "outputs": [],
   "source": [
    "r2_score(y_test, fbm.figs.predict(X_test)), r2_score(y_test, ftd.predict(X_test_new))"
   ]
  },
  {
   "cell_type": "code",
   "execution_count": null,
   "id": "88da7747-a73f-4126-8bc3-674ff7b29f9a",
   "metadata": {},
   "outputs": [],
   "source": [
    "def process_figs_splits(figs):\n",
    "    figs_rc = [traverse_paths(t) for t in figs.trees_]\n",
    "    print(figs_rc)\n",
    "    #figs_r = [r for r, c in figs_rc]\n",
    "    figs_rules = [x for xs in figs_rc for x in xs]\n",
    "    return figs_rules"
   ]
  },
  {
   "cell_type": "code",
   "execution_count": null,
   "id": "e8b381e4-6e41-480e-a9a3-47b7970a0c5a",
   "metadata": {},
   "outputs": [],
   "source": [
    "t = process_figs_splits(figs)\n",
    "t"
   ]
  },
  {
   "cell_type": "code",
   "execution_count": null,
   "id": "480288dc-7b77-458c-aef4-e6c4c012a1f4",
   "metadata": {},
   "outputs": [],
   "source": [
    "ftd = FTDistillRegressorCV(pre_interaction=None, post_max_features=10)\n",
    "ftd.fit(X_train_new, y_train)"
   ]
  },
  {
   "cell_type": "code",
   "execution_count": null,
   "id": "42737869-0a58-4b1e-aaac-a4944c7a4b80",
   "metadata": {},
   "outputs": [],
   "source": [
    "figs = FIGSRegressor(max_rules = 17, max_trees = 10)\n",
    "figs.fit(X_train_new, y_train, feature_names = list(X_train_new.columns))"
   ]
  },
  {
   "cell_type": "code",
   "execution_count": null,
   "id": "20ff95aa-bbc4-422a-bc0d-1859e45793e1",
   "metadata": {},
   "outputs": [],
   "source": [
    "len(figs.trees_)"
   ]
  },
  {
   "cell_type": "code",
   "execution_count": null,
   "id": "b7ed1bca-6a7e-4fb5-b401-7f70b65908ae",
   "metadata": {
    "tags": []
   },
   "outputs": [],
   "source": [
    "figs_rules = [traverse_paths(t) for t in figs.trees_]"
   ]
  },
  {
   "cell_type": "code",
   "execution_count": null,
   "id": "677d467b-1ee1-4a54-86f1-a22cab876ffa",
   "metadata": {},
   "outputs": [],
   "source": [
    "figs_rules"
   ]
  },
  {
   "cell_type": "code",
   "execution_count": null,
   "id": "e5ae0f34-d71f-48fc-8dd0-4b12c8962630",
   "metadata": {},
   "outputs": [],
   "source": [
    "figs_rules = [\n",
    "    x\n",
    "    for xs in figs_rules\n",
    "    for x in xs\n",
    "]"
   ]
  },
  {
   "cell_type": "code",
   "execution_count": null,
   "id": "6f5542d9-7427-4574-a5c5-65760fbd4441",
   "metadata": {},
   "outputs": [],
   "source": [
    "len(figs_rules)"
   ]
  },
  {
   "cell_type": "code",
   "execution_count": null,
   "id": "0ecfd5b7-5f1b-470f-b6fb-68545c50e5e7",
   "metadata": {},
   "outputs": [],
   "source": [
    "figs_rules"
   ]
  },
  {
   "cell_type": "code",
   "execution_count": null,
   "id": "2409b6a0-263d-47c5-a134-79b2ecd9d68e",
   "metadata": {},
   "outputs": [],
   "source": [
    "paths = []\n",
    "weights = []\n",
    "for path, weight in figs_rules:\n",
    "    cur_path = []\n",
    "    for stop in path:\n",
    "        cur_path.append(stop.feature_names[stop.feature])\n",
    "    paths.append(tuple(cur_path))\n",
    "    weights.append(weight)"
   ]
  },
  {
   "cell_type": "code",
   "execution_count": null,
   "id": "f4e044c9-44df-43c2-9e29-28712ba086ce",
   "metadata": {},
   "outputs": [],
   "source": [
    "'AJKD'.lower()"
   ]
  },
  {
   "cell_type": "code",
   "execution_count": null,
   "id": "dad5f81a-edc0-44fd-bf86-d85587616666",
   "metadata": {
    "tags": []
   },
   "outputs": [],
   "source": [
    "figs_int = sorted(paths, key=lambda x: (len(x), x[0].lower()))"
   ]
  },
  {
   "cell_type": "code",
   "execution_count": null,
   "id": "63973d6b-684f-4f30-b956-bb23c9622f5b",
   "metadata": {},
   "outputs": [],
   "source": [
    "ftd_int = sorted(list(ftd.post_interaction_features), key=lambda x: (len(x), x[0].lower()))"
   ]
  },
  {
   "cell_type": "code",
   "execution_count": null,
   "id": "2ef3bce3-c171-48bb-81c8-5911bb490474",
   "metadata": {},
   "outputs": [],
   "source": [
    "[sorted(f) for f in figs_int]"
   ]
  },
  {
   "cell_type": "code",
   "execution_count": null,
   "id": "14ca861f-e270-4d78-9b16-61b5cbe7969a",
   "metadata": {},
   "outputs": [],
   "source": [
    "[sorted(f) for f in ftd_int]"
   ]
  },
  {
   "cell_type": "code",
   "execution_count": null,
   "id": "203d8d37-1dcc-4a55-9c14-28a81b4d3741",
   "metadata": {},
   "outputs": [],
   "source": [
    "sum([x == y for x in figs_int for y in ftd_int])"
   ]
  },
  {
   "cell_type": "code",
   "execution_count": null,
   "id": "fc71818f-5e51-46fd-8730-2122dbd777ad",
   "metadata": {},
   "outputs": [],
   "source": [
    "flat_figs_int = [s for t in figs_int for s in t]\n",
    "flat_ftd_int = [s for t in ftd_int for s in t]\n",
    "print(f'FIGS unique: {sorted(list(set(flat_figs_int)))}')\n",
    "print(f'FT Distill unique: {sorted(list(set(flat_ftd_int)))}')"
   ]
  },
  {
   "cell_type": "code",
   "execution_count": null,
   "id": "85f58974-59d8-4bb2-863d-8bfb3d2eb581",
   "metadata": {},
   "outputs": [],
   "source": [
    "from sklearn.metrics import r2_score"
   ]
  },
  {
   "cell_type": "code",
   "execution_count": null,
   "id": "d55e8db6-ef56-4d83-9c2e-065db90be32b",
   "metadata": {},
   "outputs": [],
   "source": [
    "print(r2_score(y_val, ftd.predict(X_val_new)))\n",
    "print(r2_score(y_val, figs.predict(X_val_new)))"
   ]
  },
  {
   "cell_type": "code",
   "execution_count": null,
   "id": "cc4bed8a-6cf7-4094-a9e2-21ac43fa731d",
   "metadata": {},
   "outputs": [],
   "source": [
    "print(r2_score(y_train, ftd.predict(X_train_new)))\n",
    "print(r2_score(y_train, figs.predict(X_train_new)))"
   ]
  },
  {
   "cell_type": "code",
   "execution_count": null,
   "id": "e7db73aa-4a37-4928-ac89-a09bec3d4653",
   "metadata": {},
   "outputs": [],
   "source": [
    "len(sorted(list(set(flat_figs_int))))"
   ]
  },
  {
   "cell_type": "code",
   "execution_count": null,
   "id": "f070c182-909f-4663-95bf-d5dd3f8c8a76",
   "metadata": {},
   "outputs": [],
   "source": [
    "len(sorted(list(set(flat_ftd_int))))"
   ]
  },
  {
   "cell_type": "code",
   "execution_count": null,
   "id": "0d931361-44ce-4839-883b-57cc43250391",
   "metadata": {},
   "outputs": [],
   "source": [
    "len(list(set(flat_figs_int + flat_ftd_int)))"
   ]
  },
  {
   "cell_type": "code",
   "execution_count": null,
   "id": "80779142-cac7-4f2f-82a5-5bef6cdc11bc",
   "metadata": {},
   "outputs": [],
   "source": [
    "set(flat_figs_int) - set.intersection(set(flat_figs_int), set(flat_ftd_int))"
   ]
  },
  {
   "cell_type": "code",
   "execution_count": null,
   "id": "cc6d4173-2b29-471c-b281-a86bf9c849ca",
   "metadata": {},
   "outputs": [],
   "source": [
    "'CNTR_DIST_region2',\n",
    " 'SPEC_FEAT_VAL_region3',\n",
    " 'SPEC_FEAT_VAL_region4',\n",
    " 'SUBCNTR_DI_region2',\n",
    " 'WATER_DIST_region1',\n",
    " 'avno60plus_0',\n",
    " 'structure_quality_4'"
   ]
  },
  {
   "cell_type": "code",
   "execution_count": null,
   "id": "f2f2104c-c047-479c-9e64-b426a0522b70",
   "metadata": {},
   "outputs": [],
   "source": [
    "len(set(flat_figs_int))"
   ]
  },
  {
   "cell_type": "code",
   "execution_count": null,
   "id": "ac890840-ab84-4f83-b28c-525a677bd155",
   "metadata": {},
   "outputs": [],
   "source": [
    "set.intersection(set(flat_figs_int), set(flat_ftd_int))"
   ]
  },
  {
   "cell_type": "code",
   "execution_count": null,
   "id": "080c21aa-2628-48ff-bab6-ad6ce2ff7a18",
   "metadata": {},
   "outputs": [],
   "source": [
    "import seaborn as sns\n",
    "\n",
    "corr = X_train_new.corr()\n",
    "\n",
    "# plot the heatmap\n",
    "sns.heatmap(corr)\n",
    "\n",
    "plt.title('Correlation Matrix of GMM BM miami_housing Dataset')\n",
    "plt.savefig('figs/corr.png', bbox_inches='tight')"
   ]
  },
  {
   "cell_type": "code",
   "execution_count": null,
   "id": "cf996de8-a8ff-4c3a-b11c-904cbf679eb3",
   "metadata": {},
   "outputs": [],
   "source": [
    "sns.heatmap(corr > 0.75)\n",
    "plt.title('Heatmap Correlation Matrix > 0.75 of GMM BM miami_housing Dataset')\n",
    "plt.savefig('figs/corr_0.75.png', bbox_inches='tight')"
   ]
  },
  {
   "cell_type": "code",
   "execution_count": null,
   "id": "9ffecd5c-8412-4827-a4ff-d542d13f982b",
   "metadata": {},
   "outputs": [],
   "source": [
    "corr = [(X_train_new.columns[t[0]], X_train_new.columns[t[1]]) for t in zip(np.where(corr > 0.5)[0], np.where(corr > 0.5)[1]) if t[0] != t[1]]"
   ]
  },
  {
   "cell_type": "code",
   "execution_count": null,
   "id": "78a3db82-bbec-4dd6-870b-1d5fc2e23c36",
   "metadata": {},
   "outputs": [],
   "source": [
    "corr = sorted(corr, key= lambda x: x[0])\n",
    "corr"
   ]
  },
  {
   "cell_type": "code",
   "execution_count": null,
   "id": "e2d8656d-ee88-4152-852a-bcd1fd91d19f",
   "metadata": {},
   "outputs": [],
   "source": [
    "np.where(abs(corr) > 0.6)[0]"
   ]
  },
  {
   "cell_type": "code",
   "execution_count": null,
   "id": "17eade09-c2df-4f3c-82f5-80ae4425f540",
   "metadata": {},
   "outputs": [],
   "source": [
    "import pyreadr\n",
    "\n",
    "result = pyreadr.read_r('/home/mattyshen/interpretableDistillation/interpretDistill/data/enhancer.Rdata') # also works for Rds\n",
    "\n",
    "# done! let's see what we got"
   ]
  },
  {
   "cell_type": "code",
   "execution_count": null,
   "id": "32e016da-3e9a-4f1c-b0da-ba15e4d5f892",
   "metadata": {},
   "outputs": [],
   "source": [
    "t = + 0\n",
    "for col in result['X']:\n",
    "    uv = result['X'][col].unique()\n",
    "    t += len(uv)\n",
    "    "
   ]
  },
  {
   "cell_type": "code",
   "execution_count": null,
   "id": "1cabe702-836e-4bc6-a86d-eef07b3e7f65",
   "metadata": {},
   "outputs": [],
   "source": [
    "result.keys()"
   ]
  },
  {
   "cell_type": "code",
   "execution_count": null,
   "id": "e02500ce-fda6-438c-a03b-eb7524b07513",
   "metadata": {},
   "outputs": [],
   "source": [
    "t"
   ]
  },
  {
   "cell_type": "code",
   "execution_count": null,
   "id": "f28a18c6-21c5-4e2c-a1a5-77e4beb684c0",
   "metadata": {},
   "outputs": [],
   "source": []
  }
 ],
 "metadata": {
  "kernelspec": {
   "display_name": "Python 3 (ipykernel)",
   "language": "python",
   "name": "python3"
  },
  "language_info": {
   "codemirror_mode": {
    "name": "ipython",
    "version": 3
   },
   "file_extension": ".py",
   "mimetype": "text/x-python",
   "name": "python",
   "nbconvert_exporter": "python",
   "pygments_lexer": "ipython3",
   "version": "3.9.12"
  }
 },
 "nbformat": 4,
 "nbformat_minor": 5
}

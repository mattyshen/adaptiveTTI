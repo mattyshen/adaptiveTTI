{
 "cells": [
  {
   "cell_type": "code",
   "execution_count": 1,
   "id": "370457b2-647c-4c8d-b97c-5e1914fc8755",
   "metadata": {
    "tags": []
   },
   "outputs": [],
   "source": [
    "import os\n",
    "import sys\n",
    "\n",
    "path_to_repo = os.path.dirname(os.getcwd())\n",
    "sys.path.append(path_to_repo)\n",
    "\n",
    "import sklearn.datasets\n",
    "import pandas as pd\n",
    "import numpy as np\n",
    "\n",
    "import sklearn.model_selection\n",
    "from sklearn.metrics import r2_score, accuracy_score\n",
    "#from imodels import FIGSRegressor, FIGSClassifier\n",
    "#from imodels.importance import RandomForestPlusRegressor\n",
    "\n",
    "import openml\n",
    "from ucimlrepo import fetch_ucirepo \n",
    "\n",
    "from figs_d import FIGSRegressor\n",
    "from fourierDistill import *\n",
    "from binary_mapper import *"
   ]
  },
  {
   "cell_type": "code",
   "execution_count": 2,
   "id": "1aabecfe-fbc7-4f19-89dd-676e943b0e25",
   "metadata": {},
   "outputs": [
    {
     "name": "stdout",
     "output_type": "stream",
     "text": [
      "1.5.2\n"
     ]
    }
   ],
   "source": [
    "print(pd.__version__)\n",
    "#2.2.2"
   ]
  },
  {
   "cell_type": "code",
   "execution_count": 3,
   "id": "f90024bf-2aba-43e9-91aa-ca9d84c33209",
   "metadata": {},
   "outputs": [],
   "source": [
    "# miami_housing = openml.datasets.get_dataset(43093)\n",
    "# X, y, _, _ = miami_housing.get_data(target=miami_housing.default_target_attribute, dataset_format=\"dataframe\")\n",
    "\n",
    "dataset = sklearn.datasets.fetch_california_housing(as_frame = True)\n",
    "X = dataset[\"data\"]\n",
    "y = dataset[\"target\"]"
   ]
  },
  {
   "cell_type": "code",
   "execution_count": 4,
   "id": "06fe33e4-ae41-41a3-b875-757fb4030c22",
   "metadata": {},
   "outputs": [
    {
     "data": {
      "text/plain": [
       "0        4.526\n",
       "1        3.585\n",
       "2        3.521\n",
       "3        3.413\n",
       "4        3.422\n",
       "         ...  \n",
       "20635    0.781\n",
       "20636    0.771\n",
       "20637    0.923\n",
       "20638    0.847\n",
       "20639    0.894\n",
       "Name: MedHouseVal, Length: 20640, dtype: float64"
      ]
     },
     "execution_count": 4,
     "metadata": {},
     "output_type": "execute_result"
    }
   ],
   "source": [
    "y"
   ]
  },
  {
   "cell_type": "code",
   "execution_count": 5,
   "id": "fa03899b-4053-45aa-801b-ec1e13d5b412",
   "metadata": {},
   "outputs": [],
   "source": [
    "ftfigs = FTFIGS(figs = FIGSRegressor(max_rules=30, max_trees=5), noise_sd = 1)"
   ]
  },
  {
   "cell_type": "code",
   "execution_count": 6,
   "id": "08abefc4-0eba-4aae-ac4f-a64859aed2a2",
   "metadata": {},
   "outputs": [
    {
     "name": "stdout",
     "output_type": "stream",
     "text": [
      "_fit_figs\n",
      "fitting figs\n",
      "collection\n",
      "transform\n",
      "qsft\n"
     ]
    },
    {
     "name": "stderr",
     "output_type": "stream",
     "text": [
      "  0%|                                                                                                                                                                      | 1/1744 [00:00<04:02,  7.20it/s]"
     ]
    },
    {
     "name": "stdout",
     "output_type": "stream",
     "text": [
      "number of true y: 0\n",
      "number of figs y: 6976\n",
      "----\n"
     ]
    },
    {
     "name": "stderr",
     "output_type": "stream",
     "text": [
      "  6%|██████████▎                                                                                                                                                        | 110/1744 [00:00<00:04, 371.87it/s]"
     ]
    },
    {
     "name": "stdout",
     "output_type": "stream",
     "text": [
      "number of true y: 0\n",
      "number of figs y: 6976\n",
      "----\n",
      "number of true y: 0\n"
     ]
    },
    {
     "name": "stderr",
     "output_type": "stream",
     "text": [
      " 13%|████████████████████▍                                                                                                                                              | 219/1744 [00:00<00:03, 463.40it/s]"
     ]
    },
    {
     "name": "stdout",
     "output_type": "stream",
     "text": [
      "number of figs y: 6976\n",
      "----\n",
      "number of true y: 0\n",
      "number of figs y: 6976\n",
      "----\n"
     ]
    },
    {
     "name": "stderr",
     "output_type": "stream",
     "text": [
      " 25%|████████████████████████████████████████▊                                                                                                                          | 437/1744 [00:00<00:02, 527.41it/s]"
     ]
    },
    {
     "name": "stdout",
     "output_type": "stream",
     "text": [
      "number of true y: 0\n",
      "number of figs y: 6976\n",
      "----\n",
      "number of true y: 0\n"
     ]
    },
    {
     "name": "stderr",
     "output_type": "stream",
     "text": [
      " 31%|███████████████████████████████████████████████████                                                                                                                | 546/1744 [00:01<00:02, 541.26it/s]"
     ]
    },
    {
     "name": "stdout",
     "output_type": "stream",
     "text": [
      "number of figs y: 6976\n",
      "----\n",
      "number of true y: 0\n",
      "number of figs y: 6976\n",
      "----\n"
     ]
    },
    {
     "name": "stderr",
     "output_type": "stream",
     "text": [
      " 44%|███████████████████████████████████████████████████████████████████████▍                                                                                           | 764/1744 [00:01<00:01, 555.84it/s]"
     ]
    },
    {
     "name": "stdout",
     "output_type": "stream",
     "text": [
      "number of true y: 0\n",
      "number of figs y: 6976\n",
      "----\n",
      "number of true y: 0\n"
     ]
    },
    {
     "name": "stderr",
     "output_type": "stream",
     "text": [
      " 50%|█████████████████████████████████████████████████████████████████████████████████▌                                                                                 | 873/1744 [00:01<00:01, 556.84it/s]"
     ]
    },
    {
     "name": "stdout",
     "output_type": "stream",
     "text": [
      "number of figs y: 6976\n",
      "----\n",
      "number of true y: 0\n",
      "number of figs y: 6976\n",
      "----\n"
     ]
    },
    {
     "name": "stderr",
     "output_type": "stream",
     "text": [
      " 63%|█████████████████████████████████████████████████████████████████████████████████████████████████████▎                                                            | 1091/1744 [00:02<00:01, 560.27it/s]"
     ]
    },
    {
     "name": "stdout",
     "output_type": "stream",
     "text": [
      "number of true y: 0\n",
      "number of figs y: 6976\n",
      "----\n",
      "number of true y: 0\n"
     ]
    },
    {
     "name": "stderr",
     "output_type": "stream",
     "text": [
      " 69%|███████████████████████████████████████████████████████████████████████████████████████████████████████████████▍                                                  | 1200/1744 [00:02<00:00, 552.86it/s]"
     ]
    },
    {
     "name": "stdout",
     "output_type": "stream",
     "text": [
      "number of figs y: 6976\n",
      "----\n",
      "number of true y: 0\n",
      "number of figs y: 6976\n",
      "----\n"
     ]
    },
    {
     "name": "stderr",
     "output_type": "stream",
     "text": [
      " 81%|███████████████████████████████████████████████████████████████████████████████████████████████████████████████████████████████████▋                              | 1418/1744 [00:02<00:00, 546.55it/s]"
     ]
    },
    {
     "name": "stdout",
     "output_type": "stream",
     "text": [
      "number of true y: 0\n",
      "number of figs y: 6976\n",
      "----\n"
     ]
    },
    {
     "name": "stderr",
     "output_type": "stream",
     "text": [
      " 88%|█████████████████████████████████████████████████████████████████████████████████████████████████████████████████████████████████████████████▊                    | 1527/1744 [00:02<00:00, 544.37it/s]"
     ]
    },
    {
     "name": "stdout",
     "output_type": "stream",
     "text": [
      "number of true y: 0\n",
      "number of figs y: 6976\n",
      "----\n",
      "number of true y: 0\n"
     ]
    },
    {
     "name": "stderr",
     "output_type": "stream",
     "text": [
      "100%|██████████████████████████████████████████████████████████████████████████████████████████████████████████████████████████████████████████████████████████████████| 1744/1744 [00:03<00:00, 563.03it/s]"
     ]
    },
    {
     "name": "stdout",
     "output_type": "stream",
     "text": [
      "number of figs y: 6976\n",
      "----\n",
      "Transform Time:0.15869379043579102\n"
     ]
    },
    {
     "name": "stderr",
     "output_type": "stream",
     "text": [
      "\n"
     ]
    },
    {
     "name": "stdout",
     "output_type": "stream",
     "text": [
      "Peeling Time:4.0103724002838135\n"
     ]
    }
   ],
   "source": [
    "ftfigs.fit(X, y)"
   ]
  },
  {
   "cell_type": "code",
   "execution_count": 7,
   "id": "4e50e0e2-ee7e-4e5f-8f96-b42c29cf0f56",
   "metadata": {},
   "outputs": [
    {
     "data": {
      "text/plain": [
       "(6, 9)"
      ]
     },
     "execution_count": 7,
     "metadata": {},
     "output_type": "execute_result"
    }
   ],
   "source": [
    "int(np.ceil(np.log2(ftfigs.max_interactions))), ftfigs.max_interaction_size"
   ]
  },
  {
   "cell_type": "code",
   "execution_count": 8,
   "id": "1a4cf7f6-ffd9-4761-9e9e-0e382ec24494",
   "metadata": {},
   "outputs": [
    {
     "data": {
      "text/plain": [
       "{'qsft': {},\n",
       " 'runtime': 4.1699864864349365,\n",
       " 'n_samples': 111616,\n",
       " 'locations': [],\n",
       " 'avg_hamming_weight': 0,\n",
       " 'max_hamming_weight': 0,\n",
       " 'multiton_count': [221],\n",
       " 'singleton_count': [0]}"
      ]
     },
     "execution_count": 8,
     "metadata": {},
     "output_type": "execute_result"
    }
   ],
   "source": [
    "ftfigs.qsft"
   ]
  },
  {
   "cell_type": "code",
   "execution_count": 9,
   "id": "6d7813de-c8e5-4fcd-b27f-8d80c29bf67b",
   "metadata": {},
   "outputs": [
    {
     "data": {
      "text/plain": [
       "(33, 9)"
      ]
     },
     "execution_count": 9,
     "metadata": {},
     "output_type": "execute_result"
    }
   ],
   "source": [
    "ftfigs.max_interactions, ftfigs.max_interaction_size"
   ]
  },
  {
   "cell_type": "code",
   "execution_count": 10,
   "id": "875311a0-3645-4e2d-8fb7-1a6713c335dc",
   "metadata": {},
   "outputs": [],
   "source": [
    "X_train, X_test, y_train, y_test = train_test_split(X, y, test_size=0.2, random_state=0)\n",
    "X_train, X_val, y_train, y_val = train_test_split(X_train, y_train, test_size=0.25, random_state=0)"
   ]
  },
  {
   "cell_type": "code",
   "execution_count": 11,
   "id": "691b282d-daee-401f-9d24-918c4f1e5fe5",
   "metadata": {},
   "outputs": [],
   "source": [
    "fbm = FIGSBinaryMapper(figs=FIGSRegressor(max_rules=30, max_trees=5, round_deg = 3))\n",
    "X_train_new = fbm.fit_transform(X_train, y_train, train=True)\n",
    "X_val_new = fbm.transform(X_val)\n",
    "X_test_new = fbm.transform(X_test)"
   ]
  },
  {
   "cell_type": "code",
   "execution_count": 12,
   "id": "793fd0a4-8c7e-4b31-97cb-ad0a0e50f9cc",
   "metadata": {},
   "outputs": [
    {
     "data": {
      "text/plain": [
       "((12384, 58), 34, 9, 4)"
      ]
     },
     "execution_count": 12,
     "metadata": {},
     "output_type": "execute_result"
    }
   ],
   "source": [
    "X_train_new.shape, fbm.num_interactions, fbm.max_interaction_size, len(fbm.figs.trees_)"
   ]
  },
  {
   "cell_type": "code",
   "execution_count": 13,
   "id": "81062f83-0df1-4dec-9dc9-7bbf1cdc0eac",
   "metadata": {},
   "outputs": [
    {
     "data": {
      "text/plain": [
       "[2, 3, 3, 3, 3, 3, 3]"
      ]
     },
     "execution_count": 13,
     "metadata": {},
     "output_type": "execute_result"
    }
   ],
   "source": [
    "[len(i[0]) for i in fbm.figs_rules[0]]"
   ]
  },
  {
   "cell_type": "code",
   "execution_count": 14,
   "id": "220d0cb5-4572-40c6-8f20-122b5664662e",
   "metadata": {},
   "outputs": [
    {
     "data": {
      "text/plain": [
       "[([(MedInc <= 5.137 (Tree #0 root), 'flip'),\n",
       "   (MedInc <= 7.789 (split), 'flip')],\n",
       "  4.6642964964921445),\n",
       " ([(MedInc <= 5.137 (Tree #0 root), 'flip'),\n",
       "   (MedInc <= 7.789 (split), 'original'),\n",
       "   (MedInc <= 6.326 (split), 'flip')],\n",
       "  3.493086278042913),\n",
       " ([(MedInc <= 5.137 (Tree #0 root), 'flip'),\n",
       "   (MedInc <= 7.789 (split), 'original'),\n",
       "   (MedInc <= 6.326 (split), 'original')],\n",
       "  2.8207610433421815),\n",
       " ([(MedInc <= 5.137 (Tree #0 root), 'original'),\n",
       "   (MedInc <= 3.067 (split), 'flip'),\n",
       "   (MedInc <= 4.152 (split), 'flip')],\n",
       "  2.2819278834656482),\n",
       " ([(MedInc <= 5.137 (Tree #0 root), 'original'),\n",
       "   (MedInc <= 3.067 (split), 'flip'),\n",
       "   (MedInc <= 4.152 (split), 'original')],\n",
       "  1.9242545509643874),\n",
       " ([(MedInc <= 5.137 (Tree #0 root), 'original'),\n",
       "   (MedInc <= 3.067 (split), 'original'),\n",
       "   (MedInc <= 2.213 (split), 'flip')],\n",
       "  1.4595213760150227),\n",
       " ([(MedInc <= 5.137 (Tree #0 root), 'original'),\n",
       "   (MedInc <= 3.067 (split), 'original'),\n",
       "   (MedInc <= 2.213 (split), 'original')],\n",
       "  1.1711448972878802)]"
      ]
     },
     "execution_count": 14,
     "metadata": {},
     "output_type": "execute_result"
    }
   ],
   "source": [
    "[i for i in fbm.figs_rules[0]]"
   ]
  },
  {
   "cell_type": "code",
   "execution_count": 15,
   "id": "f8b49c83-acb5-4ab4-aace-04a36d6a113a",
   "metadata": {},
   "outputs": [
    {
     "data": {
      "text/plain": [
       "[7, 7, 17, 3]"
      ]
     },
     "execution_count": 15,
     "metadata": {},
     "output_type": "execute_result"
    }
   ],
   "source": [
    "[len(t) for t in fbm.figs_rules]"
   ]
  },
  {
   "cell_type": "code",
   "execution_count": 16,
   "id": "fb413759-47b8-4c3c-99de-a480ac949946",
   "metadata": {},
   "outputs": [
    {
     "data": {
      "text/plain": [
       "9"
      ]
     },
     "execution_count": 16,
     "metadata": {},
     "output_type": "execute_result"
    }
   ],
   "source": [
    "max([len(p) for p, w in fbm.interactions])"
   ]
  },
  {
   "cell_type": "code",
   "execution_count": 17,
   "id": "73555298-3ac0-4d44-8c6a-36b60ff86d5d",
   "metadata": {},
   "outputs": [
    {
     "data": {
      "text/plain": [
       "[[['Latitude_<=_37.935',\n",
       "   'Longitude_>_-122.305',\n",
       "   'Longitude_<=_-117.795',\n",
       "   'Latitude_<=_34.51',\n",
       "   'Longitude_<=_-118.285',\n",
       "   'Latitude_<=_34.155',\n",
       "   'Longitude_>_-118.365',\n",
       "   'Latitude_<=_34.045',\n",
       "   'Latitude_>_33.855'],\n",
       "  0.0827486145959425],\n",
       " [['Latitude_<=_37.935',\n",
       "   'Longitude_>_-122.305',\n",
       "   'Longitude_<=_-117.795',\n",
       "   'Latitude_<=_34.51',\n",
       "   'Longitude_<=_-118.285',\n",
       "   'Latitude_<=_34.155',\n",
       "   'Longitude_>_-118.365',\n",
       "   'Latitude_<=_34.045',\n",
       "   'Latitude_<=_33.855'],\n",
       "  0.8080473491237157],\n",
       " [['Latitude_<=_37.935',\n",
       "   'Longitude_>_-122.305',\n",
       "   'Longitude_<=_-117.795',\n",
       "   'Latitude_<=_34.51',\n",
       "   'Longitude_<=_-118.285',\n",
       "   'Latitude_<=_34.155',\n",
       "   'Longitude_>_-118.365',\n",
       "   'Latitude_>_34.045'],\n",
       "  1.1266023766470055],\n",
       " [['Latitude_<=_37.935',\n",
       "   'Longitude_>_-122.305',\n",
       "   'Longitude_<=_-117.795',\n",
       "   'Latitude_<=_34.51',\n",
       "   'Longitude_<=_-118.285',\n",
       "   'Latitude_<=_34.155',\n",
       "   'Longitude_<=_-118.365',\n",
       "   'MedInc_>_6.643'],\n",
       "  0.3243639009055292],\n",
       " [['Latitude_<=_37.935',\n",
       "   'Longitude_>_-122.305',\n",
       "   'Longitude_<=_-117.795',\n",
       "   'Latitude_<=_34.51',\n",
       "   'Longitude_<=_-118.285',\n",
       "   'Latitude_<=_34.155',\n",
       "   'Longitude_<=_-118.365',\n",
       "   'MedInc_<=_6.643'],\n",
       "  1.1490355629346127],\n",
       " [['Latitude_<=_37.935',\n",
       "   'Longitude_>_-122.305',\n",
       "   'Longitude_<=_-117.795',\n",
       "   'Latitude_>_34.51',\n",
       "   'Longitude_>_-121.255',\n",
       "   'Longitude_>_-120.075'],\n",
       "  -0.6795073001926226],\n",
       " [['Latitude_<=_37.935',\n",
       "   'Longitude_>_-122.305',\n",
       "   'Longitude_<=_-117.795',\n",
       "   'Latitude_>_34.51',\n",
       "   'Longitude_>_-121.255',\n",
       "   'Longitude_<=_-120.075'],\n",
       "  -0.24358502566689197],\n",
       " [['Latitude_<=_37.935',\n",
       "   'Longitude_>_-122.305',\n",
       "   'Longitude_<=_-117.795',\n",
       "   'Latitude_>_34.51',\n",
       "   'Longitude_<=_-121.255',\n",
       "   'Latitude_>_37.565'],\n",
       "  -0.06314450794195013],\n",
       " [['Latitude_<=_37.935',\n",
       "   'Longitude_>_-122.305',\n",
       "   'Longitude_<=_-117.795',\n",
       "   'Latitude_>_34.51',\n",
       "   'Longitude_<=_-121.255',\n",
       "   'Latitude_<=_37.565'],\n",
       "  0.4028679238569423],\n",
       " [['Latitude_<=_37.935',\n",
       "   'Longitude_>_-122.305',\n",
       "   'Longitude_<=_-117.795',\n",
       "   'Latitude_<=_34.51',\n",
       "   'Longitude_>_-118.285',\n",
       "   'Latitude_>_34.025'],\n",
       "  0.368516777221825],\n",
       " [['Latitude_<=_37.935',\n",
       "   'Longitude_>_-122.305',\n",
       "   'Longitude_<=_-117.795',\n",
       "   'Latitude_<=_34.51',\n",
       "   'Longitude_>_-118.285',\n",
       "   'Latitude_<=_34.025'],\n",
       "  0.11162994214289067],\n",
       " [['Latitude_<=_37.935',\n",
       "   'Longitude_>_-122.305',\n",
       "   'Longitude_<=_-117.795',\n",
       "   'Latitude_<=_34.51',\n",
       "   'Longitude_<=_-118.285',\n",
       "   'Latitude_>_34.155'],\n",
       "  0.3529721481747266],\n",
       " [['AveOccup_>_2.309',\n",
       "   'AveOccup_>_2.842',\n",
       "   'MedInc_>_3.067',\n",
       "   'AveOccup_>_3.146'],\n",
       "  -0.437796082662468],\n",
       " [['AveOccup_>_2.309',\n",
       "   'AveOccup_>_2.842',\n",
       "   'MedInc_>_3.067',\n",
       "   'AveOccup_<=_3.146'],\n",
       "  -0.19703815912575884],\n",
       " [['MedInc_>_5.137', 'MedInc_<=_7.789', 'MedInc_>_6.326'], 3.493086278042913],\n",
       " [['MedInc_>_5.137', 'MedInc_<=_7.789', 'MedInc_<=_6.326'],\n",
       "  2.8207610433421815],\n",
       " [['MedInc_<=_5.137', 'MedInc_>_3.067', 'MedInc_>_4.152'], 2.2819278834656482],\n",
       " [['MedInc_<=_5.137', 'MedInc_>_3.067', 'MedInc_<=_4.152'],\n",
       "  1.9242545509643874],\n",
       " [['MedInc_<=_5.137', 'MedInc_<=_3.067', 'MedInc_>_2.213'],\n",
       "  1.4595213760150227],\n",
       " [['MedInc_<=_5.137', 'MedInc_<=_3.067', 'MedInc_<=_2.213'],\n",
       "  1.1711448972878802],\n",
       " [['AveOccup_>_2.309', 'AveOccup_>_2.842', 'MedInc_<=_3.067'],\n",
       "  -0.059067047433601166],\n",
       " [['AveOccup_<=_2.309', 'HouseAge_>_18.5', 'AveOccup_>_2.03'],\n",
       "  0.5155812742106349],\n",
       " [['AveOccup_<=_2.309', 'HouseAge_>_18.5', 'AveOccup_<=_2.03'],\n",
       "  0.9436547099467968],\n",
       " [['Latitude_>_37.935', 'Longitude_<=_-122.395', 'Latitude_>_38.69'],\n",
       "  -0.5724254603535319],\n",
       " [['Latitude_>_37.935', 'Longitude_<=_-122.395', 'Latitude_<=_38.69'],\n",
       "  0.17296290715542506],\n",
       " [['Latitude_<=_37.935', 'Longitude_>_-122.305', 'Longitude_>_-117.795'],\n",
       "  -0.30976529886484816],\n",
       " [['MedInc_>_5.137', 'MedInc_>_7.789'], 4.6642964964921445],\n",
       " [['AveOccup_>_2.309', 'AveOccup_<=_2.842'], 0.07848577852760008],\n",
       " [['AveOccup_<=_2.309', 'HouseAge_<=_18.5'], 0.1906954670055879],\n",
       " [['Latitude_>_37.935', 'Longitude_>_-122.395'], -0.5059059178689794],\n",
       " [['Latitude_<=_37.935', 'Longitude_<=_-122.305'], 0.9665136541797579],\n",
       " [['Latitude_<=_33.635', 'Longitude_>_-117.145'], -0.006022719784707264],\n",
       " [['Latitude_<=_33.635', 'Longitude_<=_-117.145'], 0.5209884236247094],\n",
       " [['Latitude_>_33.635'], -0.019186292748645327]]"
      ]
     },
     "execution_count": 17,
     "metadata": {},
     "output_type": "execute_result"
    }
   ],
   "source": [
    "sorted(fbm.interactions, key = lambda x: -len(x[0]))"
   ]
  },
  {
   "cell_type": "code",
   "execution_count": null,
   "id": "615f31a3-eeef-4b4c-a5f9-985e2c6e874e",
   "metadata": {},
   "outputs": [],
   "source": []
  },
  {
   "cell_type": "code",
   "execution_count": 18,
   "id": "fd575ee9-f94c-4494-916e-6eda29fc7870",
   "metadata": {},
   "outputs": [
    {
     "data": {
      "text/html": [
       "<style>#sk-container-id-1 {\n",
       "  /* Definition of color scheme common for light and dark mode */\n",
       "  --sklearn-color-text: black;\n",
       "  --sklearn-color-line: gray;\n",
       "  /* Definition of color scheme for unfitted estimators */\n",
       "  --sklearn-color-unfitted-level-0: #fff5e6;\n",
       "  --sklearn-color-unfitted-level-1: #f6e4d2;\n",
       "  --sklearn-color-unfitted-level-2: #ffe0b3;\n",
       "  --sklearn-color-unfitted-level-3: chocolate;\n",
       "  /* Definition of color scheme for fitted estimators */\n",
       "  --sklearn-color-fitted-level-0: #f0f8ff;\n",
       "  --sklearn-color-fitted-level-1: #d4ebff;\n",
       "  --sklearn-color-fitted-level-2: #b3dbfd;\n",
       "  --sklearn-color-fitted-level-3: cornflowerblue;\n",
       "\n",
       "  /* Specific color for light theme */\n",
       "  --sklearn-color-text-on-default-background: var(--sg-text-color, var(--theme-code-foreground, var(--jp-content-font-color1, black)));\n",
       "  --sklearn-color-background: var(--sg-background-color, var(--theme-background, var(--jp-layout-color0, white)));\n",
       "  --sklearn-color-border-box: var(--sg-text-color, var(--theme-code-foreground, var(--jp-content-font-color1, black)));\n",
       "  --sklearn-color-icon: #696969;\n",
       "\n",
       "  @media (prefers-color-scheme: dark) {\n",
       "    /* Redefinition of color scheme for dark theme */\n",
       "    --sklearn-color-text-on-default-background: var(--sg-text-color, var(--theme-code-foreground, var(--jp-content-font-color1, white)));\n",
       "    --sklearn-color-background: var(--sg-background-color, var(--theme-background, var(--jp-layout-color0, #111)));\n",
       "    --sklearn-color-border-box: var(--sg-text-color, var(--theme-code-foreground, var(--jp-content-font-color1, white)));\n",
       "    --sklearn-color-icon: #878787;\n",
       "  }\n",
       "}\n",
       "\n",
       "#sk-container-id-1 {\n",
       "  color: var(--sklearn-color-text);\n",
       "}\n",
       "\n",
       "#sk-container-id-1 pre {\n",
       "  padding: 0;\n",
       "}\n",
       "\n",
       "#sk-container-id-1 input.sk-hidden--visually {\n",
       "  border: 0;\n",
       "  clip: rect(1px 1px 1px 1px);\n",
       "  clip: rect(1px, 1px, 1px, 1px);\n",
       "  height: 1px;\n",
       "  margin: -1px;\n",
       "  overflow: hidden;\n",
       "  padding: 0;\n",
       "  position: absolute;\n",
       "  width: 1px;\n",
       "}\n",
       "\n",
       "#sk-container-id-1 div.sk-dashed-wrapped {\n",
       "  border: 1px dashed var(--sklearn-color-line);\n",
       "  margin: 0 0.4em 0.5em 0.4em;\n",
       "  box-sizing: border-box;\n",
       "  padding-bottom: 0.4em;\n",
       "  background-color: var(--sklearn-color-background);\n",
       "}\n",
       "\n",
       "#sk-container-id-1 div.sk-container {\n",
       "  /* jupyter's `normalize.less` sets `[hidden] { display: none; }`\n",
       "     but bootstrap.min.css set `[hidden] { display: none !important; }`\n",
       "     so we also need the `!important` here to be able to override the\n",
       "     default hidden behavior on the sphinx rendered scikit-learn.org.\n",
       "     See: https://github.com/scikit-learn/scikit-learn/issues/21755 */\n",
       "  display: inline-block !important;\n",
       "  position: relative;\n",
       "}\n",
       "\n",
       "#sk-container-id-1 div.sk-text-repr-fallback {\n",
       "  display: none;\n",
       "}\n",
       "\n",
       "div.sk-parallel-item,\n",
       "div.sk-serial,\n",
       "div.sk-item {\n",
       "  /* draw centered vertical line to link estimators */\n",
       "  background-image: linear-gradient(var(--sklearn-color-text-on-default-background), var(--sklearn-color-text-on-default-background));\n",
       "  background-size: 2px 100%;\n",
       "  background-repeat: no-repeat;\n",
       "  background-position: center center;\n",
       "}\n",
       "\n",
       "/* Parallel-specific style estimator block */\n",
       "\n",
       "#sk-container-id-1 div.sk-parallel-item::after {\n",
       "  content: \"\";\n",
       "  width: 100%;\n",
       "  border-bottom: 2px solid var(--sklearn-color-text-on-default-background);\n",
       "  flex-grow: 1;\n",
       "}\n",
       "\n",
       "#sk-container-id-1 div.sk-parallel {\n",
       "  display: flex;\n",
       "  align-items: stretch;\n",
       "  justify-content: center;\n",
       "  background-color: var(--sklearn-color-background);\n",
       "  position: relative;\n",
       "}\n",
       "\n",
       "#sk-container-id-1 div.sk-parallel-item {\n",
       "  display: flex;\n",
       "  flex-direction: column;\n",
       "}\n",
       "\n",
       "#sk-container-id-1 div.sk-parallel-item:first-child::after {\n",
       "  align-self: flex-end;\n",
       "  width: 50%;\n",
       "}\n",
       "\n",
       "#sk-container-id-1 div.sk-parallel-item:last-child::after {\n",
       "  align-self: flex-start;\n",
       "  width: 50%;\n",
       "}\n",
       "\n",
       "#sk-container-id-1 div.sk-parallel-item:only-child::after {\n",
       "  width: 0;\n",
       "}\n",
       "\n",
       "/* Serial-specific style estimator block */\n",
       "\n",
       "#sk-container-id-1 div.sk-serial {\n",
       "  display: flex;\n",
       "  flex-direction: column;\n",
       "  align-items: center;\n",
       "  background-color: var(--sklearn-color-background);\n",
       "  padding-right: 1em;\n",
       "  padding-left: 1em;\n",
       "}\n",
       "\n",
       "\n",
       "/* Toggleable style: style used for estimator/Pipeline/ColumnTransformer box that is\n",
       "clickable and can be expanded/collapsed.\n",
       "- Pipeline and ColumnTransformer use this feature and define the default style\n",
       "- Estimators will overwrite some part of the style using the `sk-estimator` class\n",
       "*/\n",
       "\n",
       "/* Pipeline and ColumnTransformer style (default) */\n",
       "\n",
       "#sk-container-id-1 div.sk-toggleable {\n",
       "  /* Default theme specific background. It is overwritten whether we have a\n",
       "  specific estimator or a Pipeline/ColumnTransformer */\n",
       "  background-color: var(--sklearn-color-background);\n",
       "}\n",
       "\n",
       "/* Toggleable label */\n",
       "#sk-container-id-1 label.sk-toggleable__label {\n",
       "  cursor: pointer;\n",
       "  display: block;\n",
       "  width: 100%;\n",
       "  margin-bottom: 0;\n",
       "  padding: 0.5em;\n",
       "  box-sizing: border-box;\n",
       "  text-align: center;\n",
       "}\n",
       "\n",
       "#sk-container-id-1 label.sk-toggleable__label-arrow:before {\n",
       "  /* Arrow on the left of the label */\n",
       "  content: \"▸\";\n",
       "  float: left;\n",
       "  margin-right: 0.25em;\n",
       "  color: var(--sklearn-color-icon);\n",
       "}\n",
       "\n",
       "#sk-container-id-1 label.sk-toggleable__label-arrow:hover:before {\n",
       "  color: var(--sklearn-color-text);\n",
       "}\n",
       "\n",
       "/* Toggleable content - dropdown */\n",
       "\n",
       "#sk-container-id-1 div.sk-toggleable__content {\n",
       "  max-height: 0;\n",
       "  max-width: 0;\n",
       "  overflow: hidden;\n",
       "  text-align: left;\n",
       "  /* unfitted */\n",
       "  background-color: var(--sklearn-color-unfitted-level-0);\n",
       "}\n",
       "\n",
       "#sk-container-id-1 div.sk-toggleable__content.fitted {\n",
       "  /* fitted */\n",
       "  background-color: var(--sklearn-color-fitted-level-0);\n",
       "}\n",
       "\n",
       "#sk-container-id-1 div.sk-toggleable__content pre {\n",
       "  margin: 0.2em;\n",
       "  border-radius: 0.25em;\n",
       "  color: var(--sklearn-color-text);\n",
       "  /* unfitted */\n",
       "  background-color: var(--sklearn-color-unfitted-level-0);\n",
       "}\n",
       "\n",
       "#sk-container-id-1 div.sk-toggleable__content.fitted pre {\n",
       "  /* unfitted */\n",
       "  background-color: var(--sklearn-color-fitted-level-0);\n",
       "}\n",
       "\n",
       "#sk-container-id-1 input.sk-toggleable__control:checked~div.sk-toggleable__content {\n",
       "  /* Expand drop-down */\n",
       "  max-height: 200px;\n",
       "  max-width: 100%;\n",
       "  overflow: auto;\n",
       "}\n",
       "\n",
       "#sk-container-id-1 input.sk-toggleable__control:checked~label.sk-toggleable__label-arrow:before {\n",
       "  content: \"▾\";\n",
       "}\n",
       "\n",
       "/* Pipeline/ColumnTransformer-specific style */\n",
       "\n",
       "#sk-container-id-1 div.sk-label input.sk-toggleable__control:checked~label.sk-toggleable__label {\n",
       "  color: var(--sklearn-color-text);\n",
       "  background-color: var(--sklearn-color-unfitted-level-2);\n",
       "}\n",
       "\n",
       "#sk-container-id-1 div.sk-label.fitted input.sk-toggleable__control:checked~label.sk-toggleable__label {\n",
       "  background-color: var(--sklearn-color-fitted-level-2);\n",
       "}\n",
       "\n",
       "/* Estimator-specific style */\n",
       "\n",
       "/* Colorize estimator box */\n",
       "#sk-container-id-1 div.sk-estimator input.sk-toggleable__control:checked~label.sk-toggleable__label {\n",
       "  /* unfitted */\n",
       "  background-color: var(--sklearn-color-unfitted-level-2);\n",
       "}\n",
       "\n",
       "#sk-container-id-1 div.sk-estimator.fitted input.sk-toggleable__control:checked~label.sk-toggleable__label {\n",
       "  /* fitted */\n",
       "  background-color: var(--sklearn-color-fitted-level-2);\n",
       "}\n",
       "\n",
       "#sk-container-id-1 div.sk-label label.sk-toggleable__label,\n",
       "#sk-container-id-1 div.sk-label label {\n",
       "  /* The background is the default theme color */\n",
       "  color: var(--sklearn-color-text-on-default-background);\n",
       "}\n",
       "\n",
       "/* On hover, darken the color of the background */\n",
       "#sk-container-id-1 div.sk-label:hover label.sk-toggleable__label {\n",
       "  color: var(--sklearn-color-text);\n",
       "  background-color: var(--sklearn-color-unfitted-level-2);\n",
       "}\n",
       "\n",
       "/* Label box, darken color on hover, fitted */\n",
       "#sk-container-id-1 div.sk-label.fitted:hover label.sk-toggleable__label.fitted {\n",
       "  color: var(--sklearn-color-text);\n",
       "  background-color: var(--sklearn-color-fitted-level-2);\n",
       "}\n",
       "\n",
       "/* Estimator label */\n",
       "\n",
       "#sk-container-id-1 div.sk-label label {\n",
       "  font-family: monospace;\n",
       "  font-weight: bold;\n",
       "  display: inline-block;\n",
       "  line-height: 1.2em;\n",
       "}\n",
       "\n",
       "#sk-container-id-1 div.sk-label-container {\n",
       "  text-align: center;\n",
       "}\n",
       "\n",
       "/* Estimator-specific */\n",
       "#sk-container-id-1 div.sk-estimator {\n",
       "  font-family: monospace;\n",
       "  border: 1px dotted var(--sklearn-color-border-box);\n",
       "  border-radius: 0.25em;\n",
       "  box-sizing: border-box;\n",
       "  margin-bottom: 0.5em;\n",
       "  /* unfitted */\n",
       "  background-color: var(--sklearn-color-unfitted-level-0);\n",
       "}\n",
       "\n",
       "#sk-container-id-1 div.sk-estimator.fitted {\n",
       "  /* fitted */\n",
       "  background-color: var(--sklearn-color-fitted-level-0);\n",
       "}\n",
       "\n",
       "/* on hover */\n",
       "#sk-container-id-1 div.sk-estimator:hover {\n",
       "  /* unfitted */\n",
       "  background-color: var(--sklearn-color-unfitted-level-2);\n",
       "}\n",
       "\n",
       "#sk-container-id-1 div.sk-estimator.fitted:hover {\n",
       "  /* fitted */\n",
       "  background-color: var(--sklearn-color-fitted-level-2);\n",
       "}\n",
       "\n",
       "/* Specification for estimator info (e.g. \"i\" and \"?\") */\n",
       "\n",
       "/* Common style for \"i\" and \"?\" */\n",
       "\n",
       ".sk-estimator-doc-link,\n",
       "a:link.sk-estimator-doc-link,\n",
       "a:visited.sk-estimator-doc-link {\n",
       "  float: right;\n",
       "  font-size: smaller;\n",
       "  line-height: 1em;\n",
       "  font-family: monospace;\n",
       "  background-color: var(--sklearn-color-background);\n",
       "  border-radius: 1em;\n",
       "  height: 1em;\n",
       "  width: 1em;\n",
       "  text-decoration: none !important;\n",
       "  margin-left: 1ex;\n",
       "  /* unfitted */\n",
       "  border: var(--sklearn-color-unfitted-level-1) 1pt solid;\n",
       "  color: var(--sklearn-color-unfitted-level-1);\n",
       "}\n",
       "\n",
       ".sk-estimator-doc-link.fitted,\n",
       "a:link.sk-estimator-doc-link.fitted,\n",
       "a:visited.sk-estimator-doc-link.fitted {\n",
       "  /* fitted */\n",
       "  border: var(--sklearn-color-fitted-level-1) 1pt solid;\n",
       "  color: var(--sklearn-color-fitted-level-1);\n",
       "}\n",
       "\n",
       "/* On hover */\n",
       "div.sk-estimator:hover .sk-estimator-doc-link:hover,\n",
       ".sk-estimator-doc-link:hover,\n",
       "div.sk-label-container:hover .sk-estimator-doc-link:hover,\n",
       ".sk-estimator-doc-link:hover {\n",
       "  /* unfitted */\n",
       "  background-color: var(--sklearn-color-unfitted-level-3);\n",
       "  color: var(--sklearn-color-background);\n",
       "  text-decoration: none;\n",
       "}\n",
       "\n",
       "div.sk-estimator.fitted:hover .sk-estimator-doc-link.fitted:hover,\n",
       ".sk-estimator-doc-link.fitted:hover,\n",
       "div.sk-label-container:hover .sk-estimator-doc-link.fitted:hover,\n",
       ".sk-estimator-doc-link.fitted:hover {\n",
       "  /* fitted */\n",
       "  background-color: var(--sklearn-color-fitted-level-3);\n",
       "  color: var(--sklearn-color-background);\n",
       "  text-decoration: none;\n",
       "}\n",
       "\n",
       "/* Span, style for the box shown on hovering the info icon */\n",
       ".sk-estimator-doc-link span {\n",
       "  display: none;\n",
       "  z-index: 9999;\n",
       "  position: relative;\n",
       "  font-weight: normal;\n",
       "  right: .2ex;\n",
       "  padding: .5ex;\n",
       "  margin: .5ex;\n",
       "  width: min-content;\n",
       "  min-width: 20ex;\n",
       "  max-width: 50ex;\n",
       "  color: var(--sklearn-color-text);\n",
       "  box-shadow: 2pt 2pt 4pt #999;\n",
       "  /* unfitted */\n",
       "  background: var(--sklearn-color-unfitted-level-0);\n",
       "  border: .5pt solid var(--sklearn-color-unfitted-level-3);\n",
       "}\n",
       "\n",
       ".sk-estimator-doc-link.fitted span {\n",
       "  /* fitted */\n",
       "  background: var(--sklearn-color-fitted-level-0);\n",
       "  border: var(--sklearn-color-fitted-level-3);\n",
       "}\n",
       "\n",
       ".sk-estimator-doc-link:hover span {\n",
       "  display: block;\n",
       "}\n",
       "\n",
       "/* \"?\"-specific style due to the `<a>` HTML tag */\n",
       "\n",
       "#sk-container-id-1 a.estimator_doc_link {\n",
       "  float: right;\n",
       "  font-size: 1rem;\n",
       "  line-height: 1em;\n",
       "  font-family: monospace;\n",
       "  background-color: var(--sklearn-color-background);\n",
       "  border-radius: 1rem;\n",
       "  height: 1rem;\n",
       "  width: 1rem;\n",
       "  text-decoration: none;\n",
       "  /* unfitted */\n",
       "  color: var(--sklearn-color-unfitted-level-1);\n",
       "  border: var(--sklearn-color-unfitted-level-1) 1pt solid;\n",
       "}\n",
       "\n",
       "#sk-container-id-1 a.estimator_doc_link.fitted {\n",
       "  /* fitted */\n",
       "  border: var(--sklearn-color-fitted-level-1) 1pt solid;\n",
       "  color: var(--sklearn-color-fitted-level-1);\n",
       "}\n",
       "\n",
       "/* On hover */\n",
       "#sk-container-id-1 a.estimator_doc_link:hover {\n",
       "  /* unfitted */\n",
       "  background-color: var(--sklearn-color-unfitted-level-3);\n",
       "  color: var(--sklearn-color-background);\n",
       "  text-decoration: none;\n",
       "}\n",
       "\n",
       "#sk-container-id-1 a.estimator_doc_link.fitted:hover {\n",
       "  /* fitted */\n",
       "  background-color: var(--sklearn-color-fitted-level-3);\n",
       "}\n",
       "</style><div id=\"sk-container-id-1\" class=\"sk-top-container\"><div class=\"sk-text-repr-fallback\"><pre>&gt; ------------------------------\n",
       "&gt; FIGS-Fast Interpretable Greedy-Tree Sums:\n",
       "&gt; \tPredictions are made by summing the &quot;Val&quot; reached by traversing each tree.\n",
       "&gt; \tFor classifiers, a sigmoid function is then applied to the sum.\n",
       "&gt; ------------------------------\n",
       "MedInc &lt;= 5.137 (Tree #0 root)\n",
       "\tMedInc &lt;= 3.067 (split)\n",
       "\t\tMedInc &lt;= 2.213 (split)\n",
       "\t\t\tVal: 1.171 (leaf)\n",
       "\t\t\tVal: 1.460 (leaf)\n",
       "\t\tMedInc &lt;= 4.152 (split)\n",
       "\t\t\tVal: 1.924 (leaf)\n",
       "\t\t\tVal: 2.282 (leaf)\n",
       "\tMedInc &lt;= 7.789 (split)\n",
       "\t\tMedInc &lt;= 6.326 (split)\n",
       "\t\t\tVal: 2.821 (leaf)\n",
       "\t\t\tVal: 3.493 (leaf)\n",
       "\t\tVal: 4.664 (leaf)\n",
       "\n",
       "\t+\n",
       "AveOccup &lt;= 2.309 (Tree #1 root)\n",
       "\tHouseAge &lt;= 18.500 (split)\n",
       "\t\tVal: 0.191 (leaf)\n",
       "\t\tAveOccup &lt;= 2.030 (split)\n",
       "\t\t\tVal: 0.944 (leaf)\n",
       "\t\t\tVal: 0.516 (leaf)\n",
       "\tAveOccup &lt;= 2.842 (split)\n",
       "\t\tVal: 0.078 (leaf)\n",
       "\t\tMedInc &lt;= 3.067 (split)\n",
       "\t\t\tVal: -0.059 (leaf)\n",
       "\t\t\tAveOccup &lt;= 3.146 (split)\n",
       "\t\t\t\tVal: -0.197 (leaf)\n",
       "\t\t\t\tVal: -0.438 (leaf)\n",
       "\n",
       "\t+\n",
       "Latitude &lt;= 37.935 (Tree #2 root)\n",
       "\tLongitude &lt;= -122.305 (split)\n",
       "\t\tVal: 0.967 (leaf)\n",
       "\t\tLongitude &lt;= -117.795 (split)\n",
       "\t\t\tLatitude &lt;= 34.510 (split)\n",
       "\t\t\t\tLongitude &lt;= -118.285 (split)\n",
       "\t\t\t\t\tLatitude &lt;= 34.155 (split)\n",
       "\t\t\t\t\t\tLongitude &lt;= -118.365 (split)\n",
       "\t\t\t\t\t\t\tMedInc &lt;= 6.643 (split)\n",
       "\t\t\t\t\t\t\t\tVal: 1.149 (leaf)\n",
       "\t\t\t\t\t\t\t\tVal: 0.324 (leaf)\n",
       "\t\t\t\t\t\t\tLatitude &lt;= 34.045 (split)\n",
       "\t\t\t\t\t\t\t\tLatitude &lt;= 33.855 (split)\n",
       "\t\t\t\t\t\t\t\t\tVal: 0.808 (leaf)\n",
       "\t\t\t\t\t\t\t\t\tVal: 0.083 (leaf)\n",
       "\t\t\t\t\t\t\t\tVal: 1.127 (leaf)\n",
       "\t\t\t\t\t\tVal: 0.353 (leaf)\n",
       "\t\t\t\t\tLatitude &lt;= 34.025 (split)\n",
       "\t\t\t\t\t\tVal: 0.112 (leaf)\n",
       "\t\t\t\t\t\tVal: 0.369 (leaf)\n",
       "\t\t\t\tLongitude &lt;= -121.255 (split)\n",
       "\t\t\t\t\tLatitude &lt;= 37.565 (split)\n",
       "\t\t\t\t\t\tVal: 0.403 (leaf)\n",
       "\t\t\t\t\t\tVal: -0.063 (leaf)\n",
       "\t\t\t\t\tLongitude &lt;= -120.075 (split)\n",
       "\t\t\t\t\t\tVal: -0.244 (leaf)\n",
       "\t\t\t\t\t\tVal: -0.680 (leaf)\n",
       "\t\t\tVal: -0.310 (leaf)\n",
       "\tLongitude &lt;= -122.395 (split)\n",
       "\t\tLatitude &lt;= 38.690 (split)\n",
       "\t\t\tVal: 0.173 (leaf)\n",
       "\t\t\tVal: -0.572 (leaf)\n",
       "\t\tVal: -0.506 (leaf)\n",
       "\n",
       "\t+\n",
       "Latitude &lt;= 33.635 (Tree #3 root)\n",
       "\tLongitude &lt;= -117.145 (split)\n",
       "\t\tVal: 0.521 (leaf)\n",
       "\t\tVal: -0.006 (leaf)\n",
       "\tVal: -0.019 (leaf)\n",
       "</pre><b>In a Jupyter environment, please rerun this cell to show the HTML representation or trust the notebook. <br />On GitHub, the HTML representation is unable to render, please try loading this page with nbviewer.org.</b></div><div class=\"sk-container\" hidden><div class=\"sk-item\"><div class=\"sk-estimator fitted sk-toggleable\"><input class=\"sk-toggleable__control sk-hidden--visually\" id=\"sk-estimator-id-1\" type=\"checkbox\" checked><label for=\"sk-estimator-id-1\" class=\"sk-toggleable__label fitted sk-toggleable__label-arrow fitted\">&nbsp;FIGSRegressor<span class=\"sk-estimator-doc-link fitted\">i<span>Fitted</span></span></label><div class=\"sk-toggleable__content fitted\"><pre>&gt; ------------------------------\n",
       "&gt; FIGS-Fast Interpretable Greedy-Tree Sums:\n",
       "&gt; \tPredictions are made by summing the &quot;Val&quot; reached by traversing each tree.\n",
       "&gt; \tFor classifiers, a sigmoid function is then applied to the sum.\n",
       "&gt; ------------------------------\n",
       "MedInc &lt;= 5.137 (Tree #0 root)\n",
       "\tMedInc &lt;= 3.067 (split)\n",
       "\t\tMedInc &lt;= 2.213 (split)\n",
       "\t\t\tVal: 1.171 (leaf)\n",
       "\t\t\tVal: 1.460 (leaf)\n",
       "\t\tMedInc &lt;= 4.152 (split)\n",
       "\t\t\tVal: 1.924 (leaf)\n",
       "\t\t\tVal: 2.282 (leaf)\n",
       "\tMedInc &lt;= 7.789 (split)\n",
       "\t\tMedInc &lt;= 6.326 (split)\n",
       "\t\t\tVal: 2.821 (leaf)\n",
       "\t\t\tVal: 3.493 (leaf)\n",
       "\t\tVal: 4.664 (leaf)\n",
       "\n",
       "\t+\n",
       "AveOccup &lt;= 2.309 (Tree #1 root)\n",
       "\tHouseAge &lt;= 18.500 (split)\n",
       "\t\tVal: 0.191 (leaf)\n",
       "\t\tAveOccup &lt;= 2.030 (split)\n",
       "\t\t\tVal: 0.944 (leaf)\n",
       "\t\t\tVal: 0.516 (leaf)\n",
       "\tAveOccup &lt;= 2.842 (split)\n",
       "\t\tVal: 0.078 (leaf)\n",
       "\t\tMedInc &lt;= 3.067 (split)\n",
       "\t\t\tVal: -0.059 (leaf)\n",
       "\t\t\tAveOccup &lt;= 3.146 (split)\n",
       "\t\t\t\tVal: -0.197 (leaf)\n",
       "\t\t\t\tVal: -0.438 (leaf)\n",
       "\n",
       "\t+\n",
       "Latitude &lt;= 37.935 (Tree #2 root)\n",
       "\tLongitude &lt;= -122.305 (split)\n",
       "\t\tVal: 0.967 (leaf)\n",
       "\t\tLongitude &lt;= -117.795 (split)\n",
       "\t\t\tLatitude &lt;= 34.510 (split)\n",
       "\t\t\t\tLongitude &lt;= -118.285 (split)\n",
       "\t\t\t\t\tLatitude &lt;= 34.155 (split)\n",
       "\t\t\t\t\t\tLongitude &lt;= -118.365 (split)\n",
       "\t\t\t\t\t\t\tMedInc &lt;= 6.643 (split)\n",
       "\t\t\t\t\t\t\t\tVal: 1.149 (leaf)\n",
       "\t\t\t\t\t\t\t\tVal: 0.324 (leaf)\n",
       "\t\t\t\t\t\t\tLatitude &lt;= 34.045 (split)\n",
       "\t\t\t\t\t\t\t\tLatitude &lt;= 33.855 (split)\n",
       "\t\t\t\t\t\t\t\t\tVal: 0.808 (leaf)\n",
       "\t\t\t\t\t\t\t\t\tVal: 0.083 (leaf)\n",
       "\t\t\t\t\t\t\t\tVal: 1.127 (leaf)\n",
       "\t\t\t\t\t\tVal: 0.353 (leaf)\n",
       "\t\t\t\t\tLatitude &lt;= 34.025 (split)\n",
       "\t\t\t\t\t\tVal: 0.112 (leaf)\n",
       "\t\t\t\t\t\tVal: 0.369 (leaf)\n",
       "\t\t\t\tLongitude &lt;= -121.255 (split)\n",
       "\t\t\t\t\tLatitude &lt;= 37.565 (split)\n",
       "\t\t\t\t\t\tVal: 0.403 (leaf)\n",
       "\t\t\t\t\t\tVal: -0.063 (leaf)\n",
       "\t\t\t\t\tLongitude &lt;= -120.075 (split)\n",
       "\t\t\t\t\t\tVal: -0.244 (leaf)\n",
       "\t\t\t\t\t\tVal: -0.680 (leaf)\n",
       "\t\t\tVal: -0.310 (leaf)\n",
       "\tLongitude &lt;= -122.395 (split)\n",
       "\t\tLatitude &lt;= 38.690 (split)\n",
       "\t\t\tVal: 0.173 (leaf)\n",
       "\t\t\tVal: -0.572 (leaf)\n",
       "\t\tVal: -0.506 (leaf)\n",
       "\n",
       "\t+\n",
       "Latitude &lt;= 33.635 (Tree #3 root)\n",
       "\tLongitude &lt;= -117.145 (split)\n",
       "\t\tVal: 0.521 (leaf)\n",
       "\t\tVal: -0.006 (leaf)\n",
       "\tVal: -0.019 (leaf)\n",
       "</pre></div> </div></div></div></div>"
      ],
      "text/plain": [
       "FIGSRegressor(max_rules=30, max_trees=5)"
      ]
     },
     "execution_count": 18,
     "metadata": {},
     "output_type": "execute_result"
    }
   ],
   "source": [
    "fbm.figs"
   ]
  },
  {
   "cell_type": "code",
   "execution_count": 19,
   "id": "aea0f21c-84c8-42d0-863d-26ff237ec975",
   "metadata": {},
   "outputs": [
    {
     "data": {
      "text/plain": [
       "<fourierDistill.FTDistillRegressorCV at 0x7efba209e850>"
      ]
     },
     "execution_count": 19,
     "metadata": {},
     "output_type": "execute_result"
    }
   ],
   "source": [
    "ftd = FTDistillRegressorCV(pre_max_features=0.5, post_max_features=fbm.num_interactions, size_interactions = min(fbm.max_interaction_size, 3), re_fit_alpha = 10**np.linspace(-3, 3, 100))\n",
    "ftd.fit(X_train_new, y_train)"
   ]
  },
  {
   "cell_type": "code",
   "execution_count": 20,
   "id": "8bdb2360-1525-4f3b-8343-ef1ae2de4866",
   "metadata": {},
   "outputs": [
    {
     "data": {
      "text/plain": [
       "(0.747570806479104, 0.747321775138391)"
      ]
     },
     "execution_count": 20,
     "metadata": {},
     "output_type": "execute_result"
    }
   ],
   "source": [
    "r2_score(y_val, ftd.predict(X_val_new)), r2_score(y_val, fbm.predict(X_val))"
   ]
  },
  {
   "cell_type": "code",
   "execution_count": 21,
   "id": "173766a6-4b21-40ab-9c2b-250fa13296df",
   "metadata": {},
   "outputs": [
    {
     "data": {
      "text/plain": [
       "35"
      ]
     },
     "execution_count": 21,
     "metadata": {},
     "output_type": "execute_result"
    }
   ],
   "source": [
    "len(ftd.post_sparsity_model.coef_)"
   ]
  },
  {
   "cell_type": "code",
   "execution_count": 22,
   "id": "41d1732d-eb82-4ad7-96e3-629065cf0da5",
   "metadata": {},
   "outputs": [
    {
     "data": {
      "text/plain": [
       "Index([                                                  ('MedInc_<=_7.789',),\n",
       "                                                    ('Longitude_>_-117.145',),\n",
       "                                     ('MedInc_<=_7.789', 'Latitude_>_37.565'),\n",
       "                                ('Longitude_>_-121.255', 'Latitude_>_37.935'),\n",
       "                                ('Longitude_>_-120.075', 'Latitude_>_37.935'),\n",
       "                                   ('Latitude_<=_38.69', 'Latitude_>_37.935'),\n",
       "                               ('Longitude_<=_-122.305', 'Latitude_<=_38.69'),\n",
       "                                ('Longitude_>_-118.285', 'Latitude_>_33.635'),\n",
       "                    ('MedInc_>_5.137', 'MedInc_>_2.213', 'Latitude_<=_38.69'),\n",
       "               ('MedInc_>_5.137', 'Longitude_>_-120.075', 'Latitude_>_34.51'),\n",
       "                      ('MedInc_>_4.152', 'MedInc_>_3.067', 'MedInc_<=_6.643'),\n",
       "                 ('MedInc_>_3.067', 'AveOccup_<=_3.146', 'Latitude_<=_38.69'),\n",
       "               ('MedInc_>_3.067', 'Longitude_<=_-122.395', 'MedInc_<=_6.643'),\n",
       "              ('AveOccup_<=_2.309', 'MedInc_>_2.213', 'Longitude_>_-121.255'),\n",
       "              ('Longitude_<=_-122.395', 'HouseAge_<=_18.5', 'MedInc_>_2.213'),\n",
       "             ('MedInc_>_2.213', 'Longitude_<=_-117.795', 'Latitude_<=_38.69'),\n",
       "                 ('MedInc_>_4.152', 'MedInc_>_6.326', 'Longitude_>_-118.285'),\n",
       "                 ('MedInc_<=_7.789', 'AveOccup_<=_2.309', 'HouseAge_<=_18.5'),\n",
       "                    ('MedInc_<=_7.789', 'AveOccup_>_2.03', 'MedInc_<=_6.643'),\n",
       "              ('MedInc_<=_7.789', 'Longitude_>_-121.255', 'Latitude_>_34.51'),\n",
       "                  ('MedInc_>_6.326', 'Latitude_>_34.51', 'Latitude_<=_38.69'),\n",
       "           ('AveOccup_<=_2.309', 'HouseAge_<=_18.5', 'Longitude_<=_-122.305'),\n",
       "          ('AveOccup_<=_2.309', 'Longitude_<=_-117.795', 'Latitude_<=_38.69'),\n",
       "            ('AveOccup_<=_2.309', 'Longitude_<=_-122.395', 'MedInc_<=_6.643'),\n",
       "                 ('AveOccup_>_2.03', 'HouseAge_<=_18.5', 'Latitude_>_37.935'),\n",
       "            ('HouseAge_<=_18.5', 'Latitude_>_33.635', 'Longitude_>_-117.145'),\n",
       "                ('AveOccup_>_2.03', 'AveOccup_<=_2.842', 'Latitude_<=_38.69'),\n",
       "          ('AveOccup_<=_2.842', 'Longitude_<=_-122.305', 'Latitude_>_37.935'),\n",
       "          ('Longitude_<=_-122.395', 'AveOccup_<=_2.842', 'Latitude_<=_38.69'),\n",
       "        ('Longitude_>_-120.075', 'Longitude_<=_-117.795', 'Latitude_>_34.51'),\n",
       "       ('Longitude_>_-118.285', 'Longitude_<=_-117.795', 'Latitude_>_33.855'),\n",
       "          ('Longitude_<=_-117.795', 'Latitude_>_34.025', 'Latitude_<=_38.69'),\n",
       "         ('Latitude_<=_34.155', 'Latitude_>_33.635', 'Longitude_<=_-118.365'),\n",
       "                ('Latitude_>_33.635', 'Latitude_>_33.855', 'MedInc_<=_6.643')],\n",
       "      dtype='object')"
      ]
     },
     "execution_count": 22,
     "metadata": {},
     "output_type": "execute_result"
    }
   ],
   "source": [
    "ftd.post_interaction_features"
   ]
  },
  {
   "cell_type": "code",
   "execution_count": 23,
   "id": "36eaa215-3270-470b-ae44-09f7302174de",
   "metadata": {},
   "outputs": [],
   "source": [
    "interactions = []\n",
    "figs_weight_dict = {}\n",
    "for i, tree in enumerate(fbm.figs_rules):\n",
    "        for interaction_weight in tree:\n",
    "            interaction, weight = interaction_weight\n",
    "            cur_interaction = []\n",
    "            for rule, sign in interaction:\n",
    "                if sign == 'flip':\n",
    "                    cur_interaction.append(f'{rule.feature_names[rule.feature]}_>_{str(round(rule.threshold, 3))}')\n",
    "                elif sign == 'original':\n",
    "                    cur_interaction.append(f'{rule.feature_names[rule.feature]}_<=_{str(round(rule.threshold, 3))}')\n",
    "                else:\n",
    "                    print('?')\n",
    "            figs_weight_dict[tuple(cur_interaction)] = weight\n",
    "            interactions.append([cur_interaction, weight])"
   ]
  },
  {
   "cell_type": "code",
   "execution_count": 24,
   "id": "7bb18293-341d-4575-a568-6c8cdece8f97",
   "metadata": {},
   "outputs": [],
   "source": [
    "def make_figs_lm_df(X, interactions):\n",
    "    df = pd.DataFrame()\n",
    "    for interaction, weigth in interactions:\n",
    "        cur_val = 1\n",
    "        for inter in interaction:\n",
    "            cur_val *= X[inter]\n",
    "        df[tuple(interaction)] = cur_val.values\n",
    "    return df"
   ]
  },
  {
   "cell_type": "code",
   "execution_count": 25,
   "id": "71716c39-a5e7-43a6-9d40-7bb64464977b",
   "metadata": {},
   "outputs": [],
   "source": [
    "def figs_lm_predict(X, figs_weight_dict):\n",
    "    pred_sum = 0 \n",
    "    for interaction in figs_weight_dict.keys():\n",
    "        pred_sum += figs_weight_dict[interaction] * X[interaction]\n",
    "    return pred_sum\n"
   ]
  },
  {
   "cell_type": "code",
   "execution_count": 26,
   "id": "bca8c7ca-b3fb-4c09-9960-b40fbf7e6b08",
   "metadata": {},
   "outputs": [
    {
     "data": {
      "text/plain": [
       "[('MedInc_>_5.137', 'MedInc_>_7.789'),\n",
       " ('MedInc_>_5.137', 'MedInc_<=_7.789', 'MedInc_>_6.326'),\n",
       " ('MedInc_>_5.137', 'MedInc_<=_7.789', 'MedInc_<=_6.326'),\n",
       " ('MedInc_<=_5.137', 'MedInc_>_3.067', 'MedInc_>_4.152'),\n",
       " ('MedInc_<=_5.137', 'MedInc_>_3.067', 'MedInc_<=_4.152'),\n",
       " ('MedInc_<=_5.137', 'MedInc_<=_3.067', 'MedInc_>_2.213'),\n",
       " ('MedInc_<=_5.137', 'MedInc_<=_3.067', 'MedInc_<=_2.213'),\n",
       " ('AveOccup_>_2.309',\n",
       "  'AveOccup_>_2.842',\n",
       "  'MedInc_>_3.067',\n",
       "  'AveOccup_>_3.146'),\n",
       " ('AveOccup_>_2.309',\n",
       "  'AveOccup_>_2.842',\n",
       "  'MedInc_>_3.067',\n",
       "  'AveOccup_<=_3.146'),\n",
       " ('AveOccup_>_2.309', 'AveOccup_>_2.842', 'MedInc_<=_3.067'),\n",
       " ('AveOccup_>_2.309', 'AveOccup_<=_2.842'),\n",
       " ('AveOccup_<=_2.309', 'HouseAge_>_18.5', 'AveOccup_>_2.03'),\n",
       " ('AveOccup_<=_2.309', 'HouseAge_>_18.5', 'AveOccup_<=_2.03'),\n",
       " ('AveOccup_<=_2.309', 'HouseAge_<=_18.5'),\n",
       " ('Latitude_>_37.935', 'Longitude_>_-122.395'),\n",
       " ('Latitude_>_37.935', 'Longitude_<=_-122.395', 'Latitude_>_38.69'),\n",
       " ('Latitude_>_37.935', 'Longitude_<=_-122.395', 'Latitude_<=_38.69'),\n",
       " ('Latitude_<=_37.935', 'Longitude_>_-122.305', 'Longitude_>_-117.795'),\n",
       " ('Latitude_<=_37.935',\n",
       "  'Longitude_>_-122.305',\n",
       "  'Longitude_<=_-117.795',\n",
       "  'Latitude_>_34.51',\n",
       "  'Longitude_>_-121.255',\n",
       "  'Longitude_>_-120.075'),\n",
       " ('Latitude_<=_37.935',\n",
       "  'Longitude_>_-122.305',\n",
       "  'Longitude_<=_-117.795',\n",
       "  'Latitude_>_34.51',\n",
       "  'Longitude_>_-121.255',\n",
       "  'Longitude_<=_-120.075'),\n",
       " ('Latitude_<=_37.935',\n",
       "  'Longitude_>_-122.305',\n",
       "  'Longitude_<=_-117.795',\n",
       "  'Latitude_>_34.51',\n",
       "  'Longitude_<=_-121.255',\n",
       "  'Latitude_>_37.565'),\n",
       " ('Latitude_<=_37.935',\n",
       "  'Longitude_>_-122.305',\n",
       "  'Longitude_<=_-117.795',\n",
       "  'Latitude_>_34.51',\n",
       "  'Longitude_<=_-121.255',\n",
       "  'Latitude_<=_37.565'),\n",
       " ('Latitude_<=_37.935',\n",
       "  'Longitude_>_-122.305',\n",
       "  'Longitude_<=_-117.795',\n",
       "  'Latitude_<=_34.51',\n",
       "  'Longitude_>_-118.285',\n",
       "  'Latitude_>_34.025'),\n",
       " ('Latitude_<=_37.935',\n",
       "  'Longitude_>_-122.305',\n",
       "  'Longitude_<=_-117.795',\n",
       "  'Latitude_<=_34.51',\n",
       "  'Longitude_>_-118.285',\n",
       "  'Latitude_<=_34.025'),\n",
       " ('Latitude_<=_37.935',\n",
       "  'Longitude_>_-122.305',\n",
       "  'Longitude_<=_-117.795',\n",
       "  'Latitude_<=_34.51',\n",
       "  'Longitude_<=_-118.285',\n",
       "  'Latitude_>_34.155'),\n",
       " ('Latitude_<=_37.935',\n",
       "  'Longitude_>_-122.305',\n",
       "  'Longitude_<=_-117.795',\n",
       "  'Latitude_<=_34.51',\n",
       "  'Longitude_<=_-118.285',\n",
       "  'Latitude_<=_34.155',\n",
       "  'Longitude_>_-118.365',\n",
       "  'Latitude_>_34.045'),\n",
       " ('Latitude_<=_37.935',\n",
       "  'Longitude_>_-122.305',\n",
       "  'Longitude_<=_-117.795',\n",
       "  'Latitude_<=_34.51',\n",
       "  'Longitude_<=_-118.285',\n",
       "  'Latitude_<=_34.155',\n",
       "  'Longitude_>_-118.365',\n",
       "  'Latitude_<=_34.045',\n",
       "  'Latitude_>_33.855'),\n",
       " ('Latitude_<=_37.935',\n",
       "  'Longitude_>_-122.305',\n",
       "  'Longitude_<=_-117.795',\n",
       "  'Latitude_<=_34.51',\n",
       "  'Longitude_<=_-118.285',\n",
       "  'Latitude_<=_34.155',\n",
       "  'Longitude_>_-118.365',\n",
       "  'Latitude_<=_34.045',\n",
       "  'Latitude_<=_33.855'),\n",
       " ('Latitude_<=_37.935',\n",
       "  'Longitude_>_-122.305',\n",
       "  'Longitude_<=_-117.795',\n",
       "  'Latitude_<=_34.51',\n",
       "  'Longitude_<=_-118.285',\n",
       "  'Latitude_<=_34.155',\n",
       "  'Longitude_<=_-118.365',\n",
       "  'MedInc_>_6.643'),\n",
       " ('Latitude_<=_37.935',\n",
       "  'Longitude_>_-122.305',\n",
       "  'Longitude_<=_-117.795',\n",
       "  'Latitude_<=_34.51',\n",
       "  'Longitude_<=_-118.285',\n",
       "  'Latitude_<=_34.155',\n",
       "  'Longitude_<=_-118.365',\n",
       "  'MedInc_<=_6.643'),\n",
       " ('Latitude_<=_37.935', 'Longitude_<=_-122.305'),\n",
       " ('Latitude_>_33.635',),\n",
       " ('Latitude_<=_33.635', 'Longitude_>_-117.145'),\n",
       " ('Latitude_<=_33.635', 'Longitude_<=_-117.145')]"
      ]
     },
     "execution_count": 26,
     "metadata": {},
     "output_type": "execute_result"
    }
   ],
   "source": [
    "[tuple(inter) for inter, weight in interactions]"
   ]
  },
  {
   "cell_type": "code",
   "execution_count": 27,
   "id": "ca0553eb-0acf-420e-b508-8f7fc9966e7a",
   "metadata": {},
   "outputs": [],
   "source": [
    "def figs_lm_get_coef(X):\n",
    "    coefs = []\n",
    "    for col in X.columns:\n",
    "        coefs.append(figs_weight_dict[col])\n",
    "    return np.array(coefs)\n"
   ]
  },
  {
   "cell_type": "code",
   "execution_count": 28,
   "id": "fba5825c-20db-48ba-8740-5170973a8303",
   "metadata": {},
   "outputs": [
    {
     "ename": "NameError",
     "evalue": "name 'figs_lm_train' is not defined",
     "output_type": "error",
     "traceback": [
      "\u001b[0;31m---------------------------------------------------------------------------\u001b[0m",
      "\u001b[0;31mNameError\u001b[0m                                 Traceback (most recent call last)",
      "Input \u001b[0;32mIn [28]\u001b[0m, in \u001b[0;36m<cell line: 1>\u001b[0;34m()\u001b[0m\n\u001b[0;32m----> 1\u001b[0m figs_lm_coefs \u001b[38;5;241m=\u001b[39m figs_lm_get_coef(\u001b[43mfigs_lm_train\u001b[49m)\n",
      "\u001b[0;31mNameError\u001b[0m: name 'figs_lm_train' is not defined"
     ]
    }
   ],
   "source": [
    "figs_lm_coefs = figs_lm_get_coef(figs_lm_train)"
   ]
  },
  {
   "cell_type": "code",
   "execution_count": null,
   "id": "a13551c3-98da-48d4-a197-af16706f44e3",
   "metadata": {},
   "outputs": [],
   "source": [
    "def solve_lambda(X, y, beta):\n",
    "    A = X.T @ X\n",
    "    b = X.T @ y\n",
    "    #lambda_vec = (b - A @ beta) / beta\n",
    "    lambdas = []\n",
    "    for i, lam in enumerate(b- A@beta):\n",
    "        lambdas.append(lam/beta[i])\n",
    "    return np.array(lambdas)\n",
    "\n",
    "lambda_vec = solve_lambda(figs_lm_train.values, y_train.values, figs_lm_coefs)"
   ]
  },
  {
   "cell_type": "code",
   "execution_count": null,
   "id": "f543d014-a0d9-424d-b319-c9889fbc0240",
   "metadata": {},
   "outputs": [],
   "source": [
    "np.round(lambda_vec, 3)"
   ]
  },
  {
   "cell_type": "code",
   "execution_count": null,
   "id": "5ecfb6b2-765b-4c4b-a5b1-72b4851bc90c",
   "metadata": {},
   "outputs": [],
   "source": [
    "figs_lm_train = make_figs_lm_df(X_train_new, interactions)"
   ]
  },
  {
   "cell_type": "code",
   "execution_count": null,
   "id": "79315be2-5b16-4b0e-a9d0-76274f4c9fb4",
   "metadata": {},
   "outputs": [],
   "source": [
    "len(pd.Series(fbm.predict(X_train), name = 'figs_preds').value_counts())"
   ]
  },
  {
   "cell_type": "code",
   "execution_count": null,
   "id": "d5ffcb8f-4008-4fe6-8724-15c48029a4a7",
   "metadata": {},
   "outputs": [],
   "source": [
    "np.where(figs_lm_predict(figs_lm_train, figs_weight_dict).to_numpy() != fbm.predict(X_train))"
   ]
  },
  {
   "cell_type": "code",
   "execution_count": null,
   "id": "c89fd06a-5458-4804-83eb-ed0d20672314",
   "metadata": {},
   "outputs": [],
   "source": [
    "figs_lm_predict(figs_lm_train, figs_weight_dict).to_numpy()[7803], fbm.predict(X_train)[7803]"
   ]
  },
  {
   "cell_type": "code",
   "execution_count": null,
   "id": "9393ec19-9c77-4f5c-baaa-c0c0dbfb0d54",
   "metadata": {},
   "outputs": [],
   "source": [
    "np.mean(abs(figs_lm_predict(figs_lm_train, figs_weight_dict).to_numpy() - fbm.predict(X_train))< 1)"
   ]
  },
  {
   "cell_type": "code",
   "execution_count": null,
   "id": "bc7f4473-b149-42d6-87e7-8598417b8ddf",
   "metadata": {},
   "outputs": [],
   "source": [
    "fbm.predict(X_train)"
   ]
  },
  {
   "cell_type": "code",
   "execution_count": null,
   "id": "8ebc113f-a6fc-4df3-b730-9b50effbe62e",
   "metadata": {},
   "outputs": [],
   "source": [
    "[tuple([f'{xi[0].feature_names[xi[0].feature]}_<=_{str(xi[0].threshold)}' if xi[1] == 'original' else f'{xi[0].feature_names[xi[0].feature]}_>_{str(xi[0].threshold)}'  for xi in x]) for x in t2]"
   ]
  },
  {
   "cell_type": "code",
   "execution_count": null,
   "id": "b2b84cf6-7247-477b-bd04-14197126adf1",
   "metadata": {},
   "outputs": [],
   "source": []
  },
  {
   "cell_type": "code",
   "execution_count": null,
   "id": "13ef8442-daaf-4678-95aa-309968600ff4",
   "metadata": {},
   "outputs": [],
   "source": [
    "t2 = [tuple(xi[0]) for x in t for xi in x]\n",
    "\n",
    "df = pd.DataFrame(columns = sorted([tuple([f'{xi[0].feature_names[xi[0].feature]}_<=_{str(xi[0].threshold)}' if xi[1] == 'original' else f'{xi[0].feature_names[xi[0].feature]}_>_{str(xi[0].threshold)}'  for xi in x]) for x in t2], key = len))\n",
    "df.columns"
   ]
  },
  {
   "cell_type": "code",
   "execution_count": null,
   "id": "814cac60-de8a-41a2-822e-83b56373aff9",
   "metadata": {},
   "outputs": [],
   "source": [
    "figs_paths = sorted([tuple([f'{xi[0].feature_names[xi[0].feature]}_<=_{str(xi[0].threshold)}' if xi[1] == 'original' else f'{xi[0].feature_names[xi[0].feature]}_>_{str(xi[0].threshold)}'  for xi in x]) for x in t2], key = len)\n",
    "figs_sorted = [sorted(fp) for fp in figs_paths]"
   ]
  },
  {
   "cell_type": "code",
   "execution_count": null,
   "id": "08976972-45ca-4643-82c7-7b6efdf811d0",
   "metadata": {},
   "outputs": [],
   "source": [
    "ftd_paths = ftd.post_interaction_features\n",
    "ftd_sorted = [sorted(fp) for fp in ftd_paths]"
   ]
  },
  {
   "cell_type": "code",
   "execution_count": null,
   "id": "3b0b93ca-d416-4def-9568-bc0f1f400d6c",
   "metadata": {},
   "outputs": [],
   "source": [
    "len(figs_sorted), len(ftd_sorted)"
   ]
  },
  {
   "cell_type": "code",
   "execution_count": null,
   "id": "e976be8f-1c4d-45ac-8836-d63b423e7d28",
   "metadata": {},
   "outputs": [],
   "source": [
    "np.sum([o == t for o in figs_sorted for t in ftd_sorted])"
   ]
  },
  {
   "cell_type": "code",
   "execution_count": null,
   "id": "e15d23c1-006c-48e4-95cd-523c46f8e6ba",
   "metadata": {},
   "outputs": [],
   "source": [
    "t2 = [tuple(xi[0]) for x in fbm.figs_rules for xi in x]\n",
    "\n",
    "figs_paths = sorted([tuple([f'{xi[0].feature_names[xi[0].feature]}_<=_{str(xi[0].threshold)}' if xi[1] == 'original' else f'{xi[0].feature_names[xi[0].feature]}_>_{str(xi[0].threshold)}'  for xi in x]) for x in t2], key=len)\n",
    "ftd_paths = ftd.post_interaction_features\n",
    "                     \n",
    "list1 = [set(fp) for fp in figs_paths]\n",
    "list2 = [set(fp) for fp in ftd_paths]\n",
    "frozensets_list1 = set(frozenset(s) for s in list1)\n",
    "frozensets_list2 = set(frozenset(s) for s in list2)\n",
    "\n",
    "# Step 2: Find the intersection of the two sets\n",
    "common_frozensets = frozensets_list1.intersection(frozensets_list2)\n",
    "\n",
    "# Step 3: Count the number of elements in the intersection\n",
    "common_count = len(common_frozensets)\n",
    "\n",
    "print(f\"Number of common sets: {common_count}\")\n"
   ]
  },
  {
   "cell_type": "code",
   "execution_count": null,
   "id": "b88ef33d-95dc-498b-ab5f-b31480dc8492",
   "metadata": {},
   "outputs": [],
   "source": [
    "[set(fp) for fp in ftd_paths]"
   ]
  },
  {
   "cell_type": "code",
   "execution_count": null,
   "id": "b8a0c9f1-27bc-4aeb-8537-a2c2fd23d531",
   "metadata": {},
   "outputs": [],
   "source": [
    "if ftd.pre_interaction_model is not None:\n",
    "    X_cur = X_train_new[ftd.pre_interaction_features]\n",
    "\n",
    "poly_features = list(map(lambda s: set(s.split()), ftd.poly.get_feature_names_out(X_cur.columns)))\n",
    "        \n",
    "Chi = pd.DataFrame(ftd.poly.transform(X_cur), columns=list(map(lambda f: tuple(f), poly_features))).loc[:, ftd.features]\n",
    "\n",
    "Chi.drop(columns = [('1',)], inplace=True)\n",
    "\n",
    "if ftd.re_fit_alpha is not None:\n",
    "    Chi[('1',)] = 1\n",
    "    Chi = Chi[np.array([('1',)]+list(ftd.post_interaction_features), dtype=object)]"
   ]
  },
  {
   "cell_type": "code",
   "execution_count": null,
   "id": "8053747c-316e-493a-a4dc-372382d4f2fe",
   "metadata": {},
   "outputs": [],
   "source": [
    "new_coefs = []\n",
    "for i in Chi.columns:\n",
    "    new_coefs.append(np.sum(Chi[i] * y_train)/np.sum(Chi[i]))\n",
    "new_coefs = np.array(new_coefs)"
   ]
  },
  {
   "cell_type": "code",
   "execution_count": null,
   "id": "176e4092-bd88-4db6-afa1-8a680ce608f4",
   "metadata": {},
   "outputs": [],
   "source": [
    "new_coefs, ftd.post_sparsity_model.coef_"
   ]
  },
  {
   "cell_type": "code",
   "execution_count": null,
   "id": "745157e3-2087-4dfc-99a2-a8fece638a9b",
   "metadata": {},
   "outputs": [],
   "source": [
    "Chi @new_coefs, y_train"
   ]
  },
  {
   "cell_type": "code",
   "execution_count": null,
   "id": "cc4bcedd-a986-4b5d-b544-bc4c2b7a9ee3",
   "metadata": {},
   "outputs": [],
   "source": [
    "r2_score(y_train, Chi @new_coefs)"
   ]
  },
  {
   "cell_type": "code",
   "execution_count": null,
   "id": "141ca29f-8b9b-4e2c-9327-375a69667677",
   "metadata": {},
   "outputs": [],
   "source": [
    "r2_score(y_train, fbm.figs.predict(X_train)), r2_score(y_train, ftd.predict(X_train_new))"
   ]
  },
  {
   "cell_type": "code",
   "execution_count": null,
   "id": "6d7cdc1c-2554-434d-85d7-283b5c6085be",
   "metadata": {},
   "outputs": [],
   "source": [
    "r2_score(y_val, fbm.figs.predict(X_val)), r2_score(y_val, ftd.predict(X_val_new))"
   ]
  },
  {
   "cell_type": "code",
   "execution_count": null,
   "id": "62a97090-0f0e-463a-a3b3-79c7e3e9d6d9",
   "metadata": {},
   "outputs": [],
   "source": [
    "r2_score(y_test, fbm.figs.predict(X_test)), r2_score(y_test, ftd.predict(X_test_new))"
   ]
  },
  {
   "cell_type": "code",
   "execution_count": null,
   "id": "88da7747-a73f-4126-8bc3-674ff7b29f9a",
   "metadata": {},
   "outputs": [],
   "source": [
    "def process_figs_splits(figs):\n",
    "    figs_rc = [traverse_paths(t) for t in figs.trees_]\n",
    "    print(figs_rc)\n",
    "    #figs_r = [r for r, c in figs_rc]\n",
    "    figs_rules = [x for xs in figs_rc for x in xs]\n",
    "    return figs_rules"
   ]
  },
  {
   "cell_type": "code",
   "execution_count": null,
   "id": "e8b381e4-6e41-480e-a9a3-47b7970a0c5a",
   "metadata": {},
   "outputs": [],
   "source": [
    "t = process_figs_splits(figs)\n",
    "t"
   ]
  },
  {
   "cell_type": "code",
   "execution_count": null,
   "id": "480288dc-7b77-458c-aef4-e6c4c012a1f4",
   "metadata": {},
   "outputs": [],
   "source": [
    "ftd = FTDistillRegressorCV(pre_interaction=None, post_max_features=10)\n",
    "ftd.fit(X_train_new, y_train)"
   ]
  },
  {
   "cell_type": "code",
   "execution_count": null,
   "id": "42737869-0a58-4b1e-aaac-a4944c7a4b80",
   "metadata": {},
   "outputs": [],
   "source": [
    "figs = FIGSRegressor(max_rules = 17, max_trees = 10)\n",
    "figs.fit(X_train_new, y_train, feature_names = list(X_train_new.columns))"
   ]
  },
  {
   "cell_type": "code",
   "execution_count": null,
   "id": "20ff95aa-bbc4-422a-bc0d-1859e45793e1",
   "metadata": {},
   "outputs": [],
   "source": [
    "len(figs.trees_)"
   ]
  },
  {
   "cell_type": "code",
   "execution_count": null,
   "id": "b7ed1bca-6a7e-4fb5-b401-7f70b65908ae",
   "metadata": {
    "tags": []
   },
   "outputs": [],
   "source": [
    "figs_rules = [traverse_paths(t) for t in figs.trees_]"
   ]
  },
  {
   "cell_type": "code",
   "execution_count": null,
   "id": "677d467b-1ee1-4a54-86f1-a22cab876ffa",
   "metadata": {},
   "outputs": [],
   "source": [
    "figs_rules"
   ]
  },
  {
   "cell_type": "code",
   "execution_count": null,
   "id": "e5ae0f34-d71f-48fc-8dd0-4b12c8962630",
   "metadata": {},
   "outputs": [],
   "source": [
    "figs_rules = [\n",
    "    x\n",
    "    for xs in figs_rules\n",
    "    for x in xs\n",
    "]"
   ]
  },
  {
   "cell_type": "code",
   "execution_count": null,
   "id": "6f5542d9-7427-4574-a5c5-65760fbd4441",
   "metadata": {},
   "outputs": [],
   "source": [
    "len(figs_rules)"
   ]
  },
  {
   "cell_type": "code",
   "execution_count": null,
   "id": "0ecfd5b7-5f1b-470f-b6fb-68545c50e5e7",
   "metadata": {},
   "outputs": [],
   "source": [
    "figs_rules"
   ]
  },
  {
   "cell_type": "code",
   "execution_count": null,
   "id": "2409b6a0-263d-47c5-a134-79b2ecd9d68e",
   "metadata": {},
   "outputs": [],
   "source": [
    "paths = []\n",
    "weights = []\n",
    "for path, weight in figs_rules:\n",
    "    cur_path = []\n",
    "    for stop in path:\n",
    "        cur_path.append(stop.feature_names[stop.feature])\n",
    "    paths.append(tuple(cur_path))\n",
    "    weights.append(weight)"
   ]
  },
  {
   "cell_type": "code",
   "execution_count": null,
   "id": "f4e044c9-44df-43c2-9e29-28712ba086ce",
   "metadata": {},
   "outputs": [],
   "source": [
    "'AJKD'.lower()"
   ]
  },
  {
   "cell_type": "code",
   "execution_count": null,
   "id": "dad5f81a-edc0-44fd-bf86-d85587616666",
   "metadata": {
    "tags": []
   },
   "outputs": [],
   "source": [
    "figs_int = sorted(paths, key=lambda x: (len(x), x[0].lower()))"
   ]
  },
  {
   "cell_type": "code",
   "execution_count": null,
   "id": "63973d6b-684f-4f30-b956-bb23c9622f5b",
   "metadata": {},
   "outputs": [],
   "source": [
    "ftd_int = sorted(list(ftd.post_interaction_features), key=lambda x: (len(x), x[0].lower()))"
   ]
  },
  {
   "cell_type": "code",
   "execution_count": null,
   "id": "2ef3bce3-c171-48bb-81c8-5911bb490474",
   "metadata": {},
   "outputs": [],
   "source": [
    "[sorted(f) for f in figs_int]"
   ]
  },
  {
   "cell_type": "code",
   "execution_count": null,
   "id": "14ca861f-e270-4d78-9b16-61b5cbe7969a",
   "metadata": {},
   "outputs": [],
   "source": [
    "[sorted(f) for f in ftd_int]"
   ]
  },
  {
   "cell_type": "code",
   "execution_count": null,
   "id": "203d8d37-1dcc-4a55-9c14-28a81b4d3741",
   "metadata": {},
   "outputs": [],
   "source": [
    "sum([x == y for x in figs_int for y in ftd_int])"
   ]
  },
  {
   "cell_type": "code",
   "execution_count": null,
   "id": "fc71818f-5e51-46fd-8730-2122dbd777ad",
   "metadata": {},
   "outputs": [],
   "source": [
    "flat_figs_int = [s for t in figs_int for s in t]\n",
    "flat_ftd_int = [s for t in ftd_int for s in t]\n",
    "print(f'FIGS unique: {sorted(list(set(flat_figs_int)))}')\n",
    "print(f'FT Distill unique: {sorted(list(set(flat_ftd_int)))}')"
   ]
  },
  {
   "cell_type": "code",
   "execution_count": null,
   "id": "85f58974-59d8-4bb2-863d-8bfb3d2eb581",
   "metadata": {},
   "outputs": [],
   "source": [
    "from sklearn.metrics import r2_score"
   ]
  },
  {
   "cell_type": "code",
   "execution_count": null,
   "id": "d55e8db6-ef56-4d83-9c2e-065db90be32b",
   "metadata": {},
   "outputs": [],
   "source": [
    "print(r2_score(y_val, ftd.predict(X_val_new)))\n",
    "print(r2_score(y_val, figs.predict(X_val_new)))"
   ]
  },
  {
   "cell_type": "code",
   "execution_count": null,
   "id": "cc4bed8a-6cf7-4094-a9e2-21ac43fa731d",
   "metadata": {},
   "outputs": [],
   "source": [
    "print(r2_score(y_train, ftd.predict(X_train_new)))\n",
    "print(r2_score(y_train, figs.predict(X_train_new)))"
   ]
  },
  {
   "cell_type": "code",
   "execution_count": null,
   "id": "e7db73aa-4a37-4928-ac89-a09bec3d4653",
   "metadata": {},
   "outputs": [],
   "source": [
    "len(sorted(list(set(flat_figs_int))))"
   ]
  },
  {
   "cell_type": "code",
   "execution_count": null,
   "id": "f070c182-909f-4663-95bf-d5dd3f8c8a76",
   "metadata": {},
   "outputs": [],
   "source": [
    "len(sorted(list(set(flat_ftd_int))))"
   ]
  },
  {
   "cell_type": "code",
   "execution_count": null,
   "id": "0d931361-44ce-4839-883b-57cc43250391",
   "metadata": {},
   "outputs": [],
   "source": [
    "len(list(set(flat_figs_int + flat_ftd_int)))"
   ]
  },
  {
   "cell_type": "code",
   "execution_count": null,
   "id": "80779142-cac7-4f2f-82a5-5bef6cdc11bc",
   "metadata": {},
   "outputs": [],
   "source": [
    "set(flat_figs_int) - set.intersection(set(flat_figs_int), set(flat_ftd_int))"
   ]
  },
  {
   "cell_type": "code",
   "execution_count": null,
   "id": "cc6d4173-2b29-471c-b281-a86bf9c849ca",
   "metadata": {},
   "outputs": [],
   "source": [
    "'CNTR_DIST_region2',\n",
    " 'SPEC_FEAT_VAL_region3',\n",
    " 'SPEC_FEAT_VAL_region4',\n",
    " 'SUBCNTR_DI_region2',\n",
    " 'WATER_DIST_region1',\n",
    " 'avno60plus_0',\n",
    " 'structure_quality_4'"
   ]
  },
  {
   "cell_type": "code",
   "execution_count": null,
   "id": "f2f2104c-c047-479c-9e64-b426a0522b70",
   "metadata": {},
   "outputs": [],
   "source": [
    "len(set(flat_figs_int))"
   ]
  },
  {
   "cell_type": "code",
   "execution_count": null,
   "id": "ac890840-ab84-4f83-b28c-525a677bd155",
   "metadata": {},
   "outputs": [],
   "source": [
    "set.intersection(set(flat_figs_int), set(flat_ftd_int))"
   ]
  },
  {
   "cell_type": "code",
   "execution_count": null,
   "id": "080c21aa-2628-48ff-bab6-ad6ce2ff7a18",
   "metadata": {},
   "outputs": [],
   "source": [
    "import seaborn as sns\n",
    "\n",
    "corr = X_train_new.corr()\n",
    "\n",
    "# plot the heatmap\n",
    "sns.heatmap(corr)\n",
    "\n",
    "plt.title('Correlation Matrix of GMM BM miami_housing Dataset')\n",
    "plt.savefig('figs/corr.png', bbox_inches='tight')"
   ]
  },
  {
   "cell_type": "code",
   "execution_count": null,
   "id": "cf996de8-a8ff-4c3a-b11c-904cbf679eb3",
   "metadata": {},
   "outputs": [],
   "source": [
    "sns.heatmap(corr > 0.75)\n",
    "plt.title('Heatmap Correlation Matrix > 0.75 of GMM BM miami_housing Dataset')\n",
    "plt.savefig('figs/corr_0.75.png', bbox_inches='tight')"
   ]
  },
  {
   "cell_type": "code",
   "execution_count": null,
   "id": "9ffecd5c-8412-4827-a4ff-d542d13f982b",
   "metadata": {},
   "outputs": [],
   "source": [
    "corr = [(X_train_new.columns[t[0]], X_train_new.columns[t[1]]) for t in zip(np.where(corr > 0.5)[0], np.where(corr > 0.5)[1]) if t[0] != t[1]]"
   ]
  },
  {
   "cell_type": "code",
   "execution_count": null,
   "id": "78a3db82-bbec-4dd6-870b-1d5fc2e23c36",
   "metadata": {},
   "outputs": [],
   "source": [
    "corr = sorted(corr, key= lambda x: x[0])\n",
    "corr"
   ]
  },
  {
   "cell_type": "code",
   "execution_count": null,
   "id": "e2d8656d-ee88-4152-852a-bcd1fd91d19f",
   "metadata": {},
   "outputs": [],
   "source": [
    "np.where(abs(corr) > 0.6)[0]"
   ]
  },
  {
   "cell_type": "code",
   "execution_count": null,
   "id": "17eade09-c2df-4f3c-82f5-80ae4425f540",
   "metadata": {},
   "outputs": [],
   "source": [
    "import pyreadr\n",
    "\n",
    "result = pyreadr.read_r('/home/mattyshen/interpretableDistillation/interpretDistill/data/enhancer.Rdata') # also works for Rds\n",
    "\n",
    "# done! let's see what we got"
   ]
  },
  {
   "cell_type": "code",
   "execution_count": null,
   "id": "32e016da-3e9a-4f1c-b0da-ba15e4d5f892",
   "metadata": {},
   "outputs": [],
   "source": [
    "t = + 0\n",
    "for col in result['X']:\n",
    "    uv = result['X'][col].unique()\n",
    "    t += len(uv)\n",
    "    "
   ]
  },
  {
   "cell_type": "code",
   "execution_count": null,
   "id": "1cabe702-836e-4bc6-a86d-eef07b3e7f65",
   "metadata": {},
   "outputs": [],
   "source": [
    "result.keys()"
   ]
  },
  {
   "cell_type": "code",
   "execution_count": null,
   "id": "e02500ce-fda6-438c-a03b-eb7524b07513",
   "metadata": {},
   "outputs": [],
   "source": [
    "t"
   ]
  },
  {
   "cell_type": "code",
   "execution_count": null,
   "id": "f28a18c6-21c5-4e2c-a1a5-77e4beb684c0",
   "metadata": {},
   "outputs": [],
   "source": []
  }
 ],
 "metadata": {
  "kernelspec": {
   "display_name": "Python 3 (ipykernel)",
   "language": "python",
   "name": "python3"
  },
  "language_info": {
   "codemirror_mode": {
    "name": "ipython",
    "version": 3
   },
   "file_extension": ".py",
   "mimetype": "text/x-python",
   "name": "python",
   "nbconvert_exporter": "python",
   "pygments_lexer": "ipython3",
   "version": "3.9.12"
  }
 },
 "nbformat": 4,
 "nbformat_minor": 5
}
